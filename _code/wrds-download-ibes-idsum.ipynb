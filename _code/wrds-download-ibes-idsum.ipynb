{
 "cells": [
  {
   "cell_type": "markdown",
   "id": "a44aad9e-d13c-4a8d-966e-16e2ac12b798",
   "metadata": {},
   "source": [
    "## Download idsum from IBES via WRDS\n",
    "- Link for IBES at WRDS: https://wrds-www.wharton.upenn.edu/pages/get-data/ibes-thomson-reuters/"
   ]
  },
  {
   "cell_type": "markdown",
   "id": "eed9431c-85e8-4651-a33b-2be6e56579c7",
   "metadata": {},
   "source": [
    "-------------------------"
   ]
  },
  {
   "cell_type": "markdown",
   "id": "d4bfcf5c-c883-4ac1-839b-f2c76c0284cb",
   "metadata": {},
   "source": [
    "### Import libraries"
   ]
  },
  {
   "cell_type": "code",
   "execution_count": 1,
   "id": "9cff7b80-9b0c-4cd3-a11c-cf28f63842ff",
   "metadata": {},
   "outputs": [],
   "source": [
    "import pandas as pd\n",
    "import matplotlib.pyplot as plt\n",
    "import wrds"
   ]
  },
  {
   "cell_type": "markdown",
   "id": "432f2b4a-02a6-4c58-9e6a-ffda0615342f",
   "metadata": {},
   "source": [
    "### Connect WRDS"
   ]
  },
  {
   "cell_type": "code",
   "execution_count": 2,
   "id": "3df4e730-ca27-4c67-8d76-fb5ae5c90084",
   "metadata": {},
   "outputs": [
    {
     "name": "stdin",
     "output_type": "stream",
     "text": [
      "Enter your WRDS username [yjaey]: yjaeyoon\n",
      "Enter your password: ···············\n"
     ]
    },
    {
     "name": "stdout",
     "output_type": "stream",
     "text": [
      "WRDS recommends setting up a .pgpass file.\n"
     ]
    },
    {
     "name": "stdin",
     "output_type": "stream",
     "text": [
      "Create .pgpass file now [y/n]?:  y\n"
     ]
    },
    {
     "name": "stdout",
     "output_type": "stream",
     "text": [
      "Created .pgpass file successfully.\n",
      "Loading library list...\n",
      "Done\n"
     ]
    }
   ],
   "source": [
    "conn=wrds.Connection()"
   ]
  },
  {
   "cell_type": "code",
   "execution_count": 3,
   "id": "77efec2d-1b85-4255-87a4-c8dc92fec5a1",
   "metadata": {
    "scrolled": true,
    "tags": []
   },
   "outputs": [
    {
     "name": "stdout",
     "output_type": "stream",
     "text": [
      "194\n"
     ]
    },
    {
     "data": {
      "text/plain": [
       "['act_epsint',\n",
       " 'act_epsus',\n",
       " 'act_xepsint',\n",
       " 'act_xepsus',\n",
       " 'actg',\n",
       " 'actgu',\n",
       " 'actpsum_epsint',\n",
       " 'actpsum_epsus',\n",
       " 'actpsum_xepsint',\n",
       " 'actpsum_xepsus',\n",
       " 'actpsumu_epsint',\n",
       " 'actpsumu_epsus',\n",
       " 'actpsumu_xepsint',\n",
       " 'actpsumu_xepsus',\n",
       " 'actu_epsint',\n",
       " 'actu_epsus',\n",
       " 'actu_xepsint',\n",
       " 'actu_xepsus',\n",
       " 'adj',\n",
       " 'adjsum',\n",
       " 'cfnsum',\n",
       " 'curr',\n",
       " 'currnew',\n",
       " 'det_epsint',\n",
       " 'det_epsus',\n",
       " 'det_guidance',\n",
       " 'det_guidance_ext',\n",
       " 'det_xepsint',\n",
       " 'det_xepsus',\n",
       " 'detsecd_sepint',\n",
       " 'detsecd_xsepint',\n",
       " 'detu_epsint',\n",
       " 'detu_epsus',\n",
       " 'detu_xepsint',\n",
       " 'detu_xepsus',\n",
       " 'detusecd_sepint',\n",
       " 'detusecd_xsepint',\n",
       " 'eurx',\n",
       " 'exc_epsint',\n",
       " 'exc_epsus',\n",
       " 'exc_xepsint',\n",
       " 'exc_xepsus',\n",
       " 'excsecd_sepint',\n",
       " 'excsecd_xsepint',\n",
       " 'excu_epsint',\n",
       " 'excu_epsus',\n",
       " 'excu_xepsint',\n",
       " 'excu_xepsus',\n",
       " 'excusecd_sepint',\n",
       " 'excusecd_xsepint',\n",
       " 'glacct',\n",
       " 'glaction',\n",
       " 'glcode',\n",
       " 'glcountry',\n",
       " 'gldiff',\n",
       " 'glperiod',\n",
       " 'glrange',\n",
       " 'glunit',\n",
       " 'hdxrati',\n",
       " 'hsxrat',\n",
       " 'id',\n",
       " 'id_guidance',\n",
       " 'id_guidance_ext',\n",
       " 'idsum',\n",
       " 'igaact',\n",
       " 'igachg',\n",
       " 'igactryactdata',\n",
       " 'igactryestdata',\n",
       " 'igaebgdates',\n",
       " 'igaest',\n",
       " 'igaindactdata',\n",
       " 'igaindestdata',\n",
       " 'igainfo',\n",
       " 'igarussactdata',\n",
       " 'igarussestdata',\n",
       " 'igaspactdata',\n",
       " 'igaspestdata',\n",
       " 'igatopixactdata',\n",
       " 'igatopixestdata',\n",
       " 'nact_epsint',\n",
       " 'nact_epsus',\n",
       " 'nact_xepsint',\n",
       " 'nact_xepsus',\n",
       " 'nactg',\n",
       " 'nactgu',\n",
       " 'nactpsum_epsint',\n",
       " 'nactpsum_epsus',\n",
       " 'nactpsum_xepsint',\n",
       " 'nactpsum_xepsus',\n",
       " 'nactpsumu_epsint',\n",
       " 'nactpsumu_epsus',\n",
       " 'nactpsumu_xepsint',\n",
       " 'nactpsumu_xepsus',\n",
       " 'nactu_epsint',\n",
       " 'nactu_epsus',\n",
       " 'nactu_xepsint',\n",
       " 'nactu_xepsus',\n",
       " 'ncurr',\n",
       " 'ndet_epsint',\n",
       " 'ndet_epsus',\n",
       " 'ndet_xepsint',\n",
       " 'ndet_xepsus',\n",
       " 'ndetsecd_sepint',\n",
       " 'ndetsecd_xsepint',\n",
       " 'ndetu_epsint',\n",
       " 'ndetu_epsus',\n",
       " 'ndetu_xepsint',\n",
       " 'ndetu_xepsus',\n",
       " 'ndetusecd_sepint',\n",
       " 'ndetusecd_xsepint',\n",
       " 'newact',\n",
       " 'newactu',\n",
       " 'newnact',\n",
       " 'newnactu',\n",
       " 'nexc_epsint',\n",
       " 'nexc_epsus',\n",
       " 'nexc_xepsint',\n",
       " 'nexc_xepsus',\n",
       " 'nexcsecd_sepint',\n",
       " 'nexcsecd_xsepint',\n",
       " 'nexcu_epsint',\n",
       " 'nexcu_epsus',\n",
       " 'nexcu_xepsint',\n",
       " 'nexcu_xepsus',\n",
       " 'nexcusecd_sepint',\n",
       " 'nexcusecd_xsepint',\n",
       " 'nptgdet',\n",
       " 'nptgdetu',\n",
       " 'nptgsum',\n",
       " 'nptgsumu',\n",
       " 'nract_epsint',\n",
       " 'nract_epsus',\n",
       " 'nract_xepsint',\n",
       " 'nract_xepsus',\n",
       " 'nractu_epsint',\n",
       " 'nractu_epsus',\n",
       " 'nractu_xepsint',\n",
       " 'nractu_xepsus',\n",
       " 'nsecdssum',\n",
       " 'nsecdssumu',\n",
       " 'nstatsum_epsint',\n",
       " 'nstatsum_epsus',\n",
       " 'nstatsum_xepsint',\n",
       " 'nstatsum_xepsus',\n",
       " 'nstatsumu_epsint',\n",
       " 'nstatsumu_epsus',\n",
       " 'nstatsumu_xepsint',\n",
       " 'nstatsumu_xepsus',\n",
       " 'nsurpsum',\n",
       " 'nsurpsumu',\n",
       " 'pansum',\n",
       " 'ptgdet',\n",
       " 'ptgdetu',\n",
       " 'ptgsum',\n",
       " 'ptgsumu',\n",
       " 'ract_epsint',\n",
       " 'ract_epsus',\n",
       " 'ract_xepsint',\n",
       " 'ract_xepsus',\n",
       " 'ractu_epsint',\n",
       " 'ractu_epsus',\n",
       " 'ractu_xepsint',\n",
       " 'ractu_xepsus',\n",
       " 'recddet',\n",
       " 'recdid',\n",
       " 'recdidsum',\n",
       " 'recdstp',\n",
       " 'recdsum',\n",
       " 'secdrevm',\n",
       " 'secdssum',\n",
       " 'secdssumu',\n",
       " 'split_guidance',\n",
       " 'statsum_epsint',\n",
       " 'statsum_epsus',\n",
       " 'statsum_xepsint',\n",
       " 'statsum_xepsus',\n",
       " 'statsumu_epsint',\n",
       " 'statsumu_epsus',\n",
       " 'statsumu_xepsint',\n",
       " 'statsumu_xepsus',\n",
       " 'stop_epsint',\n",
       " 'stop_epsus',\n",
       " 'stop_xepsint',\n",
       " 'stop_xepsus',\n",
       " 'stopptg',\n",
       " 'stopsecd_sepint',\n",
       " 'stopsecd_xsepint',\n",
       " 'stopu_epsint',\n",
       " 'stopu_epsus',\n",
       " 'stopu_xepsint',\n",
       " 'stopu_xepsus',\n",
       " 'surpsum',\n",
       " 'surpsumu',\n",
       " 'trbc']"
      ]
     },
     "execution_count": 3,
     "metadata": {},
     "output_type": "execute_result"
    }
   ],
   "source": [
    "ibes= conn.list_tables(library='ibes')\n",
    "print(len(ibes))\n",
    "ibes"
   ]
  },
  {
   "cell_type": "markdown",
   "id": "bf740ba6-d00d-46a6-aa71-2be1df5174f2",
   "metadata": {},
   "source": [
    "### Download idsum from IBES"
   ]
  },
  {
   "cell_type": "code",
   "execution_count": 5,
   "id": "091c59a9-73e0-41b9-947c-643868953649",
   "metadata": {},
   "outputs": [
    {
     "name": "stdout",
     "output_type": "stream",
     "text": [
      "(248493, 14)\n"
     ]
    },
    {
     "data": {
      "text/html": [
       "<div>\n",
       "<style scoped>\n",
       "    .dataframe tbody tr th:only-of-type {\n",
       "        vertical-align: middle;\n",
       "    }\n",
       "\n",
       "    .dataframe tbody tr th {\n",
       "        vertical-align: top;\n",
       "    }\n",
       "\n",
       "    .dataframe thead th {\n",
       "        text-align: right;\n",
       "    }\n",
       "</style>\n",
       "<table border=\"1\" class=\"dataframe\">\n",
       "  <thead>\n",
       "    <tr style=\"text-align: right;\">\n",
       "      <th></th>\n",
       "      <th>ticker</th>\n",
       "      <th>cusip</th>\n",
       "      <th>oftic</th>\n",
       "      <th>cname</th>\n",
       "      <th>dilfac</th>\n",
       "      <th>pdi</th>\n",
       "      <th>ccopcf</th>\n",
       "      <th>tnthfac</th>\n",
       "      <th>instrmnt</th>\n",
       "      <th>exchcd</th>\n",
       "      <th>country</th>\n",
       "      <th>compflag</th>\n",
       "      <th>usfirm</th>\n",
       "      <th>sdates</th>\n",
       "    </tr>\n",
       "  </thead>\n",
       "  <tbody>\n",
       "    <tr>\n",
       "      <th>0</th>\n",
       "      <td>0000</td>\n",
       "      <td>87482X10</td>\n",
       "      <td>TLMR</td>\n",
       "      <td>TALMER BANCORP INC</td>\n",
       "      <td>1.0</td>\n",
       "      <td>P</td>\n",
       "      <td>None</td>\n",
       "      <td>0.0</td>\n",
       "      <td>S</td>\n",
       "      <td>F</td>\n",
       "      <td>NA</td>\n",
       "      <td>None</td>\n",
       "      <td>1.0</td>\n",
       "      <td>2014-02-20</td>\n",
       "    </tr>\n",
       "    <tr>\n",
       "      <th>1</th>\n",
       "      <td>0000</td>\n",
       "      <td>87482X10</td>\n",
       "      <td>TLMR</td>\n",
       "      <td>TALMER BANCORP INC</td>\n",
       "      <td>1.0</td>\n",
       "      <td>D</td>\n",
       "      <td>None</td>\n",
       "      <td>0.0</td>\n",
       "      <td>S</td>\n",
       "      <td>F</td>\n",
       "      <td>NA</td>\n",
       "      <td>None</td>\n",
       "      <td>1.0</td>\n",
       "      <td>2014-03-20</td>\n",
       "    </tr>\n",
       "  </tbody>\n",
       "</table>\n",
       "</div>"
      ],
      "text/plain": [
       "  ticker     cusip oftic               cname  dilfac pdi ccopcf  tnthfac  \\\n",
       "0   0000  87482X10  TLMR  TALMER BANCORP INC     1.0   P   None      0.0   \n",
       "1   0000  87482X10  TLMR  TALMER BANCORP INC     1.0   D   None      0.0   \n",
       "\n",
       "  instrmnt exchcd country compflag  usfirm      sdates  \n",
       "0        S      F      NA     None     1.0  2014-02-20  \n",
       "1        S      F      NA     None     1.0  2014-03-20  "
      ]
     },
     "execution_count": 5,
     "metadata": {},
     "output_type": "execute_result"
    }
   ],
   "source": [
    "df= conn.get_table(library='ibes', table='idsum')\n",
    "print(df.shape)\n",
    "df.head(2)"
   ]
  },
  {
   "cell_type": "markdown",
   "id": "6c0b5ff8-2dd2-468a-8d68-303bb282597c",
   "metadata": {},
   "source": [
    "------------------"
   ]
  },
  {
   "cell_type": "markdown",
   "id": "5b017ce2-baed-4e53-9397-c581b86aaba3",
   "metadata": {},
   "source": [
    "### Inspection"
   ]
  },
  {
   "cell_type": "code",
   "execution_count": 7,
   "id": "cd1285b9-7bd3-4219-b856-00236098474f",
   "metadata": {},
   "outputs": [
    {
     "data": {
      "text/plain": [
       "ticker       73574\n",
       "cusip       101210\n",
       "oftic        70912\n",
       "cname       124074\n",
       "dilfac         523\n",
       "pdi              2\n",
       "ccopcf           2\n",
       "tnthfac          2\n",
       "instrmnt        13\n",
       "exchcd          30\n",
       "country        114\n",
       "compflag         0\n",
       "usfirm           2\n",
       "sdates         572\n",
       "dtype: int64"
      ]
     },
     "execution_count": 7,
     "metadata": {},
     "output_type": "execute_result"
    }
   ],
   "source": [
    "df.nunique()"
   ]
  },
  {
   "cell_type": "code",
   "execution_count": 8,
   "id": "d4056250-18c1-4cfa-9c2d-d6f9bb9ac199",
   "metadata": {},
   "outputs": [
    {
     "data": {
      "text/plain": [
       "P    172797\n",
       "D     75696\n",
       "Name: pdi, dtype: int64"
      ]
     },
     "execution_count": 8,
     "metadata": {},
     "output_type": "execute_result"
    }
   ],
   "source": [
    "df.pdi.value_counts()"
   ]
  },
  {
   "cell_type": "code",
   "execution_count": 9,
   "id": "970b6f4b-114f-452b-8fac-bb2445f9daf8",
   "metadata": {},
   "outputs": [
    {
     "data": {
      "text/plain": [
       "0.0    159530\n",
       "1.0     88963\n",
       "Name: usfirm, dtype: int64"
      ]
     },
     "execution_count": 9,
     "metadata": {},
     "output_type": "execute_result"
    }
   ],
   "source": [
    "df.usfirm.value_counts()"
   ]
  },
  {
   "cell_type": "markdown",
   "id": "374d581b-a20f-40f9-bba5-3664485f3eef",
   "metadata": {},
   "source": [
    "---------------------"
   ]
  },
  {
   "cell_type": "markdown",
   "id": "a6186f7a-a4ae-4ab3-8572-fbe27a2f2571",
   "metadata": {},
   "source": [
    "### Keep US firms only"
   ]
  },
  {
   "cell_type": "code",
   "execution_count": 10,
   "id": "fab801d1-3a7a-4c27-9dda-ba8af4f2d844",
   "metadata": {},
   "outputs": [
    {
     "data": {
      "text/html": [
       "<div>\n",
       "<style scoped>\n",
       "    .dataframe tbody tr th:only-of-type {\n",
       "        vertical-align: middle;\n",
       "    }\n",
       "\n",
       "    .dataframe tbody tr th {\n",
       "        vertical-align: top;\n",
       "    }\n",
       "\n",
       "    .dataframe thead th {\n",
       "        text-align: right;\n",
       "    }\n",
       "</style>\n",
       "<table border=\"1\" class=\"dataframe\">\n",
       "  <thead>\n",
       "    <tr style=\"text-align: right;\">\n",
       "      <th></th>\n",
       "      <th>ticker</th>\n",
       "      <th>cusip</th>\n",
       "      <th>oftic</th>\n",
       "      <th>cname</th>\n",
       "      <th>dilfac</th>\n",
       "      <th>pdi</th>\n",
       "      <th>ccopcf</th>\n",
       "      <th>tnthfac</th>\n",
       "      <th>instrmnt</th>\n",
       "      <th>exchcd</th>\n",
       "      <th>country</th>\n",
       "      <th>compflag</th>\n",
       "      <th>sdates</th>\n",
       "    </tr>\n",
       "  </thead>\n",
       "  <tbody>\n",
       "    <tr>\n",
       "      <th>0</th>\n",
       "      <td>0000</td>\n",
       "      <td>87482X10</td>\n",
       "      <td>TLMR</td>\n",
       "      <td>TALMER BANCORP INC</td>\n",
       "      <td>1.0</td>\n",
       "      <td>P</td>\n",
       "      <td>None</td>\n",
       "      <td>0.0</td>\n",
       "      <td>S</td>\n",
       "      <td>F</td>\n",
       "      <td>NA</td>\n",
       "      <td>None</td>\n",
       "      <td>2014-02-20</td>\n",
       "    </tr>\n",
       "    <tr>\n",
       "      <th>1</th>\n",
       "      <td>0000</td>\n",
       "      <td>87482X10</td>\n",
       "      <td>TLMR</td>\n",
       "      <td>TALMER BANCORP INC</td>\n",
       "      <td>1.0</td>\n",
       "      <td>D</td>\n",
       "      <td>None</td>\n",
       "      <td>0.0</td>\n",
       "      <td>S</td>\n",
       "      <td>F</td>\n",
       "      <td>NA</td>\n",
       "      <td>None</td>\n",
       "      <td>2014-03-20</td>\n",
       "    </tr>\n",
       "  </tbody>\n",
       "</table>\n",
       "</div>"
      ],
      "text/plain": [
       "  ticker     cusip oftic               cname  dilfac pdi ccopcf  tnthfac  \\\n",
       "0   0000  87482X10  TLMR  TALMER BANCORP INC     1.0   P   None      0.0   \n",
       "1   0000  87482X10  TLMR  TALMER BANCORP INC     1.0   D   None      0.0   \n",
       "\n",
       "  instrmnt exchcd country compflag      sdates  \n",
       "0        S      F      NA     None  2014-02-20  \n",
       "1        S      F      NA     None  2014-03-20  "
      ]
     },
     "execution_count": 10,
     "metadata": {},
     "output_type": "execute_result"
    }
   ],
   "source": [
    "df=df[df.usfirm==1].drop(columns='usfirm')\n",
    "df.shape\n",
    "df.head(2)"
   ]
  },
  {
   "cell_type": "markdown",
   "id": "453113b3-a18a-46ec-b076-1f4f1b80e3c7",
   "metadata": {},
   "source": [
    "------------------"
   ]
  },
  {
   "cell_type": "markdown",
   "id": "47f4e94b-cef0-41e8-a385-6c4df470776b",
   "metadata": {},
   "source": [
    "### Inspection again"
   ]
  },
  {
   "cell_type": "code",
   "execution_count": 11,
   "id": "2f11aa10-f22a-4e22-a8fd-e08214ae22c4",
   "metadata": {},
   "outputs": [
    {
     "data": {
      "text/plain": [
       "ticker      21851\n",
       "cusip       32943\n",
       "oftic       29316\n",
       "cname       37117\n",
       "dilfac        479\n",
       "pdi             2\n",
       "ccopcf          1\n",
       "tnthfac         2\n",
       "instrmnt       12\n",
       "exchcd         21\n",
       "country        66\n",
       "compflag        0\n",
       "sdates        566\n",
       "dtype: int64"
      ]
     },
     "execution_count": 11,
     "metadata": {},
     "output_type": "execute_result"
    }
   ],
   "source": [
    "df.nunique()"
   ]
  },
  {
   "cell_type": "code",
   "execution_count": 12,
   "id": "6b120eba-4875-4934-b2f4-03e3a752015d",
   "metadata": {},
   "outputs": [
    {
     "data": {
      "text/plain": [
       "D    53829\n",
       "P    35134\n",
       "Name: pdi, dtype: int64"
      ]
     },
     "execution_count": 12,
     "metadata": {},
     "output_type": "execute_result"
    }
   ],
   "source": [
    "df.pdi.value_counts()"
   ]
  },
  {
   "cell_type": "code",
   "execution_count": 14,
   "id": "b228ac53-2c31-410d-a228-8f8db84a011f",
   "metadata": {},
   "outputs": [
    {
     "data": {
      "text/plain": [
       "F    27601\n",
       "A    23482\n",
       "U    17478\n",
       "H     6057\n",
       "B     4549\n",
       "X     4060\n",
       "S     3771\n",
       "G     1153\n",
       "J      464\n",
       "0      124\n",
       "E       95\n",
       "C       42\n",
       "I       26\n",
       "T       21\n",
       "D       15\n",
       "O        9\n",
       "V        8\n",
       "L        3\n",
       "K        3\n",
       "N        1\n",
       "Y        1\n",
       "Name: exchcd, dtype: int64"
      ]
     },
     "execution_count": 14,
     "metadata": {},
     "output_type": "execute_result"
    }
   ],
   "source": [
    "df.exchcd.value_counts()"
   ]
  },
  {
   "cell_type": "code",
   "execution_count": 15,
   "id": "e523881b-2b95-4eef-b32b-ee4479bf81da",
   "metadata": {},
   "outputs": [
    {
     "data": {
      "text/plain": [
       "NA    75769\n",
       "NC     2474\n",
       "EX     1587\n",
       "FJ      799\n",
       "FC      662\n",
       "      ...  \n",
       "EC        2\n",
       "DC        2\n",
       "FR        1\n",
       "NP        1\n",
       "MD        1\n",
       "Name: country, Length: 66, dtype: int64"
      ]
     },
     "execution_count": 15,
     "metadata": {},
     "output_type": "execute_result"
    }
   ],
   "source": [
    "df.country.value_counts()"
   ]
  },
  {
   "cell_type": "markdown",
   "id": "f030e0d7-0dba-4207-b1de-41f38e51db67",
   "metadata": {},
   "source": [
    "-----------"
   ]
  },
  {
   "cell_type": "markdown",
   "id": "5763c239-d8e5-405b-a75a-bae2db78330a",
   "metadata": {},
   "source": [
    "### Save to .csv"
   ]
  },
  {
   "cell_type": "code",
   "execution_count": 16,
   "id": "9d06fe4f-9705-4795-87e0-acd3a85e1dcb",
   "metadata": {},
   "outputs": [],
   "source": [
    "# df.to_csv(\"data/ibes_idsum.csv\", index= None)"
   ]
  },
  {
   "cell_type": "markdown",
   "id": "3b95792b-8834-4a5c-990f-61404d19d466",
   "metadata": {},
   "source": [
    "### Close connection"
   ]
  },
  {
   "cell_type": "code",
   "execution_count": 17,
   "id": "0dcdca25-d8b5-4076-9be9-91dbe8a5127a",
   "metadata": {},
   "outputs": [],
   "source": [
    "conn.close()"
   ]
  },
  {
   "cell_type": "markdown",
   "id": "867ba998-bfc9-437a-ab7c-7b31a28710c3",
   "metadata": {},
   "source": [
    "---------"
   ]
  }
 ],
 "metadata": {
  "kernelspec": {
   "display_name": "sec",
   "language": "python",
   "name": "sec"
  },
  "language_info": {
   "codemirror_mode": {
    "name": "ipython",
    "version": 3
   },
   "file_extension": ".py",
   "mimetype": "text/x-python",
   "name": "python",
   "nbconvert_exporter": "python",
   "pygments_lexer": "ipython3",
   "version": "3.8.8"
  },
  "widgets": {
   "application/vnd.jupyter.widget-state+json": {
    "state": {},
    "version_major": 2,
    "version_minor": 0
   }
  }
 },
 "nbformat": 4,
 "nbformat_minor": 5
}
