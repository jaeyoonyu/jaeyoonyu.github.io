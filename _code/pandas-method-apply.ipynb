{
 "cells": [
  {
   "cell_type": "markdown",
   "id": "9615b845-45a0-4c04-8f14-6fbcf0d1c666",
   "metadata": {},
   "source": [
    "# Usage of DataFrame.apply()\n",
    "- The apply() method allows you to apply a function along one of the axis of the DataFrame, default 0, which is the index (row) axis. \n",
    "- Syntax: <code>dataframe.apply(func, axis, raw, result_type, args, kwds)</code>\n",
    "- Description from [w3school](https://www.w3schools.com/python/pandas/ref_df_apply.asp)"
   ]
  },
  {
   "cell_type": "markdown",
   "id": "5136f9a2-a886-448a-a8ab-2f4662310b6a",
   "metadata": {},
   "source": [
    "------"
   ]
  },
  {
   "cell_type": "code",
   "execution_count": 1,
   "id": "e58c67d3-c6cb-4045-90ef-5dd3490b7434",
   "metadata": {},
   "outputs": [],
   "source": [
    "import pandas as pd\n",
    "import numpy as np"
   ]
  },
  {
   "cell_type": "code",
   "execution_count": 2,
   "id": "ce6b2e57-3f83-4049-8ca0-9e8c701d9a73",
   "metadata": {},
   "outputs": [
    {
     "data": {
      "text/html": [
       "<div>\n",
       "<style scoped>\n",
       "    .dataframe tbody tr th:only-of-type {\n",
       "        vertical-align: middle;\n",
       "    }\n",
       "\n",
       "    .dataframe tbody tr th {\n",
       "        vertical-align: top;\n",
       "    }\n",
       "\n",
       "    .dataframe thead th {\n",
       "        text-align: right;\n",
       "    }\n",
       "</style>\n",
       "<table border=\"1\" class=\"dataframe\">\n",
       "  <thead>\n",
       "    <tr style=\"text-align: right;\">\n",
       "      <th></th>\n",
       "      <th>apple</th>\n",
       "      <th>orange</th>\n",
       "    </tr>\n",
       "  </thead>\n",
       "  <tbody>\n",
       "    <tr>\n",
       "      <th>0</th>\n",
       "      <td>50</td>\n",
       "      <td>300</td>\n",
       "    </tr>\n",
       "    <tr>\n",
       "      <th>1</th>\n",
       "      <td>40</td>\n",
       "      <td>1112</td>\n",
       "    </tr>\n",
       "    <tr>\n",
       "      <th>2</th>\n",
       "      <td>30</td>\n",
       "      <td>42</td>\n",
       "    </tr>\n",
       "  </tbody>\n",
       "</table>\n",
       "</div>"
      ],
      "text/plain": [
       "   apple  orange\n",
       "0     50     300\n",
       "1     40    1112\n",
       "2     30      42"
      ]
     },
     "execution_count": 2,
     "metadata": {},
     "output_type": "execute_result"
    }
   ],
   "source": [
    "data = {\n",
    "  \"apple\": [50, 40, 30],\n",
    "  \"orange\": [300, 1112, 42]\n",
    "}\n",
    "\n",
    "df = pd.DataFrame(data)\n",
    "df.head()"
   ]
  },
  {
   "cell_type": "markdown",
   "id": "0413a1a8-d5f7-4446-af97-d75e65309732",
   "metadata": {},
   "source": [
    "### Sum across rows for each column"
   ]
  },
  {
   "cell_type": "code",
   "execution_count": 3,
   "id": "d43c978e-ff6b-4ffd-87a2-d2746fad5301",
   "metadata": {},
   "outputs": [
    {
     "data": {
      "text/plain": [
       "apple      120\n",
       "orange    1454\n",
       "dtype: int64"
      ]
     },
     "execution_count": 3,
     "metadata": {},
     "output_type": "execute_result"
    }
   ],
   "source": [
    "df.apply(np.sum, axis= 0)"
   ]
  },
  {
   "cell_type": "markdown",
   "id": "b9a88ac4-e6c3-4210-964a-d013f19fe100",
   "metadata": {},
   "source": [
    "### Sum accross columns for each row"
   ]
  },
  {
   "cell_type": "code",
   "execution_count": 4,
   "id": "cf8fe52a-e9e1-481e-87a5-224c9d460ac2",
   "metadata": {},
   "outputs": [
    {
     "data": {
      "text/plain": [
       "0     350\n",
       "1    1152\n",
       "2      72\n",
       "dtype: int64"
      ]
     },
     "execution_count": 4,
     "metadata": {},
     "output_type": "execute_result"
    }
   ],
   "source": [
    "df.apply(np.sum, axis= 1)"
   ]
  },
  {
   "cell_type": "markdown",
   "id": "65175610-4588-4ecf-a673-c7804d25de40",
   "metadata": {},
   "source": [
    "### Sum accross columns for each row, then add it as a new column"
   ]
  },
  {
   "cell_type": "code",
   "execution_count": 5,
   "id": "88295347-a40c-4283-b550-5ac0e9075b45",
   "metadata": {},
   "outputs": [
    {
     "data": {
      "text/html": [
       "<div>\n",
       "<style scoped>\n",
       "    .dataframe tbody tr th:only-of-type {\n",
       "        vertical-align: middle;\n",
       "    }\n",
       "\n",
       "    .dataframe tbody tr th {\n",
       "        vertical-align: top;\n",
       "    }\n",
       "\n",
       "    .dataframe thead th {\n",
       "        text-align: right;\n",
       "    }\n",
       "</style>\n",
       "<table border=\"1\" class=\"dataframe\">\n",
       "  <thead>\n",
       "    <tr style=\"text-align: right;\">\n",
       "      <th></th>\n",
       "      <th>apple</th>\n",
       "      <th>orange</th>\n",
       "      <th>sum</th>\n",
       "    </tr>\n",
       "  </thead>\n",
       "  <tbody>\n",
       "    <tr>\n",
       "      <th>0</th>\n",
       "      <td>50</td>\n",
       "      <td>300</td>\n",
       "      <td>350</td>\n",
       "    </tr>\n",
       "    <tr>\n",
       "      <th>1</th>\n",
       "      <td>40</td>\n",
       "      <td>1112</td>\n",
       "      <td>1152</td>\n",
       "    </tr>\n",
       "    <tr>\n",
       "      <th>2</th>\n",
       "      <td>30</td>\n",
       "      <td>42</td>\n",
       "      <td>72</td>\n",
       "    </tr>\n",
       "  </tbody>\n",
       "</table>\n",
       "</div>"
      ],
      "text/plain": [
       "   apple  orange   sum\n",
       "0     50     300   350\n",
       "1     40    1112  1152\n",
       "2     30      42    72"
      ]
     },
     "execution_count": 5,
     "metadata": {},
     "output_type": "execute_result"
    }
   ],
   "source": [
    "df['sum']= df.apply(np.sum, axis= 1)\n",
    "df"
   ]
  },
  {
   "cell_type": "markdown",
   "id": "615c50eb-b695-4f79-a4b3-39cb3e8b1852",
   "metadata": {},
   "source": [
    "-----------"
   ]
  }
 ],
 "metadata": {
  "kernelspec": {
   "display_name": "sec",
   "language": "python",
   "name": "sec"
  },
  "language_info": {
   "codemirror_mode": {
    "name": "ipython",
    "version": 3
   },
   "file_extension": ".py",
   "mimetype": "text/x-python",
   "name": "python",
   "nbconvert_exporter": "python",
   "pygments_lexer": "ipython3",
   "version": "3.8.8"
  },
  "widgets": {
   "application/vnd.jupyter.widget-state+json": {
    "state": {},
    "version_major": 2,
    "version_minor": 0
   }
  }
 },
 "nbformat": 4,
 "nbformat_minor": 5
}
