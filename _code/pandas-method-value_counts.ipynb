{
 "cells": [
  {
   "cell_type": "markdown",
   "id": "ca09786e-ea88-42d1-b9ce-e4e352144bc4",
   "metadata": {},
   "source": [
    "# Usage of DataFrame.value_counts()\n",
    "- Return a Series containing counts of unique values.\n",
    "- The resulting object will be in descending order so that the first element is the most frequently-occurring element. Excludes NA values by default.\n",
    "- Syntax: <code>DataFrame.value_counts(subset=None, normalize=False, sort=True, ascending=False, dropna=True)</code>\n",
    "- Description from [Pandas doc](https://pandas.pydata.org/docs/reference/api/pandas.DataFrame.value_counts.html)"
   ]
  },
  {
   "cell_type": "markdown",
   "id": "1bc067dc-46d0-4706-9507-26f43446552d",
   "metadata": {},
   "source": [
    "------"
   ]
  },
  {
   "cell_type": "code",
   "execution_count": 1,
   "id": "5ea62e17-32ac-4a61-9bc5-1917a32fdadb",
   "metadata": {},
   "outputs": [],
   "source": [
    "import pandas as pd\n",
    "import numpy as np\n",
    "import matplotlib.pyplot as plt"
   ]
  },
  {
   "cell_type": "code",
   "execution_count": 2,
   "id": "8694f3a6-65ef-4b7d-9411-ab2ad8d69a68",
   "metadata": {},
   "outputs": [
    {
     "data": {
      "text/html": [
       "<div>\n",
       "<style scoped>\n",
       "    .dataframe tbody tr th:only-of-type {\n",
       "        vertical-align: middle;\n",
       "    }\n",
       "\n",
       "    .dataframe tbody tr th {\n",
       "        vertical-align: top;\n",
       "    }\n",
       "\n",
       "    .dataframe thead th {\n",
       "        text-align: right;\n",
       "    }\n",
       "</style>\n",
       "<table border=\"1\" class=\"dataframe\">\n",
       "  <thead>\n",
       "    <tr style=\"text-align: right;\">\n",
       "      <th></th>\n",
       "      <th>grade</th>\n",
       "    </tr>\n",
       "  </thead>\n",
       "  <tbody>\n",
       "    <tr>\n",
       "      <th>A</th>\n",
       "      <td>80.0</td>\n",
       "    </tr>\n",
       "    <tr>\n",
       "      <th>B</th>\n",
       "      <td>80.0</td>\n",
       "    </tr>\n",
       "    <tr>\n",
       "      <th>C</th>\n",
       "      <td>90.0</td>\n",
       "    </tr>\n",
       "    <tr>\n",
       "      <th>D</th>\n",
       "      <td>90.0</td>\n",
       "    </tr>\n",
       "    <tr>\n",
       "      <th>E</th>\n",
       "      <td>NaN</td>\n",
       "    </tr>\n",
       "  </tbody>\n",
       "</table>\n",
       "</div>"
      ],
      "text/plain": [
       "   grade\n",
       "A   80.0\n",
       "B   80.0\n",
       "C   90.0\n",
       "D   90.0\n",
       "E    NaN"
      ]
     },
     "execution_count": 2,
     "metadata": {},
     "output_type": "execute_result"
    }
   ],
   "source": [
    "df = pd.DataFrame({'grade': [80, 80, 90, 90, np.NaN, np.NaN, np.NaN, np.NaN, 85]},\n",
    "                  index=['A', 'B', 'C', 'D', 'E', 'F', 'G','H', 'I'])\n",
    "df.head()"
   ]
  },
  {
   "cell_type": "markdown",
   "id": "9bfebb63-5cb7-43f6-b4f0-75e8ba0257fd",
   "metadata": {},
   "source": [
    "### After dropping NaN values"
   ]
  },
  {
   "cell_type": "code",
   "execution_count": 3,
   "id": "b621dac8-589e-4e3c-bd27-714fdc2c5ab8",
   "metadata": {},
   "outputs": [
    {
     "data": {
      "text/plain": [
       "grade\n",
       "80.0     2\n",
       "90.0     2\n",
       "85.0     1\n",
       "dtype: int64"
      ]
     },
     "execution_count": 3,
     "metadata": {},
     "output_type": "execute_result"
    }
   ],
   "source": [
    "df.value_counts()"
   ]
  },
  {
   "cell_type": "markdown",
   "id": "39c2e1c8-4a8e-40fa-a3aa-99153f2047eb",
   "metadata": {},
   "source": [
    "### Without dropping NaN values"
   ]
  },
  {
   "cell_type": "code",
   "execution_count": 4,
   "id": "8e3cca54-dc52-41c7-be1d-9e15d711f891",
   "metadata": {},
   "outputs": [
    {
     "data": {
      "text/plain": [
       "grade\n",
       "NaN      4\n",
       "80.0     2\n",
       "90.0     2\n",
       "85.0     1\n",
       "dtype: int64"
      ]
     },
     "execution_count": 4,
     "metadata": {},
     "output_type": "execute_result"
    }
   ],
   "source": [
    "df.value_counts(dropna=False)"
   ]
  },
  {
   "cell_type": "markdown",
   "id": "cccbe7fd-c94e-4382-8017-9a712ba99885",
   "metadata": {},
   "source": [
    "<em>Often times, we need to include missing values in the distribution.</em>"
   ]
  },
  {
   "cell_type": "markdown",
   "id": "ab9ffaba-c5e5-43bf-a856-f590507ff688",
   "metadata": {},
   "source": [
    "### Use a bar graph to visualize "
   ]
  },
  {
   "cell_type": "code",
   "execution_count": 5,
   "id": "49f9e9fa-2ecd-449b-9306-8fe3569a6e50",
   "metadata": {},
   "outputs": [
    {
     "data": {
      "text/plain": [
       "<AxesSubplot:xlabel='grade'>"
      ]
     },
     "execution_count": 5,
     "metadata": {},
     "output_type": "execute_result"
    },
    {
     "data": {
      "image/png": "[encoded data removed]",
      "text/plain": [
       "<Figure size 432x288 with 1 Axes>"
      ]
     },
     "metadata": {
      "needs_background": "light"
     },
     "output_type": "display_data"
    }
   ],
   "source": [
    "df.value_counts(dropna=False).plot(kind='bar')"
   ]
  },
  {
   "cell_type": "markdown",
   "id": "8fe1ae77-c9d0-460b-a4af-d0fe2dc153d6",
   "metadata": {},
   "source": [
    "-----------"
   ]
  }
 ],
 "metadata": {
  "kernelspec": {
   "display_name": "sec",
   "language": "python",
   "name": "sec"
  },
  "language_info": {
   "codemirror_mode": {
    "name": "ipython",
    "version": 3
   },
   "file_extension": ".py",
   "mimetype": "text/x-python",
   "name": "python",
   "nbconvert_exporter": "python",
   "pygments_lexer": "ipython3",
   "version": "3.8.8"
  },
  "widgets": {
   "application/vnd.jupyter.widget-state+json": {
    "state": {},
    "version_major": 2,
    "version_minor": 0
   }
  }
 },
 "nbformat": 4,
 "nbformat_minor": 5
}
