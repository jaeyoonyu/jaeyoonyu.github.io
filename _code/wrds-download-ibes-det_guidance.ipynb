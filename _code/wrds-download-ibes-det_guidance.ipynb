{
 "cells": [
  {
   "cell_type": "markdown",
   "id": "4633cce5-ba97-4631-bce1-fbb65c5dea66",
   "metadata": {},
   "source": [
    "## Download det_guidance (management guidance) via WRDS\n",
    "- Link for det_guidance at WRDS: https://wrds-www.wharton.upenn.edu/pages/get-data/ibes-thomson-reuters/ibes-guidance/detail-history/detail/"
   ]
  },
  {
   "cell_type": "markdown",
   "id": "eed9431c-85e8-4651-a33b-2be6e56579c7",
   "metadata": {},
   "source": [
    "-------------------------"
   ]
  },
  {
   "cell_type": "markdown",
   "id": "d4bfcf5c-c883-4ac1-839b-f2c76c0284cb",
   "metadata": {},
   "source": [
    "### Import libraries"
   ]
  },
  {
   "cell_type": "code",
   "execution_count": 1,
   "id": "9cff7b80-9b0c-4cd3-a11c-cf28f63842ff",
   "metadata": {},
   "outputs": [],
   "source": [
    "import pandas as pd\n",
    "import matplotlib.pyplot as plt\n",
    "import wrds\n",
    "pd.set_option('display.max_columns', None)"
   ]
  },
  {
   "cell_type": "markdown",
   "id": "432f2b4a-02a6-4c58-9e6a-ffda0615342f",
   "metadata": {},
   "source": [
    "### Connect WRDS"
   ]
  },
  {
   "cell_type": "code",
   "execution_count": 2,
   "id": "3df4e730-ca27-4c67-8d76-fb5ae5c90084",
   "metadata": {},
   "outputs": [
    {
     "name": "stdin",
     "output_type": "stream",
     "text": [
      "Enter your WRDS username [yjaey]: yjaeyoon\n",
      "Enter your password: ···············\n"
     ]
    },
    {
     "name": "stdout",
     "output_type": "stream",
     "text": [
      "WRDS recommends setting up a .pgpass file.\n"
     ]
    },
    {
     "name": "stdin",
     "output_type": "stream",
     "text": [
      "Create .pgpass file now [y/n]?:  y\n"
     ]
    },
    {
     "name": "stdout",
     "output_type": "stream",
     "text": [
      "Created .pgpass file successfully.\n",
      "Loading library list...\n",
      "Done\n"
     ]
    }
   ],
   "source": [
    "conn=wrds.Connection()"
   ]
  },
  {
   "cell_type": "markdown",
   "id": "8d6d467f-9161-4457-a40c-724b4816eb43",
   "metadata": {},
   "source": [
    "---------------------------"
   ]
  },
  {
   "cell_type": "markdown",
   "id": "8608134e-a8f4-4eae-9a67-267d7d6ab90a",
   "metadata": {},
   "source": [
    "### Check det_guidance"
   ]
  },
  {
   "cell_type": "code",
   "execution_count": 3,
   "id": "0408176e-0408-45fe-bebf-232a258f38fc",
   "metadata": {},
   "outputs": [
    {
     "name": "stdout",
     "output_type": "stream",
     "text": [
      "Approximately 1580746 rows in ibes.det_guidance.\n"
     ]
    },
    {
     "data": {
      "text/html": [
       "<div>\n",
       "<style scoped>\n",
       "    .dataframe tbody tr th:only-of-type {\n",
       "        vertical-align: middle;\n",
       "    }\n",
       "\n",
       "    .dataframe tbody tr th {\n",
       "        vertical-align: top;\n",
       "    }\n",
       "\n",
       "    .dataframe thead th {\n",
       "        text-align: right;\n",
       "    }\n",
       "</style>\n",
       "<table border=\"1\" class=\"dataframe\">\n",
       "  <thead>\n",
       "    <tr style=\"text-align: right;\">\n",
       "      <th></th>\n",
       "      <th>name</th>\n",
       "      <th>nullable</th>\n",
       "      <th>type</th>\n",
       "    </tr>\n",
       "  </thead>\n",
       "  <tbody>\n",
       "    <tr>\n",
       "      <th>0</th>\n",
       "      <td>ticker</td>\n",
       "      <td>True</td>\n",
       "      <td>VARCHAR</td>\n",
       "    </tr>\n",
       "    <tr>\n",
       "      <th>1</th>\n",
       "      <td>pdicity</td>\n",
       "      <td>True</td>\n",
       "      <td>VARCHAR</td>\n",
       "    </tr>\n",
       "    <tr>\n",
       "      <th>2</th>\n",
       "      <td>measure</td>\n",
       "      <td>True</td>\n",
       "      <td>VARCHAR</td>\n",
       "    </tr>\n",
       "    <tr>\n",
       "      <th>3</th>\n",
       "      <td>curr</td>\n",
       "      <td>True</td>\n",
       "      <td>VARCHAR</td>\n",
       "    </tr>\n",
       "    <tr>\n",
       "      <th>4</th>\n",
       "      <td>units</td>\n",
       "      <td>True</td>\n",
       "      <td>VARCHAR</td>\n",
       "    </tr>\n",
       "    <tr>\n",
       "      <th>5</th>\n",
       "      <td>range_desc</td>\n",
       "      <td>True</td>\n",
       "      <td>VARCHAR</td>\n",
       "    </tr>\n",
       "    <tr>\n",
       "      <th>6</th>\n",
       "      <td>diff_code</td>\n",
       "      <td>True</td>\n",
       "      <td>VARCHAR</td>\n",
       "    </tr>\n",
       "    <tr>\n",
       "      <th>7</th>\n",
       "      <td>act_std</td>\n",
       "      <td>True</td>\n",
       "      <td>VARCHAR</td>\n",
       "    </tr>\n",
       "    <tr>\n",
       "      <th>8</th>\n",
       "      <td>action</td>\n",
       "      <td>True</td>\n",
       "      <td>VARCHAR</td>\n",
       "    </tr>\n",
       "    <tr>\n",
       "      <th>9</th>\n",
       "      <td>guidance_code</td>\n",
       "      <td>True</td>\n",
       "      <td>VARCHAR</td>\n",
       "    </tr>\n",
       "    <tr>\n",
       "      <th>10</th>\n",
       "      <td>actdats</td>\n",
       "      <td>True</td>\n",
       "      <td>DATE</td>\n",
       "    </tr>\n",
       "    <tr>\n",
       "      <th>11</th>\n",
       "      <td>anndats</td>\n",
       "      <td>True</td>\n",
       "      <td>DATE</td>\n",
       "    </tr>\n",
       "    <tr>\n",
       "      <th>12</th>\n",
       "      <td>mod_date</td>\n",
       "      <td>True</td>\n",
       "      <td>DATE</td>\n",
       "    </tr>\n",
       "    <tr>\n",
       "      <th>13</th>\n",
       "      <td>acttims</td>\n",
       "      <td>True</td>\n",
       "      <td>DOUBLE_PRECISION</td>\n",
       "    </tr>\n",
       "    <tr>\n",
       "      <th>14</th>\n",
       "      <td>anntims</td>\n",
       "      <td>True</td>\n",
       "      <td>DOUBLE_PRECISION</td>\n",
       "    </tr>\n",
       "    <tr>\n",
       "      <th>15</th>\n",
       "      <td>mod_time</td>\n",
       "      <td>True</td>\n",
       "      <td>DOUBLE_PRECISION</td>\n",
       "    </tr>\n",
       "    <tr>\n",
       "      <th>16</th>\n",
       "      <td>prd_yr</td>\n",
       "      <td>True</td>\n",
       "      <td>DOUBLE_PRECISION</td>\n",
       "    </tr>\n",
       "    <tr>\n",
       "      <th>17</th>\n",
       "      <td>prd_mon</td>\n",
       "      <td>True</td>\n",
       "      <td>DOUBLE_PRECISION</td>\n",
       "    </tr>\n",
       "    <tr>\n",
       "      <th>18</th>\n",
       "      <td>eefymo</td>\n",
       "      <td>True</td>\n",
       "      <td>DOUBLE_PRECISION</td>\n",
       "    </tr>\n",
       "    <tr>\n",
       "      <th>19</th>\n",
       "      <td>val_1</td>\n",
       "      <td>True</td>\n",
       "      <td>DOUBLE_PRECISION</td>\n",
       "    </tr>\n",
       "    <tr>\n",
       "      <th>20</th>\n",
       "      <td>val_2</td>\n",
       "      <td>True</td>\n",
       "      <td>DOUBLE_PRECISION</td>\n",
       "    </tr>\n",
       "    <tr>\n",
       "      <th>21</th>\n",
       "      <td>mean_at_date</td>\n",
       "      <td>True</td>\n",
       "      <td>DOUBLE_PRECISION</td>\n",
       "    </tr>\n",
       "    <tr>\n",
       "      <th>22</th>\n",
       "      <td>usfirm</td>\n",
       "      <td>True</td>\n",
       "      <td>DOUBLE_PRECISION</td>\n",
       "    </tr>\n",
       "  </tbody>\n",
       "</table>\n",
       "</div>"
      ],
      "text/plain": [
       "             name  nullable              type\n",
       "0          ticker      True           VARCHAR\n",
       "1         pdicity      True           VARCHAR\n",
       "2         measure      True           VARCHAR\n",
       "3            curr      True           VARCHAR\n",
       "4           units      True           VARCHAR\n",
       "5      range_desc      True           VARCHAR\n",
       "6       diff_code      True           VARCHAR\n",
       "7         act_std      True           VARCHAR\n",
       "8          action      True           VARCHAR\n",
       "9   guidance_code      True           VARCHAR\n",
       "10        actdats      True              DATE\n",
       "11        anndats      True              DATE\n",
       "12       mod_date      True              DATE\n",
       "13        acttims      True  DOUBLE_PRECISION\n",
       "14        anntims      True  DOUBLE_PRECISION\n",
       "15       mod_time      True  DOUBLE_PRECISION\n",
       "16         prd_yr      True  DOUBLE_PRECISION\n",
       "17        prd_mon      True  DOUBLE_PRECISION\n",
       "18         eefymo      True  DOUBLE_PRECISION\n",
       "19          val_1      True  DOUBLE_PRECISION\n",
       "20          val_2      True  DOUBLE_PRECISION\n",
       "21   mean_at_date      True  DOUBLE_PRECISION\n",
       "22         usfirm      True  DOUBLE_PRECISION"
      ]
     },
     "execution_count": 3,
     "metadata": {},
     "output_type": "execute_result"
    }
   ],
   "source": [
    "conn.describe_table(library='ibes', table='det_guidance')"
   ]
  },
  {
   "cell_type": "code",
   "execution_count": 4,
   "id": "091c59a9-73e0-41b9-947c-643868953649",
   "metadata": {},
   "outputs": [
    {
     "data": {
      "text/html": [
       "<div>\n",
       "<style scoped>\n",
       "    .dataframe tbody tr th:only-of-type {\n",
       "        vertical-align: middle;\n",
       "    }\n",
       "\n",
       "    .dataframe tbody tr th {\n",
       "        vertical-align: top;\n",
       "    }\n",
       "\n",
       "    .dataframe thead th {\n",
       "        text-align: right;\n",
       "    }\n",
       "</style>\n",
       "<table border=\"1\" class=\"dataframe\">\n",
       "  <thead>\n",
       "    <tr style=\"text-align: right;\">\n",
       "      <th></th>\n",
       "      <th>ticker</th>\n",
       "      <th>pdicity</th>\n",
       "      <th>measure</th>\n",
       "      <th>curr</th>\n",
       "      <th>units</th>\n",
       "      <th>range_desc</th>\n",
       "      <th>diff_code</th>\n",
       "      <th>act_std</th>\n",
       "      <th>action</th>\n",
       "      <th>guidance_code</th>\n",
       "      <th>actdats</th>\n",
       "      <th>anndats</th>\n",
       "      <th>mod_date</th>\n",
       "      <th>acttims</th>\n",
       "      <th>anntims</th>\n",
       "      <th>mod_time</th>\n",
       "      <th>prd_yr</th>\n",
       "      <th>prd_mon</th>\n",
       "      <th>eefymo</th>\n",
       "      <th>val_1</th>\n",
       "      <th>val_2</th>\n",
       "      <th>mean_at_date</th>\n",
       "      <th>usfirm</th>\n",
       "    </tr>\n",
       "  </thead>\n",
       "  <tbody>\n",
       "    <tr>\n",
       "      <th>0</th>\n",
       "      <td>000R</td>\n",
       "      <td>ANN</td>\n",
       "      <td>EBT</td>\n",
       "      <td>USD</td>\n",
       "      <td>millions</td>\n",
       "      <td>01</td>\n",
       "      <td>01</td>\n",
       "      <td>01</td>\n",
       "      <td>I</td>\n",
       "      <td>02</td>\n",
       "      <td>2014-05-02</td>\n",
       "      <td>2014-05-01</td>\n",
       "      <td>2014-05-02</td>\n",
       "      <td>17177.0</td>\n",
       "      <td>21600.0</td>\n",
       "      <td>17247.0</td>\n",
       "      <td>2014.0</td>\n",
       "      <td>12.0</td>\n",
       "      <td>12.0</td>\n",
       "      <td>-23.0</td>\n",
       "      <td>-20.0</td>\n",
       "      <td>-24.852</td>\n",
       "      <td>1.0</td>\n",
       "    </tr>\n",
       "    <tr>\n",
       "      <th>1</th>\n",
       "      <td>000R</td>\n",
       "      <td>QTR</td>\n",
       "      <td>EBT</td>\n",
       "      <td>USD</td>\n",
       "      <td>millions</td>\n",
       "      <td>01</td>\n",
       "      <td>01</td>\n",
       "      <td>01</td>\n",
       "      <td>I</td>\n",
       "      <td>03</td>\n",
       "      <td>2014-05-02</td>\n",
       "      <td>2014-05-01</td>\n",
       "      <td>2014-05-02</td>\n",
       "      <td>17225.0</td>\n",
       "      <td>21600.0</td>\n",
       "      <td>17247.0</td>\n",
       "      <td>2014.0</td>\n",
       "      <td>6.0</td>\n",
       "      <td>12.0</td>\n",
       "      <td>-7.0</td>\n",
       "      <td>-6.0</td>\n",
       "      <td>-6.589</td>\n",
       "      <td>1.0</td>\n",
       "    </tr>\n",
       "  </tbody>\n",
       "</table>\n",
       "</div>"
      ],
      "text/plain": [
       "  ticker pdicity measure curr     units range_desc diff_code act_std action  \\\n",
       "0   000R     ANN     EBT  USD  millions         01        01      01      I   \n",
       "1   000R     QTR     EBT  USD  millions         01        01      01      I   \n",
       "\n",
       "  guidance_code     actdats     anndats    mod_date  acttims  anntims  \\\n",
       "0            02  2014-05-02  2014-05-01  2014-05-02  17177.0  21600.0   \n",
       "1            03  2014-05-02  2014-05-01  2014-05-02  17225.0  21600.0   \n",
       "\n",
       "   mod_time  prd_yr  prd_mon  eefymo  val_1  val_2  mean_at_date  usfirm  \n",
       "0   17247.0  2014.0     12.0    12.0  -23.0  -20.0       -24.852     1.0  \n",
       "1   17247.0  2014.0      6.0    12.0   -7.0   -6.0        -6.589     1.0  "
      ]
     },
     "execution_count": 4,
     "metadata": {},
     "output_type": "execute_result"
    }
   ],
   "source": [
    "sample= conn.get_table(library='ibes', table='det_guidance', obs=5)\n",
    "sample.head(2)"
   ]
  },
  {
   "cell_type": "markdown",
   "id": "b41d29e2-3ac8-4991-aedb-0f1bcd11cbaf",
   "metadata": {},
   "source": [
    "------------"
   ]
  },
  {
   "cell_type": "markdown",
   "id": "ff367b50-e084-4c48-9d5c-f7b102c0d914",
   "metadata": {},
   "source": [
    "### Download"
   ]
  },
  {
   "cell_type": "code",
   "execution_count": 5,
   "id": "d084d835-f04a-4654-9610-26b881799193",
   "metadata": {},
   "outputs": [
    {
     "name": "stdout",
     "output_type": "stream",
     "text": [
      "(436122, 21)\n"
     ]
    },
    {
     "data": {
      "text/html": [
       "<div>\n",
       "<style scoped>\n",
       "    .dataframe tbody tr th:only-of-type {\n",
       "        vertical-align: middle;\n",
       "    }\n",
       "\n",
       "    .dataframe tbody tr th {\n",
       "        vertical-align: top;\n",
       "    }\n",
       "\n",
       "    .dataframe thead th {\n",
       "        text-align: right;\n",
       "    }\n",
       "</style>\n",
       "<table border=\"1\" class=\"dataframe\">\n",
       "  <thead>\n",
       "    <tr style=\"text-align: right;\">\n",
       "      <th></th>\n",
       "      <th>ticker</th>\n",
       "      <th>pdicity</th>\n",
       "      <th>measure</th>\n",
       "      <th>units</th>\n",
       "      <th>range_desc</th>\n",
       "      <th>diff_code</th>\n",
       "      <th>act_std</th>\n",
       "      <th>action</th>\n",
       "      <th>guidance_code</th>\n",
       "      <th>actdats</th>\n",
       "      <th>anndats</th>\n",
       "      <th>mod_date</th>\n",
       "      <th>acttims</th>\n",
       "      <th>anntims</th>\n",
       "      <th>mod_time</th>\n",
       "      <th>prd_yr</th>\n",
       "      <th>prd_mon</th>\n",
       "      <th>eefymo</th>\n",
       "      <th>val_1</th>\n",
       "      <th>val_2</th>\n",
       "      <th>mean_at_date</th>\n",
       "    </tr>\n",
       "  </thead>\n",
       "  <tbody>\n",
       "    <tr>\n",
       "      <th>0</th>\n",
       "      <td>001J</td>\n",
       "      <td>QTR</td>\n",
       "      <td>CPX</td>\n",
       "      <td>millions</td>\n",
       "      <td>02</td>\n",
       "      <td>01</td>\n",
       "      <td>01</td>\n",
       "      <td>I</td>\n",
       "      <td>02</td>\n",
       "      <td>2017-09-18</td>\n",
       "      <td>2017-07-26</td>\n",
       "      <td>2017-09-18</td>\n",
       "      <td>61346.0</td>\n",
       "      <td>59400.0</td>\n",
       "      <td>61350.0</td>\n",
       "      <td>2017.0</td>\n",
       "      <td>9.0</td>\n",
       "      <td>12.0</td>\n",
       "      <td>20.0</td>\n",
       "      <td>NaN</td>\n",
       "      <td>15.5</td>\n",
       "    </tr>\n",
       "    <tr>\n",
       "      <th>1</th>\n",
       "      <td>001J</td>\n",
       "      <td>QTR</td>\n",
       "      <td>CPX</td>\n",
       "      <td>millions</td>\n",
       "      <td>02</td>\n",
       "      <td>01</td>\n",
       "      <td>01</td>\n",
       "      <td>I</td>\n",
       "      <td>02</td>\n",
       "      <td>2017-10-30</td>\n",
       "      <td>2017-10-25</td>\n",
       "      <td>2017-10-30</td>\n",
       "      <td>48648.0</td>\n",
       "      <td>59400.0</td>\n",
       "      <td>48711.0</td>\n",
       "      <td>2017.0</td>\n",
       "      <td>12.0</td>\n",
       "      <td>12.0</td>\n",
       "      <td>20.0</td>\n",
       "      <td>NaN</td>\n",
       "      <td>18.0</td>\n",
       "    </tr>\n",
       "  </tbody>\n",
       "</table>\n",
       "</div>"
      ],
      "text/plain": [
       "  ticker pdicity measure     units range_desc diff_code act_std action  \\\n",
       "0   001J     QTR     CPX  millions         02        01      01      I   \n",
       "1   001J     QTR     CPX  millions         02        01      01      I   \n",
       "\n",
       "  guidance_code     actdats     anndats    mod_date  acttims  anntims  \\\n",
       "0            02  2017-09-18  2017-07-26  2017-09-18  61346.0  59400.0   \n",
       "1            02  2017-10-30  2017-10-25  2017-10-30  48648.0  59400.0   \n",
       "\n",
       "   mod_time  prd_yr  prd_mon  eefymo  val_1  val_2  mean_at_date  \n",
       "0   61350.0  2017.0      9.0    12.0   20.0    NaN          15.5  \n",
       "1   48711.0  2017.0     12.0    12.0   20.0    NaN          18.0  "
      ]
     },
     "execution_count": 5,
     "metadata": {},
     "output_type": "execute_result"
    }
   ],
   "source": [
    "df= conn.raw_sql(f\"\"\"select *\n",
    "                    from ibes.det_guidance a\n",
    "                    where   usfirm=1 and\n",
    "                            curr='USD' and\n",
    "                            measure in ('SAL', 'CPX', 'EPS') and\n",
    "                            pdicity in ('ANN', 'QTR')\n",
    "                    \"\"\")\n",
    "df=df.drop(columns=['usfirm', 'curr'])\n",
    "print(df.shape)\n",
    "df.head(2)"
   ]
  },
  {
   "cell_type": "markdown",
   "id": "6a3b1b06-d6a9-4be2-8913-c96efc25dd8d",
   "metadata": {},
   "source": [
    "----------"
   ]
  },
  {
   "cell_type": "markdown",
   "id": "d4227f04-9aaf-43ef-be0e-9d416a501ee2",
   "metadata": {},
   "source": [
    "### Inspect some variables"
   ]
  },
  {
   "cell_type": "code",
   "execution_count": 6,
   "id": "5aa0d0df-5e76-4743-8b76-fe03f3ce8068",
   "metadata": {},
   "outputs": [
    {
     "data": {
      "text/html": [
       "<div>\n",
       "<style scoped>\n",
       "    .dataframe tbody tr th:only-of-type {\n",
       "        vertical-align: middle;\n",
       "    }\n",
       "\n",
       "    .dataframe tbody tr th {\n",
       "        vertical-align: top;\n",
       "    }\n",
       "\n",
       "    .dataframe thead th {\n",
       "        text-align: right;\n",
       "    }\n",
       "</style>\n",
       "<table border=\"1\" class=\"dataframe\">\n",
       "  <thead>\n",
       "    <tr style=\"text-align: right;\">\n",
       "      <th>units</th>\n",
       "      <th>P/S</th>\n",
       "      <th>millions</th>\n",
       "    </tr>\n",
       "    <tr>\n",
       "      <th>measure</th>\n",
       "      <th></th>\n",
       "      <th></th>\n",
       "    </tr>\n",
       "  </thead>\n",
       "  <tbody>\n",
       "    <tr>\n",
       "      <th>CPX</th>\n",
       "      <td>0</td>\n",
       "      <td>81068</td>\n",
       "    </tr>\n",
       "    <tr>\n",
       "      <th>EPS</th>\n",
       "      <td>189393</td>\n",
       "      <td>0</td>\n",
       "    </tr>\n",
       "    <tr>\n",
       "      <th>SAL</th>\n",
       "      <td>0</td>\n",
       "      <td>165661</td>\n",
       "    </tr>\n",
       "  </tbody>\n",
       "</table>\n",
       "</div>"
      ],
      "text/plain": [
       "units       P/S  millions\n",
       "measure                  \n",
       "CPX           0     81068\n",
       "EPS      189393         0\n",
       "SAL           0    165661"
      ]
     },
     "execution_count": 6,
     "metadata": {},
     "output_type": "execute_result"
    }
   ],
   "source": [
    "pd.crosstab(df.measure, df.units)"
   ]
  },
  {
   "cell_type": "markdown",
   "id": "abf4254e-b45f-4483-8a1f-59f381ff4b95",
   "metadata": {},
   "source": [
    "=> EPS is the only one reported in a unit of P/S."
   ]
  },
  {
   "cell_type": "code",
   "execution_count": 7,
   "id": "2119aaff-3479-4c04-af52-f734ed13c5be",
   "metadata": {
    "tags": []
   },
   "outputs": [
    {
     "data": {
      "text/plain": [
       "pdicity\n",
       "ANN    275447\n",
       "QTR    160675\n",
       "dtype: int64"
      ]
     },
     "execution_count": 7,
     "metadata": {},
     "output_type": "execute_result"
    }
   ],
   "source": [
    "df.groupby('pdicity').size()"
   ]
  },
  {
   "cell_type": "code",
   "execution_count": 8,
   "id": "087bcb74-b51f-47fa-ad99-86dbb0b690e3",
   "metadata": {
    "tags": []
   },
   "outputs": [
    {
     "data": {
      "text/plain": [
       "units\n",
       "P/S         189393\n",
       "millions    246729\n",
       "dtype: int64"
      ]
     },
     "execution_count": 8,
     "metadata": {},
     "output_type": "execute_result"
    }
   ],
   "source": [
    "# units of guidance values \n",
    "df.groupby('units').size()"
   ]
  },
  {
   "cell_type": "code",
   "execution_count": 9,
   "id": "3183a67c-62d4-46e6-800a-2e98b86dcc0e",
   "metadata": {
    "tags": []
   },
   "outputs": [
    {
     "data": {
      "text/plain": [
       "range_desc\n",
       "01    314870\n",
       "02    100700\n",
       "03      5763\n",
       "04      3238\n",
       "06      1077\n",
       "08       848\n",
       "10      3928\n",
       "11       516\n",
       "12       535\n",
       "13       307\n",
       "14      2596\n",
       "15       161\n",
       "16       122\n",
       "17       381\n",
       "18      1078\n",
       "NA         2\n",
       "dtype: int64"
      ]
     },
     "execution_count": 9,
     "metadata": {},
     "output_type": "execute_result"
    }
   ],
   "source": [
    "# guidance Range\n",
    "df.groupby('range_desc').size()"
   ]
  },
  {
   "cell_type": "code",
   "execution_count": 10,
   "id": "38abb395-12ca-4d4c-97a4-5bb629d54f7d",
   "metadata": {
    "tags": []
   },
   "outputs": [
    {
     "data": {
      "text/plain": [
       "diff_code\n",
       "01    360576\n",
       "02         3\n",
       "30         1\n",
       "57     36015\n",
       "58     39526\n",
       "NA         1\n",
       "dtype: int64"
      ]
     },
     "execution_count": 10,
     "metadata": {},
     "output_type": "execute_result"
    }
   ],
   "source": [
    "# difference reason (e.g. asset writedown)\n",
    "df.groupby('diff_code').size()"
   ]
  },
  {
   "cell_type": "code",
   "execution_count": 11,
   "id": "9d0da8bd-802b-4e5c-9454-661565ceb8be",
   "metadata": {
    "tags": []
   },
   "outputs": [
    {
     "data": {
      "text/plain": [
       "act_std\n",
       "01    427654\n",
       "02       530\n",
       "03      7827\n",
       "04         1\n",
       "05       107\n",
       "08         2\n",
       "NA         1\n",
       "dtype: int64"
      ]
     },
     "execution_count": 11,
     "metadata": {},
     "output_type": "execute_result"
    }
   ],
   "source": [
    "# accounting standards\n",
    "# https://wrds-www.wharton.upenn.edu/documents/513/IBES_Guidance_Miscellaneous_Code_Definitions.pdf\n",
    "df.groupby('act_std').size()"
   ]
  },
  {
   "cell_type": "code",
   "execution_count": 12,
   "id": "abc0ae25-9d74-4d5d-973e-c6d445753eae",
   "metadata": {},
   "outputs": [
    {
     "data": {
      "text/plain": [
       "guidance_code\n",
       "01     89669\n",
       "02     79449\n",
       "03    169034\n",
       "06     97922\n",
       "dtype: int64"
      ]
     },
     "execution_count": 12,
     "metadata": {},
     "output_type": "execute_result"
    }
   ],
   "source": [
    "# Guidance relative to consensus (e.g. beat, match)\n",
    "df.groupby('guidance_code').size()"
   ]
  },
  {
   "cell_type": "markdown",
   "id": "81bb0d28-4c1e-4691-995e-743891466bc0",
   "metadata": {},
   "source": [
    "-------------"
   ]
  },
  {
   "cell_type": "markdown",
   "id": "f3d1ee4d-a904-4c6d-a749-bea6c6c79470",
   "metadata": {},
   "source": [
    "### Selection: anndats between 2004 and 2021"
   ]
  },
  {
   "cell_type": "code",
   "execution_count": 13,
   "id": "ee4704f3-e90a-45d1-8410-2e068382cecc",
   "metadata": {},
   "outputs": [
    {
     "name": "stdout",
     "output_type": "stream",
     "text": [
      "(373126, 22)\n"
     ]
    },
    {
     "data": {
      "text/html": [
       "<div>\n",
       "<style scoped>\n",
       "    .dataframe tbody tr th:only-of-type {\n",
       "        vertical-align: middle;\n",
       "    }\n",
       "\n",
       "    .dataframe tbody tr th {\n",
       "        vertical-align: top;\n",
       "    }\n",
       "\n",
       "    .dataframe thead th {\n",
       "        text-align: right;\n",
       "    }\n",
       "</style>\n",
       "<table border=\"1\" class=\"dataframe\">\n",
       "  <thead>\n",
       "    <tr style=\"text-align: right;\">\n",
       "      <th></th>\n",
       "      <th>ticker</th>\n",
       "      <th>pdicity</th>\n",
       "      <th>measure</th>\n",
       "      <th>units</th>\n",
       "      <th>range_desc</th>\n",
       "      <th>diff_code</th>\n",
       "      <th>act_std</th>\n",
       "      <th>action</th>\n",
       "      <th>guidance_code</th>\n",
       "      <th>actdats</th>\n",
       "      <th>anndats</th>\n",
       "      <th>mod_date</th>\n",
       "      <th>acttims</th>\n",
       "      <th>anntims</th>\n",
       "      <th>mod_time</th>\n",
       "      <th>prd_yr</th>\n",
       "      <th>prd_mon</th>\n",
       "      <th>eefymo</th>\n",
       "      <th>val_1</th>\n",
       "      <th>val_2</th>\n",
       "      <th>mean_at_date</th>\n",
       "      <th>ann_y</th>\n",
       "    </tr>\n",
       "  </thead>\n",
       "  <tbody>\n",
       "    <tr>\n",
       "      <th>0</th>\n",
       "      <td>001J</td>\n",
       "      <td>QTR</td>\n",
       "      <td>CPX</td>\n",
       "      <td>millions</td>\n",
       "      <td>02</td>\n",
       "      <td>01</td>\n",
       "      <td>01</td>\n",
       "      <td>I</td>\n",
       "      <td>02</td>\n",
       "      <td>2017-09-18</td>\n",
       "      <td>2017-07-26</td>\n",
       "      <td>2017-09-18</td>\n",
       "      <td>61346.0</td>\n",
       "      <td>59400.0</td>\n",
       "      <td>61350.0</td>\n",
       "      <td>2017.0</td>\n",
       "      <td>9.0</td>\n",
       "      <td>12.0</td>\n",
       "      <td>20.0</td>\n",
       "      <td>NaN</td>\n",
       "      <td>15.5</td>\n",
       "      <td>2017</td>\n",
       "    </tr>\n",
       "    <tr>\n",
       "      <th>1</th>\n",
       "      <td>001J</td>\n",
       "      <td>QTR</td>\n",
       "      <td>CPX</td>\n",
       "      <td>millions</td>\n",
       "      <td>02</td>\n",
       "      <td>01</td>\n",
       "      <td>01</td>\n",
       "      <td>I</td>\n",
       "      <td>02</td>\n",
       "      <td>2017-10-30</td>\n",
       "      <td>2017-10-25</td>\n",
       "      <td>2017-10-30</td>\n",
       "      <td>48648.0</td>\n",
       "      <td>59400.0</td>\n",
       "      <td>48711.0</td>\n",
       "      <td>2017.0</td>\n",
       "      <td>12.0</td>\n",
       "      <td>12.0</td>\n",
       "      <td>20.0</td>\n",
       "      <td>NaN</td>\n",
       "      <td>18.0</td>\n",
       "      <td>2017</td>\n",
       "    </tr>\n",
       "  </tbody>\n",
       "</table>\n",
       "</div>"
      ],
      "text/plain": [
       "  ticker pdicity measure     units range_desc diff_code act_std action  \\\n",
       "0   001J     QTR     CPX  millions         02        01      01      I   \n",
       "1   001J     QTR     CPX  millions         02        01      01      I   \n",
       "\n",
       "  guidance_code     actdats     anndats    mod_date  acttims  anntims  \\\n",
       "0            02  2017-09-18  2017-07-26  2017-09-18  61346.0  59400.0   \n",
       "1            02  2017-10-30  2017-10-25  2017-10-30  48648.0  59400.0   \n",
       "\n",
       "   mod_time  prd_yr  prd_mon  eefymo  val_1  val_2  mean_at_date  ann_y  \n",
       "0   61350.0  2017.0      9.0    12.0   20.0    NaN          15.5   2017  \n",
       "1   48711.0  2017.0     12.0    12.0   20.0    NaN          18.0   2017  "
      ]
     },
     "execution_count": 13,
     "metadata": {},
     "output_type": "execute_result"
    }
   ],
   "source": [
    "df['ann_y']= pd.to_datetime(df['anndats']).dt.year\n",
    "beg_y= 2004\n",
    "end_y= 2021\n",
    "df=df[df.ann_y >=beg_y]\n",
    "df=df[df.ann_y <=end_y]\n",
    "print(df.shape)\n",
    "df.head(2)"
   ]
  },
  {
   "cell_type": "code",
   "execution_count": 14,
   "id": "d38c14c5-65e5-4304-8ca0-338cb8117224",
   "metadata": {},
   "outputs": [
    {
     "data": {
      "text/html": [
       "<div>\n",
       "<style scoped>\n",
       "    .dataframe tbody tr th:only-of-type {\n",
       "        vertical-align: middle;\n",
       "    }\n",
       "\n",
       "    .dataframe tbody tr th {\n",
       "        vertical-align: top;\n",
       "    }\n",
       "\n",
       "    .dataframe thead th {\n",
       "        text-align: right;\n",
       "    }\n",
       "</style>\n",
       "<table border=\"1\" class=\"dataframe\">\n",
       "  <thead>\n",
       "    <tr style=\"text-align: right;\">\n",
       "      <th></th>\n",
       "      <th>ticker</th>\n",
       "      <th>pdicity</th>\n",
       "      <th>measure</th>\n",
       "      <th>act_std</th>\n",
       "      <th>anndats</th>\n",
       "      <th>prd_yr</th>\n",
       "      <th>prd_mon</th>\n",
       "      <th>eefymo</th>\n",
       "      <th>val_1</th>\n",
       "      <th>ann_y</th>\n",
       "    </tr>\n",
       "  </thead>\n",
       "  <tbody>\n",
       "    <tr>\n",
       "      <th>0</th>\n",
       "      <td>001J</td>\n",
       "      <td>QTR</td>\n",
       "      <td>CPX</td>\n",
       "      <td>01</td>\n",
       "      <td>2017-07-26</td>\n",
       "      <td>2017.0</td>\n",
       "      <td>9.0</td>\n",
       "      <td>12.0</td>\n",
       "      <td>20.0</td>\n",
       "      <td>2017</td>\n",
       "    </tr>\n",
       "    <tr>\n",
       "      <th>1</th>\n",
       "      <td>001J</td>\n",
       "      <td>QTR</td>\n",
       "      <td>CPX</td>\n",
       "      <td>01</td>\n",
       "      <td>2017-10-25</td>\n",
       "      <td>2017.0</td>\n",
       "      <td>12.0</td>\n",
       "      <td>12.0</td>\n",
       "      <td>20.0</td>\n",
       "      <td>2017</td>\n",
       "    </tr>\n",
       "  </tbody>\n",
       "</table>\n",
       "</div>"
      ],
      "text/plain": [
       "  ticker pdicity measure act_std     anndats  prd_yr  prd_mon  eefymo  val_1  \\\n",
       "0   001J     QTR     CPX      01  2017-07-26  2017.0      9.0    12.0   20.0   \n",
       "1   001J     QTR     CPX      01  2017-10-25  2017.0     12.0    12.0   20.0   \n",
       "\n",
       "   ann_y  \n",
       "0   2017  \n",
       "1   2017  "
      ]
     },
     "execution_count": 14,
     "metadata": {},
     "output_type": "execute_result"
    }
   ],
   "source": [
    "vars_to_keep= ['ticker', 'pdicity', 'measure', 'act_std', 'anndats', 'prd_yr', 'prd_mon', 'eefymo', 'val_1', 'ann_y']\n",
    "df=df[vars_to_keep]\n",
    "df.head(2)"
   ]
  },
  {
   "cell_type": "markdown",
   "id": "28aeae2f-3474-4298-aa27-4a2dc08c594e",
   "metadata": {},
   "source": [
    "-------------"
   ]
  },
  {
   "cell_type": "markdown",
   "id": "d71452b3-f6e0-43ca-a88d-6750e3254dae",
   "metadata": {},
   "source": [
    "### Inspection for act_std"
   ]
  },
  {
   "cell_type": "code",
   "execution_count": 15,
   "id": "5e4cb791-cb18-4eb0-ae03-6f9c9b9beb2c",
   "metadata": {},
   "outputs": [
    {
     "data": {
      "text/html": [
       "<div>\n",
       "<style scoped>\n",
       "    .dataframe tbody tr th:only-of-type {\n",
       "        vertical-align: middle;\n",
       "    }\n",
       "\n",
       "    .dataframe tbody tr th {\n",
       "        vertical-align: top;\n",
       "    }\n",
       "\n",
       "    .dataframe thead th {\n",
       "        text-align: right;\n",
       "    }\n",
       "</style>\n",
       "<table border=\"1\" class=\"dataframe\">\n",
       "  <thead>\n",
       "    <tr style=\"text-align: right;\">\n",
       "      <th>act_std</th>\n",
       "      <th>01</th>\n",
       "      <th>02</th>\n",
       "      <th>03</th>\n",
       "      <th>05</th>\n",
       "      <th>08</th>\n",
       "      <th>NA</th>\n",
       "    </tr>\n",
       "    <tr>\n",
       "      <th>ann_y</th>\n",
       "      <th></th>\n",
       "      <th></th>\n",
       "      <th></th>\n",
       "      <th></th>\n",
       "      <th></th>\n",
       "      <th></th>\n",
       "    </tr>\n",
       "  </thead>\n",
       "  <tbody>\n",
       "    <tr>\n",
       "      <th>2004</th>\n",
       "      <td>24906</td>\n",
       "      <td>0</td>\n",
       "      <td>0</td>\n",
       "      <td>0</td>\n",
       "      <td>0</td>\n",
       "      <td>0</td>\n",
       "    </tr>\n",
       "    <tr>\n",
       "      <th>2005</th>\n",
       "      <td>26780</td>\n",
       "      <td>0</td>\n",
       "      <td>0</td>\n",
       "      <td>0</td>\n",
       "      <td>0</td>\n",
       "      <td>0</td>\n",
       "    </tr>\n",
       "    <tr>\n",
       "      <th>2006</th>\n",
       "      <td>30895</td>\n",
       "      <td>0</td>\n",
       "      <td>0</td>\n",
       "      <td>0</td>\n",
       "      <td>0</td>\n",
       "      <td>0</td>\n",
       "    </tr>\n",
       "    <tr>\n",
       "      <th>2007</th>\n",
       "      <td>25879</td>\n",
       "      <td>0</td>\n",
       "      <td>0</td>\n",
       "      <td>0</td>\n",
       "      <td>0</td>\n",
       "      <td>0</td>\n",
       "    </tr>\n",
       "    <tr>\n",
       "      <th>2008</th>\n",
       "      <td>23379</td>\n",
       "      <td>0</td>\n",
       "      <td>0</td>\n",
       "      <td>0</td>\n",
       "      <td>0</td>\n",
       "      <td>0</td>\n",
       "    </tr>\n",
       "    <tr>\n",
       "      <th>2009</th>\n",
       "      <td>20371</td>\n",
       "      <td>0</td>\n",
       "      <td>0</td>\n",
       "      <td>0</td>\n",
       "      <td>0</td>\n",
       "      <td>0</td>\n",
       "    </tr>\n",
       "    <tr>\n",
       "      <th>2010</th>\n",
       "      <td>21580</td>\n",
       "      <td>0</td>\n",
       "      <td>0</td>\n",
       "      <td>0</td>\n",
       "      <td>0</td>\n",
       "      <td>0</td>\n",
       "    </tr>\n",
       "    <tr>\n",
       "      <th>2011</th>\n",
       "      <td>21894</td>\n",
       "      <td>0</td>\n",
       "      <td>0</td>\n",
       "      <td>0</td>\n",
       "      <td>0</td>\n",
       "      <td>0</td>\n",
       "    </tr>\n",
       "    <tr>\n",
       "      <th>2012</th>\n",
       "      <td>21824</td>\n",
       "      <td>0</td>\n",
       "      <td>0</td>\n",
       "      <td>0</td>\n",
       "      <td>0</td>\n",
       "      <td>0</td>\n",
       "    </tr>\n",
       "    <tr>\n",
       "      <th>2013</th>\n",
       "      <td>21194</td>\n",
       "      <td>0</td>\n",
       "      <td>0</td>\n",
       "      <td>0</td>\n",
       "      <td>0</td>\n",
       "      <td>0</td>\n",
       "    </tr>\n",
       "    <tr>\n",
       "      <th>2014</th>\n",
       "      <td>20947</td>\n",
       "      <td>0</td>\n",
       "      <td>0</td>\n",
       "      <td>0</td>\n",
       "      <td>0</td>\n",
       "      <td>0</td>\n",
       "    </tr>\n",
       "    <tr>\n",
       "      <th>2015</th>\n",
       "      <td>19550</td>\n",
       "      <td>0</td>\n",
       "      <td>0</td>\n",
       "      <td>1</td>\n",
       "      <td>0</td>\n",
       "      <td>0</td>\n",
       "    </tr>\n",
       "    <tr>\n",
       "      <th>2016</th>\n",
       "      <td>17466</td>\n",
       "      <td>0</td>\n",
       "      <td>0</td>\n",
       "      <td>1</td>\n",
       "      <td>0</td>\n",
       "      <td>0</td>\n",
       "    </tr>\n",
       "    <tr>\n",
       "      <th>2017</th>\n",
       "      <td>16818</td>\n",
       "      <td>68</td>\n",
       "      <td>2</td>\n",
       "      <td>14</td>\n",
       "      <td>0</td>\n",
       "      <td>1</td>\n",
       "    </tr>\n",
       "    <tr>\n",
       "      <th>2018</th>\n",
       "      <td>16753</td>\n",
       "      <td>177</td>\n",
       "      <td>1</td>\n",
       "      <td>14</td>\n",
       "      <td>0</td>\n",
       "      <td>0</td>\n",
       "    </tr>\n",
       "    <tr>\n",
       "      <th>2019</th>\n",
       "      <td>15140</td>\n",
       "      <td>93</td>\n",
       "      <td>608</td>\n",
       "      <td>30</td>\n",
       "      <td>0</td>\n",
       "      <td>0</td>\n",
       "    </tr>\n",
       "    <tr>\n",
       "      <th>2020</th>\n",
       "      <td>10661</td>\n",
       "      <td>56</td>\n",
       "      <td>1369</td>\n",
       "      <td>26</td>\n",
       "      <td>1</td>\n",
       "      <td>0</td>\n",
       "    </tr>\n",
       "    <tr>\n",
       "      <th>2021</th>\n",
       "      <td>11375</td>\n",
       "      <td>78</td>\n",
       "      <td>3166</td>\n",
       "      <td>7</td>\n",
       "      <td>1</td>\n",
       "      <td>0</td>\n",
       "    </tr>\n",
       "  </tbody>\n",
       "</table>\n",
       "</div>"
      ],
      "text/plain": [
       "act_std     01   02    03  05  08  NA\n",
       "ann_y                                \n",
       "2004     24906    0     0   0   0   0\n",
       "2005     26780    0     0   0   0   0\n",
       "2006     30895    0     0   0   0   0\n",
       "2007     25879    0     0   0   0   0\n",
       "2008     23379    0     0   0   0   0\n",
       "2009     20371    0     0   0   0   0\n",
       "2010     21580    0     0   0   0   0\n",
       "2011     21894    0     0   0   0   0\n",
       "2012     21824    0     0   0   0   0\n",
       "2013     21194    0     0   0   0   0\n",
       "2014     20947    0     0   0   0   0\n",
       "2015     19550    0     0   1   0   0\n",
       "2016     17466    0     0   1   0   0\n",
       "2017     16818   68     2  14   0   1\n",
       "2018     16753  177     1  14   0   0\n",
       "2019     15140   93   608  30   0   0\n",
       "2020     10661   56  1369  26   1   0\n",
       "2021     11375   78  3166   7   1   0"
      ]
     },
     "execution_count": 15,
     "metadata": {},
     "output_type": "execute_result"
    }
   ],
   "source": [
    "pd.crosstab(df.ann_y, df.act_std)"
   ]
  },
  {
   "cell_type": "markdown",
   "id": "dcdd205b-1d2a-4b6a-97c3-df453063ad7d",
   "metadata": {},
   "source": [
    "<b>Note</b>\n",
    "- Some firms with 03 (Local GAAP) from 2019, why?  \n",
    "- Link for act_std values: https://wrds-www.wharton.upenn.edu/documents/513/IBES_Guidance_Miscellaneous_Code_Definitions.pdf"
   ]
  },
  {
   "cell_type": "markdown",
   "id": "d1f37137-1cbd-43ca-8d3f-eaea830fd811",
   "metadata": {},
   "source": [
    "-----------"
   ]
  },
  {
   "cell_type": "markdown",
   "id": "92cbdd1a-457d-4072-a361-f258fb500440",
   "metadata": {},
   "source": [
    "## Check data with visualization"
   ]
  },
  {
   "cell_type": "code",
   "execution_count": 16,
   "id": "fbb80985-707a-47ad-807c-76bcee33897b",
   "metadata": {},
   "outputs": [
    {
     "data": {
      "text/plain": [
       "pdicity\n",
       "ANN    245925\n",
       "QTR    127201\n",
       "dtype: int64"
      ]
     },
     "execution_count": 16,
     "metadata": {},
     "output_type": "execute_result"
    }
   ],
   "source": [
    "df_ann= df[df.pdicity=='ANN']\n",
    "df_qtr= df[df.pdicity=='QTR']\n",
    "df.groupby('pdicity').size()"
   ]
  },
  {
   "cell_type": "markdown",
   "id": "36fded33-3390-40bc-b0bf-b661f9651aaf",
   "metadata": {},
   "source": [
    "### Distribution of Annual forecasts"
   ]
  },
  {
   "cell_type": "code",
   "execution_count": 17,
   "id": "87e1936a-a7d4-45cf-a6b1-8a733f76af61",
   "metadata": {},
   "outputs": [],
   "source": [
    "df_vis= df_ann\n",
    "\n",
    "# Forecast-years\n",
    "fcst_year_dist= df_vis.pivot_table(values='ticker', index='ann_y', columns='measure', aggfunc='count')\n",
    "\n",
    "# Firm-years\n",
    "firm_year_dist= df_vis.pivot_table(values='ticker', index='ann_y', columns='measure', aggfunc='nunique')"
   ]
  },
  {
   "cell_type": "code",
   "execution_count": 18,
   "id": "db8c1789-31d3-42a7-ade8-5a99e2ee517b",
   "metadata": {},
   "outputs": [
    {
     "data": {
      "text/html": [
       "<div>\n",
       "<style scoped>\n",
       "    .dataframe tbody tr th:only-of-type {\n",
       "        vertical-align: middle;\n",
       "    }\n",
       "\n",
       "    .dataframe tbody tr th {\n",
       "        vertical-align: top;\n",
       "    }\n",
       "\n",
       "    .dataframe thead th {\n",
       "        text-align: right;\n",
       "    }\n",
       "</style>\n",
       "<table border=\"1\" class=\"dataframe\">\n",
       "  <thead>\n",
       "    <tr style=\"text-align: right;\">\n",
       "      <th>measure</th>\n",
       "      <th>CPX</th>\n",
       "      <th>EPS</th>\n",
       "      <th>SAL</th>\n",
       "    </tr>\n",
       "    <tr>\n",
       "      <th>ann_y</th>\n",
       "      <th></th>\n",
       "      <th></th>\n",
       "      <th></th>\n",
       "    </tr>\n",
       "  </thead>\n",
       "  <tbody>\n",
       "    <tr>\n",
       "      <th>2004</th>\n",
       "      <td>567</td>\n",
       "      <td>1764</td>\n",
       "      <td>1409</td>\n",
       "    </tr>\n",
       "    <tr>\n",
       "      <th>2005</th>\n",
       "      <td>863</td>\n",
       "      <td>1594</td>\n",
       "      <td>1443</td>\n",
       "    </tr>\n",
       "  </tbody>\n",
       "</table>\n",
       "</div>"
      ],
      "text/plain": [
       "measure  CPX   EPS   SAL\n",
       "ann_y                   \n",
       "2004     567  1764  1409\n",
       "2005     863  1594  1443"
      ]
     },
     "execution_count": 18,
     "metadata": {},
     "output_type": "execute_result"
    }
   ],
   "source": [
    "firm_year_dist.head(2)"
   ]
  },
  {
   "cell_type": "code",
   "execution_count": 19,
   "id": "c87d13d0-4417-4aca-8f73-af0770c6b725",
   "metadata": {},
   "outputs": [],
   "source": [
    "# Parameter set-ups\n",
    "font='Times New Roman'\n",
    "fontsize_title=25\n",
    "fontsize_label=15\n",
    "title_pad= 30 # space between title and figure\n",
    "figsize=(10,5)\n",
    "xticks=range(beg_y, end_y+1)"
   ]
  },
  {
   "cell_type": "code",
   "execution_count": 20,
   "id": "54e37a05-6276-4699-be89-80290590f493",
   "metadata": {},
   "outputs": [
    {
     "data": {
      "image/png": "[encoded data removed]",
      "text/plain": [
       "<Figure size 720x720 with 2 Axes>"
      ]
     },
     "metadata": {
      "needs_background": "light"
     },
     "output_type": "display_data"
    }
   ],
   "source": [
    "figure, axes= plt.subplots(2,1, sharex=True, figsize= (10,10))\n",
    "\n",
    "figure.suptitle('Distribution of det_guidance (pdicity==ANN)', font= font, fontsize=fontsize_title)\n",
    "fcst_year_dist.plot(grid=True, marker='o', ax=axes[0])\n",
    "firm_year_dist.plot(grid=True, marker='*', ax=axes[1])\n",
    "plt.xlabel(\"YEAR of anndats\", font= font, fontsize=fontsize_label)\n",
    "plt.xticks(xticks)\n",
    "axes[0].set_title(\"Forecast-years\", font= font, fontsize=fontsize_title-5)\n",
    "axes[1].set_title(\"Unique firm-years\", font= font, fontsize=fontsize_title-5)\n",
    "plt.show()"
   ]
  },
  {
   "cell_type": "markdown",
   "id": "5c29e27f-5113-4fd2-bc68-9a2f958570dd",
   "metadata": {},
   "source": [
    "### Distribution of Quarterly forecasts"
   ]
  },
  {
   "cell_type": "code",
   "execution_count": 21,
   "id": "e8f7a29a-5f4d-4cbb-8610-13173f4a97dc",
   "metadata": {},
   "outputs": [],
   "source": [
    "df_vis= df_qtr\n",
    "\n",
    "# Forecast-years\n",
    "fcst_year_dist= df_vis.pivot_table(values='ticker', index='ann_y', columns='measure', aggfunc='count')\n",
    "\n",
    "# Firm-years\n",
    "firm_year_dist= df_vis.pivot_table(values='ticker', index='ann_y', columns='measure', aggfunc='nunique')"
   ]
  },
  {
   "cell_type": "code",
   "execution_count": 22,
   "id": "6026755d-6fcb-4759-9bc6-c013c0959087",
   "metadata": {},
   "outputs": [
    {
     "data": {
      "image/png": "[encoded data removed]",
      "text/plain": [
       "<Figure size 720x720 with 2 Axes>"
      ]
     },
     "metadata": {
      "needs_background": "light"
     },
     "output_type": "display_data"
    }
   ],
   "source": [
    "figure, axes= plt.subplots(2,1, sharex=True, figsize= (10,10))\n",
    "\n",
    "figure.suptitle('Distribution of det_guidance (pdicity==QTR)', font= font, fontsize=fontsize_title)\n",
    "fcst_year_dist.plot(grid=True, marker='o', ax=axes[0])\n",
    "firm_year_dist.plot(grid=True, marker='*', ax=axes[1])\n",
    "plt.xlabel(\"YEAR of anndats\", font= font, fontsize=fontsize_label)\n",
    "plt.xticks(xticks)\n",
    "axes[0].set_title(\"Forecast-years\", font= font, fontsize=fontsize_title-5)\n",
    "axes[1].set_title(\"Unique firm-years\", font= font, fontsize=fontsize_title-5)\n",
    "plt.show()"
   ]
  },
  {
   "cell_type": "markdown",
   "id": "7f1959f8-d9aa-4f5d-9195-51ce162e517a",
   "metadata": {},
   "source": [
    "----------"
   ]
  },
  {
   "cell_type": "markdown",
   "id": "5763c239-d8e5-405b-a75a-bae2db78330a",
   "metadata": {},
   "source": [
    "### Save to .csv"
   ]
  },
  {
   "cell_type": "code",
   "execution_count": 23,
   "id": "9d06fe4f-9705-4795-87e0-acd3a85e1dcb",
   "metadata": {},
   "outputs": [],
   "source": [
    "df.to_csv(\"work-in-progress/Capex/data/ibes_det_guidance.csv\", index= None)"
   ]
  },
  {
   "cell_type": "markdown",
   "id": "3b95792b-8834-4a5c-990f-61404d19d466",
   "metadata": {},
   "source": [
    "### Close connection"
   ]
  },
  {
   "cell_type": "code",
   "execution_count": 24,
   "id": "0dcdca25-d8b5-4076-9be9-91dbe8a5127a",
   "metadata": {},
   "outputs": [],
   "source": [
    "conn.close()"
   ]
  },
  {
   "cell_type": "markdown",
   "id": "867ba998-bfc9-437a-ab7c-7b31a28710c3",
   "metadata": {},
   "source": [
    "---------"
   ]
  }
 ],
 "metadata": {
  "kernelspec": {
   "display_name": "sec",
   "language": "python",
   "name": "sec"
  },
  "language_info": {
   "codemirror_mode": {
    "name": "ipython",
    "version": 3
   },
   "file_extension": ".py",
   "mimetype": "text/x-python",
   "name": "python",
   "nbconvert_exporter": "python",
   "pygments_lexer": "ipython3",
   "version": "3.8.8"
  },
  "widgets": {
   "application/vnd.jupyter.widget-state+json": {
    "state": {},
    "version_major": 2,
    "version_minor": 0
   }
  }
 },
 "nbformat": 4,
 "nbformat_minor": 5
}
