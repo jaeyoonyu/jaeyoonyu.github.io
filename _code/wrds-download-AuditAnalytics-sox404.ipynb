{
 "cells": [
  {
   "cell_type": "markdown",
   "id": "4633cce5-ba97-4631-bce1-fbb65c5dea66",
   "metadata": {},
   "source": [
    "## Download SOX404 inernal control set from Audit Analytics data from WRDS"
   ]
  },
  {
   "cell_type": "markdown",
   "id": "eed9431c-85e8-4651-a33b-2be6e56579c7",
   "metadata": {},
   "source": [
    "-------------------------"
   ]
  },
  {
   "cell_type": "markdown",
   "id": "d4bfcf5c-c883-4ac1-839b-f2c76c0284cb",
   "metadata": {},
   "source": [
    "### Import libraries"
   ]
  },
  {
   "cell_type": "code",
   "execution_count": 1,
   "id": "9cff7b80-9b0c-4cd3-a11c-cf28f63842ff",
   "metadata": {},
   "outputs": [],
   "source": [
    "import numpy as np\n",
    "import pandas as pd\n",
    "import matplotlib.pyplot as plt\n",
    "import seaborn as sns\n",
    "import wrds\n",
    "pd.options.display.max_columns=200"
   ]
  },
  {
   "cell_type": "markdown",
   "id": "cef880b0-014a-49b0-9e66-fc1ce372805e",
   "metadata": {},
   "source": [
    "-------------"
   ]
  },
  {
   "cell_type": "markdown",
   "id": "432f2b4a-02a6-4c58-9e6a-ffda0615342f",
   "metadata": {},
   "source": [
    "### Connect WRDS"
   ]
  },
  {
   "cell_type": "code",
   "execution_count": 2,
   "id": "3df4e730-ca27-4c67-8d76-fb5ae5c90084",
   "metadata": {},
   "outputs": [
    {
     "name": "stdin",
     "output_type": "stream",
     "text": [
      "Enter your WRDS username [yjaey]: yjaeyoon\n",
      "Enter your password: ···············\n"
     ]
    },
    {
     "name": "stdout",
     "output_type": "stream",
     "text": [
      "WRDS recommends setting up a .pgpass file.\n"
     ]
    },
    {
     "name": "stdin",
     "output_type": "stream",
     "text": [
      "Create .pgpass file now [y/n]?:  y\n"
     ]
    },
    {
     "name": "stdout",
     "output_type": "stream",
     "text": [
      "Created .pgpass file successfully.\n",
      "Loading library list...\n",
      "Done\n"
     ]
    }
   ],
   "source": [
    "conn=wrds.Connection()"
   ]
  },
  {
   "cell_type": "markdown",
   "id": "075cd192-4365-4c4e-ac79-0a640c64ae16",
   "metadata": {},
   "source": [
    "### Get variable list"
   ]
  },
  {
   "cell_type": "code",
   "execution_count": 3,
   "id": "fbf9bd48-92b0-49c4-ae96-52f06fe02bb5",
   "metadata": {},
   "outputs": [
    {
     "name": "stdout",
     "output_type": "stream",
     "text": [
      "Approximately 196431 rows in audit.auditsox404.\n",
      "243\n"
     ]
    }
   ],
   "source": [
    "sox404_vars= conn.describe_table(library='audit', table='auditsox404')['name']\n",
    "print(len(sox404_vars))"
   ]
  },
  {
   "cell_type": "code",
   "execution_count": 4,
   "id": "701634cc-22dd-4319-811a-c7b99a06bac8",
   "metadata": {
    "tags": []
   },
   "outputs": [
    {
     "name": "stdout",
     "output_type": "stream",
     "text": [
      "0 is_nth_restate\n",
      "1 ic_op_fkey\n",
      "2 ic_op_type\n",
      "3 auditor_fkey\n",
      "4 auditor_agrees\n",
      "5 combined_ic_op\n",
      "6 ic_is_effective\n",
      "7 fye_ic_op\n",
      "8 sig_date_ic_op_x\n",
      "9 sig_date_ic_op_s\n",
      "10 aud_city\n",
      "11 aud_state\n",
      "12 aud_state_name\n",
      "13 aud_state_reg\n",
      "14 count_weak\n",
      "15 op_aud_name\n",
      "16 op_aud_pcaob\n",
      "17 audit_fees\n",
      "18 non_audit_fees\n",
      "19 benefits_fees\n",
      "20 it_fees\n",
      "21 tax_fees\n",
      "22 audit_related_fees\n",
      "23 other_fees\n",
      "24 total_fees\n",
      "25 currency_code_fkey\n",
      "26 restatement\n",
      "30 exemption\n",
      "31 exe_reas_keys\n",
      "32 exe_reas_phr\n",
      "42 fy_ic_op\n",
      "43 ftp_file_fkey\n",
      "44 form_fkey\n",
      "45 file_date\n",
      "46 file_accepted\n",
      "47 file_size\n",
      "48 http_name_html\n",
      "49 http_name_text\n",
      "50 company_fkey\n",
      "51 best_edgar_ticker\n",
      "196 ic_text1\n",
      "197 ic_text2\n"
     ]
    }
   ],
   "source": [
    "vars_to_skip= ['matchfy', 'matchqu', 'closestfy', 'closestqu', 'priorqu', 'priorfy', 'note', 'opinion_text', 'eventdate']\n",
    "for idx, var in enumerate(sox404_vars):\n",
    "    if any(var_to_skip in var for var_to_skip in vars_to_skip):\n",
    "        pass\n",
    "    else:        \n",
    "        print(idx, var)"
   ]
  },
  {
   "cell_type": "markdown",
   "id": "ff3d500f-95b3-4f73-881a-ac8e69725ffe",
   "metadata": {},
   "source": [
    "### Select variables to download"
   ]
  },
  {
   "cell_type": "code",
   "execution_count": 5,
   "id": "fa3956ed-69cc-45db-b7a2-6ffd27e7ea55",
   "metadata": {},
   "outputs": [],
   "source": [
    "vars_to_keep= ['is_nth_restate', 'ic_op_fkey', 'ic_op_type', 'auditor_fkey', 'combined_ic_op', 'fye_ic_op', \n",
    "               'count_weak', 'audit_fees', 'non_audit_fees', 'fy_ic_op', 'company_fkey', 'exe_reas_keys', 'exe_reas_phr']"
   ]
  },
  {
   "cell_type": "markdown",
   "id": "51b7b493-4858-4bca-b24a-fe002148881c",
   "metadata": {},
   "source": [
    "### Pilot check"
   ]
  },
  {
   "cell_type": "code",
   "execution_count": 6,
   "id": "c58074bf-26a8-433e-a027-99b571e729fd",
   "metadata": {},
   "outputs": [
    {
     "data": {
      "text/html": [
       "<div>\n",
       "<style scoped>\n",
       "    .dataframe tbody tr th:only-of-type {\n",
       "        vertical-align: middle;\n",
       "    }\n",
       "\n",
       "    .dataframe tbody tr th {\n",
       "        vertical-align: top;\n",
       "    }\n",
       "\n",
       "    .dataframe thead th {\n",
       "        text-align: right;\n",
       "    }\n",
       "</style>\n",
       "<table border=\"1\" class=\"dataframe\">\n",
       "  <thead>\n",
       "    <tr style=\"text-align: right;\">\n",
       "      <th></th>\n",
       "      <th>is_nth_restate</th>\n",
       "      <th>ic_op_fkey</th>\n",
       "      <th>ic_op_type</th>\n",
       "      <th>auditor_fkey</th>\n",
       "      <th>combined_ic_op</th>\n",
       "      <th>fye_ic_op</th>\n",
       "      <th>count_weak</th>\n",
       "      <th>audit_fees</th>\n",
       "      <th>non_audit_fees</th>\n",
       "      <th>fy_ic_op</th>\n",
       "      <th>company_fkey</th>\n",
       "      <th>exe_reas_keys</th>\n",
       "      <th>exe_reas_phr</th>\n",
       "    </tr>\n",
       "  </thead>\n",
       "  <tbody>\n",
       "    <tr>\n",
       "      <th>0</th>\n",
       "      <td>0.0</td>\n",
       "      <td>19322.0</td>\n",
       "      <td>a</td>\n",
       "      <td>6.0</td>\n",
       "      <td>0.0</td>\n",
       "      <td>2006-12-30</td>\n",
       "      <td>0.0</td>\n",
       "      <td>574000.0</td>\n",
       "      <td>7000.0</td>\n",
       "      <td>2006.0</td>\n",
       "      <td>0000000020</td>\n",
       "      <td>|1|</td>\n",
       "      <td>|Ex - Acquisition(s) during the past year (exe...</td>\n",
       "    </tr>\n",
       "    <tr>\n",
       "      <th>1</th>\n",
       "      <td>0.0</td>\n",
       "      <td>19323.0</td>\n",
       "      <td>m</td>\n",
       "      <td>6.0</td>\n",
       "      <td>0.0</td>\n",
       "      <td>2006-12-30</td>\n",
       "      <td>0.0</td>\n",
       "      <td>574000.0</td>\n",
       "      <td>7000.0</td>\n",
       "      <td>2006.0</td>\n",
       "      <td>0000000020</td>\n",
       "      <td>|1|</td>\n",
       "      <td>|Ex - Acquisition(s) during the past year (exe...</td>\n",
       "    </tr>\n",
       "    <tr>\n",
       "      <th>2</th>\n",
       "      <td>0.0</td>\n",
       "      <td>29581.0</td>\n",
       "      <td>m</td>\n",
       "      <td>6.0</td>\n",
       "      <td>0.0</td>\n",
       "      <td>2007-12-29</td>\n",
       "      <td>0.0</td>\n",
       "      <td>669000.0</td>\n",
       "      <td>2000.0</td>\n",
       "      <td>2007.0</td>\n",
       "      <td>0000000020</td>\n",
       "      <td>|1|</td>\n",
       "      <td>|Ex - Acquisition(s) during the past year (exe...</td>\n",
       "    </tr>\n",
       "  </tbody>\n",
       "</table>\n",
       "</div>"
      ],
      "text/plain": [
       "   is_nth_restate  ic_op_fkey ic_op_type  auditor_fkey  combined_ic_op  \\\n",
       "0             0.0     19322.0          a           6.0             0.0   \n",
       "1             0.0     19323.0          m           6.0             0.0   \n",
       "2             0.0     29581.0          m           6.0             0.0   \n",
       "\n",
       "    fye_ic_op  count_weak  audit_fees  non_audit_fees  fy_ic_op company_fkey  \\\n",
       "0  2006-12-30         0.0    574000.0          7000.0    2006.0   0000000020   \n",
       "1  2006-12-30         0.0    574000.0          7000.0    2006.0   0000000020   \n",
       "2  2007-12-29         0.0    669000.0          2000.0    2007.0   0000000020   \n",
       "\n",
       "  exe_reas_keys                                       exe_reas_phr  \n",
       "0           |1|  |Ex - Acquisition(s) during the past year (exe...  \n",
       "1           |1|  |Ex - Acquisition(s) during the past year (exe...  \n",
       "2           |1|  |Ex - Acquisition(s) during the past year (exe...  "
      ]
     },
     "execution_count": 6,
     "metadata": {},
     "output_type": "execute_result"
    }
   ],
   "source": [
    "df_test= conn.get_table(library= 'audit', table='auditsox404',\n",
    "                       columns= vars_to_keep,\n",
    "                       obs= 3)\n",
    "df_test"
   ]
  },
  {
   "cell_type": "code",
   "execution_count": 7,
   "id": "d16b4054-599b-41d7-b0d7-b764ac8b869b",
   "metadata": {},
   "outputs": [
    {
     "data": {
      "text/html": [
       "<div>\n",
       "<style scoped>\n",
       "    .dataframe tbody tr th:only-of-type {\n",
       "        vertical-align: middle;\n",
       "    }\n",
       "\n",
       "    .dataframe tbody tr th {\n",
       "        vertical-align: top;\n",
       "    }\n",
       "\n",
       "    .dataframe thead th {\n",
       "        text-align: right;\n",
       "    }\n",
       "</style>\n",
       "<table border=\"1\" class=\"dataframe\">\n",
       "  <thead>\n",
       "    <tr style=\"text-align: right;\">\n",
       "      <th></th>\n",
       "      <th>is_nth_restate</th>\n",
       "      <th>ic_op_fkey</th>\n",
       "      <th>ic_op_type</th>\n",
       "      <th>auditor_fkey</th>\n",
       "      <th>combined_ic_op</th>\n",
       "      <th>fye_ic_op</th>\n",
       "      <th>count_weak</th>\n",
       "      <th>audit_fees</th>\n",
       "      <th>non_audit_fees</th>\n",
       "      <th>fy_ic_op</th>\n",
       "      <th>company_fkey</th>\n",
       "      <th>exe_reas_keys</th>\n",
       "      <th>exe_reas_phr</th>\n",
       "    </tr>\n",
       "  </thead>\n",
       "  <tbody>\n",
       "    <tr>\n",
       "      <th>0</th>\n",
       "      <td>0.0</td>\n",
       "      <td>19322.0</td>\n",
       "      <td>a</td>\n",
       "      <td>6.0</td>\n",
       "      <td>0.0</td>\n",
       "      <td>2006-12-30</td>\n",
       "      <td>0.0</td>\n",
       "      <td>574000.0</td>\n",
       "      <td>7000.0</td>\n",
       "      <td>2006.0</td>\n",
       "      <td>0000000020</td>\n",
       "      <td>|1|</td>\n",
       "      <td>|Ex - Acquisition(s) during the past year (exe...</td>\n",
       "    </tr>\n",
       "    <tr>\n",
       "      <th>1</th>\n",
       "      <td>0.0</td>\n",
       "      <td>19323.0</td>\n",
       "      <td>m</td>\n",
       "      <td>6.0</td>\n",
       "      <td>0.0</td>\n",
       "      <td>2006-12-30</td>\n",
       "      <td>0.0</td>\n",
       "      <td>574000.0</td>\n",
       "      <td>7000.0</td>\n",
       "      <td>2006.0</td>\n",
       "      <td>0000000020</td>\n",
       "      <td>|1|</td>\n",
       "      <td>|Ex - Acquisition(s) during the past year (exe...</td>\n",
       "    </tr>\n",
       "    <tr>\n",
       "      <th>2</th>\n",
       "      <td>0.0</td>\n",
       "      <td>29581.0</td>\n",
       "      <td>m</td>\n",
       "      <td>6.0</td>\n",
       "      <td>0.0</td>\n",
       "      <td>2007-12-29</td>\n",
       "      <td>0.0</td>\n",
       "      <td>669000.0</td>\n",
       "      <td>2000.0</td>\n",
       "      <td>2007.0</td>\n",
       "      <td>0000000020</td>\n",
       "      <td>|1|</td>\n",
       "      <td>|Ex - Acquisition(s) during the past year (exe...</td>\n",
       "    </tr>\n",
       "    <tr>\n",
       "      <th>3</th>\n",
       "      <td>0.0</td>\n",
       "      <td>29580.0</td>\n",
       "      <td>a</td>\n",
       "      <td>6.0</td>\n",
       "      <td>0.0</td>\n",
       "      <td>2007-12-29</td>\n",
       "      <td>0.0</td>\n",
       "      <td>669000.0</td>\n",
       "      <td>2000.0</td>\n",
       "      <td>2007.0</td>\n",
       "      <td>0000000020</td>\n",
       "      <td>|1|</td>\n",
       "      <td>|Ex - Acquisition(s) during the past year (exe...</td>\n",
       "    </tr>\n",
       "    <tr>\n",
       "      <th>4</th>\n",
       "      <td>0.0</td>\n",
       "      <td>28885.0</td>\n",
       "      <td>m</td>\n",
       "      <td>1687.0</td>\n",
       "      <td>0.0</td>\n",
       "      <td>2007-12-31</td>\n",
       "      <td>0.0</td>\n",
       "      <td>1235999.0</td>\n",
       "      <td>417735.0</td>\n",
       "      <td>2007.0</td>\n",
       "      <td>0000003982</td>\n",
       "      <td>None</td>\n",
       "      <td>None</td>\n",
       "    </tr>\n",
       "  </tbody>\n",
       "</table>\n",
       "</div>"
      ],
      "text/plain": [
       "   is_nth_restate  ic_op_fkey ic_op_type  auditor_fkey  combined_ic_op  \\\n",
       "0             0.0     19322.0          a           6.0             0.0   \n",
       "1             0.0     19323.0          m           6.0             0.0   \n",
       "2             0.0     29581.0          m           6.0             0.0   \n",
       "3             0.0     29580.0          a           6.0             0.0   \n",
       "4             0.0     28885.0          m        1687.0             0.0   \n",
       "\n",
       "    fye_ic_op  count_weak  audit_fees  non_audit_fees  fy_ic_op company_fkey  \\\n",
       "0  2006-12-30         0.0    574000.0          7000.0    2006.0   0000000020   \n",
       "1  2006-12-30         0.0    574000.0          7000.0    2006.0   0000000020   \n",
       "2  2007-12-29         0.0    669000.0          2000.0    2007.0   0000000020   \n",
       "3  2007-12-29         0.0    669000.0          2000.0    2007.0   0000000020   \n",
       "4  2007-12-31         0.0   1235999.0        417735.0    2007.0   0000003982   \n",
       "\n",
       "  exe_reas_keys                                       exe_reas_phr  \n",
       "0           |1|  |Ex - Acquisition(s) during the past year (exe...  \n",
       "1           |1|  |Ex - Acquisition(s) during the past year (exe...  \n",
       "2           |1|  |Ex - Acquisition(s) during the past year (exe...  \n",
       "3           |1|  |Ex - Acquisition(s) during the past year (exe...  \n",
       "4          None                                               None  "
      ]
     },
     "execution_count": 7,
     "metadata": {},
     "output_type": "execute_result"
    }
   ],
   "source": [
    "df= conn.get_table(library= 'audit', table='auditsox404',\n",
    "                       columns= vars_to_keep)\n",
    "df.head()"
   ]
  },
  {
   "cell_type": "code",
   "execution_count": 8,
   "id": "b7178a27-dcef-4e95-a4ec-20937a6d56de",
   "metadata": {},
   "outputs": [
    {
     "data": {
      "text/plain": [
       "0.0    192272\n",
       "1.0      3894\n",
       "2.0       197\n",
       "3.0        35\n",
       "4.0        18\n",
       "5.0        15\n",
       "Name: is_nth_restate, dtype: int64"
      ]
     },
     "execution_count": 8,
     "metadata": {},
     "output_type": "execute_result"
    }
   ],
   "source": [
    "df.is_nth_restate.value_counts()"
   ]
  },
  {
   "cell_type": "code",
   "execution_count": 9,
   "id": "bbd0b044-c53a-4201-8ade-08929974129c",
   "metadata": {},
   "outputs": [],
   "source": [
    "df= df[df.is_nth_restate==0].drop(columns= 'is_nth_restate')"
   ]
  },
  {
   "cell_type": "code",
   "execution_count": 10,
   "id": "8ed929a5-903c-4a40-a631-3db7e135c177",
   "metadata": {},
   "outputs": [],
   "source": [
    "df.rename(columns={'ic_op_fkey':'ic_key',\n",
    "                  'auditor_fkey':'afk',\n",
    "                  'combined_ic_op':'combined',\n",
    "                  'ic_is_effective':'ic_eff',\n",
    "                  'fye_ic_op':'fyear_end',\n",
    "                  'count_weak':'n_weak',\n",
    "                  'audit_fees':'afees',\n",
    "                  'non_audit_fees':'nafees',\n",
    "                  'fy_ic_op':'fy',\n",
    "                  'company_fkey':'cik'},\n",
    "         inplace=True)"
   ]
  },
  {
   "cell_type": "code",
   "execution_count": 11,
   "id": "3e825826-c405-4b4b-8246-ee2fbda34c73",
   "metadata": {},
   "outputs": [
    {
     "data": {
      "text/html": [
       "<div>\n",
       "<style scoped>\n",
       "    .dataframe tbody tr th:only-of-type {\n",
       "        vertical-align: middle;\n",
       "    }\n",
       "\n",
       "    .dataframe tbody tr th {\n",
       "        vertical-align: top;\n",
       "    }\n",
       "\n",
       "    .dataframe thead th {\n",
       "        text-align: right;\n",
       "    }\n",
       "</style>\n",
       "<table border=\"1\" class=\"dataframe\">\n",
       "  <thead>\n",
       "    <tr style=\"text-align: right;\">\n",
       "      <th></th>\n",
       "      <th>ic_key</th>\n",
       "      <th>ic_op_type</th>\n",
       "      <th>afk</th>\n",
       "      <th>combined</th>\n",
       "      <th>fyear_end</th>\n",
       "      <th>n_weak</th>\n",
       "      <th>afees</th>\n",
       "      <th>nafees</th>\n",
       "      <th>fy</th>\n",
       "      <th>cik</th>\n",
       "      <th>exe_reas_keys</th>\n",
       "      <th>exe_reas_phr</th>\n",
       "    </tr>\n",
       "  </thead>\n",
       "  <tbody>\n",
       "    <tr>\n",
       "      <th>0</th>\n",
       "      <td>19322.0</td>\n",
       "      <td>a</td>\n",
       "      <td>6.0</td>\n",
       "      <td>0.0</td>\n",
       "      <td>2006-12-30</td>\n",
       "      <td>0.0</td>\n",
       "      <td>574000.0</td>\n",
       "      <td>7000.0</td>\n",
       "      <td>2006.0</td>\n",
       "      <td>0000000020</td>\n",
       "      <td>|1|</td>\n",
       "      <td>|Ex - Acquisition(s) during the past year (exe...</td>\n",
       "    </tr>\n",
       "    <tr>\n",
       "      <th>1</th>\n",
       "      <td>19323.0</td>\n",
       "      <td>m</td>\n",
       "      <td>6.0</td>\n",
       "      <td>0.0</td>\n",
       "      <td>2006-12-30</td>\n",
       "      <td>0.0</td>\n",
       "      <td>574000.0</td>\n",
       "      <td>7000.0</td>\n",
       "      <td>2006.0</td>\n",
       "      <td>0000000020</td>\n",
       "      <td>|1|</td>\n",
       "      <td>|Ex - Acquisition(s) during the past year (exe...</td>\n",
       "    </tr>\n",
       "  </tbody>\n",
       "</table>\n",
       "</div>"
      ],
      "text/plain": [
       "    ic_key ic_op_type  afk  combined   fyear_end  n_weak     afees  nafees  \\\n",
       "0  19322.0          a  6.0       0.0  2006-12-30     0.0  574000.0  7000.0   \n",
       "1  19323.0          m  6.0       0.0  2006-12-30     0.0  574000.0  7000.0   \n",
       "\n",
       "       fy         cik exe_reas_keys  \\\n",
       "0  2006.0  0000000020           |1|   \n",
       "1  2006.0  0000000020           |1|   \n",
       "\n",
       "                                        exe_reas_phr  \n",
       "0  |Ex - Acquisition(s) during the past year (exe...  \n",
       "1  |Ex - Acquisition(s) during the past year (exe...  "
      ]
     },
     "execution_count": 11,
     "metadata": {},
     "output_type": "execute_result"
    }
   ],
   "source": [
    "df.head(2)"
   ]
  },
  {
   "cell_type": "code",
   "execution_count": 12,
   "id": "082d2b1a-922f-4178-bc26-b595e2fb9f7d",
   "metadata": {},
   "outputs": [
    {
     "data": {
      "text/html": [
       "<div>\n",
       "<style scoped>\n",
       "    .dataframe tbody tr th:only-of-type {\n",
       "        vertical-align: middle;\n",
       "    }\n",
       "\n",
       "    .dataframe tbody tr th {\n",
       "        vertical-align: top;\n",
       "    }\n",
       "\n",
       "    .dataframe thead th {\n",
       "        text-align: right;\n",
       "    }\n",
       "</style>\n",
       "<table border=\"1\" class=\"dataframe\">\n",
       "  <thead>\n",
       "    <tr style=\"text-align: right;\">\n",
       "      <th></th>\n",
       "      <th>ic_key</th>\n",
       "      <th>ic_op_type</th>\n",
       "      <th>afk</th>\n",
       "      <th>combined</th>\n",
       "      <th>fyear_end</th>\n",
       "      <th>n_weak</th>\n",
       "      <th>afees</th>\n",
       "      <th>nafees</th>\n",
       "      <th>fy</th>\n",
       "      <th>cik</th>\n",
       "      <th>exe_reas_keys</th>\n",
       "      <th>exe_reas_phr</th>\n",
       "      <th>weak_exist</th>\n",
       "    </tr>\n",
       "  </thead>\n",
       "  <tbody>\n",
       "    <tr>\n",
       "      <th>0</th>\n",
       "      <td>19322</td>\n",
       "      <td>auditor</td>\n",
       "      <td>6.0</td>\n",
       "      <td>0</td>\n",
       "      <td>2006-12-30</td>\n",
       "      <td>0</td>\n",
       "      <td>574000</td>\n",
       "      <td>7000</td>\n",
       "      <td>2006</td>\n",
       "      <td>0000000020</td>\n",
       "      <td>|1|</td>\n",
       "      <td>|Ex - Acquisition(s) during the past year (exe...</td>\n",
       "      <td>0</td>\n",
       "    </tr>\n",
       "    <tr>\n",
       "      <th>1</th>\n",
       "      <td>19323</td>\n",
       "      <td>manager</td>\n",
       "      <td>6.0</td>\n",
       "      <td>0</td>\n",
       "      <td>2006-12-30</td>\n",
       "      <td>0</td>\n",
       "      <td>574000</td>\n",
       "      <td>7000</td>\n",
       "      <td>2006</td>\n",
       "      <td>0000000020</td>\n",
       "      <td>|1|</td>\n",
       "      <td>|Ex - Acquisition(s) during the past year (exe...</td>\n",
       "      <td>0</td>\n",
       "    </tr>\n",
       "  </tbody>\n",
       "</table>\n",
       "</div>"
      ],
      "text/plain": [
       "   ic_key ic_op_type  afk  combined   fyear_end  n_weak   afees  nafees    fy  \\\n",
       "0   19322    auditor  6.0         0  2006-12-30       0  574000    7000  2006   \n",
       "1   19323    manager  6.0         0  2006-12-30       0  574000    7000  2006   \n",
       "\n",
       "          cik exe_reas_keys  \\\n",
       "0  0000000020           |1|   \n",
       "1  0000000020           |1|   \n",
       "\n",
       "                                        exe_reas_phr  weak_exist  \n",
       "0  |Ex - Acquisition(s) during the past year (exe...           0  \n",
       "1  |Ex - Acquisition(s) during the past year (exe...           0  "
      ]
     },
     "execution_count": 12,
     "metadata": {},
     "output_type": "execute_result"
    }
   ],
   "source": [
    "vars_to_int= ['ic_key', 'combined', 'n_weak', 'afees', 'nafees']\n",
    "df[vars_to_int]=df[vars_to_int].astype(int)\n",
    "\n",
    "# fy should be switched to float and then int.\n",
    "df.fy= df.fy.astype('float').astype('int')\n",
    "\n",
    "df['weak_exist']= (df['n_weak']>0).astype(int)\n",
    "\n",
    "# ic_op_type: m/a to manager/auditor\n",
    "df['ic_op_type']= df['ic_op_type'].map(dict(m='manager', a='auditor'))\n",
    "\n",
    "df.head(2)"
   ]
  },
  {
   "cell_type": "code",
   "execution_count": 13,
   "id": "dab109fe-c3a3-4143-bff5-06b7d36e7804",
   "metadata": {},
   "outputs": [],
   "source": [
    "df.sort_values('fy', inplace= True)"
   ]
  },
  {
   "cell_type": "code",
   "execution_count": 14,
   "id": "bb8d1885-5c83-4b36-9a55-c391174cf810",
   "metadata": {},
   "outputs": [
    {
     "data": {
      "image/png": "[encoded data removed]",
      "text/plain": [
       "<Figure size 800.875x360 with 1 Axes>"
      ]
     },
     "metadata": {
      "needs_background": "light"
     },
     "output_type": "display_data"
    }
   ],
   "source": [
    "ax= sns.catplot(data= df, x=\"fy\", kind=\"count\", height=5, aspect=2, hue= 'ic_op_type')\n",
    "plt.grid()\n",
    "plt.show()"
   ]
  },
  {
   "cell_type": "code",
   "execution_count": 15,
   "id": "4cab921e-0a99-4051-88ea-ac6b986eba2b",
   "metadata": {},
   "outputs": [],
   "source": [
    "df=df[(df.fy>=2004) & (df.fy<=2020)]\n",
    "df_404a= df[df.ic_op_type=='manager'].drop(columns='ic_op_type')\n",
    "df_404b= df[df.ic_op_type=='auditor'].drop(columns='ic_op_type')"
   ]
  },
  {
   "cell_type": "markdown",
   "id": "47887220-ab9e-41cb-ac4a-eca87359d431",
   "metadata": {},
   "source": [
    "---------------------"
   ]
  },
  {
   "cell_type": "markdown",
   "id": "0e4f94e5-9e48-47c3-b854-c187cca75b22",
   "metadata": {},
   "source": [
    "## Check data with visualization"
   ]
  },
  {
   "cell_type": "markdown",
   "id": "900a45df-312c-4785-adf5-15cb91d73dd4",
   "metadata": {},
   "source": [
    "### Proportion of firms with internal control weaknesses under 404a and 404b"
   ]
  },
  {
   "cell_type": "code",
   "execution_count": 16,
   "id": "9a0e46a1-98f5-413c-aeae-69be4d3f1bcd",
   "metadata": {},
   "outputs": [
    {
     "data": {
      "image/png": "[encoded data removed]",
      "text/plain": [
       "<Figure size 504x288 with 1 Axes>"
      ]
     },
     "metadata": {
      "needs_background": "light"
     },
     "output_type": "display_data"
    }
   ],
   "source": [
    "df_404a.groupby(['fy']).mean()['weak_exist'].plot(kind='line', figsize=(7,4), grid= True, color= 'r', marker=\"*\", label= '404a: managers')\n",
    "df_404b.groupby(['fy']).mean()['weak_exist'].plot(kind='line', figsize=(7,4), grid= True, color= 'b', marker=\"o\", label= '404b: auditors')\n",
    "plt.legend()\n",
    "plt.show()"
   ]
  },
  {
   "cell_type": "markdown",
   "id": "d60a5733-290c-43b4-91c1-5b7cca814862",
   "metadata": {},
   "source": [
    "### The number of firms with internal control weaknesses under 404a and 404b"
   ]
  },
  {
   "cell_type": "code",
   "execution_count": 17,
   "id": "ea6f2164-4419-444e-9634-a2bfd0ee8bcd",
   "metadata": {},
   "outputs": [
    {
     "data": {
      "image/png": "[encoded data removed]",
      "text/plain": [
       "<Figure size 504x288 with 1 Axes>"
      ]
     },
     "metadata": {
      "needs_background": "light"
     },
     "output_type": "display_data"
    }
   ],
   "source": [
    "df_404a.groupby(['fy']).sum()['weak_exist'].plot(kind='line', figsize=(7,4), grid= True, color= 'r', marker=\"*\", label= '404a: managers')\n",
    "df_404b.groupby(['fy']).sum()['weak_exist'].plot(kind='line', figsize=(7,4), grid= True, color= 'b', marker=\"o\", label= '404b: auditors')\n",
    "plt.legend()\n",
    "plt.show()"
   ]
  },
  {
   "cell_type": "markdown",
   "id": "4dda802d-882e-4700-a1b2-d7592da0e803",
   "metadata": {},
   "source": [
    "---------"
   ]
  },
  {
   "cell_type": "markdown",
   "id": "37a9162e-47db-4e85-80ba-abdaad08312b",
   "metadata": {},
   "source": [
    "<b>Note that NAFs became subject to 404a since 2007. The graphs should be interpreted very carefully.</b>"
   ]
  },
  {
   "cell_type": "markdown",
   "id": "d727bbdb-9b7a-4b67-a4e9-56642eca603d",
   "metadata": {},
   "source": [
    "--------------------"
   ]
  },
  {
   "cell_type": "markdown",
   "id": "d71adc04-8822-4b4c-b77e-607b5ffddb92",
   "metadata": {},
   "source": [
    "### Save data"
   ]
  },
  {
   "cell_type": "code",
   "execution_count": 18,
   "id": "c9b78a54-2dd9-44c0-9d25-614be8f38663",
   "metadata": {},
   "outputs": [
    {
     "data": {
      "text/html": [
       "<div>\n",
       "<style scoped>\n",
       "    .dataframe tbody tr th:only-of-type {\n",
       "        vertical-align: middle;\n",
       "    }\n",
       "\n",
       "    .dataframe tbody tr th {\n",
       "        vertical-align: top;\n",
       "    }\n",
       "\n",
       "    .dataframe thead th {\n",
       "        text-align: right;\n",
       "    }\n",
       "</style>\n",
       "<table border=\"1\" class=\"dataframe\">\n",
       "  <thead>\n",
       "    <tr style=\"text-align: right;\">\n",
       "      <th></th>\n",
       "      <th>ic_key</th>\n",
       "      <th>afk</th>\n",
       "      <th>combined</th>\n",
       "      <th>fyear_end</th>\n",
       "      <th>n_weak</th>\n",
       "      <th>afees</th>\n",
       "      <th>nafees</th>\n",
       "      <th>fy</th>\n",
       "      <th>cik</th>\n",
       "      <th>exe_reas_keys</th>\n",
       "      <th>exe_reas_phr</th>\n",
       "      <th>weak_exist</th>\n",
       "    </tr>\n",
       "  </thead>\n",
       "  <tbody>\n",
       "    <tr>\n",
       "      <th>104328</th>\n",
       "      <td>743</td>\n",
       "      <td>2.0</td>\n",
       "      <td>0</td>\n",
       "      <td>2004-12-31</td>\n",
       "      <td>0</td>\n",
       "      <td>971000</td>\n",
       "      <td>296000</td>\n",
       "      <td>2004</td>\n",
       "      <td>0001072341</td>\n",
       "      <td>None</td>\n",
       "      <td>None</td>\n",
       "      <td>0</td>\n",
       "    </tr>\n",
       "    <tr>\n",
       "      <th>104259</th>\n",
       "      <td>5597</td>\n",
       "      <td>1.0</td>\n",
       "      <td>1</td>\n",
       "      <td>2004-12-31</td>\n",
       "      <td>0</td>\n",
       "      <td>275330</td>\n",
       "      <td>30174</td>\n",
       "      <td>2004</td>\n",
       "      <td>0001071992</td>\n",
       "      <td>None</td>\n",
       "      <td>None</td>\n",
       "      <td>0</td>\n",
       "    </tr>\n",
       "    <tr>\n",
       "      <th>72773</th>\n",
       "      <td>4552</td>\n",
       "      <td>1.0</td>\n",
       "      <td>1</td>\n",
       "      <td>2004-12-31</td>\n",
       "      <td>0</td>\n",
       "      <td>516000</td>\n",
       "      <td>290642</td>\n",
       "      <td>2004</td>\n",
       "      <td>0000916530</td>\n",
       "      <td>|1|</td>\n",
       "      <td>|Ex - Acquisition(s) during the past year (exe...</td>\n",
       "      <td>0</td>\n",
       "    </tr>\n",
       "    <tr>\n",
       "      <th>72780</th>\n",
       "      <td>4659</td>\n",
       "      <td>4.0</td>\n",
       "      <td>0</td>\n",
       "      <td>2005-01-01</td>\n",
       "      <td>0</td>\n",
       "      <td>860000</td>\n",
       "      <td>93000</td>\n",
       "      <td>2004</td>\n",
       "      <td>0000916540</td>\n",
       "      <td>None</td>\n",
       "      <td>None</td>\n",
       "      <td>0</td>\n",
       "    </tr>\n",
       "    <tr>\n",
       "      <th>104313</th>\n",
       "      <td>4232</td>\n",
       "      <td>2.0</td>\n",
       "      <td>0</td>\n",
       "      <td>2004-12-31</td>\n",
       "      <td>1</td>\n",
       "      <td>2014880</td>\n",
       "      <td>228750</td>\n",
       "      <td>2004</td>\n",
       "      <td>0001072048</td>\n",
       "      <td>None</td>\n",
       "      <td>None</td>\n",
       "      <td>1</td>\n",
       "    </tr>\n",
       "  </tbody>\n",
       "</table>\n",
       "</div>"
      ],
      "text/plain": [
       "        ic_key  afk  combined   fyear_end  n_weak    afees  nafees    fy  \\\n",
       "104328     743  2.0         0  2004-12-31       0   971000  296000  2004   \n",
       "104259    5597  1.0         1  2004-12-31       0   275330   30174  2004   \n",
       "72773     4552  1.0         1  2004-12-31       0   516000  290642  2004   \n",
       "72780     4659  4.0         0  2005-01-01       0   860000   93000  2004   \n",
       "104313    4232  2.0         0  2004-12-31       1  2014880  228750  2004   \n",
       "\n",
       "               cik exe_reas_keys  \\\n",
       "104328  0001072341          None   \n",
       "104259  0001071992          None   \n",
       "72773   0000916530           |1|   \n",
       "72780   0000916540          None   \n",
       "104313  0001072048          None   \n",
       "\n",
       "                                             exe_reas_phr  weak_exist  \n",
       "104328                                               None           0  \n",
       "104259                                               None           0  \n",
       "72773   |Ex - Acquisition(s) during the past year (exe...           0  \n",
       "72780                                                None           0  \n",
       "104313                                               None           1  "
      ]
     },
     "execution_count": 18,
     "metadata": {},
     "output_type": "execute_result"
    }
   ],
   "source": [
    "df_404a.to_csv('data/404a.csv', index= False)\n",
    "df_404b.to_csv('data/404b.csv', index= False)\n",
    "df_404b.head()"
   ]
  },
  {
   "cell_type": "markdown",
   "id": "d42dacb5-7716-46a7-a50d-ebc9d3f838f9",
   "metadata": {},
   "source": [
    "### Close connection"
   ]
  },
  {
   "cell_type": "code",
   "execution_count": 19,
   "id": "d84df791-a599-45ff-8685-3cab71445551",
   "metadata": {},
   "outputs": [],
   "source": [
    "conn.close()"
   ]
  },
  {
   "cell_type": "markdown",
   "id": "dbb9616d-0ae8-4fea-b2bd-0c9d1605ab89",
   "metadata": {},
   "source": [
    "-------------"
   ]
  }
 ],
 "metadata": {
  "kernelspec": {
   "display_name": "sec",
   "language": "python",
   "name": "sec"
  },
  "language_info": {
   "codemirror_mode": {
    "name": "ipython",
    "version": 3
   },
   "file_extension": ".py",
   "mimetype": "text/x-python",
   "name": "python",
   "nbconvert_exporter": "python",
   "pygments_lexer": "ipython3",
   "version": "3.8.8"
  },
  "widgets": {
   "application/vnd.jupyter.widget-state+json": {
    "state": {},
    "version_major": 2,
    "version_minor": 0
   }
  }
 },
 "nbformat": 4,
 "nbformat_minor": 5
}
