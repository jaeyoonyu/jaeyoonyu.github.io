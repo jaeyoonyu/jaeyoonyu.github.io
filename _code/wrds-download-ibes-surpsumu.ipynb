{
 "cells": [
  {
   "cell_type": "markdown",
   "id": "4633cce5-ba97-4631-bce1-fbb65c5dea66",
   "metadata": {},
   "source": [
    "## Download surpsumu from IBES via WRDS\n",
    "- Link for IBES at WRDS: https://wrds-www.wharton.upenn.edu/pages/get-data/ibes-thomson-reuters/"
   ]
  },
  {
   "cell_type": "markdown",
   "id": "eed9431c-85e8-4651-a33b-2be6e56579c7",
   "metadata": {},
   "source": [
    "-------------------------"
   ]
  },
  {
   "cell_type": "markdown",
   "id": "d4bfcf5c-c883-4ac1-839b-f2c76c0284cb",
   "metadata": {},
   "source": [
    "### Import libraries"
   ]
  },
  {
   "cell_type": "code",
   "execution_count": 1,
   "id": "9cff7b80-9b0c-4cd3-a11c-cf28f63842ff",
   "metadata": {},
   "outputs": [],
   "source": [
    "import pandas as pd\n",
    "import matplotlib.pyplot as plt\n",
    "import wrds"
   ]
  },
  {
   "cell_type": "markdown",
   "id": "432f2b4a-02a6-4c58-9e6a-ffda0615342f",
   "metadata": {},
   "source": [
    "### Connect WRDS"
   ]
  },
  {
   "cell_type": "code",
   "execution_count": 2,
   "id": "3df4e730-ca27-4c67-8d76-fb5ae5c90084",
   "metadata": {},
   "outputs": [
    {
     "name": "stdin",
     "output_type": "stream",
     "text": [
      "Enter your WRDS username [yjaey]: yjaeyoon\n",
      "Enter your password: ···············\n"
     ]
    },
    {
     "name": "stdout",
     "output_type": "stream",
     "text": [
      "WRDS recommends setting up a .pgpass file.\n"
     ]
    },
    {
     "name": "stdin",
     "output_type": "stream",
     "text": [
      "Create .pgpass file now [y/n]?:  y\n"
     ]
    },
    {
     "name": "stdout",
     "output_type": "stream",
     "text": [
      "Created .pgpass file successfully.\n",
      "Loading library list...\n",
      "Done\n"
     ]
    }
   ],
   "source": [
    "conn=wrds.Connection()"
   ]
  },
  {
   "cell_type": "code",
   "execution_count": 4,
   "id": "77efec2d-1b85-4255-87a4-c8dc92fec5a1",
   "metadata": {
    "scrolled": true,
    "tags": []
   },
   "outputs": [
    {
     "name": "stdout",
     "output_type": "stream",
     "text": [
      "194\n"
     ]
    },
    {
     "data": {
      "text/plain": [
       "['act_epsint',\n",
       " 'act_epsus',\n",
       " 'act_xepsint',\n",
       " 'act_xepsus',\n",
       " 'actg',\n",
       " 'actgu',\n",
       " 'actpsum_epsint',\n",
       " 'actpsum_epsus',\n",
       " 'actpsum_xepsint',\n",
       " 'actpsum_xepsus',\n",
       " 'actpsumu_epsint',\n",
       " 'actpsumu_epsus',\n",
       " 'actpsumu_xepsint',\n",
       " 'actpsumu_xepsus',\n",
       " 'actu_epsint',\n",
       " 'actu_epsus',\n",
       " 'actu_xepsint',\n",
       " 'actu_xepsus',\n",
       " 'adj',\n",
       " 'adjsum',\n",
       " 'cfnsum',\n",
       " 'curr',\n",
       " 'currnew',\n",
       " 'det_epsint',\n",
       " 'det_epsus',\n",
       " 'det_guidance',\n",
       " 'det_guidance_ext',\n",
       " 'det_xepsint',\n",
       " 'det_xepsus',\n",
       " 'detsecd_sepint',\n",
       " 'detsecd_xsepint',\n",
       " 'detu_epsint',\n",
       " 'detu_epsus',\n",
       " 'detu_xepsint',\n",
       " 'detu_xepsus',\n",
       " 'detusecd_sepint',\n",
       " 'detusecd_xsepint',\n",
       " 'eurx',\n",
       " 'exc_epsint',\n",
       " 'exc_epsus',\n",
       " 'exc_xepsint',\n",
       " 'exc_xepsus',\n",
       " 'excsecd_sepint',\n",
       " 'excsecd_xsepint',\n",
       " 'excu_epsint',\n",
       " 'excu_epsus',\n",
       " 'excu_xepsint',\n",
       " 'excu_xepsus',\n",
       " 'excusecd_sepint',\n",
       " 'excusecd_xsepint',\n",
       " 'glacct',\n",
       " 'glaction',\n",
       " 'glcode',\n",
       " 'glcountry',\n",
       " 'gldiff',\n",
       " 'glperiod',\n",
       " 'glrange',\n",
       " 'glunit',\n",
       " 'hdxrati',\n",
       " 'hsxrat',\n",
       " 'id',\n",
       " 'id_guidance',\n",
       " 'id_guidance_ext',\n",
       " 'idsum',\n",
       " 'igaact',\n",
       " 'igachg',\n",
       " 'igactryactdata',\n",
       " 'igactryestdata',\n",
       " 'igaebgdates',\n",
       " 'igaest',\n",
       " 'igaindactdata',\n",
       " 'igaindestdata',\n",
       " 'igainfo',\n",
       " 'igarussactdata',\n",
       " 'igarussestdata',\n",
       " 'igaspactdata',\n",
       " 'igaspestdata',\n",
       " 'igatopixactdata',\n",
       " 'igatopixestdata',\n",
       " 'nact_epsint',\n",
       " 'nact_epsus',\n",
       " 'nact_xepsint',\n",
       " 'nact_xepsus',\n",
       " 'nactg',\n",
       " 'nactgu',\n",
       " 'nactpsum_epsint',\n",
       " 'nactpsum_epsus',\n",
       " 'nactpsum_xepsint',\n",
       " 'nactpsum_xepsus',\n",
       " 'nactpsumu_epsint',\n",
       " 'nactpsumu_epsus',\n",
       " 'nactpsumu_xepsint',\n",
       " 'nactpsumu_xepsus',\n",
       " 'nactu_epsint',\n",
       " 'nactu_epsus',\n",
       " 'nactu_xepsint',\n",
       " 'nactu_xepsus',\n",
       " 'ncurr',\n",
       " 'ndet_epsint',\n",
       " 'ndet_epsus',\n",
       " 'ndet_xepsint',\n",
       " 'ndet_xepsus',\n",
       " 'ndetsecd_sepint',\n",
       " 'ndetsecd_xsepint',\n",
       " 'ndetu_epsint',\n",
       " 'ndetu_epsus',\n",
       " 'ndetu_xepsint',\n",
       " 'ndetu_xepsus',\n",
       " 'ndetusecd_sepint',\n",
       " 'ndetusecd_xsepint',\n",
       " 'newact',\n",
       " 'newactu',\n",
       " 'newnact',\n",
       " 'newnactu',\n",
       " 'nexc_epsint',\n",
       " 'nexc_epsus',\n",
       " 'nexc_xepsint',\n",
       " 'nexc_xepsus',\n",
       " 'nexcsecd_sepint',\n",
       " 'nexcsecd_xsepint',\n",
       " 'nexcu_epsint',\n",
       " 'nexcu_epsus',\n",
       " 'nexcu_xepsint',\n",
       " 'nexcu_xepsus',\n",
       " 'nexcusecd_sepint',\n",
       " 'nexcusecd_xsepint',\n",
       " 'nptgdet',\n",
       " 'nptgdetu',\n",
       " 'nptgsum',\n",
       " 'nptgsumu',\n",
       " 'nract_epsint',\n",
       " 'nract_epsus',\n",
       " 'nract_xepsint',\n",
       " 'nract_xepsus',\n",
       " 'nractu_epsint',\n",
       " 'nractu_epsus',\n",
       " 'nractu_xepsint',\n",
       " 'nractu_xepsus',\n",
       " 'nsecdssum',\n",
       " 'nsecdssumu',\n",
       " 'nstatsum_epsint',\n",
       " 'nstatsum_epsus',\n",
       " 'nstatsum_xepsint',\n",
       " 'nstatsum_xepsus',\n",
       " 'nstatsumu_epsint',\n",
       " 'nstatsumu_epsus',\n",
       " 'nstatsumu_xepsint',\n",
       " 'nstatsumu_xepsus',\n",
       " 'nsurpsum',\n",
       " 'nsurpsumu',\n",
       " 'pansum',\n",
       " 'ptgdet',\n",
       " 'ptgdetu',\n",
       " 'ptgsum',\n",
       " 'ptgsumu',\n",
       " 'ract_epsint',\n",
       " 'ract_epsus',\n",
       " 'ract_xepsint',\n",
       " 'ract_xepsus',\n",
       " 'ractu_epsint',\n",
       " 'ractu_epsus',\n",
       " 'ractu_xepsint',\n",
       " 'ractu_xepsus',\n",
       " 'recddet',\n",
       " 'recdid',\n",
       " 'recdidsum',\n",
       " 'recdstp',\n",
       " 'recdsum',\n",
       " 'secdrevm',\n",
       " 'secdssum',\n",
       " 'secdssumu',\n",
       " 'split_guidance',\n",
       " 'statsum_epsint',\n",
       " 'statsum_epsus',\n",
       " 'statsum_xepsint',\n",
       " 'statsum_xepsus',\n",
       " 'statsumu_epsint',\n",
       " 'statsumu_epsus',\n",
       " 'statsumu_xepsint',\n",
       " 'statsumu_xepsus',\n",
       " 'stop_epsint',\n",
       " 'stop_epsus',\n",
       " 'stop_xepsint',\n",
       " 'stop_xepsus',\n",
       " 'stopptg',\n",
       " 'stopsecd_sepint',\n",
       " 'stopsecd_xsepint',\n",
       " 'stopu_epsint',\n",
       " 'stopu_epsus',\n",
       " 'stopu_xepsint',\n",
       " 'stopu_xepsus',\n",
       " 'surpsum',\n",
       " 'surpsumu',\n",
       " 'trbc']"
      ]
     },
     "execution_count": 4,
     "metadata": {},
     "output_type": "execute_result"
    }
   ],
   "source": [
    "ibes= conn.list_tables(library='ibes')\n",
    "print(len(ibes))\n",
    "ibes"
   ]
  },
  {
   "cell_type": "code",
   "execution_count": 5,
   "id": "091c59a9-73e0-41b9-947c-643868953649",
   "metadata": {},
   "outputs": [
    {
     "data": {
      "text/html": [
       "<div>\n",
       "<style scoped>\n",
       "    .dataframe tbody tr th:only-of-type {\n",
       "        vertical-align: middle;\n",
       "    }\n",
       "\n",
       "    .dataframe tbody tr th {\n",
       "        vertical-align: top;\n",
       "    }\n",
       "\n",
       "    .dataframe thead th {\n",
       "        text-align: right;\n",
       "    }\n",
       "</style>\n",
       "<table border=\"1\" class=\"dataframe\">\n",
       "  <thead>\n",
       "    <tr style=\"text-align: right;\">\n",
       "      <th></th>\n",
       "      <th>ticker</th>\n",
       "      <th>oftic</th>\n",
       "      <th>measure</th>\n",
       "      <th>fiscalp</th>\n",
       "      <th>pyear</th>\n",
       "      <th>pmon</th>\n",
       "      <th>usfirm</th>\n",
       "      <th>anndats</th>\n",
       "      <th>actual</th>\n",
       "      <th>surpmean</th>\n",
       "      <th>surpstdev</th>\n",
       "      <th>suescore</th>\n",
       "    </tr>\n",
       "  </thead>\n",
       "  <tbody>\n",
       "    <tr>\n",
       "      <th>0</th>\n",
       "      <td>0000</td>\n",
       "      <td>TLMR</td>\n",
       "      <td>BPS</td>\n",
       "      <td>QTR</td>\n",
       "      <td>2014.0</td>\n",
       "      <td>3.0</td>\n",
       "      <td>1.0</td>\n",
       "      <td>2014-05-06</td>\n",
       "      <td>9.9700</td>\n",
       "      <td>9.8100</td>\n",
       "      <td>0.22906</td>\n",
       "      <td>0.69852</td>\n",
       "    </tr>\n",
       "    <tr>\n",
       "      <th>1</th>\n",
       "      <td>0000</td>\n",
       "      <td>TLMR</td>\n",
       "      <td>BPS</td>\n",
       "      <td>QTR</td>\n",
       "      <td>2014.0</td>\n",
       "      <td>6.0</td>\n",
       "      <td>1.0</td>\n",
       "      <td>2014-08-06</td>\n",
       "      <td>10.3068</td>\n",
       "      <td>10.1275</td>\n",
       "      <td>0.06238</td>\n",
       "      <td>2.87418</td>\n",
       "    </tr>\n",
       "  </tbody>\n",
       "</table>\n",
       "</div>"
      ],
      "text/plain": [
       "  ticker oftic measure fiscalp   pyear  pmon  usfirm     anndats   actual  \\\n",
       "0   0000  TLMR     BPS     QTR  2014.0   3.0     1.0  2014-05-06   9.9700   \n",
       "1   0000  TLMR     BPS     QTR  2014.0   6.0     1.0  2014-08-06  10.3068   \n",
       "\n",
       "   surpmean  surpstdev  suescore  \n",
       "0    9.8100    0.22906   0.69852  \n",
       "1   10.1275    0.06238   2.87418  "
      ]
     },
     "execution_count": 5,
     "metadata": {},
     "output_type": "execute_result"
    }
   ],
   "source": [
    "sample= conn.get_table(library='ibes', table='surpsumu', obs=5)\n",
    "sample.head(2)"
   ]
  },
  {
   "cell_type": "markdown",
   "id": "b41d29e2-3ac8-4991-aedb-0f1bcd11cbaf",
   "metadata": {},
   "source": [
    "------------"
   ]
  },
  {
   "cell_type": "markdown",
   "id": "ff367b50-e084-4c48-9d5c-f7b102c0d914",
   "metadata": {},
   "source": [
    "### Download surpsumu (Surprise Summary) from IBES"
   ]
  },
  {
   "cell_type": "code",
   "execution_count": 6,
   "id": "d084d835-f04a-4654-9610-26b881799193",
   "metadata": {},
   "outputs": [
    {
     "data": {
      "text/html": [
       "<div>\n",
       "<style scoped>\n",
       "    .dataframe tbody tr th:only-of-type {\n",
       "        vertical-align: middle;\n",
       "    }\n",
       "\n",
       "    .dataframe tbody tr th {\n",
       "        vertical-align: top;\n",
       "    }\n",
       "\n",
       "    .dataframe thead th {\n",
       "        text-align: right;\n",
       "    }\n",
       "</style>\n",
       "<table border=\"1\" class=\"dataframe\">\n",
       "  <thead>\n",
       "    <tr style=\"text-align: right;\">\n",
       "      <th></th>\n",
       "      <th>ticker</th>\n",
       "      <th>oftic</th>\n",
       "      <th>pyear</th>\n",
       "      <th>pmon</th>\n",
       "      <th>anndats</th>\n",
       "    </tr>\n",
       "  </thead>\n",
       "  <tbody>\n",
       "    <tr>\n",
       "      <th>0</th>\n",
       "      <td>000V</td>\n",
       "      <td>EIGR</td>\n",
       "      <td>2019.0</td>\n",
       "      <td>12.0</td>\n",
       "      <td>2020-03-13</td>\n",
       "    </tr>\n",
       "    <tr>\n",
       "      <th>1</th>\n",
       "      <td>000V</td>\n",
       "      <td>EIGR</td>\n",
       "      <td>2020.0</td>\n",
       "      <td>3.0</td>\n",
       "      <td>2020-05-07</td>\n",
       "    </tr>\n",
       "  </tbody>\n",
       "</table>\n",
       "</div>"
      ],
      "text/plain": [
       "  ticker oftic   pyear  pmon     anndats\n",
       "0   000V  EIGR  2019.0  12.0  2020-03-13\n",
       "1   000V  EIGR  2020.0   3.0  2020-05-07"
      ]
     },
     "execution_count": 6,
     "metadata": {},
     "output_type": "execute_result"
    }
   ],
   "source": [
    "df= conn.raw_sql(f\"\"\"select ticker, oftic, pyear, pmon, anndats\n",
    "                    from ibes.surpsumu a                    \n",
    "                    where a.measure = 'EPS' and \n",
    "                        a.usfirm = 1 and\n",
    "                        a.fiscalp= 'QTR' and\n",
    "                        a.anndats >= '2020-01-01' and\n",
    "                        a.anndats <= '2021-12-31'\n",
    "                    \"\"\")\n",
    "df=df[(df.pyear>=2019) & (df.pyear<= 2021)]\n",
    "df.head(2)"
   ]
  },
  {
   "cell_type": "code",
   "execution_count": 7,
   "id": "23220a9b-0b6b-4e4b-b30c-557ebe6440c5",
   "metadata": {},
   "outputs": [
    {
     "data": {
      "text/html": [
       "<div>\n",
       "<style scoped>\n",
       "    .dataframe tbody tr th:only-of-type {\n",
       "        vertical-align: middle;\n",
       "    }\n",
       "\n",
       "    .dataframe tbody tr th {\n",
       "        vertical-align: top;\n",
       "    }\n",
       "\n",
       "    .dataframe thead th {\n",
       "        text-align: right;\n",
       "    }\n",
       "</style>\n",
       "<table border=\"1\" class=\"dataframe\">\n",
       "  <thead>\n",
       "    <tr style=\"text-align: right;\">\n",
       "      <th></th>\n",
       "      <th>ticker</th>\n",
       "      <th>oftic</th>\n",
       "      <th>pyear</th>\n",
       "      <th>pmon</th>\n",
       "      <th>anndats</th>\n",
       "      <th>pqtr</th>\n",
       "      <th>pyq</th>\n",
       "      <th>pym</th>\n",
       "    </tr>\n",
       "  </thead>\n",
       "  <tbody>\n",
       "    <tr>\n",
       "      <th>0</th>\n",
       "      <td>000V</td>\n",
       "      <td>EIGR</td>\n",
       "      <td>2019</td>\n",
       "      <td>12</td>\n",
       "      <td>2020-03-13</td>\n",
       "      <td>4</td>\n",
       "      <td>2019Q4</td>\n",
       "      <td>2019_12</td>\n",
       "    </tr>\n",
       "    <tr>\n",
       "      <th>1</th>\n",
       "      <td>000V</td>\n",
       "      <td>EIGR</td>\n",
       "      <td>2020</td>\n",
       "      <td>3</td>\n",
       "      <td>2020-05-07</td>\n",
       "      <td>1</td>\n",
       "      <td>2020Q1</td>\n",
       "      <td>2020_03</td>\n",
       "    </tr>\n",
       "    <tr>\n",
       "      <th>2</th>\n",
       "      <td>000V</td>\n",
       "      <td>EIGR</td>\n",
       "      <td>2020</td>\n",
       "      <td>6</td>\n",
       "      <td>2020-08-06</td>\n",
       "      <td>2</td>\n",
       "      <td>2020Q2</td>\n",
       "      <td>2020_06</td>\n",
       "    </tr>\n",
       "    <tr>\n",
       "      <th>3</th>\n",
       "      <td>000V</td>\n",
       "      <td>EIGR</td>\n",
       "      <td>2020</td>\n",
       "      <td>9</td>\n",
       "      <td>2020-11-05</td>\n",
       "      <td>3</td>\n",
       "      <td>2020Q3</td>\n",
       "      <td>2020_09</td>\n",
       "    </tr>\n",
       "    <tr>\n",
       "      <th>4</th>\n",
       "      <td>000V</td>\n",
       "      <td>EIGR</td>\n",
       "      <td>2020</td>\n",
       "      <td>12</td>\n",
       "      <td>2021-03-09</td>\n",
       "      <td>4</td>\n",
       "      <td>2020Q4</td>\n",
       "      <td>2020_12</td>\n",
       "    </tr>\n",
       "  </tbody>\n",
       "</table>\n",
       "</div>"
      ],
      "text/plain": [
       "  ticker oftic  pyear  pmon     anndats  pqtr     pyq      pym\n",
       "0   000V  EIGR   2019    12  2020-03-13     4  2019Q4  2019_12\n",
       "1   000V  EIGR   2020     3  2020-05-07     1  2020Q1  2020_03\n",
       "2   000V  EIGR   2020     6  2020-08-06     2  2020Q2  2020_06\n",
       "3   000V  EIGR   2020     9  2020-11-05     3  2020Q3  2020_09\n",
       "4   000V  EIGR   2020    12  2021-03-09     4  2020Q4  2020_12"
      ]
     },
     "execution_count": 7,
     "metadata": {},
     "output_type": "execute_result"
    }
   ],
   "source": [
    "# quarter\n",
    "df.loc[(df.pmon<=3), 'pqtr']= 1\n",
    "df.loc[(df.pmon>=4) & (df.pmon<=6), 'pqtr']= 2\n",
    "df.loc[(df.pmon>=7) & (df.pmon<=9), 'pqtr']= 3\n",
    "df.loc[(df.pmon>=10) & (df.pmon<=12), 'pqtr']= 4\n",
    "\n",
    "# year, month, quarter to integers\n",
    "df[['pyear', 'pmon', 'pqtr']]= df[['pyear', 'pmon', 'pqtr']].astype('int')\n",
    "\n",
    "# year-quarter\n",
    "df['pyq']= df['pyear'].astype('str') + \"Q\" +df['pqtr'].astype('str')\n",
    "\n",
    "# year-month\n",
    "df['pym']= df['pyear'].astype('str') + '_' + df['pmon'].astype('str').str.zfill(2)\n",
    "\n",
    "df.head()"
   ]
  },
  {
   "cell_type": "code",
   "execution_count": 8,
   "id": "1e9adb1c-7d8e-4dea-be63-f0aebd6ac642",
   "metadata": {},
   "outputs": [
    {
     "data": {
      "text/plain": [
       "(34484, 8)"
      ]
     },
     "execution_count": 8,
     "metadata": {},
     "output_type": "execute_result"
    }
   ],
   "source": [
    "df.shape"
   ]
  },
  {
   "cell_type": "code",
   "execution_count": 9,
   "id": "95223e7c-ed39-4abf-8d5a-4aea29fad0b4",
   "metadata": {},
   "outputs": [
    {
     "data": {
      "text/plain": [
       "2019     3916\n",
       "2020    16804\n",
       "2021    13764\n",
       "Name: pyear, dtype: int64"
      ]
     },
     "execution_count": 9,
     "metadata": {},
     "output_type": "execute_result"
    }
   ],
   "source": [
    "df.pyear.value_counts().sort_index()"
   ]
  },
  {
   "cell_type": "markdown",
   "id": "f030e0d7-0dba-4207-b1de-41f38e51db67",
   "metadata": {},
   "source": [
    "-----------"
   ]
  },
  {
   "cell_type": "markdown",
   "id": "f49f374d-cd46-4ed1-930f-f72e7a65ce8e",
   "metadata": {},
   "source": [
    "## Check data with visualization"
   ]
  },
  {
   "cell_type": "code",
   "execution_count": 12,
   "id": "5d998f61-1ea1-40f3-b24f-081e2ce71ab8",
   "metadata": {},
   "outputs": [
    {
     "data": {
      "text/plain": [
       "pyq\n",
       "2019Q1       1\n",
       "2019Q2       2\n",
       "2019Q3      17\n",
       "2019Q4    3896\n",
       "2020Q1    4111\n",
       "2020Q2    4149\n",
       "2020Q3    4214\n",
       "2020Q4    4330\n",
       "2021Q1    4356\n",
       "2021Q2    4509\n",
       "2021Q3    4645\n",
       "2021Q4     254\n",
       "Name: ticker, dtype: int64"
      ]
     },
     "execution_count": 12,
     "metadata": {},
     "output_type": "execute_result"
    }
   ],
   "source": [
    "df_yq= df.groupby('pyq').count()['ticker'].sort_index()\n",
    "df_yq"
   ]
  },
  {
   "cell_type": "code",
   "execution_count": 13,
   "id": "f25d2647-70c3-446f-9a89-e6d81ae5ee06",
   "metadata": {},
   "outputs": [
    {
     "data": {
      "image/png": "[encoded data removed]",
      "text/plain": [
       "<Figure size 576x360 with 1 Axes>"
      ]
     },
     "metadata": {
      "needs_background": "light"
     },
     "output_type": "display_data"
    }
   ],
   "source": [
    "df_yq.sort_index(ascending=False).plot(kind='barh', figsize= (8,5), grid= True)\n",
    "plt.show()"
   ]
  },
  {
   "cell_type": "markdown",
   "id": "7f1959f8-d9aa-4f5d-9195-51ce162e517a",
   "metadata": {},
   "source": [
    "----------"
   ]
  },
  {
   "cell_type": "markdown",
   "id": "5763c239-d8e5-405b-a75a-bae2db78330a",
   "metadata": {},
   "source": [
    "### Save to .csv"
   ]
  },
  {
   "cell_type": "code",
   "execution_count": 16,
   "id": "9d06fe4f-9705-4795-87e0-acd3a85e1dcb",
   "metadata": {},
   "outputs": [],
   "source": [
    "df.to_csv(\"data/ibes_surpsumu.csv\", index= None)"
   ]
  },
  {
   "cell_type": "markdown",
   "id": "3b95792b-8834-4a5c-990f-61404d19d466",
   "metadata": {},
   "source": [
    "### Close connection"
   ]
  },
  {
   "cell_type": "code",
   "execution_count": 17,
   "id": "0dcdca25-d8b5-4076-9be9-91dbe8a5127a",
   "metadata": {},
   "outputs": [],
   "source": [
    "conn.close()"
   ]
  },
  {
   "cell_type": "markdown",
   "id": "867ba998-bfc9-437a-ab7c-7b31a28710c3",
   "metadata": {},
   "source": [
    "---------"
   ]
  }
 ],
 "metadata": {
  "kernelspec": {
   "display_name": "sec",
   "language": "python",
   "name": "sec"
  },
  "language_info": {
   "codemirror_mode": {
    "name": "ipython",
    "version": 3
   },
   "file_extension": ".py",
   "mimetype": "text/x-python",
   "name": "python",
   "nbconvert_exporter": "python",
   "pygments_lexer": "ipython3",
   "version": "3.8.8"
  },
  "widgets": {
   "application/vnd.jupyter.widget-state+json": {
    "state": {},
    "version_major": 2,
    "version_minor": 0
   }
  }
 },
 "nbformat": 4,
 "nbformat_minor": 5
}
