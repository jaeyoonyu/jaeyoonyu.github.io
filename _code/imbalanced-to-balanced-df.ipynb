{
 "cells": [
  {
   "cell_type": "markdown",
   "id": "f0c3015b-d737-4551-92b5-b36adc898e98",
   "metadata": {},
   "source": [
    "-------------------------"
   ]
  },
  {
   "cell_type": "markdown",
   "id": "e73d0c20-cb78-48e2-9a60-74e1f9752a34",
   "metadata": {},
   "source": [
    "### Import libraries"
   ]
  },
  {
   "cell_type": "code",
   "execution_count": 1,
   "id": "dee1810d-aa05-49b9-a551-bed5497b6666",
   "metadata": {},
   "outputs": [],
   "source": [
    "import pandas as pd\n",
    "import seaborn as sns\n",
    "import matplotlib.pyplot as plt"
   ]
  },
  {
   "cell_type": "markdown",
   "id": "7ad19c64-ed41-4be4-8a1c-b5fe9c087cb7",
   "metadata": {},
   "source": [
    "---------------"
   ]
  },
  {
   "cell_type": "markdown",
   "id": "50e9d5d8-ae0d-4535-9d6f-ef67245007c5",
   "metadata": {},
   "source": [
    "### Load Compustat data"
   ]
  },
  {
   "cell_type": "code",
   "execution_count": 2,
   "id": "c7cc2a29-f1b8-4ccb-aa99-ed2927246947",
   "metadata": {},
   "outputs": [
    {
     "name": "stdout",
     "output_type": "stream",
     "text": [
      "(61008, 3)\n"
     ]
    },
    {
     "data": {
      "text/html": [
       "<div>\n",
       "<style scoped>\n",
       "    .dataframe tbody tr th:only-of-type {\n",
       "        vertical-align: middle;\n",
       "    }\n",
       "\n",
       "    .dataframe tbody tr th {\n",
       "        vertical-align: top;\n",
       "    }\n",
       "\n",
       "    .dataframe thead th {\n",
       "        text-align: right;\n",
       "    }\n",
       "</style>\n",
       "<table border=\"1\" class=\"dataframe\">\n",
       "  <thead>\n",
       "    <tr style=\"text-align: right;\">\n",
       "      <th></th>\n",
       "      <th>conm</th>\n",
       "      <th>gvkey</th>\n",
       "      <th>fyear</th>\n",
       "    </tr>\n",
       "  </thead>\n",
       "  <tbody>\n",
       "    <tr>\n",
       "      <th>20</th>\n",
       "      <td>AAR CORP</td>\n",
       "      <td>1004</td>\n",
       "      <td>2010</td>\n",
       "    </tr>\n",
       "    <tr>\n",
       "      <th>21</th>\n",
       "      <td>AAR CORP</td>\n",
       "      <td>1004</td>\n",
       "      <td>2011</td>\n",
       "    </tr>\n",
       "    <tr>\n",
       "      <th>22</th>\n",
       "      <td>AAR CORP</td>\n",
       "      <td>1004</td>\n",
       "      <td>2012</td>\n",
       "    </tr>\n",
       "    <tr>\n",
       "      <th>23</th>\n",
       "      <td>AAR CORP</td>\n",
       "      <td>1004</td>\n",
       "      <td>2013</td>\n",
       "    </tr>\n",
       "    <tr>\n",
       "      <th>24</th>\n",
       "      <td>AAR CORP</td>\n",
       "      <td>1004</td>\n",
       "      <td>2014</td>\n",
       "    </tr>\n",
       "  </tbody>\n",
       "</table>\n",
       "</div>"
      ],
      "text/plain": [
       "        conm  gvkey  fyear\n",
       "20  AAR CORP   1004   2010\n",
       "21  AAR CORP   1004   2011\n",
       "22  AAR CORP   1004   2012\n",
       "23  AAR CORP   1004   2013\n",
       "24  AAR CORP   1004   2014"
      ]
     },
     "execution_count": 2,
     "metadata": {},
     "output_type": "execute_result"
    }
   ],
   "source": [
    "df= pd.read_csv(\"data/compustat_from_1990.csv\")\n",
    "df=df[['conm', 'gvkey', 'fyear']]\n",
    "df=df[df['fyear']>=2010]\n",
    "print(df.shape)\n",
    "df.head()"
   ]
  },
  {
   "cell_type": "markdown",
   "id": "045e38b7-0842-4216-bef2-e9df36a9995d",
   "metadata": {},
   "source": [
    "### Visualize the imbalanced panel."
   ]
  },
  {
   "cell_type": "code",
   "execution_count": 3,
   "id": "6b39a618-ee5d-47cf-bd2b-c7f7ae575c45",
   "metadata": {},
   "outputs": [
    {
     "data": {
      "text/plain": [
       "<AxesSubplot:xlabel='fyear'>"
      ]
     },
     "execution_count": 3,
     "metadata": {},
     "output_type": "execute_result"
    },
    {
     "data": {
      "image/png": "[encoded data removed]",
      "text/plain": [
       "<Figure size 432x288 with 1 Axes>"
      ]
     },
     "metadata": {
      "needs_background": "light"
     },
     "output_type": "display_data"
    }
   ],
   "source": [
    "df.groupby('fyear').count()['gvkey'].plot(kind='line', grid= True, marker= '*')"
   ]
  },
  {
   "cell_type": "code",
   "execution_count": 4,
   "id": "0bbc3fa2-2fde-4c0a-97b2-e0950bd5c575",
   "metadata": {},
   "outputs": [
    {
     "data": {
      "text/html": [
       "<div>\n",
       "<style scoped>\n",
       "    .dataframe tbody tr th:only-of-type {\n",
       "        vertical-align: middle;\n",
       "    }\n",
       "\n",
       "    .dataframe tbody tr th {\n",
       "        vertical-align: top;\n",
       "    }\n",
       "\n",
       "    .dataframe thead th {\n",
       "        text-align: right;\n",
       "    }\n",
       "</style>\n",
       "<table border=\"1\" class=\"dataframe\">\n",
       "  <thead>\n",
       "    <tr style=\"text-align: right;\">\n",
       "      <th></th>\n",
       "      <th>gvkey</th>\n",
       "      <th>conm</th>\n",
       "      <th>N</th>\n",
       "    </tr>\n",
       "  </thead>\n",
       "  <tbody>\n",
       "    <tr>\n",
       "      <th>0</th>\n",
       "      <td>1004</td>\n",
       "      <td>11</td>\n",
       "      <td>11</td>\n",
       "    </tr>\n",
       "    <tr>\n",
       "      <th>1</th>\n",
       "      <td>1013</td>\n",
       "      <td>1</td>\n",
       "      <td>1</td>\n",
       "    </tr>\n",
       "    <tr>\n",
       "      <th>2</th>\n",
       "      <td>1045</td>\n",
       "      <td>11</td>\n",
       "      <td>11</td>\n",
       "    </tr>\n",
       "    <tr>\n",
       "      <th>3</th>\n",
       "      <td>1050</td>\n",
       "      <td>11</td>\n",
       "      <td>11</td>\n",
       "    </tr>\n",
       "    <tr>\n",
       "      <th>4</th>\n",
       "      <td>1072</td>\n",
       "      <td>9</td>\n",
       "      <td>9</td>\n",
       "    </tr>\n",
       "  </tbody>\n",
       "</table>\n",
       "</div>"
      ],
      "text/plain": [
       "   gvkey  conm   N\n",
       "0   1004    11  11\n",
       "1   1013     1   1\n",
       "2   1045    11  11\n",
       "3   1050    11  11\n",
       "4   1072     9   9"
      ]
     },
     "execution_count": 4,
     "metadata": {},
     "output_type": "execute_result"
    }
   ],
   "source": [
    "df_N= df.groupby('gvkey').agg('count').rename(columns={'fyear':'N'}).reset_index()\n",
    "df_N.head()"
   ]
  },
  {
   "cell_type": "code",
   "execution_count": 5,
   "id": "0ffe0974-5586-4d16-9734-e2782594f778",
   "metadata": {},
   "outputs": [
    {
     "data": {
      "text/plain": [
       "2694"
      ]
     },
     "execution_count": 5,
     "metadata": {},
     "output_type": "execute_result"
    }
   ],
   "source": [
    "gvkey_list= list(df_N[df_N.N== max(df_N.N)].gvkey)\n",
    "len(gvkey_list)"
   ]
  },
  {
   "cell_type": "code",
   "execution_count": 6,
   "id": "049fa3ff-70e0-46b9-9dc8-f5674920ef41",
   "metadata": {},
   "outputs": [
    {
     "name": "stdout",
     "output_type": "stream",
     "text": [
      "(29634, 3)\n"
     ]
    },
    {
     "data": {
      "text/html": [
       "<div>\n",
       "<style scoped>\n",
       "    .dataframe tbody tr th:only-of-type {\n",
       "        vertical-align: middle;\n",
       "    }\n",
       "\n",
       "    .dataframe tbody tr th {\n",
       "        vertical-align: top;\n",
       "    }\n",
       "\n",
       "    .dataframe thead th {\n",
       "        text-align: right;\n",
       "    }\n",
       "</style>\n",
       "<table border=\"1\" class=\"dataframe\">\n",
       "  <thead>\n",
       "    <tr style=\"text-align: right;\">\n",
       "      <th></th>\n",
       "      <th>conm</th>\n",
       "      <th>gvkey</th>\n",
       "      <th>fyear</th>\n",
       "    </tr>\n",
       "  </thead>\n",
       "  <tbody>\n",
       "    <tr>\n",
       "      <th>20</th>\n",
       "      <td>AAR CORP</td>\n",
       "      <td>1004</td>\n",
       "      <td>2010</td>\n",
       "    </tr>\n",
       "    <tr>\n",
       "      <th>21</th>\n",
       "      <td>AAR CORP</td>\n",
       "      <td>1004</td>\n",
       "      <td>2011</td>\n",
       "    </tr>\n",
       "    <tr>\n",
       "      <th>22</th>\n",
       "      <td>AAR CORP</td>\n",
       "      <td>1004</td>\n",
       "      <td>2012</td>\n",
       "    </tr>\n",
       "    <tr>\n",
       "      <th>23</th>\n",
       "      <td>AAR CORP</td>\n",
       "      <td>1004</td>\n",
       "      <td>2013</td>\n",
       "    </tr>\n",
       "    <tr>\n",
       "      <th>24</th>\n",
       "      <td>AAR CORP</td>\n",
       "      <td>1004</td>\n",
       "      <td>2014</td>\n",
       "    </tr>\n",
       "  </tbody>\n",
       "</table>\n",
       "</div>"
      ],
      "text/plain": [
       "        conm  gvkey  fyear\n",
       "20  AAR CORP   1004   2010\n",
       "21  AAR CORP   1004   2011\n",
       "22  AAR CORP   1004   2012\n",
       "23  AAR CORP   1004   2013\n",
       "24  AAR CORP   1004   2014"
      ]
     },
     "execution_count": 6,
     "metadata": {},
     "output_type": "execute_result"
    }
   ],
   "source": [
    "df= df[df.gvkey.isin(gvkey_list)]\n",
    "print(df.shape)\n",
    "df.head()"
   ]
  },
  {
   "cell_type": "markdown",
   "id": "ed193a4f-c188-48e4-ae34-7c0842e90586",
   "metadata": {},
   "source": [
    "--------------"
   ]
  },
  {
   "cell_type": "markdown",
   "id": "74cc9b03-8822-48c9-8c7a-2f48b377fe43",
   "metadata": {},
   "source": [
    "### Check whether balance is achieved."
   ]
  },
  {
   "cell_type": "markdown",
   "id": "b4660df3-d53a-40a5-8775-540b8b95650b",
   "metadata": {},
   "source": [
    "### 1) Visualization"
   ]
  },
  {
   "cell_type": "code",
   "execution_count": 7,
   "id": "1456d490-170d-432c-9137-1f0f09768fbb",
   "metadata": {},
   "outputs": [
    {
     "name": "stdout",
     "output_type": "stream",
     "text": [
      "Unique firms:  2694\n"
     ]
    },
    {
     "data": {
      "image/png": "[encoded data removed]",
      "text/plain": [
       "<Figure size 432x288 with 1 Axes>"
      ]
     },
     "metadata": {
      "needs_background": "light"
     },
     "output_type": "display_data"
    }
   ],
   "source": [
    "df.groupby('fyear').count()['gvkey'].plot(kind='line', grid= True, marker= '*')\n",
    "print(\"Unique firms: \",len(df.gvkey.unique()))\n",
    "plt.show()"
   ]
  },
  {
   "cell_type": "markdown",
   "id": "1a084711-40ea-490e-8b23-2dceb58e32e4",
   "metadata": {},
   "source": [
    "### 2) Calculation of # (years) * # (unique firms) = # (firm-years)"
   ]
  },
  {
   "cell_type": "code",
   "execution_count": 8,
   "id": "5b139dba-1013-4a89-9a4a-cbb3f0b39fcd",
   "metadata": {},
   "outputs": [
    {
     "name": "stdout",
     "output_type": "stream",
     "text": [
      "A: # of firm-year: 29634\n",
      "B: # of unique firms: 2694\n",
      "C: # of years: 11\n",
      "--------------------------------------------------\n",
      "Check of A= B*C: 29634= 2694*11= 29634\n"
     ]
    }
   ],
   "source": [
    "A= df.shape[0]\n",
    "B= len(df.gvkey.unique())\n",
    "C= len(df.fyear.unique())\n",
    "print(f\"A: # of firm-year: {A}\")\n",
    "print(f\"B: # of unique firms: {B}\")\n",
    "print(f\"C: # of years: {C}\")\n",
    "print(\"-\"*50)\n",
    "print(f\"Check of A= B*C: {A}= {B}*{C}= {B*C}\")"
   ]
  },
  {
   "cell_type": "markdown",
   "id": "94fcc929-12c8-45ee-b368-3b147c6b359a",
   "metadata": {},
   "source": [
    "---------------"
   ]
  }
 ],
 "metadata": {
  "kernelspec": {
   "display_name": "sec",
   "language": "python",
   "name": "sec"
  },
  "language_info": {
   "codemirror_mode": {
    "name": "ipython",
    "version": 3
   },
   "file_extension": ".py",
   "mimetype": "text/x-python",
   "name": "python",
   "nbconvert_exporter": "python",
   "pygments_lexer": "ipython3",
   "version": "3.8.8"
  },
  "widgets": {
   "application/vnd.jupyter.widget-state+json": {
    "state": {},
    "version_major": 2,
    "version_minor": 0
   }
  }
 },
 "nbformat": 4,
 "nbformat_minor": 5
}
