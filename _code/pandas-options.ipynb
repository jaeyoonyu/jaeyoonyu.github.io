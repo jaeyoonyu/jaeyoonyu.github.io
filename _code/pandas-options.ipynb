{
 "cells": [
  {
   "cell_type": "markdown",
   "id": "aceffd04-aec9-48f0-9949-072d08a3e0da",
   "metadata": {},
   "source": [
    "# Options and Settings for pandas\n",
    "* <code>get_option()</code> - get the value of a single option.\n",
    "* <code>set_option()</code> - set the value of a single option.\n",
    "* <code>reset_option()</code> - reset one or more options to their default value.\n",
    "* <code>describe_option()</code> - print the descriptions of one or more options.\n",
    "* <code>option_context()</code> - execute a codeblock with a set of options that revert to prior settings after execution.\n",
    "* For general description: [pandas docs](https://pandas.pydata.org/docs/user_guide/options.html)."
   ]
  },
  {
   "cell_type": "markdown",
   "id": "02e5df2f-e246-4254-acda-05e55a616837",
   "metadata": {},
   "source": [
    "------"
   ]
  },
  {
   "cell_type": "markdown",
   "id": "4b6534a9-36f4-41a4-a3a8-c902f39da9fc",
   "metadata": {},
   "source": [
    "## Useful ones"
   ]
  },
  {
   "cell_type": "markdown",
   "id": "a463d54b-c1c5-4157-bcd7-4ede54afd6f4",
   "metadata": {},
   "source": [
    "* How many columns to display?  \n",
    "All: <code>pd.set_option('display.max_columns', None)</code>  \n",
    "10: <code>pd.set_option('display.max_columns', 10)</code>  "
   ]
  },
  {
   "cell_type": "markdown",
   "id": "381d4b86-6f18-491c-ad3f-50214079b6e3",
   "metadata": {},
   "source": [
    "* How many rows to display?  \n",
    "999: <code>pd.set_option(\"display.max_rows\", 999)</code>"
   ]
  },
  {
   "cell_type": "markdown",
   "id": "01dddad7-e5ce-48e3-bf8d-c9ef99daf8fa",
   "metadata": {},
   "source": [
    "* How many characters displayed in a column?  \n",
    "40 for <code>pd.set_option(\"max_colwidth\", 40)</code>"
   ]
  },
  {
   "cell_type": "markdown",
   "id": "1fc2902d-6c62-4ce3-819b-a5220291dc46",
   "metadata": {},
   "source": [
    "* <code>display.max_info_columns</code> sets a threshold for the number of columns displayed when calling info()."
   ]
  },
  {
   "cell_type": "markdown",
   "id": "b882eb2d-03ff-470e-9420-e66e26c33a7c",
   "metadata": {},
   "source": [
    "* <code>display.precision</code> sets the output display precision in terms of decimal places."
   ]
  },
  {
   "cell_type": "markdown",
   "id": "ae839cd4-a135-4ce4-9781-33b3c1a6ba6e",
   "metadata": {},
   "source": [
    "* <code>display.chop_threshold</code> sets the rounding threshold to zero when displaying a Series or DataFrame. This setting does not change the precision at which the number is stored."
   ]
  },
  {
   "cell_type": "markdown",
   "id": "04e660d5-df19-4039-bffc-159b15baf993",
   "metadata": {},
   "source": [
    "* <code>display.colheader_justify</code> controls the justification of the headers. The options are 'right', and 'left'."
   ]
  },
  {
   "cell_type": "markdown",
   "id": "a9243cea-82ad-4cbd-9ffe-9a76558db937",
   "metadata": {},
   "source": [
    "------"
   ]
  }
 ],
 "metadata": {
  "kernelspec": {
   "display_name": "sec",
   "language": "python",
   "name": "sec"
  },
  "language_info": {
   "codemirror_mode": {
    "name": "ipython",
    "version": 3
   },
   "file_extension": ".py",
   "mimetype": "text/x-python",
   "name": "python",
   "nbconvert_exporter": "python",
   "pygments_lexer": "ipython3",
   "version": "3.8.8"
  },
  "widgets": {
   "application/vnd.jupyter.widget-state+json": {
    "state": {},
    "version_major": 2,
    "version_minor": 0
   }
  }
 },
 "nbformat": 4,
 "nbformat_minor": 5
}
