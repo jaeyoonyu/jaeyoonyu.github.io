{
 "cells": [
  {
   "cell_type": "markdown",
   "id": "003e3880-557d-41cf-921e-6bbcf2dceb3a",
   "metadata": {},
   "source": [
    "# Get SIC code list from SEC\n",
    "- url: https://www.sec.gov/corpfin/division-of-corporation-finance-standard-industrial-classification-sic-code-list"
   ]
  },
  {
   "cell_type": "code",
   "execution_count": null,
   "id": "4beeee7d-39b7-41d1-ba9b-d1954da40e31",
   "metadata": {},
   "outputs": [],
   "source": [
    "import pandas as pd\n",
    "import matplotlib.pyplot as plt"
   ]
  },
  {
   "cell_type": "markdown",
   "id": "38813c53-c4da-40f5-a45d-20aada1ada5c",
   "metadata": {},
   "source": [
    "--------------"
   ]
  },
  {
   "cell_type": "markdown",
   "id": "65ac53d3-c1a4-4edb-94ba-6dec1a2e4e70",
   "metadata": {},
   "source": [
    "### Get data using webscraping function built in pandas"
   ]
  },
  {
   "cell_type": "code",
   "execution_count": null,
   "id": "1f20e467-1f10-4520-91e1-cceb91fde466",
   "metadata": {},
   "outputs": [],
   "source": [
    "url= \"https://www.sec.gov/corpfin/division-of-corporation-finance-standard-industrial-classification-sic-code-list\"\n",
    "sic_table= pd.read_html(url)[0]\n",
    "sic_table.head()"
   ]
  },
  {
   "cell_type": "markdown",
   "id": "5cc4817d-6071-4137-9fcd-b49ee08e5d1e",
   "metadata": {},
   "source": [
    "---------------"
   ]
  },
  {
   "cell_type": "markdown",
   "id": "65ae605d-4a0b-4038-a358-795aa45670e9",
   "metadata": {},
   "source": [
    "### Describe data"
   ]
  },
  {
   "cell_type": "code",
   "execution_count": null,
   "id": "4d348939-5a0a-486d-95ac-125df1deff29",
   "metadata": {},
   "outputs": [],
   "source": [
    "sic_table.rename(columns= {'SIC Code':'sic', \n",
    "                           'Office':'office', \n",
    "                           'Industry Title':'industry title'},\n",
    "                 inplace=True)\n",
    "print(\"=\"*70)\n",
    "print(f\"  Unique N of ind in SEC: {sic_table.shape[0]}\")\n",
    "print(f\"  Unique N of off in SEC: {sic_table.nunique()['office']}\")\n",
    "print(\"=\"*70, '\\n')"
   ]
  },
  {
   "cell_type": "code",
   "execution_count": null,
   "id": "7420f1cc-7fc4-476a-9120-b5d97790b2c1",
   "metadata": {},
   "outputs": [],
   "source": [
    "sic_table.groupby('office').size().sort_values().plot(kind='barh', figsize= (7,7), grid= True)\n",
    "plt.yticks(fontsize=13)\n",
    "plt.title(\"The count of industries covered by each SEC office\", fontsize=20, pad=40)\n",
    "plt.show()"
   ]
  },
  {
   "cell_type": "markdown",
   "id": "4948002c-7020-4443-80ab-2bb32c0143bf",
   "metadata": {},
   "source": [
    "------------"
   ]
  },
  {
   "cell_type": "markdown",
   "id": "b47ab8d6-9321-498f-9440-709c9b5c0a8e",
   "metadata": {},
   "source": [
    "### Save as csv"
   ]
  },
  {
   "cell_type": "code",
   "execution_count": null,
   "id": "43b3d232-afca-4664-8a56-4d0474b0d01f",
   "metadata": {},
   "outputs": [],
   "source": [
    "# sic_table.to_csv('data/sic_list.csv')"
   ]
  },
  {
   "cell_type": "markdown",
   "id": "08cebd06-763e-4884-9fd0-b3446c7205b9",
   "metadata": {},
   "source": [
    "------------"
   ]
  }
 ],
 "metadata": {
  "kernelspec": {
   "display_name": "sec",
   "language": "python",
   "name": "sec"
  },
  "language_info": {
   "codemirror_mode": {
    "name": "ipython",
    "version": 3
   },
   "file_extension": ".py",
   "mimetype": "text/x-python",
   "name": "python",
   "nbconvert_exporter": "python",
   "pygments_lexer": "ipython3",
   "version": "3.8.8"
  },
  "widgets": {
   "application/vnd.jupyter.widget-state+json": {
    "state": {},
    "version_major": 2,
    "version_minor": 0
   }
  }
 },
 "nbformat": 4,
 "nbformat_minor": 5
}
