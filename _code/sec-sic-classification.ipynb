{
 "cells": [
  {
   "cell_type": "markdown",
   "id": "003e3880-557d-41cf-921e-6bbcf2dceb3a",
   "metadata": {},
   "source": [
    "# Get SIC code list from SEC\n",
    "- url: https://www.sec.gov/corpfin/division-of-corporation-finance-standard-industrial-classification-sic-code-list"
   ]
  },
  {
   "cell_type": "code",
   "execution_count": 1,
   "id": "4beeee7d-39b7-41d1-ba9b-d1954da40e31",
   "metadata": {},
   "outputs": [],
   "source": [
    "import pandas as pd\n",
    "import matplotlib.pyplot as plt"
   ]
  },
  {
   "cell_type": "markdown",
   "id": "38813c53-c4da-40f5-a45d-20aada1ada5c",
   "metadata": {},
   "source": [
    "--------------"
   ]
  },
  {
   "cell_type": "markdown",
   "id": "65ac53d3-c1a4-4edb-94ba-6dec1a2e4e70",
   "metadata": {},
   "source": [
    "### Get data using webscraping function built in pandas"
   ]
  },
  {
   "cell_type": "code",
   "execution_count": 2,
   "id": "1f20e467-1f10-4520-91e1-cceb91fde466",
   "metadata": {},
   "outputs": [
    {
     "data": {
      "text/html": [
       "<div>\n",
       "<style scoped>\n",
       "    .dataframe tbody tr th:only-of-type {\n",
       "        vertical-align: middle;\n",
       "    }\n",
       "\n",
       "    .dataframe tbody tr th {\n",
       "        vertical-align: top;\n",
       "    }\n",
       "\n",
       "    .dataframe thead th {\n",
       "        text-align: right;\n",
       "    }\n",
       "</style>\n",
       "<table border=\"1\" class=\"dataframe\">\n",
       "  <thead>\n",
       "    <tr style=\"text-align: right;\">\n",
       "      <th></th>\n",
       "      <th>SIC Code</th>\n",
       "      <th>Office</th>\n",
       "      <th>Industry Title</th>\n",
       "    </tr>\n",
       "  </thead>\n",
       "  <tbody>\n",
       "    <tr>\n",
       "      <th>0</th>\n",
       "      <td>100</td>\n",
       "      <td>Office of Life Sciences</td>\n",
       "      <td>AGRICULTURAL PRODUCTION-CROPS</td>\n",
       "    </tr>\n",
       "    <tr>\n",
       "      <th>1</th>\n",
       "      <td>200</td>\n",
       "      <td>Office of Life Sciences</td>\n",
       "      <td>AGRICULTURAL PROD-LIVESTOCK &amp; ANIMAL SPECIALTIES</td>\n",
       "    </tr>\n",
       "    <tr>\n",
       "      <th>2</th>\n",
       "      <td>700</td>\n",
       "      <td>Office of Life Sciences</td>\n",
       "      <td>AGRICULTURAL SERVICES</td>\n",
       "    </tr>\n",
       "    <tr>\n",
       "      <th>3</th>\n",
       "      <td>800</td>\n",
       "      <td>Office of Life Sciences</td>\n",
       "      <td>FORESTRY</td>\n",
       "    </tr>\n",
       "    <tr>\n",
       "      <th>4</th>\n",
       "      <td>900</td>\n",
       "      <td>Office of Life Sciences</td>\n",
       "      <td>FISHING, HUNTING AND TRAPPING</td>\n",
       "    </tr>\n",
       "  </tbody>\n",
       "</table>\n",
       "</div>"
      ],
      "text/plain": [
       "   SIC Code                   Office  \\\n",
       "0       100  Office of Life Sciences   \n",
       "1       200  Office of Life Sciences   \n",
       "2       700  Office of Life Sciences   \n",
       "3       800  Office of Life Sciences   \n",
       "4       900  Office of Life Sciences   \n",
       "\n",
       "                                     Industry Title  \n",
       "0                     AGRICULTURAL PRODUCTION-CROPS  \n",
       "1  AGRICULTURAL PROD-LIVESTOCK & ANIMAL SPECIALTIES  \n",
       "2                             AGRICULTURAL SERVICES  \n",
       "3                                          FORESTRY  \n",
       "4                     FISHING, HUNTING AND TRAPPING  "
      ]
     },
     "execution_count": 2,
     "metadata": {},
     "output_type": "execute_result"
    }
   ],
   "source": [
    "url= \"https://www.sec.gov/corpfin/division-of-corporation-finance-standard-industrial-classification-sic-code-list\"\n",
    "sic_table= pd.read_html(url)[0]\n",
    "sic_table.head()"
   ]
  },
  {
   "cell_type": "markdown",
   "id": "5cc4817d-6071-4137-9fcd-b49ee08e5d1e",
   "metadata": {},
   "source": [
    "---------------"
   ]
  },
  {
   "cell_type": "markdown",
   "id": "65ae605d-4a0b-4038-a358-795aa45670e9",
   "metadata": {},
   "source": [
    "### Describe data"
   ]
  },
  {
   "cell_type": "code",
   "execution_count": 3,
   "id": "4d348939-5a0a-486d-95ac-125df1deff29",
   "metadata": {},
   "outputs": [
    {
     "name": "stdout",
     "output_type": "stream",
     "text": [
      "==================================================\n",
      "  Unique N of ind in SEC: 444\n",
      "  Unique N of off in SEC: 9\n",
      "==================================================\n"
     ]
    },
    {
     "data": {
      "text/html": [
       "<div>\n",
       "<style scoped>\n",
       "    .dataframe tbody tr th:only-of-type {\n",
       "        vertical-align: middle;\n",
       "    }\n",
       "\n",
       "    .dataframe tbody tr th {\n",
       "        vertical-align: top;\n",
       "    }\n",
       "\n",
       "    .dataframe thead th {\n",
       "        text-align: right;\n",
       "    }\n",
       "</style>\n",
       "<table border=\"1\" class=\"dataframe\">\n",
       "  <thead>\n",
       "    <tr style=\"text-align: right;\">\n",
       "      <th></th>\n",
       "      <th>sic</th>\n",
       "      <th>office</th>\n",
       "      <th>industry title</th>\n",
       "    </tr>\n",
       "  </thead>\n",
       "  <tbody>\n",
       "    <tr>\n",
       "      <th>0</th>\n",
       "      <td>100</td>\n",
       "      <td>Office of Life Sciences</td>\n",
       "      <td>AGRICULTURAL PRODUCTION-CROPS</td>\n",
       "    </tr>\n",
       "    <tr>\n",
       "      <th>1</th>\n",
       "      <td>200</td>\n",
       "      <td>Office of Life Sciences</td>\n",
       "      <td>AGRICULTURAL PROD-LIVESTOCK &amp; ANIMAL SPECIALTIES</td>\n",
       "    </tr>\n",
       "    <tr>\n",
       "      <th>2</th>\n",
       "      <td>700</td>\n",
       "      <td>Office of Life Sciences</td>\n",
       "      <td>AGRICULTURAL SERVICES</td>\n",
       "    </tr>\n",
       "    <tr>\n",
       "      <th>3</th>\n",
       "      <td>800</td>\n",
       "      <td>Office of Life Sciences</td>\n",
       "      <td>FORESTRY</td>\n",
       "    </tr>\n",
       "    <tr>\n",
       "      <th>4</th>\n",
       "      <td>900</td>\n",
       "      <td>Office of Life Sciences</td>\n",
       "      <td>FISHING, HUNTING AND TRAPPING</td>\n",
       "    </tr>\n",
       "  </tbody>\n",
       "</table>\n",
       "</div>"
      ],
      "text/plain": [
       "   sic                   office  \\\n",
       "0  100  Office of Life Sciences   \n",
       "1  200  Office of Life Sciences   \n",
       "2  700  Office of Life Sciences   \n",
       "3  800  Office of Life Sciences   \n",
       "4  900  Office of Life Sciences   \n",
       "\n",
       "                                     industry title  \n",
       "0                     AGRICULTURAL PRODUCTION-CROPS  \n",
       "1  AGRICULTURAL PROD-LIVESTOCK & ANIMAL SPECIALTIES  \n",
       "2                             AGRICULTURAL SERVICES  \n",
       "3                                          FORESTRY  \n",
       "4                     FISHING, HUNTING AND TRAPPING  "
      ]
     },
     "execution_count": 3,
     "metadata": {},
     "output_type": "execute_result"
    }
   ],
   "source": [
    "sic_table.rename(columns= {'SIC Code':'sic', \n",
    "                           'Office':'office', \n",
    "                           'Industry Title':'industry title'},\n",
    "                 inplace=True)\n",
    "print(\"=\"*50)\n",
    "print(f\"  Unique N of ind in SEC: {sic_table.shape[0]}\")\n",
    "print(f\"  Unique N of off in SEC: {sic_table.nunique()['office']}\")\n",
    "print(\"=\"*50)\n",
    "sic_table.head()"
   ]
  },
  {
   "cell_type": "code",
   "execution_count": 4,
   "id": "9a2e914f-2c95-4e7f-bbd9-c1a205866a66",
   "metadata": {},
   "outputs": [
    {
     "data": {
      "image/png": "[encoded data removed]",
      "text/plain": [
       "<Figure size 504x504 with 1 Axes>"
      ]
     },
     "metadata": {
      "needs_background": "light"
     },
     "output_type": "display_data"
    }
   ],
   "source": [
    "sic_table.groupby('office').size().sort_values().plot(kind='barh', figsize= (7,7), grid= True)\n",
    "plt.yticks(fontsize=15)\n",
    "plt.show()"
   ]
  },
  {
   "cell_type": "markdown",
   "id": "4948002c-7020-4443-80ab-2bb32c0143bf",
   "metadata": {},
   "source": [
    "------------"
   ]
  },
  {
   "cell_type": "markdown",
   "id": "b47ab8d6-9321-498f-9440-709c9b5c0a8e",
   "metadata": {},
   "source": [
    "### Save as csv"
   ]
  },
  {
   "cell_type": "code",
   "execution_count": 5,
   "id": "43b3d232-afca-4664-8a56-4d0474b0d01f",
   "metadata": {},
   "outputs": [],
   "source": [
    "# sic_table.to_csv('data/sic_list.csv')"
   ]
  },
  {
   "cell_type": "markdown",
   "id": "08cebd06-763e-4884-9fd0-b3446c7205b9",
   "metadata": {},
   "source": [
    "------------"
   ]
  }
 ],
 "metadata": {
  "kernelspec": {
   "display_name": "sec",
   "language": "python",
   "name": "sec"
  },
  "language_info": {
   "codemirror_mode": {
    "name": "ipython",
    "version": 3
   },
   "file_extension": ".py",
   "mimetype": "text/x-python",
   "name": "python",
   "nbconvert_exporter": "python",
   "pygments_lexer": "ipython3",
   "version": "3.8.8"
  },
  "widgets": {
   "application/vnd.jupyter.widget-state+json": {
    "state": {},
    "version_major": 2,
    "version_minor": 0
   }
  }
 },
 "nbformat": 4,
 "nbformat_minor": 5
}
