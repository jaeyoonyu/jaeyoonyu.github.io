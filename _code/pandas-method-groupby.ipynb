{
 "cells": [
  {
   "cell_type": "markdown",
   "id": "8ad3c7e9-4b54-4780-9b54-b183c00ae5ee",
   "metadata": {},
   "source": [
    "# Usage of DataFrame.groupby()\n",
    "- Group DataFrame using a mapper or by a Series of columns.\n",
    "- A groupby operation involves some combination of <b>splitting</b> the object, <b>applying</b> a function, and <b>combining</b> the results. This can be used to group large amounts of data and compute operations on these groups. \n",
    "- Syntax: <code>DataFrame.groupby(by=None, axis=0, level=None, as_index=True, sort=True, group_keys=True, squeeze=NoDefault.no_default, observed=False, dropna=True)</code>\n",
    "- Description from [pandas documentation](https://pandas.pydata.org/docs/reference/api/pandas.DataFrame.groupby.html)"
   ]
  },
  {
   "cell_type": "markdown",
   "id": "aaa1dba5-c93e-4d96-a3a7-d9fa1f5b4144",
   "metadata": {},
   "source": [
    "-----------"
   ]
  },
  {
   "cell_type": "code",
   "execution_count": 34,
   "id": "6108350b-28ed-4581-a857-f38afd176b21",
   "metadata": {},
   "outputs": [],
   "source": [
    "import pandas as pd\n",
    "import matplotlib.pyplot as plt"
   ]
  },
  {
   "cell_type": "code",
   "execution_count": 29,
   "id": "50e04d2a-af6d-4a7a-a2d6-4f871b7af960",
   "metadata": {},
   "outputs": [
    {
     "data": {
      "text/html": [
       "<div>\n",
       "<style scoped>\n",
       "    .dataframe tbody tr th:only-of-type {\n",
       "        vertical-align: middle;\n",
       "    }\n",
       "\n",
       "    .dataframe tbody tr th {\n",
       "        vertical-align: top;\n",
       "    }\n",
       "\n",
       "    .dataframe thead th {\n",
       "        text-align: right;\n",
       "    }\n",
       "</style>\n",
       "<table border=\"1\" class=\"dataframe\">\n",
       "  <thead>\n",
       "    <tr style=\"text-align: right;\">\n",
       "      <th></th>\n",
       "      <th>Date</th>\n",
       "      <th>Close</th>\n",
       "      <th>Open</th>\n",
       "      <th>High</th>\n",
       "      <th>Low</th>\n",
       "      <th>Volume</th>\n",
       "      <th>Change</th>\n",
       "      <th>Ticker</th>\n",
       "    </tr>\n",
       "  </thead>\n",
       "  <tbody>\n",
       "    <tr>\n",
       "      <th>0</th>\n",
       "      <td>2020-01-02</td>\n",
       "      <td>30.99</td>\n",
       "      <td>29.94</td>\n",
       "      <td>31.00</td>\n",
       "      <td>29.79</td>\n",
       "      <td>20580000.0</td>\n",
       "      <td>0.0420</td>\n",
       "      <td>UBER</td>\n",
       "    </tr>\n",
       "    <tr>\n",
       "      <th>1</th>\n",
       "      <td>2020-01-03</td>\n",
       "      <td>31.37</td>\n",
       "      <td>30.62</td>\n",
       "      <td>31.43</td>\n",
       "      <td>30.48</td>\n",
       "      <td>18830000.0</td>\n",
       "      <td>0.0123</td>\n",
       "      <td>UBER</td>\n",
       "    </tr>\n",
       "    <tr>\n",
       "      <th>2</th>\n",
       "      <td>2020-01-06</td>\n",
       "      <td>31.58</td>\n",
       "      <td>31.01</td>\n",
       "      <td>32.06</td>\n",
       "      <td>31.00</td>\n",
       "      <td>21220000.0</td>\n",
       "      <td>0.0067</td>\n",
       "      <td>UBER</td>\n",
       "    </tr>\n",
       "    <tr>\n",
       "      <th>3</th>\n",
       "      <td>2020-01-07</td>\n",
       "      <td>32.81</td>\n",
       "      <td>31.79</td>\n",
       "      <td>32.84</td>\n",
       "      <td>31.36</td>\n",
       "      <td>30270000.0</td>\n",
       "      <td>0.0389</td>\n",
       "      <td>UBER</td>\n",
       "    </tr>\n",
       "    <tr>\n",
       "      <th>4</th>\n",
       "      <td>2020-01-08</td>\n",
       "      <td>33.93</td>\n",
       "      <td>32.73</td>\n",
       "      <td>34.52</td>\n",
       "      <td>32.46</td>\n",
       "      <td>43960000.0</td>\n",
       "      <td>0.0341</td>\n",
       "      <td>UBER</td>\n",
       "    </tr>\n",
       "  </tbody>\n",
       "</table>\n",
       "</div>"
      ],
      "text/plain": [
       "         Date  Close   Open   High    Low      Volume  Change Ticker\n",
       "0  2020-01-02  30.99  29.94  31.00  29.79  20580000.0  0.0420   UBER\n",
       "1  2020-01-03  31.37  30.62  31.43  30.48  18830000.0  0.0123   UBER\n",
       "2  2020-01-06  31.58  31.01  32.06  31.00  21220000.0  0.0067   UBER\n",
       "3  2020-01-07  32.81  31.79  32.84  31.36  30270000.0  0.0389   UBER\n",
       "4  2020-01-08  33.93  32.73  34.52  32.46  43960000.0  0.0341   UBER"
      ]
     },
     "execution_count": 29,
     "metadata": {},
     "output_type": "execute_result"
    }
   ],
   "source": [
    "df= pd.read_csv('data/stock_data.csv')\n",
    "df.head()"
   ]
  },
  {
   "cell_type": "markdown",
   "id": "311d7b28-d04c-4c7d-9344-2e3c35144c93",
   "metadata": {},
   "source": [
    "------------"
   ]
  },
  {
   "cell_type": "markdown",
   "id": "cae0bbe0-c3e8-4460-a3f6-090c56227b01",
   "metadata": {},
   "source": [
    "## Generate a 'groupby' object"
   ]
  },
  {
   "cell_type": "code",
   "execution_count": 30,
   "id": "5f0c53dd-4e69-49d8-802e-c2087d6ef5ce",
   "metadata": {},
   "outputs": [
    {
     "name": "stdout",
     "output_type": "stream",
     "text": [
      "<class 'pandas.core.groupby.generic.DataFrameGroupBy'>\n"
     ]
    }
   ],
   "source": [
    "grouped= df.groupby('Ticker')\n",
    "print(type(grouped))"
   ]
  },
  {
   "cell_type": "code",
   "execution_count": 31,
   "id": "3d5a083a-a88e-40ab-b808-d05ff3b7aa29",
   "metadata": {},
   "outputs": [
    {
     "data": {
      "text/html": [
       "<div>\n",
       "<style scoped>\n",
       "    .dataframe tbody tr th:only-of-type {\n",
       "        vertical-align: middle;\n",
       "    }\n",
       "\n",
       "    .dataframe tbody tr th {\n",
       "        vertical-align: top;\n",
       "    }\n",
       "\n",
       "    .dataframe thead th {\n",
       "        text-align: right;\n",
       "    }\n",
       "</style>\n",
       "<table border=\"1\" class=\"dataframe\">\n",
       "  <thead>\n",
       "    <tr style=\"text-align: right;\">\n",
       "      <th></th>\n",
       "      <th>Date</th>\n",
       "      <th>Close</th>\n",
       "      <th>Open</th>\n",
       "      <th>High</th>\n",
       "      <th>Low</th>\n",
       "      <th>Volume</th>\n",
       "      <th>Change</th>\n",
       "      <th>Ticker</th>\n",
       "    </tr>\n",
       "  </thead>\n",
       "  <tbody>\n",
       "    <tr>\n",
       "      <th>0</th>\n",
       "      <td>2020-01-02</td>\n",
       "      <td>30.99</td>\n",
       "      <td>29.94</td>\n",
       "      <td>31.00</td>\n",
       "      <td>29.79</td>\n",
       "      <td>20580000.0</td>\n",
       "      <td>0.0420</td>\n",
       "      <td>UBER</td>\n",
       "    </tr>\n",
       "    <tr>\n",
       "      <th>1</th>\n",
       "      <td>2020-01-03</td>\n",
       "      <td>31.37</td>\n",
       "      <td>30.62</td>\n",
       "      <td>31.43</td>\n",
       "      <td>30.48</td>\n",
       "      <td>18830000.0</td>\n",
       "      <td>0.0123</td>\n",
       "      <td>UBER</td>\n",
       "    </tr>\n",
       "    <tr>\n",
       "      <th>420</th>\n",
       "      <td>2020-01-02</td>\n",
       "      <td>43.58</td>\n",
       "      <td>43.22</td>\n",
       "      <td>44.07</td>\n",
       "      <td>43.17</td>\n",
       "      <td>3910000.0</td>\n",
       "      <td>0.0130</td>\n",
       "      <td>LYFT</td>\n",
       "    </tr>\n",
       "    <tr>\n",
       "      <th>421</th>\n",
       "      <td>2020-01-03</td>\n",
       "      <td>43.19</td>\n",
       "      <td>42.85</td>\n",
       "      <td>43.36</td>\n",
       "      <td>42.23</td>\n",
       "      <td>4410000.0</td>\n",
       "      <td>-0.0089</td>\n",
       "      <td>LYFT</td>\n",
       "    </tr>\n",
       "    <tr>\n",
       "      <th>840</th>\n",
       "      <td>2020-01-02</td>\n",
       "      <td>41.75</td>\n",
       "      <td>42.23</td>\n",
       "      <td>42.23</td>\n",
       "      <td>41.26</td>\n",
       "      <td>1020000.0</td>\n",
       "      <td>-0.0033</td>\n",
       "      <td>CROX</td>\n",
       "    </tr>\n",
       "    <tr>\n",
       "      <th>841</th>\n",
       "      <td>2020-01-03</td>\n",
       "      <td>42.08</td>\n",
       "      <td>41.31</td>\n",
       "      <td>42.14</td>\n",
       "      <td>41.16</td>\n",
       "      <td>662840.0</td>\n",
       "      <td>0.0079</td>\n",
       "      <td>CROX</td>\n",
       "    </tr>\n",
       "  </tbody>\n",
       "</table>\n",
       "</div>"
      ],
      "text/plain": [
       "           Date  Close   Open   High    Low      Volume  Change Ticker\n",
       "0    2020-01-02  30.99  29.94  31.00  29.79  20580000.0  0.0420   UBER\n",
       "1    2020-01-03  31.37  30.62  31.43  30.48  18830000.0  0.0123   UBER\n",
       "420  2020-01-02  43.58  43.22  44.07  43.17   3910000.0  0.0130   LYFT\n",
       "421  2020-01-03  43.19  42.85  43.36  42.23   4410000.0 -0.0089   LYFT\n",
       "840  2020-01-02  41.75  42.23  42.23  41.26   1020000.0 -0.0033   CROX\n",
       "841  2020-01-03  42.08  41.31  42.14  41.16    662840.0  0.0079   CROX"
      ]
     },
     "execution_count": 31,
     "metadata": {},
     "output_type": "execute_result"
    }
   ],
   "source": [
    "grouped.head(2)"
   ]
  },
  {
   "cell_type": "markdown",
   "id": "bc66f5dc-5742-43aa-9bd4-8e9fc6dca96a",
   "metadata": {},
   "source": [
    "------------"
   ]
  },
  {
   "cell_type": "markdown",
   "id": "ad9124b6-4bba-4947-aa8c-c42b40180e71",
   "metadata": {},
   "source": [
    "## Basic works"
   ]
  },
  {
   "cell_type": "markdown",
   "id": "1039b422-c383-470f-93f5-37ffa38d10f8",
   "metadata": {},
   "source": [
    "#### check the number of groups"
   ]
  },
  {
   "cell_type": "code",
   "execution_count": 46,
   "id": "a6afe322-f642-4c4f-8bc1-3b173262124d",
   "metadata": {},
   "outputs": [
    {
     "data": {
      "text/plain": [
       "3"
      ]
     },
     "execution_count": 46,
     "metadata": {},
     "output_type": "execute_result"
    }
   ],
   "source": [
    "grouped.ngroups"
   ]
  },
  {
   "cell_type": "markdown",
   "id": "2a84fd1c-c1eb-4323-8be2-83dbb55234e7",
   "metadata": {},
   "source": [
    "#### check the size of each group"
   ]
  },
  {
   "cell_type": "code",
   "execution_count": 7,
   "id": "4167bcc7-c238-4f48-a0c7-9c64cef9efd8",
   "metadata": {},
   "outputs": [
    {
     "data": {
      "text/plain": [
       "Ticker\n",
       "CROX    420\n",
       "LYFT    420\n",
       "UBER    420\n",
       "dtype: int64"
      ]
     },
     "execution_count": 7,
     "metadata": {},
     "output_type": "execute_result"
    }
   ],
   "source": [
    "grouped.size()"
   ]
  },
  {
   "cell_type": "markdown",
   "id": "411877a7-716b-4851-8376-1cac425bd31a",
   "metadata": {},
   "source": [
    "#### check the number of values for each column by each group"
   ]
  },
  {
   "cell_type": "code",
   "execution_count": 8,
   "id": "ad05aad1-1a74-4118-8d52-4445a465702b",
   "metadata": {},
   "outputs": [
    {
     "data": {
      "text/html": [
       "<div>\n",
       "<style scoped>\n",
       "    .dataframe tbody tr th:only-of-type {\n",
       "        vertical-align: middle;\n",
       "    }\n",
       "\n",
       "    .dataframe tbody tr th {\n",
       "        vertical-align: top;\n",
       "    }\n",
       "\n",
       "    .dataframe thead th {\n",
       "        text-align: right;\n",
       "    }\n",
       "</style>\n",
       "<table border=\"1\" class=\"dataframe\">\n",
       "  <thead>\n",
       "    <tr style=\"text-align: right;\">\n",
       "      <th></th>\n",
       "      <th>Date</th>\n",
       "      <th>Close</th>\n",
       "      <th>Open</th>\n",
       "      <th>High</th>\n",
       "      <th>Low</th>\n",
       "      <th>Volume</th>\n",
       "      <th>Change</th>\n",
       "    </tr>\n",
       "    <tr>\n",
       "      <th>Ticker</th>\n",
       "      <th></th>\n",
       "      <th></th>\n",
       "      <th></th>\n",
       "      <th></th>\n",
       "      <th></th>\n",
       "      <th></th>\n",
       "      <th></th>\n",
       "    </tr>\n",
       "  </thead>\n",
       "  <tbody>\n",
       "    <tr>\n",
       "      <th>CROX</th>\n",
       "      <td>420</td>\n",
       "      <td>420</td>\n",
       "      <td>420</td>\n",
       "      <td>420</td>\n",
       "      <td>420</td>\n",
       "      <td>420</td>\n",
       "      <td>420</td>\n",
       "    </tr>\n",
       "    <tr>\n",
       "      <th>LYFT</th>\n",
       "      <td>420</td>\n",
       "      <td>420</td>\n",
       "      <td>420</td>\n",
       "      <td>420</td>\n",
       "      <td>420</td>\n",
       "      <td>420</td>\n",
       "      <td>420</td>\n",
       "    </tr>\n",
       "    <tr>\n",
       "      <th>UBER</th>\n",
       "      <td>420</td>\n",
       "      <td>420</td>\n",
       "      <td>420</td>\n",
       "      <td>420</td>\n",
       "      <td>420</td>\n",
       "      <td>420</td>\n",
       "      <td>420</td>\n",
       "    </tr>\n",
       "  </tbody>\n",
       "</table>\n",
       "</div>"
      ],
      "text/plain": [
       "        Date  Close  Open  High  Low  Volume  Change\n",
       "Ticker                                              \n",
       "CROX     420    420   420   420  420     420     420\n",
       "LYFT     420    420   420   420  420     420     420\n",
       "UBER     420    420   420   420  420     420     420"
      ]
     },
     "execution_count": 8,
     "metadata": {},
     "output_type": "execute_result"
    }
   ],
   "source": [
    "grouped.count()"
   ]
  },
  {
   "cell_type": "markdown",
   "id": "022301d5-6ca3-4dd3-8f58-f5e136d9d377",
   "metadata": {},
   "source": [
    "--------"
   ]
  },
  {
   "cell_type": "markdown",
   "id": "30c9ac44-71d5-4264-9f93-86a80f75dd53",
   "metadata": {},
   "source": [
    "## Get sub-data"
   ]
  },
  {
   "cell_type": "markdown",
   "id": "d85d7ef4-f24f-4301-9a28-7d1f52265707",
   "metadata": {},
   "source": [
    "#### Get the first group"
   ]
  },
  {
   "cell_type": "code",
   "execution_count": 51,
   "id": "de650736-472a-4a4a-8c24-a7fe39fa2122",
   "metadata": {},
   "outputs": [
    {
     "data": {
      "text/html": [
       "<div>\n",
       "<style scoped>\n",
       "    .dataframe tbody tr th:only-of-type {\n",
       "        vertical-align: middle;\n",
       "    }\n",
       "\n",
       "    .dataframe tbody tr th {\n",
       "        vertical-align: top;\n",
       "    }\n",
       "\n",
       "    .dataframe thead th {\n",
       "        text-align: right;\n",
       "    }\n",
       "</style>\n",
       "<table border=\"1\" class=\"dataframe\">\n",
       "  <thead>\n",
       "    <tr style=\"text-align: right;\">\n",
       "      <th></th>\n",
       "      <th>Date</th>\n",
       "      <th>Close</th>\n",
       "      <th>Open</th>\n",
       "      <th>High</th>\n",
       "      <th>Low</th>\n",
       "      <th>Volume</th>\n",
       "      <th>Change</th>\n",
       "    </tr>\n",
       "    <tr>\n",
       "      <th>Ticker</th>\n",
       "      <th></th>\n",
       "      <th></th>\n",
       "      <th></th>\n",
       "      <th></th>\n",
       "      <th></th>\n",
       "      <th></th>\n",
       "      <th></th>\n",
       "    </tr>\n",
       "  </thead>\n",
       "  <tbody>\n",
       "    <tr>\n",
       "      <th>CROX</th>\n",
       "      <td>2020-01-02</td>\n",
       "      <td>41.75</td>\n",
       "      <td>42.23</td>\n",
       "      <td>42.23</td>\n",
       "      <td>41.26</td>\n",
       "      <td>1020000.0</td>\n",
       "      <td>-0.0033</td>\n",
       "    </tr>\n",
       "    <tr>\n",
       "      <th>LYFT</th>\n",
       "      <td>2020-01-02</td>\n",
       "      <td>43.58</td>\n",
       "      <td>43.22</td>\n",
       "      <td>44.07</td>\n",
       "      <td>43.17</td>\n",
       "      <td>3910000.0</td>\n",
       "      <td>0.0130</td>\n",
       "    </tr>\n",
       "    <tr>\n",
       "      <th>UBER</th>\n",
       "      <td>2020-01-02</td>\n",
       "      <td>30.99</td>\n",
       "      <td>29.94</td>\n",
       "      <td>31.00</td>\n",
       "      <td>29.79</td>\n",
       "      <td>20580000.0</td>\n",
       "      <td>0.0420</td>\n",
       "    </tr>\n",
       "  </tbody>\n",
       "</table>\n",
       "</div>"
      ],
      "text/plain": [
       "              Date  Close   Open   High    Low      Volume  Change\n",
       "Ticker                                                            \n",
       "CROX    2020-01-02  41.75  42.23  42.23  41.26   1020000.0 -0.0033\n",
       "LYFT    2020-01-02  43.58  43.22  44.07  43.17   3910000.0  0.0130\n",
       "UBER    2020-01-02  30.99  29.94  31.00  29.79  20580000.0  0.0420"
      ]
     },
     "execution_count": 51,
     "metadata": {},
     "output_type": "execute_result"
    }
   ],
   "source": [
    "grouped.first() # first non-null values in each column"
   ]
  },
  {
   "cell_type": "code",
   "execution_count": 56,
   "id": "1b02a4f9-ffc8-4115-a63c-c3f4307bd17f",
   "metadata": {},
   "outputs": [
    {
     "data": {
      "text/html": [
       "<div>\n",
       "<style scoped>\n",
       "    .dataframe tbody tr th:only-of-type {\n",
       "        vertical-align: middle;\n",
       "    }\n",
       "\n",
       "    .dataframe tbody tr th {\n",
       "        vertical-align: top;\n",
       "    }\n",
       "\n",
       "    .dataframe thead th {\n",
       "        text-align: right;\n",
       "    }\n",
       "</style>\n",
       "<table border=\"1\" class=\"dataframe\">\n",
       "  <thead>\n",
       "    <tr style=\"text-align: right;\">\n",
       "      <th></th>\n",
       "      <th>Date</th>\n",
       "      <th>Close</th>\n",
       "      <th>Open</th>\n",
       "      <th>High</th>\n",
       "      <th>Low</th>\n",
       "      <th>Volume</th>\n",
       "      <th>Change</th>\n",
       "    </tr>\n",
       "    <tr>\n",
       "      <th>Ticker</th>\n",
       "      <th></th>\n",
       "      <th></th>\n",
       "      <th></th>\n",
       "      <th></th>\n",
       "      <th></th>\n",
       "      <th></th>\n",
       "      <th></th>\n",
       "    </tr>\n",
       "  </thead>\n",
       "  <tbody>\n",
       "    <tr>\n",
       "      <th>CROX</th>\n",
       "      <td>2020-01-02</td>\n",
       "      <td>41.75</td>\n",
       "      <td>42.23</td>\n",
       "      <td>42.23</td>\n",
       "      <td>41.26</td>\n",
       "      <td>1020000.0</td>\n",
       "      <td>-0.0033</td>\n",
       "    </tr>\n",
       "    <tr>\n",
       "      <th>LYFT</th>\n",
       "      <td>2020-01-02</td>\n",
       "      <td>43.58</td>\n",
       "      <td>43.22</td>\n",
       "      <td>44.07</td>\n",
       "      <td>43.17</td>\n",
       "      <td>3910000.0</td>\n",
       "      <td>0.0130</td>\n",
       "    </tr>\n",
       "    <tr>\n",
       "      <th>UBER</th>\n",
       "      <td>2020-01-02</td>\n",
       "      <td>30.99</td>\n",
       "      <td>29.94</td>\n",
       "      <td>31.00</td>\n",
       "      <td>29.79</td>\n",
       "      <td>20580000.0</td>\n",
       "      <td>0.0420</td>\n",
       "    </tr>\n",
       "  </tbody>\n",
       "</table>\n",
       "</div>"
      ],
      "text/plain": [
       "              Date  Close   Open   High    Low      Volume  Change\n",
       "Ticker                                                            \n",
       "CROX    2020-01-02  41.75  42.23  42.23  41.26   1020000.0 -0.0033\n",
       "LYFT    2020-01-02  43.58  43.22  44.07  43.17   3910000.0  0.0130\n",
       "UBER    2020-01-02  30.99  29.94  31.00  29.79  20580000.0  0.0420"
      ]
     },
     "execution_count": 56,
     "metadata": {},
     "output_type": "execute_result"
    }
   ],
   "source": [
    "grouped.nth(0) # 0-th entire row, regardless of missing or not."
   ]
  },
  {
   "cell_type": "markdown",
   "id": "b5b09273-6f61-49db-b22d-62b5b943b68a",
   "metadata": {},
   "source": [
    "#### Get the last group"
   ]
  },
  {
   "cell_type": "code",
   "execution_count": 52,
   "id": "ab82c01f-2c65-4ee9-abc3-14d0f6c1922e",
   "metadata": {},
   "outputs": [
    {
     "data": {
      "text/html": [
       "<div>\n",
       "<style scoped>\n",
       "    .dataframe tbody tr th:only-of-type {\n",
       "        vertical-align: middle;\n",
       "    }\n",
       "\n",
       "    .dataframe tbody tr th {\n",
       "        vertical-align: top;\n",
       "    }\n",
       "\n",
       "    .dataframe thead th {\n",
       "        text-align: right;\n",
       "    }\n",
       "</style>\n",
       "<table border=\"1\" class=\"dataframe\">\n",
       "  <thead>\n",
       "    <tr style=\"text-align: right;\">\n",
       "      <th></th>\n",
       "      <th>Date</th>\n",
       "      <th>Close</th>\n",
       "      <th>Open</th>\n",
       "      <th>High</th>\n",
       "      <th>Low</th>\n",
       "      <th>Volume</th>\n",
       "      <th>Change</th>\n",
       "    </tr>\n",
       "    <tr>\n",
       "      <th>Ticker</th>\n",
       "      <th></th>\n",
       "      <th></th>\n",
       "      <th></th>\n",
       "      <th></th>\n",
       "      <th></th>\n",
       "      <th></th>\n",
       "      <th></th>\n",
       "    </tr>\n",
       "  </thead>\n",
       "  <tbody>\n",
       "    <tr>\n",
       "      <th>CROX</th>\n",
       "      <td>2021-08-31</td>\n",
       "      <td>142.82</td>\n",
       "      <td>146.42</td>\n",
       "      <td>147.01</td>\n",
       "      <td>142.67</td>\n",
       "      <td>940960.0</td>\n",
       "      <td>-0.0245</td>\n",
       "    </tr>\n",
       "    <tr>\n",
       "      <th>LYFT</th>\n",
       "      <td>2021-08-31</td>\n",
       "      <td>47.61</td>\n",
       "      <td>47.16</td>\n",
       "      <td>48.10</td>\n",
       "      <td>47.13</td>\n",
       "      <td>5050000.0</td>\n",
       "      <td>0.0102</td>\n",
       "    </tr>\n",
       "    <tr>\n",
       "      <th>UBER</th>\n",
       "      <td>2021-08-31</td>\n",
       "      <td>39.14</td>\n",
       "      <td>39.81</td>\n",
       "      <td>40.27</td>\n",
       "      <td>39.12</td>\n",
       "      <td>26400000.0</td>\n",
       "      <td>-0.0114</td>\n",
       "    </tr>\n",
       "  </tbody>\n",
       "</table>\n",
       "</div>"
      ],
      "text/plain": [
       "              Date   Close    Open    High     Low      Volume  Change\n",
       "Ticker                                                                \n",
       "CROX    2021-08-31  142.82  146.42  147.01  142.67    940960.0 -0.0245\n",
       "LYFT    2021-08-31   47.61   47.16   48.10   47.13   5050000.0  0.0102\n",
       "UBER    2021-08-31   39.14   39.81   40.27   39.12  26400000.0 -0.0114"
      ]
     },
     "execution_count": 52,
     "metadata": {},
     "output_type": "execute_result"
    }
   ],
   "source": [
    "grouped.last() # first non-null values in each column"
   ]
  },
  {
   "cell_type": "code",
   "execution_count": 57,
   "id": "78a5b28a-7ea6-412a-a0b7-a12f76afda8f",
   "metadata": {},
   "outputs": [
    {
     "data": {
      "text/html": [
       "<div>\n",
       "<style scoped>\n",
       "    .dataframe tbody tr th:only-of-type {\n",
       "        vertical-align: middle;\n",
       "    }\n",
       "\n",
       "    .dataframe tbody tr th {\n",
       "        vertical-align: top;\n",
       "    }\n",
       "\n",
       "    .dataframe thead th {\n",
       "        text-align: right;\n",
       "    }\n",
       "</style>\n",
       "<table border=\"1\" class=\"dataframe\">\n",
       "  <thead>\n",
       "    <tr style=\"text-align: right;\">\n",
       "      <th></th>\n",
       "      <th>Date</th>\n",
       "      <th>Close</th>\n",
       "      <th>Open</th>\n",
       "      <th>High</th>\n",
       "      <th>Low</th>\n",
       "      <th>Volume</th>\n",
       "      <th>Change</th>\n",
       "    </tr>\n",
       "    <tr>\n",
       "      <th>Ticker</th>\n",
       "      <th></th>\n",
       "      <th></th>\n",
       "      <th></th>\n",
       "      <th></th>\n",
       "      <th></th>\n",
       "      <th></th>\n",
       "      <th></th>\n",
       "    </tr>\n",
       "  </thead>\n",
       "  <tbody>\n",
       "    <tr>\n",
       "      <th>CROX</th>\n",
       "      <td>2021-08-31</td>\n",
       "      <td>142.82</td>\n",
       "      <td>146.42</td>\n",
       "      <td>147.01</td>\n",
       "      <td>142.67</td>\n",
       "      <td>940960.0</td>\n",
       "      <td>-0.0245</td>\n",
       "    </tr>\n",
       "    <tr>\n",
       "      <th>LYFT</th>\n",
       "      <td>2021-08-31</td>\n",
       "      <td>47.61</td>\n",
       "      <td>47.16</td>\n",
       "      <td>48.10</td>\n",
       "      <td>47.13</td>\n",
       "      <td>5050000.0</td>\n",
       "      <td>0.0102</td>\n",
       "    </tr>\n",
       "    <tr>\n",
       "      <th>UBER</th>\n",
       "      <td>2021-08-31</td>\n",
       "      <td>39.14</td>\n",
       "      <td>39.81</td>\n",
       "      <td>40.27</td>\n",
       "      <td>39.12</td>\n",
       "      <td>26400000.0</td>\n",
       "      <td>-0.0114</td>\n",
       "    </tr>\n",
       "  </tbody>\n",
       "</table>\n",
       "</div>"
      ],
      "text/plain": [
       "              Date   Close    Open    High     Low      Volume  Change\n",
       "Ticker                                                                \n",
       "CROX    2021-08-31  142.82  146.42  147.01  142.67    940960.0 -0.0245\n",
       "LYFT    2021-08-31   47.61   47.16   48.10   47.13   5050000.0  0.0102\n",
       "UBER    2021-08-31   39.14   39.81   40.27   39.12  26400000.0 -0.0114"
      ]
     },
     "execution_count": 57,
     "metadata": {},
     "output_type": "execute_result"
    }
   ],
   "source": [
    "grouped.nth(-1) # last entire row, regardless of missing or not."
   ]
  },
  {
   "cell_type": "markdown",
   "id": "f2d4f112-c516-4a2d-9556-b5024d215e87",
   "metadata": {},
   "source": [
    "#### Get a group by group name"
   ]
  },
  {
   "cell_type": "code",
   "execution_count": 58,
   "id": "5098c98e-3372-4ee7-bec8-54057a514779",
   "metadata": {},
   "outputs": [
    {
     "data": {
      "text/html": [
       "<div>\n",
       "<style scoped>\n",
       "    .dataframe tbody tr th:only-of-type {\n",
       "        vertical-align: middle;\n",
       "    }\n",
       "\n",
       "    .dataframe tbody tr th {\n",
       "        vertical-align: top;\n",
       "    }\n",
       "\n",
       "    .dataframe thead th {\n",
       "        text-align: right;\n",
       "    }\n",
       "</style>\n",
       "<table border=\"1\" class=\"dataframe\">\n",
       "  <thead>\n",
       "    <tr style=\"text-align: right;\">\n",
       "      <th></th>\n",
       "      <th>Date</th>\n",
       "      <th>Close</th>\n",
       "      <th>Open</th>\n",
       "      <th>High</th>\n",
       "      <th>Low</th>\n",
       "      <th>Volume</th>\n",
       "      <th>Change</th>\n",
       "      <th>Ticker</th>\n",
       "    </tr>\n",
       "  </thead>\n",
       "  <tbody>\n",
       "    <tr>\n",
       "      <th>420</th>\n",
       "      <td>2020-01-02</td>\n",
       "      <td>43.58</td>\n",
       "      <td>43.22</td>\n",
       "      <td>44.07</td>\n",
       "      <td>43.17</td>\n",
       "      <td>3910000.0</td>\n",
       "      <td>0.0130</td>\n",
       "      <td>LYFT</td>\n",
       "    </tr>\n",
       "    <tr>\n",
       "      <th>421</th>\n",
       "      <td>2020-01-03</td>\n",
       "      <td>43.19</td>\n",
       "      <td>42.85</td>\n",
       "      <td>43.36</td>\n",
       "      <td>42.23</td>\n",
       "      <td>4410000.0</td>\n",
       "      <td>-0.0089</td>\n",
       "      <td>LYFT</td>\n",
       "    </tr>\n",
       "    <tr>\n",
       "      <th>422</th>\n",
       "      <td>2020-01-06</td>\n",
       "      <td>43.10</td>\n",
       "      <td>42.79</td>\n",
       "      <td>43.81</td>\n",
       "      <td>42.38</td>\n",
       "      <td>4980000.0</td>\n",
       "      <td>-0.0021</td>\n",
       "      <td>LYFT</td>\n",
       "    </tr>\n",
       "    <tr>\n",
       "      <th>423</th>\n",
       "      <td>2020-01-07</td>\n",
       "      <td>44.25</td>\n",
       "      <td>43.18</td>\n",
       "      <td>44.70</td>\n",
       "      <td>43.03</td>\n",
       "      <td>4810000.0</td>\n",
       "      <td>0.0267</td>\n",
       "      <td>LYFT</td>\n",
       "    </tr>\n",
       "    <tr>\n",
       "      <th>424</th>\n",
       "      <td>2020-01-08</td>\n",
       "      <td>45.08</td>\n",
       "      <td>44.14</td>\n",
       "      <td>45.74</td>\n",
       "      <td>43.87</td>\n",
       "      <td>5650000.0</td>\n",
       "      <td>0.0188</td>\n",
       "      <td>LYFT</td>\n",
       "    </tr>\n",
       "    <tr>\n",
       "      <th>...</th>\n",
       "      <td>...</td>\n",
       "      <td>...</td>\n",
       "      <td>...</td>\n",
       "      <td>...</td>\n",
       "      <td>...</td>\n",
       "      <td>...</td>\n",
       "      <td>...</td>\n",
       "      <td>...</td>\n",
       "    </tr>\n",
       "    <tr>\n",
       "      <th>835</th>\n",
       "      <td>2021-08-25</td>\n",
       "      <td>49.43</td>\n",
       "      <td>47.88</td>\n",
       "      <td>49.56</td>\n",
       "      <td>46.86</td>\n",
       "      <td>5590000.0</td>\n",
       "      <td>0.0369</td>\n",
       "      <td>LYFT</td>\n",
       "    </tr>\n",
       "    <tr>\n",
       "      <th>836</th>\n",
       "      <td>2021-08-26</td>\n",
       "      <td>48.60</td>\n",
       "      <td>49.36</td>\n",
       "      <td>50.45</td>\n",
       "      <td>48.16</td>\n",
       "      <td>3050000.0</td>\n",
       "      <td>-0.0168</td>\n",
       "      <td>LYFT</td>\n",
       "    </tr>\n",
       "    <tr>\n",
       "      <th>837</th>\n",
       "      <td>2021-08-27</td>\n",
       "      <td>48.39</td>\n",
       "      <td>48.12</td>\n",
       "      <td>49.25</td>\n",
       "      <td>48.12</td>\n",
       "      <td>2770000.0</td>\n",
       "      <td>-0.0043</td>\n",
       "      <td>LYFT</td>\n",
       "    </tr>\n",
       "    <tr>\n",
       "      <th>838</th>\n",
       "      <td>2021-08-30</td>\n",
       "      <td>47.13</td>\n",
       "      <td>48.43</td>\n",
       "      <td>48.71</td>\n",
       "      <td>46.92</td>\n",
       "      <td>4290000.0</td>\n",
       "      <td>-0.0260</td>\n",
       "      <td>LYFT</td>\n",
       "    </tr>\n",
       "    <tr>\n",
       "      <th>839</th>\n",
       "      <td>2021-08-31</td>\n",
       "      <td>47.61</td>\n",
       "      <td>47.16</td>\n",
       "      <td>48.10</td>\n",
       "      <td>47.13</td>\n",
       "      <td>5050000.0</td>\n",
       "      <td>0.0102</td>\n",
       "      <td>LYFT</td>\n",
       "    </tr>\n",
       "  </tbody>\n",
       "</table>\n",
       "<p>420 rows × 8 columns</p>\n",
       "</div>"
      ],
      "text/plain": [
       "           Date  Close   Open   High    Low     Volume  Change Ticker\n",
       "420  2020-01-02  43.58  43.22  44.07  43.17  3910000.0  0.0130   LYFT\n",
       "421  2020-01-03  43.19  42.85  43.36  42.23  4410000.0 -0.0089   LYFT\n",
       "422  2020-01-06  43.10  42.79  43.81  42.38  4980000.0 -0.0021   LYFT\n",
       "423  2020-01-07  44.25  43.18  44.70  43.03  4810000.0  0.0267   LYFT\n",
       "424  2020-01-08  45.08  44.14  45.74  43.87  5650000.0  0.0188   LYFT\n",
       "..          ...    ...    ...    ...    ...        ...     ...    ...\n",
       "835  2021-08-25  49.43  47.88  49.56  46.86  5590000.0  0.0369   LYFT\n",
       "836  2021-08-26  48.60  49.36  50.45  48.16  3050000.0 -0.0168   LYFT\n",
       "837  2021-08-27  48.39  48.12  49.25  48.12  2770000.0 -0.0043   LYFT\n",
       "838  2021-08-30  47.13  48.43  48.71  46.92  4290000.0 -0.0260   LYFT\n",
       "839  2021-08-31  47.61  47.16  48.10  47.13  5050000.0  0.0102   LYFT\n",
       "\n",
       "[420 rows x 8 columns]"
      ]
     },
     "execution_count": 58,
     "metadata": {},
     "output_type": "execute_result"
    }
   ],
   "source": [
    "grouped.get_group('LYFT')"
   ]
  },
  {
   "cell_type": "markdown",
   "id": "8a54d779-da76-4859-94b0-20e794f79613",
   "metadata": {},
   "source": [
    "--------"
   ]
  },
  {
   "cell_type": "markdown",
   "id": "05c62e6c-677c-4b27-8b4a-4357ee4d6fd9",
   "metadata": {},
   "source": [
    "## Statistics"
   ]
  },
  {
   "cell_type": "code",
   "execution_count": 19,
   "id": "a3643db8-671c-4c8c-b290-bcf90fe312f8",
   "metadata": {},
   "outputs": [
    {
     "data": {
      "text/html": [
       "<div>\n",
       "<style scoped>\n",
       "    .dataframe tbody tr th:only-of-type {\n",
       "        vertical-align: middle;\n",
       "    }\n",
       "\n",
       "    .dataframe tbody tr th {\n",
       "        vertical-align: top;\n",
       "    }\n",
       "\n",
       "    .dataframe thead th {\n",
       "        text-align: right;\n",
       "    }\n",
       "</style>\n",
       "<table border=\"1\" class=\"dataframe\">\n",
       "  <thead>\n",
       "    <tr style=\"text-align: right;\">\n",
       "      <th></th>\n",
       "      <th>Close</th>\n",
       "      <th>Open</th>\n",
       "      <th>High</th>\n",
       "      <th>Low</th>\n",
       "      <th>Volume</th>\n",
       "      <th>Change</th>\n",
       "    </tr>\n",
       "    <tr>\n",
       "      <th>Ticker</th>\n",
       "      <th></th>\n",
       "      <th></th>\n",
       "      <th></th>\n",
       "      <th></th>\n",
       "      <th></th>\n",
       "      <th></th>\n",
       "    </tr>\n",
       "  </thead>\n",
       "  <tbody>\n",
       "    <tr>\n",
       "      <th>CROX</th>\n",
       "      <td>62.605905</td>\n",
       "      <td>62.545929</td>\n",
       "      <td>63.890929</td>\n",
       "      <td>61.176929</td>\n",
       "      <td>1.307014e+06</td>\n",
       "      <td>0.003952</td>\n",
       "    </tr>\n",
       "    <tr>\n",
       "      <th>LYFT</th>\n",
       "      <td>42.893643</td>\n",
       "      <td>42.922952</td>\n",
       "      <td>43.932286</td>\n",
       "      <td>41.849286</td>\n",
       "      <td>8.467810e+06</td>\n",
       "      <td>0.001304</td>\n",
       "    </tr>\n",
       "    <tr>\n",
       "      <th>UBER</th>\n",
       "      <td>41.883571</td>\n",
       "      <td>41.923881</td>\n",
       "      <td>42.762905</td>\n",
       "      <td>40.968405</td>\n",
       "      <td>2.512926e+07</td>\n",
       "      <td>0.001456</td>\n",
       "    </tr>\n",
       "  </tbody>\n",
       "</table>\n",
       "</div>"
      ],
      "text/plain": [
       "            Close       Open       High        Low        Volume    Change\n",
       "Ticker                                                                    \n",
       "CROX    62.605905  62.545929  63.890929  61.176929  1.307014e+06  0.003952\n",
       "LYFT    42.893643  42.922952  43.932286  41.849286  8.467810e+06  0.001304\n",
       "UBER    41.883571  41.923881  42.762905  40.968405  2.512926e+07  0.001456"
      ]
     },
     "execution_count": 19,
     "metadata": {},
     "output_type": "execute_result"
    }
   ],
   "source": [
    "grouped.mean()"
   ]
  },
  {
   "cell_type": "code",
   "execution_count": 18,
   "id": "e770de7e-d439-439e-9313-efddb9b85541",
   "metadata": {},
   "outputs": [
    {
     "data": {
      "text/html": [
       "<div>\n",
       "<style scoped>\n",
       "    .dataframe tbody tr th:only-of-type {\n",
       "        vertical-align: middle;\n",
       "    }\n",
       "\n",
       "    .dataframe tbody tr th {\n",
       "        vertical-align: top;\n",
       "    }\n",
       "\n",
       "    .dataframe thead th {\n",
       "        text-align: right;\n",
       "    }\n",
       "</style>\n",
       "<table border=\"1\" class=\"dataframe\">\n",
       "  <thead>\n",
       "    <tr style=\"text-align: right;\">\n",
       "      <th></th>\n",
       "      <th>Close</th>\n",
       "      <th>Open</th>\n",
       "      <th>High</th>\n",
       "      <th>Low</th>\n",
       "      <th>Volume</th>\n",
       "      <th>Change</th>\n",
       "    </tr>\n",
       "    <tr>\n",
       "      <th>Ticker</th>\n",
       "      <th></th>\n",
       "      <th></th>\n",
       "      <th></th>\n",
       "      <th></th>\n",
       "      <th></th>\n",
       "      <th></th>\n",
       "    </tr>\n",
       "  </thead>\n",
       "  <tbody>\n",
       "    <tr>\n",
       "      <th>CROX</th>\n",
       "      <td>26294.48</td>\n",
       "      <td>26269.29</td>\n",
       "      <td>26834.19</td>\n",
       "      <td>25694.31</td>\n",
       "      <td>5.489459e+08</td>\n",
       "      <td>1.6599</td>\n",
       "    </tr>\n",
       "    <tr>\n",
       "      <th>LYFT</th>\n",
       "      <td>18015.33</td>\n",
       "      <td>18027.64</td>\n",
       "      <td>18451.56</td>\n",
       "      <td>17576.70</td>\n",
       "      <td>3.556480e+09</td>\n",
       "      <td>0.5478</td>\n",
       "    </tr>\n",
       "    <tr>\n",
       "      <th>UBER</th>\n",
       "      <td>17591.10</td>\n",
       "      <td>17608.03</td>\n",
       "      <td>17960.42</td>\n",
       "      <td>17206.73</td>\n",
       "      <td>1.055429e+10</td>\n",
       "      <td>0.6117</td>\n",
       "    </tr>\n",
       "  </tbody>\n",
       "</table>\n",
       "</div>"
      ],
      "text/plain": [
       "           Close      Open      High       Low        Volume  Change\n",
       "Ticker                                                              \n",
       "CROX    26294.48  26269.29  26834.19  25694.31  5.489459e+08  1.6599\n",
       "LYFT    18015.33  18027.64  18451.56  17576.70  3.556480e+09  0.5478\n",
       "UBER    17591.10  17608.03  17960.42  17206.73  1.055429e+10  0.6117"
      ]
     },
     "execution_count": 18,
     "metadata": {},
     "output_type": "execute_result"
    }
   ],
   "source": [
    "grouped.sum()"
   ]
  },
  {
   "cell_type": "code",
   "execution_count": 43,
   "id": "1824a944-cf0c-41b2-8025-42eb879b3d3d",
   "metadata": {},
   "outputs": [
    {
     "data": {
      "text/html": [
       "<div>\n",
       "<style scoped>\n",
       "    .dataframe tbody tr th:only-of-type {\n",
       "        vertical-align: middle;\n",
       "    }\n",
       "\n",
       "    .dataframe tbody tr th {\n",
       "        vertical-align: top;\n",
       "    }\n",
       "\n",
       "    .dataframe thead th {\n",
       "        text-align: right;\n",
       "    }\n",
       "</style>\n",
       "<table border=\"1\" class=\"dataframe\">\n",
       "  <thead>\n",
       "    <tr style=\"text-align: right;\">\n",
       "      <th></th>\n",
       "      <th>Date</th>\n",
       "      <th>Close</th>\n",
       "      <th>Open</th>\n",
       "      <th>High</th>\n",
       "      <th>Low</th>\n",
       "      <th>Volume</th>\n",
       "      <th>Change</th>\n",
       "    </tr>\n",
       "    <tr>\n",
       "      <th>Ticker</th>\n",
       "      <th></th>\n",
       "      <th></th>\n",
       "      <th></th>\n",
       "      <th></th>\n",
       "      <th></th>\n",
       "      <th></th>\n",
       "      <th></th>\n",
       "    </tr>\n",
       "  </thead>\n",
       "  <tbody>\n",
       "    <tr>\n",
       "      <th>CROX</th>\n",
       "      <td>2020-01-02</td>\n",
       "      <td>41.75</td>\n",
       "      <td>42.23</td>\n",
       "      <td>42.23</td>\n",
       "      <td>41.26</td>\n",
       "      <td>1020000.0</td>\n",
       "      <td>-0.0033</td>\n",
       "    </tr>\n",
       "    <tr>\n",
       "      <th>LYFT</th>\n",
       "      <td>2020-01-02</td>\n",
       "      <td>43.58</td>\n",
       "      <td>43.22</td>\n",
       "      <td>44.07</td>\n",
       "      <td>43.17</td>\n",
       "      <td>3910000.0</td>\n",
       "      <td>0.0130</td>\n",
       "    </tr>\n",
       "    <tr>\n",
       "      <th>UBER</th>\n",
       "      <td>2020-01-02</td>\n",
       "      <td>30.99</td>\n",
       "      <td>29.94</td>\n",
       "      <td>31.00</td>\n",
       "      <td>29.79</td>\n",
       "      <td>20580000.0</td>\n",
       "      <td>0.0420</td>\n",
       "    </tr>\n",
       "  </tbody>\n",
       "</table>\n",
       "</div>"
      ],
      "text/plain": [
       "              Date  Close   Open   High    Low      Volume  Change\n",
       "Ticker                                                            \n",
       "CROX    2020-01-02  41.75  42.23  42.23  41.26   1020000.0 -0.0033\n",
       "LYFT    2020-01-02  43.58  43.22  44.07  43.17   3910000.0  0.0130\n",
       "UBER    2020-01-02  30.99  29.94  31.00  29.79  20580000.0  0.0420"
      ]
     },
     "execution_count": 43,
     "metadata": {},
     "output_type": "execute_result"
    }
   ],
   "source": [
    "grouped.first()"
   ]
  },
  {
   "cell_type": "code",
   "execution_count": 44,
   "id": "72e93db0-d6ab-411c-80c5-674967f49b7d",
   "metadata": {},
   "outputs": [
    {
     "data": {
      "text/html": [
       "<div>\n",
       "<style scoped>\n",
       "    .dataframe tbody tr th:only-of-type {\n",
       "        vertical-align: middle;\n",
       "    }\n",
       "\n",
       "    .dataframe tbody tr th {\n",
       "        vertical-align: top;\n",
       "    }\n",
       "\n",
       "    .dataframe thead th {\n",
       "        text-align: right;\n",
       "    }\n",
       "</style>\n",
       "<table border=\"1\" class=\"dataframe\">\n",
       "  <thead>\n",
       "    <tr style=\"text-align: right;\">\n",
       "      <th></th>\n",
       "      <th>Date</th>\n",
       "      <th>Close</th>\n",
       "      <th>Open</th>\n",
       "      <th>High</th>\n",
       "      <th>Low</th>\n",
       "      <th>Volume</th>\n",
       "      <th>Change</th>\n",
       "    </tr>\n",
       "    <tr>\n",
       "      <th>Ticker</th>\n",
       "      <th></th>\n",
       "      <th></th>\n",
       "      <th></th>\n",
       "      <th></th>\n",
       "      <th></th>\n",
       "      <th></th>\n",
       "      <th></th>\n",
       "    </tr>\n",
       "  </thead>\n",
       "  <tbody>\n",
       "    <tr>\n",
       "      <th>CROX</th>\n",
       "      <td>2021-08-31</td>\n",
       "      <td>142.82</td>\n",
       "      <td>146.42</td>\n",
       "      <td>147.01</td>\n",
       "      <td>142.67</td>\n",
       "      <td>940960.0</td>\n",
       "      <td>-0.0245</td>\n",
       "    </tr>\n",
       "    <tr>\n",
       "      <th>LYFT</th>\n",
       "      <td>2021-08-31</td>\n",
       "      <td>47.61</td>\n",
       "      <td>47.16</td>\n",
       "      <td>48.10</td>\n",
       "      <td>47.13</td>\n",
       "      <td>5050000.0</td>\n",
       "      <td>0.0102</td>\n",
       "    </tr>\n",
       "    <tr>\n",
       "      <th>UBER</th>\n",
       "      <td>2021-08-31</td>\n",
       "      <td>39.14</td>\n",
       "      <td>39.81</td>\n",
       "      <td>40.27</td>\n",
       "      <td>39.12</td>\n",
       "      <td>26400000.0</td>\n",
       "      <td>-0.0114</td>\n",
       "    </tr>\n",
       "  </tbody>\n",
       "</table>\n",
       "</div>"
      ],
      "text/plain": [
       "              Date   Close    Open    High     Low      Volume  Change\n",
       "Ticker                                                                \n",
       "CROX    2021-08-31  142.82  146.42  147.01  142.67    940960.0 -0.0245\n",
       "LYFT    2021-08-31   47.61   47.16   48.10   47.13   5050000.0  0.0102\n",
       "UBER    2021-08-31   39.14   39.81   40.27   39.12  26400000.0 -0.0114"
      ]
     },
     "execution_count": 44,
     "metadata": {},
     "output_type": "execute_result"
    }
   ],
   "source": [
    "grouped.last()"
   ]
  },
  {
   "cell_type": "markdown",
   "id": "1b412e3b-8f8b-40d0-979e-5ed4a890a947",
   "metadata": {},
   "source": [
    "----------"
   ]
  },
  {
   "cell_type": "code",
   "execution_count": 65,
   "id": "7f8c2eaf-afae-4866-9abe-bf766fe5fd7c",
   "metadata": {},
   "outputs": [
    {
     "data": {
      "text/html": [
       "<div>\n",
       "<style scoped>\n",
       "    .dataframe tbody tr th:only-of-type {\n",
       "        vertical-align: middle;\n",
       "    }\n",
       "\n",
       "    .dataframe tbody tr th {\n",
       "        vertical-align: top;\n",
       "    }\n",
       "\n",
       "    .dataframe thead th {\n",
       "        text-align: right;\n",
       "    }\n",
       "</style>\n",
       "<table border=\"1\" class=\"dataframe\">\n",
       "  <thead>\n",
       "    <tr style=\"text-align: right;\">\n",
       "      <th></th>\n",
       "      <th>count</th>\n",
       "      <th>mean</th>\n",
       "      <th>std</th>\n",
       "      <th>min</th>\n",
       "      <th>25%</th>\n",
       "      <th>50%</th>\n",
       "      <th>75%</th>\n",
       "      <th>max</th>\n",
       "    </tr>\n",
       "    <tr>\n",
       "      <th>Ticker</th>\n",
       "      <th></th>\n",
       "      <th></th>\n",
       "      <th></th>\n",
       "      <th></th>\n",
       "      <th></th>\n",
       "      <th></th>\n",
       "      <th></th>\n",
       "      <th></th>\n",
       "    </tr>\n",
       "  </thead>\n",
       "  <tbody>\n",
       "    <tr>\n",
       "      <th>CROX</th>\n",
       "      <td>420.0</td>\n",
       "      <td>62.605905</td>\n",
       "      <td>34.780144</td>\n",
       "      <td>10.77</td>\n",
       "      <td>35.9825</td>\n",
       "      <td>53.96</td>\n",
       "      <td>81.1200</td>\n",
       "      <td>146.59</td>\n",
       "    </tr>\n",
       "    <tr>\n",
       "      <th>LYFT</th>\n",
       "      <td>420.0</td>\n",
       "      <td>42.893643</td>\n",
       "      <td>12.871383</td>\n",
       "      <td>16.05</td>\n",
       "      <td>30.4275</td>\n",
       "      <td>45.49</td>\n",
       "      <td>53.8275</td>\n",
       "      <td>67.42</td>\n",
       "    </tr>\n",
       "    <tr>\n",
       "      <th>UBER</th>\n",
       "      <td>420.0</td>\n",
       "      <td>41.883571</td>\n",
       "      <td>10.490991</td>\n",
       "      <td>14.82</td>\n",
       "      <td>33.1475</td>\n",
       "      <td>40.13</td>\n",
       "      <td>51.0000</td>\n",
       "      <td>63.18</td>\n",
       "    </tr>\n",
       "  </tbody>\n",
       "</table>\n",
       "</div>"
      ],
      "text/plain": [
       "        count       mean        std    min      25%    50%      75%     max\n",
       "Ticker                                                                     \n",
       "CROX    420.0  62.605905  34.780144  10.77  35.9825  53.96  81.1200  146.59\n",
       "LYFT    420.0  42.893643  12.871383  16.05  30.4275  45.49  53.8275   67.42\n",
       "UBER    420.0  41.883571  10.490991  14.82  33.1475  40.13  51.0000   63.18"
      ]
     },
     "execution_count": 65,
     "metadata": {},
     "output_type": "execute_result"
    }
   ],
   "source": [
    "grouped['Close'].describe()"
   ]
  },
  {
   "cell_type": "markdown",
   "id": "94fbb990-7668-4cb9-a88e-f433beb8b0fe",
   "metadata": {},
   "source": [
    "----------"
   ]
  },
  {
   "cell_type": "markdown",
   "id": "b15bffb1-ec8e-429e-a49a-0ae8a8e43dae",
   "metadata": {},
   "source": [
    "## Generate plots by groups"
   ]
  },
  {
   "cell_type": "code",
   "execution_count": 40,
   "id": "91ef3d89-52fd-4cd0-91ba-b243f0bfaec5",
   "metadata": {},
   "outputs": [
    {
     "data": {
      "image/png": "[encoded data removed]",
      "text/plain": [
       "<Figure size 432x288 with 1 Axes>"
      ]
     },
     "metadata": {
      "needs_background": "light"
     },
     "output_type": "display_data"
    },
    {
     "data": {
      "image/png": "[encoded data removed]",
      "text/plain": [
       "<Figure size 432x288 with 1 Axes>"
      ]
     },
     "metadata": {
      "needs_background": "light"
     },
     "output_type": "display_data"
    },
    {
     "data": {
      "image/png": "[encoded data removed]",
      "text/plain": [
       "<Figure size 432x288 with 1 Axes>"
      ]
     },
     "metadata": {
      "needs_background": "light"
     },
     "output_type": "display_data"
    }
   ],
   "source": [
    "grouped[['Date', 'Close']].plot(x='Date', y='Close')\n",
    "plt.show()"
   ]
  },
  {
   "cell_type": "markdown",
   "id": "fe702766-f285-4769-8b9a-f6f15c77fb3e",
   "metadata": {},
   "source": [
    "----------"
   ]
  }
 ],
 "metadata": {
  "kernelspec": {
   "display_name": "sec",
   "language": "python",
   "name": "sec"
  },
  "language_info": {
   "codemirror_mode": {
    "name": "ipython",
    "version": 3
   },
   "file_extension": ".py",
   "mimetype": "text/x-python",
   "name": "python",
   "nbconvert_exporter": "python",
   "pygments_lexer": "ipython3",
   "version": "3.8.8"
  },
  "widgets": {
   "application/vnd.jupyter.widget-state+json": {
    "state": {},
    "version_major": 2,
    "version_minor": 0
   }
  }
 },
 "nbformat": 4,
 "nbformat_minor": 5
}
