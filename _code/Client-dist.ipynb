{
 "cells": [
  {
   "cell_type": "markdown",
   "id": "9013bc09-3771-488d-8b5e-f6a371d5143a",
   "metadata": {},
   "source": [
    "### Import libraries"
   ]
  },
  {
   "cell_type": "code",
   "execution_count": 1,
   "id": "efb172be-b7ea-433b-87c7-7f83f1a0c887",
   "metadata": {},
   "outputs": [],
   "source": [
    "import numpy as np\n",
    "import pandas as pd\n",
    "import plotly.io as pio\n",
    "import plotly.express as px\n",
    "import wrds\n",
    "pd.options.display.max_columns=200"
   ]
  },
  {
   "cell_type": "markdown",
   "id": "3ce9e600-2f9e-4f64-8b91-cdf5f62cb6d8",
   "metadata": {},
   "source": [
    "### Connect WRDS"
   ]
  },
  {
   "cell_type": "code",
   "execution_count": 2,
   "id": "9babb9b8-858b-49fd-86ea-312f7998d2ba",
   "metadata": {},
   "outputs": [
    {
     "name": "stdin",
     "output_type": "stream",
     "text": [
      "Enter your WRDS username [yjaey]: yjaeyoon\n",
      "Enter your password: ···············\n"
     ]
    },
    {
     "name": "stdout",
     "output_type": "stream",
     "text": [
      "WRDS recommends setting up a .pgpass file.\n"
     ]
    },
    {
     "name": "stdin",
     "output_type": "stream",
     "text": [
      "Create .pgpass file now [y/n]?:  y\n"
     ]
    },
    {
     "name": "stdout",
     "output_type": "stream",
     "text": [
      "Created .pgpass file successfully.\n",
      "Loading library list...\n",
      "Done\n"
     ]
    }
   ],
   "source": [
    "conn=wrds.Connection()"
   ]
  },
  {
   "cell_type": "markdown",
   "id": "fb2c2be2-8e9c-42f3-86d4-11f65f3eeeb3",
   "metadata": {},
   "source": [
    "### Download funda from Compustat"
   ]
  },
  {
   "cell_type": "code",
   "execution_count": 3,
   "id": "77cd12e3-0eec-455f-a541-04fdb6fb47bb",
   "metadata": {},
   "outputs": [
    {
     "name": "stdout",
     "output_type": "stream",
     "text": [
      "Approximately 343544 rows in audit.auditopin.\n",
      "225\n"
     ]
    }
   ],
   "source": [
    "auditop_vars= conn.describe_table(library='audit', table='auditopin')['name']\n",
    "print(len(auditop_vars))"
   ]
  },
  {
   "cell_type": "code",
   "execution_count": 4,
   "id": "5418cd12-be40-4d92-aa48-b4818450b939",
   "metadata": {},
   "outputs": [],
   "source": [
    "vars_to_skip= ['matchfy', 'matchqu', 'closestfy', 'closestqu', 'priorqu', 'priorfy', 'note', 'opinion_text', 'eventdate']"
   ]
  },
  {
   "cell_type": "code",
   "execution_count": 5,
   "id": "542779a9-0faf-4a66-807b-400694d2b4e6",
   "metadata": {
    "scrolled": true,
    "tags": []
   },
   "outputs": [
    {
     "name": "stdout",
     "output_type": "stream",
     "text": [
      "0 audit_op_key\n",
      "1 auditor_affil_fkey\n",
      "2 auditor_affilname\n",
      "3 auditor_fkey\n",
      "4 auditor_name\n",
      "5 sig_date_of_op_x\n",
      "6 sig_date_of_op_s\n",
      "7 going_concern\n",
      "8 auditor_city\n",
      "9 auditor_state\n",
      "10 auditor_state_name\n",
      "11 auditor_country\n",
      "12 auditor_region\n",
      "13 auditor_con_sup_reg\n",
      "14 fiscal_year_of_op\n",
      "15 fiscal_year_end_op\n",
      "16 op_aud_pcaob\n",
      "17 pcaob_reg_num\n",
      "23 accnt_basis\n",
      "24 ftp_file_fkey\n",
      "25 form_fkey\n",
      "26 file_date\n",
      "27 file_accepted\n",
      "28 file_size\n",
      "29 http_name_html\n",
      "30 http_name_text\n",
      "31 company_fkey\n",
      "32 best_edgar_ticker\n"
     ]
    }
   ],
   "source": [
    "for idx, var in enumerate(auditop_vars):\n",
    "    if any(var_to_skip in var for var_to_skip in vars_to_skip):\n",
    "        pass\n",
    "    else:        \n",
    "        print(idx, var)"
   ]
  },
  {
   "cell_type": "code",
   "execution_count": 6,
   "id": "9063326b-9fa5-405f-9e66-b43301544876",
   "metadata": {},
   "outputs": [
    {
     "name": "stdout",
     "output_type": "stream",
     "text": [
      "(343544, 9)\n"
     ]
    }
   ],
   "source": [
    "df= conn.raw_sql(f\"\"\"select \n",
    "                        audit_op_key, \n",
    "                        auditor_fkey as afk,\n",
    "                        auditor_name as afn,\n",
    "                        going_concern as gco,\n",
    "                        auditor_country as af_ctry,\n",
    "                        fiscal_year_of_op,\n",
    "                        form_fkey,\n",
    "                        company_fkey as c,\n",
    "                        best_edgar_ticker as t\n",
    "                    from audit.auditopin\n",
    "                    \"\"\")\n",
    "print(df.shape)"
   ]
  },
  {
   "cell_type": "code",
   "execution_count": 7,
   "id": "3b86cade-450c-4d5a-bb14-d50069825147",
   "metadata": {},
   "outputs": [],
   "source": [
    "vars_to_keep= ['audit_op_key', 'auditor_fkey', 'auditor_name', 'going_concern', 'auditor_country', \n",
    "               'fiscal_year_of_op', 'form_fkey', 'company_fkey', 'best_edgar_ticker']"
   ]
  },
  {
   "cell_type": "code",
   "execution_count": 8,
   "id": "f1fb78a9-4f1d-460f-8dd0-5917535ad5df",
   "metadata": {},
   "outputs": [
    {
     "data": {
      "text/html": [
       "<div>\n",
       "<style scoped>\n",
       "    .dataframe tbody tr th:only-of-type {\n",
       "        vertical-align: middle;\n",
       "    }\n",
       "\n",
       "    .dataframe tbody tr th {\n",
       "        vertical-align: top;\n",
       "    }\n",
       "\n",
       "    .dataframe thead th {\n",
       "        text-align: right;\n",
       "    }\n",
       "</style>\n",
       "<table border=\"1\" class=\"dataframe\">\n",
       "  <thead>\n",
       "    <tr style=\"text-align: right;\">\n",
       "      <th></th>\n",
       "      <th>audit_op_key</th>\n",
       "      <th>auditor_fkey</th>\n",
       "      <th>auditor_name</th>\n",
       "      <th>going_concern</th>\n",
       "      <th>auditor_country</th>\n",
       "      <th>fiscal_year_of_op</th>\n",
       "      <th>form_fkey</th>\n",
       "      <th>company_fkey</th>\n",
       "      <th>best_edgar_ticker</th>\n",
       "    </tr>\n",
       "  </thead>\n",
       "  <tbody>\n",
       "    <tr>\n",
       "      <th>0</th>\n",
       "      <td>66900.0</td>\n",
       "      <td>5.0</td>\n",
       "      <td>Arthur Andersen LLP</td>\n",
       "      <td>0.0</td>\n",
       "      <td>USA</td>\n",
       "      <td>2000.0</td>\n",
       "      <td>10-K</td>\n",
       "      <td>0000000020</td>\n",
       "      <td>None</td>\n",
       "    </tr>\n",
       "    <tr>\n",
       "      <th>1</th>\n",
       "      <td>78252.0</td>\n",
       "      <td>5.0</td>\n",
       "      <td>Arthur Andersen LLP</td>\n",
       "      <td>0.0</td>\n",
       "      <td>USA</td>\n",
       "      <td>2001.0</td>\n",
       "      <td>10-K405</td>\n",
       "      <td>0000000020</td>\n",
       "      <td>None</td>\n",
       "    </tr>\n",
       "    <tr>\n",
       "      <th>2</th>\n",
       "      <td>3538.0</td>\n",
       "      <td>4.0</td>\n",
       "      <td>KPMG LLP</td>\n",
       "      <td>0.0</td>\n",
       "      <td>USA</td>\n",
       "      <td>2002.0</td>\n",
       "      <td>10-K</td>\n",
       "      <td>0000000020</td>\n",
       "      <td>None</td>\n",
       "    </tr>\n",
       "  </tbody>\n",
       "</table>\n",
       "</div>"
      ],
      "text/plain": [
       "   audit_op_key  auditor_fkey         auditor_name  going_concern  \\\n",
       "0       66900.0           5.0  Arthur Andersen LLP            0.0   \n",
       "1       78252.0           5.0  Arthur Andersen LLP            0.0   \n",
       "2        3538.0           4.0             KPMG LLP            0.0   \n",
       "\n",
       "  auditor_country  fiscal_year_of_op form_fkey company_fkey best_edgar_ticker  \n",
       "0             USA             2000.0      10-K   0000000020              None  \n",
       "1             USA             2001.0   10-K405   0000000020              None  \n",
       "2             USA             2002.0      10-K   0000000020              None  "
      ]
     },
     "execution_count": 8,
     "metadata": {},
     "output_type": "execute_result"
    }
   ],
   "source": [
    "df_test= conn.get_table(library= 'audit', table='auditopin',\n",
    "                       columns= vars_to_keep,\n",
    "                       obs= 3)\n",
    "df_test"
   ]
  },
  {
   "cell_type": "code",
   "execution_count": 9,
   "id": "be9e89ca-1b4f-4ad5-9489-3d031d4d4630",
   "metadata": {},
   "outputs": [
    {
     "name": "stdout",
     "output_type": "stream",
     "text": [
      "(343544, 9)\n"
     ]
    },
    {
     "data": {
      "text/html": [
       "<div>\n",
       "<style scoped>\n",
       "    .dataframe tbody tr th:only-of-type {\n",
       "        vertical-align: middle;\n",
       "    }\n",
       "\n",
       "    .dataframe tbody tr th {\n",
       "        vertical-align: top;\n",
       "    }\n",
       "\n",
       "    .dataframe thead th {\n",
       "        text-align: right;\n",
       "    }\n",
       "</style>\n",
       "<table border=\"1\" class=\"dataframe\">\n",
       "  <thead>\n",
       "    <tr style=\"text-align: right;\">\n",
       "      <th></th>\n",
       "      <th>audit_op_key</th>\n",
       "      <th>auditor_fkey</th>\n",
       "      <th>auditor_name</th>\n",
       "      <th>going_concern</th>\n",
       "      <th>auditor_country</th>\n",
       "      <th>fiscal_year_of_op</th>\n",
       "      <th>form_fkey</th>\n",
       "      <th>company_fkey</th>\n",
       "      <th>best_edgar_ticker</th>\n",
       "    </tr>\n",
       "  </thead>\n",
       "  <tbody>\n",
       "    <tr>\n",
       "      <th>0</th>\n",
       "      <td>66900.0</td>\n",
       "      <td>5.0</td>\n",
       "      <td>Arthur Andersen LLP</td>\n",
       "      <td>0.0</td>\n",
       "      <td>USA</td>\n",
       "      <td>2000.0</td>\n",
       "      <td>10-K</td>\n",
       "      <td>0000000020</td>\n",
       "      <td>None</td>\n",
       "    </tr>\n",
       "    <tr>\n",
       "      <th>1</th>\n",
       "      <td>78252.0</td>\n",
       "      <td>5.0</td>\n",
       "      <td>Arthur Andersen LLP</td>\n",
       "      <td>0.0</td>\n",
       "      <td>USA</td>\n",
       "      <td>2001.0</td>\n",
       "      <td>10-K405</td>\n",
       "      <td>0000000020</td>\n",
       "      <td>None</td>\n",
       "    </tr>\n",
       "    <tr>\n",
       "      <th>2</th>\n",
       "      <td>3538.0</td>\n",
       "      <td>4.0</td>\n",
       "      <td>KPMG LLP</td>\n",
       "      <td>0.0</td>\n",
       "      <td>USA</td>\n",
       "      <td>2002.0</td>\n",
       "      <td>10-K</td>\n",
       "      <td>0000000020</td>\n",
       "      <td>None</td>\n",
       "    </tr>\n",
       "    <tr>\n",
       "      <th>3</th>\n",
       "      <td>39225.0</td>\n",
       "      <td>6.0</td>\n",
       "      <td>Grant Thornton LLP</td>\n",
       "      <td>0.0</td>\n",
       "      <td>USA</td>\n",
       "      <td>2003.0</td>\n",
       "      <td>10-K</td>\n",
       "      <td>0000000020</td>\n",
       "      <td>None</td>\n",
       "    </tr>\n",
       "    <tr>\n",
       "      <th>4</th>\n",
       "      <td>84748.0</td>\n",
       "      <td>6.0</td>\n",
       "      <td>Grant Thornton LLP</td>\n",
       "      <td>0.0</td>\n",
       "      <td>USA</td>\n",
       "      <td>2004.0</td>\n",
       "      <td>10-K</td>\n",
       "      <td>0000000020</td>\n",
       "      <td>None</td>\n",
       "    </tr>\n",
       "  </tbody>\n",
       "</table>\n",
       "</div>"
      ],
      "text/plain": [
       "   audit_op_key  auditor_fkey         auditor_name  going_concern  \\\n",
       "0       66900.0           5.0  Arthur Andersen LLP            0.0   \n",
       "1       78252.0           5.0  Arthur Andersen LLP            0.0   \n",
       "2        3538.0           4.0             KPMG LLP            0.0   \n",
       "3       39225.0           6.0   Grant Thornton LLP            0.0   \n",
       "4       84748.0           6.0   Grant Thornton LLP            0.0   \n",
       "\n",
       "  auditor_country  fiscal_year_of_op form_fkey company_fkey best_edgar_ticker  \n",
       "0             USA             2000.0      10-K   0000000020              None  \n",
       "1             USA             2001.0   10-K405   0000000020              None  \n",
       "2             USA             2002.0      10-K   0000000020              None  \n",
       "3             USA             2003.0      10-K   0000000020              None  \n",
       "4             USA             2004.0      10-K   0000000020              None  "
      ]
     },
     "execution_count": 9,
     "metadata": {},
     "output_type": "execute_result"
    }
   ],
   "source": [
    "df= conn.get_table(library= 'audit', table='auditopin',\n",
    "                       columns= vars_to_keep)\n",
    "print(df.shape)\n",
    "df.head()"
   ]
  },
  {
   "cell_type": "code",
   "execution_count": 10,
   "id": "00e142b9-01e2-4dd5-8788-caef2d874981",
   "metadata": {},
   "outputs": [],
   "source": [
    "df.rename(columns=\n",
    "         {'auditor_fkey':'afk',\n",
    "         'auditor_name':'afn',\n",
    "         'going_concern':'gco',\n",
    "         'auditor_country':'af_ctry',\n",
    "         'fiscal_year_of_op':'fy',\n",
    "         'company_fkey':'cik',\n",
    "         'best_edgar_ticker':'tic'}, \n",
    "          inplace= True)"
   ]
  },
  {
   "cell_type": "code",
   "execution_count": 11,
   "id": "f0551318-7d0a-4287-bcfe-79e4452c34c2",
   "metadata": {},
   "outputs": [
    {
     "data": {
      "text/html": [
       "<div>\n",
       "<style scoped>\n",
       "    .dataframe tbody tr th:only-of-type {\n",
       "        vertical-align: middle;\n",
       "    }\n",
       "\n",
       "    .dataframe tbody tr th {\n",
       "        vertical-align: top;\n",
       "    }\n",
       "\n",
       "    .dataframe thead th {\n",
       "        text-align: right;\n",
       "    }\n",
       "</style>\n",
       "<table border=\"1\" class=\"dataframe\">\n",
       "  <thead>\n",
       "    <tr style=\"text-align: right;\">\n",
       "      <th></th>\n",
       "      <th></th>\n",
       "      <th>audit_op_key</th>\n",
       "      <th>gco</th>\n",
       "      <th>af_ctry</th>\n",
       "      <th>fy</th>\n",
       "      <th>form_fkey</th>\n",
       "      <th>cik</th>\n",
       "      <th>tic</th>\n",
       "    </tr>\n",
       "    <tr>\n",
       "      <th>afn</th>\n",
       "      <th>afk</th>\n",
       "      <th></th>\n",
       "      <th></th>\n",
       "      <th></th>\n",
       "      <th></th>\n",
       "      <th></th>\n",
       "      <th></th>\n",
       "      <th></th>\n",
       "    </tr>\n",
       "  </thead>\n",
       "  <tbody>\n",
       "    <tr>\n",
       "      <th>Deloitte &amp; Touche LLP</th>\n",
       "      <th>3.0</th>\n",
       "      <td>56507</td>\n",
       "      <td>56507</td>\n",
       "      <td>56326</td>\n",
       "      <td>56507</td>\n",
       "      <td>56507</td>\n",
       "      <td>56507</td>\n",
       "      <td>11497</td>\n",
       "    </tr>\n",
       "    <tr>\n",
       "      <th>Ernst &amp; Young LLP</th>\n",
       "      <th>2.0</th>\n",
       "      <td>50808</td>\n",
       "      <td>50808</td>\n",
       "      <td>50627</td>\n",
       "      <td>50808</td>\n",
       "      <td>50808</td>\n",
       "      <td>50808</td>\n",
       "      <td>16659</td>\n",
       "    </tr>\n",
       "    <tr>\n",
       "      <th>PricewaterhouseCoopers LLP</th>\n",
       "      <th>1.0</th>\n",
       "      <td>50565</td>\n",
       "      <td>50565</td>\n",
       "      <td>50247</td>\n",
       "      <td>50565</td>\n",
       "      <td>50565</td>\n",
       "      <td>50565</td>\n",
       "      <td>13439</td>\n",
       "    </tr>\n",
       "    <tr>\n",
       "      <th>KPMG LLP</th>\n",
       "      <th>4.0</th>\n",
       "      <td>36703</td>\n",
       "      <td>36703</td>\n",
       "      <td>36570</td>\n",
       "      <td>36703</td>\n",
       "      <td>36703</td>\n",
       "      <td>36703</td>\n",
       "      <td>11808</td>\n",
       "    </tr>\n",
       "    <tr>\n",
       "      <th>Grant Thornton LLP</th>\n",
       "      <th>6.0</th>\n",
       "      <td>31512</td>\n",
       "      <td>31512</td>\n",
       "      <td>31506</td>\n",
       "      <td>31512</td>\n",
       "      <td>31511</td>\n",
       "      <td>31512</td>\n",
       "      <td>3188</td>\n",
       "    </tr>\n",
       "    <tr>\n",
       "      <th>Arthur Andersen LLP</th>\n",
       "      <th>5.0</th>\n",
       "      <td>6398</td>\n",
       "      <td>6398</td>\n",
       "      <td>6397</td>\n",
       "      <td>6398</td>\n",
       "      <td>6398</td>\n",
       "      <td>6398</td>\n",
       "      <td>901</td>\n",
       "    </tr>\n",
       "    <tr>\n",
       "      <th>BDO USA LLP</th>\n",
       "      <th>11761.0</th>\n",
       "      <td>3137</td>\n",
       "      <td>3137</td>\n",
       "      <td>3132</td>\n",
       "      <td>3137</td>\n",
       "      <td>3137</td>\n",
       "      <td>3137</td>\n",
       "      <td>1939</td>\n",
       "    </tr>\n",
       "    <tr>\n",
       "      <th>BDO Seidman LLP</th>\n",
       "      <th>7.0</th>\n",
       "      <td>2964</td>\n",
       "      <td>2964</td>\n",
       "      <td>2944</td>\n",
       "      <td>2964</td>\n",
       "      <td>2964</td>\n",
       "      <td>2964</td>\n",
       "      <td>675</td>\n",
       "    </tr>\n",
       "    <tr>\n",
       "      <th>MaloneBailey LLP</th>\n",
       "      <th>151.0</th>\n",
       "      <td>2552</td>\n",
       "      <td>2552</td>\n",
       "      <td>2550</td>\n",
       "      <td>2552</td>\n",
       "      <td>2552</td>\n",
       "      <td>2552</td>\n",
       "      <td>1044</td>\n",
       "    </tr>\n",
       "    <tr>\n",
       "      <th>Marcum LLP</th>\n",
       "      <th>8256.0</th>\n",
       "      <td>2250</td>\n",
       "      <td>2250</td>\n",
       "      <td>2248</td>\n",
       "      <td>2250</td>\n",
       "      <td>2250</td>\n",
       "      <td>2250</td>\n",
       "      <td>1628</td>\n",
       "    </tr>\n",
       "    <tr>\n",
       "      <th>Tait Weller &amp; Baker LLP</th>\n",
       "      <th>142.0</th>\n",
       "      <td>1949</td>\n",
       "      <td>1949</td>\n",
       "      <td>1949</td>\n",
       "      <td>1949</td>\n",
       "      <td>1949</td>\n",
       "      <td>1949</td>\n",
       "      <td>40</td>\n",
       "    </tr>\n",
       "    <tr>\n",
       "      <th>McGladrey &amp; Pullen LLP</th>\n",
       "      <th>10.0</th>\n",
       "      <td>1550</td>\n",
       "      <td>1550</td>\n",
       "      <td>1546</td>\n",
       "      <td>1550</td>\n",
       "      <td>1550</td>\n",
       "      <td>1550</td>\n",
       "      <td>467</td>\n",
       "    </tr>\n",
       "    <tr>\n",
       "      <th>Moss Adams LLP</th>\n",
       "      <th>13.0</th>\n",
       "      <td>1399</td>\n",
       "      <td>1399</td>\n",
       "      <td>1399</td>\n",
       "      <td>1399</td>\n",
       "      <td>1399</td>\n",
       "      <td>1399</td>\n",
       "      <td>647</td>\n",
       "    </tr>\n",
       "    <tr>\n",
       "      <th>RSM US LLP</th>\n",
       "      <th>26516.0</th>\n",
       "      <td>1139</td>\n",
       "      <td>1139</td>\n",
       "      <td>1139</td>\n",
       "      <td>1139</td>\n",
       "      <td>1139</td>\n",
       "      <td>1139</td>\n",
       "      <td>726</td>\n",
       "    </tr>\n",
       "    <tr>\n",
       "      <th>BKD LLP</th>\n",
       "      <th>11.0</th>\n",
       "      <td>1058</td>\n",
       "      <td>1058</td>\n",
       "      <td>1053</td>\n",
       "      <td>1058</td>\n",
       "      <td>1058</td>\n",
       "      <td>1058</td>\n",
       "      <td>412</td>\n",
       "    </tr>\n",
       "    <tr>\n",
       "      <th>Crowe Horwath LLP (Inactive)</th>\n",
       "      <th>2830.0</th>\n",
       "      <td>1038</td>\n",
       "      <td>1038</td>\n",
       "      <td>1038</td>\n",
       "      <td>1038</td>\n",
       "      <td>1038</td>\n",
       "      <td>1038</td>\n",
       "      <td>501</td>\n",
       "    </tr>\n",
       "    <tr>\n",
       "      <th>M&amp;K CPAS PLLC</th>\n",
       "      <th>3143.0</th>\n",
       "      <td>1002</td>\n",
       "      <td>1002</td>\n",
       "      <td>1001</td>\n",
       "      <td>1002</td>\n",
       "      <td>1002</td>\n",
       "      <td>1002</td>\n",
       "      <td>472</td>\n",
       "    </tr>\n",
       "    <tr>\n",
       "      <th>WithumSmith + Brown PC</th>\n",
       "      <th>52.0</th>\n",
       "      <td>964</td>\n",
       "      <td>964</td>\n",
       "      <td>964</td>\n",
       "      <td>964</td>\n",
       "      <td>964</td>\n",
       "      <td>964</td>\n",
       "      <td>681</td>\n",
       "    </tr>\n",
       "    <tr>\n",
       "      <th>BBD LLP</th>\n",
       "      <th>11308.0</th>\n",
       "      <td>913</td>\n",
       "      <td>913</td>\n",
       "      <td>913</td>\n",
       "      <td>913</td>\n",
       "      <td>913</td>\n",
       "      <td>913</td>\n",
       "      <td>10</td>\n",
       "    </tr>\n",
       "    <tr>\n",
       "      <th>Crowe Chizek &amp; Company LLP</th>\n",
       "      <th>8.0</th>\n",
       "      <td>892</td>\n",
       "      <td>892</td>\n",
       "      <td>890</td>\n",
       "      <td>892</td>\n",
       "      <td>892</td>\n",
       "      <td>892</td>\n",
       "      <td>214</td>\n",
       "    </tr>\n",
       "  </tbody>\n",
       "</table>\n",
       "</div>"
      ],
      "text/plain": [
       "                                      audit_op_key    gco  af_ctry     fy  \\\n",
       "afn                          afk                                            \n",
       "Deloitte & Touche LLP        3.0             56507  56507    56326  56507   \n",
       "Ernst & Young LLP            2.0             50808  50808    50627  50808   \n",
       "PricewaterhouseCoopers LLP   1.0             50565  50565    50247  50565   \n",
       "KPMG LLP                     4.0             36703  36703    36570  36703   \n",
       "Grant Thornton LLP           6.0             31512  31512    31506  31512   \n",
       "Arthur Andersen LLP          5.0              6398   6398     6397   6398   \n",
       "BDO USA LLP                  11761.0          3137   3137     3132   3137   \n",
       "BDO Seidman LLP              7.0              2964   2964     2944   2964   \n",
       "MaloneBailey LLP             151.0            2552   2552     2550   2552   \n",
       "Marcum LLP                   8256.0           2250   2250     2248   2250   \n",
       "Tait Weller & Baker LLP      142.0            1949   1949     1949   1949   \n",
       "McGladrey & Pullen LLP       10.0             1550   1550     1546   1550   \n",
       "Moss Adams LLP               13.0             1399   1399     1399   1399   \n",
       "RSM US LLP                   26516.0          1139   1139     1139   1139   \n",
       "BKD LLP                      11.0             1058   1058     1053   1058   \n",
       "Crowe Horwath LLP (Inactive) 2830.0           1038   1038     1038   1038   \n",
       "M&K CPAS PLLC                3143.0           1002   1002     1001   1002   \n",
       "WithumSmith + Brown PC       52.0              964    964      964    964   \n",
       "BBD LLP                      11308.0           913    913      913    913   \n",
       "Crowe Chizek & Company LLP   8.0               892    892      890    892   \n",
       "\n",
       "                                      form_fkey    cik    tic  \n",
       "afn                          afk                               \n",
       "Deloitte & Touche LLP        3.0          56507  56507  11497  \n",
       "Ernst & Young LLP            2.0          50808  50808  16659  \n",
       "PricewaterhouseCoopers LLP   1.0          50565  50565  13439  \n",
       "KPMG LLP                     4.0          36703  36703  11808  \n",
       "Grant Thornton LLP           6.0          31511  31512   3188  \n",
       "Arthur Andersen LLP          5.0           6398   6398    901  \n",
       "BDO USA LLP                  11761.0       3137   3137   1939  \n",
       "BDO Seidman LLP              7.0           2964   2964    675  \n",
       "MaloneBailey LLP             151.0         2552   2552   1044  \n",
       "Marcum LLP                   8256.0        2250   2250   1628  \n",
       "Tait Weller & Baker LLP      142.0         1949   1949     40  \n",
       "McGladrey & Pullen LLP       10.0          1550   1550    467  \n",
       "Moss Adams LLP               13.0          1399   1399    647  \n",
       "RSM US LLP                   26516.0       1139   1139    726  \n",
       "BKD LLP                      11.0          1058   1058    412  \n",
       "Crowe Horwath LLP (Inactive) 2830.0        1038   1038    501  \n",
       "M&K CPAS PLLC                3143.0        1002   1002    472  \n",
       "WithumSmith + Brown PC       52.0           964    964    681  \n",
       "BBD LLP                      11308.0        913    913     10  \n",
       "Crowe Chizek & Company LLP   8.0            892    892    214  "
      ]
     },
     "execution_count": 11,
     "metadata": {},
     "output_type": "execute_result"
    }
   ],
   "source": [
    "df.groupby(['afn','afk']).count().sort_values('cik', ascending=False).head(20)"
   ]
  },
  {
   "cell_type": "code",
   "execution_count": 12,
   "id": "9704cabd-56e9-41f4-95c9-d8c522a30e4b",
   "metadata": {},
   "outputs": [
    {
     "name": "stdout",
     "output_type": "stream",
     "text": [
      "(324416, 10)\n"
     ]
    },
    {
     "data": {
      "text/html": [
       "<div>\n",
       "<style scoped>\n",
       "    .dataframe tbody tr th:only-of-type {\n",
       "        vertical-align: middle;\n",
       "    }\n",
       "\n",
       "    .dataframe tbody tr th {\n",
       "        vertical-align: top;\n",
       "    }\n",
       "\n",
       "    .dataframe thead th {\n",
       "        text-align: right;\n",
       "    }\n",
       "</style>\n",
       "<table border=\"1\" class=\"dataframe\">\n",
       "  <thead>\n",
       "    <tr style=\"text-align: right;\">\n",
       "      <th></th>\n",
       "      <th>audit_op_key</th>\n",
       "      <th>afk</th>\n",
       "      <th>afn</th>\n",
       "      <th>gco</th>\n",
       "      <th>af_ctry</th>\n",
       "      <th>fy</th>\n",
       "      <th>form_fkey</th>\n",
       "      <th>cik</th>\n",
       "      <th>tic</th>\n",
       "      <th>big5</th>\n",
       "    </tr>\n",
       "  </thead>\n",
       "  <tbody>\n",
       "    <tr>\n",
       "      <th>0</th>\n",
       "      <td>66900.0</td>\n",
       "      <td>5.0</td>\n",
       "      <td>Arthur Andersen LLP</td>\n",
       "      <td>0.0</td>\n",
       "      <td>USA</td>\n",
       "      <td>2000.0</td>\n",
       "      <td>10-K</td>\n",
       "      <td>0000000020</td>\n",
       "      <td>None</td>\n",
       "      <td>1</td>\n",
       "    </tr>\n",
       "    <tr>\n",
       "      <th>1</th>\n",
       "      <td>78252.0</td>\n",
       "      <td>5.0</td>\n",
       "      <td>Arthur Andersen LLP</td>\n",
       "      <td>0.0</td>\n",
       "      <td>USA</td>\n",
       "      <td>2001.0</td>\n",
       "      <td>10-K405</td>\n",
       "      <td>0000000020</td>\n",
       "      <td>None</td>\n",
       "      <td>1</td>\n",
       "    </tr>\n",
       "    <tr>\n",
       "      <th>2</th>\n",
       "      <td>3538.0</td>\n",
       "      <td>4.0</td>\n",
       "      <td>KPMG LLP</td>\n",
       "      <td>0.0</td>\n",
       "      <td>USA</td>\n",
       "      <td>2002.0</td>\n",
       "      <td>10-K</td>\n",
       "      <td>0000000020</td>\n",
       "      <td>None</td>\n",
       "      <td>1</td>\n",
       "    </tr>\n",
       "    <tr>\n",
       "      <th>3</th>\n",
       "      <td>39225.0</td>\n",
       "      <td>6.0</td>\n",
       "      <td>Grant Thornton LLP</td>\n",
       "      <td>0.0</td>\n",
       "      <td>USA</td>\n",
       "      <td>2003.0</td>\n",
       "      <td>10-K</td>\n",
       "      <td>0000000020</td>\n",
       "      <td>None</td>\n",
       "      <td>0</td>\n",
       "    </tr>\n",
       "    <tr>\n",
       "      <th>4</th>\n",
       "      <td>84748.0</td>\n",
       "      <td>6.0</td>\n",
       "      <td>Grant Thornton LLP</td>\n",
       "      <td>0.0</td>\n",
       "      <td>USA</td>\n",
       "      <td>2004.0</td>\n",
       "      <td>10-K</td>\n",
       "      <td>0000000020</td>\n",
       "      <td>None</td>\n",
       "      <td>0</td>\n",
       "    </tr>\n",
       "  </tbody>\n",
       "</table>\n",
       "</div>"
      ],
      "text/plain": [
       "   audit_op_key  afk                  afn  gco af_ctry      fy form_fkey  \\\n",
       "0       66900.0  5.0  Arthur Andersen LLP  0.0     USA  2000.0      10-K   \n",
       "1       78252.0  5.0  Arthur Andersen LLP  0.0     USA  2001.0   10-K405   \n",
       "2        3538.0  4.0             KPMG LLP  0.0     USA  2002.0      10-K   \n",
       "3       39225.0  6.0   Grant Thornton LLP  0.0     USA  2003.0      10-K   \n",
       "4       84748.0  6.0   Grant Thornton LLP  0.0     USA  2004.0      10-K   \n",
       "\n",
       "          cik   tic  big5  \n",
       "0  0000000020  None     1  \n",
       "1  0000000020  None     1  \n",
       "2  0000000020  None     1  \n",
       "3  0000000020  None     0  \n",
       "4  0000000020  None     0  "
      ]
     },
     "execution_count": 12,
     "metadata": {},
     "output_type": "execute_result"
    }
   ],
   "source": [
    "df=df[df.fy>=2000]\n",
    "df=df[df.fy<=2020]\n",
    "df['big5']= (df['afk']<= 5).astype(int)\n",
    "print(df.shape)\n",
    "df.head()"
   ]
  },
  {
   "cell_type": "code",
   "execution_count": 13,
   "id": "ffc8c195-eb03-4d36-998d-b9d777dd7185",
   "metadata": {},
   "outputs": [
    {
     "data": {
      "text/plain": [
       "<AxesSubplot:xlabel='fy'>"
      ]
     },
     "execution_count": 13,
     "metadata": {},
     "output_type": "execute_result"
    },
    {
     "data": {
      "image/png": "[encoded data removed]",
      "text/plain": [
       "<Figure size 720x432 with 1 Axes>"
      ]
     },
     "metadata": {
      "needs_background": "light"
     },
     "output_type": "display_data"
    }
   ],
   "source": [
    "df[df.gco==1].groupby(['fy']).count()['cik'].plot(kind='bar', figsize=(10,6))"
   ]
  },
  {
   "cell_type": "code",
   "execution_count": 14,
   "id": "c3d3956d-ff5e-4524-8e75-be52c5a0b38d",
   "metadata": {},
   "outputs": [
    {
     "data": {
      "text/html": [
       "<div>\n",
       "<style scoped>\n",
       "    .dataframe tbody tr th:only-of-type {\n",
       "        vertical-align: middle;\n",
       "    }\n",
       "\n",
       "    .dataframe tbody tr th {\n",
       "        vertical-align: top;\n",
       "    }\n",
       "\n",
       "    .dataframe thead th {\n",
       "        text-align: right;\n",
       "    }\n",
       "</style>\n",
       "<table border=\"1\" class=\"dataframe\">\n",
       "  <thead>\n",
       "    <tr style=\"text-align: right;\">\n",
       "      <th></th>\n",
       "      <th>audit_op_key</th>\n",
       "      <th>afk</th>\n",
       "      <th>afn</th>\n",
       "      <th>gco</th>\n",
       "      <th>af_ctry</th>\n",
       "      <th>fy</th>\n",
       "      <th>form_fkey</th>\n",
       "      <th>cik</th>\n",
       "      <th>tic</th>\n",
       "      <th>big5</th>\n",
       "    </tr>\n",
       "  </thead>\n",
       "  <tbody>\n",
       "    <tr>\n",
       "      <th>0</th>\n",
       "      <td>66900.0</td>\n",
       "      <td>5.0</td>\n",
       "      <td>Arthur Andersen LLP</td>\n",
       "      <td>0.0</td>\n",
       "      <td>USA</td>\n",
       "      <td>2000.0</td>\n",
       "      <td>10-K</td>\n",
       "      <td>0000000020</td>\n",
       "      <td>None</td>\n",
       "      <td>1</td>\n",
       "    </tr>\n",
       "    <tr>\n",
       "      <th>1</th>\n",
       "      <td>78252.0</td>\n",
       "      <td>5.0</td>\n",
       "      <td>Arthur Andersen LLP</td>\n",
       "      <td>0.0</td>\n",
       "      <td>USA</td>\n",
       "      <td>2001.0</td>\n",
       "      <td>10-K405</td>\n",
       "      <td>0000000020</td>\n",
       "      <td>None</td>\n",
       "      <td>1</td>\n",
       "    </tr>\n",
       "    <tr>\n",
       "      <th>2</th>\n",
       "      <td>3538.0</td>\n",
       "      <td>4.0</td>\n",
       "      <td>KPMG LLP</td>\n",
       "      <td>0.0</td>\n",
       "      <td>USA</td>\n",
       "      <td>2002.0</td>\n",
       "      <td>10-K</td>\n",
       "      <td>0000000020</td>\n",
       "      <td>None</td>\n",
       "      <td>1</td>\n",
       "    </tr>\n",
       "    <tr>\n",
       "      <th>3</th>\n",
       "      <td>39225.0</td>\n",
       "      <td>6.0</td>\n",
       "      <td>Grant Thornton LLP</td>\n",
       "      <td>0.0</td>\n",
       "      <td>USA</td>\n",
       "      <td>2003.0</td>\n",
       "      <td>10-K</td>\n",
       "      <td>0000000020</td>\n",
       "      <td>None</td>\n",
       "      <td>0</td>\n",
       "    </tr>\n",
       "    <tr>\n",
       "      <th>4</th>\n",
       "      <td>84748.0</td>\n",
       "      <td>6.0</td>\n",
       "      <td>Grant Thornton LLP</td>\n",
       "      <td>0.0</td>\n",
       "      <td>USA</td>\n",
       "      <td>2004.0</td>\n",
       "      <td>10-K</td>\n",
       "      <td>0000000020</td>\n",
       "      <td>None</td>\n",
       "      <td>0</td>\n",
       "    </tr>\n",
       "  </tbody>\n",
       "</table>\n",
       "</div>"
      ],
      "text/plain": [
       "   audit_op_key  afk                  afn  gco af_ctry      fy form_fkey  \\\n",
       "0       66900.0  5.0  Arthur Andersen LLP  0.0     USA  2000.0      10-K   \n",
       "1       78252.0  5.0  Arthur Andersen LLP  0.0     USA  2001.0   10-K405   \n",
       "2        3538.0  4.0             KPMG LLP  0.0     USA  2002.0      10-K   \n",
       "3       39225.0  6.0   Grant Thornton LLP  0.0     USA  2003.0      10-K   \n",
       "4       84748.0  6.0   Grant Thornton LLP  0.0     USA  2004.0      10-K   \n",
       "\n",
       "          cik   tic  big5  \n",
       "0  0000000020  None     1  \n",
       "1  0000000020  None     1  \n",
       "2  0000000020  None     1  \n",
       "3  0000000020  None     0  \n",
       "4  0000000020  None     0  "
      ]
     },
     "execution_count": 14,
     "metadata": {},
     "output_type": "execute_result"
    }
   ],
   "source": [
    "df.head()"
   ]
  },
  {
   "cell_type": "code",
   "execution_count": 15,
   "id": "37c680e4-f86d-4f8b-a17f-92e2b018664f",
   "metadata": {},
   "outputs": [
    {
     "data": {
      "text/html": [
       "<div>\n",
       "<style scoped>\n",
       "    .dataframe tbody tr th:only-of-type {\n",
       "        vertical-align: middle;\n",
       "    }\n",
       "\n",
       "    .dataframe tbody tr th {\n",
       "        vertical-align: top;\n",
       "    }\n",
       "\n",
       "    .dataframe thead th {\n",
       "        text-align: right;\n",
       "    }\n",
       "</style>\n",
       "<table border=\"1\" class=\"dataframe\">\n",
       "  <thead>\n",
       "    <tr style=\"text-align: right;\">\n",
       "      <th></th>\n",
       "      <th>afn</th>\n",
       "      <th>fy</th>\n",
       "    </tr>\n",
       "  </thead>\n",
       "  <tbody>\n",
       "    <tr>\n",
       "      <th>0</th>\n",
       "      <td>Arthur Andersen LLP</td>\n",
       "      <td>2000.0</td>\n",
       "    </tr>\n",
       "    <tr>\n",
       "      <th>1</th>\n",
       "      <td>Arthur Andersen LLP</td>\n",
       "      <td>2001.0</td>\n",
       "    </tr>\n",
       "    <tr>\n",
       "      <th>2</th>\n",
       "      <td>KPMG LLP</td>\n",
       "      <td>2002.0</td>\n",
       "    </tr>\n",
       "    <tr>\n",
       "      <th>3</th>\n",
       "      <td>Grant Thornton LLP</td>\n",
       "      <td>2003.0</td>\n",
       "    </tr>\n",
       "    <tr>\n",
       "      <th>4</th>\n",
       "      <td>Grant Thornton LLP</td>\n",
       "      <td>2004.0</td>\n",
       "    </tr>\n",
       "  </tbody>\n",
       "</table>\n",
       "</div>"
      ],
      "text/plain": [
       "                   afn      fy\n",
       "0  Arthur Andersen LLP  2000.0\n",
       "1  Arthur Andersen LLP  2001.0\n",
       "2             KPMG LLP  2002.0\n",
       "3   Grant Thornton LLP  2003.0\n",
       "4   Grant Thornton LLP  2004.0"
      ]
     },
     "execution_count": 15,
     "metadata": {},
     "output_type": "execute_result"
    }
   ],
   "source": [
    "df_b6= df[df.afk<=6]\n",
    "df_b6=df_b6[['afn', 'fy']]\n",
    "df_b6.head()"
   ]
  },
  {
   "cell_type": "code",
   "execution_count": 16,
   "id": "8fe5f075-c5a1-44da-9fdc-0fa8eb1a747d",
   "metadata": {},
   "outputs": [
    {
     "data": {
      "text/html": [
       "<div>\n",
       "<style scoped>\n",
       "    .dataframe tbody tr th:only-of-type {\n",
       "        vertical-align: middle;\n",
       "    }\n",
       "\n",
       "    .dataframe tbody tr th {\n",
       "        vertical-align: top;\n",
       "    }\n",
       "\n",
       "    .dataframe thead th {\n",
       "        text-align: right;\n",
       "    }\n",
       "</style>\n",
       "<table border=\"1\" class=\"dataframe\">\n",
       "  <thead>\n",
       "    <tr style=\"text-align: right;\">\n",
       "      <th></th>\n",
       "      <th>afn</th>\n",
       "      <th>fy</th>\n",
       "    </tr>\n",
       "  </thead>\n",
       "  <tbody>\n",
       "    <tr>\n",
       "      <th>0</th>\n",
       "      <td>Arthur Andersen LLP</td>\n",
       "      <td>2000.0</td>\n",
       "    </tr>\n",
       "    <tr>\n",
       "      <th>1</th>\n",
       "      <td>Arthur Andersen LLP</td>\n",
       "      <td>2001.0</td>\n",
       "    </tr>\n",
       "  </tbody>\n",
       "</table>\n",
       "</div>"
      ],
      "text/plain": [
       "                   afn      fy\n",
       "0  Arthur Andersen LLP  2000.0\n",
       "1  Arthur Andersen LLP  2001.0"
      ]
     },
     "execution_count": 16,
     "metadata": {},
     "output_type": "execute_result"
    }
   ],
   "source": [
    "df_b6.head(2)"
   ]
  },
  {
   "cell_type": "code",
   "execution_count": 17,
   "id": "55a38ebc-d990-4e70-94e4-4d5b8e388d16",
   "metadata": {},
   "outputs": [
    {
     "data": {
      "text/html": [
       "<div>\n",
       "<style scoped>\n",
       "    .dataframe tbody tr th:only-of-type {\n",
       "        vertical-align: middle;\n",
       "    }\n",
       "\n",
       "    .dataframe tbody tr th {\n",
       "        vertical-align: top;\n",
       "    }\n",
       "\n",
       "    .dataframe thead th {\n",
       "        text-align: right;\n",
       "    }\n",
       "</style>\n",
       "<table border=\"1\" class=\"dataframe\">\n",
       "  <thead>\n",
       "    <tr style=\"text-align: right;\">\n",
       "      <th>afn</th>\n",
       "      <th>fy</th>\n",
       "      <th>Arthur Andersen LLP</th>\n",
       "      <th>Deloitte &amp; Touche LLP</th>\n",
       "      <th>Ernst &amp; Young LLP</th>\n",
       "      <th>Grant Thornton LLP</th>\n",
       "      <th>KPMG LLP</th>\n",
       "      <th>PricewaterhouseCoopers LLP</th>\n",
       "    </tr>\n",
       "  </thead>\n",
       "  <tbody>\n",
       "    <tr>\n",
       "      <th>0</th>\n",
       "      <td>2000.0</td>\n",
       "      <td>2549</td>\n",
       "      <td>2884</td>\n",
       "      <td>3306</td>\n",
       "      <td>981</td>\n",
       "      <td>1998</td>\n",
       "      <td>3098</td>\n",
       "    </tr>\n",
       "    <tr>\n",
       "      <th>1</th>\n",
       "      <td>2001.0</td>\n",
       "      <td>2357</td>\n",
       "      <td>2724</td>\n",
       "      <td>2662</td>\n",
       "      <td>987</td>\n",
       "      <td>2154</td>\n",
       "      <td>2973</td>\n",
       "    </tr>\n",
       "    <tr>\n",
       "      <th>2</th>\n",
       "      <td>2002.0</td>\n",
       "      <td>196</td>\n",
       "      <td>3177</td>\n",
       "      <td>2863</td>\n",
       "      <td>955</td>\n",
       "      <td>2284</td>\n",
       "      <td>2875</td>\n",
       "    </tr>\n",
       "    <tr>\n",
       "      <th>3</th>\n",
       "      <td>2003.0</td>\n",
       "      <td>0</td>\n",
       "      <td>3232</td>\n",
       "      <td>3079</td>\n",
       "      <td>926</td>\n",
       "      <td>2295</td>\n",
       "      <td>3300</td>\n",
       "    </tr>\n",
       "    <tr>\n",
       "      <th>4</th>\n",
       "      <td>2004.0</td>\n",
       "      <td>0</td>\n",
       "      <td>2698</td>\n",
       "      <td>2785</td>\n",
       "      <td>1164</td>\n",
       "      <td>2175</td>\n",
       "      <td>2714</td>\n",
       "    </tr>\n",
       "  </tbody>\n",
       "</table>\n",
       "</div>"
      ],
      "text/plain": [
       "afn      fy  Arthur Andersen LLP  Deloitte & Touche LLP  Ernst & Young LLP  \\\n",
       "0    2000.0                 2549                   2884               3306   \n",
       "1    2001.0                 2357                   2724               2662   \n",
       "2    2002.0                  196                   3177               2863   \n",
       "3    2003.0                    0                   3232               3079   \n",
       "4    2004.0                    0                   2698               2785   \n",
       "\n",
       "afn  Grant Thornton LLP  KPMG LLP  PricewaterhouseCoopers LLP  \n",
       "0                   981      1998                        3098  \n",
       "1                   987      2154                        2973  \n",
       "2                   955      2284                        2875  \n",
       "3                   926      2295                        3300  \n",
       "4                  1164      2175                        2714  "
      ]
     },
     "execution_count": 17,
     "metadata": {},
     "output_type": "execute_result"
    }
   ],
   "source": [
    "df_cross= pd.crosstab(df_b6.fy, df_b6.afn).reset_index()\n",
    "df_cross.head()"
   ]
  },
  {
   "cell_type": "code",
   "execution_count": 18,
   "id": "cf3e2980-563d-482f-a73c-d56702629cb3",
   "metadata": {},
   "outputs": [
    {
     "data": {
      "text/html": [
       "<div>\n",
       "<style scoped>\n",
       "    .dataframe tbody tr th:only-of-type {\n",
       "        vertical-align: middle;\n",
       "    }\n",
       "\n",
       "    .dataframe tbody tr th {\n",
       "        vertical-align: top;\n",
       "    }\n",
       "\n",
       "    .dataframe thead th {\n",
       "        text-align: right;\n",
       "    }\n",
       "</style>\n",
       "<table border=\"1\" class=\"dataframe\">\n",
       "  <thead>\n",
       "    <tr style=\"text-align: right;\">\n",
       "      <th></th>\n",
       "      <th>fy</th>\n",
       "      <th>afn</th>\n",
       "      <th>count</th>\n",
       "    </tr>\n",
       "  </thead>\n",
       "  <tbody>\n",
       "    <tr>\n",
       "      <th>0</th>\n",
       "      <td>2000.0</td>\n",
       "      <td>Arthur Andersen LLP</td>\n",
       "      <td>2549</td>\n",
       "    </tr>\n",
       "    <tr>\n",
       "      <th>1</th>\n",
       "      <td>2001.0</td>\n",
       "      <td>Arthur Andersen LLP</td>\n",
       "      <td>2357</td>\n",
       "    </tr>\n",
       "    <tr>\n",
       "      <th>2</th>\n",
       "      <td>2002.0</td>\n",
       "      <td>Arthur Andersen LLP</td>\n",
       "      <td>196</td>\n",
       "    </tr>\n",
       "    <tr>\n",
       "      <th>3</th>\n",
       "      <td>2003.0</td>\n",
       "      <td>Arthur Andersen LLP</td>\n",
       "      <td>0</td>\n",
       "    </tr>\n",
       "    <tr>\n",
       "      <th>4</th>\n",
       "      <td>2004.0</td>\n",
       "      <td>Arthur Andersen LLP</td>\n",
       "      <td>0</td>\n",
       "    </tr>\n",
       "  </tbody>\n",
       "</table>\n",
       "</div>"
      ],
      "text/plain": [
       "       fy                  afn  count\n",
       "0  2000.0  Arthur Andersen LLP   2549\n",
       "1  2001.0  Arthur Andersen LLP   2357\n",
       "2  2002.0  Arthur Andersen LLP    196\n",
       "3  2003.0  Arthur Andersen LLP      0\n",
       "4  2004.0  Arthur Andersen LLP      0"
      ]
     },
     "execution_count": 18,
     "metadata": {},
     "output_type": "execute_result"
    }
   ],
   "source": [
    "df_cross_melted= pd.melt(df_cross, id_vars='fy')\n",
    "df_cross_melted.rename(columns={'value':'count'}, inplace= True)\n",
    "df_cross_melted.head()"
   ]
  },
  {
   "cell_type": "code",
   "execution_count": 65,
   "id": "f58bfe41-ef3c-4947-9e70-cab0448f88d7",
   "metadata": {},
   "outputs": [
    {
     "data": {
      "text/html": [
       "<div>\n",
       "<style scoped>\n",
       "    .dataframe tbody tr th:only-of-type {\n",
       "        vertical-align: middle;\n",
       "    }\n",
       "\n",
       "    .dataframe tbody tr th {\n",
       "        vertical-align: top;\n",
       "    }\n",
       "\n",
       "    .dataframe thead th {\n",
       "        text-align: right;\n",
       "    }\n",
       "</style>\n",
       "<table border=\"1\" class=\"dataframe\">\n",
       "  <thead>\n",
       "    <tr style=\"text-align: right;\">\n",
       "      <th></th>\n",
       "      <th>fy</th>\n",
       "      <th>afn</th>\n",
       "      <th>count</th>\n",
       "      <th>bubble_size</th>\n",
       "    </tr>\n",
       "  </thead>\n",
       "  <tbody>\n",
       "    <tr>\n",
       "      <th>0</th>\n",
       "      <td>2000.0</td>\n",
       "      <td>Arthur Andersen</td>\n",
       "      <td>2549</td>\n",
       "      <td>2549</td>\n",
       "    </tr>\n",
       "    <tr>\n",
       "      <th>1</th>\n",
       "      <td>2001.0</td>\n",
       "      <td>Arthur Andersen</td>\n",
       "      <td>2357</td>\n",
       "      <td>2357</td>\n",
       "    </tr>\n",
       "    <tr>\n",
       "      <th>2</th>\n",
       "      <td>2002.0</td>\n",
       "      <td>Arthur Andersen</td>\n",
       "      <td>196</td>\n",
       "      <td>300</td>\n",
       "    </tr>\n",
       "    <tr>\n",
       "      <th>3</th>\n",
       "      <td>2003.0</td>\n",
       "      <td>Arthur Andersen</td>\n",
       "      <td>0</td>\n",
       "      <td>300</td>\n",
       "    </tr>\n",
       "    <tr>\n",
       "      <th>4</th>\n",
       "      <td>2004.0</td>\n",
       "      <td>Arthur Andersen</td>\n",
       "      <td>0</td>\n",
       "      <td>300</td>\n",
       "    </tr>\n",
       "  </tbody>\n",
       "</table>\n",
       "</div>"
      ],
      "text/plain": [
       "       fy              afn  count  bubble_size\n",
       "0  2000.0  Arthur Andersen   2549         2549\n",
       "1  2001.0  Arthur Andersen   2357         2357\n",
       "2  2002.0  Arthur Andersen    196          300\n",
       "3  2003.0  Arthur Andersen      0          300\n",
       "4  2004.0  Arthur Andersen      0          300"
      ]
     },
     "execution_count": 65,
     "metadata": {},
     "output_type": "execute_result"
    }
   ],
   "source": [
    "df_cross_melted['bubble_size']= df_cross_melted['count']\n",
    "df_cross_melted.loc[df_cross_melted.bubble_size<=300, 'bubble_size']=300\n",
    "df_cross_melted.head()\n"
   ]
  },
  {
   "cell_type": "code",
   "execution_count": 66,
   "id": "11a1b70d-9b95-4c5e-a49e-e35c9cbae93d",
   "metadata": {},
   "outputs": [],
   "source": [
    "df_cross_melted.afn= df_cross_melted.afn.str.replace(' LLP', '')\n",
    "df_cross_melted.loc[df_cross_melted.afn == 'PricewaterhouseCoopers', 'afn']='PwC'"
   ]
  },
  {
   "cell_type": "markdown",
   "id": "13ac6e42-a489-4e71-9fa7-9c57ec008dd5",
   "metadata": {},
   "source": [
    "-----------\n",
    "## Plot with animation"
   ]
  },
  {
   "cell_type": "code",
   "execution_count": 67,
   "id": "5f346216-bb49-4206-b53a-5bf3d0c8519c",
   "metadata": {},
   "outputs": [
    {
     "data": {
      "application/vnd.plotly.v1+json": {
       "config": {
        "plotlyServerURL": "https://plot.ly"
       },
       "data": [
        {
         "hovertemplate": "<b>%{hovertext}</b><br><br>Audit Firm Name=Arthur Andersen<br>Fiscal Year=%{x}<br># of Clients=%{y}<br>bubble_size=%{marker.size}<extra></extra>",
         "hovertext": [
          "Arthur Andersen"
         ],
         "ids": [
          "Arthur Andersen"
         ],
         "legendgroup": "Arthur Andersen",
         "marker": {
          "color": "#636efa",
          "size": [
           300
          ],
          "sizemode": "area",
          "sizeref": 3.6733333333333333,
          "symbol": "circle"
         },
         "mode": "markers",
         "name": "Arthur Andersen",
         "orientation": "v",
         "showlegend": true,
         "type": "scatter",
         "x": [
          2020
         ],
         "xaxis": "x",
         "y": [
          0
         ],
         "yaxis": "y"
        },
        {
         "hovertemplate": "<b>%{hovertext}</b><br><br>Audit Firm Name=Deloitte & Touche<br>Fiscal Year=%{x}<br># of Clients=%{y}<br>bubble_size=%{marker.size}<extra></extra>",
         "hovertext": [
          "Deloitte & Touche"
         ],
         "ids": [
          "Deloitte & Touche"
         ],
         "legendgroup": "Deloitte & Touche",
         "marker": {
          "color": "#EF553B",
          "size": [
           2306
          ],
          "sizemode": "area",
          "sizeref": 3.6733333333333333,
          "symbol": "circle"
         },
         "mode": "markers",
         "name": "Deloitte & Touche",
         "orientation": "v",
         "showlegend": true,
         "type": "scatter",
         "x": [
          2020
         ],
         "xaxis": "x",
         "y": [
          2306
         ],
         "yaxis": "y"
        },
        {
         "hovertemplate": "<b>%{hovertext}</b><br><br>Audit Firm Name=Ernst & Young<br>Fiscal Year=%{x}<br># of Clients=%{y}<br>bubble_size=%{marker.size}<extra></extra>",
         "hovertext": [
          "Ernst & Young"
         ],
         "ids": [
          "Ernst & Young"
         ],
         "legendgroup": "Ernst & Young",
         "marker": {
          "color": "#00cc96",
          "size": [
           1866
          ],
          "sizemode": "area",
          "sizeref": 3.6733333333333333,
          "symbol": "circle"
         },
         "mode": "markers",
         "name": "Ernst & Young",
         "orientation": "v",
         "showlegend": true,
         "type": "scatter",
         "x": [
          2020
         ],
         "xaxis": "x",
         "y": [
          1866
         ],
         "yaxis": "y"
        },
        {
         "hovertemplate": "<b>%{hovertext}</b><br><br>Audit Firm Name=Grant Thornton<br>Fiscal Year=%{x}<br># of Clients=%{y}<br>bubble_size=%{marker.size}<extra></extra>",
         "hovertext": [
          "Grant Thornton"
         ],
         "ids": [
          "Grant Thornton"
         ],
         "legendgroup": "Grant Thornton",
         "marker": {
          "color": "#ab63fa",
          "size": [
           1075
          ],
          "sizemode": "area",
          "sizeref": 3.6733333333333333,
          "symbol": "circle"
         },
         "mode": "markers",
         "name": "Grant Thornton",
         "orientation": "v",
         "showlegend": true,
         "type": "scatter",
         "x": [
          2020
         ],
         "xaxis": "x",
         "y": [
          1075
         ],
         "yaxis": "y"
        },
        {
         "hovertemplate": "<b>%{hovertext}</b><br><br>Audit Firm Name=KPMG<br>Fiscal Year=%{x}<br># of Clients=%{y}<br>bubble_size=%{marker.size}<extra></extra>",
         "hovertext": [
          "KPMG"
         ],
         "ids": [
          "KPMG"
         ],
         "legendgroup": "KPMG",
         "marker": {
          "color": "#FFA15A",
          "size": [
           1280
          ],
          "sizemode": "area",
          "sizeref": 3.6733333333333333,
          "symbol": "circle"
         },
         "mode": "markers",
         "name": "KPMG",
         "orientation": "v",
         "showlegend": true,
         "type": "scatter",
         "x": [
          2020
         ],
         "xaxis": "x",
         "y": [
          1280
         ],
         "yaxis": "y"
        },
        {
         "hovertemplate": "<b>%{hovertext}</b><br><br>Audit Firm Name=PwC<br>Fiscal Year=%{x}<br># of Clients=%{y}<br>bubble_size=%{marker.size}<extra></extra>",
         "hovertext": [
          "PwC"
         ],
         "ids": [
          "PwC"
         ],
         "legendgroup": "PwC",
         "marker": {
          "color": "#19d3f3",
          "size": [
           2040
          ],
          "sizemode": "area",
          "sizeref": 3.6733333333333333,
          "symbol": "circle"
         },
         "mode": "markers",
         "name": "PwC",
         "orientation": "v",
         "showlegend": true,
         "type": "scatter",
         "x": [
          2020
         ],
         "xaxis": "x",
         "y": [
          2040
         ],
         "yaxis": "y"
        }
       ],
       "frames": [
        {
         "data": [
          {
           "hovertemplate": "<b>%{hovertext}</b><br><br>Audit Firm Name=Arthur Andersen<br>Fiscal Year=%{x}<br># of Clients=%{y}<br>bubble_size=%{marker.size}<extra></extra>",
           "hovertext": [
            "Arthur Andersen"
           ],
           "ids": [
            "Arthur Andersen"
           ],
           "legendgroup": "Arthur Andersen",
           "marker": {
            "color": "#636efa",
            "size": [
             2549
            ],
            "sizemode": "area",
            "sizeref": 3.6733333333333333,
            "symbol": "circle"
           },
           "mode": "markers",
           "name": "Arthur Andersen",
           "orientation": "v",
           "showlegend": true,
           "type": "scatter",
           "x": [
            2000
           ],
           "xaxis": "x",
           "y": [
            2549
           ],
           "yaxis": "y"
          },
          {
           "hovertemplate": "<b>%{hovertext}</b><br><br>Audit Firm Name=Deloitte & Touche<br>Fiscal Year=%{x}<br># of Clients=%{y}<br>bubble_size=%{marker.size}<extra></extra>",
           "hovertext": [
            "Deloitte & Touche"
           ],
           "ids": [
            "Deloitte & Touche"
           ],
           "legendgroup": "Deloitte & Touche",
           "marker": {
            "color": "#EF553B",
            "size": [
             2884
            ],
            "sizemode": "area",
            "sizeref": 3.6733333333333333,
            "symbol": "circle"
           },
           "mode": "markers",
           "name": "Deloitte & Touche",
           "orientation": "v",
           "showlegend": true,
           "type": "scatter",
           "x": [
            2000
           ],
           "xaxis": "x",
           "y": [
            2884
           ],
           "yaxis": "y"
          },
          {
           "hovertemplate": "<b>%{hovertext}</b><br><br>Audit Firm Name=Ernst & Young<br>Fiscal Year=%{x}<br># of Clients=%{y}<br>bubble_size=%{marker.size}<extra></extra>",
           "hovertext": [
            "Ernst & Young"
           ],
           "ids": [
            "Ernst & Young"
           ],
           "legendgroup": "Ernst & Young",
           "marker": {
            "color": "#00cc96",
            "size": [
             3306
            ],
            "sizemode": "area",
            "sizeref": 3.6733333333333333,
            "symbol": "circle"
           },
           "mode": "markers",
           "name": "Ernst & Young",
           "orientation": "v",
           "showlegend": true,
           "type": "scatter",
           "x": [
            2000
           ],
           "xaxis": "x",
           "y": [
            3306
           ],
           "yaxis": "y"
          },
          {
           "hovertemplate": "<b>%{hovertext}</b><br><br>Audit Firm Name=Grant Thornton<br>Fiscal Year=%{x}<br># of Clients=%{y}<br>bubble_size=%{marker.size}<extra></extra>",
           "hovertext": [
            "Grant Thornton"
           ],
           "ids": [
            "Grant Thornton"
           ],
           "legendgroup": "Grant Thornton",
           "marker": {
            "color": "#ab63fa",
            "size": [
             981
            ],
            "sizemode": "area",
            "sizeref": 3.6733333333333333,
            "symbol": "circle"
           },
           "mode": "markers",
           "name": "Grant Thornton",
           "orientation": "v",
           "showlegend": true,
           "type": "scatter",
           "x": [
            2000
           ],
           "xaxis": "x",
           "y": [
            981
           ],
           "yaxis": "y"
          },
          {
           "hovertemplate": "<b>%{hovertext}</b><br><br>Audit Firm Name=KPMG<br>Fiscal Year=%{x}<br># of Clients=%{y}<br>bubble_size=%{marker.size}<extra></extra>",
           "hovertext": [
            "KPMG"
           ],
           "ids": [
            "KPMG"
           ],
           "legendgroup": "KPMG",
           "marker": {
            "color": "#FFA15A",
            "size": [
             1998
            ],
            "sizemode": "area",
            "sizeref": 3.6733333333333333,
            "symbol": "circle"
           },
           "mode": "markers",
           "name": "KPMG",
           "orientation": "v",
           "showlegend": true,
           "type": "scatter",
           "x": [
            2000
           ],
           "xaxis": "x",
           "y": [
            1998
           ],
           "yaxis": "y"
          },
          {
           "hovertemplate": "<b>%{hovertext}</b><br><br>Audit Firm Name=PwC<br>Fiscal Year=%{x}<br># of Clients=%{y}<br>bubble_size=%{marker.size}<extra></extra>",
           "hovertext": [
            "PwC"
           ],
           "ids": [
            "PwC"
           ],
           "legendgroup": "PwC",
           "marker": {
            "color": "#19d3f3",
            "size": [
             3098
            ],
            "sizemode": "area",
            "sizeref": 3.6733333333333333,
            "symbol": "circle"
           },
           "mode": "markers",
           "name": "PwC",
           "orientation": "v",
           "showlegend": true,
           "type": "scatter",
           "x": [
            2000
           ],
           "xaxis": "x",
           "y": [
            3098
           ],
           "yaxis": "y"
          }
         ],
         "name": "2000.0"
        },
        {
         "data": [
          {
           "hovertemplate": "<b>%{hovertext}</b><br><br>Audit Firm Name=Arthur Andersen<br>Fiscal Year=%{x}<br># of Clients=%{y}<br>bubble_size=%{marker.size}<extra></extra>",
           "hovertext": [
            "Arthur Andersen"
           ],
           "ids": [
            "Arthur Andersen"
           ],
           "legendgroup": "Arthur Andersen",
           "marker": {
            "color": "#636efa",
            "size": [
             2357
            ],
            "sizemode": "area",
            "sizeref": 3.6733333333333333,
            "symbol": "circle"
           },
           "mode": "markers",
           "name": "Arthur Andersen",
           "orientation": "v",
           "showlegend": true,
           "type": "scatter",
           "x": [
            2001
           ],
           "xaxis": "x",
           "y": [
            2357
           ],
           "yaxis": "y"
          },
          {
           "hovertemplate": "<b>%{hovertext}</b><br><br>Audit Firm Name=Deloitte & Touche<br>Fiscal Year=%{x}<br># of Clients=%{y}<br>bubble_size=%{marker.size}<extra></extra>",
           "hovertext": [
            "Deloitte & Touche"
           ],
           "ids": [
            "Deloitte & Touche"
           ],
           "legendgroup": "Deloitte & Touche",
           "marker": {
            "color": "#EF553B",
            "size": [
             2724
            ],
            "sizemode": "area",
            "sizeref": 3.6733333333333333,
            "symbol": "circle"
           },
           "mode": "markers",
           "name": "Deloitte & Touche",
           "orientation": "v",
           "showlegend": true,
           "type": "scatter",
           "x": [
            2001
           ],
           "xaxis": "x",
           "y": [
            2724
           ],
           "yaxis": "y"
          },
          {
           "hovertemplate": "<b>%{hovertext}</b><br><br>Audit Firm Name=Ernst & Young<br>Fiscal Year=%{x}<br># of Clients=%{y}<br>bubble_size=%{marker.size}<extra></extra>",
           "hovertext": [
            "Ernst & Young"
           ],
           "ids": [
            "Ernst & Young"
           ],
           "legendgroup": "Ernst & Young",
           "marker": {
            "color": "#00cc96",
            "size": [
             2662
            ],
            "sizemode": "area",
            "sizeref": 3.6733333333333333,
            "symbol": "circle"
           },
           "mode": "markers",
           "name": "Ernst & Young",
           "orientation": "v",
           "showlegend": true,
           "type": "scatter",
           "x": [
            2001
           ],
           "xaxis": "x",
           "y": [
            2662
           ],
           "yaxis": "y"
          },
          {
           "hovertemplate": "<b>%{hovertext}</b><br><br>Audit Firm Name=Grant Thornton<br>Fiscal Year=%{x}<br># of Clients=%{y}<br>bubble_size=%{marker.size}<extra></extra>",
           "hovertext": [
            "Grant Thornton"
           ],
           "ids": [
            "Grant Thornton"
           ],
           "legendgroup": "Grant Thornton",
           "marker": {
            "color": "#ab63fa",
            "size": [
             987
            ],
            "sizemode": "area",
            "sizeref": 3.6733333333333333,
            "symbol": "circle"
           },
           "mode": "markers",
           "name": "Grant Thornton",
           "orientation": "v",
           "showlegend": true,
           "type": "scatter",
           "x": [
            2001
           ],
           "xaxis": "x",
           "y": [
            987
           ],
           "yaxis": "y"
          },
          {
           "hovertemplate": "<b>%{hovertext}</b><br><br>Audit Firm Name=KPMG<br>Fiscal Year=%{x}<br># of Clients=%{y}<br>bubble_size=%{marker.size}<extra></extra>",
           "hovertext": [
            "KPMG"
           ],
           "ids": [
            "KPMG"
           ],
           "legendgroup": "KPMG",
           "marker": {
            "color": "#FFA15A",
            "size": [
             2154
            ],
            "sizemode": "area",
            "sizeref": 3.6733333333333333,
            "symbol": "circle"
           },
           "mode": "markers",
           "name": "KPMG",
           "orientation": "v",
           "showlegend": true,
           "type": "scatter",
           "x": [
            2001
           ],
           "xaxis": "x",
           "y": [
            2154
           ],
           "yaxis": "y"
          },
          {
           "hovertemplate": "<b>%{hovertext}</b><br><br>Audit Firm Name=PwC<br>Fiscal Year=%{x}<br># of Clients=%{y}<br>bubble_size=%{marker.size}<extra></extra>",
           "hovertext": [
            "PwC"
           ],
           "ids": [
            "PwC"
           ],
           "legendgroup": "PwC",
           "marker": {
            "color": "#19d3f3",
            "size": [
             2973
            ],
            "sizemode": "area",
            "sizeref": 3.6733333333333333,
            "symbol": "circle"
           },
           "mode": "markers",
           "name": "PwC",
           "orientation": "v",
           "showlegend": true,
           "type": "scatter",
           "x": [
            2001
           ],
           "xaxis": "x",
           "y": [
            2973
           ],
           "yaxis": "y"
          }
         ],
         "name": "2001.0"
        },
        {
         "data": [
          {
           "hovertemplate": "<b>%{hovertext}</b><br><br>Audit Firm Name=Arthur Andersen<br>Fiscal Year=%{x}<br># of Clients=%{y}<br>bubble_size=%{marker.size}<extra></extra>",
           "hovertext": [
            "Arthur Andersen"
           ],
           "ids": [
            "Arthur Andersen"
           ],
           "legendgroup": "Arthur Andersen",
           "marker": {
            "color": "#636efa",
            "size": [
             300
            ],
            "sizemode": "area",
            "sizeref": 3.6733333333333333,
            "symbol": "circle"
           },
           "mode": "markers",
           "name": "Arthur Andersen",
           "orientation": "v",
           "showlegend": true,
           "type": "scatter",
           "x": [
            2002
           ],
           "xaxis": "x",
           "y": [
            196
           ],
           "yaxis": "y"
          },
          {
           "hovertemplate": "<b>%{hovertext}</b><br><br>Audit Firm Name=Deloitte & Touche<br>Fiscal Year=%{x}<br># of Clients=%{y}<br>bubble_size=%{marker.size}<extra></extra>",
           "hovertext": [
            "Deloitte & Touche"
           ],
           "ids": [
            "Deloitte & Touche"
           ],
           "legendgroup": "Deloitte & Touche",
           "marker": {
            "color": "#EF553B",
            "size": [
             3177
            ],
            "sizemode": "area",
            "sizeref": 3.6733333333333333,
            "symbol": "circle"
           },
           "mode": "markers",
           "name": "Deloitte & Touche",
           "orientation": "v",
           "showlegend": true,
           "type": "scatter",
           "x": [
            2002
           ],
           "xaxis": "x",
           "y": [
            3177
           ],
           "yaxis": "y"
          },
          {
           "hovertemplate": "<b>%{hovertext}</b><br><br>Audit Firm Name=Ernst & Young<br>Fiscal Year=%{x}<br># of Clients=%{y}<br>bubble_size=%{marker.size}<extra></extra>",
           "hovertext": [
            "Ernst & Young"
           ],
           "ids": [
            "Ernst & Young"
           ],
           "legendgroup": "Ernst & Young",
           "marker": {
            "color": "#00cc96",
            "size": [
             2863
            ],
            "sizemode": "area",
            "sizeref": 3.6733333333333333,
            "symbol": "circle"
           },
           "mode": "markers",
           "name": "Ernst & Young",
           "orientation": "v",
           "showlegend": true,
           "type": "scatter",
           "x": [
            2002
           ],
           "xaxis": "x",
           "y": [
            2863
           ],
           "yaxis": "y"
          },
          {
           "hovertemplate": "<b>%{hovertext}</b><br><br>Audit Firm Name=Grant Thornton<br>Fiscal Year=%{x}<br># of Clients=%{y}<br>bubble_size=%{marker.size}<extra></extra>",
           "hovertext": [
            "Grant Thornton"
           ],
           "ids": [
            "Grant Thornton"
           ],
           "legendgroup": "Grant Thornton",
           "marker": {
            "color": "#ab63fa",
            "size": [
             955
            ],
            "sizemode": "area",
            "sizeref": 3.6733333333333333,
            "symbol": "circle"
           },
           "mode": "markers",
           "name": "Grant Thornton",
           "orientation": "v",
           "showlegend": true,
           "type": "scatter",
           "x": [
            2002
           ],
           "xaxis": "x",
           "y": [
            955
           ],
           "yaxis": "y"
          },
          {
           "hovertemplate": "<b>%{hovertext}</b><br><br>Audit Firm Name=KPMG<br>Fiscal Year=%{x}<br># of Clients=%{y}<br>bubble_size=%{marker.size}<extra></extra>",
           "hovertext": [
            "KPMG"
           ],
           "ids": [
            "KPMG"
           ],
           "legendgroup": "KPMG",
           "marker": {
            "color": "#FFA15A",
            "size": [
             2284
            ],
            "sizemode": "area",
            "sizeref": 3.6733333333333333,
            "symbol": "circle"
           },
           "mode": "markers",
           "name": "KPMG",
           "orientation": "v",
           "showlegend": true,
           "type": "scatter",
           "x": [
            2002
           ],
           "xaxis": "x",
           "y": [
            2284
           ],
           "yaxis": "y"
          },
          {
           "hovertemplate": "<b>%{hovertext}</b><br><br>Audit Firm Name=PwC<br>Fiscal Year=%{x}<br># of Clients=%{y}<br>bubble_size=%{marker.size}<extra></extra>",
           "hovertext": [
            "PwC"
           ],
           "ids": [
            "PwC"
           ],
           "legendgroup": "PwC",
           "marker": {
            "color": "#19d3f3",
            "size": [
             2875
            ],
            "sizemode": "area",
            "sizeref": 3.6733333333333333,
            "symbol": "circle"
           },
           "mode": "markers",
           "name": "PwC",
           "orientation": "v",
           "showlegend": true,
           "type": "scatter",
           "x": [
            2002
           ],
           "xaxis": "x",
           "y": [
            2875
           ],
           "yaxis": "y"
          }
         ],
         "name": "2002.0"
        },
        {
         "data": [
          {
           "hovertemplate": "<b>%{hovertext}</b><br><br>Audit Firm Name=Arthur Andersen<br>Fiscal Year=%{x}<br># of Clients=%{y}<br>bubble_size=%{marker.size}<extra></extra>",
           "hovertext": [
            "Arthur Andersen"
           ],
           "ids": [
            "Arthur Andersen"
           ],
           "legendgroup": "Arthur Andersen",
           "marker": {
            "color": "#636efa",
            "size": [
             300
            ],
            "sizemode": "area",
            "sizeref": 3.6733333333333333,
            "symbol": "circle"
           },
           "mode": "markers",
           "name": "Arthur Andersen",
           "orientation": "v",
           "showlegend": true,
           "type": "scatter",
           "x": [
            2003
           ],
           "xaxis": "x",
           "y": [
            0
           ],
           "yaxis": "y"
          },
          {
           "hovertemplate": "<b>%{hovertext}</b><br><br>Audit Firm Name=Deloitte & Touche<br>Fiscal Year=%{x}<br># of Clients=%{y}<br>bubble_size=%{marker.size}<extra></extra>",
           "hovertext": [
            "Deloitte & Touche"
           ],
           "ids": [
            "Deloitte & Touche"
           ],
           "legendgroup": "Deloitte & Touche",
           "marker": {
            "color": "#EF553B",
            "size": [
             3232
            ],
            "sizemode": "area",
            "sizeref": 3.6733333333333333,
            "symbol": "circle"
           },
           "mode": "markers",
           "name": "Deloitte & Touche",
           "orientation": "v",
           "showlegend": true,
           "type": "scatter",
           "x": [
            2003
           ],
           "xaxis": "x",
           "y": [
            3232
           ],
           "yaxis": "y"
          },
          {
           "hovertemplate": "<b>%{hovertext}</b><br><br>Audit Firm Name=Ernst & Young<br>Fiscal Year=%{x}<br># of Clients=%{y}<br>bubble_size=%{marker.size}<extra></extra>",
           "hovertext": [
            "Ernst & Young"
           ],
           "ids": [
            "Ernst & Young"
           ],
           "legendgroup": "Ernst & Young",
           "marker": {
            "color": "#00cc96",
            "size": [
             3079
            ],
            "sizemode": "area",
            "sizeref": 3.6733333333333333,
            "symbol": "circle"
           },
           "mode": "markers",
           "name": "Ernst & Young",
           "orientation": "v",
           "showlegend": true,
           "type": "scatter",
           "x": [
            2003
           ],
           "xaxis": "x",
           "y": [
            3079
           ],
           "yaxis": "y"
          },
          {
           "hovertemplate": "<b>%{hovertext}</b><br><br>Audit Firm Name=Grant Thornton<br>Fiscal Year=%{x}<br># of Clients=%{y}<br>bubble_size=%{marker.size}<extra></extra>",
           "hovertext": [
            "Grant Thornton"
           ],
           "ids": [
            "Grant Thornton"
           ],
           "legendgroup": "Grant Thornton",
           "marker": {
            "color": "#ab63fa",
            "size": [
             926
            ],
            "sizemode": "area",
            "sizeref": 3.6733333333333333,
            "symbol": "circle"
           },
           "mode": "markers",
           "name": "Grant Thornton",
           "orientation": "v",
           "showlegend": true,
           "type": "scatter",
           "x": [
            2003
           ],
           "xaxis": "x",
           "y": [
            926
           ],
           "yaxis": "y"
          },
          {
           "hovertemplate": "<b>%{hovertext}</b><br><br>Audit Firm Name=KPMG<br>Fiscal Year=%{x}<br># of Clients=%{y}<br>bubble_size=%{marker.size}<extra></extra>",
           "hovertext": [
            "KPMG"
           ],
           "ids": [
            "KPMG"
           ],
           "legendgroup": "KPMG",
           "marker": {
            "color": "#FFA15A",
            "size": [
             2295
            ],
            "sizemode": "area",
            "sizeref": 3.6733333333333333,
            "symbol": "circle"
           },
           "mode": "markers",
           "name": "KPMG",
           "orientation": "v",
           "showlegend": true,
           "type": "scatter",
           "x": [
            2003
           ],
           "xaxis": "x",
           "y": [
            2295
           ],
           "yaxis": "y"
          },
          {
           "hovertemplate": "<b>%{hovertext}</b><br><br>Audit Firm Name=PwC<br>Fiscal Year=%{x}<br># of Clients=%{y}<br>bubble_size=%{marker.size}<extra></extra>",
           "hovertext": [
            "PwC"
           ],
           "ids": [
            "PwC"
           ],
           "legendgroup": "PwC",
           "marker": {
            "color": "#19d3f3",
            "size": [
             3300
            ],
            "sizemode": "area",
            "sizeref": 3.6733333333333333,
            "symbol": "circle"
           },
           "mode": "markers",
           "name": "PwC",
           "orientation": "v",
           "showlegend": true,
           "type": "scatter",
           "x": [
            2003
           ],
           "xaxis": "x",
           "y": [
            3300
           ],
           "yaxis": "y"
          }
         ],
         "name": "2003.0"
        },
        {
         "data": [
          {
           "hovertemplate": "<b>%{hovertext}</b><br><br>Audit Firm Name=Arthur Andersen<br>Fiscal Year=%{x}<br># of Clients=%{y}<br>bubble_size=%{marker.size}<extra></extra>",
           "hovertext": [
            "Arthur Andersen"
           ],
           "ids": [
            "Arthur Andersen"
           ],
           "legendgroup": "Arthur Andersen",
           "marker": {
            "color": "#636efa",
            "size": [
             300
            ],
            "sizemode": "area",
            "sizeref": 3.6733333333333333,
            "symbol": "circle"
           },
           "mode": "markers",
           "name": "Arthur Andersen",
           "orientation": "v",
           "showlegend": true,
           "type": "scatter",
           "x": [
            2004
           ],
           "xaxis": "x",
           "y": [
            0
           ],
           "yaxis": "y"
          },
          {
           "hovertemplate": "<b>%{hovertext}</b><br><br>Audit Firm Name=Deloitte & Touche<br>Fiscal Year=%{x}<br># of Clients=%{y}<br>bubble_size=%{marker.size}<extra></extra>",
           "hovertext": [
            "Deloitte & Touche"
           ],
           "ids": [
            "Deloitte & Touche"
           ],
           "legendgroup": "Deloitte & Touche",
           "marker": {
            "color": "#EF553B",
            "size": [
             2698
            ],
            "sizemode": "area",
            "sizeref": 3.6733333333333333,
            "symbol": "circle"
           },
           "mode": "markers",
           "name": "Deloitte & Touche",
           "orientation": "v",
           "showlegend": true,
           "type": "scatter",
           "x": [
            2004
           ],
           "xaxis": "x",
           "y": [
            2698
           ],
           "yaxis": "y"
          },
          {
           "hovertemplate": "<b>%{hovertext}</b><br><br>Audit Firm Name=Ernst & Young<br>Fiscal Year=%{x}<br># of Clients=%{y}<br>bubble_size=%{marker.size}<extra></extra>",
           "hovertext": [
            "Ernst & Young"
           ],
           "ids": [
            "Ernst & Young"
           ],
           "legendgroup": "Ernst & Young",
           "marker": {
            "color": "#00cc96",
            "size": [
             2785
            ],
            "sizemode": "area",
            "sizeref": 3.6733333333333333,
            "symbol": "circle"
           },
           "mode": "markers",
           "name": "Ernst & Young",
           "orientation": "v",
           "showlegend": true,
           "type": "scatter",
           "x": [
            2004
           ],
           "xaxis": "x",
           "y": [
            2785
           ],
           "yaxis": "y"
          },
          {
           "hovertemplate": "<b>%{hovertext}</b><br><br>Audit Firm Name=Grant Thornton<br>Fiscal Year=%{x}<br># of Clients=%{y}<br>bubble_size=%{marker.size}<extra></extra>",
           "hovertext": [
            "Grant Thornton"
           ],
           "ids": [
            "Grant Thornton"
           ],
           "legendgroup": "Grant Thornton",
           "marker": {
            "color": "#ab63fa",
            "size": [
             1164
            ],
            "sizemode": "area",
            "sizeref": 3.6733333333333333,
            "symbol": "circle"
           },
           "mode": "markers",
           "name": "Grant Thornton",
           "orientation": "v",
           "showlegend": true,
           "type": "scatter",
           "x": [
            2004
           ],
           "xaxis": "x",
           "y": [
            1164
           ],
           "yaxis": "y"
          },
          {
           "hovertemplate": "<b>%{hovertext}</b><br><br>Audit Firm Name=KPMG<br>Fiscal Year=%{x}<br># of Clients=%{y}<br>bubble_size=%{marker.size}<extra></extra>",
           "hovertext": [
            "KPMG"
           ],
           "ids": [
            "KPMG"
           ],
           "legendgroup": "KPMG",
           "marker": {
            "color": "#FFA15A",
            "size": [
             2175
            ],
            "sizemode": "area",
            "sizeref": 3.6733333333333333,
            "symbol": "circle"
           },
           "mode": "markers",
           "name": "KPMG",
           "orientation": "v",
           "showlegend": true,
           "type": "scatter",
           "x": [
            2004
           ],
           "xaxis": "x",
           "y": [
            2175
           ],
           "yaxis": "y"
          },
          {
           "hovertemplate": "<b>%{hovertext}</b><br><br>Audit Firm Name=PwC<br>Fiscal Year=%{x}<br># of Clients=%{y}<br>bubble_size=%{marker.size}<extra></extra>",
           "hovertext": [
            "PwC"
           ],
           "ids": [
            "PwC"
           ],
           "legendgroup": "PwC",
           "marker": {
            "color": "#19d3f3",
            "size": [
             2714
            ],
            "sizemode": "area",
            "sizeref": 3.6733333333333333,
            "symbol": "circle"
           },
           "mode": "markers",
           "name": "PwC",
           "orientation": "v",
           "showlegend": true,
           "type": "scatter",
           "x": [
            2004
           ],
           "xaxis": "x",
           "y": [
            2714
           ],
           "yaxis": "y"
          }
         ],
         "name": "2004.0"
        },
        {
         "data": [
          {
           "hovertemplate": "<b>%{hovertext}</b><br><br>Audit Firm Name=Arthur Andersen<br>Fiscal Year=%{x}<br># of Clients=%{y}<br>bubble_size=%{marker.size}<extra></extra>",
           "hovertext": [
            "Arthur Andersen"
           ],
           "ids": [
            "Arthur Andersen"
           ],
           "legendgroup": "Arthur Andersen",
           "marker": {
            "color": "#636efa",
            "size": [
             300
            ],
            "sizemode": "area",
            "sizeref": 3.6733333333333333,
            "symbol": "circle"
           },
           "mode": "markers",
           "name": "Arthur Andersen",
           "orientation": "v",
           "showlegend": true,
           "type": "scatter",
           "x": [
            2005
           ],
           "xaxis": "x",
           "y": [
            0
           ],
           "yaxis": "y"
          },
          {
           "hovertemplate": "<b>%{hovertext}</b><br><br>Audit Firm Name=Deloitte & Touche<br>Fiscal Year=%{x}<br># of Clients=%{y}<br>bubble_size=%{marker.size}<extra></extra>",
           "hovertext": [
            "Deloitte & Touche"
           ],
           "ids": [
            "Deloitte & Touche"
           ],
           "legendgroup": "Deloitte & Touche",
           "marker": {
            "color": "#EF553B",
            "size": [
             2643
            ],
            "sizemode": "area",
            "sizeref": 3.6733333333333333,
            "symbol": "circle"
           },
           "mode": "markers",
           "name": "Deloitte & Touche",
           "orientation": "v",
           "showlegend": true,
           "type": "scatter",
           "x": [
            2005
           ],
           "xaxis": "x",
           "y": [
            2643
           ],
           "yaxis": "y"
          },
          {
           "hovertemplate": "<b>%{hovertext}</b><br><br>Audit Firm Name=Ernst & Young<br>Fiscal Year=%{x}<br># of Clients=%{y}<br>bubble_size=%{marker.size}<extra></extra>",
           "hovertext": [
            "Ernst & Young"
           ],
           "ids": [
            "Ernst & Young"
           ],
           "legendgroup": "Ernst & Young",
           "marker": {
            "color": "#00cc96",
            "size": [
             2641
            ],
            "sizemode": "area",
            "sizeref": 3.6733333333333333,
            "symbol": "circle"
           },
           "mode": "markers",
           "name": "Ernst & Young",
           "orientation": "v",
           "showlegend": true,
           "type": "scatter",
           "x": [
            2005
           ],
           "xaxis": "x",
           "y": [
            2641
           ],
           "yaxis": "y"
          },
          {
           "hovertemplate": "<b>%{hovertext}</b><br><br>Audit Firm Name=Grant Thornton<br>Fiscal Year=%{x}<br># of Clients=%{y}<br>bubble_size=%{marker.size}<extra></extra>",
           "hovertext": [
            "Grant Thornton"
           ],
           "ids": [
            "Grant Thornton"
           ],
           "legendgroup": "Grant Thornton",
           "marker": {
            "color": "#ab63fa",
            "size": [
             1245
            ],
            "sizemode": "area",
            "sizeref": 3.6733333333333333,
            "symbol": "circle"
           },
           "mode": "markers",
           "name": "Grant Thornton",
           "orientation": "v",
           "showlegend": true,
           "type": "scatter",
           "x": [
            2005
           ],
           "xaxis": "x",
           "y": [
            1245
           ],
           "yaxis": "y"
          },
          {
           "hovertemplate": "<b>%{hovertext}</b><br><br>Audit Firm Name=KPMG<br>Fiscal Year=%{x}<br># of Clients=%{y}<br>bubble_size=%{marker.size}<extra></extra>",
           "hovertext": [
            "KPMG"
           ],
           "ids": [
            "KPMG"
           ],
           "legendgroup": "KPMG",
           "marker": {
            "color": "#FFA15A",
            "size": [
             1906
            ],
            "sizemode": "area",
            "sizeref": 3.6733333333333333,
            "symbol": "circle"
           },
           "mode": "markers",
           "name": "KPMG",
           "orientation": "v",
           "showlegend": true,
           "type": "scatter",
           "x": [
            2005
           ],
           "xaxis": "x",
           "y": [
            1906
           ],
           "yaxis": "y"
          },
          {
           "hovertemplate": "<b>%{hovertext}</b><br><br>Audit Firm Name=PwC<br>Fiscal Year=%{x}<br># of Clients=%{y}<br>bubble_size=%{marker.size}<extra></extra>",
           "hovertext": [
            "PwC"
           ],
           "ids": [
            "PwC"
           ],
           "legendgroup": "PwC",
           "marker": {
            "color": "#19d3f3",
            "size": [
             2679
            ],
            "sizemode": "area",
            "sizeref": 3.6733333333333333,
            "symbol": "circle"
           },
           "mode": "markers",
           "name": "PwC",
           "orientation": "v",
           "showlegend": true,
           "type": "scatter",
           "x": [
            2005
           ],
           "xaxis": "x",
           "y": [
            2679
           ],
           "yaxis": "y"
          }
         ],
         "name": "2005.0"
        },
        {
         "data": [
          {
           "hovertemplate": "<b>%{hovertext}</b><br><br>Audit Firm Name=Arthur Andersen<br>Fiscal Year=%{x}<br># of Clients=%{y}<br>bubble_size=%{marker.size}<extra></extra>",
           "hovertext": [
            "Arthur Andersen"
           ],
           "ids": [
            "Arthur Andersen"
           ],
           "legendgroup": "Arthur Andersen",
           "marker": {
            "color": "#636efa",
            "size": [
             300
            ],
            "sizemode": "area",
            "sizeref": 3.6733333333333333,
            "symbol": "circle"
           },
           "mode": "markers",
           "name": "Arthur Andersen",
           "orientation": "v",
           "showlegend": true,
           "type": "scatter",
           "x": [
            2006
           ],
           "xaxis": "x",
           "y": [
            0
           ],
           "yaxis": "y"
          },
          {
           "hovertemplate": "<b>%{hovertext}</b><br><br>Audit Firm Name=Deloitte & Touche<br>Fiscal Year=%{x}<br># of Clients=%{y}<br>bubble_size=%{marker.size}<extra></extra>",
           "hovertext": [
            "Deloitte & Touche"
           ],
           "ids": [
            "Deloitte & Touche"
           ],
           "legendgroup": "Deloitte & Touche",
           "marker": {
            "color": "#EF553B",
            "size": [
             2584
            ],
            "sizemode": "area",
            "sizeref": 3.6733333333333333,
            "symbol": "circle"
           },
           "mode": "markers",
           "name": "Deloitte & Touche",
           "orientation": "v",
           "showlegend": true,
           "type": "scatter",
           "x": [
            2006
           ],
           "xaxis": "x",
           "y": [
            2584
           ],
           "yaxis": "y"
          },
          {
           "hovertemplate": "<b>%{hovertext}</b><br><br>Audit Firm Name=Ernst & Young<br>Fiscal Year=%{x}<br># of Clients=%{y}<br>bubble_size=%{marker.size}<extra></extra>",
           "hovertext": [
            "Ernst & Young"
           ],
           "ids": [
            "Ernst & Young"
           ],
           "legendgroup": "Ernst & Young",
           "marker": {
            "color": "#00cc96",
            "size": [
             2516
            ],
            "sizemode": "area",
            "sizeref": 3.6733333333333333,
            "symbol": "circle"
           },
           "mode": "markers",
           "name": "Ernst & Young",
           "orientation": "v",
           "showlegend": true,
           "type": "scatter",
           "x": [
            2006
           ],
           "xaxis": "x",
           "y": [
            2516
           ],
           "yaxis": "y"
          },
          {
           "hovertemplate": "<b>%{hovertext}</b><br><br>Audit Firm Name=Grant Thornton<br>Fiscal Year=%{x}<br># of Clients=%{y}<br>bubble_size=%{marker.size}<extra></extra>",
           "hovertext": [
            "Grant Thornton"
           ],
           "ids": [
            "Grant Thornton"
           ],
           "legendgroup": "Grant Thornton",
           "marker": {
            "color": "#ab63fa",
            "size": [
             1275
            ],
            "sizemode": "area",
            "sizeref": 3.6733333333333333,
            "symbol": "circle"
           },
           "mode": "markers",
           "name": "Grant Thornton",
           "orientation": "v",
           "showlegend": true,
           "type": "scatter",
           "x": [
            2006
           ],
           "xaxis": "x",
           "y": [
            1275
           ],
           "yaxis": "y"
          },
          {
           "hovertemplate": "<b>%{hovertext}</b><br><br>Audit Firm Name=KPMG<br>Fiscal Year=%{x}<br># of Clients=%{y}<br>bubble_size=%{marker.size}<extra></extra>",
           "hovertext": [
            "KPMG"
           ],
           "ids": [
            "KPMG"
           ],
           "legendgroup": "KPMG",
           "marker": {
            "color": "#FFA15A",
            "size": [
             1739
            ],
            "sizemode": "area",
            "sizeref": 3.6733333333333333,
            "symbol": "circle"
           },
           "mode": "markers",
           "name": "KPMG",
           "orientation": "v",
           "showlegend": true,
           "type": "scatter",
           "x": [
            2006
           ],
           "xaxis": "x",
           "y": [
            1739
           ],
           "yaxis": "y"
          },
          {
           "hovertemplate": "<b>%{hovertext}</b><br><br>Audit Firm Name=PwC<br>Fiscal Year=%{x}<br># of Clients=%{y}<br>bubble_size=%{marker.size}<extra></extra>",
           "hovertext": [
            "PwC"
           ],
           "ids": [
            "PwC"
           ],
           "legendgroup": "PwC",
           "marker": {
            "color": "#19d3f3",
            "size": [
             2256
            ],
            "sizemode": "area",
            "sizeref": 3.6733333333333333,
            "symbol": "circle"
           },
           "mode": "markers",
           "name": "PwC",
           "orientation": "v",
           "showlegend": true,
           "type": "scatter",
           "x": [
            2006
           ],
           "xaxis": "x",
           "y": [
            2256
           ],
           "yaxis": "y"
          }
         ],
         "name": "2006.0"
        },
        {
         "data": [
          {
           "hovertemplate": "<b>%{hovertext}</b><br><br>Audit Firm Name=Arthur Andersen<br>Fiscal Year=%{x}<br># of Clients=%{y}<br>bubble_size=%{marker.size}<extra></extra>",
           "hovertext": [
            "Arthur Andersen"
           ],
           "ids": [
            "Arthur Andersen"
           ],
           "legendgroup": "Arthur Andersen",
           "marker": {
            "color": "#636efa",
            "size": [
             300
            ],
            "sizemode": "area",
            "sizeref": 3.6733333333333333,
            "symbol": "circle"
           },
           "mode": "markers",
           "name": "Arthur Andersen",
           "orientation": "v",
           "showlegend": true,
           "type": "scatter",
           "x": [
            2007
           ],
           "xaxis": "x",
           "y": [
            0
           ],
           "yaxis": "y"
          },
          {
           "hovertemplate": "<b>%{hovertext}</b><br><br>Audit Firm Name=Deloitte & Touche<br>Fiscal Year=%{x}<br># of Clients=%{y}<br>bubble_size=%{marker.size}<extra></extra>",
           "hovertext": [
            "Deloitte & Touche"
           ],
           "ids": [
            "Deloitte & Touche"
           ],
           "legendgroup": "Deloitte & Touche",
           "marker": {
            "color": "#EF553B",
            "size": [
             2617
            ],
            "sizemode": "area",
            "sizeref": 3.6733333333333333,
            "symbol": "circle"
           },
           "mode": "markers",
           "name": "Deloitte & Touche",
           "orientation": "v",
           "showlegend": true,
           "type": "scatter",
           "x": [
            2007
           ],
           "xaxis": "x",
           "y": [
            2617
           ],
           "yaxis": "y"
          },
          {
           "hovertemplate": "<b>%{hovertext}</b><br><br>Audit Firm Name=Ernst & Young<br>Fiscal Year=%{x}<br># of Clients=%{y}<br>bubble_size=%{marker.size}<extra></extra>",
           "hovertext": [
            "Ernst & Young"
           ],
           "ids": [
            "Ernst & Young"
           ],
           "legendgroup": "Ernst & Young",
           "marker": {
            "color": "#00cc96",
            "size": [
             2425
            ],
            "sizemode": "area",
            "sizeref": 3.6733333333333333,
            "symbol": "circle"
           },
           "mode": "markers",
           "name": "Ernst & Young",
           "orientation": "v",
           "showlegend": true,
           "type": "scatter",
           "x": [
            2007
           ],
           "xaxis": "x",
           "y": [
            2425
           ],
           "yaxis": "y"
          },
          {
           "hovertemplate": "<b>%{hovertext}</b><br><br>Audit Firm Name=Grant Thornton<br>Fiscal Year=%{x}<br># of Clients=%{y}<br>bubble_size=%{marker.size}<extra></extra>",
           "hovertext": [
            "Grant Thornton"
           ],
           "ids": [
            "Grant Thornton"
           ],
           "legendgroup": "Grant Thornton",
           "marker": {
            "color": "#ab63fa",
            "size": [
             1396
            ],
            "sizemode": "area",
            "sizeref": 3.6733333333333333,
            "symbol": "circle"
           },
           "mode": "markers",
           "name": "Grant Thornton",
           "orientation": "v",
           "showlegend": true,
           "type": "scatter",
           "x": [
            2007
           ],
           "xaxis": "x",
           "y": [
            1396
           ],
           "yaxis": "y"
          },
          {
           "hovertemplate": "<b>%{hovertext}</b><br><br>Audit Firm Name=KPMG<br>Fiscal Year=%{x}<br># of Clients=%{y}<br>bubble_size=%{marker.size}<extra></extra>",
           "hovertext": [
            "KPMG"
           ],
           "ids": [
            "KPMG"
           ],
           "legendgroup": "KPMG",
           "marker": {
            "color": "#FFA15A",
            "size": [
             1596
            ],
            "sizemode": "area",
            "sizeref": 3.6733333333333333,
            "symbol": "circle"
           },
           "mode": "markers",
           "name": "KPMG",
           "orientation": "v",
           "showlegend": true,
           "type": "scatter",
           "x": [
            2007
           ],
           "xaxis": "x",
           "y": [
            1596
           ],
           "yaxis": "y"
          },
          {
           "hovertemplate": "<b>%{hovertext}</b><br><br>Audit Firm Name=PwC<br>Fiscal Year=%{x}<br># of Clients=%{y}<br>bubble_size=%{marker.size}<extra></extra>",
           "hovertext": [
            "PwC"
           ],
           "ids": [
            "PwC"
           ],
           "legendgroup": "PwC",
           "marker": {
            "color": "#19d3f3",
            "size": [
             2091
            ],
            "sizemode": "area",
            "sizeref": 3.6733333333333333,
            "symbol": "circle"
           },
           "mode": "markers",
           "name": "PwC",
           "orientation": "v",
           "showlegend": true,
           "type": "scatter",
           "x": [
            2007
           ],
           "xaxis": "x",
           "y": [
            2091
           ],
           "yaxis": "y"
          }
         ],
         "name": "2007.0"
        },
        {
         "data": [
          {
           "hovertemplate": "<b>%{hovertext}</b><br><br>Audit Firm Name=Arthur Andersen<br>Fiscal Year=%{x}<br># of Clients=%{y}<br>bubble_size=%{marker.size}<extra></extra>",
           "hovertext": [
            "Arthur Andersen"
           ],
           "ids": [
            "Arthur Andersen"
           ],
           "legendgroup": "Arthur Andersen",
           "marker": {
            "color": "#636efa",
            "size": [
             300
            ],
            "sizemode": "area",
            "sizeref": 3.6733333333333333,
            "symbol": "circle"
           },
           "mode": "markers",
           "name": "Arthur Andersen",
           "orientation": "v",
           "showlegend": true,
           "type": "scatter",
           "x": [
            2008
           ],
           "xaxis": "x",
           "y": [
            0
           ],
           "yaxis": "y"
          },
          {
           "hovertemplate": "<b>%{hovertext}</b><br><br>Audit Firm Name=Deloitte & Touche<br>Fiscal Year=%{x}<br># of Clients=%{y}<br>bubble_size=%{marker.size}<extra></extra>",
           "hovertext": [
            "Deloitte & Touche"
           ],
           "ids": [
            "Deloitte & Touche"
           ],
           "legendgroup": "Deloitte & Touche",
           "marker": {
            "color": "#EF553B",
            "size": [
             2567
            ],
            "sizemode": "area",
            "sizeref": 3.6733333333333333,
            "symbol": "circle"
           },
           "mode": "markers",
           "name": "Deloitte & Touche",
           "orientation": "v",
           "showlegend": true,
           "type": "scatter",
           "x": [
            2008
           ],
           "xaxis": "x",
           "y": [
            2567
           ],
           "yaxis": "y"
          },
          {
           "hovertemplate": "<b>%{hovertext}</b><br><br>Audit Firm Name=Ernst & Young<br>Fiscal Year=%{x}<br># of Clients=%{y}<br>bubble_size=%{marker.size}<extra></extra>",
           "hovertext": [
            "Ernst & Young"
           ],
           "ids": [
            "Ernst & Young"
           ],
           "legendgroup": "Ernst & Young",
           "marker": {
            "color": "#00cc96",
            "size": [
             2308
            ],
            "sizemode": "area",
            "sizeref": 3.6733333333333333,
            "symbol": "circle"
           },
           "mode": "markers",
           "name": "Ernst & Young",
           "orientation": "v",
           "showlegend": true,
           "type": "scatter",
           "x": [
            2008
           ],
           "xaxis": "x",
           "y": [
            2308
           ],
           "yaxis": "y"
          },
          {
           "hovertemplate": "<b>%{hovertext}</b><br><br>Audit Firm Name=Grant Thornton<br>Fiscal Year=%{x}<br># of Clients=%{y}<br>bubble_size=%{marker.size}<extra></extra>",
           "hovertext": [
            "Grant Thornton"
           ],
           "ids": [
            "Grant Thornton"
           ],
           "legendgroup": "Grant Thornton",
           "marker": {
            "color": "#ab63fa",
            "size": [
             1475
            ],
            "sizemode": "area",
            "sizeref": 3.6733333333333333,
            "symbol": "circle"
           },
           "mode": "markers",
           "name": "Grant Thornton",
           "orientation": "v",
           "showlegend": true,
           "type": "scatter",
           "x": [
            2008
           ],
           "xaxis": "x",
           "y": [
            1475
           ],
           "yaxis": "y"
          },
          {
           "hovertemplate": "<b>%{hovertext}</b><br><br>Audit Firm Name=KPMG<br>Fiscal Year=%{x}<br># of Clients=%{y}<br>bubble_size=%{marker.size}<extra></extra>",
           "hovertext": [
            "KPMG"
           ],
           "ids": [
            "KPMG"
           ],
           "legendgroup": "KPMG",
           "marker": {
            "color": "#FFA15A",
            "size": [
             1490
            ],
            "sizemode": "area",
            "sizeref": 3.6733333333333333,
            "symbol": "circle"
           },
           "mode": "markers",
           "name": "KPMG",
           "orientation": "v",
           "showlegend": true,
           "type": "scatter",
           "x": [
            2008
           ],
           "xaxis": "x",
           "y": [
            1490
           ],
           "yaxis": "y"
          },
          {
           "hovertemplate": "<b>%{hovertext}</b><br><br>Audit Firm Name=PwC<br>Fiscal Year=%{x}<br># of Clients=%{y}<br>bubble_size=%{marker.size}<extra></extra>",
           "hovertext": [
            "PwC"
           ],
           "ids": [
            "PwC"
           ],
           "legendgroup": "PwC",
           "marker": {
            "color": "#19d3f3",
            "size": [
             2013
            ],
            "sizemode": "area",
            "sizeref": 3.6733333333333333,
            "symbol": "circle"
           },
           "mode": "markers",
           "name": "PwC",
           "orientation": "v",
           "showlegend": true,
           "type": "scatter",
           "x": [
            2008
           ],
           "xaxis": "x",
           "y": [
            2013
           ],
           "yaxis": "y"
          }
         ],
         "name": "2008.0"
        },
        {
         "data": [
          {
           "hovertemplate": "<b>%{hovertext}</b><br><br>Audit Firm Name=Arthur Andersen<br>Fiscal Year=%{x}<br># of Clients=%{y}<br>bubble_size=%{marker.size}<extra></extra>",
           "hovertext": [
            "Arthur Andersen"
           ],
           "ids": [
            "Arthur Andersen"
           ],
           "legendgroup": "Arthur Andersen",
           "marker": {
            "color": "#636efa",
            "size": [
             300
            ],
            "sizemode": "area",
            "sizeref": 3.6733333333333333,
            "symbol": "circle"
           },
           "mode": "markers",
           "name": "Arthur Andersen",
           "orientation": "v",
           "showlegend": true,
           "type": "scatter",
           "x": [
            2009
           ],
           "xaxis": "x",
           "y": [
            0
           ],
           "yaxis": "y"
          },
          {
           "hovertemplate": "<b>%{hovertext}</b><br><br>Audit Firm Name=Deloitte & Touche<br>Fiscal Year=%{x}<br># of Clients=%{y}<br>bubble_size=%{marker.size}<extra></extra>",
           "hovertext": [
            "Deloitte & Touche"
           ],
           "ids": [
            "Deloitte & Touche"
           ],
           "legendgroup": "Deloitte & Touche",
           "marker": {
            "color": "#EF553B",
            "size": [
             2536
            ],
            "sizemode": "area",
            "sizeref": 3.6733333333333333,
            "symbol": "circle"
           },
           "mode": "markers",
           "name": "Deloitte & Touche",
           "orientation": "v",
           "showlegend": true,
           "type": "scatter",
           "x": [
            2009
           ],
           "xaxis": "x",
           "y": [
            2536
           ],
           "yaxis": "y"
          },
          {
           "hovertemplate": "<b>%{hovertext}</b><br><br>Audit Firm Name=Ernst & Young<br>Fiscal Year=%{x}<br># of Clients=%{y}<br>bubble_size=%{marker.size}<extra></extra>",
           "hovertext": [
            "Ernst & Young"
           ],
           "ids": [
            "Ernst & Young"
           ],
           "legendgroup": "Ernst & Young",
           "marker": {
            "color": "#00cc96",
            "size": [
             2257
            ],
            "sizemode": "area",
            "sizeref": 3.6733333333333333,
            "symbol": "circle"
           },
           "mode": "markers",
           "name": "Ernst & Young",
           "orientation": "v",
           "showlegend": true,
           "type": "scatter",
           "x": [
            2009
           ],
           "xaxis": "x",
           "y": [
            2257
           ],
           "yaxis": "y"
          },
          {
           "hovertemplate": "<b>%{hovertext}</b><br><br>Audit Firm Name=Grant Thornton<br>Fiscal Year=%{x}<br># of Clients=%{y}<br>bubble_size=%{marker.size}<extra></extra>",
           "hovertext": [
            "Grant Thornton"
           ],
           "ids": [
            "Grant Thornton"
           ],
           "legendgroup": "Grant Thornton",
           "marker": {
            "color": "#ab63fa",
            "size": [
             1660
            ],
            "sizemode": "area",
            "sizeref": 3.6733333333333333,
            "symbol": "circle"
           },
           "mode": "markers",
           "name": "Grant Thornton",
           "orientation": "v",
           "showlegend": true,
           "type": "scatter",
           "x": [
            2009
           ],
           "xaxis": "x",
           "y": [
            1660
           ],
           "yaxis": "y"
          },
          {
           "hovertemplate": "<b>%{hovertext}</b><br><br>Audit Firm Name=KPMG<br>Fiscal Year=%{x}<br># of Clients=%{y}<br>bubble_size=%{marker.size}<extra></extra>",
           "hovertext": [
            "KPMG"
           ],
           "ids": [
            "KPMG"
           ],
           "legendgroup": "KPMG",
           "marker": {
            "color": "#FFA15A",
            "size": [
             1464
            ],
            "sizemode": "area",
            "sizeref": 3.6733333333333333,
            "symbol": "circle"
           },
           "mode": "markers",
           "name": "KPMG",
           "orientation": "v",
           "showlegend": true,
           "type": "scatter",
           "x": [
            2009
           ],
           "xaxis": "x",
           "y": [
            1464
           ],
           "yaxis": "y"
          },
          {
           "hovertemplate": "<b>%{hovertext}</b><br><br>Audit Firm Name=PwC<br>Fiscal Year=%{x}<br># of Clients=%{y}<br>bubble_size=%{marker.size}<extra></extra>",
           "hovertext": [
            "PwC"
           ],
           "ids": [
            "PwC"
           ],
           "legendgroup": "PwC",
           "marker": {
            "color": "#19d3f3",
            "size": [
             1982
            ],
            "sizemode": "area",
            "sizeref": 3.6733333333333333,
            "symbol": "circle"
           },
           "mode": "markers",
           "name": "PwC",
           "orientation": "v",
           "showlegend": true,
           "type": "scatter",
           "x": [
            2009
           ],
           "xaxis": "x",
           "y": [
            1982
           ],
           "yaxis": "y"
          }
         ],
         "name": "2009.0"
        },
        {
         "data": [
          {
           "hovertemplate": "<b>%{hovertext}</b><br><br>Audit Firm Name=Arthur Andersen<br>Fiscal Year=%{x}<br># of Clients=%{y}<br>bubble_size=%{marker.size}<extra></extra>",
           "hovertext": [
            "Arthur Andersen"
           ],
           "ids": [
            "Arthur Andersen"
           ],
           "legendgroup": "Arthur Andersen",
           "marker": {
            "color": "#636efa",
            "size": [
             300
            ],
            "sizemode": "area",
            "sizeref": 3.6733333333333333,
            "symbol": "circle"
           },
           "mode": "markers",
           "name": "Arthur Andersen",
           "orientation": "v",
           "showlegend": true,
           "type": "scatter",
           "x": [
            2010
           ],
           "xaxis": "x",
           "y": [
            0
           ],
           "yaxis": "y"
          },
          {
           "hovertemplate": "<b>%{hovertext}</b><br><br>Audit Firm Name=Deloitte & Touche<br>Fiscal Year=%{x}<br># of Clients=%{y}<br>bubble_size=%{marker.size}<extra></extra>",
           "hovertext": [
            "Deloitte & Touche"
           ],
           "ids": [
            "Deloitte & Touche"
           ],
           "legendgroup": "Deloitte & Touche",
           "marker": {
            "color": "#EF553B",
            "size": [
             2664
            ],
            "sizemode": "area",
            "sizeref": 3.6733333333333333,
            "symbol": "circle"
           },
           "mode": "markers",
           "name": "Deloitte & Touche",
           "orientation": "v",
           "showlegend": true,
           "type": "scatter",
           "x": [
            2010
           ],
           "xaxis": "x",
           "y": [
            2664
           ],
           "yaxis": "y"
          },
          {
           "hovertemplate": "<b>%{hovertext}</b><br><br>Audit Firm Name=Ernst & Young<br>Fiscal Year=%{x}<br># of Clients=%{y}<br>bubble_size=%{marker.size}<extra></extra>",
           "hovertext": [
            "Ernst & Young"
           ],
           "ids": [
            "Ernst & Young"
           ],
           "legendgroup": "Ernst & Young",
           "marker": {
            "color": "#00cc96",
            "size": [
             2192
            ],
            "sizemode": "area",
            "sizeref": 3.6733333333333333,
            "symbol": "circle"
           },
           "mode": "markers",
           "name": "Ernst & Young",
           "orientation": "v",
           "showlegend": true,
           "type": "scatter",
           "x": [
            2010
           ],
           "xaxis": "x",
           "y": [
            2192
           ],
           "yaxis": "y"
          },
          {
           "hovertemplate": "<b>%{hovertext}</b><br><br>Audit Firm Name=Grant Thornton<br>Fiscal Year=%{x}<br># of Clients=%{y}<br>bubble_size=%{marker.size}<extra></extra>",
           "hovertext": [
            "Grant Thornton"
           ],
           "ids": [
            "Grant Thornton"
           ],
           "legendgroup": "Grant Thornton",
           "marker": {
            "color": "#ab63fa",
            "size": [
             1779
            ],
            "sizemode": "area",
            "sizeref": 3.6733333333333333,
            "symbol": "circle"
           },
           "mode": "markers",
           "name": "Grant Thornton",
           "orientation": "v",
           "showlegend": true,
           "type": "scatter",
           "x": [
            2010
           ],
           "xaxis": "x",
           "y": [
            1779
           ],
           "yaxis": "y"
          },
          {
           "hovertemplate": "<b>%{hovertext}</b><br><br>Audit Firm Name=KPMG<br>Fiscal Year=%{x}<br># of Clients=%{y}<br>bubble_size=%{marker.size}<extra></extra>",
           "hovertext": [
            "KPMG"
           ],
           "ids": [
            "KPMG"
           ],
           "legendgroup": "KPMG",
           "marker": {
            "color": "#FFA15A",
            "size": [
             1482
            ],
            "sizemode": "area",
            "sizeref": 3.6733333333333333,
            "symbol": "circle"
           },
           "mode": "markers",
           "name": "KPMG",
           "orientation": "v",
           "showlegend": true,
           "type": "scatter",
           "x": [
            2010
           ],
           "xaxis": "x",
           "y": [
            1482
           ],
           "yaxis": "y"
          },
          {
           "hovertemplate": "<b>%{hovertext}</b><br><br>Audit Firm Name=PwC<br>Fiscal Year=%{x}<br># of Clients=%{y}<br>bubble_size=%{marker.size}<extra></extra>",
           "hovertext": [
            "PwC"
           ],
           "ids": [
            "PwC"
           ],
           "legendgroup": "PwC",
           "marker": {
            "color": "#19d3f3",
            "size": [
             2017
            ],
            "sizemode": "area",
            "sizeref": 3.6733333333333333,
            "symbol": "circle"
           },
           "mode": "markers",
           "name": "PwC",
           "orientation": "v",
           "showlegend": true,
           "type": "scatter",
           "x": [
            2010
           ],
           "xaxis": "x",
           "y": [
            2017
           ],
           "yaxis": "y"
          }
         ],
         "name": "2010.0"
        },
        {
         "data": [
          {
           "hovertemplate": "<b>%{hovertext}</b><br><br>Audit Firm Name=Arthur Andersen<br>Fiscal Year=%{x}<br># of Clients=%{y}<br>bubble_size=%{marker.size}<extra></extra>",
           "hovertext": [
            "Arthur Andersen"
           ],
           "ids": [
            "Arthur Andersen"
           ],
           "legendgroup": "Arthur Andersen",
           "marker": {
            "color": "#636efa",
            "size": [
             300
            ],
            "sizemode": "area",
            "sizeref": 3.6733333333333333,
            "symbol": "circle"
           },
           "mode": "markers",
           "name": "Arthur Andersen",
           "orientation": "v",
           "showlegend": true,
           "type": "scatter",
           "x": [
            2011
           ],
           "xaxis": "x",
           "y": [
            0
           ],
           "yaxis": "y"
          },
          {
           "hovertemplate": "<b>%{hovertext}</b><br><br>Audit Firm Name=Deloitte & Touche<br>Fiscal Year=%{x}<br># of Clients=%{y}<br>bubble_size=%{marker.size}<extra></extra>",
           "hovertext": [
            "Deloitte & Touche"
           ],
           "ids": [
            "Deloitte & Touche"
           ],
           "legendgroup": "Deloitte & Touche",
           "marker": {
            "color": "#EF553B",
            "size": [
             2368
            ],
            "sizemode": "area",
            "sizeref": 3.6733333333333333,
            "symbol": "circle"
           },
           "mode": "markers",
           "name": "Deloitte & Touche",
           "orientation": "v",
           "showlegend": true,
           "type": "scatter",
           "x": [
            2011
           ],
           "xaxis": "x",
           "y": [
            2368
           ],
           "yaxis": "y"
          },
          {
           "hovertemplate": "<b>%{hovertext}</b><br><br>Audit Firm Name=Ernst & Young<br>Fiscal Year=%{x}<br># of Clients=%{y}<br>bubble_size=%{marker.size}<extra></extra>",
           "hovertext": [
            "Ernst & Young"
           ],
           "ids": [
            "Ernst & Young"
           ],
           "legendgroup": "Ernst & Young",
           "marker": {
            "color": "#00cc96",
            "size": [
             2119
            ],
            "sizemode": "area",
            "sizeref": 3.6733333333333333,
            "symbol": "circle"
           },
           "mode": "markers",
           "name": "Ernst & Young",
           "orientation": "v",
           "showlegend": true,
           "type": "scatter",
           "x": [
            2011
           ],
           "xaxis": "x",
           "y": [
            2119
           ],
           "yaxis": "y"
          },
          {
           "hovertemplate": "<b>%{hovertext}</b><br><br>Audit Firm Name=Grant Thornton<br>Fiscal Year=%{x}<br># of Clients=%{y}<br>bubble_size=%{marker.size}<extra></extra>",
           "hovertext": [
            "Grant Thornton"
           ],
           "ids": [
            "Grant Thornton"
           ],
           "legendgroup": "Grant Thornton",
           "marker": {
            "color": "#ab63fa",
            "size": [
             1935
            ],
            "sizemode": "area",
            "sizeref": 3.6733333333333333,
            "symbol": "circle"
           },
           "mode": "markers",
           "name": "Grant Thornton",
           "orientation": "v",
           "showlegend": true,
           "type": "scatter",
           "x": [
            2011
           ],
           "xaxis": "x",
           "y": [
            1935
           ],
           "yaxis": "y"
          },
          {
           "hovertemplate": "<b>%{hovertext}</b><br><br>Audit Firm Name=KPMG<br>Fiscal Year=%{x}<br># of Clients=%{y}<br>bubble_size=%{marker.size}<extra></extra>",
           "hovertext": [
            "KPMG"
           ],
           "ids": [
            "KPMG"
           ],
           "legendgroup": "KPMG",
           "marker": {
            "color": "#FFA15A",
            "size": [
             1441
            ],
            "sizemode": "area",
            "sizeref": 3.6733333333333333,
            "symbol": "circle"
           },
           "mode": "markers",
           "name": "KPMG",
           "orientation": "v",
           "showlegend": true,
           "type": "scatter",
           "x": [
            2011
           ],
           "xaxis": "x",
           "y": [
            1441
           ],
           "yaxis": "y"
          },
          {
           "hovertemplate": "<b>%{hovertext}</b><br><br>Audit Firm Name=PwC<br>Fiscal Year=%{x}<br># of Clients=%{y}<br>bubble_size=%{marker.size}<extra></extra>",
           "hovertext": [
            "PwC"
           ],
           "ids": [
            "PwC"
           ],
           "legendgroup": "PwC",
           "marker": {
            "color": "#19d3f3",
            "size": [
             2083
            ],
            "sizemode": "area",
            "sizeref": 3.6733333333333333,
            "symbol": "circle"
           },
           "mode": "markers",
           "name": "PwC",
           "orientation": "v",
           "showlegend": true,
           "type": "scatter",
           "x": [
            2011
           ],
           "xaxis": "x",
           "y": [
            2083
           ],
           "yaxis": "y"
          }
         ],
         "name": "2011.0"
        },
        {
         "data": [
          {
           "hovertemplate": "<b>%{hovertext}</b><br><br>Audit Firm Name=Arthur Andersen<br>Fiscal Year=%{x}<br># of Clients=%{y}<br>bubble_size=%{marker.size}<extra></extra>",
           "hovertext": [
            "Arthur Andersen"
           ],
           "ids": [
            "Arthur Andersen"
           ],
           "legendgroup": "Arthur Andersen",
           "marker": {
            "color": "#636efa",
            "size": [
             300
            ],
            "sizemode": "area",
            "sizeref": 3.6733333333333333,
            "symbol": "circle"
           },
           "mode": "markers",
           "name": "Arthur Andersen",
           "orientation": "v",
           "showlegend": true,
           "type": "scatter",
           "x": [
            2012
           ],
           "xaxis": "x",
           "y": [
            0
           ],
           "yaxis": "y"
          },
          {
           "hovertemplate": "<b>%{hovertext}</b><br><br>Audit Firm Name=Deloitte & Touche<br>Fiscal Year=%{x}<br># of Clients=%{y}<br>bubble_size=%{marker.size}<extra></extra>",
           "hovertext": [
            "Deloitte & Touche"
           ],
           "ids": [
            "Deloitte & Touche"
           ],
           "legendgroup": "Deloitte & Touche",
           "marker": {
            "color": "#EF553B",
            "size": [
             2407
            ],
            "sizemode": "area",
            "sizeref": 3.6733333333333333,
            "symbol": "circle"
           },
           "mode": "markers",
           "name": "Deloitte & Touche",
           "orientation": "v",
           "showlegend": true,
           "type": "scatter",
           "x": [
            2012
           ],
           "xaxis": "x",
           "y": [
            2407
           ],
           "yaxis": "y"
          },
          {
           "hovertemplate": "<b>%{hovertext}</b><br><br>Audit Firm Name=Ernst & Young<br>Fiscal Year=%{x}<br># of Clients=%{y}<br>bubble_size=%{marker.size}<extra></extra>",
           "hovertext": [
            "Ernst & Young"
           ],
           "ids": [
            "Ernst & Young"
           ],
           "legendgroup": "Ernst & Young",
           "marker": {
            "color": "#00cc96",
            "size": [
             2122
            ],
            "sizemode": "area",
            "sizeref": 3.6733333333333333,
            "symbol": "circle"
           },
           "mode": "markers",
           "name": "Ernst & Young",
           "orientation": "v",
           "showlegend": true,
           "type": "scatter",
           "x": [
            2012
           ],
           "xaxis": "x",
           "y": [
            2122
           ],
           "yaxis": "y"
          },
          {
           "hovertemplate": "<b>%{hovertext}</b><br><br>Audit Firm Name=Grant Thornton<br>Fiscal Year=%{x}<br># of Clients=%{y}<br>bubble_size=%{marker.size}<extra></extra>",
           "hovertext": [
            "Grant Thornton"
           ],
           "ids": [
            "Grant Thornton"
           ],
           "legendgroup": "Grant Thornton",
           "marker": {
            "color": "#ab63fa",
            "size": [
             2000
            ],
            "sizemode": "area",
            "sizeref": 3.6733333333333333,
            "symbol": "circle"
           },
           "mode": "markers",
           "name": "Grant Thornton",
           "orientation": "v",
           "showlegend": true,
           "type": "scatter",
           "x": [
            2012
           ],
           "xaxis": "x",
           "y": [
            2000
           ],
           "yaxis": "y"
          },
          {
           "hovertemplate": "<b>%{hovertext}</b><br><br>Audit Firm Name=KPMG<br>Fiscal Year=%{x}<br># of Clients=%{y}<br>bubble_size=%{marker.size}<extra></extra>",
           "hovertext": [
            "KPMG"
           ],
           "ids": [
            "KPMG"
           ],
           "legendgroup": "KPMG",
           "marker": {
            "color": "#FFA15A",
            "size": [
             1424
            ],
            "sizemode": "area",
            "sizeref": 3.6733333333333333,
            "symbol": "circle"
           },
           "mode": "markers",
           "name": "KPMG",
           "orientation": "v",
           "showlegend": true,
           "type": "scatter",
           "x": [
            2012
           ],
           "xaxis": "x",
           "y": [
            1424
           ],
           "yaxis": "y"
          },
          {
           "hovertemplate": "<b>%{hovertext}</b><br><br>Audit Firm Name=PwC<br>Fiscal Year=%{x}<br># of Clients=%{y}<br>bubble_size=%{marker.size}<extra></extra>",
           "hovertext": [
            "PwC"
           ],
           "ids": [
            "PwC"
           ],
           "legendgroup": "PwC",
           "marker": {
            "color": "#19d3f3",
            "size": [
             2014
            ],
            "sizemode": "area",
            "sizeref": 3.6733333333333333,
            "symbol": "circle"
           },
           "mode": "markers",
           "name": "PwC",
           "orientation": "v",
           "showlegend": true,
           "type": "scatter",
           "x": [
            2012
           ],
           "xaxis": "x",
           "y": [
            2014
           ],
           "yaxis": "y"
          }
         ],
         "name": "2012.0"
        },
        {
         "data": [
          {
           "hovertemplate": "<b>%{hovertext}</b><br><br>Audit Firm Name=Arthur Andersen<br>Fiscal Year=%{x}<br># of Clients=%{y}<br>bubble_size=%{marker.size}<extra></extra>",
           "hovertext": [
            "Arthur Andersen"
           ],
           "ids": [
            "Arthur Andersen"
           ],
           "legendgroup": "Arthur Andersen",
           "marker": {
            "color": "#636efa",
            "size": [
             300
            ],
            "sizemode": "area",
            "sizeref": 3.6733333333333333,
            "symbol": "circle"
           },
           "mode": "markers",
           "name": "Arthur Andersen",
           "orientation": "v",
           "showlegend": true,
           "type": "scatter",
           "x": [
            2013
           ],
           "xaxis": "x",
           "y": [
            0
           ],
           "yaxis": "y"
          },
          {
           "hovertemplate": "<b>%{hovertext}</b><br><br>Audit Firm Name=Deloitte & Touche<br>Fiscal Year=%{x}<br># of Clients=%{y}<br>bubble_size=%{marker.size}<extra></extra>",
           "hovertext": [
            "Deloitte & Touche"
           ],
           "ids": [
            "Deloitte & Touche"
           ],
           "legendgroup": "Deloitte & Touche",
           "marker": {
            "color": "#EF553B",
            "size": [
             2399
            ],
            "sizemode": "area",
            "sizeref": 3.6733333333333333,
            "symbol": "circle"
           },
           "mode": "markers",
           "name": "Deloitte & Touche",
           "orientation": "v",
           "showlegend": true,
           "type": "scatter",
           "x": [
            2013
           ],
           "xaxis": "x",
           "y": [
            2399
           ],
           "yaxis": "y"
          },
          {
           "hovertemplate": "<b>%{hovertext}</b><br><br>Audit Firm Name=Ernst & Young<br>Fiscal Year=%{x}<br># of Clients=%{y}<br>bubble_size=%{marker.size}<extra></extra>",
           "hovertext": [
            "Ernst & Young"
           ],
           "ids": [
            "Ernst & Young"
           ],
           "legendgroup": "Ernst & Young",
           "marker": {
            "color": "#00cc96",
            "size": [
             2149
            ],
            "sizemode": "area",
            "sizeref": 3.6733333333333333,
            "symbol": "circle"
           },
           "mode": "markers",
           "name": "Ernst & Young",
           "orientation": "v",
           "showlegend": true,
           "type": "scatter",
           "x": [
            2013
           ],
           "xaxis": "x",
           "y": [
            2149
           ],
           "yaxis": "y"
          },
          {
           "hovertemplate": "<b>%{hovertext}</b><br><br>Audit Firm Name=Grant Thornton<br>Fiscal Year=%{x}<br># of Clients=%{y}<br>bubble_size=%{marker.size}<extra></extra>",
           "hovertext": [
            "Grant Thornton"
           ],
           "ids": [
            "Grant Thornton"
           ],
           "legendgroup": "Grant Thornton",
           "marker": {
            "color": "#ab63fa",
            "size": [
             1956
            ],
            "sizemode": "area",
            "sizeref": 3.6733333333333333,
            "symbol": "circle"
           },
           "mode": "markers",
           "name": "Grant Thornton",
           "orientation": "v",
           "showlegend": true,
           "type": "scatter",
           "x": [
            2013
           ],
           "xaxis": "x",
           "y": [
            1956
           ],
           "yaxis": "y"
          },
          {
           "hovertemplate": "<b>%{hovertext}</b><br><br>Audit Firm Name=KPMG<br>Fiscal Year=%{x}<br># of Clients=%{y}<br>bubble_size=%{marker.size}<extra></extra>",
           "hovertext": [
            "KPMG"
           ],
           "ids": [
            "KPMG"
           ],
           "legendgroup": "KPMG",
           "marker": {
            "color": "#FFA15A",
            "size": [
             1418
            ],
            "sizemode": "area",
            "sizeref": 3.6733333333333333,
            "symbol": "circle"
           },
           "mode": "markers",
           "name": "KPMG",
           "orientation": "v",
           "showlegend": true,
           "type": "scatter",
           "x": [
            2013
           ],
           "xaxis": "x",
           "y": [
            1418
           ],
           "yaxis": "y"
          },
          {
           "hovertemplate": "<b>%{hovertext}</b><br><br>Audit Firm Name=PwC<br>Fiscal Year=%{x}<br># of Clients=%{y}<br>bubble_size=%{marker.size}<extra></extra>",
           "hovertext": [
            "PwC"
           ],
           "ids": [
            "PwC"
           ],
           "legendgroup": "PwC",
           "marker": {
            "color": "#19d3f3",
            "size": [
             2006
            ],
            "sizemode": "area",
            "sizeref": 3.6733333333333333,
            "symbol": "circle"
           },
           "mode": "markers",
           "name": "PwC",
           "orientation": "v",
           "showlegend": true,
           "type": "scatter",
           "x": [
            2013
           ],
           "xaxis": "x",
           "y": [
            2006
           ],
           "yaxis": "y"
          }
         ],
         "name": "2013.0"
        },
        {
         "data": [
          {
           "hovertemplate": "<b>%{hovertext}</b><br><br>Audit Firm Name=Arthur Andersen<br>Fiscal Year=%{x}<br># of Clients=%{y}<br>bubble_size=%{marker.size}<extra></extra>",
           "hovertext": [
            "Arthur Andersen"
           ],
           "ids": [
            "Arthur Andersen"
           ],
           "legendgroup": "Arthur Andersen",
           "marker": {
            "color": "#636efa",
            "size": [
             300
            ],
            "sizemode": "area",
            "sizeref": 3.6733333333333333,
            "symbol": "circle"
           },
           "mode": "markers",
           "name": "Arthur Andersen",
           "orientation": "v",
           "showlegend": true,
           "type": "scatter",
           "x": [
            2014
           ],
           "xaxis": "x",
           "y": [
            0
           ],
           "yaxis": "y"
          },
          {
           "hovertemplate": "<b>%{hovertext}</b><br><br>Audit Firm Name=Deloitte & Touche<br>Fiscal Year=%{x}<br># of Clients=%{y}<br>bubble_size=%{marker.size}<extra></extra>",
           "hovertext": [
            "Deloitte & Touche"
           ],
           "ids": [
            "Deloitte & Touche"
           ],
           "legendgroup": "Deloitte & Touche",
           "marker": {
            "color": "#EF553B",
            "size": [
             2434
            ],
            "sizemode": "area",
            "sizeref": 3.6733333333333333,
            "symbol": "circle"
           },
           "mode": "markers",
           "name": "Deloitte & Touche",
           "orientation": "v",
           "showlegend": true,
           "type": "scatter",
           "x": [
            2014
           ],
           "xaxis": "x",
           "y": [
            2434
           ],
           "yaxis": "y"
          },
          {
           "hovertemplate": "<b>%{hovertext}</b><br><br>Audit Firm Name=Ernst & Young<br>Fiscal Year=%{x}<br># of Clients=%{y}<br>bubble_size=%{marker.size}<extra></extra>",
           "hovertext": [
            "Ernst & Young"
           ],
           "ids": [
            "Ernst & Young"
           ],
           "legendgroup": "Ernst & Young",
           "marker": {
            "color": "#00cc96",
            "size": [
             1963
            ],
            "sizemode": "area",
            "sizeref": 3.6733333333333333,
            "symbol": "circle"
           },
           "mode": "markers",
           "name": "Ernst & Young",
           "orientation": "v",
           "showlegend": true,
           "type": "scatter",
           "x": [
            2014
           ],
           "xaxis": "x",
           "y": [
            1963
           ],
           "yaxis": "y"
          },
          {
           "hovertemplate": "<b>%{hovertext}</b><br><br>Audit Firm Name=Grant Thornton<br>Fiscal Year=%{x}<br># of Clients=%{y}<br>bubble_size=%{marker.size}<extra></extra>",
           "hovertext": [
            "Grant Thornton"
           ],
           "ids": [
            "Grant Thornton"
           ],
           "legendgroup": "Grant Thornton",
           "marker": {
            "color": "#ab63fa",
            "size": [
             1906
            ],
            "sizemode": "area",
            "sizeref": 3.6733333333333333,
            "symbol": "circle"
           },
           "mode": "markers",
           "name": "Grant Thornton",
           "orientation": "v",
           "showlegend": true,
           "type": "scatter",
           "x": [
            2014
           ],
           "xaxis": "x",
           "y": [
            1906
           ],
           "yaxis": "y"
          },
          {
           "hovertemplate": "<b>%{hovertext}</b><br><br>Audit Firm Name=KPMG<br>Fiscal Year=%{x}<br># of Clients=%{y}<br>bubble_size=%{marker.size}<extra></extra>",
           "hovertext": [
            "KPMG"
           ],
           "ids": [
            "KPMG"
           ],
           "legendgroup": "KPMG",
           "marker": {
            "color": "#FFA15A",
            "size": [
             1509
            ],
            "sizemode": "area",
            "sizeref": 3.6733333333333333,
            "symbol": "circle"
           },
           "mode": "markers",
           "name": "KPMG",
           "orientation": "v",
           "showlegend": true,
           "type": "scatter",
           "x": [
            2014
           ],
           "xaxis": "x",
           "y": [
            1509
           ],
           "yaxis": "y"
          },
          {
           "hovertemplate": "<b>%{hovertext}</b><br><br>Audit Firm Name=PwC<br>Fiscal Year=%{x}<br># of Clients=%{y}<br>bubble_size=%{marker.size}<extra></extra>",
           "hovertext": [
            "PwC"
           ],
           "ids": [
            "PwC"
           ],
           "legendgroup": "PwC",
           "marker": {
            "color": "#19d3f3",
            "size": [
             2008
            ],
            "sizemode": "area",
            "sizeref": 3.6733333333333333,
            "symbol": "circle"
           },
           "mode": "markers",
           "name": "PwC",
           "orientation": "v",
           "showlegend": true,
           "type": "scatter",
           "x": [
            2014
           ],
           "xaxis": "x",
           "y": [
            2008
           ],
           "yaxis": "y"
          }
         ],
         "name": "2014.0"
        },
        {
         "data": [
          {
           "hovertemplate": "<b>%{hovertext}</b><br><br>Audit Firm Name=Arthur Andersen<br>Fiscal Year=%{x}<br># of Clients=%{y}<br>bubble_size=%{marker.size}<extra></extra>",
           "hovertext": [
            "Arthur Andersen"
           ],
           "ids": [
            "Arthur Andersen"
           ],
           "legendgroup": "Arthur Andersen",
           "marker": {
            "color": "#636efa",
            "size": [
             300
            ],
            "sizemode": "area",
            "sizeref": 3.6733333333333333,
            "symbol": "circle"
           },
           "mode": "markers",
           "name": "Arthur Andersen",
           "orientation": "v",
           "showlegend": true,
           "type": "scatter",
           "x": [
            2015
           ],
           "xaxis": "x",
           "y": [
            0
           ],
           "yaxis": "y"
          },
          {
           "hovertemplate": "<b>%{hovertext}</b><br><br>Audit Firm Name=Deloitte & Touche<br>Fiscal Year=%{x}<br># of Clients=%{y}<br>bubble_size=%{marker.size}<extra></extra>",
           "hovertext": [
            "Deloitte & Touche"
           ],
           "ids": [
            "Deloitte & Touche"
           ],
           "legendgroup": "Deloitte & Touche",
           "marker": {
            "color": "#EF553B",
            "size": [
             2330
            ],
            "sizemode": "area",
            "sizeref": 3.6733333333333333,
            "symbol": "circle"
           },
           "mode": "markers",
           "name": "Deloitte & Touche",
           "orientation": "v",
           "showlegend": true,
           "type": "scatter",
           "x": [
            2015
           ],
           "xaxis": "x",
           "y": [
            2330
           ],
           "yaxis": "y"
          },
          {
           "hovertemplate": "<b>%{hovertext}</b><br><br>Audit Firm Name=Ernst & Young<br>Fiscal Year=%{x}<br># of Clients=%{y}<br>bubble_size=%{marker.size}<extra></extra>",
           "hovertext": [
            "Ernst & Young"
           ],
           "ids": [
            "Ernst & Young"
           ],
           "legendgroup": "Ernst & Young",
           "marker": {
            "color": "#00cc96",
            "size": [
             1789
            ],
            "sizemode": "area",
            "sizeref": 3.6733333333333333,
            "symbol": "circle"
           },
           "mode": "markers",
           "name": "Ernst & Young",
           "orientation": "v",
           "showlegend": true,
           "type": "scatter",
           "x": [
            2015
           ],
           "xaxis": "x",
           "y": [
            1789
           ],
           "yaxis": "y"
          },
          {
           "hovertemplate": "<b>%{hovertext}</b><br><br>Audit Firm Name=Grant Thornton<br>Fiscal Year=%{x}<br># of Clients=%{y}<br>bubble_size=%{marker.size}<extra></extra>",
           "hovertext": [
            "Grant Thornton"
           ],
           "ids": [
            "Grant Thornton"
           ],
           "legendgroup": "Grant Thornton",
           "marker": {
            "color": "#ab63fa",
            "size": [
             1801
            ],
            "sizemode": "area",
            "sizeref": 3.6733333333333333,
            "symbol": "circle"
           },
           "mode": "markers",
           "name": "Grant Thornton",
           "orientation": "v",
           "showlegend": true,
           "type": "scatter",
           "x": [
            2015
           ],
           "xaxis": "x",
           "y": [
            1801
           ],
           "yaxis": "y"
          },
          {
           "hovertemplate": "<b>%{hovertext}</b><br><br>Audit Firm Name=KPMG<br>Fiscal Year=%{x}<br># of Clients=%{y}<br>bubble_size=%{marker.size}<extra></extra>",
           "hovertext": [
            "KPMG"
           ],
           "ids": [
            "KPMG"
           ],
           "legendgroup": "KPMG",
           "marker": {
            "color": "#FFA15A",
            "size": [
             1536
            ],
            "sizemode": "area",
            "sizeref": 3.6733333333333333,
            "symbol": "circle"
           },
           "mode": "markers",
           "name": "KPMG",
           "orientation": "v",
           "showlegend": true,
           "type": "scatter",
           "x": [
            2015
           ],
           "xaxis": "x",
           "y": [
            1536
           ],
           "yaxis": "y"
          },
          {
           "hovertemplate": "<b>%{hovertext}</b><br><br>Audit Firm Name=PwC<br>Fiscal Year=%{x}<br># of Clients=%{y}<br>bubble_size=%{marker.size}<extra></extra>",
           "hovertext": [
            "PwC"
           ],
           "ids": [
            "PwC"
           ],
           "legendgroup": "PwC",
           "marker": {
            "color": "#19d3f3",
            "size": [
             1962
            ],
            "sizemode": "area",
            "sizeref": 3.6733333333333333,
            "symbol": "circle"
           },
           "mode": "markers",
           "name": "PwC",
           "orientation": "v",
           "showlegend": true,
           "type": "scatter",
           "x": [
            2015
           ],
           "xaxis": "x",
           "y": [
            1962
           ],
           "yaxis": "y"
          }
         ],
         "name": "2015.0"
        },
        {
         "data": [
          {
           "hovertemplate": "<b>%{hovertext}</b><br><br>Audit Firm Name=Arthur Andersen<br>Fiscal Year=%{x}<br># of Clients=%{y}<br>bubble_size=%{marker.size}<extra></extra>",
           "hovertext": [
            "Arthur Andersen"
           ],
           "ids": [
            "Arthur Andersen"
           ],
           "legendgroup": "Arthur Andersen",
           "marker": {
            "color": "#636efa",
            "size": [
             300
            ],
            "sizemode": "area",
            "sizeref": 3.6733333333333333,
            "symbol": "circle"
           },
           "mode": "markers",
           "name": "Arthur Andersen",
           "orientation": "v",
           "showlegend": true,
           "type": "scatter",
           "x": [
            2016
           ],
           "xaxis": "x",
           "y": [
            0
           ],
           "yaxis": "y"
          },
          {
           "hovertemplate": "<b>%{hovertext}</b><br><br>Audit Firm Name=Deloitte & Touche<br>Fiscal Year=%{x}<br># of Clients=%{y}<br>bubble_size=%{marker.size}<extra></extra>",
           "hovertext": [
            "Deloitte & Touche"
           ],
           "ids": [
            "Deloitte & Touche"
           ],
           "legendgroup": "Deloitte & Touche",
           "marker": {
            "color": "#EF553B",
            "size": [
             2273
            ],
            "sizemode": "area",
            "sizeref": 3.6733333333333333,
            "symbol": "circle"
           },
           "mode": "markers",
           "name": "Deloitte & Touche",
           "orientation": "v",
           "showlegend": true,
           "type": "scatter",
           "x": [
            2016
           ],
           "xaxis": "x",
           "y": [
            2273
           ],
           "yaxis": "y"
          },
          {
           "hovertemplate": "<b>%{hovertext}</b><br><br>Audit Firm Name=Ernst & Young<br>Fiscal Year=%{x}<br># of Clients=%{y}<br>bubble_size=%{marker.size}<extra></extra>",
           "hovertext": [
            "Ernst & Young"
           ],
           "ids": [
            "Ernst & Young"
           ],
           "legendgroup": "Ernst & Young",
           "marker": {
            "color": "#00cc96",
            "size": [
             1743
            ],
            "sizemode": "area",
            "sizeref": 3.6733333333333333,
            "symbol": "circle"
           },
           "mode": "markers",
           "name": "Ernst & Young",
           "orientation": "v",
           "showlegend": true,
           "type": "scatter",
           "x": [
            2016
           ],
           "xaxis": "x",
           "y": [
            1743
           ],
           "yaxis": "y"
          },
          {
           "hovertemplate": "<b>%{hovertext}</b><br><br>Audit Firm Name=Grant Thornton<br>Fiscal Year=%{x}<br># of Clients=%{y}<br>bubble_size=%{marker.size}<extra></extra>",
           "hovertext": [
            "Grant Thornton"
           ],
           "ids": [
            "Grant Thornton"
           ],
           "legendgroup": "Grant Thornton",
           "marker": {
            "color": "#ab63fa",
            "size": [
             1619
            ],
            "sizemode": "area",
            "sizeref": 3.6733333333333333,
            "symbol": "circle"
           },
           "mode": "markers",
           "name": "Grant Thornton",
           "orientation": "v",
           "showlegend": true,
           "type": "scatter",
           "x": [
            2016
           ],
           "xaxis": "x",
           "y": [
            1619
           ],
           "yaxis": "y"
          },
          {
           "hovertemplate": "<b>%{hovertext}</b><br><br>Audit Firm Name=KPMG<br>Fiscal Year=%{x}<br># of Clients=%{y}<br>bubble_size=%{marker.size}<extra></extra>",
           "hovertext": [
            "KPMG"
           ],
           "ids": [
            "KPMG"
           ],
           "legendgroup": "KPMG",
           "marker": {
            "color": "#FFA15A",
            "size": [
             1468
            ],
            "sizemode": "area",
            "sizeref": 3.6733333333333333,
            "symbol": "circle"
           },
           "mode": "markers",
           "name": "KPMG",
           "orientation": "v",
           "showlegend": true,
           "type": "scatter",
           "x": [
            2016
           ],
           "xaxis": "x",
           "y": [
            1468
           ],
           "yaxis": "y"
          },
          {
           "hovertemplate": "<b>%{hovertext}</b><br><br>Audit Firm Name=PwC<br>Fiscal Year=%{x}<br># of Clients=%{y}<br>bubble_size=%{marker.size}<extra></extra>",
           "hovertext": [
            "PwC"
           ],
           "ids": [
            "PwC"
           ],
           "legendgroup": "PwC",
           "marker": {
            "color": "#19d3f3",
            "size": [
             1935
            ],
            "sizemode": "area",
            "sizeref": 3.6733333333333333,
            "symbol": "circle"
           },
           "mode": "markers",
           "name": "PwC",
           "orientation": "v",
           "showlegend": true,
           "type": "scatter",
           "x": [
            2016
           ],
           "xaxis": "x",
           "y": [
            1935
           ],
           "yaxis": "y"
          }
         ],
         "name": "2016.0"
        },
        {
         "data": [
          {
           "hovertemplate": "<b>%{hovertext}</b><br><br>Audit Firm Name=Arthur Andersen<br>Fiscal Year=%{x}<br># of Clients=%{y}<br>bubble_size=%{marker.size}<extra></extra>",
           "hovertext": [
            "Arthur Andersen"
           ],
           "ids": [
            "Arthur Andersen"
           ],
           "legendgroup": "Arthur Andersen",
           "marker": {
            "color": "#636efa",
            "size": [
             300
            ],
            "sizemode": "area",
            "sizeref": 3.6733333333333333,
            "symbol": "circle"
           },
           "mode": "markers",
           "name": "Arthur Andersen",
           "orientation": "v",
           "showlegend": true,
           "type": "scatter",
           "x": [
            2017
           ],
           "xaxis": "x",
           "y": [
            0
           ],
           "yaxis": "y"
          },
          {
           "hovertemplate": "<b>%{hovertext}</b><br><br>Audit Firm Name=Deloitte & Touche<br>Fiscal Year=%{x}<br># of Clients=%{y}<br>bubble_size=%{marker.size}<extra></extra>",
           "hovertext": [
            "Deloitte & Touche"
           ],
           "ids": [
            "Deloitte & Touche"
           ],
           "legendgroup": "Deloitte & Touche",
           "marker": {
            "color": "#EF553B",
            "size": [
             2221
            ],
            "sizemode": "area",
            "sizeref": 3.6733333333333333,
            "symbol": "circle"
           },
           "mode": "markers",
           "name": "Deloitte & Touche",
           "orientation": "v",
           "showlegend": true,
           "type": "scatter",
           "x": [
            2017
           ],
           "xaxis": "x",
           "y": [
            2221
           ],
           "yaxis": "y"
          },
          {
           "hovertemplate": "<b>%{hovertext}</b><br><br>Audit Firm Name=Ernst & Young<br>Fiscal Year=%{x}<br># of Clients=%{y}<br>bubble_size=%{marker.size}<extra></extra>",
           "hovertext": [
            "Ernst & Young"
           ],
           "ids": [
            "Ernst & Young"
           ],
           "legendgroup": "Ernst & Young",
           "marker": {
            "color": "#00cc96",
            "size": [
             1772
            ],
            "sizemode": "area",
            "sizeref": 3.6733333333333333,
            "symbol": "circle"
           },
           "mode": "markers",
           "name": "Ernst & Young",
           "orientation": "v",
           "showlegend": true,
           "type": "scatter",
           "x": [
            2017
           ],
           "xaxis": "x",
           "y": [
            1772
           ],
           "yaxis": "y"
          },
          {
           "hovertemplate": "<b>%{hovertext}</b><br><br>Audit Firm Name=Grant Thornton<br>Fiscal Year=%{x}<br># of Clients=%{y}<br>bubble_size=%{marker.size}<extra></extra>",
           "hovertext": [
            "Grant Thornton"
           ],
           "ids": [
            "Grant Thornton"
           ],
           "legendgroup": "Grant Thornton",
           "marker": {
            "color": "#ab63fa",
            "size": [
             1493
            ],
            "sizemode": "area",
            "sizeref": 3.6733333333333333,
            "symbol": "circle"
           },
           "mode": "markers",
           "name": "Grant Thornton",
           "orientation": "v",
           "showlegend": true,
           "type": "scatter",
           "x": [
            2017
           ],
           "xaxis": "x",
           "y": [
            1493
           ],
           "yaxis": "y"
          },
          {
           "hovertemplate": "<b>%{hovertext}</b><br><br>Audit Firm Name=KPMG<br>Fiscal Year=%{x}<br># of Clients=%{y}<br>bubble_size=%{marker.size}<extra></extra>",
           "hovertext": [
            "KPMG"
           ],
           "ids": [
            "KPMG"
           ],
           "legendgroup": "KPMG",
           "marker": {
            "color": "#FFA15A",
            "size": [
             1444
            ],
            "sizemode": "area",
            "sizeref": 3.6733333333333333,
            "symbol": "circle"
           },
           "mode": "markers",
           "name": "KPMG",
           "orientation": "v",
           "showlegend": true,
           "type": "scatter",
           "x": [
            2017
           ],
           "xaxis": "x",
           "y": [
            1444
           ],
           "yaxis": "y"
          },
          {
           "hovertemplate": "<b>%{hovertext}</b><br><br>Audit Firm Name=PwC<br>Fiscal Year=%{x}<br># of Clients=%{y}<br>bubble_size=%{marker.size}<extra></extra>",
           "hovertext": [
            "PwC"
           ],
           "ids": [
            "PwC"
           ],
           "legendgroup": "PwC",
           "marker": {
            "color": "#19d3f3",
            "size": [
             1906
            ],
            "sizemode": "area",
            "sizeref": 3.6733333333333333,
            "symbol": "circle"
           },
           "mode": "markers",
           "name": "PwC",
           "orientation": "v",
           "showlegend": true,
           "type": "scatter",
           "x": [
            2017
           ],
           "xaxis": "x",
           "y": [
            1906
           ],
           "yaxis": "y"
          }
         ],
         "name": "2017.0"
        },
        {
         "data": [
          {
           "hovertemplate": "<b>%{hovertext}</b><br><br>Audit Firm Name=Arthur Andersen<br>Fiscal Year=%{x}<br># of Clients=%{y}<br>bubble_size=%{marker.size}<extra></extra>",
           "hovertext": [
            "Arthur Andersen"
           ],
           "ids": [
            "Arthur Andersen"
           ],
           "legendgroup": "Arthur Andersen",
           "marker": {
            "color": "#636efa",
            "size": [
             300
            ],
            "sizemode": "area",
            "sizeref": 3.6733333333333333,
            "symbol": "circle"
           },
           "mode": "markers",
           "name": "Arthur Andersen",
           "orientation": "v",
           "showlegend": true,
           "type": "scatter",
           "x": [
            2018
           ],
           "xaxis": "x",
           "y": [
            0
           ],
           "yaxis": "y"
          },
          {
           "hovertemplate": "<b>%{hovertext}</b><br><br>Audit Firm Name=Deloitte & Touche<br>Fiscal Year=%{x}<br># of Clients=%{y}<br>bubble_size=%{marker.size}<extra></extra>",
           "hovertext": [
            "Deloitte & Touche"
           ],
           "ids": [
            "Deloitte & Touche"
           ],
           "legendgroup": "Deloitte & Touche",
           "marker": {
            "color": "#EF553B",
            "size": [
             2231
            ],
            "sizemode": "area",
            "sizeref": 3.6733333333333333,
            "symbol": "circle"
           },
           "mode": "markers",
           "name": "Deloitte & Touche",
           "orientation": "v",
           "showlegend": true,
           "type": "scatter",
           "x": [
            2018
           ],
           "xaxis": "x",
           "y": [
            2231
           ],
           "yaxis": "y"
          },
          {
           "hovertemplate": "<b>%{hovertext}</b><br><br>Audit Firm Name=Ernst & Young<br>Fiscal Year=%{x}<br># of Clients=%{y}<br>bubble_size=%{marker.size}<extra></extra>",
           "hovertext": [
            "Ernst & Young"
           ],
           "ids": [
            "Ernst & Young"
           ],
           "legendgroup": "Ernst & Young",
           "marker": {
            "color": "#00cc96",
            "size": [
             1708
            ],
            "sizemode": "area",
            "sizeref": 3.6733333333333333,
            "symbol": "circle"
           },
           "mode": "markers",
           "name": "Ernst & Young",
           "orientation": "v",
           "showlegend": true,
           "type": "scatter",
           "x": [
            2018
           ],
           "xaxis": "x",
           "y": [
            1708
           ],
           "yaxis": "y"
          },
          {
           "hovertemplate": "<b>%{hovertext}</b><br><br>Audit Firm Name=Grant Thornton<br>Fiscal Year=%{x}<br># of Clients=%{y}<br>bubble_size=%{marker.size}<extra></extra>",
           "hovertext": [
            "Grant Thornton"
           ],
           "ids": [
            "Grant Thornton"
           ],
           "legendgroup": "Grant Thornton",
           "marker": {
            "color": "#ab63fa",
            "size": [
             1406
            ],
            "sizemode": "area",
            "sizeref": 3.6733333333333333,
            "symbol": "circle"
           },
           "mode": "markers",
           "name": "Grant Thornton",
           "orientation": "v",
           "showlegend": true,
           "type": "scatter",
           "x": [
            2018
           ],
           "xaxis": "x",
           "y": [
            1406
           ],
           "yaxis": "y"
          },
          {
           "hovertemplate": "<b>%{hovertext}</b><br><br>Audit Firm Name=KPMG<br>Fiscal Year=%{x}<br># of Clients=%{y}<br>bubble_size=%{marker.size}<extra></extra>",
           "hovertext": [
            "KPMG"
           ],
           "ids": [
            "KPMG"
           ],
           "legendgroup": "KPMG",
           "marker": {
            "color": "#FFA15A",
            "size": [
             1357
            ],
            "sizemode": "area",
            "sizeref": 3.6733333333333333,
            "symbol": "circle"
           },
           "mode": "markers",
           "name": "KPMG",
           "orientation": "v",
           "showlegend": true,
           "type": "scatter",
           "x": [
            2018
           ],
           "xaxis": "x",
           "y": [
            1357
           ],
           "yaxis": "y"
          },
          {
           "hovertemplate": "<b>%{hovertext}</b><br><br>Audit Firm Name=PwC<br>Fiscal Year=%{x}<br># of Clients=%{y}<br>bubble_size=%{marker.size}<extra></extra>",
           "hovertext": [
            "PwC"
           ],
           "ids": [
            "PwC"
           ],
           "legendgroup": "PwC",
           "marker": {
            "color": "#19d3f3",
            "size": [
             1876
            ],
            "sizemode": "area",
            "sizeref": 3.6733333333333333,
            "symbol": "circle"
           },
           "mode": "markers",
           "name": "PwC",
           "orientation": "v",
           "showlegend": true,
           "type": "scatter",
           "x": [
            2018
           ],
           "xaxis": "x",
           "y": [
            1876
           ],
           "yaxis": "y"
          }
         ],
         "name": "2018.0"
        },
        {
         "data": [
          {
           "hovertemplate": "<b>%{hovertext}</b><br><br>Audit Firm Name=Arthur Andersen<br>Fiscal Year=%{x}<br># of Clients=%{y}<br>bubble_size=%{marker.size}<extra></extra>",
           "hovertext": [
            "Arthur Andersen"
           ],
           "ids": [
            "Arthur Andersen"
           ],
           "legendgroup": "Arthur Andersen",
           "marker": {
            "color": "#636efa",
            "size": [
             300
            ],
            "sizemode": "area",
            "sizeref": 3.6733333333333333,
            "symbol": "circle"
           },
           "mode": "markers",
           "name": "Arthur Andersen",
           "orientation": "v",
           "showlegend": true,
           "type": "scatter",
           "x": [
            2019
           ],
           "xaxis": "x",
           "y": [
            0
           ],
           "yaxis": "y"
          },
          {
           "hovertemplate": "<b>%{hovertext}</b><br><br>Audit Firm Name=Deloitte & Touche<br>Fiscal Year=%{x}<br># of Clients=%{y}<br>bubble_size=%{marker.size}<extra></extra>",
           "hovertext": [
            "Deloitte & Touche"
           ],
           "ids": [
            "Deloitte & Touche"
           ],
           "legendgroup": "Deloitte & Touche",
           "marker": {
            "color": "#EF553B",
            "size": [
             2192
            ],
            "sizemode": "area",
            "sizeref": 3.6733333333333333,
            "symbol": "circle"
           },
           "mode": "markers",
           "name": "Deloitte & Touche",
           "orientation": "v",
           "showlegend": true,
           "type": "scatter",
           "x": [
            2019
           ],
           "xaxis": "x",
           "y": [
            2192
           ],
           "yaxis": "y"
          },
          {
           "hovertemplate": "<b>%{hovertext}</b><br><br>Audit Firm Name=Ernst & Young<br>Fiscal Year=%{x}<br># of Clients=%{y}<br>bubble_size=%{marker.size}<extra></extra>",
           "hovertext": [
            "Ernst & Young"
           ],
           "ids": [
            "Ernst & Young"
           ],
           "legendgroup": "Ernst & Young",
           "marker": {
            "color": "#00cc96",
            "size": [
             1744
            ],
            "sizemode": "area",
            "sizeref": 3.6733333333333333,
            "symbol": "circle"
           },
           "mode": "markers",
           "name": "Ernst & Young",
           "orientation": "v",
           "showlegend": true,
           "type": "scatter",
           "x": [
            2019
           ],
           "xaxis": "x",
           "y": [
            1744
           ],
           "yaxis": "y"
          },
          {
           "hovertemplate": "<b>%{hovertext}</b><br><br>Audit Firm Name=Grant Thornton<br>Fiscal Year=%{x}<br># of Clients=%{y}<br>bubble_size=%{marker.size}<extra></extra>",
           "hovertext": [
            "Grant Thornton"
           ],
           "ids": [
            "Grant Thornton"
           ],
           "legendgroup": "Grant Thornton",
           "marker": {
            "color": "#ab63fa",
            "size": [
             1271
            ],
            "sizemode": "area",
            "sizeref": 3.6733333333333333,
            "symbol": "circle"
           },
           "mode": "markers",
           "name": "Grant Thornton",
           "orientation": "v",
           "showlegend": true,
           "type": "scatter",
           "x": [
            2019
           ],
           "xaxis": "x",
           "y": [
            1271
           ],
           "yaxis": "y"
          },
          {
           "hovertemplate": "<b>%{hovertext}</b><br><br>Audit Firm Name=KPMG<br>Fiscal Year=%{x}<br># of Clients=%{y}<br>bubble_size=%{marker.size}<extra></extra>",
           "hovertext": [
            "KPMG"
           ],
           "ids": [
            "KPMG"
           ],
           "legendgroup": "KPMG",
           "marker": {
            "color": "#FFA15A",
            "size": [
             1273
            ],
            "sizemode": "area",
            "sizeref": 3.6733333333333333,
            "symbol": "circle"
           },
           "mode": "markers",
           "name": "KPMG",
           "orientation": "v",
           "showlegend": true,
           "type": "scatter",
           "x": [
            2019
           ],
           "xaxis": "x",
           "y": [
            1273
           ],
           "yaxis": "y"
          },
          {
           "hovertemplate": "<b>%{hovertext}</b><br><br>Audit Firm Name=PwC<br>Fiscal Year=%{x}<br># of Clients=%{y}<br>bubble_size=%{marker.size}<extra></extra>",
           "hovertext": [
            "PwC"
           ],
           "ids": [
            "PwC"
           ],
           "legendgroup": "PwC",
           "marker": {
            "color": "#19d3f3",
            "size": [
             1835
            ],
            "sizemode": "area",
            "sizeref": 3.6733333333333333,
            "symbol": "circle"
           },
           "mode": "markers",
           "name": "PwC",
           "orientation": "v",
           "showlegend": true,
           "type": "scatter",
           "x": [
            2019
           ],
           "xaxis": "x",
           "y": [
            1835
           ],
           "yaxis": "y"
          }
         ],
         "name": "2019.0"
        },
        {
         "data": [
          {
           "hovertemplate": "<b>%{hovertext}</b><br><br>Audit Firm Name=Arthur Andersen<br>Fiscal Year=%{x}<br># of Clients=%{y}<br>bubble_size=%{marker.size}<extra></extra>",
           "hovertext": [
            "Arthur Andersen"
           ],
           "ids": [
            "Arthur Andersen"
           ],
           "legendgroup": "Arthur Andersen",
           "marker": {
            "color": "#636efa",
            "size": [
             300
            ],
            "sizemode": "area",
            "sizeref": 3.6733333333333333,
            "symbol": "circle"
           },
           "mode": "markers",
           "name": "Arthur Andersen",
           "orientation": "v",
           "showlegend": true,
           "type": "scatter",
           "x": [
            2020
           ],
           "xaxis": "x",
           "y": [
            0
           ],
           "yaxis": "y"
          },
          {
           "hovertemplate": "<b>%{hovertext}</b><br><br>Audit Firm Name=Deloitte & Touche<br>Fiscal Year=%{x}<br># of Clients=%{y}<br>bubble_size=%{marker.size}<extra></extra>",
           "hovertext": [
            "Deloitte & Touche"
           ],
           "ids": [
            "Deloitte & Touche"
           ],
           "legendgroup": "Deloitte & Touche",
           "marker": {
            "color": "#EF553B",
            "size": [
             2306
            ],
            "sizemode": "area",
            "sizeref": 3.6733333333333333,
            "symbol": "circle"
           },
           "mode": "markers",
           "name": "Deloitte & Touche",
           "orientation": "v",
           "showlegend": true,
           "type": "scatter",
           "x": [
            2020
           ],
           "xaxis": "x",
           "y": [
            2306
           ],
           "yaxis": "y"
          },
          {
           "hovertemplate": "<b>%{hovertext}</b><br><br>Audit Firm Name=Ernst & Young<br>Fiscal Year=%{x}<br># of Clients=%{y}<br>bubble_size=%{marker.size}<extra></extra>",
           "hovertext": [
            "Ernst & Young"
           ],
           "ids": [
            "Ernst & Young"
           ],
           "legendgroup": "Ernst & Young",
           "marker": {
            "color": "#00cc96",
            "size": [
             1866
            ],
            "sizemode": "area",
            "sizeref": 3.6733333333333333,
            "symbol": "circle"
           },
           "mode": "markers",
           "name": "Ernst & Young",
           "orientation": "v",
           "showlegend": true,
           "type": "scatter",
           "x": [
            2020
           ],
           "xaxis": "x",
           "y": [
            1866
           ],
           "yaxis": "y"
          },
          {
           "hovertemplate": "<b>%{hovertext}</b><br><br>Audit Firm Name=Grant Thornton<br>Fiscal Year=%{x}<br># of Clients=%{y}<br>bubble_size=%{marker.size}<extra></extra>",
           "hovertext": [
            "Grant Thornton"
           ],
           "ids": [
            "Grant Thornton"
           ],
           "legendgroup": "Grant Thornton",
           "marker": {
            "color": "#ab63fa",
            "size": [
             1075
            ],
            "sizemode": "area",
            "sizeref": 3.6733333333333333,
            "symbol": "circle"
           },
           "mode": "markers",
           "name": "Grant Thornton",
           "orientation": "v",
           "showlegend": true,
           "type": "scatter",
           "x": [
            2020
           ],
           "xaxis": "x",
           "y": [
            1075
           ],
           "yaxis": "y"
          },
          {
           "hovertemplate": "<b>%{hovertext}</b><br><br>Audit Firm Name=KPMG<br>Fiscal Year=%{x}<br># of Clients=%{y}<br>bubble_size=%{marker.size}<extra></extra>",
           "hovertext": [
            "KPMG"
           ],
           "ids": [
            "KPMG"
           ],
           "legendgroup": "KPMG",
           "marker": {
            "color": "#FFA15A",
            "size": [
             1280
            ],
            "sizemode": "area",
            "sizeref": 3.6733333333333333,
            "symbol": "circle"
           },
           "mode": "markers",
           "name": "KPMG",
           "orientation": "v",
           "showlegend": true,
           "type": "scatter",
           "x": [
            2020
           ],
           "xaxis": "x",
           "y": [
            1280
           ],
           "yaxis": "y"
          },
          {
           "hovertemplate": "<b>%{hovertext}</b><br><br>Audit Firm Name=PwC<br>Fiscal Year=%{x}<br># of Clients=%{y}<br>bubble_size=%{marker.size}<extra></extra>",
           "hovertext": [
            "PwC"
           ],
           "ids": [
            "PwC"
           ],
           "legendgroup": "PwC",
           "marker": {
            "color": "#19d3f3",
            "size": [
             2040
            ],
            "sizemode": "area",
            "sizeref": 3.6733333333333333,
            "symbol": "circle"
           },
           "mode": "markers",
           "name": "PwC",
           "orientation": "v",
           "showlegend": true,
           "type": "scatter",
           "x": [
            2020
           ],
           "xaxis": "x",
           "y": [
            2040
           ],
           "yaxis": "y"
          }
         ],
         "name": "2020.0"
        }
       ],
       "layout": {
        "autosize": true,
        "legend": {
         "itemsizing": "constant",
         "title": {
          "text": "Audit Firm Name"
         },
         "tracegroupgap": 0
        },
        "sliders": [
         {
          "active": 20,
          "currentvalue": {
           "prefix": "Fiscal Year="
          },
          "len": 0.9,
          "pad": {
           "b": 10,
           "t": 60
          },
          "steps": [
           {
            "args": [
             [
              "2000.0"
             ],
             {
              "frame": {
               "duration": 0,
               "redraw": false
              },
              "fromcurrent": true,
              "mode": "immediate",
              "transition": {
               "duration": 0,
               "easing": "linear"
              }
             }
            ],
            "label": "2000.0",
            "method": "animate"
           },
           {
            "args": [
             [
              "2001.0"
             ],
             {
              "frame": {
               "duration": 0,
               "redraw": false
              },
              "fromcurrent": true,
              "mode": "immediate",
              "transition": {
               "duration": 0,
               "easing": "linear"
              }
             }
            ],
            "label": "2001.0",
            "method": "animate"
           },
           {
            "args": [
             [
              "2002.0"
             ],
             {
              "frame": {
               "duration": 0,
               "redraw": false
              },
              "fromcurrent": true,
              "mode": "immediate",
              "transition": {
               "duration": 0,
               "easing": "linear"
              }
             }
            ],
            "label": "2002.0",
            "method": "animate"
           },
           {
            "args": [
             [
              "2003.0"
             ],
             {
              "frame": {
               "duration": 0,
               "redraw": false
              },
              "fromcurrent": true,
              "mode": "immediate",
              "transition": {
               "duration": 0,
               "easing": "linear"
              }
             }
            ],
            "label": "2003.0",
            "method": "animate"
           },
           {
            "args": [
             [
              "2004.0"
             ],
             {
              "frame": {
               "duration": 0,
               "redraw": false
              },
              "fromcurrent": true,
              "mode": "immediate",
              "transition": {
               "duration": 0,
               "easing": "linear"
              }
             }
            ],
            "label": "2004.0",
            "method": "animate"
           },
           {
            "args": [
             [
              "2005.0"
             ],
             {
              "frame": {
               "duration": 0,
               "redraw": false
              },
              "fromcurrent": true,
              "mode": "immediate",
              "transition": {
               "duration": 0,
               "easing": "linear"
              }
             }
            ],
            "label": "2005.0",
            "method": "animate"
           },
           {
            "args": [
             [
              "2006.0"
             ],
             {
              "frame": {
               "duration": 0,
               "redraw": false
              },
              "fromcurrent": true,
              "mode": "immediate",
              "transition": {
               "duration": 0,
               "easing": "linear"
              }
             }
            ],
            "label": "2006.0",
            "method": "animate"
           },
           {
            "args": [
             [
              "2007.0"
             ],
             {
              "frame": {
               "duration": 0,
               "redraw": false
              },
              "fromcurrent": true,
              "mode": "immediate",
              "transition": {
               "duration": 0,
               "easing": "linear"
              }
             }
            ],
            "label": "2007.0",
            "method": "animate"
           },
           {
            "args": [
             [
              "2008.0"
             ],
             {
              "frame": {
               "duration": 0,
               "redraw": false
              },
              "fromcurrent": true,
              "mode": "immediate",
              "transition": {
               "duration": 0,
               "easing": "linear"
              }
             }
            ],
            "label": "2008.0",
            "method": "animate"
           },
           {
            "args": [
             [
              "2009.0"
             ],
             {
              "frame": {
               "duration": 0,
               "redraw": false
              },
              "fromcurrent": true,
              "mode": "immediate",
              "transition": {
               "duration": 0,
               "easing": "linear"
              }
             }
            ],
            "label": "2009.0",
            "method": "animate"
           },
           {
            "args": [
             [
              "2010.0"
             ],
             {
              "frame": {
               "duration": 0,
               "redraw": false
              },
              "fromcurrent": true,
              "mode": "immediate",
              "transition": {
               "duration": 0,
               "easing": "linear"
              }
             }
            ],
            "label": "2010.0",
            "method": "animate"
           },
           {
            "args": [
             [
              "2011.0"
             ],
             {
              "frame": {
               "duration": 0,
               "redraw": false
              },
              "fromcurrent": true,
              "mode": "immediate",
              "transition": {
               "duration": 0,
               "easing": "linear"
              }
             }
            ],
            "label": "2011.0",
            "method": "animate"
           },
           {
            "args": [
             [
              "2012.0"
             ],
             {
              "frame": {
               "duration": 0,
               "redraw": false
              },
              "fromcurrent": true,
              "mode": "immediate",
              "transition": {
               "duration": 0,
               "easing": "linear"
              }
             }
            ],
            "label": "2012.0",
            "method": "animate"
           },
           {
            "args": [
             [
              "2013.0"
             ],
             {
              "frame": {
               "duration": 0,
               "redraw": false
              },
              "fromcurrent": true,
              "mode": "immediate",
              "transition": {
               "duration": 0,
               "easing": "linear"
              }
             }
            ],
            "label": "2013.0",
            "method": "animate"
           },
           {
            "args": [
             [
              "2014.0"
             ],
             {
              "frame": {
               "duration": 0,
               "redraw": false
              },
              "fromcurrent": true,
              "mode": "immediate",
              "transition": {
               "duration": 0,
               "easing": "linear"
              }
             }
            ],
            "label": "2014.0",
            "method": "animate"
           },
           {
            "args": [
             [
              "2015.0"
             ],
             {
              "frame": {
               "duration": 0,
               "redraw": false
              },
              "fromcurrent": true,
              "mode": "immediate",
              "transition": {
               "duration": 0,
               "easing": "linear"
              }
             }
            ],
            "label": "2015.0",
            "method": "animate"
           },
           {
            "args": [
             [
              "2016.0"
             ],
             {
              "frame": {
               "duration": 0,
               "redraw": false
              },
              "fromcurrent": true,
              "mode": "immediate",
              "transition": {
               "duration": 0,
               "easing": "linear"
              }
             }
            ],
            "label": "2016.0",
            "method": "animate"
           },
           {
            "args": [
             [
              "2017.0"
             ],
             {
              "frame": {
               "duration": 0,
               "redraw": false
              },
              "fromcurrent": true,
              "mode": "immediate",
              "transition": {
               "duration": 0,
               "easing": "linear"
              }
             }
            ],
            "label": "2017.0",
            "method": "animate"
           },
           {
            "args": [
             [
              "2018.0"
             ],
             {
              "frame": {
               "duration": 0,
               "redraw": false
              },
              "fromcurrent": true,
              "mode": "immediate",
              "transition": {
               "duration": 0,
               "easing": "linear"
              }
             }
            ],
            "label": "2018.0",
            "method": "animate"
           },
           {
            "args": [
             [
              "2019.0"
             ],
             {
              "frame": {
               "duration": 0,
               "redraw": false
              },
              "fromcurrent": true,
              "mode": "immediate",
              "transition": {
               "duration": 0,
               "easing": "linear"
              }
             }
            ],
            "label": "2019.0",
            "method": "animate"
           },
           {
            "args": [
             [
              "2020.0"
             ],
             {
              "frame": {
               "duration": 0,
               "redraw": false
              },
              "fromcurrent": true,
              "mode": "immediate",
              "transition": {
               "duration": 0,
               "easing": "linear"
              }
             }
            ],
            "label": "2020.0",
            "method": "animate"
           }
          ],
          "x": 0.1,
          "xanchor": "left",
          "y": 0,
          "yanchor": "top"
         }
        ],
        "template": {
         "data": {
          "bar": [
           {
            "error_x": {
             "color": "#2a3f5f"
            },
            "error_y": {
             "color": "#2a3f5f"
            },
            "marker": {
             "line": {
              "color": "#E5ECF6",
              "width": 0.5
             },
             "pattern": {
              "fillmode": "overlay",
              "size": 10,
              "solidity": 0.2
             }
            },
            "type": "bar"
           }
          ],
          "barpolar": [
           {
            "marker": {
             "line": {
              "color": "#E5ECF6",
              "width": 0.5
             },
             "pattern": {
              "fillmode": "overlay",
              "size": 10,
              "solidity": 0.2
             }
            },
            "type": "barpolar"
           }
          ],
          "carpet": [
           {
            "aaxis": {
             "endlinecolor": "#2a3f5f",
             "gridcolor": "white",
             "linecolor": "white",
             "minorgridcolor": "white",
             "startlinecolor": "#2a3f5f"
            },
            "baxis": {
             "endlinecolor": "#2a3f5f",
             "gridcolor": "white",
             "linecolor": "white",
             "minorgridcolor": "white",
             "startlinecolor": "#2a3f5f"
            },
            "type": "carpet"
           }
          ],
          "choropleth": [
           {
            "colorbar": {
             "outlinewidth": 0,
             "ticks": ""
            },
            "type": "choropleth"
           }
          ],
          "contour": [
           {
            "colorbar": {
             "outlinewidth": 0,
             "ticks": ""
            },
            "colorscale": [
             [
              0,
              "#0d0887"
             ],
             [
              0.1111111111111111,
              "#46039f"
             ],
             [
              0.2222222222222222,
              "#7201a8"
             ],
             [
              0.3333333333333333,
              "#9c179e"
             ],
             [
              0.4444444444444444,
              "#bd3786"
             ],
             [
              0.5555555555555556,
              "#d8576b"
             ],
             [
              0.6666666666666666,
              "#ed7953"
             ],
             [
              0.7777777777777778,
              "#fb9f3a"
             ],
             [
              0.8888888888888888,
              "#fdca26"
             ],
             [
              1,
              "#f0f921"
             ]
            ],
            "type": "contour"
           }
          ],
          "contourcarpet": [
           {
            "colorbar": {
             "outlinewidth": 0,
             "ticks": ""
            },
            "type": "contourcarpet"
           }
          ],
          "heatmap": [
           {
            "colorbar": {
             "outlinewidth": 0,
             "ticks": ""
            },
            "colorscale": [
             [
              0,
              "#0d0887"
             ],
             [
              0.1111111111111111,
              "#46039f"
             ],
             [
              0.2222222222222222,
              "#7201a8"
             ],
             [
              0.3333333333333333,
              "#9c179e"
             ],
             [
              0.4444444444444444,
              "#bd3786"
             ],
             [
              0.5555555555555556,
              "#d8576b"
             ],
             [
              0.6666666666666666,
              "#ed7953"
             ],
             [
              0.7777777777777778,
              "#fb9f3a"
             ],
             [
              0.8888888888888888,
              "#fdca26"
             ],
             [
              1,
              "#f0f921"
             ]
            ],
            "type": "heatmap"
           }
          ],
          "heatmapgl": [
           {
            "colorbar": {
             "outlinewidth": 0,
             "ticks": ""
            },
            "colorscale": [
             [
              0,
              "#0d0887"
             ],
             [
              0.1111111111111111,
              "#46039f"
             ],
             [
              0.2222222222222222,
              "#7201a8"
             ],
             [
              0.3333333333333333,
              "#9c179e"
             ],
             [
              0.4444444444444444,
              "#bd3786"
             ],
             [
              0.5555555555555556,
              "#d8576b"
             ],
             [
              0.6666666666666666,
              "#ed7953"
             ],
             [
              0.7777777777777778,
              "#fb9f3a"
             ],
             [
              0.8888888888888888,
              "#fdca26"
             ],
             [
              1,
              "#f0f921"
             ]
            ],
            "type": "heatmapgl"
           }
          ],
          "histogram": [
           {
            "marker": {
             "pattern": {
              "fillmode": "overlay",
              "size": 10,
              "solidity": 0.2
             }
            },
            "type": "histogram"
           }
          ],
          "histogram2d": [
           {
            "colorbar": {
             "outlinewidth": 0,
             "ticks": ""
            },
            "colorscale": [
             [
              0,
              "#0d0887"
             ],
             [
              0.1111111111111111,
              "#46039f"
             ],
             [
              0.2222222222222222,
              "#7201a8"
             ],
             [
              0.3333333333333333,
              "#9c179e"
             ],
             [
              0.4444444444444444,
              "#bd3786"
             ],
             [
              0.5555555555555556,
              "#d8576b"
             ],
             [
              0.6666666666666666,
              "#ed7953"
             ],
             [
              0.7777777777777778,
              "#fb9f3a"
             ],
             [
              0.8888888888888888,
              "#fdca26"
             ],
             [
              1,
              "#f0f921"
             ]
            ],
            "type": "histogram2d"
           }
          ],
          "histogram2dcontour": [
           {
            "colorbar": {
             "outlinewidth": 0,
             "ticks": ""
            },
            "colorscale": [
             [
              0,
              "#0d0887"
             ],
             [
              0.1111111111111111,
              "#46039f"
             ],
             [
              0.2222222222222222,
              "#7201a8"
             ],
             [
              0.3333333333333333,
              "#9c179e"
             ],
             [
              0.4444444444444444,
              "#bd3786"
             ],
             [
              0.5555555555555556,
              "#d8576b"
             ],
             [
              0.6666666666666666,
              "#ed7953"
             ],
             [
              0.7777777777777778,
              "#fb9f3a"
             ],
             [
              0.8888888888888888,
              "#fdca26"
             ],
             [
              1,
              "#f0f921"
             ]
            ],
            "type": "histogram2dcontour"
           }
          ],
          "mesh3d": [
           {
            "colorbar": {
             "outlinewidth": 0,
             "ticks": ""
            },
            "type": "mesh3d"
           }
          ],
          "parcoords": [
           {
            "line": {
             "colorbar": {
              "outlinewidth": 0,
              "ticks": ""
             }
            },
            "type": "parcoords"
           }
          ],
          "pie": [
           {
            "automargin": true,
            "type": "pie"
           }
          ],
          "scatter": [
           {
            "marker": {
             "colorbar": {
              "outlinewidth": 0,
              "ticks": ""
             }
            },
            "type": "scatter"
           }
          ],
          "scatter3d": [
           {
            "line": {
             "colorbar": {
              "outlinewidth": 0,
              "ticks": ""
             }
            },
            "marker": {
             "colorbar": {
              "outlinewidth": 0,
              "ticks": ""
             }
            },
            "type": "scatter3d"
           }
          ],
          "scattercarpet": [
           {
            "marker": {
             "colorbar": {
              "outlinewidth": 0,
              "ticks": ""
             }
            },
            "type": "scattercarpet"
           }
          ],
          "scattergeo": [
           {
            "marker": {
             "colorbar": {
              "outlinewidth": 0,
              "ticks": ""
             }
            },
            "type": "scattergeo"
           }
          ],
          "scattergl": [
           {
            "marker": {
             "colorbar": {
              "outlinewidth": 0,
              "ticks": ""
             }
            },
            "type": "scattergl"
           }
          ],
          "scattermapbox": [
           {
            "marker": {
             "colorbar": {
              "outlinewidth": 0,
              "ticks": ""
             }
            },
            "type": "scattermapbox"
           }
          ],
          "scatterpolar": [
           {
            "marker": {
             "colorbar": {
              "outlinewidth": 0,
              "ticks": ""
             }
            },
            "type": "scatterpolar"
           }
          ],
          "scatterpolargl": [
           {
            "marker": {
             "colorbar": {
              "outlinewidth": 0,
              "ticks": ""
             }
            },
            "type": "scatterpolargl"
           }
          ],
          "scatterternary": [
           {
            "marker": {
             "colorbar": {
              "outlinewidth": 0,
              "ticks": ""
             }
            },
            "type": "scatterternary"
           }
          ],
          "surface": [
           {
            "colorbar": {
             "outlinewidth": 0,
             "ticks": ""
            },
            "colorscale": [
             [
              0,
              "#0d0887"
             ],
             [
              0.1111111111111111,
              "#46039f"
             ],
             [
              0.2222222222222222,
              "#7201a8"
             ],
             [
              0.3333333333333333,
              "#9c179e"
             ],
             [
              0.4444444444444444,
              "#bd3786"
             ],
             [
              0.5555555555555556,
              "#d8576b"
             ],
             [
              0.6666666666666666,
              "#ed7953"
             ],
             [
              0.7777777777777778,
              "#fb9f3a"
             ],
             [
              0.8888888888888888,
              "#fdca26"
             ],
             [
              1,
              "#f0f921"
             ]
            ],
            "type": "surface"
           }
          ],
          "table": [
           {
            "cells": {
             "fill": {
              "color": "#EBF0F8"
             },
             "line": {
              "color": "white"
             }
            },
            "header": {
             "fill": {
              "color": "#C8D4E3"
             },
             "line": {
              "color": "white"
             }
            },
            "type": "table"
           }
          ]
         },
         "layout": {
          "annotationdefaults": {
           "arrowcolor": "#2a3f5f",
           "arrowhead": 0,
           "arrowwidth": 1
          },
          "autotypenumbers": "strict",
          "coloraxis": {
           "colorbar": {
            "outlinewidth": 0,
            "ticks": ""
           }
          },
          "colorscale": {
           "diverging": [
            [
             0,
             "#8e0152"
            ],
            [
             0.1,
             "#c51b7d"
            ],
            [
             0.2,
             "#de77ae"
            ],
            [
             0.3,
             "#f1b6da"
            ],
            [
             0.4,
             "#fde0ef"
            ],
            [
             0.5,
             "#f7f7f7"
            ],
            [
             0.6,
             "#e6f5d0"
            ],
            [
             0.7,
             "#b8e186"
            ],
            [
             0.8,
             "#7fbc41"
            ],
            [
             0.9,
             "#4d9221"
            ],
            [
             1,
             "#276419"
            ]
           ],
           "sequential": [
            [
             0,
             "#0d0887"
            ],
            [
             0.1111111111111111,
             "#46039f"
            ],
            [
             0.2222222222222222,
             "#7201a8"
            ],
            [
             0.3333333333333333,
             "#9c179e"
            ],
            [
             0.4444444444444444,
             "#bd3786"
            ],
            [
             0.5555555555555556,
             "#d8576b"
            ],
            [
             0.6666666666666666,
             "#ed7953"
            ],
            [
             0.7777777777777778,
             "#fb9f3a"
            ],
            [
             0.8888888888888888,
             "#fdca26"
            ],
            [
             1,
             "#f0f921"
            ]
           ],
           "sequentialminus": [
            [
             0,
             "#0d0887"
            ],
            [
             0.1111111111111111,
             "#46039f"
            ],
            [
             0.2222222222222222,
             "#7201a8"
            ],
            [
             0.3333333333333333,
             "#9c179e"
            ],
            [
             0.4444444444444444,
             "#bd3786"
            ],
            [
             0.5555555555555556,
             "#d8576b"
            ],
            [
             0.6666666666666666,
             "#ed7953"
            ],
            [
             0.7777777777777778,
             "#fb9f3a"
            ],
            [
             0.8888888888888888,
             "#fdca26"
            ],
            [
             1,
             "#f0f921"
            ]
           ]
          },
          "colorway": [
           "#636efa",
           "#EF553B",
           "#00cc96",
           "#ab63fa",
           "#FFA15A",
           "#19d3f3",
           "#FF6692",
           "#B6E880",
           "#FF97FF",
           "#FECB52"
          ],
          "font": {
           "color": "#2a3f5f"
          },
          "geo": {
           "bgcolor": "white",
           "lakecolor": "white",
           "landcolor": "#E5ECF6",
           "showlakes": true,
           "showland": true,
           "subunitcolor": "white"
          },
          "hoverlabel": {
           "align": "left"
          },
          "hovermode": "closest",
          "mapbox": {
           "style": "light"
          },
          "paper_bgcolor": "white",
          "plot_bgcolor": "#E5ECF6",
          "polar": {
           "angularaxis": {
            "gridcolor": "white",
            "linecolor": "white",
            "ticks": ""
           },
           "bgcolor": "#E5ECF6",
           "radialaxis": {
            "gridcolor": "white",
            "linecolor": "white",
            "ticks": ""
           }
          },
          "scene": {
           "xaxis": {
            "backgroundcolor": "#E5ECF6",
            "gridcolor": "white",
            "gridwidth": 2,
            "linecolor": "white",
            "showbackground": true,
            "ticks": "",
            "zerolinecolor": "white"
           },
           "yaxis": {
            "backgroundcolor": "#E5ECF6",
            "gridcolor": "white",
            "gridwidth": 2,
            "linecolor": "white",
            "showbackground": true,
            "ticks": "",
            "zerolinecolor": "white"
           },
           "zaxis": {
            "backgroundcolor": "#E5ECF6",
            "gridcolor": "white",
            "gridwidth": 2,
            "linecolor": "white",
            "showbackground": true,
            "ticks": "",
            "zerolinecolor": "white"
           }
          },
          "shapedefaults": {
           "line": {
            "color": "#2a3f5f"
           }
          },
          "ternary": {
           "aaxis": {
            "gridcolor": "white",
            "linecolor": "white",
            "ticks": ""
           },
           "baxis": {
            "gridcolor": "white",
            "linecolor": "white",
            "ticks": ""
           },
           "bgcolor": "#E5ECF6",
           "caxis": {
            "gridcolor": "white",
            "linecolor": "white",
            "ticks": ""
           }
          },
          "title": {
           "x": 0.05
          },
          "xaxis": {
           "automargin": true,
           "gridcolor": "white",
           "linecolor": "white",
           "ticks": "",
           "title": {
            "standoff": 15
           },
           "zerolinecolor": "white",
           "zerolinewidth": 2
          },
          "yaxis": {
           "automargin": true,
           "gridcolor": "white",
           "linecolor": "white",
           "ticks": "",
           "title": {
            "standoff": 15
           },
           "zerolinecolor": "white",
           "zerolinewidth": 2
          }
         }
        },
        "title": {
         "text": "The Number of Clients for Big 6 Audit Firms"
        },
        "updatemenus": [
         {
          "active": 0,
          "buttons": [
           {
            "args": [
             null,
             {
              "frame": {
               "duration": 500,
               "redraw": false
              },
              "fromcurrent": true,
              "mode": "immediate",
              "transition": {
               "duration": 500,
               "easing": "linear"
              }
             }
            ],
            "label": "&#9654;",
            "method": "animate"
           },
           {
            "args": [
             [
              null
             ],
             {
              "frame": {
               "duration": 0,
               "redraw": false
              },
              "fromcurrent": true,
              "mode": "immediate",
              "transition": {
               "duration": 0,
               "easing": "linear"
              }
             }
            ],
            "label": "&#9724;",
            "method": "animate"
           }
          ],
          "direction": "left",
          "pad": {
           "r": 10,
           "t": 70
          },
          "showactive": false,
          "type": "buttons",
          "x": 0.1,
          "xanchor": "right",
          "y": 0,
          "yanchor": "top"
         }
        ],
        "xaxis": {
         "anchor": "y",
         "categoryarray": [
          2000,
          2001,
          2002,
          2003,
          2004,
          2005,
          2006,
          2007,
          2008,
          2009,
          2010,
          2011,
          2012,
          2013,
          2014,
          2015,
          2016,
          2017,
          2018,
          2019,
          2020
         ],
         "categoryorder": "array",
         "domain": [
          0,
          1
         ],
         "range": [
          2000,
          2020
         ],
         "title": {
          "text": "Fiscal Year"
         },
         "type": "linear"
        },
        "yaxis": {
         "anchor": "x",
         "domain": [
          0,
          1
         ],
         "range": [
          -100,
          3500
         ],
         "title": {
          "text": "# of Clients"
         },
         "type": "linear"
        }
       }
      },
      "image/png": "[encoded data removed]",
      "text/html": [
       "<div>                            <div id=\"4ae62fee-12b7-4806-a767-c645d8bdc7f0\" class=\"plotly-graph-div\" style=\"height:600px; width:100%;\"></div>            <script type=\"text/javascript\">                require([\"plotly\"], function(Plotly) {                    window.PLOTLYENV=window.PLOTLYENV || {};                                    if (document.getElementById(\"4ae62fee-12b7-4806-a767-c645d8bdc7f0\")) {                    Plotly.newPlot(                        \"4ae62fee-12b7-4806-a767-c645d8bdc7f0\",                        [{\"hovertemplate\":\"<b>%{hovertext}</b><br><br>Audit Firm Name=Arthur Andersen<br>Fiscal Year=%{x}<br># of Clients=%{y}<br>bubble_size=%{marker.size}<extra></extra>\",\"hovertext\":[\"Arthur Andersen\"],\"ids\":[\"Arthur Andersen\"],\"legendgroup\":\"Arthur Andersen\",\"marker\":{\"color\":\"#636efa\",\"size\":[2549],\"sizemode\":\"area\",\"sizeref\":3.6733333333333333,\"symbol\":\"circle\"},\"mode\":\"markers\",\"name\":\"Arthur Andersen\",\"orientation\":\"v\",\"showlegend\":true,\"x\":[2000.0],\"xaxis\":\"x\",\"y\":[2549],\"yaxis\":\"y\",\"type\":\"scatter\"},{\"hovertemplate\":\"<b>%{hovertext}</b><br><br>Audit Firm Name=Deloitte & Touche<br>Fiscal Year=%{x}<br># of Clients=%{y}<br>bubble_size=%{marker.size}<extra></extra>\",\"hovertext\":[\"Deloitte & Touche\"],\"ids\":[\"Deloitte & Touche\"],\"legendgroup\":\"Deloitte & Touche\",\"marker\":{\"color\":\"#EF553B\",\"size\":[2884],\"sizemode\":\"area\",\"sizeref\":3.6733333333333333,\"symbol\":\"circle\"},\"mode\":\"markers\",\"name\":\"Deloitte & Touche\",\"orientation\":\"v\",\"showlegend\":true,\"x\":[2000.0],\"xaxis\":\"x\",\"y\":[2884],\"yaxis\":\"y\",\"type\":\"scatter\"},{\"hovertemplate\":\"<b>%{hovertext}</b><br><br>Audit Firm Name=Ernst & Young<br>Fiscal Year=%{x}<br># of Clients=%{y}<br>bubble_size=%{marker.size}<extra></extra>\",\"hovertext\":[\"Ernst & Young\"],\"ids\":[\"Ernst & Young\"],\"legendgroup\":\"Ernst & Young\",\"marker\":{\"color\":\"#00cc96\",\"size\":[3306],\"sizemode\":\"area\",\"sizeref\":3.6733333333333333,\"symbol\":\"circle\"},\"mode\":\"markers\",\"name\":\"Ernst & Young\",\"orientation\":\"v\",\"showlegend\":true,\"x\":[2000.0],\"xaxis\":\"x\",\"y\":[3306],\"yaxis\":\"y\",\"type\":\"scatter\"},{\"hovertemplate\":\"<b>%{hovertext}</b><br><br>Audit Firm Name=Grant Thornton<br>Fiscal Year=%{x}<br># of Clients=%{y}<br>bubble_size=%{marker.size}<extra></extra>\",\"hovertext\":[\"Grant Thornton\"],\"ids\":[\"Grant Thornton\"],\"legendgroup\":\"Grant Thornton\",\"marker\":{\"color\":\"#ab63fa\",\"size\":[981],\"sizemode\":\"area\",\"sizeref\":3.6733333333333333,\"symbol\":\"circle\"},\"mode\":\"markers\",\"name\":\"Grant Thornton\",\"orientation\":\"v\",\"showlegend\":true,\"x\":[2000.0],\"xaxis\":\"x\",\"y\":[981],\"yaxis\":\"y\",\"type\":\"scatter\"},{\"hovertemplate\":\"<b>%{hovertext}</b><br><br>Audit Firm Name=KPMG<br>Fiscal Year=%{x}<br># of Clients=%{y}<br>bubble_size=%{marker.size}<extra></extra>\",\"hovertext\":[\"KPMG\"],\"ids\":[\"KPMG\"],\"legendgroup\":\"KPMG\",\"marker\":{\"color\":\"#FFA15A\",\"size\":[1998],\"sizemode\":\"area\",\"sizeref\":3.6733333333333333,\"symbol\":\"circle\"},\"mode\":\"markers\",\"name\":\"KPMG\",\"orientation\":\"v\",\"showlegend\":true,\"x\":[2000.0],\"xaxis\":\"x\",\"y\":[1998],\"yaxis\":\"y\",\"type\":\"scatter\"},{\"hovertemplate\":\"<b>%{hovertext}</b><br><br>Audit Firm Name=PwC<br>Fiscal Year=%{x}<br># of Clients=%{y}<br>bubble_size=%{marker.size}<extra></extra>\",\"hovertext\":[\"PwC\"],\"ids\":[\"PwC\"],\"legendgroup\":\"PwC\",\"marker\":{\"color\":\"#19d3f3\",\"size\":[3098],\"sizemode\":\"area\",\"sizeref\":3.6733333333333333,\"symbol\":\"circle\"},\"mode\":\"markers\",\"name\":\"PwC\",\"orientation\":\"v\",\"showlegend\":true,\"x\":[2000.0],\"xaxis\":\"x\",\"y\":[3098],\"yaxis\":\"y\",\"type\":\"scatter\"}],                        {\"template\":{\"data\":{\"bar\":[{\"error_x\":{\"color\":\"#2a3f5f\"},\"error_y\":{\"color\":\"#2a3f5f\"},\"marker\":{\"line\":{\"color\":\"#E5ECF6\",\"width\":0.5},\"pattern\":{\"fillmode\":\"overlay\",\"size\":10,\"solidity\":0.2}},\"type\":\"bar\"}],\"barpolar\":[{\"marker\":{\"line\":{\"color\":\"#E5ECF6\",\"width\":0.5},\"pattern\":{\"fillmode\":\"overlay\",\"size\":10,\"solidity\":0.2}},\"type\":\"barpolar\"}],\"carpet\":[{\"aaxis\":{\"endlinecolor\":\"#2a3f5f\",\"gridcolor\":\"white\",\"linecolor\":\"white\",\"minorgridcolor\":\"white\",\"startlinecolor\":\"#2a3f5f\"},\"baxis\":{\"endlinecolor\":\"#2a3f5f\",\"gridcolor\":\"white\",\"linecolor\":\"white\",\"minorgridcolor\":\"white\",\"startlinecolor\":\"#2a3f5f\"},\"type\":\"carpet\"}],\"choropleth\":[{\"colorbar\":{\"outlinewidth\":0,\"ticks\":\"\"},\"type\":\"choropleth\"}],\"contour\":[{\"colorbar\":{\"outlinewidth\":0,\"ticks\":\"\"},\"colorscale\":[[0.0,\"#0d0887\"],[0.1111111111111111,\"#46039f\"],[0.2222222222222222,\"#7201a8\"],[0.3333333333333333,\"#9c179e\"],[0.4444444444444444,\"#bd3786\"],[0.5555555555555556,\"#d8576b\"],[0.6666666666666666,\"#ed7953\"],[0.7777777777777778,\"#fb9f3a\"],[0.8888888888888888,\"#fdca26\"],[1.0,\"#f0f921\"]],\"type\":\"contour\"}],\"contourcarpet\":[{\"colorbar\":{\"outlinewidth\":0,\"ticks\":\"\"},\"type\":\"contourcarpet\"}],\"heatmap\":[{\"colorbar\":{\"outlinewidth\":0,\"ticks\":\"\"},\"colorscale\":[[0.0,\"#0d0887\"],[0.1111111111111111,\"#46039f\"],[0.2222222222222222,\"#7201a8\"],[0.3333333333333333,\"#9c179e\"],[0.4444444444444444,\"#bd3786\"],[0.5555555555555556,\"#d8576b\"],[0.6666666666666666,\"#ed7953\"],[0.7777777777777778,\"#fb9f3a\"],[0.8888888888888888,\"#fdca26\"],[1.0,\"#f0f921\"]],\"type\":\"heatmap\"}],\"heatmapgl\":[{\"colorbar\":{\"outlinewidth\":0,\"ticks\":\"\"},\"colorscale\":[[0.0,\"#0d0887\"],[0.1111111111111111,\"#46039f\"],[0.2222222222222222,\"#7201a8\"],[0.3333333333333333,\"#9c179e\"],[0.4444444444444444,\"#bd3786\"],[0.5555555555555556,\"#d8576b\"],[0.6666666666666666,\"#ed7953\"],[0.7777777777777778,\"#fb9f3a\"],[0.8888888888888888,\"#fdca26\"],[1.0,\"#f0f921\"]],\"type\":\"heatmapgl\"}],\"histogram\":[{\"marker\":{\"pattern\":{\"fillmode\":\"overlay\",\"size\":10,\"solidity\":0.2}},\"type\":\"histogram\"}],\"histogram2d\":[{\"colorbar\":{\"outlinewidth\":0,\"ticks\":\"\"},\"colorscale\":[[0.0,\"#0d0887\"],[0.1111111111111111,\"#46039f\"],[0.2222222222222222,\"#7201a8\"],[0.3333333333333333,\"#9c179e\"],[0.4444444444444444,\"#bd3786\"],[0.5555555555555556,\"#d8576b\"],[0.6666666666666666,\"#ed7953\"],[0.7777777777777778,\"#fb9f3a\"],[0.8888888888888888,\"#fdca26\"],[1.0,\"#f0f921\"]],\"type\":\"histogram2d\"}],\"histogram2dcontour\":[{\"colorbar\":{\"outlinewidth\":0,\"ticks\":\"\"},\"colorscale\":[[0.0,\"#0d0887\"],[0.1111111111111111,\"#46039f\"],[0.2222222222222222,\"#7201a8\"],[0.3333333333333333,\"#9c179e\"],[0.4444444444444444,\"#bd3786\"],[0.5555555555555556,\"#d8576b\"],[0.6666666666666666,\"#ed7953\"],[0.7777777777777778,\"#fb9f3a\"],[0.8888888888888888,\"#fdca26\"],[1.0,\"#f0f921\"]],\"type\":\"histogram2dcontour\"}],\"mesh3d\":[{\"colorbar\":{\"outlinewidth\":0,\"ticks\":\"\"},\"type\":\"mesh3d\"}],\"parcoords\":[{\"line\":{\"colorbar\":{\"outlinewidth\":0,\"ticks\":\"\"}},\"type\":\"parcoords\"}],\"pie\":[{\"automargin\":true,\"type\":\"pie\"}],\"scatter\":[{\"marker\":{\"colorbar\":{\"outlinewidth\":0,\"ticks\":\"\"}},\"type\":\"scatter\"}],\"scatter3d\":[{\"line\":{\"colorbar\":{\"outlinewidth\":0,\"ticks\":\"\"}},\"marker\":{\"colorbar\":{\"outlinewidth\":0,\"ticks\":\"\"}},\"type\":\"scatter3d\"}],\"scattercarpet\":[{\"marker\":{\"colorbar\":{\"outlinewidth\":0,\"ticks\":\"\"}},\"type\":\"scattercarpet\"}],\"scattergeo\":[{\"marker\":{\"colorbar\":{\"outlinewidth\":0,\"ticks\":\"\"}},\"type\":\"scattergeo\"}],\"scattergl\":[{\"marker\":{\"colorbar\":{\"outlinewidth\":0,\"ticks\":\"\"}},\"type\":\"scattergl\"}],\"scattermapbox\":[{\"marker\":{\"colorbar\":{\"outlinewidth\":0,\"ticks\":\"\"}},\"type\":\"scattermapbox\"}],\"scatterpolar\":[{\"marker\":{\"colorbar\":{\"outlinewidth\":0,\"ticks\":\"\"}},\"type\":\"scatterpolar\"}],\"scatterpolargl\":[{\"marker\":{\"colorbar\":{\"outlinewidth\":0,\"ticks\":\"\"}},\"type\":\"scatterpolargl\"}],\"scatterternary\":[{\"marker\":{\"colorbar\":{\"outlinewidth\":0,\"ticks\":\"\"}},\"type\":\"scatterternary\"}],\"surface\":[{\"colorbar\":{\"outlinewidth\":0,\"ticks\":\"\"},\"colorscale\":[[0.0,\"#0d0887\"],[0.1111111111111111,\"#46039f\"],[0.2222222222222222,\"#7201a8\"],[0.3333333333333333,\"#9c179e\"],[0.4444444444444444,\"#bd3786\"],[0.5555555555555556,\"#d8576b\"],[0.6666666666666666,\"#ed7953\"],[0.7777777777777778,\"#fb9f3a\"],[0.8888888888888888,\"#fdca26\"],[1.0,\"#f0f921\"]],\"type\":\"surface\"}],\"table\":[{\"cells\":{\"fill\":{\"color\":\"#EBF0F8\"},\"line\":{\"color\":\"white\"}},\"header\":{\"fill\":{\"color\":\"#C8D4E3\"},\"line\":{\"color\":\"white\"}},\"type\":\"table\"}]},\"layout\":{\"annotationdefaults\":{\"arrowcolor\":\"#2a3f5f\",\"arrowhead\":0,\"arrowwidth\":1},\"autotypenumbers\":\"strict\",\"coloraxis\":{\"colorbar\":{\"outlinewidth\":0,\"ticks\":\"\"}},\"colorscale\":{\"diverging\":[[0,\"#8e0152\"],[0.1,\"#c51b7d\"],[0.2,\"#de77ae\"],[0.3,\"#f1b6da\"],[0.4,\"#fde0ef\"],[0.5,\"#f7f7f7\"],[0.6,\"#e6f5d0\"],[0.7,\"#b8e186\"],[0.8,\"#7fbc41\"],[0.9,\"#4d9221\"],[1,\"#276419\"]],\"sequential\":[[0.0,\"#0d0887\"],[0.1111111111111111,\"#46039f\"],[0.2222222222222222,\"#7201a8\"],[0.3333333333333333,\"#9c179e\"],[0.4444444444444444,\"#bd3786\"],[0.5555555555555556,\"#d8576b\"],[0.6666666666666666,\"#ed7953\"],[0.7777777777777778,\"#fb9f3a\"],[0.8888888888888888,\"#fdca26\"],[1.0,\"#f0f921\"]],\"sequentialminus\":[[0.0,\"#0d0887\"],[0.1111111111111111,\"#46039f\"],[0.2222222222222222,\"#7201a8\"],[0.3333333333333333,\"#9c179e\"],[0.4444444444444444,\"#bd3786\"],[0.5555555555555556,\"#d8576b\"],[0.6666666666666666,\"#ed7953\"],[0.7777777777777778,\"#fb9f3a\"],[0.8888888888888888,\"#fdca26\"],[1.0,\"#f0f921\"]]},\"colorway\":[\"#636efa\",\"#EF553B\",\"#00cc96\",\"#ab63fa\",\"#FFA15A\",\"#19d3f3\",\"#FF6692\",\"#B6E880\",\"#FF97FF\",\"#FECB52\"],\"font\":{\"color\":\"#2a3f5f\"},\"geo\":{\"bgcolor\":\"white\",\"lakecolor\":\"white\",\"landcolor\":\"#E5ECF6\",\"showlakes\":true,\"showland\":true,\"subunitcolor\":\"white\"},\"hoverlabel\":{\"align\":\"left\"},\"hovermode\":\"closest\",\"mapbox\":{\"style\":\"light\"},\"paper_bgcolor\":\"white\",\"plot_bgcolor\":\"#E5ECF6\",\"polar\":{\"angularaxis\":{\"gridcolor\":\"white\",\"linecolor\":\"white\",\"ticks\":\"\"},\"bgcolor\":\"#E5ECF6\",\"radialaxis\":{\"gridcolor\":\"white\",\"linecolor\":\"white\",\"ticks\":\"\"}},\"scene\":{\"xaxis\":{\"backgroundcolor\":\"#E5ECF6\",\"gridcolor\":\"white\",\"gridwidth\":2,\"linecolor\":\"white\",\"showbackground\":true,\"ticks\":\"\",\"zerolinecolor\":\"white\"},\"yaxis\":{\"backgroundcolor\":\"#E5ECF6\",\"gridcolor\":\"white\",\"gridwidth\":2,\"linecolor\":\"white\",\"showbackground\":true,\"ticks\":\"\",\"zerolinecolor\":\"white\"},\"zaxis\":{\"backgroundcolor\":\"#E5ECF6\",\"gridcolor\":\"white\",\"gridwidth\":2,\"linecolor\":\"white\",\"showbackground\":true,\"ticks\":\"\",\"zerolinecolor\":\"white\"}},\"shapedefaults\":{\"line\":{\"color\":\"#2a3f5f\"}},\"ternary\":{\"aaxis\":{\"gridcolor\":\"white\",\"linecolor\":\"white\",\"ticks\":\"\"},\"baxis\":{\"gridcolor\":\"white\",\"linecolor\":\"white\",\"ticks\":\"\"},\"bgcolor\":\"#E5ECF6\",\"caxis\":{\"gridcolor\":\"white\",\"linecolor\":\"white\",\"ticks\":\"\"}},\"title\":{\"x\":0.05},\"xaxis\":{\"automargin\":true,\"gridcolor\":\"white\",\"linecolor\":\"white\",\"ticks\":\"\",\"title\":{\"standoff\":15},\"zerolinecolor\":\"white\",\"zerolinewidth\":2},\"yaxis\":{\"automargin\":true,\"gridcolor\":\"white\",\"linecolor\":\"white\",\"ticks\":\"\",\"title\":{\"standoff\":15},\"zerolinecolor\":\"white\",\"zerolinewidth\":2}}},\"xaxis\":{\"anchor\":\"y\",\"domain\":[0.0,1.0],\"title\":{\"text\":\"Fiscal Year\"},\"range\":[2000,2020],\"categoryorder\":\"array\",\"categoryarray\":[2000.0,2001.0,2002.0,2003.0,2004.0,2005.0,2006.0,2007.0,2008.0,2009.0,2010.0,2011.0,2012.0,2013.0,2014.0,2015.0,2016.0,2017.0,2018.0,2019.0,2020.0]},\"yaxis\":{\"anchor\":\"x\",\"domain\":[0.0,1.0],\"title\":{\"text\":\"# of Clients\"},\"range\":[-100,3500]},\"legend\":{\"title\":{\"text\":\"Audit Firm Name\"},\"tracegroupgap\":0,\"itemsizing\":\"constant\"},\"title\":{\"text\":\"The Number of Clients for Big 6 Audit Firms\"},\"height\":600,\"updatemenus\":[{\"buttons\":[{\"args\":[null,{\"frame\":{\"duration\":500,\"redraw\":false},\"mode\":\"immediate\",\"fromcurrent\":true,\"transition\":{\"duration\":500,\"easing\":\"linear\"}}],\"label\":\"&#9654;\",\"method\":\"animate\"},{\"args\":[[null],{\"frame\":{\"duration\":0,\"redraw\":false},\"mode\":\"immediate\",\"fromcurrent\":true,\"transition\":{\"duration\":0,\"easing\":\"linear\"}}],\"label\":\"&#9724;\",\"method\":\"animate\"}],\"direction\":\"left\",\"pad\":{\"r\":10,\"t\":70},\"showactive\":false,\"type\":\"buttons\",\"x\":0.1,\"xanchor\":\"right\",\"y\":0,\"yanchor\":\"top\"}],\"sliders\":[{\"active\":0,\"currentvalue\":{\"prefix\":\"Fiscal Year=\"},\"len\":0.9,\"pad\":{\"b\":10,\"t\":60},\"steps\":[{\"args\":[[\"2000.0\"],{\"frame\":{\"duration\":0,\"redraw\":false},\"mode\":\"immediate\",\"fromcurrent\":true,\"transition\":{\"duration\":0,\"easing\":\"linear\"}}],\"label\":\"2000.0\",\"method\":\"animate\"},{\"args\":[[\"2001.0\"],{\"frame\":{\"duration\":0,\"redraw\":false},\"mode\":\"immediate\",\"fromcurrent\":true,\"transition\":{\"duration\":0,\"easing\":\"linear\"}}],\"label\":\"2001.0\",\"method\":\"animate\"},{\"args\":[[\"2002.0\"],{\"frame\":{\"duration\":0,\"redraw\":false},\"mode\":\"immediate\",\"fromcurrent\":true,\"transition\":{\"duration\":0,\"easing\":\"linear\"}}],\"label\":\"2002.0\",\"method\":\"animate\"},{\"args\":[[\"2003.0\"],{\"frame\":{\"duration\":0,\"redraw\":false},\"mode\":\"immediate\",\"fromcurrent\":true,\"transition\":{\"duration\":0,\"easing\":\"linear\"}}],\"label\":\"2003.0\",\"method\":\"animate\"},{\"args\":[[\"2004.0\"],{\"frame\":{\"duration\":0,\"redraw\":false},\"mode\":\"immediate\",\"fromcurrent\":true,\"transition\":{\"duration\":0,\"easing\":\"linear\"}}],\"label\":\"2004.0\",\"method\":\"animate\"},{\"args\":[[\"2005.0\"],{\"frame\":{\"duration\":0,\"redraw\":false},\"mode\":\"immediate\",\"fromcurrent\":true,\"transition\":{\"duration\":0,\"easing\":\"linear\"}}],\"label\":\"2005.0\",\"method\":\"animate\"},{\"args\":[[\"2006.0\"],{\"frame\":{\"duration\":0,\"redraw\":false},\"mode\":\"immediate\",\"fromcurrent\":true,\"transition\":{\"duration\":0,\"easing\":\"linear\"}}],\"label\":\"2006.0\",\"method\":\"animate\"},{\"args\":[[\"2007.0\"],{\"frame\":{\"duration\":0,\"redraw\":false},\"mode\":\"immediate\",\"fromcurrent\":true,\"transition\":{\"duration\":0,\"easing\":\"linear\"}}],\"label\":\"2007.0\",\"method\":\"animate\"},{\"args\":[[\"2008.0\"],{\"frame\":{\"duration\":0,\"redraw\":false},\"mode\":\"immediate\",\"fromcurrent\":true,\"transition\":{\"duration\":0,\"easing\":\"linear\"}}],\"label\":\"2008.0\",\"method\":\"animate\"},{\"args\":[[\"2009.0\"],{\"frame\":{\"duration\":0,\"redraw\":false},\"mode\":\"immediate\",\"fromcurrent\":true,\"transition\":{\"duration\":0,\"easing\":\"linear\"}}],\"label\":\"2009.0\",\"method\":\"animate\"},{\"args\":[[\"2010.0\"],{\"frame\":{\"duration\":0,\"redraw\":false},\"mode\":\"immediate\",\"fromcurrent\":true,\"transition\":{\"duration\":0,\"easing\":\"linear\"}}],\"label\":\"2010.0\",\"method\":\"animate\"},{\"args\":[[\"2011.0\"],{\"frame\":{\"duration\":0,\"redraw\":false},\"mode\":\"immediate\",\"fromcurrent\":true,\"transition\":{\"duration\":0,\"easing\":\"linear\"}}],\"label\":\"2011.0\",\"method\":\"animate\"},{\"args\":[[\"2012.0\"],{\"frame\":{\"duration\":0,\"redraw\":false},\"mode\":\"immediate\",\"fromcurrent\":true,\"transition\":{\"duration\":0,\"easing\":\"linear\"}}],\"label\":\"2012.0\",\"method\":\"animate\"},{\"args\":[[\"2013.0\"],{\"frame\":{\"duration\":0,\"redraw\":false},\"mode\":\"immediate\",\"fromcurrent\":true,\"transition\":{\"duration\":0,\"easing\":\"linear\"}}],\"label\":\"2013.0\",\"method\":\"animate\"},{\"args\":[[\"2014.0\"],{\"frame\":{\"duration\":0,\"redraw\":false},\"mode\":\"immediate\",\"fromcurrent\":true,\"transition\":{\"duration\":0,\"easing\":\"linear\"}}],\"label\":\"2014.0\",\"method\":\"animate\"},{\"args\":[[\"2015.0\"],{\"frame\":{\"duration\":0,\"redraw\":false},\"mode\":\"immediate\",\"fromcurrent\":true,\"transition\":{\"duration\":0,\"easing\":\"linear\"}}],\"label\":\"2015.0\",\"method\":\"animate\"},{\"args\":[[\"2016.0\"],{\"frame\":{\"duration\":0,\"redraw\":false},\"mode\":\"immediate\",\"fromcurrent\":true,\"transition\":{\"duration\":0,\"easing\":\"linear\"}}],\"label\":\"2016.0\",\"method\":\"animate\"},{\"args\":[[\"2017.0\"],{\"frame\":{\"duration\":0,\"redraw\":false},\"mode\":\"immediate\",\"fromcurrent\":true,\"transition\":{\"duration\":0,\"easing\":\"linear\"}}],\"label\":\"2017.0\",\"method\":\"animate\"},{\"args\":[[\"2018.0\"],{\"frame\":{\"duration\":0,\"redraw\":false},\"mode\":\"immediate\",\"fromcurrent\":true,\"transition\":{\"duration\":0,\"easing\":\"linear\"}}],\"label\":\"2018.0\",\"method\":\"animate\"},{\"args\":[[\"2019.0\"],{\"frame\":{\"duration\":0,\"redraw\":false},\"mode\":\"immediate\",\"fromcurrent\":true,\"transition\":{\"duration\":0,\"easing\":\"linear\"}}],\"label\":\"2019.0\",\"method\":\"animate\"},{\"args\":[[\"2020.0\"],{\"frame\":{\"duration\":0,\"redraw\":false},\"mode\":\"immediate\",\"fromcurrent\":true,\"transition\":{\"duration\":0,\"easing\":\"linear\"}}],\"label\":\"2020.0\",\"method\":\"animate\"}],\"x\":0.1,\"xanchor\":\"left\",\"y\":0,\"yanchor\":\"top\"}]},                        {\"responsive\": true}                    ).then(function(){\n",
       "                            Plotly.addFrames('4ae62fee-12b7-4806-a767-c645d8bdc7f0', [{\"data\":[{\"hovertemplate\":\"<b>%{hovertext}</b><br><br>Audit Firm Name=Arthur Andersen<br>Fiscal Year=%{x}<br># of Clients=%{y}<br>bubble_size=%{marker.size}<extra></extra>\",\"hovertext\":[\"Arthur Andersen\"],\"ids\":[\"Arthur Andersen\"],\"legendgroup\":\"Arthur Andersen\",\"marker\":{\"color\":\"#636efa\",\"size\":[2549],\"sizemode\":\"area\",\"sizeref\":3.6733333333333333,\"symbol\":\"circle\"},\"mode\":\"markers\",\"name\":\"Arthur Andersen\",\"orientation\":\"v\",\"showlegend\":true,\"x\":[2000.0],\"xaxis\":\"x\",\"y\":[2549],\"yaxis\":\"y\",\"type\":\"scatter\"},{\"hovertemplate\":\"<b>%{hovertext}</b><br><br>Audit Firm Name=Deloitte & Touche<br>Fiscal Year=%{x}<br># of Clients=%{y}<br>bubble_size=%{marker.size}<extra></extra>\",\"hovertext\":[\"Deloitte & Touche\"],\"ids\":[\"Deloitte & Touche\"],\"legendgroup\":\"Deloitte & Touche\",\"marker\":{\"color\":\"#EF553B\",\"size\":[2884],\"sizemode\":\"area\",\"sizeref\":3.6733333333333333,\"symbol\":\"circle\"},\"mode\":\"markers\",\"name\":\"Deloitte & Touche\",\"orientation\":\"v\",\"showlegend\":true,\"x\":[2000.0],\"xaxis\":\"x\",\"y\":[2884],\"yaxis\":\"y\",\"type\":\"scatter\"},{\"hovertemplate\":\"<b>%{hovertext}</b><br><br>Audit Firm Name=Ernst & Young<br>Fiscal Year=%{x}<br># of Clients=%{y}<br>bubble_size=%{marker.size}<extra></extra>\",\"hovertext\":[\"Ernst & Young\"],\"ids\":[\"Ernst & Young\"],\"legendgroup\":\"Ernst & Young\",\"marker\":{\"color\":\"#00cc96\",\"size\":[3306],\"sizemode\":\"area\",\"sizeref\":3.6733333333333333,\"symbol\":\"circle\"},\"mode\":\"markers\",\"name\":\"Ernst & Young\",\"orientation\":\"v\",\"showlegend\":true,\"x\":[2000.0],\"xaxis\":\"x\",\"y\":[3306],\"yaxis\":\"y\",\"type\":\"scatter\"},{\"hovertemplate\":\"<b>%{hovertext}</b><br><br>Audit Firm Name=Grant Thornton<br>Fiscal Year=%{x}<br># of Clients=%{y}<br>bubble_size=%{marker.size}<extra></extra>\",\"hovertext\":[\"Grant Thornton\"],\"ids\":[\"Grant Thornton\"],\"legendgroup\":\"Grant Thornton\",\"marker\":{\"color\":\"#ab63fa\",\"size\":[981],\"sizemode\":\"area\",\"sizeref\":3.6733333333333333,\"symbol\":\"circle\"},\"mode\":\"markers\",\"name\":\"Grant Thornton\",\"orientation\":\"v\",\"showlegend\":true,\"x\":[2000.0],\"xaxis\":\"x\",\"y\":[981],\"yaxis\":\"y\",\"type\":\"scatter\"},{\"hovertemplate\":\"<b>%{hovertext}</b><br><br>Audit Firm Name=KPMG<br>Fiscal Year=%{x}<br># of Clients=%{y}<br>bubble_size=%{marker.size}<extra></extra>\",\"hovertext\":[\"KPMG\"],\"ids\":[\"KPMG\"],\"legendgroup\":\"KPMG\",\"marker\":{\"color\":\"#FFA15A\",\"size\":[1998],\"sizemode\":\"area\",\"sizeref\":3.6733333333333333,\"symbol\":\"circle\"},\"mode\":\"markers\",\"name\":\"KPMG\",\"orientation\":\"v\",\"showlegend\":true,\"x\":[2000.0],\"xaxis\":\"x\",\"y\":[1998],\"yaxis\":\"y\",\"type\":\"scatter\"},{\"hovertemplate\":\"<b>%{hovertext}</b><br><br>Audit Firm Name=PwC<br>Fiscal Year=%{x}<br># of Clients=%{y}<br>bubble_size=%{marker.size}<extra></extra>\",\"hovertext\":[\"PwC\"],\"ids\":[\"PwC\"],\"legendgroup\":\"PwC\",\"marker\":{\"color\":\"#19d3f3\",\"size\":[3098],\"sizemode\":\"area\",\"sizeref\":3.6733333333333333,\"symbol\":\"circle\"},\"mode\":\"markers\",\"name\":\"PwC\",\"orientation\":\"v\",\"showlegend\":true,\"x\":[2000.0],\"xaxis\":\"x\",\"y\":[3098],\"yaxis\":\"y\",\"type\":\"scatter\"}],\"name\":\"2000.0\"},{\"data\":[{\"hovertemplate\":\"<b>%{hovertext}</b><br><br>Audit Firm Name=Arthur Andersen<br>Fiscal Year=%{x}<br># of Clients=%{y}<br>bubble_size=%{marker.size}<extra></extra>\",\"hovertext\":[\"Arthur Andersen\"],\"ids\":[\"Arthur Andersen\"],\"legendgroup\":\"Arthur Andersen\",\"marker\":{\"color\":\"#636efa\",\"size\":[2357],\"sizemode\":\"area\",\"sizeref\":3.6733333333333333,\"symbol\":\"circle\"},\"mode\":\"markers\",\"name\":\"Arthur Andersen\",\"orientation\":\"v\",\"showlegend\":true,\"x\":[2001.0],\"xaxis\":\"x\",\"y\":[2357],\"yaxis\":\"y\",\"type\":\"scatter\"},{\"hovertemplate\":\"<b>%{hovertext}</b><br><br>Audit Firm Name=Deloitte & Touche<br>Fiscal Year=%{x}<br># of Clients=%{y}<br>bubble_size=%{marker.size}<extra></extra>\",\"hovertext\":[\"Deloitte & Touche\"],\"ids\":[\"Deloitte & Touche\"],\"legendgroup\":\"Deloitte & Touche\",\"marker\":{\"color\":\"#EF553B\",\"size\":[2724],\"sizemode\":\"area\",\"sizeref\":3.6733333333333333,\"symbol\":\"circle\"},\"mode\":\"markers\",\"name\":\"Deloitte & Touche\",\"orientation\":\"v\",\"showlegend\":true,\"x\":[2001.0],\"xaxis\":\"x\",\"y\":[2724],\"yaxis\":\"y\",\"type\":\"scatter\"},{\"hovertemplate\":\"<b>%{hovertext}</b><br><br>Audit Firm Name=Ernst & Young<br>Fiscal Year=%{x}<br># of Clients=%{y}<br>bubble_size=%{marker.size}<extra></extra>\",\"hovertext\":[\"Ernst & Young\"],\"ids\":[\"Ernst & Young\"],\"legendgroup\":\"Ernst & Young\",\"marker\":{\"color\":\"#00cc96\",\"size\":[2662],\"sizemode\":\"area\",\"sizeref\":3.6733333333333333,\"symbol\":\"circle\"},\"mode\":\"markers\",\"name\":\"Ernst & Young\",\"orientation\":\"v\",\"showlegend\":true,\"x\":[2001.0],\"xaxis\":\"x\",\"y\":[2662],\"yaxis\":\"y\",\"type\":\"scatter\"},{\"hovertemplate\":\"<b>%{hovertext}</b><br><br>Audit Firm Name=Grant Thornton<br>Fiscal Year=%{x}<br># of Clients=%{y}<br>bubble_size=%{marker.size}<extra></extra>\",\"hovertext\":[\"Grant Thornton\"],\"ids\":[\"Grant Thornton\"],\"legendgroup\":\"Grant Thornton\",\"marker\":{\"color\":\"#ab63fa\",\"size\":[987],\"sizemode\":\"area\",\"sizeref\":3.6733333333333333,\"symbol\":\"circle\"},\"mode\":\"markers\",\"name\":\"Grant Thornton\",\"orientation\":\"v\",\"showlegend\":true,\"x\":[2001.0],\"xaxis\":\"x\",\"y\":[987],\"yaxis\":\"y\",\"type\":\"scatter\"},{\"hovertemplate\":\"<b>%{hovertext}</b><br><br>Audit Firm Name=KPMG<br>Fiscal Year=%{x}<br># of Clients=%{y}<br>bubble_size=%{marker.size}<extra></extra>\",\"hovertext\":[\"KPMG\"],\"ids\":[\"KPMG\"],\"legendgroup\":\"KPMG\",\"marker\":{\"color\":\"#FFA15A\",\"size\":[2154],\"sizemode\":\"area\",\"sizeref\":3.6733333333333333,\"symbol\":\"circle\"},\"mode\":\"markers\",\"name\":\"KPMG\",\"orientation\":\"v\",\"showlegend\":true,\"x\":[2001.0],\"xaxis\":\"x\",\"y\":[2154],\"yaxis\":\"y\",\"type\":\"scatter\"},{\"hovertemplate\":\"<b>%{hovertext}</b><br><br>Audit Firm Name=PwC<br>Fiscal Year=%{x}<br># of Clients=%{y}<br>bubble_size=%{marker.size}<extra></extra>\",\"hovertext\":[\"PwC\"],\"ids\":[\"PwC\"],\"legendgroup\":\"PwC\",\"marker\":{\"color\":\"#19d3f3\",\"size\":[2973],\"sizemode\":\"area\",\"sizeref\":3.6733333333333333,\"symbol\":\"circle\"},\"mode\":\"markers\",\"name\":\"PwC\",\"orientation\":\"v\",\"showlegend\":true,\"x\":[2001.0],\"xaxis\":\"x\",\"y\":[2973],\"yaxis\":\"y\",\"type\":\"scatter\"}],\"name\":\"2001.0\"},{\"data\":[{\"hovertemplate\":\"<b>%{hovertext}</b><br><br>Audit Firm Name=Arthur Andersen<br>Fiscal Year=%{x}<br># of Clients=%{y}<br>bubble_size=%{marker.size}<extra></extra>\",\"hovertext\":[\"Arthur Andersen\"],\"ids\":[\"Arthur Andersen\"],\"legendgroup\":\"Arthur Andersen\",\"marker\":{\"color\":\"#636efa\",\"size\":[300],\"sizemode\":\"area\",\"sizeref\":3.6733333333333333,\"symbol\":\"circle\"},\"mode\":\"markers\",\"name\":\"Arthur Andersen\",\"orientation\":\"v\",\"showlegend\":true,\"x\":[2002.0],\"xaxis\":\"x\",\"y\":[196],\"yaxis\":\"y\",\"type\":\"scatter\"},{\"hovertemplate\":\"<b>%{hovertext}</b><br><br>Audit Firm Name=Deloitte & Touche<br>Fiscal Year=%{x}<br># of Clients=%{y}<br>bubble_size=%{marker.size}<extra></extra>\",\"hovertext\":[\"Deloitte & Touche\"],\"ids\":[\"Deloitte & Touche\"],\"legendgroup\":\"Deloitte & Touche\",\"marker\":{\"color\":\"#EF553B\",\"size\":[3177],\"sizemode\":\"area\",\"sizeref\":3.6733333333333333,\"symbol\":\"circle\"},\"mode\":\"markers\",\"name\":\"Deloitte & Touche\",\"orientation\":\"v\",\"showlegend\":true,\"x\":[2002.0],\"xaxis\":\"x\",\"y\":[3177],\"yaxis\":\"y\",\"type\":\"scatter\"},{\"hovertemplate\":\"<b>%{hovertext}</b><br><br>Audit Firm Name=Ernst & Young<br>Fiscal Year=%{x}<br># of Clients=%{y}<br>bubble_size=%{marker.size}<extra></extra>\",\"hovertext\":[\"Ernst & Young\"],\"ids\":[\"Ernst & Young\"],\"legendgroup\":\"Ernst & Young\",\"marker\":{\"color\":\"#00cc96\",\"size\":[2863],\"sizemode\":\"area\",\"sizeref\":3.6733333333333333,\"symbol\":\"circle\"},\"mode\":\"markers\",\"name\":\"Ernst & Young\",\"orientation\":\"v\",\"showlegend\":true,\"x\":[2002.0],\"xaxis\":\"x\",\"y\":[2863],\"yaxis\":\"y\",\"type\":\"scatter\"},{\"hovertemplate\":\"<b>%{hovertext}</b><br><br>Audit Firm Name=Grant Thornton<br>Fiscal Year=%{x}<br># of Clients=%{y}<br>bubble_size=%{marker.size}<extra></extra>\",\"hovertext\":[\"Grant Thornton\"],\"ids\":[\"Grant Thornton\"],\"legendgroup\":\"Grant Thornton\",\"marker\":{\"color\":\"#ab63fa\",\"size\":[955],\"sizemode\":\"area\",\"sizeref\":3.6733333333333333,\"symbol\":\"circle\"},\"mode\":\"markers\",\"name\":\"Grant Thornton\",\"orientation\":\"v\",\"showlegend\":true,\"x\":[2002.0],\"xaxis\":\"x\",\"y\":[955],\"yaxis\":\"y\",\"type\":\"scatter\"},{\"hovertemplate\":\"<b>%{hovertext}</b><br><br>Audit Firm Name=KPMG<br>Fiscal Year=%{x}<br># of Clients=%{y}<br>bubble_size=%{marker.size}<extra></extra>\",\"hovertext\":[\"KPMG\"],\"ids\":[\"KPMG\"],\"legendgroup\":\"KPMG\",\"marker\":{\"color\":\"#FFA15A\",\"size\":[2284],\"sizemode\":\"area\",\"sizeref\":3.6733333333333333,\"symbol\":\"circle\"},\"mode\":\"markers\",\"name\":\"KPMG\",\"orientation\":\"v\",\"showlegend\":true,\"x\":[2002.0],\"xaxis\":\"x\",\"y\":[2284],\"yaxis\":\"y\",\"type\":\"scatter\"},{\"hovertemplate\":\"<b>%{hovertext}</b><br><br>Audit Firm Name=PwC<br>Fiscal Year=%{x}<br># of Clients=%{y}<br>bubble_size=%{marker.size}<extra></extra>\",\"hovertext\":[\"PwC\"],\"ids\":[\"PwC\"],\"legendgroup\":\"PwC\",\"marker\":{\"color\":\"#19d3f3\",\"size\":[2875],\"sizemode\":\"area\",\"sizeref\":3.6733333333333333,\"symbol\":\"circle\"},\"mode\":\"markers\",\"name\":\"PwC\",\"orientation\":\"v\",\"showlegend\":true,\"x\":[2002.0],\"xaxis\":\"x\",\"y\":[2875],\"yaxis\":\"y\",\"type\":\"scatter\"}],\"name\":\"2002.0\"},{\"data\":[{\"hovertemplate\":\"<b>%{hovertext}</b><br><br>Audit Firm Name=Arthur Andersen<br>Fiscal Year=%{x}<br># of Clients=%{y}<br>bubble_size=%{marker.size}<extra></extra>\",\"hovertext\":[\"Arthur Andersen\"],\"ids\":[\"Arthur Andersen\"],\"legendgroup\":\"Arthur Andersen\",\"marker\":{\"color\":\"#636efa\",\"size\":[300],\"sizemode\":\"area\",\"sizeref\":3.6733333333333333,\"symbol\":\"circle\"},\"mode\":\"markers\",\"name\":\"Arthur Andersen\",\"orientation\":\"v\",\"showlegend\":true,\"x\":[2003.0],\"xaxis\":\"x\",\"y\":[0],\"yaxis\":\"y\",\"type\":\"scatter\"},{\"hovertemplate\":\"<b>%{hovertext}</b><br><br>Audit Firm Name=Deloitte & Touche<br>Fiscal Year=%{x}<br># of Clients=%{y}<br>bubble_size=%{marker.size}<extra></extra>\",\"hovertext\":[\"Deloitte & Touche\"],\"ids\":[\"Deloitte & Touche\"],\"legendgroup\":\"Deloitte & Touche\",\"marker\":{\"color\":\"#EF553B\",\"size\":[3232],\"sizemode\":\"area\",\"sizeref\":3.6733333333333333,\"symbol\":\"circle\"},\"mode\":\"markers\",\"name\":\"Deloitte & Touche\",\"orientation\":\"v\",\"showlegend\":true,\"x\":[2003.0],\"xaxis\":\"x\",\"y\":[3232],\"yaxis\":\"y\",\"type\":\"scatter\"},{\"hovertemplate\":\"<b>%{hovertext}</b><br><br>Audit Firm Name=Ernst & Young<br>Fiscal Year=%{x}<br># of Clients=%{y}<br>bubble_size=%{marker.size}<extra></extra>\",\"hovertext\":[\"Ernst & Young\"],\"ids\":[\"Ernst & Young\"],\"legendgroup\":\"Ernst & Young\",\"marker\":{\"color\":\"#00cc96\",\"size\":[3079],\"sizemode\":\"area\",\"sizeref\":3.6733333333333333,\"symbol\":\"circle\"},\"mode\":\"markers\",\"name\":\"Ernst & Young\",\"orientation\":\"v\",\"showlegend\":true,\"x\":[2003.0],\"xaxis\":\"x\",\"y\":[3079],\"yaxis\":\"y\",\"type\":\"scatter\"},{\"hovertemplate\":\"<b>%{hovertext}</b><br><br>Audit Firm Name=Grant Thornton<br>Fiscal Year=%{x}<br># of Clients=%{y}<br>bubble_size=%{marker.size}<extra></extra>\",\"hovertext\":[\"Grant Thornton\"],\"ids\":[\"Grant Thornton\"],\"legendgroup\":\"Grant Thornton\",\"marker\":{\"color\":\"#ab63fa\",\"size\":[926],\"sizemode\":\"area\",\"sizeref\":3.6733333333333333,\"symbol\":\"circle\"},\"mode\":\"markers\",\"name\":\"Grant Thornton\",\"orientation\":\"v\",\"showlegend\":true,\"x\":[2003.0],\"xaxis\":\"x\",\"y\":[926],\"yaxis\":\"y\",\"type\":\"scatter\"},{\"hovertemplate\":\"<b>%{hovertext}</b><br><br>Audit Firm Name=KPMG<br>Fiscal Year=%{x}<br># of Clients=%{y}<br>bubble_size=%{marker.size}<extra></extra>\",\"hovertext\":[\"KPMG\"],\"ids\":[\"KPMG\"],\"legendgroup\":\"KPMG\",\"marker\":{\"color\":\"#FFA15A\",\"size\":[2295],\"sizemode\":\"area\",\"sizeref\":3.6733333333333333,\"symbol\":\"circle\"},\"mode\":\"markers\",\"name\":\"KPMG\",\"orientation\":\"v\",\"showlegend\":true,\"x\":[2003.0],\"xaxis\":\"x\",\"y\":[2295],\"yaxis\":\"y\",\"type\":\"scatter\"},{\"hovertemplate\":\"<b>%{hovertext}</b><br><br>Audit Firm Name=PwC<br>Fiscal Year=%{x}<br># of Clients=%{y}<br>bubble_size=%{marker.size}<extra></extra>\",\"hovertext\":[\"PwC\"],\"ids\":[\"PwC\"],\"legendgroup\":\"PwC\",\"marker\":{\"color\":\"#19d3f3\",\"size\":[3300],\"sizemode\":\"area\",\"sizeref\":3.6733333333333333,\"symbol\":\"circle\"},\"mode\":\"markers\",\"name\":\"PwC\",\"orientation\":\"v\",\"showlegend\":true,\"x\":[2003.0],\"xaxis\":\"x\",\"y\":[3300],\"yaxis\":\"y\",\"type\":\"scatter\"}],\"name\":\"2003.0\"},{\"data\":[{\"hovertemplate\":\"<b>%{hovertext}</b><br><br>Audit Firm Name=Arthur Andersen<br>Fiscal Year=%{x}<br># of Clients=%{y}<br>bubble_size=%{marker.size}<extra></extra>\",\"hovertext\":[\"Arthur Andersen\"],\"ids\":[\"Arthur Andersen\"],\"legendgroup\":\"Arthur Andersen\",\"marker\":{\"color\":\"#636efa\",\"size\":[300],\"sizemode\":\"area\",\"sizeref\":3.6733333333333333,\"symbol\":\"circle\"},\"mode\":\"markers\",\"name\":\"Arthur Andersen\",\"orientation\":\"v\",\"showlegend\":true,\"x\":[2004.0],\"xaxis\":\"x\",\"y\":[0],\"yaxis\":\"y\",\"type\":\"scatter\"},{\"hovertemplate\":\"<b>%{hovertext}</b><br><br>Audit Firm Name=Deloitte & Touche<br>Fiscal Year=%{x}<br># of Clients=%{y}<br>bubble_size=%{marker.size}<extra></extra>\",\"hovertext\":[\"Deloitte & Touche\"],\"ids\":[\"Deloitte & Touche\"],\"legendgroup\":\"Deloitte & Touche\",\"marker\":{\"color\":\"#EF553B\",\"size\":[2698],\"sizemode\":\"area\",\"sizeref\":3.6733333333333333,\"symbol\":\"circle\"},\"mode\":\"markers\",\"name\":\"Deloitte & Touche\",\"orientation\":\"v\",\"showlegend\":true,\"x\":[2004.0],\"xaxis\":\"x\",\"y\":[2698],\"yaxis\":\"y\",\"type\":\"scatter\"},{\"hovertemplate\":\"<b>%{hovertext}</b><br><br>Audit Firm Name=Ernst & Young<br>Fiscal Year=%{x}<br># of Clients=%{y}<br>bubble_size=%{marker.size}<extra></extra>\",\"hovertext\":[\"Ernst & Young\"],\"ids\":[\"Ernst & Young\"],\"legendgroup\":\"Ernst & Young\",\"marker\":{\"color\":\"#00cc96\",\"size\":[2785],\"sizemode\":\"area\",\"sizeref\":3.6733333333333333,\"symbol\":\"circle\"},\"mode\":\"markers\",\"name\":\"Ernst & Young\",\"orientation\":\"v\",\"showlegend\":true,\"x\":[2004.0],\"xaxis\":\"x\",\"y\":[2785],\"yaxis\":\"y\",\"type\":\"scatter\"},{\"hovertemplate\":\"<b>%{hovertext}</b><br><br>Audit Firm Name=Grant Thornton<br>Fiscal Year=%{x}<br># of Clients=%{y}<br>bubble_size=%{marker.size}<extra></extra>\",\"hovertext\":[\"Grant Thornton\"],\"ids\":[\"Grant Thornton\"],\"legendgroup\":\"Grant Thornton\",\"marker\":{\"color\":\"#ab63fa\",\"size\":[1164],\"sizemode\":\"area\",\"sizeref\":3.6733333333333333,\"symbol\":\"circle\"},\"mode\":\"markers\",\"name\":\"Grant Thornton\",\"orientation\":\"v\",\"showlegend\":true,\"x\":[2004.0],\"xaxis\":\"x\",\"y\":[1164],\"yaxis\":\"y\",\"type\":\"scatter\"},{\"hovertemplate\":\"<b>%{hovertext}</b><br><br>Audit Firm Name=KPMG<br>Fiscal Year=%{x}<br># of Clients=%{y}<br>bubble_size=%{marker.size}<extra></extra>\",\"hovertext\":[\"KPMG\"],\"ids\":[\"KPMG\"],\"legendgroup\":\"KPMG\",\"marker\":{\"color\":\"#FFA15A\",\"size\":[2175],\"sizemode\":\"area\",\"sizeref\":3.6733333333333333,\"symbol\":\"circle\"},\"mode\":\"markers\",\"name\":\"KPMG\",\"orientation\":\"v\",\"showlegend\":true,\"x\":[2004.0],\"xaxis\":\"x\",\"y\":[2175],\"yaxis\":\"y\",\"type\":\"scatter\"},{\"hovertemplate\":\"<b>%{hovertext}</b><br><br>Audit Firm Name=PwC<br>Fiscal Year=%{x}<br># of Clients=%{y}<br>bubble_size=%{marker.size}<extra></extra>\",\"hovertext\":[\"PwC\"],\"ids\":[\"PwC\"],\"legendgroup\":\"PwC\",\"marker\":{\"color\":\"#19d3f3\",\"size\":[2714],\"sizemode\":\"area\",\"sizeref\":3.6733333333333333,\"symbol\":\"circle\"},\"mode\":\"markers\",\"name\":\"PwC\",\"orientation\":\"v\",\"showlegend\":true,\"x\":[2004.0],\"xaxis\":\"x\",\"y\":[2714],\"yaxis\":\"y\",\"type\":\"scatter\"}],\"name\":\"2004.0\"},{\"data\":[{\"hovertemplate\":\"<b>%{hovertext}</b><br><br>Audit Firm Name=Arthur Andersen<br>Fiscal Year=%{x}<br># of Clients=%{y}<br>bubble_size=%{marker.size}<extra></extra>\",\"hovertext\":[\"Arthur Andersen\"],\"ids\":[\"Arthur Andersen\"],\"legendgroup\":\"Arthur Andersen\",\"marker\":{\"color\":\"#636efa\",\"size\":[300],\"sizemode\":\"area\",\"sizeref\":3.6733333333333333,\"symbol\":\"circle\"},\"mode\":\"markers\",\"name\":\"Arthur Andersen\",\"orientation\":\"v\",\"showlegend\":true,\"x\":[2005.0],\"xaxis\":\"x\",\"y\":[0],\"yaxis\":\"y\",\"type\":\"scatter\"},{\"hovertemplate\":\"<b>%{hovertext}</b><br><br>Audit Firm Name=Deloitte & Touche<br>Fiscal Year=%{x}<br># of Clients=%{y}<br>bubble_size=%{marker.size}<extra></extra>\",\"hovertext\":[\"Deloitte & Touche\"],\"ids\":[\"Deloitte & Touche\"],\"legendgroup\":\"Deloitte & Touche\",\"marker\":{\"color\":\"#EF553B\",\"size\":[2643],\"sizemode\":\"area\",\"sizeref\":3.6733333333333333,\"symbol\":\"circle\"},\"mode\":\"markers\",\"name\":\"Deloitte & Touche\",\"orientation\":\"v\",\"showlegend\":true,\"x\":[2005.0],\"xaxis\":\"x\",\"y\":[2643],\"yaxis\":\"y\",\"type\":\"scatter\"},{\"hovertemplate\":\"<b>%{hovertext}</b><br><br>Audit Firm Name=Ernst & Young<br>Fiscal Year=%{x}<br># of Clients=%{y}<br>bubble_size=%{marker.size}<extra></extra>\",\"hovertext\":[\"Ernst & Young\"],\"ids\":[\"Ernst & Young\"],\"legendgroup\":\"Ernst & Young\",\"marker\":{\"color\":\"#00cc96\",\"size\":[2641],\"sizemode\":\"area\",\"sizeref\":3.6733333333333333,\"symbol\":\"circle\"},\"mode\":\"markers\",\"name\":\"Ernst & Young\",\"orientation\":\"v\",\"showlegend\":true,\"x\":[2005.0],\"xaxis\":\"x\",\"y\":[2641],\"yaxis\":\"y\",\"type\":\"scatter\"},{\"hovertemplate\":\"<b>%{hovertext}</b><br><br>Audit Firm Name=Grant Thornton<br>Fiscal Year=%{x}<br># of Clients=%{y}<br>bubble_size=%{marker.size}<extra></extra>\",\"hovertext\":[\"Grant Thornton\"],\"ids\":[\"Grant Thornton\"],\"legendgroup\":\"Grant Thornton\",\"marker\":{\"color\":\"#ab63fa\",\"size\":[1245],\"sizemode\":\"area\",\"sizeref\":3.6733333333333333,\"symbol\":\"circle\"},\"mode\":\"markers\",\"name\":\"Grant Thornton\",\"orientation\":\"v\",\"showlegend\":true,\"x\":[2005.0],\"xaxis\":\"x\",\"y\":[1245],\"yaxis\":\"y\",\"type\":\"scatter\"},{\"hovertemplate\":\"<b>%{hovertext}</b><br><br>Audit Firm Name=KPMG<br>Fiscal Year=%{x}<br># of Clients=%{y}<br>bubble_size=%{marker.size}<extra></extra>\",\"hovertext\":[\"KPMG\"],\"ids\":[\"KPMG\"],\"legendgroup\":\"KPMG\",\"marker\":{\"color\":\"#FFA15A\",\"size\":[1906],\"sizemode\":\"area\",\"sizeref\":3.6733333333333333,\"symbol\":\"circle\"},\"mode\":\"markers\",\"name\":\"KPMG\",\"orientation\":\"v\",\"showlegend\":true,\"x\":[2005.0],\"xaxis\":\"x\",\"y\":[1906],\"yaxis\":\"y\",\"type\":\"scatter\"},{\"hovertemplate\":\"<b>%{hovertext}</b><br><br>Audit Firm Name=PwC<br>Fiscal Year=%{x}<br># of Clients=%{y}<br>bubble_size=%{marker.size}<extra></extra>\",\"hovertext\":[\"PwC\"],\"ids\":[\"PwC\"],\"legendgroup\":\"PwC\",\"marker\":{\"color\":\"#19d3f3\",\"size\":[2679],\"sizemode\":\"area\",\"sizeref\":3.6733333333333333,\"symbol\":\"circle\"},\"mode\":\"markers\",\"name\":\"PwC\",\"orientation\":\"v\",\"showlegend\":true,\"x\":[2005.0],\"xaxis\":\"x\",\"y\":[2679],\"yaxis\":\"y\",\"type\":\"scatter\"}],\"name\":\"2005.0\"},{\"data\":[{\"hovertemplate\":\"<b>%{hovertext}</b><br><br>Audit Firm Name=Arthur Andersen<br>Fiscal Year=%{x}<br># of Clients=%{y}<br>bubble_size=%{marker.size}<extra></extra>\",\"hovertext\":[\"Arthur Andersen\"],\"ids\":[\"Arthur Andersen\"],\"legendgroup\":\"Arthur Andersen\",\"marker\":{\"color\":\"#636efa\",\"size\":[300],\"sizemode\":\"area\",\"sizeref\":3.6733333333333333,\"symbol\":\"circle\"},\"mode\":\"markers\",\"name\":\"Arthur Andersen\",\"orientation\":\"v\",\"showlegend\":true,\"x\":[2006.0],\"xaxis\":\"x\",\"y\":[0],\"yaxis\":\"y\",\"type\":\"scatter\"},{\"hovertemplate\":\"<b>%{hovertext}</b><br><br>Audit Firm Name=Deloitte & Touche<br>Fiscal Year=%{x}<br># of Clients=%{y}<br>bubble_size=%{marker.size}<extra></extra>\",\"hovertext\":[\"Deloitte & Touche\"],\"ids\":[\"Deloitte & Touche\"],\"legendgroup\":\"Deloitte & Touche\",\"marker\":{\"color\":\"#EF553B\",\"size\":[2584],\"sizemode\":\"area\",\"sizeref\":3.6733333333333333,\"symbol\":\"circle\"},\"mode\":\"markers\",\"name\":\"Deloitte & Touche\",\"orientation\":\"v\",\"showlegend\":true,\"x\":[2006.0],\"xaxis\":\"x\",\"y\":[2584],\"yaxis\":\"y\",\"type\":\"scatter\"},{\"hovertemplate\":\"<b>%{hovertext}</b><br><br>Audit Firm Name=Ernst & Young<br>Fiscal Year=%{x}<br># of Clients=%{y}<br>bubble_size=%{marker.size}<extra></extra>\",\"hovertext\":[\"Ernst & Young\"],\"ids\":[\"Ernst & Young\"],\"legendgroup\":\"Ernst & Young\",\"marker\":{\"color\":\"#00cc96\",\"size\":[2516],\"sizemode\":\"area\",\"sizeref\":3.6733333333333333,\"symbol\":\"circle\"},\"mode\":\"markers\",\"name\":\"Ernst & Young\",\"orientation\":\"v\",\"showlegend\":true,\"x\":[2006.0],\"xaxis\":\"x\",\"y\":[2516],\"yaxis\":\"y\",\"type\":\"scatter\"},{\"hovertemplate\":\"<b>%{hovertext}</b><br><br>Audit Firm Name=Grant Thornton<br>Fiscal Year=%{x}<br># of Clients=%{y}<br>bubble_size=%{marker.size}<extra></extra>\",\"hovertext\":[\"Grant Thornton\"],\"ids\":[\"Grant Thornton\"],\"legendgroup\":\"Grant Thornton\",\"marker\":{\"color\":\"#ab63fa\",\"size\":[1275],\"sizemode\":\"area\",\"sizeref\":3.6733333333333333,\"symbol\":\"circle\"},\"mode\":\"markers\",\"name\":\"Grant Thornton\",\"orientation\":\"v\",\"showlegend\":true,\"x\":[2006.0],\"xaxis\":\"x\",\"y\":[1275],\"yaxis\":\"y\",\"type\":\"scatter\"},{\"hovertemplate\":\"<b>%{hovertext}</b><br><br>Audit Firm Name=KPMG<br>Fiscal Year=%{x}<br># of Clients=%{y}<br>bubble_size=%{marker.size}<extra></extra>\",\"hovertext\":[\"KPMG\"],\"ids\":[\"KPMG\"],\"legendgroup\":\"KPMG\",\"marker\":{\"color\":\"#FFA15A\",\"size\":[1739],\"sizemode\":\"area\",\"sizeref\":3.6733333333333333,\"symbol\":\"circle\"},\"mode\":\"markers\",\"name\":\"KPMG\",\"orientation\":\"v\",\"showlegend\":true,\"x\":[2006.0],\"xaxis\":\"x\",\"y\":[1739],\"yaxis\":\"y\",\"type\":\"scatter\"},{\"hovertemplate\":\"<b>%{hovertext}</b><br><br>Audit Firm Name=PwC<br>Fiscal Year=%{x}<br># of Clients=%{y}<br>bubble_size=%{marker.size}<extra></extra>\",\"hovertext\":[\"PwC\"],\"ids\":[\"PwC\"],\"legendgroup\":\"PwC\",\"marker\":{\"color\":\"#19d3f3\",\"size\":[2256],\"sizemode\":\"area\",\"sizeref\":3.6733333333333333,\"symbol\":\"circle\"},\"mode\":\"markers\",\"name\":\"PwC\",\"orientation\":\"v\",\"showlegend\":true,\"x\":[2006.0],\"xaxis\":\"x\",\"y\":[2256],\"yaxis\":\"y\",\"type\":\"scatter\"}],\"name\":\"2006.0\"},{\"data\":[{\"hovertemplate\":\"<b>%{hovertext}</b><br><br>Audit Firm Name=Arthur Andersen<br>Fiscal Year=%{x}<br># of Clients=%{y}<br>bubble_size=%{marker.size}<extra></extra>\",\"hovertext\":[\"Arthur Andersen\"],\"ids\":[\"Arthur Andersen\"],\"legendgroup\":\"Arthur Andersen\",\"marker\":{\"color\":\"#636efa\",\"size\":[300],\"sizemode\":\"area\",\"sizeref\":3.6733333333333333,\"symbol\":\"circle\"},\"mode\":\"markers\",\"name\":\"Arthur Andersen\",\"orientation\":\"v\",\"showlegend\":true,\"x\":[2007.0],\"xaxis\":\"x\",\"y\":[0],\"yaxis\":\"y\",\"type\":\"scatter\"},{\"hovertemplate\":\"<b>%{hovertext}</b><br><br>Audit Firm Name=Deloitte & Touche<br>Fiscal Year=%{x}<br># of Clients=%{y}<br>bubble_size=%{marker.size}<extra></extra>\",\"hovertext\":[\"Deloitte & Touche\"],\"ids\":[\"Deloitte & Touche\"],\"legendgroup\":\"Deloitte & Touche\",\"marker\":{\"color\":\"#EF553B\",\"size\":[2617],\"sizemode\":\"area\",\"sizeref\":3.6733333333333333,\"symbol\":\"circle\"},\"mode\":\"markers\",\"name\":\"Deloitte & Touche\",\"orientation\":\"v\",\"showlegend\":true,\"x\":[2007.0],\"xaxis\":\"x\",\"y\":[2617],\"yaxis\":\"y\",\"type\":\"scatter\"},{\"hovertemplate\":\"<b>%{hovertext}</b><br><br>Audit Firm Name=Ernst & Young<br>Fiscal Year=%{x}<br># of Clients=%{y}<br>bubble_size=%{marker.size}<extra></extra>\",\"hovertext\":[\"Ernst & Young\"],\"ids\":[\"Ernst & Young\"],\"legendgroup\":\"Ernst & Young\",\"marker\":{\"color\":\"#00cc96\",\"size\":[2425],\"sizemode\":\"area\",\"sizeref\":3.6733333333333333,\"symbol\":\"circle\"},\"mode\":\"markers\",\"name\":\"Ernst & Young\",\"orientation\":\"v\",\"showlegend\":true,\"x\":[2007.0],\"xaxis\":\"x\",\"y\":[2425],\"yaxis\":\"y\",\"type\":\"scatter\"},{\"hovertemplate\":\"<b>%{hovertext}</b><br><br>Audit Firm Name=Grant Thornton<br>Fiscal Year=%{x}<br># of Clients=%{y}<br>bubble_size=%{marker.size}<extra></extra>\",\"hovertext\":[\"Grant Thornton\"],\"ids\":[\"Grant Thornton\"],\"legendgroup\":\"Grant Thornton\",\"marker\":{\"color\":\"#ab63fa\",\"size\":[1396],\"sizemode\":\"area\",\"sizeref\":3.6733333333333333,\"symbol\":\"circle\"},\"mode\":\"markers\",\"name\":\"Grant Thornton\",\"orientation\":\"v\",\"showlegend\":true,\"x\":[2007.0],\"xaxis\":\"x\",\"y\":[1396],\"yaxis\":\"y\",\"type\":\"scatter\"},{\"hovertemplate\":\"<b>%{hovertext}</b><br><br>Audit Firm Name=KPMG<br>Fiscal Year=%{x}<br># of Clients=%{y}<br>bubble_size=%{marker.size}<extra></extra>\",\"hovertext\":[\"KPMG\"],\"ids\":[\"KPMG\"],\"legendgroup\":\"KPMG\",\"marker\":{\"color\":\"#FFA15A\",\"size\":[1596],\"sizemode\":\"area\",\"sizeref\":3.6733333333333333,\"symbol\":\"circle\"},\"mode\":\"markers\",\"name\":\"KPMG\",\"orientation\":\"v\",\"showlegend\":true,\"x\":[2007.0],\"xaxis\":\"x\",\"y\":[1596],\"yaxis\":\"y\",\"type\":\"scatter\"},{\"hovertemplate\":\"<b>%{hovertext}</b><br><br>Audit Firm Name=PwC<br>Fiscal Year=%{x}<br># of Clients=%{y}<br>bubble_size=%{marker.size}<extra></extra>\",\"hovertext\":[\"PwC\"],\"ids\":[\"PwC\"],\"legendgroup\":\"PwC\",\"marker\":{\"color\":\"#19d3f3\",\"size\":[2091],\"sizemode\":\"area\",\"sizeref\":3.6733333333333333,\"symbol\":\"circle\"},\"mode\":\"markers\",\"name\":\"PwC\",\"orientation\":\"v\",\"showlegend\":true,\"x\":[2007.0],\"xaxis\":\"x\",\"y\":[2091],\"yaxis\":\"y\",\"type\":\"scatter\"}],\"name\":\"2007.0\"},{\"data\":[{\"hovertemplate\":\"<b>%{hovertext}</b><br><br>Audit Firm Name=Arthur Andersen<br>Fiscal Year=%{x}<br># of Clients=%{y}<br>bubble_size=%{marker.size}<extra></extra>\",\"hovertext\":[\"Arthur Andersen\"],\"ids\":[\"Arthur Andersen\"],\"legendgroup\":\"Arthur Andersen\",\"marker\":{\"color\":\"#636efa\",\"size\":[300],\"sizemode\":\"area\",\"sizeref\":3.6733333333333333,\"symbol\":\"circle\"},\"mode\":\"markers\",\"name\":\"Arthur Andersen\",\"orientation\":\"v\",\"showlegend\":true,\"x\":[2008.0],\"xaxis\":\"x\",\"y\":[0],\"yaxis\":\"y\",\"type\":\"scatter\"},{\"hovertemplate\":\"<b>%{hovertext}</b><br><br>Audit Firm Name=Deloitte & Touche<br>Fiscal Year=%{x}<br># of Clients=%{y}<br>bubble_size=%{marker.size}<extra></extra>\",\"hovertext\":[\"Deloitte & Touche\"],\"ids\":[\"Deloitte & Touche\"],\"legendgroup\":\"Deloitte & Touche\",\"marker\":{\"color\":\"#EF553B\",\"size\":[2567],\"sizemode\":\"area\",\"sizeref\":3.6733333333333333,\"symbol\":\"circle\"},\"mode\":\"markers\",\"name\":\"Deloitte & Touche\",\"orientation\":\"v\",\"showlegend\":true,\"x\":[2008.0],\"xaxis\":\"x\",\"y\":[2567],\"yaxis\":\"y\",\"type\":\"scatter\"},{\"hovertemplate\":\"<b>%{hovertext}</b><br><br>Audit Firm Name=Ernst & Young<br>Fiscal Year=%{x}<br># of Clients=%{y}<br>bubble_size=%{marker.size}<extra></extra>\",\"hovertext\":[\"Ernst & Young\"],\"ids\":[\"Ernst & Young\"],\"legendgroup\":\"Ernst & Young\",\"marker\":{\"color\":\"#00cc96\",\"size\":[2308],\"sizemode\":\"area\",\"sizeref\":3.6733333333333333,\"symbol\":\"circle\"},\"mode\":\"markers\",\"name\":\"Ernst & Young\",\"orientation\":\"v\",\"showlegend\":true,\"x\":[2008.0],\"xaxis\":\"x\",\"y\":[2308],\"yaxis\":\"y\",\"type\":\"scatter\"},{\"hovertemplate\":\"<b>%{hovertext}</b><br><br>Audit Firm Name=Grant Thornton<br>Fiscal Year=%{x}<br># of Clients=%{y}<br>bubble_size=%{marker.size}<extra></extra>\",\"hovertext\":[\"Grant Thornton\"],\"ids\":[\"Grant Thornton\"],\"legendgroup\":\"Grant Thornton\",\"marker\":{\"color\":\"#ab63fa\",\"size\":[1475],\"sizemode\":\"area\",\"sizeref\":3.6733333333333333,\"symbol\":\"circle\"},\"mode\":\"markers\",\"name\":\"Grant Thornton\",\"orientation\":\"v\",\"showlegend\":true,\"x\":[2008.0],\"xaxis\":\"x\",\"y\":[1475],\"yaxis\":\"y\",\"type\":\"scatter\"},{\"hovertemplate\":\"<b>%{hovertext}</b><br><br>Audit Firm Name=KPMG<br>Fiscal Year=%{x}<br># of Clients=%{y}<br>bubble_size=%{marker.size}<extra></extra>\",\"hovertext\":[\"KPMG\"],\"ids\":[\"KPMG\"],\"legendgroup\":\"KPMG\",\"marker\":{\"color\":\"#FFA15A\",\"size\":[1490],\"sizemode\":\"area\",\"sizeref\":3.6733333333333333,\"symbol\":\"circle\"},\"mode\":\"markers\",\"name\":\"KPMG\",\"orientation\":\"v\",\"showlegend\":true,\"x\":[2008.0],\"xaxis\":\"x\",\"y\":[1490],\"yaxis\":\"y\",\"type\":\"scatter\"},{\"hovertemplate\":\"<b>%{hovertext}</b><br><br>Audit Firm Name=PwC<br>Fiscal Year=%{x}<br># of Clients=%{y}<br>bubble_size=%{marker.size}<extra></extra>\",\"hovertext\":[\"PwC\"],\"ids\":[\"PwC\"],\"legendgroup\":\"PwC\",\"marker\":{\"color\":\"#19d3f3\",\"size\":[2013],\"sizemode\":\"area\",\"sizeref\":3.6733333333333333,\"symbol\":\"circle\"},\"mode\":\"markers\",\"name\":\"PwC\",\"orientation\":\"v\",\"showlegend\":true,\"x\":[2008.0],\"xaxis\":\"x\",\"y\":[2013],\"yaxis\":\"y\",\"type\":\"scatter\"}],\"name\":\"2008.0\"},{\"data\":[{\"hovertemplate\":\"<b>%{hovertext}</b><br><br>Audit Firm Name=Arthur Andersen<br>Fiscal Year=%{x}<br># of Clients=%{y}<br>bubble_size=%{marker.size}<extra></extra>\",\"hovertext\":[\"Arthur Andersen\"],\"ids\":[\"Arthur Andersen\"],\"legendgroup\":\"Arthur Andersen\",\"marker\":{\"color\":\"#636efa\",\"size\":[300],\"sizemode\":\"area\",\"sizeref\":3.6733333333333333,\"symbol\":\"circle\"},\"mode\":\"markers\",\"name\":\"Arthur Andersen\",\"orientation\":\"v\",\"showlegend\":true,\"x\":[2009.0],\"xaxis\":\"x\",\"y\":[0],\"yaxis\":\"y\",\"type\":\"scatter\"},{\"hovertemplate\":\"<b>%{hovertext}</b><br><br>Audit Firm Name=Deloitte & Touche<br>Fiscal Year=%{x}<br># of Clients=%{y}<br>bubble_size=%{marker.size}<extra></extra>\",\"hovertext\":[\"Deloitte & Touche\"],\"ids\":[\"Deloitte & Touche\"],\"legendgroup\":\"Deloitte & Touche\",\"marker\":{\"color\":\"#EF553B\",\"size\":[2536],\"sizemode\":\"area\",\"sizeref\":3.6733333333333333,\"symbol\":\"circle\"},\"mode\":\"markers\",\"name\":\"Deloitte & Touche\",\"orientation\":\"v\",\"showlegend\":true,\"x\":[2009.0],\"xaxis\":\"x\",\"y\":[2536],\"yaxis\":\"y\",\"type\":\"scatter\"},{\"hovertemplate\":\"<b>%{hovertext}</b><br><br>Audit Firm Name=Ernst & Young<br>Fiscal Year=%{x}<br># of Clients=%{y}<br>bubble_size=%{marker.size}<extra></extra>\",\"hovertext\":[\"Ernst & Young\"],\"ids\":[\"Ernst & Young\"],\"legendgroup\":\"Ernst & Young\",\"marker\":{\"color\":\"#00cc96\",\"size\":[2257],\"sizemode\":\"area\",\"sizeref\":3.6733333333333333,\"symbol\":\"circle\"},\"mode\":\"markers\",\"name\":\"Ernst & Young\",\"orientation\":\"v\",\"showlegend\":true,\"x\":[2009.0],\"xaxis\":\"x\",\"y\":[2257],\"yaxis\":\"y\",\"type\":\"scatter\"},{\"hovertemplate\":\"<b>%{hovertext}</b><br><br>Audit Firm Name=Grant Thornton<br>Fiscal Year=%{x}<br># of Clients=%{y}<br>bubble_size=%{marker.size}<extra></extra>\",\"hovertext\":[\"Grant Thornton\"],\"ids\":[\"Grant Thornton\"],\"legendgroup\":\"Grant Thornton\",\"marker\":{\"color\":\"#ab63fa\",\"size\":[1660],\"sizemode\":\"area\",\"sizeref\":3.6733333333333333,\"symbol\":\"circle\"},\"mode\":\"markers\",\"name\":\"Grant Thornton\",\"orientation\":\"v\",\"showlegend\":true,\"x\":[2009.0],\"xaxis\":\"x\",\"y\":[1660],\"yaxis\":\"y\",\"type\":\"scatter\"},{\"hovertemplate\":\"<b>%{hovertext}</b><br><br>Audit Firm Name=KPMG<br>Fiscal Year=%{x}<br># of Clients=%{y}<br>bubble_size=%{marker.size}<extra></extra>\",\"hovertext\":[\"KPMG\"],\"ids\":[\"KPMG\"],\"legendgroup\":\"KPMG\",\"marker\":{\"color\":\"#FFA15A\",\"size\":[1464],\"sizemode\":\"area\",\"sizeref\":3.6733333333333333,\"symbol\":\"circle\"},\"mode\":\"markers\",\"name\":\"KPMG\",\"orientation\":\"v\",\"showlegend\":true,\"x\":[2009.0],\"xaxis\":\"x\",\"y\":[1464],\"yaxis\":\"y\",\"type\":\"scatter\"},{\"hovertemplate\":\"<b>%{hovertext}</b><br><br>Audit Firm Name=PwC<br>Fiscal Year=%{x}<br># of Clients=%{y}<br>bubble_size=%{marker.size}<extra></extra>\",\"hovertext\":[\"PwC\"],\"ids\":[\"PwC\"],\"legendgroup\":\"PwC\",\"marker\":{\"color\":\"#19d3f3\",\"size\":[1982],\"sizemode\":\"area\",\"sizeref\":3.6733333333333333,\"symbol\":\"circle\"},\"mode\":\"markers\",\"name\":\"PwC\",\"orientation\":\"v\",\"showlegend\":true,\"x\":[2009.0],\"xaxis\":\"x\",\"y\":[1982],\"yaxis\":\"y\",\"type\":\"scatter\"}],\"name\":\"2009.0\"},{\"data\":[{\"hovertemplate\":\"<b>%{hovertext}</b><br><br>Audit Firm Name=Arthur Andersen<br>Fiscal Year=%{x}<br># of Clients=%{y}<br>bubble_size=%{marker.size}<extra></extra>\",\"hovertext\":[\"Arthur Andersen\"],\"ids\":[\"Arthur Andersen\"],\"legendgroup\":\"Arthur Andersen\",\"marker\":{\"color\":\"#636efa\",\"size\":[300],\"sizemode\":\"area\",\"sizeref\":3.6733333333333333,\"symbol\":\"circle\"},\"mode\":\"markers\",\"name\":\"Arthur Andersen\",\"orientation\":\"v\",\"showlegend\":true,\"x\":[2010.0],\"xaxis\":\"x\",\"y\":[0],\"yaxis\":\"y\",\"type\":\"scatter\"},{\"hovertemplate\":\"<b>%{hovertext}</b><br><br>Audit Firm Name=Deloitte & Touche<br>Fiscal Year=%{x}<br># of Clients=%{y}<br>bubble_size=%{marker.size}<extra></extra>\",\"hovertext\":[\"Deloitte & Touche\"],\"ids\":[\"Deloitte & Touche\"],\"legendgroup\":\"Deloitte & Touche\",\"marker\":{\"color\":\"#EF553B\",\"size\":[2664],\"sizemode\":\"area\",\"sizeref\":3.6733333333333333,\"symbol\":\"circle\"},\"mode\":\"markers\",\"name\":\"Deloitte & Touche\",\"orientation\":\"v\",\"showlegend\":true,\"x\":[2010.0],\"xaxis\":\"x\",\"y\":[2664],\"yaxis\":\"y\",\"type\":\"scatter\"},{\"hovertemplate\":\"<b>%{hovertext}</b><br><br>Audit Firm Name=Ernst & Young<br>Fiscal Year=%{x}<br># of Clients=%{y}<br>bubble_size=%{marker.size}<extra></extra>\",\"hovertext\":[\"Ernst & Young\"],\"ids\":[\"Ernst & Young\"],\"legendgroup\":\"Ernst & Young\",\"marker\":{\"color\":\"#00cc96\",\"size\":[2192],\"sizemode\":\"area\",\"sizeref\":3.6733333333333333,\"symbol\":\"circle\"},\"mode\":\"markers\",\"name\":\"Ernst & Young\",\"orientation\":\"v\",\"showlegend\":true,\"x\":[2010.0],\"xaxis\":\"x\",\"y\":[2192],\"yaxis\":\"y\",\"type\":\"scatter\"},{\"hovertemplate\":\"<b>%{hovertext}</b><br><br>Audit Firm Name=Grant Thornton<br>Fiscal Year=%{x}<br># of Clients=%{y}<br>bubble_size=%{marker.size}<extra></extra>\",\"hovertext\":[\"Grant Thornton\"],\"ids\":[\"Grant Thornton\"],\"legendgroup\":\"Grant Thornton\",\"marker\":{\"color\":\"#ab63fa\",\"size\":[1779],\"sizemode\":\"area\",\"sizeref\":3.6733333333333333,\"symbol\":\"circle\"},\"mode\":\"markers\",\"name\":\"Grant Thornton\",\"orientation\":\"v\",\"showlegend\":true,\"x\":[2010.0],\"xaxis\":\"x\",\"y\":[1779],\"yaxis\":\"y\",\"type\":\"scatter\"},{\"hovertemplate\":\"<b>%{hovertext}</b><br><br>Audit Firm Name=KPMG<br>Fiscal Year=%{x}<br># of Clients=%{y}<br>bubble_size=%{marker.size}<extra></extra>\",\"hovertext\":[\"KPMG\"],\"ids\":[\"KPMG\"],\"legendgroup\":\"KPMG\",\"marker\":{\"color\":\"#FFA15A\",\"size\":[1482],\"sizemode\":\"area\",\"sizeref\":3.6733333333333333,\"symbol\":\"circle\"},\"mode\":\"markers\",\"name\":\"KPMG\",\"orientation\":\"v\",\"showlegend\":true,\"x\":[2010.0],\"xaxis\":\"x\",\"y\":[1482],\"yaxis\":\"y\",\"type\":\"scatter\"},{\"hovertemplate\":\"<b>%{hovertext}</b><br><br>Audit Firm Name=PwC<br>Fiscal Year=%{x}<br># of Clients=%{y}<br>bubble_size=%{marker.size}<extra></extra>\",\"hovertext\":[\"PwC\"],\"ids\":[\"PwC\"],\"legendgroup\":\"PwC\",\"marker\":{\"color\":\"#19d3f3\",\"size\":[2017],\"sizemode\":\"area\",\"sizeref\":3.6733333333333333,\"symbol\":\"circle\"},\"mode\":\"markers\",\"name\":\"PwC\",\"orientation\":\"v\",\"showlegend\":true,\"x\":[2010.0],\"xaxis\":\"x\",\"y\":[2017],\"yaxis\":\"y\",\"type\":\"scatter\"}],\"name\":\"2010.0\"},{\"data\":[{\"hovertemplate\":\"<b>%{hovertext}</b><br><br>Audit Firm Name=Arthur Andersen<br>Fiscal Year=%{x}<br># of Clients=%{y}<br>bubble_size=%{marker.size}<extra></extra>\",\"hovertext\":[\"Arthur Andersen\"],\"ids\":[\"Arthur Andersen\"],\"legendgroup\":\"Arthur Andersen\",\"marker\":{\"color\":\"#636efa\",\"size\":[300],\"sizemode\":\"area\",\"sizeref\":3.6733333333333333,\"symbol\":\"circle\"},\"mode\":\"markers\",\"name\":\"Arthur Andersen\",\"orientation\":\"v\",\"showlegend\":true,\"x\":[2011.0],\"xaxis\":\"x\",\"y\":[0],\"yaxis\":\"y\",\"type\":\"scatter\"},{\"hovertemplate\":\"<b>%{hovertext}</b><br><br>Audit Firm Name=Deloitte & Touche<br>Fiscal Year=%{x}<br># of Clients=%{y}<br>bubble_size=%{marker.size}<extra></extra>\",\"hovertext\":[\"Deloitte & Touche\"],\"ids\":[\"Deloitte & Touche\"],\"legendgroup\":\"Deloitte & Touche\",\"marker\":{\"color\":\"#EF553B\",\"size\":[2368],\"sizemode\":\"area\",\"sizeref\":3.6733333333333333,\"symbol\":\"circle\"},\"mode\":\"markers\",\"name\":\"Deloitte & Touche\",\"orientation\":\"v\",\"showlegend\":true,\"x\":[2011.0],\"xaxis\":\"x\",\"y\":[2368],\"yaxis\":\"y\",\"type\":\"scatter\"},{\"hovertemplate\":\"<b>%{hovertext}</b><br><br>Audit Firm Name=Ernst & Young<br>Fiscal Year=%{x}<br># of Clients=%{y}<br>bubble_size=%{marker.size}<extra></extra>\",\"hovertext\":[\"Ernst & Young\"],\"ids\":[\"Ernst & Young\"],\"legendgroup\":\"Ernst & Young\",\"marker\":{\"color\":\"#00cc96\",\"size\":[2119],\"sizemode\":\"area\",\"sizeref\":3.6733333333333333,\"symbol\":\"circle\"},\"mode\":\"markers\",\"name\":\"Ernst & Young\",\"orientation\":\"v\",\"showlegend\":true,\"x\":[2011.0],\"xaxis\":\"x\",\"y\":[2119],\"yaxis\":\"y\",\"type\":\"scatter\"},{\"hovertemplate\":\"<b>%{hovertext}</b><br><br>Audit Firm Name=Grant Thornton<br>Fiscal Year=%{x}<br># of Clients=%{y}<br>bubble_size=%{marker.size}<extra></extra>\",\"hovertext\":[\"Grant Thornton\"],\"ids\":[\"Grant Thornton\"],\"legendgroup\":\"Grant Thornton\",\"marker\":{\"color\":\"#ab63fa\",\"size\":[1935],\"sizemode\":\"area\",\"sizeref\":3.6733333333333333,\"symbol\":\"circle\"},\"mode\":\"markers\",\"name\":\"Grant Thornton\",\"orientation\":\"v\",\"showlegend\":true,\"x\":[2011.0],\"xaxis\":\"x\",\"y\":[1935],\"yaxis\":\"y\",\"type\":\"scatter\"},{\"hovertemplate\":\"<b>%{hovertext}</b><br><br>Audit Firm Name=KPMG<br>Fiscal Year=%{x}<br># of Clients=%{y}<br>bubble_size=%{marker.size}<extra></extra>\",\"hovertext\":[\"KPMG\"],\"ids\":[\"KPMG\"],\"legendgroup\":\"KPMG\",\"marker\":{\"color\":\"#FFA15A\",\"size\":[1441],\"sizemode\":\"area\",\"sizeref\":3.6733333333333333,\"symbol\":\"circle\"},\"mode\":\"markers\",\"name\":\"KPMG\",\"orientation\":\"v\",\"showlegend\":true,\"x\":[2011.0],\"xaxis\":\"x\",\"y\":[1441],\"yaxis\":\"y\",\"type\":\"scatter\"},{\"hovertemplate\":\"<b>%{hovertext}</b><br><br>Audit Firm Name=PwC<br>Fiscal Year=%{x}<br># of Clients=%{y}<br>bubble_size=%{marker.size}<extra></extra>\",\"hovertext\":[\"PwC\"],\"ids\":[\"PwC\"],\"legendgroup\":\"PwC\",\"marker\":{\"color\":\"#19d3f3\",\"size\":[2083],\"sizemode\":\"area\",\"sizeref\":3.6733333333333333,\"symbol\":\"circle\"},\"mode\":\"markers\",\"name\":\"PwC\",\"orientation\":\"v\",\"showlegend\":true,\"x\":[2011.0],\"xaxis\":\"x\",\"y\":[2083],\"yaxis\":\"y\",\"type\":\"scatter\"}],\"name\":\"2011.0\"},{\"data\":[{\"hovertemplate\":\"<b>%{hovertext}</b><br><br>Audit Firm Name=Arthur Andersen<br>Fiscal Year=%{x}<br># of Clients=%{y}<br>bubble_size=%{marker.size}<extra></extra>\",\"hovertext\":[\"Arthur Andersen\"],\"ids\":[\"Arthur Andersen\"],\"legendgroup\":\"Arthur Andersen\",\"marker\":{\"color\":\"#636efa\",\"size\":[300],\"sizemode\":\"area\",\"sizeref\":3.6733333333333333,\"symbol\":\"circle\"},\"mode\":\"markers\",\"name\":\"Arthur Andersen\",\"orientation\":\"v\",\"showlegend\":true,\"x\":[2012.0],\"xaxis\":\"x\",\"y\":[0],\"yaxis\":\"y\",\"type\":\"scatter\"},{\"hovertemplate\":\"<b>%{hovertext}</b><br><br>Audit Firm Name=Deloitte & Touche<br>Fiscal Year=%{x}<br># of Clients=%{y}<br>bubble_size=%{marker.size}<extra></extra>\",\"hovertext\":[\"Deloitte & Touche\"],\"ids\":[\"Deloitte & Touche\"],\"legendgroup\":\"Deloitte & Touche\",\"marker\":{\"color\":\"#EF553B\",\"size\":[2407],\"sizemode\":\"area\",\"sizeref\":3.6733333333333333,\"symbol\":\"circle\"},\"mode\":\"markers\",\"name\":\"Deloitte & Touche\",\"orientation\":\"v\",\"showlegend\":true,\"x\":[2012.0],\"xaxis\":\"x\",\"y\":[2407],\"yaxis\":\"y\",\"type\":\"scatter\"},{\"hovertemplate\":\"<b>%{hovertext}</b><br><br>Audit Firm Name=Ernst & Young<br>Fiscal Year=%{x}<br># of Clients=%{y}<br>bubble_size=%{marker.size}<extra></extra>\",\"hovertext\":[\"Ernst & Young\"],\"ids\":[\"Ernst & Young\"],\"legendgroup\":\"Ernst & Young\",\"marker\":{\"color\":\"#00cc96\",\"size\":[2122],\"sizemode\":\"area\",\"sizeref\":3.6733333333333333,\"symbol\":\"circle\"},\"mode\":\"markers\",\"name\":\"Ernst & Young\",\"orientation\":\"v\",\"showlegend\":true,\"x\":[2012.0],\"xaxis\":\"x\",\"y\":[2122],\"yaxis\":\"y\",\"type\":\"scatter\"},{\"hovertemplate\":\"<b>%{hovertext}</b><br><br>Audit Firm Name=Grant Thornton<br>Fiscal Year=%{x}<br># of Clients=%{y}<br>bubble_size=%{marker.size}<extra></extra>\",\"hovertext\":[\"Grant Thornton\"],\"ids\":[\"Grant Thornton\"],\"legendgroup\":\"Grant Thornton\",\"marker\":{\"color\":\"#ab63fa\",\"size\":[2000],\"sizemode\":\"area\",\"sizeref\":3.6733333333333333,\"symbol\":\"circle\"},\"mode\":\"markers\",\"name\":\"Grant Thornton\",\"orientation\":\"v\",\"showlegend\":true,\"x\":[2012.0],\"xaxis\":\"x\",\"y\":[2000],\"yaxis\":\"y\",\"type\":\"scatter\"},{\"hovertemplate\":\"<b>%{hovertext}</b><br><br>Audit Firm Name=KPMG<br>Fiscal Year=%{x}<br># of Clients=%{y}<br>bubble_size=%{marker.size}<extra></extra>\",\"hovertext\":[\"KPMG\"],\"ids\":[\"KPMG\"],\"legendgroup\":\"KPMG\",\"marker\":{\"color\":\"#FFA15A\",\"size\":[1424],\"sizemode\":\"area\",\"sizeref\":3.6733333333333333,\"symbol\":\"circle\"},\"mode\":\"markers\",\"name\":\"KPMG\",\"orientation\":\"v\",\"showlegend\":true,\"x\":[2012.0],\"xaxis\":\"x\",\"y\":[1424],\"yaxis\":\"y\",\"type\":\"scatter\"},{\"hovertemplate\":\"<b>%{hovertext}</b><br><br>Audit Firm Name=PwC<br>Fiscal Year=%{x}<br># of Clients=%{y}<br>bubble_size=%{marker.size}<extra></extra>\",\"hovertext\":[\"PwC\"],\"ids\":[\"PwC\"],\"legendgroup\":\"PwC\",\"marker\":{\"color\":\"#19d3f3\",\"size\":[2014],\"sizemode\":\"area\",\"sizeref\":3.6733333333333333,\"symbol\":\"circle\"},\"mode\":\"markers\",\"name\":\"PwC\",\"orientation\":\"v\",\"showlegend\":true,\"x\":[2012.0],\"xaxis\":\"x\",\"y\":[2014],\"yaxis\":\"y\",\"type\":\"scatter\"}],\"name\":\"2012.0\"},{\"data\":[{\"hovertemplate\":\"<b>%{hovertext}</b><br><br>Audit Firm Name=Arthur Andersen<br>Fiscal Year=%{x}<br># of Clients=%{y}<br>bubble_size=%{marker.size}<extra></extra>\",\"hovertext\":[\"Arthur Andersen\"],\"ids\":[\"Arthur Andersen\"],\"legendgroup\":\"Arthur Andersen\",\"marker\":{\"color\":\"#636efa\",\"size\":[300],\"sizemode\":\"area\",\"sizeref\":3.6733333333333333,\"symbol\":\"circle\"},\"mode\":\"markers\",\"name\":\"Arthur Andersen\",\"orientation\":\"v\",\"showlegend\":true,\"x\":[2013.0],\"xaxis\":\"x\",\"y\":[0],\"yaxis\":\"y\",\"type\":\"scatter\"},{\"hovertemplate\":\"<b>%{hovertext}</b><br><br>Audit Firm Name=Deloitte & Touche<br>Fiscal Year=%{x}<br># of Clients=%{y}<br>bubble_size=%{marker.size}<extra></extra>\",\"hovertext\":[\"Deloitte & Touche\"],\"ids\":[\"Deloitte & Touche\"],\"legendgroup\":\"Deloitte & Touche\",\"marker\":{\"color\":\"#EF553B\",\"size\":[2399],\"sizemode\":\"area\",\"sizeref\":3.6733333333333333,\"symbol\":\"circle\"},\"mode\":\"markers\",\"name\":\"Deloitte & Touche\",\"orientation\":\"v\",\"showlegend\":true,\"x\":[2013.0],\"xaxis\":\"x\",\"y\":[2399],\"yaxis\":\"y\",\"type\":\"scatter\"},{\"hovertemplate\":\"<b>%{hovertext}</b><br><br>Audit Firm Name=Ernst & Young<br>Fiscal Year=%{x}<br># of Clients=%{y}<br>bubble_size=%{marker.size}<extra></extra>\",\"hovertext\":[\"Ernst & Young\"],\"ids\":[\"Ernst & Young\"],\"legendgroup\":\"Ernst & Young\",\"marker\":{\"color\":\"#00cc96\",\"size\":[2149],\"sizemode\":\"area\",\"sizeref\":3.6733333333333333,\"symbol\":\"circle\"},\"mode\":\"markers\",\"name\":\"Ernst & Young\",\"orientation\":\"v\",\"showlegend\":true,\"x\":[2013.0],\"xaxis\":\"x\",\"y\":[2149],\"yaxis\":\"y\",\"type\":\"scatter\"},{\"hovertemplate\":\"<b>%{hovertext}</b><br><br>Audit Firm Name=Grant Thornton<br>Fiscal Year=%{x}<br># of Clients=%{y}<br>bubble_size=%{marker.size}<extra></extra>\",\"hovertext\":[\"Grant Thornton\"],\"ids\":[\"Grant Thornton\"],\"legendgroup\":\"Grant Thornton\",\"marker\":{\"color\":\"#ab63fa\",\"size\":[1956],\"sizemode\":\"area\",\"sizeref\":3.6733333333333333,\"symbol\":\"circle\"},\"mode\":\"markers\",\"name\":\"Grant Thornton\",\"orientation\":\"v\",\"showlegend\":true,\"x\":[2013.0],\"xaxis\":\"x\",\"y\":[1956],\"yaxis\":\"y\",\"type\":\"scatter\"},{\"hovertemplate\":\"<b>%{hovertext}</b><br><br>Audit Firm Name=KPMG<br>Fiscal Year=%{x}<br># of Clients=%{y}<br>bubble_size=%{marker.size}<extra></extra>\",\"hovertext\":[\"KPMG\"],\"ids\":[\"KPMG\"],\"legendgroup\":\"KPMG\",\"marker\":{\"color\":\"#FFA15A\",\"size\":[1418],\"sizemode\":\"area\",\"sizeref\":3.6733333333333333,\"symbol\":\"circle\"},\"mode\":\"markers\",\"name\":\"KPMG\",\"orientation\":\"v\",\"showlegend\":true,\"x\":[2013.0],\"xaxis\":\"x\",\"y\":[1418],\"yaxis\":\"y\",\"type\":\"scatter\"},{\"hovertemplate\":\"<b>%{hovertext}</b><br><br>Audit Firm Name=PwC<br>Fiscal Year=%{x}<br># of Clients=%{y}<br>bubble_size=%{marker.size}<extra></extra>\",\"hovertext\":[\"PwC\"],\"ids\":[\"PwC\"],\"legendgroup\":\"PwC\",\"marker\":{\"color\":\"#19d3f3\",\"size\":[2006],\"sizemode\":\"area\",\"sizeref\":3.6733333333333333,\"symbol\":\"circle\"},\"mode\":\"markers\",\"name\":\"PwC\",\"orientation\":\"v\",\"showlegend\":true,\"x\":[2013.0],\"xaxis\":\"x\",\"y\":[2006],\"yaxis\":\"y\",\"type\":\"scatter\"}],\"name\":\"2013.0\"},{\"data\":[{\"hovertemplate\":\"<b>%{hovertext}</b><br><br>Audit Firm Name=Arthur Andersen<br>Fiscal Year=%{x}<br># of Clients=%{y}<br>bubble_size=%{marker.size}<extra></extra>\",\"hovertext\":[\"Arthur Andersen\"],\"ids\":[\"Arthur Andersen\"],\"legendgroup\":\"Arthur Andersen\",\"marker\":{\"color\":\"#636efa\",\"size\":[300],\"sizemode\":\"area\",\"sizeref\":3.6733333333333333,\"symbol\":\"circle\"},\"mode\":\"markers\",\"name\":\"Arthur Andersen\",\"orientation\":\"v\",\"showlegend\":true,\"x\":[2014.0],\"xaxis\":\"x\",\"y\":[0],\"yaxis\":\"y\",\"type\":\"scatter\"},{\"hovertemplate\":\"<b>%{hovertext}</b><br><br>Audit Firm Name=Deloitte & Touche<br>Fiscal Year=%{x}<br># of Clients=%{y}<br>bubble_size=%{marker.size}<extra></extra>\",\"hovertext\":[\"Deloitte & Touche\"],\"ids\":[\"Deloitte & Touche\"],\"legendgroup\":\"Deloitte & Touche\",\"marker\":{\"color\":\"#EF553B\",\"size\":[2434],\"sizemode\":\"area\",\"sizeref\":3.6733333333333333,\"symbol\":\"circle\"},\"mode\":\"markers\",\"name\":\"Deloitte & Touche\",\"orientation\":\"v\",\"showlegend\":true,\"x\":[2014.0],\"xaxis\":\"x\",\"y\":[2434],\"yaxis\":\"y\",\"type\":\"scatter\"},{\"hovertemplate\":\"<b>%{hovertext}</b><br><br>Audit Firm Name=Ernst & Young<br>Fiscal Year=%{x}<br># of Clients=%{y}<br>bubble_size=%{marker.size}<extra></extra>\",\"hovertext\":[\"Ernst & Young\"],\"ids\":[\"Ernst & Young\"],\"legendgroup\":\"Ernst & Young\",\"marker\":{\"color\":\"#00cc96\",\"size\":[1963],\"sizemode\":\"area\",\"sizeref\":3.6733333333333333,\"symbol\":\"circle\"},\"mode\":\"markers\",\"name\":\"Ernst & Young\",\"orientation\":\"v\",\"showlegend\":true,\"x\":[2014.0],\"xaxis\":\"x\",\"y\":[1963],\"yaxis\":\"y\",\"type\":\"scatter\"},{\"hovertemplate\":\"<b>%{hovertext}</b><br><br>Audit Firm Name=Grant Thornton<br>Fiscal Year=%{x}<br># of Clients=%{y}<br>bubble_size=%{marker.size}<extra></extra>\",\"hovertext\":[\"Grant Thornton\"],\"ids\":[\"Grant Thornton\"],\"legendgroup\":\"Grant Thornton\",\"marker\":{\"color\":\"#ab63fa\",\"size\":[1906],\"sizemode\":\"area\",\"sizeref\":3.6733333333333333,\"symbol\":\"circle\"},\"mode\":\"markers\",\"name\":\"Grant Thornton\",\"orientation\":\"v\",\"showlegend\":true,\"x\":[2014.0],\"xaxis\":\"x\",\"y\":[1906],\"yaxis\":\"y\",\"type\":\"scatter\"},{\"hovertemplate\":\"<b>%{hovertext}</b><br><br>Audit Firm Name=KPMG<br>Fiscal Year=%{x}<br># of Clients=%{y}<br>bubble_size=%{marker.size}<extra></extra>\",\"hovertext\":[\"KPMG\"],\"ids\":[\"KPMG\"],\"legendgroup\":\"KPMG\",\"marker\":{\"color\":\"#FFA15A\",\"size\":[1509],\"sizemode\":\"area\",\"sizeref\":3.6733333333333333,\"symbol\":\"circle\"},\"mode\":\"markers\",\"name\":\"KPMG\",\"orientation\":\"v\",\"showlegend\":true,\"x\":[2014.0],\"xaxis\":\"x\",\"y\":[1509],\"yaxis\":\"y\",\"type\":\"scatter\"},{\"hovertemplate\":\"<b>%{hovertext}</b><br><br>Audit Firm Name=PwC<br>Fiscal Year=%{x}<br># of Clients=%{y}<br>bubble_size=%{marker.size}<extra></extra>\",\"hovertext\":[\"PwC\"],\"ids\":[\"PwC\"],\"legendgroup\":\"PwC\",\"marker\":{\"color\":\"#19d3f3\",\"size\":[2008],\"sizemode\":\"area\",\"sizeref\":3.6733333333333333,\"symbol\":\"circle\"},\"mode\":\"markers\",\"name\":\"PwC\",\"orientation\":\"v\",\"showlegend\":true,\"x\":[2014.0],\"xaxis\":\"x\",\"y\":[2008],\"yaxis\":\"y\",\"type\":\"scatter\"}],\"name\":\"2014.0\"},{\"data\":[{\"hovertemplate\":\"<b>%{hovertext}</b><br><br>Audit Firm Name=Arthur Andersen<br>Fiscal Year=%{x}<br># of Clients=%{y}<br>bubble_size=%{marker.size}<extra></extra>\",\"hovertext\":[\"Arthur Andersen\"],\"ids\":[\"Arthur Andersen\"],\"legendgroup\":\"Arthur Andersen\",\"marker\":{\"color\":\"#636efa\",\"size\":[300],\"sizemode\":\"area\",\"sizeref\":3.6733333333333333,\"symbol\":\"circle\"},\"mode\":\"markers\",\"name\":\"Arthur Andersen\",\"orientation\":\"v\",\"showlegend\":true,\"x\":[2015.0],\"xaxis\":\"x\",\"y\":[0],\"yaxis\":\"y\",\"type\":\"scatter\"},{\"hovertemplate\":\"<b>%{hovertext}</b><br><br>Audit Firm Name=Deloitte & Touche<br>Fiscal Year=%{x}<br># of Clients=%{y}<br>bubble_size=%{marker.size}<extra></extra>\",\"hovertext\":[\"Deloitte & Touche\"],\"ids\":[\"Deloitte & Touche\"],\"legendgroup\":\"Deloitte & Touche\",\"marker\":{\"color\":\"#EF553B\",\"size\":[2330],\"sizemode\":\"area\",\"sizeref\":3.6733333333333333,\"symbol\":\"circle\"},\"mode\":\"markers\",\"name\":\"Deloitte & Touche\",\"orientation\":\"v\",\"showlegend\":true,\"x\":[2015.0],\"xaxis\":\"x\",\"y\":[2330],\"yaxis\":\"y\",\"type\":\"scatter\"},{\"hovertemplate\":\"<b>%{hovertext}</b><br><br>Audit Firm Name=Ernst & Young<br>Fiscal Year=%{x}<br># of Clients=%{y}<br>bubble_size=%{marker.size}<extra></extra>\",\"hovertext\":[\"Ernst & Young\"],\"ids\":[\"Ernst & Young\"],\"legendgroup\":\"Ernst & Young\",\"marker\":{\"color\":\"#00cc96\",\"size\":[1789],\"sizemode\":\"area\",\"sizeref\":3.6733333333333333,\"symbol\":\"circle\"},\"mode\":\"markers\",\"name\":\"Ernst & Young\",\"orientation\":\"v\",\"showlegend\":true,\"x\":[2015.0],\"xaxis\":\"x\",\"y\":[1789],\"yaxis\":\"y\",\"type\":\"scatter\"},{\"hovertemplate\":\"<b>%{hovertext}</b><br><br>Audit Firm Name=Grant Thornton<br>Fiscal Year=%{x}<br># of Clients=%{y}<br>bubble_size=%{marker.size}<extra></extra>\",\"hovertext\":[\"Grant Thornton\"],\"ids\":[\"Grant Thornton\"],\"legendgroup\":\"Grant Thornton\",\"marker\":{\"color\":\"#ab63fa\",\"size\":[1801],\"sizemode\":\"area\",\"sizeref\":3.6733333333333333,\"symbol\":\"circle\"},\"mode\":\"markers\",\"name\":\"Grant Thornton\",\"orientation\":\"v\",\"showlegend\":true,\"x\":[2015.0],\"xaxis\":\"x\",\"y\":[1801],\"yaxis\":\"y\",\"type\":\"scatter\"},{\"hovertemplate\":\"<b>%{hovertext}</b><br><br>Audit Firm Name=KPMG<br>Fiscal Year=%{x}<br># of Clients=%{y}<br>bubble_size=%{marker.size}<extra></extra>\",\"hovertext\":[\"KPMG\"],\"ids\":[\"KPMG\"],\"legendgroup\":\"KPMG\",\"marker\":{\"color\":\"#FFA15A\",\"size\":[1536],\"sizemode\":\"area\",\"sizeref\":3.6733333333333333,\"symbol\":\"circle\"},\"mode\":\"markers\",\"name\":\"KPMG\",\"orientation\":\"v\",\"showlegend\":true,\"x\":[2015.0],\"xaxis\":\"x\",\"y\":[1536],\"yaxis\":\"y\",\"type\":\"scatter\"},{\"hovertemplate\":\"<b>%{hovertext}</b><br><br>Audit Firm Name=PwC<br>Fiscal Year=%{x}<br># of Clients=%{y}<br>bubble_size=%{marker.size}<extra></extra>\",\"hovertext\":[\"PwC\"],\"ids\":[\"PwC\"],\"legendgroup\":\"PwC\",\"marker\":{\"color\":\"#19d3f3\",\"size\":[1962],\"sizemode\":\"area\",\"sizeref\":3.6733333333333333,\"symbol\":\"circle\"},\"mode\":\"markers\",\"name\":\"PwC\",\"orientation\":\"v\",\"showlegend\":true,\"x\":[2015.0],\"xaxis\":\"x\",\"y\":[1962],\"yaxis\":\"y\",\"type\":\"scatter\"}],\"name\":\"2015.0\"},{\"data\":[{\"hovertemplate\":\"<b>%{hovertext}</b><br><br>Audit Firm Name=Arthur Andersen<br>Fiscal Year=%{x}<br># of Clients=%{y}<br>bubble_size=%{marker.size}<extra></extra>\",\"hovertext\":[\"Arthur Andersen\"],\"ids\":[\"Arthur Andersen\"],\"legendgroup\":\"Arthur Andersen\",\"marker\":{\"color\":\"#636efa\",\"size\":[300],\"sizemode\":\"area\",\"sizeref\":3.6733333333333333,\"symbol\":\"circle\"},\"mode\":\"markers\",\"name\":\"Arthur Andersen\",\"orientation\":\"v\",\"showlegend\":true,\"x\":[2016.0],\"xaxis\":\"x\",\"y\":[0],\"yaxis\":\"y\",\"type\":\"scatter\"},{\"hovertemplate\":\"<b>%{hovertext}</b><br><br>Audit Firm Name=Deloitte & Touche<br>Fiscal Year=%{x}<br># of Clients=%{y}<br>bubble_size=%{marker.size}<extra></extra>\",\"hovertext\":[\"Deloitte & Touche\"],\"ids\":[\"Deloitte & Touche\"],\"legendgroup\":\"Deloitte & Touche\",\"marker\":{\"color\":\"#EF553B\",\"size\":[2273],\"sizemode\":\"area\",\"sizeref\":3.6733333333333333,\"symbol\":\"circle\"},\"mode\":\"markers\",\"name\":\"Deloitte & Touche\",\"orientation\":\"v\",\"showlegend\":true,\"x\":[2016.0],\"xaxis\":\"x\",\"y\":[2273],\"yaxis\":\"y\",\"type\":\"scatter\"},{\"hovertemplate\":\"<b>%{hovertext}</b><br><br>Audit Firm Name=Ernst & Young<br>Fiscal Year=%{x}<br># of Clients=%{y}<br>bubble_size=%{marker.size}<extra></extra>\",\"hovertext\":[\"Ernst & Young\"],\"ids\":[\"Ernst & Young\"],\"legendgroup\":\"Ernst & Young\",\"marker\":{\"color\":\"#00cc96\",\"size\":[1743],\"sizemode\":\"area\",\"sizeref\":3.6733333333333333,\"symbol\":\"circle\"},\"mode\":\"markers\",\"name\":\"Ernst & Young\",\"orientation\":\"v\",\"showlegend\":true,\"x\":[2016.0],\"xaxis\":\"x\",\"y\":[1743],\"yaxis\":\"y\",\"type\":\"scatter\"},{\"hovertemplate\":\"<b>%{hovertext}</b><br><br>Audit Firm Name=Grant Thornton<br>Fiscal Year=%{x}<br># of Clients=%{y}<br>bubble_size=%{marker.size}<extra></extra>\",\"hovertext\":[\"Grant Thornton\"],\"ids\":[\"Grant Thornton\"],\"legendgroup\":\"Grant Thornton\",\"marker\":{\"color\":\"#ab63fa\",\"size\":[1619],\"sizemode\":\"area\",\"sizeref\":3.6733333333333333,\"symbol\":\"circle\"},\"mode\":\"markers\",\"name\":\"Grant Thornton\",\"orientation\":\"v\",\"showlegend\":true,\"x\":[2016.0],\"xaxis\":\"x\",\"y\":[1619],\"yaxis\":\"y\",\"type\":\"scatter\"},{\"hovertemplate\":\"<b>%{hovertext}</b><br><br>Audit Firm Name=KPMG<br>Fiscal Year=%{x}<br># of Clients=%{y}<br>bubble_size=%{marker.size}<extra></extra>\",\"hovertext\":[\"KPMG\"],\"ids\":[\"KPMG\"],\"legendgroup\":\"KPMG\",\"marker\":{\"color\":\"#FFA15A\",\"size\":[1468],\"sizemode\":\"area\",\"sizeref\":3.6733333333333333,\"symbol\":\"circle\"},\"mode\":\"markers\",\"name\":\"KPMG\",\"orientation\":\"v\",\"showlegend\":true,\"x\":[2016.0],\"xaxis\":\"x\",\"y\":[1468],\"yaxis\":\"y\",\"type\":\"scatter\"},{\"hovertemplate\":\"<b>%{hovertext}</b><br><br>Audit Firm Name=PwC<br>Fiscal Year=%{x}<br># of Clients=%{y}<br>bubble_size=%{marker.size}<extra></extra>\",\"hovertext\":[\"PwC\"],\"ids\":[\"PwC\"],\"legendgroup\":\"PwC\",\"marker\":{\"color\":\"#19d3f3\",\"size\":[1935],\"sizemode\":\"area\",\"sizeref\":3.6733333333333333,\"symbol\":\"circle\"},\"mode\":\"markers\",\"name\":\"PwC\",\"orientation\":\"v\",\"showlegend\":true,\"x\":[2016.0],\"xaxis\":\"x\",\"y\":[1935],\"yaxis\":\"y\",\"type\":\"scatter\"}],\"name\":\"2016.0\"},{\"data\":[{\"hovertemplate\":\"<b>%{hovertext}</b><br><br>Audit Firm Name=Arthur Andersen<br>Fiscal Year=%{x}<br># of Clients=%{y}<br>bubble_size=%{marker.size}<extra></extra>\",\"hovertext\":[\"Arthur Andersen\"],\"ids\":[\"Arthur Andersen\"],\"legendgroup\":\"Arthur Andersen\",\"marker\":{\"color\":\"#636efa\",\"size\":[300],\"sizemode\":\"area\",\"sizeref\":3.6733333333333333,\"symbol\":\"circle\"},\"mode\":\"markers\",\"name\":\"Arthur Andersen\",\"orientation\":\"v\",\"showlegend\":true,\"x\":[2017.0],\"xaxis\":\"x\",\"y\":[0],\"yaxis\":\"y\",\"type\":\"scatter\"},{\"hovertemplate\":\"<b>%{hovertext}</b><br><br>Audit Firm Name=Deloitte & Touche<br>Fiscal Year=%{x}<br># of Clients=%{y}<br>bubble_size=%{marker.size}<extra></extra>\",\"hovertext\":[\"Deloitte & Touche\"],\"ids\":[\"Deloitte & Touche\"],\"legendgroup\":\"Deloitte & Touche\",\"marker\":{\"color\":\"#EF553B\",\"size\":[2221],\"sizemode\":\"area\",\"sizeref\":3.6733333333333333,\"symbol\":\"circle\"},\"mode\":\"markers\",\"name\":\"Deloitte & Touche\",\"orientation\":\"v\",\"showlegend\":true,\"x\":[2017.0],\"xaxis\":\"x\",\"y\":[2221],\"yaxis\":\"y\",\"type\":\"scatter\"},{\"hovertemplate\":\"<b>%{hovertext}</b><br><br>Audit Firm Name=Ernst & Young<br>Fiscal Year=%{x}<br># of Clients=%{y}<br>bubble_size=%{marker.size}<extra></extra>\",\"hovertext\":[\"Ernst & Young\"],\"ids\":[\"Ernst & Young\"],\"legendgroup\":\"Ernst & Young\",\"marker\":{\"color\":\"#00cc96\",\"size\":[1772],\"sizemode\":\"area\",\"sizeref\":3.6733333333333333,\"symbol\":\"circle\"},\"mode\":\"markers\",\"name\":\"Ernst & Young\",\"orientation\":\"v\",\"showlegend\":true,\"x\":[2017.0],\"xaxis\":\"x\",\"y\":[1772],\"yaxis\":\"y\",\"type\":\"scatter\"},{\"hovertemplate\":\"<b>%{hovertext}</b><br><br>Audit Firm Name=Grant Thornton<br>Fiscal Year=%{x}<br># of Clients=%{y}<br>bubble_size=%{marker.size}<extra></extra>\",\"hovertext\":[\"Grant Thornton\"],\"ids\":[\"Grant Thornton\"],\"legendgroup\":\"Grant Thornton\",\"marker\":{\"color\":\"#ab63fa\",\"size\":[1493],\"sizemode\":\"area\",\"sizeref\":3.6733333333333333,\"symbol\":\"circle\"},\"mode\":\"markers\",\"name\":\"Grant Thornton\",\"orientation\":\"v\",\"showlegend\":true,\"x\":[2017.0],\"xaxis\":\"x\",\"y\":[1493],\"yaxis\":\"y\",\"type\":\"scatter\"},{\"hovertemplate\":\"<b>%{hovertext}</b><br><br>Audit Firm Name=KPMG<br>Fiscal Year=%{x}<br># of Clients=%{y}<br>bubble_size=%{marker.size}<extra></extra>\",\"hovertext\":[\"KPMG\"],\"ids\":[\"KPMG\"],\"legendgroup\":\"KPMG\",\"marker\":{\"color\":\"#FFA15A\",\"size\":[1444],\"sizemode\":\"area\",\"sizeref\":3.6733333333333333,\"symbol\":\"circle\"},\"mode\":\"markers\",\"name\":\"KPMG\",\"orientation\":\"v\",\"showlegend\":true,\"x\":[2017.0],\"xaxis\":\"x\",\"y\":[1444],\"yaxis\":\"y\",\"type\":\"scatter\"},{\"hovertemplate\":\"<b>%{hovertext}</b><br><br>Audit Firm Name=PwC<br>Fiscal Year=%{x}<br># of Clients=%{y}<br>bubble_size=%{marker.size}<extra></extra>\",\"hovertext\":[\"PwC\"],\"ids\":[\"PwC\"],\"legendgroup\":\"PwC\",\"marker\":{\"color\":\"#19d3f3\",\"size\":[1906],\"sizemode\":\"area\",\"sizeref\":3.6733333333333333,\"symbol\":\"circle\"},\"mode\":\"markers\",\"name\":\"PwC\",\"orientation\":\"v\",\"showlegend\":true,\"x\":[2017.0],\"xaxis\":\"x\",\"y\":[1906],\"yaxis\":\"y\",\"type\":\"scatter\"}],\"name\":\"2017.0\"},{\"data\":[{\"hovertemplate\":\"<b>%{hovertext}</b><br><br>Audit Firm Name=Arthur Andersen<br>Fiscal Year=%{x}<br># of Clients=%{y}<br>bubble_size=%{marker.size}<extra></extra>\",\"hovertext\":[\"Arthur Andersen\"],\"ids\":[\"Arthur Andersen\"],\"legendgroup\":\"Arthur Andersen\",\"marker\":{\"color\":\"#636efa\",\"size\":[300],\"sizemode\":\"area\",\"sizeref\":3.6733333333333333,\"symbol\":\"circle\"},\"mode\":\"markers\",\"name\":\"Arthur Andersen\",\"orientation\":\"v\",\"showlegend\":true,\"x\":[2018.0],\"xaxis\":\"x\",\"y\":[0],\"yaxis\":\"y\",\"type\":\"scatter\"},{\"hovertemplate\":\"<b>%{hovertext}</b><br><br>Audit Firm Name=Deloitte & Touche<br>Fiscal Year=%{x}<br># of Clients=%{y}<br>bubble_size=%{marker.size}<extra></extra>\",\"hovertext\":[\"Deloitte & Touche\"],\"ids\":[\"Deloitte & Touche\"],\"legendgroup\":\"Deloitte & Touche\",\"marker\":{\"color\":\"#EF553B\",\"size\":[2231],\"sizemode\":\"area\",\"sizeref\":3.6733333333333333,\"symbol\":\"circle\"},\"mode\":\"markers\",\"name\":\"Deloitte & Touche\",\"orientation\":\"v\",\"showlegend\":true,\"x\":[2018.0],\"xaxis\":\"x\",\"y\":[2231],\"yaxis\":\"y\",\"type\":\"scatter\"},{\"hovertemplate\":\"<b>%{hovertext}</b><br><br>Audit Firm Name=Ernst & Young<br>Fiscal Year=%{x}<br># of Clients=%{y}<br>bubble_size=%{marker.size}<extra></extra>\",\"hovertext\":[\"Ernst & Young\"],\"ids\":[\"Ernst & Young\"],\"legendgroup\":\"Ernst & Young\",\"marker\":{\"color\":\"#00cc96\",\"size\":[1708],\"sizemode\":\"area\",\"sizeref\":3.6733333333333333,\"symbol\":\"circle\"},\"mode\":\"markers\",\"name\":\"Ernst & Young\",\"orientation\":\"v\",\"showlegend\":true,\"x\":[2018.0],\"xaxis\":\"x\",\"y\":[1708],\"yaxis\":\"y\",\"type\":\"scatter\"},{\"hovertemplate\":\"<b>%{hovertext}</b><br><br>Audit Firm Name=Grant Thornton<br>Fiscal Year=%{x}<br># of Clients=%{y}<br>bubble_size=%{marker.size}<extra></extra>\",\"hovertext\":[\"Grant Thornton\"],\"ids\":[\"Grant Thornton\"],\"legendgroup\":\"Grant Thornton\",\"marker\":{\"color\":\"#ab63fa\",\"size\":[1406],\"sizemode\":\"area\",\"sizeref\":3.6733333333333333,\"symbol\":\"circle\"},\"mode\":\"markers\",\"name\":\"Grant Thornton\",\"orientation\":\"v\",\"showlegend\":true,\"x\":[2018.0],\"xaxis\":\"x\",\"y\":[1406],\"yaxis\":\"y\",\"type\":\"scatter\"},{\"hovertemplate\":\"<b>%{hovertext}</b><br><br>Audit Firm Name=KPMG<br>Fiscal Year=%{x}<br># of Clients=%{y}<br>bubble_size=%{marker.size}<extra></extra>\",\"hovertext\":[\"KPMG\"],\"ids\":[\"KPMG\"],\"legendgroup\":\"KPMG\",\"marker\":{\"color\":\"#FFA15A\",\"size\":[1357],\"sizemode\":\"area\",\"sizeref\":3.6733333333333333,\"symbol\":\"circle\"},\"mode\":\"markers\",\"name\":\"KPMG\",\"orientation\":\"v\",\"showlegend\":true,\"x\":[2018.0],\"xaxis\":\"x\",\"y\":[1357],\"yaxis\":\"y\",\"type\":\"scatter\"},{\"hovertemplate\":\"<b>%{hovertext}</b><br><br>Audit Firm Name=PwC<br>Fiscal Year=%{x}<br># of Clients=%{y}<br>bubble_size=%{marker.size}<extra></extra>\",\"hovertext\":[\"PwC\"],\"ids\":[\"PwC\"],\"legendgroup\":\"PwC\",\"marker\":{\"color\":\"#19d3f3\",\"size\":[1876],\"sizemode\":\"area\",\"sizeref\":3.6733333333333333,\"symbol\":\"circle\"},\"mode\":\"markers\",\"name\":\"PwC\",\"orientation\":\"v\",\"showlegend\":true,\"x\":[2018.0],\"xaxis\":\"x\",\"y\":[1876],\"yaxis\":\"y\",\"type\":\"scatter\"}],\"name\":\"2018.0\"},{\"data\":[{\"hovertemplate\":\"<b>%{hovertext}</b><br><br>Audit Firm Name=Arthur Andersen<br>Fiscal Year=%{x}<br># of Clients=%{y}<br>bubble_size=%{marker.size}<extra></extra>\",\"hovertext\":[\"Arthur Andersen\"],\"ids\":[\"Arthur Andersen\"],\"legendgroup\":\"Arthur Andersen\",\"marker\":{\"color\":\"#636efa\",\"size\":[300],\"sizemode\":\"area\",\"sizeref\":3.6733333333333333,\"symbol\":\"circle\"},\"mode\":\"markers\",\"name\":\"Arthur Andersen\",\"orientation\":\"v\",\"showlegend\":true,\"x\":[2019.0],\"xaxis\":\"x\",\"y\":[0],\"yaxis\":\"y\",\"type\":\"scatter\"},{\"hovertemplate\":\"<b>%{hovertext}</b><br><br>Audit Firm Name=Deloitte & Touche<br>Fiscal Year=%{x}<br># of Clients=%{y}<br>bubble_size=%{marker.size}<extra></extra>\",\"hovertext\":[\"Deloitte & Touche\"],\"ids\":[\"Deloitte & Touche\"],\"legendgroup\":\"Deloitte & Touche\",\"marker\":{\"color\":\"#EF553B\",\"size\":[2192],\"sizemode\":\"area\",\"sizeref\":3.6733333333333333,\"symbol\":\"circle\"},\"mode\":\"markers\",\"name\":\"Deloitte & Touche\",\"orientation\":\"v\",\"showlegend\":true,\"x\":[2019.0],\"xaxis\":\"x\",\"y\":[2192],\"yaxis\":\"y\",\"type\":\"scatter\"},{\"hovertemplate\":\"<b>%{hovertext}</b><br><br>Audit Firm Name=Ernst & Young<br>Fiscal Year=%{x}<br># of Clients=%{y}<br>bubble_size=%{marker.size}<extra></extra>\",\"hovertext\":[\"Ernst & Young\"],\"ids\":[\"Ernst & Young\"],\"legendgroup\":\"Ernst & Young\",\"marker\":{\"color\":\"#00cc96\",\"size\":[1744],\"sizemode\":\"area\",\"sizeref\":3.6733333333333333,\"symbol\":\"circle\"},\"mode\":\"markers\",\"name\":\"Ernst & Young\",\"orientation\":\"v\",\"showlegend\":true,\"x\":[2019.0],\"xaxis\":\"x\",\"y\":[1744],\"yaxis\":\"y\",\"type\":\"scatter\"},{\"hovertemplate\":\"<b>%{hovertext}</b><br><br>Audit Firm Name=Grant Thornton<br>Fiscal Year=%{x}<br># of Clients=%{y}<br>bubble_size=%{marker.size}<extra></extra>\",\"hovertext\":[\"Grant Thornton\"],\"ids\":[\"Grant Thornton\"],\"legendgroup\":\"Grant Thornton\",\"marker\":{\"color\":\"#ab63fa\",\"size\":[1271],\"sizemode\":\"area\",\"sizeref\":3.6733333333333333,\"symbol\":\"circle\"},\"mode\":\"markers\",\"name\":\"Grant Thornton\",\"orientation\":\"v\",\"showlegend\":true,\"x\":[2019.0],\"xaxis\":\"x\",\"y\":[1271],\"yaxis\":\"y\",\"type\":\"scatter\"},{\"hovertemplate\":\"<b>%{hovertext}</b><br><br>Audit Firm Name=KPMG<br>Fiscal Year=%{x}<br># of Clients=%{y}<br>bubble_size=%{marker.size}<extra></extra>\",\"hovertext\":[\"KPMG\"],\"ids\":[\"KPMG\"],\"legendgroup\":\"KPMG\",\"marker\":{\"color\":\"#FFA15A\",\"size\":[1273],\"sizemode\":\"area\",\"sizeref\":3.6733333333333333,\"symbol\":\"circle\"},\"mode\":\"markers\",\"name\":\"KPMG\",\"orientation\":\"v\",\"showlegend\":true,\"x\":[2019.0],\"xaxis\":\"x\",\"y\":[1273],\"yaxis\":\"y\",\"type\":\"scatter\"},{\"hovertemplate\":\"<b>%{hovertext}</b><br><br>Audit Firm Name=PwC<br>Fiscal Year=%{x}<br># of Clients=%{y}<br>bubble_size=%{marker.size}<extra></extra>\",\"hovertext\":[\"PwC\"],\"ids\":[\"PwC\"],\"legendgroup\":\"PwC\",\"marker\":{\"color\":\"#19d3f3\",\"size\":[1835],\"sizemode\":\"area\",\"sizeref\":3.6733333333333333,\"symbol\":\"circle\"},\"mode\":\"markers\",\"name\":\"PwC\",\"orientation\":\"v\",\"showlegend\":true,\"x\":[2019.0],\"xaxis\":\"x\",\"y\":[1835],\"yaxis\":\"y\",\"type\":\"scatter\"}],\"name\":\"2019.0\"},{\"data\":[{\"hovertemplate\":\"<b>%{hovertext}</b><br><br>Audit Firm Name=Arthur Andersen<br>Fiscal Year=%{x}<br># of Clients=%{y}<br>bubble_size=%{marker.size}<extra></extra>\",\"hovertext\":[\"Arthur Andersen\"],\"ids\":[\"Arthur Andersen\"],\"legendgroup\":\"Arthur Andersen\",\"marker\":{\"color\":\"#636efa\",\"size\":[300],\"sizemode\":\"area\",\"sizeref\":3.6733333333333333,\"symbol\":\"circle\"},\"mode\":\"markers\",\"name\":\"Arthur Andersen\",\"orientation\":\"v\",\"showlegend\":true,\"x\":[2020.0],\"xaxis\":\"x\",\"y\":[0],\"yaxis\":\"y\",\"type\":\"scatter\"},{\"hovertemplate\":\"<b>%{hovertext}</b><br><br>Audit Firm Name=Deloitte & Touche<br>Fiscal Year=%{x}<br># of Clients=%{y}<br>bubble_size=%{marker.size}<extra></extra>\",\"hovertext\":[\"Deloitte & Touche\"],\"ids\":[\"Deloitte & Touche\"],\"legendgroup\":\"Deloitte & Touche\",\"marker\":{\"color\":\"#EF553B\",\"size\":[2306],\"sizemode\":\"area\",\"sizeref\":3.6733333333333333,\"symbol\":\"circle\"},\"mode\":\"markers\",\"name\":\"Deloitte & Touche\",\"orientation\":\"v\",\"showlegend\":true,\"x\":[2020.0],\"xaxis\":\"x\",\"y\":[2306],\"yaxis\":\"y\",\"type\":\"scatter\"},{\"hovertemplate\":\"<b>%{hovertext}</b><br><br>Audit Firm Name=Ernst & Young<br>Fiscal Year=%{x}<br># of Clients=%{y}<br>bubble_size=%{marker.size}<extra></extra>\",\"hovertext\":[\"Ernst & Young\"],\"ids\":[\"Ernst & Young\"],\"legendgroup\":\"Ernst & Young\",\"marker\":{\"color\":\"#00cc96\",\"size\":[1866],\"sizemode\":\"area\",\"sizeref\":3.6733333333333333,\"symbol\":\"circle\"},\"mode\":\"markers\",\"name\":\"Ernst & Young\",\"orientation\":\"v\",\"showlegend\":true,\"x\":[2020.0],\"xaxis\":\"x\",\"y\":[1866],\"yaxis\":\"y\",\"type\":\"scatter\"},{\"hovertemplate\":\"<b>%{hovertext}</b><br><br>Audit Firm Name=Grant Thornton<br>Fiscal Year=%{x}<br># of Clients=%{y}<br>bubble_size=%{marker.size}<extra></extra>\",\"hovertext\":[\"Grant Thornton\"],\"ids\":[\"Grant Thornton\"],\"legendgroup\":\"Grant Thornton\",\"marker\":{\"color\":\"#ab63fa\",\"size\":[1075],\"sizemode\":\"area\",\"sizeref\":3.6733333333333333,\"symbol\":\"circle\"},\"mode\":\"markers\",\"name\":\"Grant Thornton\",\"orientation\":\"v\",\"showlegend\":true,\"x\":[2020.0],\"xaxis\":\"x\",\"y\":[1075],\"yaxis\":\"y\",\"type\":\"scatter\"},{\"hovertemplate\":\"<b>%{hovertext}</b><br><br>Audit Firm Name=KPMG<br>Fiscal Year=%{x}<br># of Clients=%{y}<br>bubble_size=%{marker.size}<extra></extra>\",\"hovertext\":[\"KPMG\"],\"ids\":[\"KPMG\"],\"legendgroup\":\"KPMG\",\"marker\":{\"color\":\"#FFA15A\",\"size\":[1280],\"sizemode\":\"area\",\"sizeref\":3.6733333333333333,\"symbol\":\"circle\"},\"mode\":\"markers\",\"name\":\"KPMG\",\"orientation\":\"v\",\"showlegend\":true,\"x\":[2020.0],\"xaxis\":\"x\",\"y\":[1280],\"yaxis\":\"y\",\"type\":\"scatter\"},{\"hovertemplate\":\"<b>%{hovertext}</b><br><br>Audit Firm Name=PwC<br>Fiscal Year=%{x}<br># of Clients=%{y}<br>bubble_size=%{marker.size}<extra></extra>\",\"hovertext\":[\"PwC\"],\"ids\":[\"PwC\"],\"legendgroup\":\"PwC\",\"marker\":{\"color\":\"#19d3f3\",\"size\":[2040],\"sizemode\":\"area\",\"sizeref\":3.6733333333333333,\"symbol\":\"circle\"},\"mode\":\"markers\",\"name\":\"PwC\",\"orientation\":\"v\",\"showlegend\":true,\"x\":[2020.0],\"xaxis\":\"x\",\"y\":[2040],\"yaxis\":\"y\",\"type\":\"scatter\"}],\"name\":\"2020.0\"}]);\n",
       "                        }).then(function(){\n",
       "                            \n",
       "var gd = document.getElementById('4ae62fee-12b7-4806-a767-c645d8bdc7f0');\n",
       "var x = new MutationObserver(function (mutations, observer) {{\n",
       "        var display = window.getComputedStyle(gd).display;\n",
       "        if (!display || display === 'none') {{\n",
       "            console.log([gd, 'removed!']);\n",
       "            Plotly.purge(gd);\n",
       "            observer.disconnect();\n",
       "        }}\n",
       "}});\n",
       "\n",
       "// Listen for the removal of the full notebook cells\n",
       "var notebookContainer = gd.closest('#notebook-container');\n",
       "if (notebookContainer) {{\n",
       "    x.observe(notebookContainer, {childList: true});\n",
       "}}\n",
       "\n",
       "// Listen for the clearing of the current output cell\n",
       "var outputEl = gd.closest('.output');\n",
       "if (outputEl) {{\n",
       "    x.observe(outputEl, {childList: true});\n",
       "}}\n",
       "\n",
       "                        })                };                });            </script>        </div>"
      ]
     },
     "metadata": {},
     "output_type": "display_data"
    }
   ],
   "source": [
    "fig=px.scatter(df_cross_melted, x='fy', y='count',\n",
    "               hover_name='afn',\n",
    "               animation_frame='fy',\n",
    "               animation_group='afn',\n",
    "               color='afn',\n",
    "               size='bubble_size',\n",
    "               size_max=30,\n",
    "               range_x= [2000,2020],\n",
    "               range_y=[-100,3500],\n",
    "               height=600,\n",
    "               labels=dict(fy='Fiscal Year', count='# of Clients', afn='Audit Firm Name'),\n",
    "               title=\"The Number of Clients for Big 6 Audit Firms\"\n",
    "              )\n",
    "\n",
    "fig.show()"
   ]
  },
  {
   "cell_type": "code",
   "execution_count": 53,
   "id": "ccb38367-3c48-4b75-aea5-f013304c8584",
   "metadata": {},
   "outputs": [],
   "source": [
    "pio.write_html(fig, file='auditor-dist.html', auto_open=False, auto_play=False)"
   ]
  },
  {
   "cell_type": "markdown",
   "id": "1e03092a-5d78-4c53-aa60-d551965572ad",
   "metadata": {},
   "source": [
    "----------"
   ]
  },
  {
   "cell_type": "markdown",
   "id": "0a4fe0d1-dc21-4cc4-a1b1-b0aef913715e",
   "metadata": {},
   "source": [
    "## Plot without animnation"
   ]
  },
  {
   "cell_type": "code",
   "execution_count": 51,
   "id": "8dcca9a3-8a23-4dc1-9a7a-c34ed0fb7a05",
   "metadata": {},
   "outputs": [
    {
     "data": {
      "application/vnd.plotly.v1+json": {
       "config": {
        "plotlyServerURL": "https://plot.ly"
       },
       "data": [
        {
         "hovertemplate": "<b>%{hovertext}</b><br><br>Audit Firm Name=Arthur Andersen LLP<br>Fiscal Year=%{x}<br># of Clients=%{y}<br>bubble_size=%{marker.size}<extra></extra>",
         "hovertext": [
          "Arthur Andersen LLP",
          "Arthur Andersen LLP",
          "Arthur Andersen LLP",
          "Arthur Andersen LLP",
          "Arthur Andersen LLP",
          "Arthur Andersen LLP",
          "Arthur Andersen LLP",
          "Arthur Andersen LLP",
          "Arthur Andersen LLP",
          "Arthur Andersen LLP",
          "Arthur Andersen LLP",
          "Arthur Andersen LLP",
          "Arthur Andersen LLP",
          "Arthur Andersen LLP",
          "Arthur Andersen LLP",
          "Arthur Andersen LLP",
          "Arthur Andersen LLP",
          "Arthur Andersen LLP",
          "Arthur Andersen LLP",
          "Arthur Andersen LLP",
          "Arthur Andersen LLP"
         ],
         "legendgroup": "Arthur Andersen LLP",
         "marker": {
          "color": "#636efa",
          "size": [
           5198,
           4814,
           492,
           100,
           100,
           100,
           100,
           100,
           100,
           100,
           100,
           100,
           100,
           100,
           100,
           100,
           100,
           100,
           100,
           100,
           100
          ],
          "sizemode": "area",
          "sizeref": 7.457777777777777,
          "symbol": "circle"
         },
         "mode": "markers",
         "name": "Arthur Andersen LLP",
         "orientation": "v",
         "showlegend": true,
         "type": "scatter",
         "x": [
          2000,
          2001,
          2002,
          2003,
          2004,
          2005,
          2006,
          2007,
          2008,
          2009,
          2010,
          2011,
          2012,
          2013,
          2014,
          2015,
          2016,
          2017,
          2018,
          2019,
          2020
         ],
         "xaxis": "x",
         "y": [
          2549,
          2357,
          196,
          0,
          0,
          0,
          0,
          0,
          0,
          0,
          0,
          0,
          0,
          0,
          0,
          0,
          0,
          0,
          0,
          0,
          0
         ],
         "yaxis": "y"
        },
        {
         "hovertemplate": "<b>%{hovertext}</b><br><br>Audit Firm Name=Deloitte & Touche LLP<br>Fiscal Year=%{x}<br># of Clients=%{y}<br>bubble_size=%{marker.size}<extra></extra>",
         "hovertext": [
          "Deloitte & Touche LLP",
          "Deloitte & Touche LLP",
          "Deloitte & Touche LLP",
          "Deloitte & Touche LLP",
          "Deloitte & Touche LLP",
          "Deloitte & Touche LLP",
          "Deloitte & Touche LLP",
          "Deloitte & Touche LLP",
          "Deloitte & Touche LLP",
          "Deloitte & Touche LLP",
          "Deloitte & Touche LLP",
          "Deloitte & Touche LLP",
          "Deloitte & Touche LLP",
          "Deloitte & Touche LLP",
          "Deloitte & Touche LLP",
          "Deloitte & Touche LLP",
          "Deloitte & Touche LLP",
          "Deloitte & Touche LLP",
          "Deloitte & Touche LLP",
          "Deloitte & Touche LLP",
          "Deloitte & Touche LLP"
         ],
         "legendgroup": "Deloitte & Touche LLP",
         "marker": {
          "color": "#EF553B",
          "size": [
           5868,
           5548,
           6454,
           6564,
           5496,
           5386,
           5268,
           5334,
           5234,
           5172,
           5428,
           4836,
           4914,
           4898,
           4968,
           4760,
           4646,
           4542,
           4562,
           4484,
           4712
          ],
          "sizemode": "area",
          "sizeref": 7.457777777777777,
          "symbol": "circle"
         },
         "mode": "markers",
         "name": "Deloitte & Touche LLP",
         "orientation": "v",
         "showlegend": true,
         "type": "scatter",
         "x": [
          2000,
          2001,
          2002,
          2003,
          2004,
          2005,
          2006,
          2007,
          2008,
          2009,
          2010,
          2011,
          2012,
          2013,
          2014,
          2015,
          2016,
          2017,
          2018,
          2019,
          2020
         ],
         "xaxis": "x",
         "y": [
          2884,
          2724,
          3177,
          3232,
          2698,
          2643,
          2584,
          2617,
          2567,
          2536,
          2664,
          2368,
          2407,
          2399,
          2434,
          2330,
          2273,
          2221,
          2231,
          2192,
          2306
         ],
         "yaxis": "y"
        },
        {
         "hovertemplate": "<b>%{hovertext}</b><br><br>Audit Firm Name=Ernst & Young LLP<br>Fiscal Year=%{x}<br># of Clients=%{y}<br>bubble_size=%{marker.size}<extra></extra>",
         "hovertext": [
          "Ernst & Young LLP",
          "Ernst & Young LLP",
          "Ernst & Young LLP",
          "Ernst & Young LLP",
          "Ernst & Young LLP",
          "Ernst & Young LLP",
          "Ernst & Young LLP",
          "Ernst & Young LLP",
          "Ernst & Young LLP",
          "Ernst & Young LLP",
          "Ernst & Young LLP",
          "Ernst & Young LLP",
          "Ernst & Young LLP",
          "Ernst & Young LLP",
          "Ernst & Young LLP",
          "Ernst & Young LLP",
          "Ernst & Young LLP",
          "Ernst & Young LLP",
          "Ernst & Young LLP",
          "Ernst & Young LLP",
          "Ernst & Young LLP"
         ],
         "legendgroup": "Ernst & Young LLP",
         "marker": {
          "color": "#00cc96",
          "size": [
           6712,
           5424,
           5826,
           6258,
           5670,
           5382,
           5132,
           4950,
           4716,
           4614,
           4484,
           4338,
           4344,
           4398,
           4026,
           3678,
           3586,
           3644,
           3516,
           3588,
           3832
          ],
          "sizemode": "area",
          "sizeref": 7.457777777777777,
          "symbol": "circle"
         },
         "mode": "markers",
         "name": "Ernst & Young LLP",
         "orientation": "v",
         "showlegend": true,
         "type": "scatter",
         "x": [
          2000,
          2001,
          2002,
          2003,
          2004,
          2005,
          2006,
          2007,
          2008,
          2009,
          2010,
          2011,
          2012,
          2013,
          2014,
          2015,
          2016,
          2017,
          2018,
          2019,
          2020
         ],
         "xaxis": "x",
         "y": [
          3306,
          2662,
          2863,
          3079,
          2785,
          2641,
          2516,
          2425,
          2308,
          2257,
          2192,
          2119,
          2122,
          2149,
          1963,
          1789,
          1743,
          1772,
          1708,
          1744,
          1866
         ],
         "yaxis": "y"
        },
        {
         "hovertemplate": "<b>%{hovertext}</b><br><br>Audit Firm Name=Grant Thornton LLP<br>Fiscal Year=%{x}<br># of Clients=%{y}<br>bubble_size=%{marker.size}<extra></extra>",
         "hovertext": [
          "Grant Thornton LLP",
          "Grant Thornton LLP",
          "Grant Thornton LLP",
          "Grant Thornton LLP",
          "Grant Thornton LLP",
          "Grant Thornton LLP",
          "Grant Thornton LLP",
          "Grant Thornton LLP",
          "Grant Thornton LLP",
          "Grant Thornton LLP",
          "Grant Thornton LLP",
          "Grant Thornton LLP",
          "Grant Thornton LLP",
          "Grant Thornton LLP",
          "Grant Thornton LLP",
          "Grant Thornton LLP",
          "Grant Thornton LLP",
          "Grant Thornton LLP",
          "Grant Thornton LLP",
          "Grant Thornton LLP",
          "Grant Thornton LLP"
         ],
         "legendgroup": "Grant Thornton LLP",
         "marker": {
          "color": "#ab63fa",
          "size": [
           2062,
           2074,
           2010,
           1952,
           2428,
           2590,
           2650,
           2892,
           3050,
           3420,
           3658,
           3970,
           4100,
           4012,
           3912,
           3702,
           3338,
           3086,
           2912,
           2642,
           2250
          ],
          "sizemode": "area",
          "sizeref": 7.457777777777777,
          "symbol": "circle"
         },
         "mode": "markers",
         "name": "Grant Thornton LLP",
         "orientation": "v",
         "showlegend": true,
         "type": "scatter",
         "x": [
          2000,
          2001,
          2002,
          2003,
          2004,
          2005,
          2006,
          2007,
          2008,
          2009,
          2010,
          2011,
          2012,
          2013,
          2014,
          2015,
          2016,
          2017,
          2018,
          2019,
          2020
         ],
         "xaxis": "x",
         "y": [
          981,
          987,
          955,
          926,
          1164,
          1245,
          1275,
          1396,
          1475,
          1660,
          1779,
          1935,
          2000,
          1956,
          1906,
          1801,
          1619,
          1493,
          1406,
          1271,
          1075
         ],
         "yaxis": "y"
        },
        {
         "hovertemplate": "<b>%{hovertext}</b><br><br>Audit Firm Name=KPMG LLP<br>Fiscal Year=%{x}<br># of Clients=%{y}<br>bubble_size=%{marker.size}<extra></extra>",
         "hovertext": [
          "KPMG LLP",
          "KPMG LLP",
          "KPMG LLP",
          "KPMG LLP",
          "KPMG LLP",
          "KPMG LLP",
          "KPMG LLP",
          "KPMG LLP",
          "KPMG LLP",
          "KPMG LLP",
          "KPMG LLP",
          "KPMG LLP",
          "KPMG LLP",
          "KPMG LLP",
          "KPMG LLP",
          "KPMG LLP",
          "KPMG LLP",
          "KPMG LLP",
          "KPMG LLP",
          "KPMG LLP",
          "KPMG LLP"
         ],
         "legendgroup": "KPMG LLP",
         "marker": {
          "color": "#FFA15A",
          "size": [
           4096,
           4408,
           4668,
           4690,
           4450,
           3912,
           3578,
           3292,
           3080,
           3028,
           3064,
           2982,
           2948,
           2936,
           3118,
           3172,
           3036,
           2988,
           2814,
           2646,
           2660
          ],
          "sizemode": "area",
          "sizeref": 7.457777777777777,
          "symbol": "circle"
         },
         "mode": "markers",
         "name": "KPMG LLP",
         "orientation": "v",
         "showlegend": true,
         "type": "scatter",
         "x": [
          2000,
          2001,
          2002,
          2003,
          2004,
          2005,
          2006,
          2007,
          2008,
          2009,
          2010,
          2011,
          2012,
          2013,
          2014,
          2015,
          2016,
          2017,
          2018,
          2019,
          2020
         ],
         "xaxis": "x",
         "y": [
          1998,
          2154,
          2284,
          2295,
          2175,
          1906,
          1739,
          1596,
          1490,
          1464,
          1482,
          1441,
          1424,
          1418,
          1509,
          1536,
          1468,
          1444,
          1357,
          1273,
          1280
         ],
         "yaxis": "y"
        },
        {
         "hovertemplate": "<b>%{hovertext}</b><br><br>Audit Firm Name=PricewaterhouseCoopers LLP<br>Fiscal Year=%{x}<br># of Clients=%{y}<br>bubble_size=%{marker.size}<extra></extra>",
         "hovertext": [
          "PricewaterhouseCoopers LLP",
          "PricewaterhouseCoopers LLP",
          "PricewaterhouseCoopers LLP",
          "PricewaterhouseCoopers LLP",
          "PricewaterhouseCoopers LLP",
          "PricewaterhouseCoopers LLP",
          "PricewaterhouseCoopers LLP",
          "PricewaterhouseCoopers LLP",
          "PricewaterhouseCoopers LLP",
          "PricewaterhouseCoopers LLP",
          "PricewaterhouseCoopers LLP",
          "PricewaterhouseCoopers LLP",
          "PricewaterhouseCoopers LLP",
          "PricewaterhouseCoopers LLP",
          "PricewaterhouseCoopers LLP",
          "PricewaterhouseCoopers LLP",
          "PricewaterhouseCoopers LLP",
          "PricewaterhouseCoopers LLP",
          "PricewaterhouseCoopers LLP",
          "PricewaterhouseCoopers LLP",
          "PricewaterhouseCoopers LLP"
         ],
         "legendgroup": "PricewaterhouseCoopers LLP",
         "marker": {
          "color": "#19d3f3",
          "size": [
           6296,
           6046,
           5850,
           6700,
           5528,
           5458,
           4612,
           4282,
           4126,
           4064,
           4134,
           4266,
           4128,
           4112,
           4116,
           4024,
           3970,
           3912,
           3852,
           3770,
           4180
          ],
          "sizemode": "area",
          "sizeref": 7.457777777777777,
          "symbol": "circle"
         },
         "mode": "markers",
         "name": "PricewaterhouseCoopers LLP",
         "orientation": "v",
         "showlegend": true,
         "type": "scatter",
         "x": [
          2000,
          2001,
          2002,
          2003,
          2004,
          2005,
          2006,
          2007,
          2008,
          2009,
          2010,
          2011,
          2012,
          2013,
          2014,
          2015,
          2016,
          2017,
          2018,
          2019,
          2020
         ],
         "xaxis": "x",
         "y": [
          3098,
          2973,
          2875,
          3300,
          2714,
          2679,
          2256,
          2091,
          2013,
          1982,
          2017,
          2083,
          2014,
          2006,
          2008,
          1962,
          1935,
          1906,
          1876,
          1835,
          2040
         ],
         "yaxis": "y"
        }
       ],
       "layout": {
        "autosize": true,
        "legend": {
         "itemsizing": "constant",
         "title": {
          "text": "Audit Firm Name"
         },
         "tracegroupgap": 0
        },
        "template": {
         "data": {
          "bar": [
           {
            "error_x": {
             "color": "#2a3f5f"
            },
            "error_y": {
             "color": "#2a3f5f"
            },
            "marker": {
             "line": {
              "color": "#E5ECF6",
              "width": 0.5
             },
             "pattern": {
              "fillmode": "overlay",
              "size": 10,
              "solidity": 0.2
             }
            },
            "type": "bar"
           }
          ],
          "barpolar": [
           {
            "marker": {
             "line": {
              "color": "#E5ECF6",
              "width": 0.5
             },
             "pattern": {
              "fillmode": "overlay",
              "size": 10,
              "solidity": 0.2
             }
            },
            "type": "barpolar"
           }
          ],
          "carpet": [
           {
            "aaxis": {
             "endlinecolor": "#2a3f5f",
             "gridcolor": "white",
             "linecolor": "white",
             "minorgridcolor": "white",
             "startlinecolor": "#2a3f5f"
            },
            "baxis": {
             "endlinecolor": "#2a3f5f",
             "gridcolor": "white",
             "linecolor": "white",
             "minorgridcolor": "white",
             "startlinecolor": "#2a3f5f"
            },
            "type": "carpet"
           }
          ],
          "choropleth": [
           {
            "colorbar": {
             "outlinewidth": 0,
             "ticks": ""
            },
            "type": "choropleth"
           }
          ],
          "contour": [
           {
            "colorbar": {
             "outlinewidth": 0,
             "ticks": ""
            },
            "colorscale": [
             [
              0,
              "#0d0887"
             ],
             [
              0.1111111111111111,
              "#46039f"
             ],
             [
              0.2222222222222222,
              "#7201a8"
             ],
             [
              0.3333333333333333,
              "#9c179e"
             ],
             [
              0.4444444444444444,
              "#bd3786"
             ],
             [
              0.5555555555555556,
              "#d8576b"
             ],
             [
              0.6666666666666666,
              "#ed7953"
             ],
             [
              0.7777777777777778,
              "#fb9f3a"
             ],
             [
              0.8888888888888888,
              "#fdca26"
             ],
             [
              1,
              "#f0f921"
             ]
            ],
            "type": "contour"
           }
          ],
          "contourcarpet": [
           {
            "colorbar": {
             "outlinewidth": 0,
             "ticks": ""
            },
            "type": "contourcarpet"
           }
          ],
          "heatmap": [
           {
            "colorbar": {
             "outlinewidth": 0,
             "ticks": ""
            },
            "colorscale": [
             [
              0,
              "#0d0887"
             ],
             [
              0.1111111111111111,
              "#46039f"
             ],
             [
              0.2222222222222222,
              "#7201a8"
             ],
             [
              0.3333333333333333,
              "#9c179e"
             ],
             [
              0.4444444444444444,
              "#bd3786"
             ],
             [
              0.5555555555555556,
              "#d8576b"
             ],
             [
              0.6666666666666666,
              "#ed7953"
             ],
             [
              0.7777777777777778,
              "#fb9f3a"
             ],
             [
              0.8888888888888888,
              "#fdca26"
             ],
             [
              1,
              "#f0f921"
             ]
            ],
            "type": "heatmap"
           }
          ],
          "heatmapgl": [
           {
            "colorbar": {
             "outlinewidth": 0,
             "ticks": ""
            },
            "colorscale": [
             [
              0,
              "#0d0887"
             ],
             [
              0.1111111111111111,
              "#46039f"
             ],
             [
              0.2222222222222222,
              "#7201a8"
             ],
             [
              0.3333333333333333,
              "#9c179e"
             ],
             [
              0.4444444444444444,
              "#bd3786"
             ],
             [
              0.5555555555555556,
              "#d8576b"
             ],
             [
              0.6666666666666666,
              "#ed7953"
             ],
             [
              0.7777777777777778,
              "#fb9f3a"
             ],
             [
              0.8888888888888888,
              "#fdca26"
             ],
             [
              1,
              "#f0f921"
             ]
            ],
            "type": "heatmapgl"
           }
          ],
          "histogram": [
           {
            "marker": {
             "pattern": {
              "fillmode": "overlay",
              "size": 10,
              "solidity": 0.2
             }
            },
            "type": "histogram"
           }
          ],
          "histogram2d": [
           {
            "colorbar": {
             "outlinewidth": 0,
             "ticks": ""
            },
            "colorscale": [
             [
              0,
              "#0d0887"
             ],
             [
              0.1111111111111111,
              "#46039f"
             ],
             [
              0.2222222222222222,
              "#7201a8"
             ],
             [
              0.3333333333333333,
              "#9c179e"
             ],
             [
              0.4444444444444444,
              "#bd3786"
             ],
             [
              0.5555555555555556,
              "#d8576b"
             ],
             [
              0.6666666666666666,
              "#ed7953"
             ],
             [
              0.7777777777777778,
              "#fb9f3a"
             ],
             [
              0.8888888888888888,
              "#fdca26"
             ],
             [
              1,
              "#f0f921"
             ]
            ],
            "type": "histogram2d"
           }
          ],
          "histogram2dcontour": [
           {
            "colorbar": {
             "outlinewidth": 0,
             "ticks": ""
            },
            "colorscale": [
             [
              0,
              "#0d0887"
             ],
             [
              0.1111111111111111,
              "#46039f"
             ],
             [
              0.2222222222222222,
              "#7201a8"
             ],
             [
              0.3333333333333333,
              "#9c179e"
             ],
             [
              0.4444444444444444,
              "#bd3786"
             ],
             [
              0.5555555555555556,
              "#d8576b"
             ],
             [
              0.6666666666666666,
              "#ed7953"
             ],
             [
              0.7777777777777778,
              "#fb9f3a"
             ],
             [
              0.8888888888888888,
              "#fdca26"
             ],
             [
              1,
              "#f0f921"
             ]
            ],
            "type": "histogram2dcontour"
           }
          ],
          "mesh3d": [
           {
            "colorbar": {
             "outlinewidth": 0,
             "ticks": ""
            },
            "type": "mesh3d"
           }
          ],
          "parcoords": [
           {
            "line": {
             "colorbar": {
              "outlinewidth": 0,
              "ticks": ""
             }
            },
            "type": "parcoords"
           }
          ],
          "pie": [
           {
            "automargin": true,
            "type": "pie"
           }
          ],
          "scatter": [
           {
            "marker": {
             "colorbar": {
              "outlinewidth": 0,
              "ticks": ""
             }
            },
            "type": "scatter"
           }
          ],
          "scatter3d": [
           {
            "line": {
             "colorbar": {
              "outlinewidth": 0,
              "ticks": ""
             }
            },
            "marker": {
             "colorbar": {
              "outlinewidth": 0,
              "ticks": ""
             }
            },
            "type": "scatter3d"
           }
          ],
          "scattercarpet": [
           {
            "marker": {
             "colorbar": {
              "outlinewidth": 0,
              "ticks": ""
             }
            },
            "type": "scattercarpet"
           }
          ],
          "scattergeo": [
           {
            "marker": {
             "colorbar": {
              "outlinewidth": 0,
              "ticks": ""
             }
            },
            "type": "scattergeo"
           }
          ],
          "scattergl": [
           {
            "marker": {
             "colorbar": {
              "outlinewidth": 0,
              "ticks": ""
             }
            },
            "type": "scattergl"
           }
          ],
          "scattermapbox": [
           {
            "marker": {
             "colorbar": {
              "outlinewidth": 0,
              "ticks": ""
             }
            },
            "type": "scattermapbox"
           }
          ],
          "scatterpolar": [
           {
            "marker": {
             "colorbar": {
              "outlinewidth": 0,
              "ticks": ""
             }
            },
            "type": "scatterpolar"
           }
          ],
          "scatterpolargl": [
           {
            "marker": {
             "colorbar": {
              "outlinewidth": 0,
              "ticks": ""
             }
            },
            "type": "scatterpolargl"
           }
          ],
          "scatterternary": [
           {
            "marker": {
             "colorbar": {
              "outlinewidth": 0,
              "ticks": ""
             }
            },
            "type": "scatterternary"
           }
          ],
          "surface": [
           {
            "colorbar": {
             "outlinewidth": 0,
             "ticks": ""
            },
            "colorscale": [
             [
              0,
              "#0d0887"
             ],
             [
              0.1111111111111111,
              "#46039f"
             ],
             [
              0.2222222222222222,
              "#7201a8"
             ],
             [
              0.3333333333333333,
              "#9c179e"
             ],
             [
              0.4444444444444444,
              "#bd3786"
             ],
             [
              0.5555555555555556,
              "#d8576b"
             ],
             [
              0.6666666666666666,
              "#ed7953"
             ],
             [
              0.7777777777777778,
              "#fb9f3a"
             ],
             [
              0.8888888888888888,
              "#fdca26"
             ],
             [
              1,
              "#f0f921"
             ]
            ],
            "type": "surface"
           }
          ],
          "table": [
           {
            "cells": {
             "fill": {
              "color": "#EBF0F8"
             },
             "line": {
              "color": "white"
             }
            },
            "header": {
             "fill": {
              "color": "#C8D4E3"
             },
             "line": {
              "color": "white"
             }
            },
            "type": "table"
           }
          ]
         },
         "layout": {
          "annotationdefaults": {
           "arrowcolor": "#2a3f5f",
           "arrowhead": 0,
           "arrowwidth": 1
          },
          "autotypenumbers": "strict",
          "coloraxis": {
           "colorbar": {
            "outlinewidth": 0,
            "ticks": ""
           }
          },
          "colorscale": {
           "diverging": [
            [
             0,
             "#8e0152"
            ],
            [
             0.1,
             "#c51b7d"
            ],
            [
             0.2,
             "#de77ae"
            ],
            [
             0.3,
             "#f1b6da"
            ],
            [
             0.4,
             "#fde0ef"
            ],
            [
             0.5,
             "#f7f7f7"
            ],
            [
             0.6,
             "#e6f5d0"
            ],
            [
             0.7,
             "#b8e186"
            ],
            [
             0.8,
             "#7fbc41"
            ],
            [
             0.9,
             "#4d9221"
            ],
            [
             1,
             "#276419"
            ]
           ],
           "sequential": [
            [
             0,
             "#0d0887"
            ],
            [
             0.1111111111111111,
             "#46039f"
            ],
            [
             0.2222222222222222,
             "#7201a8"
            ],
            [
             0.3333333333333333,
             "#9c179e"
            ],
            [
             0.4444444444444444,
             "#bd3786"
            ],
            [
             0.5555555555555556,
             "#d8576b"
            ],
            [
             0.6666666666666666,
             "#ed7953"
            ],
            [
             0.7777777777777778,
             "#fb9f3a"
            ],
            [
             0.8888888888888888,
             "#fdca26"
            ],
            [
             1,
             "#f0f921"
            ]
           ],
           "sequentialminus": [
            [
             0,
             "#0d0887"
            ],
            [
             0.1111111111111111,
             "#46039f"
            ],
            [
             0.2222222222222222,
             "#7201a8"
            ],
            [
             0.3333333333333333,
             "#9c179e"
            ],
            [
             0.4444444444444444,
             "#bd3786"
            ],
            [
             0.5555555555555556,
             "#d8576b"
            ],
            [
             0.6666666666666666,
             "#ed7953"
            ],
            [
             0.7777777777777778,
             "#fb9f3a"
            ],
            [
             0.8888888888888888,
             "#fdca26"
            ],
            [
             1,
             "#f0f921"
            ]
           ]
          },
          "colorway": [
           "#636efa",
           "#EF553B",
           "#00cc96",
           "#ab63fa",
           "#FFA15A",
           "#19d3f3",
           "#FF6692",
           "#B6E880",
           "#FF97FF",
           "#FECB52"
          ],
          "font": {
           "color": "#2a3f5f"
          },
          "geo": {
           "bgcolor": "white",
           "lakecolor": "white",
           "landcolor": "#E5ECF6",
           "showlakes": true,
           "showland": true,
           "subunitcolor": "white"
          },
          "hoverlabel": {
           "align": "left"
          },
          "hovermode": "closest",
          "mapbox": {
           "style": "light"
          },
          "paper_bgcolor": "white",
          "plot_bgcolor": "#E5ECF6",
          "polar": {
           "angularaxis": {
            "gridcolor": "white",
            "linecolor": "white",
            "ticks": ""
           },
           "bgcolor": "#E5ECF6",
           "radialaxis": {
            "gridcolor": "white",
            "linecolor": "white",
            "ticks": ""
           }
          },
          "scene": {
           "xaxis": {
            "backgroundcolor": "#E5ECF6",
            "gridcolor": "white",
            "gridwidth": 2,
            "linecolor": "white",
            "showbackground": true,
            "ticks": "",
            "zerolinecolor": "white"
           },
           "yaxis": {
            "backgroundcolor": "#E5ECF6",
            "gridcolor": "white",
            "gridwidth": 2,
            "linecolor": "white",
            "showbackground": true,
            "ticks": "",
            "zerolinecolor": "white"
           },
           "zaxis": {
            "backgroundcolor": "#E5ECF6",
            "gridcolor": "white",
            "gridwidth": 2,
            "linecolor": "white",
            "showbackground": true,
            "ticks": "",
            "zerolinecolor": "white"
           }
          },
          "shapedefaults": {
           "line": {
            "color": "#2a3f5f"
           }
          },
          "ternary": {
           "aaxis": {
            "gridcolor": "white",
            "linecolor": "white",
            "ticks": ""
           },
           "baxis": {
            "gridcolor": "white",
            "linecolor": "white",
            "ticks": ""
           },
           "bgcolor": "#E5ECF6",
           "caxis": {
            "gridcolor": "white",
            "linecolor": "white",
            "ticks": ""
           }
          },
          "title": {
           "x": 0.05
          },
          "xaxis": {
           "automargin": true,
           "gridcolor": "white",
           "linecolor": "white",
           "ticks": "",
           "title": {
            "standoff": 15
           },
           "zerolinecolor": "white",
           "zerolinewidth": 2
          },
          "yaxis": {
           "automargin": true,
           "gridcolor": "white",
           "linecolor": "white",
           "ticks": "",
           "title": {
            "standoff": 15
           },
           "zerolinecolor": "white",
           "zerolinewidth": 2
          }
         }
        },
        "title": {
         "text": "The Number of Clients for Big 6 Audit Firms"
        },
        "xaxis": {
         "anchor": "y",
         "domain": [
          0,
          1
         ],
         "range": [
          2000,
          2020
         ],
         "title": {
          "text": "Fiscal Year"
         },
         "type": "linear"
        },
        "yaxis": {
         "anchor": "x",
         "domain": [
          0,
          1
         ],
         "range": [
          -100,
          3500
         ],
         "title": {
          "text": "# of Clients"
         },
         "type": "linear"
        }
       }
      },
      "image/png": "[encoded data removed]",
      "text/html": [
       "<div>                            <div id=\"4a03320a-2882-48c0-ace0-df05e81f436a\" class=\"plotly-graph-div\" style=\"height:600px; width:100%;\"></div>            <script type=\"text/javascript\">                require([\"plotly\"], function(Plotly) {                    window.PLOTLYENV=window.PLOTLYENV || {};                                    if (document.getElementById(\"4a03320a-2882-48c0-ace0-df05e81f436a\")) {                    Plotly.newPlot(                        \"4a03320a-2882-48c0-ace0-df05e81f436a\",                        [{\"hovertemplate\":\"<b>%{hovertext}</b><br><br>Audit Firm Name=Arthur Andersen LLP<br>Fiscal Year=%{x}<br># of Clients=%{y}<br>bubble_size=%{marker.size}<extra></extra>\",\"hovertext\":[\"Arthur Andersen LLP\",\"Arthur Andersen LLP\",\"Arthur Andersen LLP\",\"Arthur Andersen LLP\",\"Arthur Andersen LLP\",\"Arthur Andersen LLP\",\"Arthur Andersen LLP\",\"Arthur Andersen LLP\",\"Arthur Andersen LLP\",\"Arthur Andersen LLP\",\"Arthur Andersen LLP\",\"Arthur Andersen LLP\",\"Arthur Andersen LLP\",\"Arthur Andersen LLP\",\"Arthur Andersen LLP\",\"Arthur Andersen LLP\",\"Arthur Andersen LLP\",\"Arthur Andersen LLP\",\"Arthur Andersen LLP\",\"Arthur Andersen LLP\",\"Arthur Andersen LLP\"],\"legendgroup\":\"Arthur Andersen LLP\",\"marker\":{\"color\":\"#636efa\",\"size\":[5198,4814,492,100,100,100,100,100,100,100,100,100,100,100,100,100,100,100,100,100,100],\"sizemode\":\"area\",\"sizeref\":7.457777777777777,\"symbol\":\"circle\"},\"mode\":\"markers\",\"name\":\"Arthur Andersen LLP\",\"orientation\":\"v\",\"showlegend\":true,\"x\":[2000.0,2001.0,2002.0,2003.0,2004.0,2005.0,2006.0,2007.0,2008.0,2009.0,2010.0,2011.0,2012.0,2013.0,2014.0,2015.0,2016.0,2017.0,2018.0,2019.0,2020.0],\"xaxis\":\"x\",\"y\":[2549,2357,196,0,0,0,0,0,0,0,0,0,0,0,0,0,0,0,0,0,0],\"yaxis\":\"y\",\"type\":\"scatter\"},{\"hovertemplate\":\"<b>%{hovertext}</b><br><br>Audit Firm Name=Deloitte & Touche LLP<br>Fiscal Year=%{x}<br># of Clients=%{y}<br>bubble_size=%{marker.size}<extra></extra>\",\"hovertext\":[\"Deloitte & Touche LLP\",\"Deloitte & Touche LLP\",\"Deloitte & Touche LLP\",\"Deloitte & Touche LLP\",\"Deloitte & Touche LLP\",\"Deloitte & Touche LLP\",\"Deloitte & Touche LLP\",\"Deloitte & Touche LLP\",\"Deloitte & Touche LLP\",\"Deloitte & Touche LLP\",\"Deloitte & Touche LLP\",\"Deloitte & Touche LLP\",\"Deloitte & Touche LLP\",\"Deloitte & Touche LLP\",\"Deloitte & Touche LLP\",\"Deloitte & Touche LLP\",\"Deloitte & Touche LLP\",\"Deloitte & Touche LLP\",\"Deloitte & Touche LLP\",\"Deloitte & Touche LLP\",\"Deloitte & Touche LLP\"],\"legendgroup\":\"Deloitte & Touche LLP\",\"marker\":{\"color\":\"#EF553B\",\"size\":[5868,5548,6454,6564,5496,5386,5268,5334,5234,5172,5428,4836,4914,4898,4968,4760,4646,4542,4562,4484,4712],\"sizemode\":\"area\",\"sizeref\":7.457777777777777,\"symbol\":\"circle\"},\"mode\":\"markers\",\"name\":\"Deloitte & Touche LLP\",\"orientation\":\"v\",\"showlegend\":true,\"x\":[2000.0,2001.0,2002.0,2003.0,2004.0,2005.0,2006.0,2007.0,2008.0,2009.0,2010.0,2011.0,2012.0,2013.0,2014.0,2015.0,2016.0,2017.0,2018.0,2019.0,2020.0],\"xaxis\":\"x\",\"y\":[2884,2724,3177,3232,2698,2643,2584,2617,2567,2536,2664,2368,2407,2399,2434,2330,2273,2221,2231,2192,2306],\"yaxis\":\"y\",\"type\":\"scatter\"},{\"hovertemplate\":\"<b>%{hovertext}</b><br><br>Audit Firm Name=Ernst & Young LLP<br>Fiscal Year=%{x}<br># of Clients=%{y}<br>bubble_size=%{marker.size}<extra></extra>\",\"hovertext\":[\"Ernst & Young LLP\",\"Ernst & Young LLP\",\"Ernst & Young LLP\",\"Ernst & Young LLP\",\"Ernst & Young LLP\",\"Ernst & Young LLP\",\"Ernst & Young LLP\",\"Ernst & Young LLP\",\"Ernst & Young LLP\",\"Ernst & Young LLP\",\"Ernst & Young LLP\",\"Ernst & Young LLP\",\"Ernst & Young LLP\",\"Ernst & Young LLP\",\"Ernst & Young LLP\",\"Ernst & Young LLP\",\"Ernst & Young LLP\",\"Ernst & Young LLP\",\"Ernst & Young LLP\",\"Ernst & Young LLP\",\"Ernst & Young LLP\"],\"legendgroup\":\"Ernst & Young LLP\",\"marker\":{\"color\":\"#00cc96\",\"size\":[6712,5424,5826,6258,5670,5382,5132,4950,4716,4614,4484,4338,4344,4398,4026,3678,3586,3644,3516,3588,3832],\"sizemode\":\"area\",\"sizeref\":7.457777777777777,\"symbol\":\"circle\"},\"mode\":\"markers\",\"name\":\"Ernst & Young LLP\",\"orientation\":\"v\",\"showlegend\":true,\"x\":[2000.0,2001.0,2002.0,2003.0,2004.0,2005.0,2006.0,2007.0,2008.0,2009.0,2010.0,2011.0,2012.0,2013.0,2014.0,2015.0,2016.0,2017.0,2018.0,2019.0,2020.0],\"xaxis\":\"x\",\"y\":[3306,2662,2863,3079,2785,2641,2516,2425,2308,2257,2192,2119,2122,2149,1963,1789,1743,1772,1708,1744,1866],\"yaxis\":\"y\",\"type\":\"scatter\"},{\"hovertemplate\":\"<b>%{hovertext}</b><br><br>Audit Firm Name=Grant Thornton LLP<br>Fiscal Year=%{x}<br># of Clients=%{y}<br>bubble_size=%{marker.size}<extra></extra>\",\"hovertext\":[\"Grant Thornton LLP\",\"Grant Thornton LLP\",\"Grant Thornton LLP\",\"Grant Thornton LLP\",\"Grant Thornton LLP\",\"Grant Thornton LLP\",\"Grant Thornton LLP\",\"Grant Thornton LLP\",\"Grant Thornton LLP\",\"Grant Thornton LLP\",\"Grant Thornton LLP\",\"Grant Thornton LLP\",\"Grant Thornton LLP\",\"Grant Thornton LLP\",\"Grant Thornton LLP\",\"Grant Thornton LLP\",\"Grant Thornton LLP\",\"Grant Thornton LLP\",\"Grant Thornton LLP\",\"Grant Thornton LLP\",\"Grant Thornton LLP\"],\"legendgroup\":\"Grant Thornton LLP\",\"marker\":{\"color\":\"#ab63fa\",\"size\":[2062,2074,2010,1952,2428,2590,2650,2892,3050,3420,3658,3970,4100,4012,3912,3702,3338,3086,2912,2642,2250],\"sizemode\":\"area\",\"sizeref\":7.457777777777777,\"symbol\":\"circle\"},\"mode\":\"markers\",\"name\":\"Grant Thornton LLP\",\"orientation\":\"v\",\"showlegend\":true,\"x\":[2000.0,2001.0,2002.0,2003.0,2004.0,2005.0,2006.0,2007.0,2008.0,2009.0,2010.0,2011.0,2012.0,2013.0,2014.0,2015.0,2016.0,2017.0,2018.0,2019.0,2020.0],\"xaxis\":\"x\",\"y\":[981,987,955,926,1164,1245,1275,1396,1475,1660,1779,1935,2000,1956,1906,1801,1619,1493,1406,1271,1075],\"yaxis\":\"y\",\"type\":\"scatter\"},{\"hovertemplate\":\"<b>%{hovertext}</b><br><br>Audit Firm Name=KPMG LLP<br>Fiscal Year=%{x}<br># of Clients=%{y}<br>bubble_size=%{marker.size}<extra></extra>\",\"hovertext\":[\"KPMG LLP\",\"KPMG LLP\",\"KPMG LLP\",\"KPMG LLP\",\"KPMG LLP\",\"KPMG LLP\",\"KPMG LLP\",\"KPMG LLP\",\"KPMG LLP\",\"KPMG LLP\",\"KPMG LLP\",\"KPMG LLP\",\"KPMG LLP\",\"KPMG LLP\",\"KPMG LLP\",\"KPMG LLP\",\"KPMG LLP\",\"KPMG LLP\",\"KPMG LLP\",\"KPMG LLP\",\"KPMG LLP\"],\"legendgroup\":\"KPMG LLP\",\"marker\":{\"color\":\"#FFA15A\",\"size\":[4096,4408,4668,4690,4450,3912,3578,3292,3080,3028,3064,2982,2948,2936,3118,3172,3036,2988,2814,2646,2660],\"sizemode\":\"area\",\"sizeref\":7.457777777777777,\"symbol\":\"circle\"},\"mode\":\"markers\",\"name\":\"KPMG LLP\",\"orientation\":\"v\",\"showlegend\":true,\"x\":[2000.0,2001.0,2002.0,2003.0,2004.0,2005.0,2006.0,2007.0,2008.0,2009.0,2010.0,2011.0,2012.0,2013.0,2014.0,2015.0,2016.0,2017.0,2018.0,2019.0,2020.0],\"xaxis\":\"x\",\"y\":[1998,2154,2284,2295,2175,1906,1739,1596,1490,1464,1482,1441,1424,1418,1509,1536,1468,1444,1357,1273,1280],\"yaxis\":\"y\",\"type\":\"scatter\"},{\"hovertemplate\":\"<b>%{hovertext}</b><br><br>Audit Firm Name=PricewaterhouseCoopers LLP<br>Fiscal Year=%{x}<br># of Clients=%{y}<br>bubble_size=%{marker.size}<extra></extra>\",\"hovertext\":[\"PricewaterhouseCoopers LLP\",\"PricewaterhouseCoopers LLP\",\"PricewaterhouseCoopers LLP\",\"PricewaterhouseCoopers LLP\",\"PricewaterhouseCoopers LLP\",\"PricewaterhouseCoopers LLP\",\"PricewaterhouseCoopers LLP\",\"PricewaterhouseCoopers LLP\",\"PricewaterhouseCoopers LLP\",\"PricewaterhouseCoopers LLP\",\"PricewaterhouseCoopers LLP\",\"PricewaterhouseCoopers LLP\",\"PricewaterhouseCoopers LLP\",\"PricewaterhouseCoopers LLP\",\"PricewaterhouseCoopers LLP\",\"PricewaterhouseCoopers LLP\",\"PricewaterhouseCoopers LLP\",\"PricewaterhouseCoopers LLP\",\"PricewaterhouseCoopers LLP\",\"PricewaterhouseCoopers LLP\",\"PricewaterhouseCoopers LLP\"],\"legendgroup\":\"PricewaterhouseCoopers LLP\",\"marker\":{\"color\":\"#19d3f3\",\"size\":[6296,6046,5850,6700,5528,5458,4612,4282,4126,4064,4134,4266,4128,4112,4116,4024,3970,3912,3852,3770,4180],\"sizemode\":\"area\",\"sizeref\":7.457777777777777,\"symbol\":\"circle\"},\"mode\":\"markers\",\"name\":\"PricewaterhouseCoopers LLP\",\"orientation\":\"v\",\"showlegend\":true,\"x\":[2000.0,2001.0,2002.0,2003.0,2004.0,2005.0,2006.0,2007.0,2008.0,2009.0,2010.0,2011.0,2012.0,2013.0,2014.0,2015.0,2016.0,2017.0,2018.0,2019.0,2020.0],\"xaxis\":\"x\",\"y\":[3098,2973,2875,3300,2714,2679,2256,2091,2013,1982,2017,2083,2014,2006,2008,1962,1935,1906,1876,1835,2040],\"yaxis\":\"y\",\"type\":\"scatter\"}],                        {\"template\":{\"data\":{\"bar\":[{\"error_x\":{\"color\":\"#2a3f5f\"},\"error_y\":{\"color\":\"#2a3f5f\"},\"marker\":{\"line\":{\"color\":\"#E5ECF6\",\"width\":0.5},\"pattern\":{\"fillmode\":\"overlay\",\"size\":10,\"solidity\":0.2}},\"type\":\"bar\"}],\"barpolar\":[{\"marker\":{\"line\":{\"color\":\"#E5ECF6\",\"width\":0.5},\"pattern\":{\"fillmode\":\"overlay\",\"size\":10,\"solidity\":0.2}},\"type\":\"barpolar\"}],\"carpet\":[{\"aaxis\":{\"endlinecolor\":\"#2a3f5f\",\"gridcolor\":\"white\",\"linecolor\":\"white\",\"minorgridcolor\":\"white\",\"startlinecolor\":\"#2a3f5f\"},\"baxis\":{\"endlinecolor\":\"#2a3f5f\",\"gridcolor\":\"white\",\"linecolor\":\"white\",\"minorgridcolor\":\"white\",\"startlinecolor\":\"#2a3f5f\"},\"type\":\"carpet\"}],\"choropleth\":[{\"colorbar\":{\"outlinewidth\":0,\"ticks\":\"\"},\"type\":\"choropleth\"}],\"contour\":[{\"colorbar\":{\"outlinewidth\":0,\"ticks\":\"\"},\"colorscale\":[[0.0,\"#0d0887\"],[0.1111111111111111,\"#46039f\"],[0.2222222222222222,\"#7201a8\"],[0.3333333333333333,\"#9c179e\"],[0.4444444444444444,\"#bd3786\"],[0.5555555555555556,\"#d8576b\"],[0.6666666666666666,\"#ed7953\"],[0.7777777777777778,\"#fb9f3a\"],[0.8888888888888888,\"#fdca26\"],[1.0,\"#f0f921\"]],\"type\":\"contour\"}],\"contourcarpet\":[{\"colorbar\":{\"outlinewidth\":0,\"ticks\":\"\"},\"type\":\"contourcarpet\"}],\"heatmap\":[{\"colorbar\":{\"outlinewidth\":0,\"ticks\":\"\"},\"colorscale\":[[0.0,\"#0d0887\"],[0.1111111111111111,\"#46039f\"],[0.2222222222222222,\"#7201a8\"],[0.3333333333333333,\"#9c179e\"],[0.4444444444444444,\"#bd3786\"],[0.5555555555555556,\"#d8576b\"],[0.6666666666666666,\"#ed7953\"],[0.7777777777777778,\"#fb9f3a\"],[0.8888888888888888,\"#fdca26\"],[1.0,\"#f0f921\"]],\"type\":\"heatmap\"}],\"heatmapgl\":[{\"colorbar\":{\"outlinewidth\":0,\"ticks\":\"\"},\"colorscale\":[[0.0,\"#0d0887\"],[0.1111111111111111,\"#46039f\"],[0.2222222222222222,\"#7201a8\"],[0.3333333333333333,\"#9c179e\"],[0.4444444444444444,\"#bd3786\"],[0.5555555555555556,\"#d8576b\"],[0.6666666666666666,\"#ed7953\"],[0.7777777777777778,\"#fb9f3a\"],[0.8888888888888888,\"#fdca26\"],[1.0,\"#f0f921\"]],\"type\":\"heatmapgl\"}],\"histogram\":[{\"marker\":{\"pattern\":{\"fillmode\":\"overlay\",\"size\":10,\"solidity\":0.2}},\"type\":\"histogram\"}],\"histogram2d\":[{\"colorbar\":{\"outlinewidth\":0,\"ticks\":\"\"},\"colorscale\":[[0.0,\"#0d0887\"],[0.1111111111111111,\"#46039f\"],[0.2222222222222222,\"#7201a8\"],[0.3333333333333333,\"#9c179e\"],[0.4444444444444444,\"#bd3786\"],[0.5555555555555556,\"#d8576b\"],[0.6666666666666666,\"#ed7953\"],[0.7777777777777778,\"#fb9f3a\"],[0.8888888888888888,\"#fdca26\"],[1.0,\"#f0f921\"]],\"type\":\"histogram2d\"}],\"histogram2dcontour\":[{\"colorbar\":{\"outlinewidth\":0,\"ticks\":\"\"},\"colorscale\":[[0.0,\"#0d0887\"],[0.1111111111111111,\"#46039f\"],[0.2222222222222222,\"#7201a8\"],[0.3333333333333333,\"#9c179e\"],[0.4444444444444444,\"#bd3786\"],[0.5555555555555556,\"#d8576b\"],[0.6666666666666666,\"#ed7953\"],[0.7777777777777778,\"#fb9f3a\"],[0.8888888888888888,\"#fdca26\"],[1.0,\"#f0f921\"]],\"type\":\"histogram2dcontour\"}],\"mesh3d\":[{\"colorbar\":{\"outlinewidth\":0,\"ticks\":\"\"},\"type\":\"mesh3d\"}],\"parcoords\":[{\"line\":{\"colorbar\":{\"outlinewidth\":0,\"ticks\":\"\"}},\"type\":\"parcoords\"}],\"pie\":[{\"automargin\":true,\"type\":\"pie\"}],\"scatter\":[{\"marker\":{\"colorbar\":{\"outlinewidth\":0,\"ticks\":\"\"}},\"type\":\"scatter\"}],\"scatter3d\":[{\"line\":{\"colorbar\":{\"outlinewidth\":0,\"ticks\":\"\"}},\"marker\":{\"colorbar\":{\"outlinewidth\":0,\"ticks\":\"\"}},\"type\":\"scatter3d\"}],\"scattercarpet\":[{\"marker\":{\"colorbar\":{\"outlinewidth\":0,\"ticks\":\"\"}},\"type\":\"scattercarpet\"}],\"scattergeo\":[{\"marker\":{\"colorbar\":{\"outlinewidth\":0,\"ticks\":\"\"}},\"type\":\"scattergeo\"}],\"scattergl\":[{\"marker\":{\"colorbar\":{\"outlinewidth\":0,\"ticks\":\"\"}},\"type\":\"scattergl\"}],\"scattermapbox\":[{\"marker\":{\"colorbar\":{\"outlinewidth\":0,\"ticks\":\"\"}},\"type\":\"scattermapbox\"}],\"scatterpolar\":[{\"marker\":{\"colorbar\":{\"outlinewidth\":0,\"ticks\":\"\"}},\"type\":\"scatterpolar\"}],\"scatterpolargl\":[{\"marker\":{\"colorbar\":{\"outlinewidth\":0,\"ticks\":\"\"}},\"type\":\"scatterpolargl\"}],\"scatterternary\":[{\"marker\":{\"colorbar\":{\"outlinewidth\":0,\"ticks\":\"\"}},\"type\":\"scatterternary\"}],\"surface\":[{\"colorbar\":{\"outlinewidth\":0,\"ticks\":\"\"},\"colorscale\":[[0.0,\"#0d0887\"],[0.1111111111111111,\"#46039f\"],[0.2222222222222222,\"#7201a8\"],[0.3333333333333333,\"#9c179e\"],[0.4444444444444444,\"#bd3786\"],[0.5555555555555556,\"#d8576b\"],[0.6666666666666666,\"#ed7953\"],[0.7777777777777778,\"#fb9f3a\"],[0.8888888888888888,\"#fdca26\"],[1.0,\"#f0f921\"]],\"type\":\"surface\"}],\"table\":[{\"cells\":{\"fill\":{\"color\":\"#EBF0F8\"},\"line\":{\"color\":\"white\"}},\"header\":{\"fill\":{\"color\":\"#C8D4E3\"},\"line\":{\"color\":\"white\"}},\"type\":\"table\"}]},\"layout\":{\"annotationdefaults\":{\"arrowcolor\":\"#2a3f5f\",\"arrowhead\":0,\"arrowwidth\":1},\"autotypenumbers\":\"strict\",\"coloraxis\":{\"colorbar\":{\"outlinewidth\":0,\"ticks\":\"\"}},\"colorscale\":{\"diverging\":[[0,\"#8e0152\"],[0.1,\"#c51b7d\"],[0.2,\"#de77ae\"],[0.3,\"#f1b6da\"],[0.4,\"#fde0ef\"],[0.5,\"#f7f7f7\"],[0.6,\"#e6f5d0\"],[0.7,\"#b8e186\"],[0.8,\"#7fbc41\"],[0.9,\"#4d9221\"],[1,\"#276419\"]],\"sequential\":[[0.0,\"#0d0887\"],[0.1111111111111111,\"#46039f\"],[0.2222222222222222,\"#7201a8\"],[0.3333333333333333,\"#9c179e\"],[0.4444444444444444,\"#bd3786\"],[0.5555555555555556,\"#d8576b\"],[0.6666666666666666,\"#ed7953\"],[0.7777777777777778,\"#fb9f3a\"],[0.8888888888888888,\"#fdca26\"],[1.0,\"#f0f921\"]],\"sequentialminus\":[[0.0,\"#0d0887\"],[0.1111111111111111,\"#46039f\"],[0.2222222222222222,\"#7201a8\"],[0.3333333333333333,\"#9c179e\"],[0.4444444444444444,\"#bd3786\"],[0.5555555555555556,\"#d8576b\"],[0.6666666666666666,\"#ed7953\"],[0.7777777777777778,\"#fb9f3a\"],[0.8888888888888888,\"#fdca26\"],[1.0,\"#f0f921\"]]},\"colorway\":[\"#636efa\",\"#EF553B\",\"#00cc96\",\"#ab63fa\",\"#FFA15A\",\"#19d3f3\",\"#FF6692\",\"#B6E880\",\"#FF97FF\",\"#FECB52\"],\"font\":{\"color\":\"#2a3f5f\"},\"geo\":{\"bgcolor\":\"white\",\"lakecolor\":\"white\",\"landcolor\":\"#E5ECF6\",\"showlakes\":true,\"showland\":true,\"subunitcolor\":\"white\"},\"hoverlabel\":{\"align\":\"left\"},\"hovermode\":\"closest\",\"mapbox\":{\"style\":\"light\"},\"paper_bgcolor\":\"white\",\"plot_bgcolor\":\"#E5ECF6\",\"polar\":{\"angularaxis\":{\"gridcolor\":\"white\",\"linecolor\":\"white\",\"ticks\":\"\"},\"bgcolor\":\"#E5ECF6\",\"radialaxis\":{\"gridcolor\":\"white\",\"linecolor\":\"white\",\"ticks\":\"\"}},\"scene\":{\"xaxis\":{\"backgroundcolor\":\"#E5ECF6\",\"gridcolor\":\"white\",\"gridwidth\":2,\"linecolor\":\"white\",\"showbackground\":true,\"ticks\":\"\",\"zerolinecolor\":\"white\"},\"yaxis\":{\"backgroundcolor\":\"#E5ECF6\",\"gridcolor\":\"white\",\"gridwidth\":2,\"linecolor\":\"white\",\"showbackground\":true,\"ticks\":\"\",\"zerolinecolor\":\"white\"},\"zaxis\":{\"backgroundcolor\":\"#E5ECF6\",\"gridcolor\":\"white\",\"gridwidth\":2,\"linecolor\":\"white\",\"showbackground\":true,\"ticks\":\"\",\"zerolinecolor\":\"white\"}},\"shapedefaults\":{\"line\":{\"color\":\"#2a3f5f\"}},\"ternary\":{\"aaxis\":{\"gridcolor\":\"white\",\"linecolor\":\"white\",\"ticks\":\"\"},\"baxis\":{\"gridcolor\":\"white\",\"linecolor\":\"white\",\"ticks\":\"\"},\"bgcolor\":\"#E5ECF6\",\"caxis\":{\"gridcolor\":\"white\",\"linecolor\":\"white\",\"ticks\":\"\"}},\"title\":{\"x\":0.05},\"xaxis\":{\"automargin\":true,\"gridcolor\":\"white\",\"linecolor\":\"white\",\"ticks\":\"\",\"title\":{\"standoff\":15},\"zerolinecolor\":\"white\",\"zerolinewidth\":2},\"yaxis\":{\"automargin\":true,\"gridcolor\":\"white\",\"linecolor\":\"white\",\"ticks\":\"\",\"title\":{\"standoff\":15},\"zerolinecolor\":\"white\",\"zerolinewidth\":2}}},\"xaxis\":{\"anchor\":\"y\",\"domain\":[0.0,1.0],\"title\":{\"text\":\"Fiscal Year\"},\"range\":[2000,2020]},\"yaxis\":{\"anchor\":\"x\",\"domain\":[0.0,1.0],\"title\":{\"text\":\"# of Clients\"},\"range\":[-100,3500]},\"legend\":{\"title\":{\"text\":\"Audit Firm Name\"},\"tracegroupgap\":0,\"itemsizing\":\"constant\"},\"title\":{\"text\":\"The Number of Clients for Big 6 Audit Firms\"},\"height\":600},                        {\"responsive\": true}                    ).then(function(){\n",
       "                            \n",
       "var gd = document.getElementById('4a03320a-2882-48c0-ace0-df05e81f436a');\n",
       "var x = new MutationObserver(function (mutations, observer) {{\n",
       "        var display = window.getComputedStyle(gd).display;\n",
       "        if (!display || display === 'none') {{\n",
       "            console.log([gd, 'removed!']);\n",
       "            Plotly.purge(gd);\n",
       "            observer.disconnect();\n",
       "        }}\n",
       "}});\n",
       "\n",
       "// Listen for the removal of the full notebook cells\n",
       "var notebookContainer = gd.closest('#notebook-container');\n",
       "if (notebookContainer) {{\n",
       "    x.observe(notebookContainer, {childList: true});\n",
       "}}\n",
       "\n",
       "// Listen for the clearing of the current output cell\n",
       "var outputEl = gd.closest('.output');\n",
       "if (outputEl) {{\n",
       "    x.observe(outputEl, {childList: true});\n",
       "}}\n",
       "\n",
       "                        })                };                });            </script>        </div>"
      ]
     },
     "metadata": {},
     "output_type": "display_data"
    }
   ],
   "source": [
    "fig=px.scatter(df_cross_melted, x='fy', y='count',\n",
    "               hover_name='afn',\n",
    "               color='afn',\n",
    "               size='bubble_size',\n",
    "               size_max=30,\n",
    "               range_x= [2000,2020],\n",
    "               range_y=[-100,3500],\n",
    "               height=600,\n",
    "               labels=dict(fy='Fiscal Year', count='# of Clients', afn='Audit Firm Name'),\n",
    "               title=\"The Number of Clients for Big 6 Audit Firms\"\n",
    "              )\n",
    "\n",
    "fig.show()"
   ]
  },
  {
   "cell_type": "markdown",
   "id": "133d9f98-1f9e-45c1-86b7-829be1d0d63e",
   "metadata": {},
   "source": [
    "-------------------"
   ]
  }
 ],
 "metadata": {
  "kernelspec": {
   "display_name": "sec",
   "language": "python",
   "name": "sec"
  },
  "language_info": {
   "codemirror_mode": {
    "name": "ipython",
    "version": 3
   },
   "file_extension": ".py",
   "mimetype": "text/x-python",
   "name": "python",
   "nbconvert_exporter": "python",
   "pygments_lexer": "ipython3",
   "version": "3.8.8"
  },
  "widgets": {
   "application/vnd.jupyter.widget-state+json": {
    "state": {},
    "version_major": 2,
    "version_minor": 0
   }
  }
 },
 "nbformat": 4,
 "nbformat_minor": 5
}
