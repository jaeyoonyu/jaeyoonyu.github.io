{
 "cells": [
  {
   "cell_type": "markdown",
   "id": "15555c5b-2391-4f24-a4ad-f90a8dfd5c03",
   "metadata": {},
   "source": [
    "## How to get access to XBRL data using Python\n",
    "References\n",
    "- US xbrl: https://xbrl.us/\n",
    "- See ch.11.4 in https://papers.ssrn.com/sol3/papers.cfm?abstract_id=3576098\n",
    "\n",
    "All xbrl data for each 10-K filing are included in \"XBRL INSTANCE DOCUMENT\". For example, see the last file in https://www.sec.gov/Archives/edgar/data/1690820/000169082022000080/0001690820-22-000080-index.htm.  \n",
    "This .ipynb demonstrates how to get several values from a few XBRL documents."
   ]
  },
  {
   "cell_type": "markdown",
   "id": "82e58f51-2487-4330-b34a-5b01b0c3765a",
   "metadata": {},
   "source": [
    "--------------"
   ]
  },
  {
   "cell_type": "markdown",
   "id": "ec9cf44d-dcb7-4778-875f-e4df8d54921e",
   "metadata": {},
   "source": [
    "### import and set-ups"
   ]
  },
  {
   "cell_type": "code",
   "execution_count": 1,
   "id": "0b11bef9-ae48-4fa0-97e2-cb7f6add0525",
   "metadata": {},
   "outputs": [],
   "source": [
    "import requests\n",
    "import re\n",
    "from html import unescape\n",
    "headers= {'user-agent': 'sample text'}"
   ]
  },
  {
   "cell_type": "markdown",
   "id": "2a180df2-a772-4457-b41c-cc5dacfd35d4",
   "metadata": {},
   "source": [
    "### example url set-ups"
   ]
  },
  {
   "cell_type": "code",
   "execution_count": 3,
   "id": "f221f04a-22f3-4652-a291-95f4678775b0",
   "metadata": {},
   "outputs": [],
   "source": [
    "url1= \"https://www.sec.gov/Archives/edgar/data/1690820/000169082022000080/cvna-20211231_htm.xml\"\n",
    "url2= \"https://www.sec.gov/Archives/edgar/data/100517/000010051722000009/ual-20211231_htm.xml\"\n",
    "url3= \"https://www.sec.gov/Archives/edgar/data/1334036/000133403622000011/crox-20211231_htm.xml\"\n",
    "\n",
    "url_dicts= {'Carvana': url1,\n",
    "           'United Airlines': url2,\n",
    "           'Crox': url3\n",
    "           }"
   ]
  },
  {
   "cell_type": "code",
   "execution_count": 4,
   "id": "a667975d-8ccf-41d2-99fc-016139d7993b",
   "metadata": {},
   "outputs": [
    {
     "name": "stdout",
     "output_type": "stream",
     "text": [
      "Carvana https://www.sec.gov/Archives/edgar/data/1690820/000169082022000080/cvna-20211231_htm.xml\n",
      "United Airlines https://www.sec.gov/Archives/edgar/data/100517/000010051722000009/ual-20211231_htm.xml\n",
      "Crox https://www.sec.gov/Archives/edgar/data/1334036/000133403622000011/crox-20211231_htm.xml\n"
     ]
    }
   ],
   "source": [
    "for key, value in url_dicts.items():\n",
    "    print(key, value)"
   ]
  },
  {
   "cell_type": "markdown",
   "id": "9f9e5c34-b333-4852-a4ec-9080750dbbfe",
   "metadata": {},
   "source": [
    "--------------"
   ]
  },
  {
   "cell_type": "markdown",
   "id": "60f09870-c5b8-4ec8-84bf-16effefb664a",
   "metadata": {},
   "source": [
    "## Extract data from XBRL"
   ]
  },
  {
   "cell_type": "markdown",
   "id": "0903c1ad-595d-40b4-8f4c-7cef47a34f94",
   "metadata": {},
   "source": [
    "#### Emerging growth companies"
   ]
  },
  {
   "cell_type": "code",
   "execution_count": 32,
   "id": "5a46d148-9caa-44ce-b61b-3a179a2f9073",
   "metadata": {},
   "outputs": [
    {
     "name": "stdout",
     "output_type": "stream",
     "text": [
      "----------------------------------------\n",
      "Emerging growth companies obtained from XBRL\n",
      "----------------------------------------\n",
      "\tCarvana             : false\n",
      "\tUnited Airlines     : false\n",
      "\tCrox                : false\n"
     ]
    }
   ],
   "source": [
    "print(\"----------------------------------------\")\n",
    "print(\"Emerging growth companies obtained from XBRL\")\n",
    "print(\"----------------------------------------\")\n",
    "\n",
    "for key, value in url_dicts.items():\n",
    "    response = requests.get(value, headers= headers)\n",
    "    xbrl_10k=response.text\n",
    "    pattern=re.compile(r\"<dei:EntityEmergingGrowthCompany.*?>(.*?)<.*?EntityEmergingGrowthCompany>\", re.DOTALL | re.IGNORECASE)\n",
    "    egc= pattern.search(xbrl_10k).group(1)\n",
    "    print(f\"\\t{key:<20}: {str(egc)}\")   "
   ]
  },
  {
   "cell_type": "markdown",
   "id": "f4e175a7-784d-42d8-94b6-912a1454bd1d",
   "metadata": {},
   "source": [
    "#### Well-known seasoned issuers"
   ]
  },
  {
   "cell_type": "code",
   "execution_count": 14,
   "id": "5f5d3979-55c2-4432-a2d0-d3df83861dcd",
   "metadata": {},
   "outputs": [
    {
     "name": "stdout",
     "output_type": "stream",
     "text": [
      "----------------------------------------\n",
      "Well-known seasoned issuers obtained from XBRL\n",
      "----------------------------------------\n",
      "\tCarvana             : Yes\n",
      "\tUnited Airlines     : Yes\n",
      "\tCrox                : Yes\n"
     ]
    }
   ],
   "source": [
    "print(\"----------------------------------------\")\n",
    "print(\"Well-known seasoned issuers obtained from XBRL\")\n",
    "print(\"----------------------------------------\")\n",
    "\n",
    "for key, value in url_dicts.items():\n",
    "    response = requests.get(value, headers= headers)\n",
    "    xbrl_10k=response.text\n",
    "    pattern=re.compile(r\"<dei:EntityWellKnownSeasonedIssuer.*?>(.*?)<.*?EntityWellKnownSeasonedIssuer>\", re.DOTALL | re.IGNORECASE)\n",
    "    wksi= pattern.search(xbrl_10k).group(1)\n",
    "    print(f\"\\t{key:<20}: {str(wksi)}\")"
   ]
  },
  {
   "cell_type": "markdown",
   "id": "ce166948-4aee-4f87-afbc-cac2b14d863b",
   "metadata": {},
   "source": [
    "#### Public floats"
   ]
  },
  {
   "cell_type": "code",
   "execution_count": 38,
   "id": "914bb07d-09bf-4674-a103-0b1e83916f33",
   "metadata": {},
   "outputs": [
    {
     "name": "stdout",
     "output_type": "stream",
     "text": [
      "----------------------------------------\n",
      "Public floats (Billions) obtained from XBRL\n",
      "----------------------------------------\n",
      "\tCarvana             : 24.6\n",
      "\tUnited Airlines     : 16.9\n",
      "\tCrox                : 4.6\n"
     ]
    }
   ],
   "source": [
    "print(\"----------------------------------------\")\n",
    "print(\"Public floats (Billions) obtained from XBRL\")\n",
    "print(\"----------------------------------------\")\n",
    "\n",
    "for key, value in url_dicts.items():\n",
    "    response = requests.get(value, headers= headers)\n",
    "    xbrl_10k=response.text\n",
    "    pattern=re.compile(r\"<dei:EntityPublicFloat.*>(\\d+)</dei:EntityPublicFloat>\", re.DOTALL | re.IGNORECASE)\n",
    "    pf= pattern.search(xbrl_10k)\n",
    "    pf= int(pf.group(1))/10**9\n",
    "    print(f\"\\t{key:<20}: {str(pf)}\")   "
   ]
  },
  {
   "cell_type": "markdown",
   "id": "3c8617d1-de11-42bf-bec0-9b6ef71d1a25",
   "metadata": {},
   "source": [
    "#### Audit firm name and location"
   ]
  },
  {
   "cell_type": "code",
   "execution_count": 24,
   "id": "0690dc48-97aa-40e6-98ca-540738e68fe8",
   "metadata": {},
   "outputs": [
    {
     "name": "stdout",
     "output_type": "stream",
     "text": [
      "----------------------------------------\n",
      "Public floats (Billions) obtained from XBRL\n",
      "----------------------------------------\n",
      "\tCarvana             : GRANT THORNTON LLP             Southfield, Michigan\n",
      "\tUnited Airlines     : Ernst &amp; Young LLP          Chicago, Illinois\n",
      "\tCrox                : Deloitte &amp; Touche LLP      Denver, Colorado\n"
     ]
    }
   ],
   "source": [
    "print(\"----------------------------------------\")\n",
    "print(\"Public floats (Billions) obtained from XBRL\")\n",
    "print(\"----------------------------------------\")\n",
    "\n",
    "for key, value in url_dicts.items():\n",
    "    response = requests.get(value, headers= headers)\n",
    "    xbrl_10k=response.text\n",
    "    afn_pattern=re.compile(r\"<dei:AuditorName.*?>(.*?)<.*?AuditorName>\", re.DOTALL | re.IGNORECASE)\n",
    "    afn= afn_pattern.search(xbrl_10k).group(1)\n",
    "    \n",
    "    afl_pattern=re.compile(r\"<dei:AuditorLocation.*?>(.*?)<.*?AuditorLocation>\", re.DOTALL | re.IGNORECASE)\n",
    "    afl= afl_pattern.search(xbrl_10k).group(1)\n",
    "    \n",
    "    print(f\"\\t{key:<20}: {str(afn):<30} {str(afl)}\")"
   ]
  },
  {
   "cell_type": "markdown",
   "id": "8f77038e-2426-4631-b214-152c52f1518a",
   "metadata": {},
   "source": [
    "--------------"
   ]
  }
 ],
 "metadata": {
  "kernelspec": {
   "display_name": "sec",
   "language": "python",
   "name": "sec"
  },
  "language_info": {
   "codemirror_mode": {
    "name": "ipython",
    "version": 3
   },
   "file_extension": ".py",
   "mimetype": "text/x-python",
   "name": "python",
   "nbconvert_exporter": "python",
   "pygments_lexer": "ipython3",
   "version": "3.8.8"
  },
  "widgets": {
   "application/vnd.jupyter.widget-state+json": {
    "state": {},
    "version_major": 2,
    "version_minor": 0
   }
  }
 },
 "nbformat": 4,
 "nbformat_minor": 5
}
