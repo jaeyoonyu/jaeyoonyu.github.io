{
 "cells": [
  {
   "cell_type": "markdown",
   "id": "71b3cf5d-fa39-4f55-b100-9a8ddce06c91",
   "metadata": {},
   "source": [
    "# Distribution of Compustat observations"
   ]
  },
  {
   "cell_type": "code",
   "execution_count": 1,
   "id": "8420ae00-ac0d-462a-a908-2d0a75e4e6a0",
   "metadata": {},
   "outputs": [],
   "source": [
    "import pandas as pd\n",
    "import numpy as np\n",
    "import matplotlib.pyplot as plt"
   ]
  },
  {
   "cell_type": "markdown",
   "id": "d74fe73d-37d9-4479-b3af-cbf1dd9d9a82",
   "metadata": {},
   "source": [
    "------"
   ]
  },
  {
   "cell_type": "markdown",
   "id": "fbb9dee7-42b4-487e-974b-fdc903e11179",
   "metadata": {},
   "source": [
    "## Load data"
   ]
  },
  {
   "cell_type": "code",
   "execution_count": 2,
   "id": "0b659942-704a-414c-b9c1-eaa6dc6bde5a",
   "metadata": {},
   "outputs": [
    {
     "name": "stdout",
     "output_type": "stream",
     "text": [
      "(211966, 5)\n"
     ]
    },
    {
     "data": {
      "text/html": [
       "<div>\n",
       "<style scoped>\n",
       "    .dataframe tbody tr th:only-of-type {\n",
       "        vertical-align: middle;\n",
       "    }\n",
       "\n",
       "    .dataframe tbody tr th {\n",
       "        vertical-align: top;\n",
       "    }\n",
       "\n",
       "    .dataframe thead th {\n",
       "        text-align: right;\n",
       "    }\n",
       "</style>\n",
       "<table border=\"1\" class=\"dataframe\">\n",
       "  <thead>\n",
       "    <tr style=\"text-align: right;\">\n",
       "      <th></th>\n",
       "      <th>gvkey</th>\n",
       "      <th>fyear</th>\n",
       "      <th>at</th>\n",
       "      <th>sale</th>\n",
       "      <th>ni</th>\n",
       "    </tr>\n",
       "  </thead>\n",
       "  <tbody>\n",
       "    <tr>\n",
       "      <th>0</th>\n",
       "      <td>1004</td>\n",
       "      <td>1990</td>\n",
       "      <td>379.958</td>\n",
       "      <td>466.542</td>\n",
       "      <td>14.801</td>\n",
       "    </tr>\n",
       "    <tr>\n",
       "      <th>1</th>\n",
       "      <td>1004</td>\n",
       "      <td>1991</td>\n",
       "      <td>395.351</td>\n",
       "      <td>422.657</td>\n",
       "      <td>10.020</td>\n",
       "    </tr>\n",
       "    <tr>\n",
       "      <th>2</th>\n",
       "      <td>1004</td>\n",
       "      <td>1992</td>\n",
       "      <td>365.151</td>\n",
       "      <td>382.780</td>\n",
       "      <td>0.283</td>\n",
       "    </tr>\n",
       "    <tr>\n",
       "      <th>3</th>\n",
       "      <td>1004</td>\n",
       "      <td>1993</td>\n",
       "      <td>417.626</td>\n",
       "      <td>407.754</td>\n",
       "      <td>9.494</td>\n",
       "    </tr>\n",
       "    <tr>\n",
       "      <th>4</th>\n",
       "      <td>1004</td>\n",
       "      <td>1994</td>\n",
       "      <td>425.814</td>\n",
       "      <td>451.395</td>\n",
       "      <td>10.463</td>\n",
       "    </tr>\n",
       "  </tbody>\n",
       "</table>\n",
       "</div>"
      ],
      "text/plain": [
       "   gvkey  fyear       at     sale      ni\n",
       "0   1004   1990  379.958  466.542  14.801\n",
       "1   1004   1991  395.351  422.657  10.020\n",
       "2   1004   1992  365.151  382.780   0.283\n",
       "3   1004   1993  417.626  407.754   9.494\n",
       "4   1004   1994  425.814  451.395  10.463"
      ]
     },
     "execution_count": 2,
     "metadata": {},
     "output_type": "execute_result"
    }
   ],
   "source": [
    "df= pd.read_csv(\"compustat_from_1990.csv\")[['gvkey', 'fyear', 'at', 'sale', 'ni']]\n",
    "print(df.shape)\n",
    "df.head()"
   ]
  },
  {
   "cell_type": "code",
   "execution_count": 3,
   "id": "3e3bbf5c-811e-4aed-82bc-35782973998c",
   "metadata": {},
   "outputs": [
    {
     "data": {
      "text/html": [
       "<div>\n",
       "<style scoped>\n",
       "    .dataframe tbody tr th:only-of-type {\n",
       "        vertical-align: middle;\n",
       "    }\n",
       "\n",
       "    .dataframe tbody tr th {\n",
       "        vertical-align: top;\n",
       "    }\n",
       "\n",
       "    .dataframe thead th {\n",
       "        text-align: right;\n",
       "    }\n",
       "</style>\n",
       "<table border=\"1\" class=\"dataframe\">\n",
       "  <thead>\n",
       "    <tr style=\"text-align: right;\">\n",
       "      <th></th>\n",
       "      <th>gvkey</th>\n",
       "      <th>fyear</th>\n",
       "      <th>at</th>\n",
       "      <th>sale</th>\n",
       "      <th>ni</th>\n",
       "      <th>neg_ni</th>\n",
       "    </tr>\n",
       "  </thead>\n",
       "  <tbody>\n",
       "    <tr>\n",
       "      <th>0</th>\n",
       "      <td>1004</td>\n",
       "      <td>1990</td>\n",
       "      <td>379.958</td>\n",
       "      <td>466.542</td>\n",
       "      <td>14.801</td>\n",
       "      <td>0</td>\n",
       "    </tr>\n",
       "    <tr>\n",
       "      <th>1</th>\n",
       "      <td>1004</td>\n",
       "      <td>1991</td>\n",
       "      <td>395.351</td>\n",
       "      <td>422.657</td>\n",
       "      <td>10.020</td>\n",
       "      <td>0</td>\n",
       "    </tr>\n",
       "    <tr>\n",
       "      <th>2</th>\n",
       "      <td>1004</td>\n",
       "      <td>1992</td>\n",
       "      <td>365.151</td>\n",
       "      <td>382.780</td>\n",
       "      <td>0.283</td>\n",
       "      <td>0</td>\n",
       "    </tr>\n",
       "    <tr>\n",
       "      <th>3</th>\n",
       "      <td>1004</td>\n",
       "      <td>1993</td>\n",
       "      <td>417.626</td>\n",
       "      <td>407.754</td>\n",
       "      <td>9.494</td>\n",
       "      <td>0</td>\n",
       "    </tr>\n",
       "    <tr>\n",
       "      <th>4</th>\n",
       "      <td>1004</td>\n",
       "      <td>1994</td>\n",
       "      <td>425.814</td>\n",
       "      <td>451.395</td>\n",
       "      <td>10.463</td>\n",
       "      <td>0</td>\n",
       "    </tr>\n",
       "  </tbody>\n",
       "</table>\n",
       "</div>"
      ],
      "text/plain": [
       "   gvkey  fyear       at     sale      ni  neg_ni\n",
       "0   1004   1990  379.958  466.542  14.801       0\n",
       "1   1004   1991  395.351  422.657  10.020       0\n",
       "2   1004   1992  365.151  382.780   0.283       0\n",
       "3   1004   1993  417.626  407.754   9.494       0\n",
       "4   1004   1994  425.814  451.395  10.463       0"
      ]
     },
     "execution_count": 3,
     "metadata": {},
     "output_type": "execute_result"
    }
   ],
   "source": [
    "df['neg_ni']= (df.ni <= 0).astype(int)\n",
    "df.head()"
   ]
  },
  {
   "cell_type": "markdown",
   "id": "f778581c-317e-459e-9659-b15a96825f30",
   "metadata": {},
   "source": [
    "### Aggregate data to year-level"
   ]
  },
  {
   "cell_type": "code",
   "execution_count": 4,
   "id": "dbe03446-d4ce-4286-bc43-fbcd719cb645",
   "metadata": {
    "tags": []
   },
   "outputs": [
    {
     "data": {
      "text/html": [
       "<div>\n",
       "<style scoped>\n",
       "    .dataframe tbody tr th:only-of-type {\n",
       "        vertical-align: middle;\n",
       "    }\n",
       "\n",
       "    .dataframe tbody tr th {\n",
       "        vertical-align: top;\n",
       "    }\n",
       "\n",
       "    .dataframe thead th {\n",
       "        text-align: right;\n",
       "    }\n",
       "</style>\n",
       "<table border=\"1\" class=\"dataframe\">\n",
       "  <thead>\n",
       "    <tr style=\"text-align: right;\">\n",
       "      <th></th>\n",
       "      <th>fyear</th>\n",
       "      <th>count</th>\n",
       "      <th>neg_ni</th>\n",
       "    </tr>\n",
       "  </thead>\n",
       "  <tbody>\n",
       "    <tr>\n",
       "      <th>0</th>\n",
       "      <td>1990</td>\n",
       "      <td>6674</td>\n",
       "      <td>0.385975</td>\n",
       "    </tr>\n",
       "    <tr>\n",
       "      <th>1</th>\n",
       "      <td>1991</td>\n",
       "      <td>6783</td>\n",
       "      <td>0.401003</td>\n",
       "    </tr>\n",
       "    <tr>\n",
       "      <th>2</th>\n",
       "      <td>1992</td>\n",
       "      <td>7133</td>\n",
       "      <td>0.382308</td>\n",
       "    </tr>\n",
       "    <tr>\n",
       "      <th>3</th>\n",
       "      <td>1993</td>\n",
       "      <td>7596</td>\n",
       "      <td>0.367825</td>\n",
       "    </tr>\n",
       "    <tr>\n",
       "      <th>4</th>\n",
       "      <td>1994</td>\n",
       "      <td>8061</td>\n",
       "      <td>0.335690</td>\n",
       "    </tr>\n",
       "  </tbody>\n",
       "</table>\n",
       "</div>"
      ],
      "text/plain": [
       "   fyear  count    neg_ni\n",
       "0   1990   6674  0.385975\n",
       "1   1991   6783  0.401003\n",
       "2   1992   7133  0.382308\n",
       "3   1993   7596  0.367825\n",
       "4   1994   8061  0.335690"
      ]
     },
     "execution_count": 4,
     "metadata": {},
     "output_type": "execute_result"
    }
   ],
   "source": [
    "yearly_loss= df.groupby('fyear').agg({\n",
    "                            'gvkey':'count',\n",
    "                            'neg_ni':('mean')\n",
    "                            }).reset_index()\n",
    "yearly_loss.rename(columns={'gvkey':'count'}, inplace= True)\n",
    "yearly_loss= yearly_loss[yearly_loss.fyear>= 1990]\n",
    "yearly_loss.head()"
   ]
  },
  {
   "cell_type": "markdown",
   "id": "045c7503-85c8-40c5-b1ea-5b5bf564e308",
   "metadata": {},
   "source": [
    "--------------------------------------\n",
    "## Visualization after aggregation"
   ]
  },
  {
   "cell_type": "code",
   "execution_count": 5,
   "id": "d4c27244-ba33-4db6-8a29-f33067f73d83",
   "metadata": {},
   "outputs": [
    {
     "data": {
      "image/png": "[encoded data removed]",
      "text/plain": [
       "<Figure size 720x432 with 2 Axes>"
      ]
     },
     "metadata": {
      "needs_background": "light"
     },
     "output_type": "display_data"
    }
   ],
   "source": [
    "fig, ax1 = plt.subplots(figsize= (10,6))\n",
    "ax2 = ax1.twinx()\n",
    "ax1.plot(yearly_loss['fyear'], yearly_loss['count'], marker= 'o', color='b', label= 'Compustat obs #')\n",
    "ax2.plot(yearly_loss['fyear'], yearly_loss['neg_ni'], marker= '*', color='r', label= 'loss firm %')\n",
    "ax1.set_title('Distribution of Compustat observations', fontsize= 20)\n",
    "ax1.set_xlabel('Fiscal Year')\n",
    "ax1.set_ylabel('# of firms covered by Compustat', color='b', fontsize= 13)\n",
    "ax2.set_ylabel('% of loss firms', color='r', fontsize= 13)\n",
    "ax1.grid()\n",
    "plt.show()"
   ]
  },
  {
   "cell_type": "markdown",
   "id": "8440ca1a-3a12-445f-92c0-d0f5389e3ba6",
   "metadata": {},
   "source": [
    "--------------"
   ]
  }
 ],
 "metadata": {
  "kernelspec": {
   "display_name": "sec",
   "language": "python",
   "name": "sec"
  },
  "language_info": {
   "codemirror_mode": {
    "name": "ipython",
    "version": 3
   },
   "file_extension": ".py",
   "mimetype": "text/x-python",
   "name": "python",
   "nbconvert_exporter": "python",
   "pygments_lexer": "ipython3",
   "version": "3.8.8"
  },
  "widgets": {
   "application/vnd.jupyter.widget-state+json": {
    "state": {},
    "version_major": 2,
    "version_minor": 0
   }
  }
 },
 "nbformat": 4,
 "nbformat_minor": 5
}
