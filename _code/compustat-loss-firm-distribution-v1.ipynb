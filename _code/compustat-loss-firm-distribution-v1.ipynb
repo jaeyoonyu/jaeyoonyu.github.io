{
 "cells": [
  {
   "cell_type": "markdown",
   "id": "71b3cf5d-fa39-4f55-b100-9a8ddce06c91",
   "metadata": {},
   "source": [
    "# Distribution of Compustat observations"
   ]
  },
  {
   "cell_type": "code",
   "execution_count": 2,
   "id": "8420ae00-ac0d-462a-a908-2d0a75e4e6a0",
   "metadata": {},
   "outputs": [],
   "source": [
    "import pandas as pd\n",
    "import numpy as np\n",
    "import matplotlib.pyplot as plt\n",
    "import wrds"
   ]
  },
  {
   "cell_type": "markdown",
   "id": "911c56b6-ab20-4512-ba80-f8bfe243a059",
   "metadata": {},
   "source": [
    "### Connect WRDS"
   ]
  },
  {
   "cell_type": "code",
   "execution_count": 3,
   "id": "eb4caf5b-97e4-4e98-8ad4-82fc7b018549",
   "metadata": {},
   "outputs": [
    {
     "name": "stdin",
     "output_type": "stream",
     "text": [
      "Enter your WRDS username [yjaey]: yjaeyoon\n",
      "Enter your password: ···············\n"
     ]
    },
    {
     "name": "stdout",
     "output_type": "stream",
     "text": [
      "WRDS recommends setting up a .pgpass file.\n"
     ]
    },
    {
     "name": "stdin",
     "output_type": "stream",
     "text": [
      "Create .pgpass file now [y/n]?:  y\n"
     ]
    },
    {
     "name": "stdout",
     "output_type": "stream",
     "text": [
      "Created .pgpass file successfully.\n",
      "Loading library list...\n",
      "Done\n"
     ]
    }
   ],
   "source": [
    "conn=wrds.Connection()"
   ]
  },
  {
   "cell_type": "markdown",
   "id": "14367e9c-1a2e-4aab-9eec-b19b1a5d7494",
   "metadata": {},
   "source": [
    "------"
   ]
  },
  {
   "cell_type": "markdown",
   "id": "482da19b-d214-4c27-85d7-d2f4e573106a",
   "metadata": {},
   "source": [
    "### Download funda from Compustat"
   ]
  },
  {
   "cell_type": "code",
   "execution_count": 4,
   "id": "88ccbadd-026c-493a-bdcc-3b920e7ef8e8",
   "metadata": {},
   "outputs": [
    {
     "name": "stdout",
     "output_type": "stream",
     "text": [
      "(352623, 7)\n"
     ]
    }
   ],
   "source": [
    "df= conn.raw_sql(f\"\"\"select conm, gvkey, fyear, at, sale, ni, sich\n",
    "                    from comp.funda a\n",
    "                    where a.fyear >= 1990 and \n",
    "                        a.fyear <= 2020 and\n",
    "                        a.indfmt= 'INDL' and \n",
    "                        a.datafmt = 'STD' and \n",
    "                        a.popsrc= 'D' and \n",
    "                        a.consol = 'C'\n",
    "                    \"\"\")\n",
    "print(df.shape)"
   ]
  },
  {
   "cell_type": "code",
   "execution_count": 5,
   "id": "86082b94-4eb5-4ab9-a50c-5b1b1b94f8d5",
   "metadata": {},
   "outputs": [
    {
     "name": "stdout",
     "output_type": "stream",
     "text": [
      "(252762, 7)\n"
     ]
    },
    {
     "data": {
      "text/html": [
       "<div>\n",
       "<style scoped>\n",
       "    .dataframe tbody tr th:only-of-type {\n",
       "        vertical-align: middle;\n",
       "    }\n",
       "\n",
       "    .dataframe tbody tr th {\n",
       "        vertical-align: top;\n",
       "    }\n",
       "\n",
       "    .dataframe thead th {\n",
       "        text-align: right;\n",
       "    }\n",
       "</style>\n",
       "<table border=\"1\" class=\"dataframe\">\n",
       "  <thead>\n",
       "    <tr style=\"text-align: right;\">\n",
       "      <th></th>\n",
       "      <th>conm</th>\n",
       "      <th>gvkey</th>\n",
       "      <th>fyear</th>\n",
       "      <th>at</th>\n",
       "      <th>sale</th>\n",
       "      <th>ni</th>\n",
       "      <th>sich</th>\n",
       "    </tr>\n",
       "  </thead>\n",
       "  <tbody>\n",
       "    <tr>\n",
       "      <th>0</th>\n",
       "      <td>AAR CORP</td>\n",
       "      <td>001004</td>\n",
       "      <td>1990</td>\n",
       "      <td>379.958</td>\n",
       "      <td>466.542</td>\n",
       "      <td>14.801</td>\n",
       "      <td>5080.0</td>\n",
       "    </tr>\n",
       "    <tr>\n",
       "      <th>1</th>\n",
       "      <td>AAR CORP</td>\n",
       "      <td>001004</td>\n",
       "      <td>1991</td>\n",
       "      <td>395.351</td>\n",
       "      <td>422.657</td>\n",
       "      <td>10.020</td>\n",
       "      <td>5080.0</td>\n",
       "    </tr>\n",
       "    <tr>\n",
       "      <th>2</th>\n",
       "      <td>AAR CORP</td>\n",
       "      <td>001004</td>\n",
       "      <td>1992</td>\n",
       "      <td>365.151</td>\n",
       "      <td>382.780</td>\n",
       "      <td>0.283</td>\n",
       "      <td>5080.0</td>\n",
       "    </tr>\n",
       "    <tr>\n",
       "      <th>3</th>\n",
       "      <td>AAR CORP</td>\n",
       "      <td>001004</td>\n",
       "      <td>1993</td>\n",
       "      <td>417.626</td>\n",
       "      <td>407.754</td>\n",
       "      <td>9.494</td>\n",
       "      <td>5080.0</td>\n",
       "    </tr>\n",
       "    <tr>\n",
       "      <th>4</th>\n",
       "      <td>AAR CORP</td>\n",
       "      <td>001004</td>\n",
       "      <td>1994</td>\n",
       "      <td>425.814</td>\n",
       "      <td>451.395</td>\n",
       "      <td>10.463</td>\n",
       "      <td>5080.0</td>\n",
       "    </tr>\n",
       "  </tbody>\n",
       "</table>\n",
       "</div>"
      ],
      "text/plain": [
       "       conm   gvkey  fyear       at     sale      ni    sich\n",
       "0  AAR CORP  001004   1990  379.958  466.542  14.801  5080.0\n",
       "1  AAR CORP  001004   1991  395.351  422.657  10.020  5080.0\n",
       "2  AAR CORP  001004   1992  365.151  382.780   0.283  5080.0\n",
       "3  AAR CORP  001004   1993  417.626  407.754   9.494  5080.0\n",
       "4  AAR CORP  001004   1994  425.814  451.395  10.463  5080.0"
      ]
     },
     "execution_count": 5,
     "metadata": {},
     "output_type": "execute_result"
    }
   ],
   "source": [
    "df=df.dropna()\n",
    "df= df.sort_values(['gvkey','fyear'])\n",
    "df['fyear']= df['fyear'].astype(int)\n",
    "df= df.reset_index(drop=True)\n",
    "print(df.shape)\n",
    "df.head()"
   ]
  },
  {
   "cell_type": "code",
   "execution_count": 6,
   "id": "a0cf1e4d-1ced-4ec2-b769-d7ad983e0eb7",
   "metadata": {},
   "outputs": [
    {
     "data": {
      "text/plain": [
       "(210233, 7)"
      ]
     },
     "execution_count": 6,
     "metadata": {},
     "output_type": "execute_result"
    }
   ],
   "source": [
    "# excluding financial firms\n",
    "df= df[~( (df.sich>=6000)&(df.sich<7000) )]\n",
    "df.shape"
   ]
  },
  {
   "cell_type": "code",
   "execution_count": 7,
   "id": "4fb68abe-f9c8-4a3a-8469-6c0345bf96cc",
   "metadata": {},
   "outputs": [
    {
     "data": {
      "text/html": [
       "<div>\n",
       "<style scoped>\n",
       "    .dataframe tbody tr th:only-of-type {\n",
       "        vertical-align: middle;\n",
       "    }\n",
       "\n",
       "    .dataframe tbody tr th {\n",
       "        vertical-align: top;\n",
       "    }\n",
       "\n",
       "    .dataframe thead th {\n",
       "        text-align: right;\n",
       "    }\n",
       "</style>\n",
       "<table border=\"1\" class=\"dataframe\">\n",
       "  <thead>\n",
       "    <tr style=\"text-align: right;\">\n",
       "      <th></th>\n",
       "      <th>conm</th>\n",
       "      <th>gvkey</th>\n",
       "      <th>fyear</th>\n",
       "      <th>at</th>\n",
       "      <th>sale</th>\n",
       "      <th>ni</th>\n",
       "      <th>sich</th>\n",
       "      <th>neg_ni</th>\n",
       "    </tr>\n",
       "  </thead>\n",
       "  <tbody>\n",
       "    <tr>\n",
       "      <th>0</th>\n",
       "      <td>AAR CORP</td>\n",
       "      <td>001004</td>\n",
       "      <td>1990</td>\n",
       "      <td>379.958</td>\n",
       "      <td>466.542</td>\n",
       "      <td>14.801</td>\n",
       "      <td>5080.0</td>\n",
       "      <td>0</td>\n",
       "    </tr>\n",
       "    <tr>\n",
       "      <th>1</th>\n",
       "      <td>AAR CORP</td>\n",
       "      <td>001004</td>\n",
       "      <td>1991</td>\n",
       "      <td>395.351</td>\n",
       "      <td>422.657</td>\n",
       "      <td>10.020</td>\n",
       "      <td>5080.0</td>\n",
       "      <td>0</td>\n",
       "    </tr>\n",
       "    <tr>\n",
       "      <th>2</th>\n",
       "      <td>AAR CORP</td>\n",
       "      <td>001004</td>\n",
       "      <td>1992</td>\n",
       "      <td>365.151</td>\n",
       "      <td>382.780</td>\n",
       "      <td>0.283</td>\n",
       "      <td>5080.0</td>\n",
       "      <td>0</td>\n",
       "    </tr>\n",
       "    <tr>\n",
       "      <th>3</th>\n",
       "      <td>AAR CORP</td>\n",
       "      <td>001004</td>\n",
       "      <td>1993</td>\n",
       "      <td>417.626</td>\n",
       "      <td>407.754</td>\n",
       "      <td>9.494</td>\n",
       "      <td>5080.0</td>\n",
       "      <td>0</td>\n",
       "    </tr>\n",
       "    <tr>\n",
       "      <th>4</th>\n",
       "      <td>AAR CORP</td>\n",
       "      <td>001004</td>\n",
       "      <td>1994</td>\n",
       "      <td>425.814</td>\n",
       "      <td>451.395</td>\n",
       "      <td>10.463</td>\n",
       "      <td>5080.0</td>\n",
       "      <td>0</td>\n",
       "    </tr>\n",
       "  </tbody>\n",
       "</table>\n",
       "</div>"
      ],
      "text/plain": [
       "       conm   gvkey  fyear       at     sale      ni    sich  neg_ni\n",
       "0  AAR CORP  001004   1990  379.958  466.542  14.801  5080.0       0\n",
       "1  AAR CORP  001004   1991  395.351  422.657  10.020  5080.0       0\n",
       "2  AAR CORP  001004   1992  365.151  382.780   0.283  5080.0       0\n",
       "3  AAR CORP  001004   1993  417.626  407.754   9.494  5080.0       0\n",
       "4  AAR CORP  001004   1994  425.814  451.395  10.463  5080.0       0"
      ]
     },
     "execution_count": 7,
     "metadata": {},
     "output_type": "execute_result"
    }
   ],
   "source": [
    "df['neg_ni']= (df.ni <= 0).astype(int)\n",
    "df.head()"
   ]
  },
  {
   "cell_type": "markdown",
   "id": "d74fe73d-37d9-4479-b3af-cbf1dd9d9a82",
   "metadata": {},
   "source": [
    "------"
   ]
  },
  {
   "cell_type": "markdown",
   "id": "f778581c-317e-459e-9659-b15a96825f30",
   "metadata": {},
   "source": [
    "### Aggregate data to year-level"
   ]
  },
  {
   "cell_type": "code",
   "execution_count": 8,
   "id": "30d23a8f-3cfa-44b1-9be9-a71a9946d55b",
   "metadata": {},
   "outputs": [
    {
     "data": {
      "text/html": [
       "<div>\n",
       "<style scoped>\n",
       "    .dataframe tbody tr th:only-of-type {\n",
       "        vertical-align: middle;\n",
       "    }\n",
       "\n",
       "    .dataframe tbody tr th {\n",
       "        vertical-align: top;\n",
       "    }\n",
       "\n",
       "    .dataframe thead th {\n",
       "        text-align: right;\n",
       "    }\n",
       "</style>\n",
       "<table border=\"1\" class=\"dataframe\">\n",
       "  <thead>\n",
       "    <tr style=\"text-align: right;\">\n",
       "      <th></th>\n",
       "      <th>fyear</th>\n",
       "      <th>count</th>\n",
       "      <th>neg_ni</th>\n",
       "    </tr>\n",
       "  </thead>\n",
       "  <tbody>\n",
       "    <tr>\n",
       "      <th>0</th>\n",
       "      <td>1990</td>\n",
       "      <td>6588</td>\n",
       "      <td>0.390710</td>\n",
       "    </tr>\n",
       "    <tr>\n",
       "      <th>1</th>\n",
       "      <td>1991</td>\n",
       "      <td>6700</td>\n",
       "      <td>0.405672</td>\n",
       "    </tr>\n",
       "    <tr>\n",
       "      <th>2</th>\n",
       "      <td>1992</td>\n",
       "      <td>7071</td>\n",
       "      <td>0.385377</td>\n",
       "    </tr>\n",
       "    <tr>\n",
       "      <th>3</th>\n",
       "      <td>1993</td>\n",
       "      <td>7512</td>\n",
       "      <td>0.371805</td>\n",
       "    </tr>\n",
       "    <tr>\n",
       "      <th>4</th>\n",
       "      <td>1994</td>\n",
       "      <td>7982</td>\n",
       "      <td>0.338386</td>\n",
       "    </tr>\n",
       "  </tbody>\n",
       "</table>\n",
       "</div>"
      ],
      "text/plain": [
       "   fyear  count    neg_ni\n",
       "0   1990   6588  0.390710\n",
       "1   1991   6700  0.405672\n",
       "2   1992   7071  0.385377\n",
       "3   1993   7512  0.371805\n",
       "4   1994   7982  0.338386"
      ]
     },
     "execution_count": 8,
     "metadata": {},
     "output_type": "execute_result"
    }
   ],
   "source": [
    "yearly_loss= df.groupby('fyear').agg({\n",
    "                            'gvkey':'count',\n",
    "                            'neg_ni':('mean')\n",
    "                            }).reset_index()\n",
    "yearly_loss.rename(columns={'gvkey':'count'}, inplace= True)\n",
    "yearly_loss= yearly_loss[yearly_loss.fyear>= 1990]\n",
    "yearly_loss.head()"
   ]
  },
  {
   "cell_type": "markdown",
   "id": "045c7503-85c8-40c5-b1ea-5b5bf564e308",
   "metadata": {},
   "source": [
    "--------------------------------------\n",
    "## Visualization after aggregation"
   ]
  },
  {
   "cell_type": "code",
   "execution_count": 11,
   "id": "766d9258-32b7-46d2-88af-37974f81cae9",
   "metadata": {},
   "outputs": [
    {
     "data": {
      "image/png": "[encoded data removed]",
      "text/plain": [
       "<Figure size 1008x432 with 2 Axes>"
      ]
     },
     "metadata": {
      "needs_background": "light"
     },
     "output_type": "display_data"
    }
   ],
   "source": [
    "fig, ax1 = plt.subplots(figsize= (14,6))\n",
    "ax2 = ax1.twinx()\n",
    "ax1.plot(yearly_loss['fyear'], yearly_loss['count'], marker= 'o', color='b', label= 'Compustat obs #')\n",
    "ax2.plot(yearly_loss['fyear'], yearly_loss['neg_ni'], marker= '*', color='r', label= 'loss firm %')\n",
    "ax1.set_title('Distribution of Compustat observations (excl. financial firms)', fontsize= 20)\n",
    "ax1.set_xlabel('Fiscal Year')\n",
    "ax1.set_ylabel('# of firms covered by Compustat', color='b', fontsize= 13)\n",
    "ax2.set_ylabel('% of loss firms', color='r', fontsize= 13)\n",
    "ax1.grid()\n",
    "plt.show()"
   ]
  },
  {
   "cell_type": "markdown",
   "id": "8440ca1a-3a12-445f-92c0-d0f5389e3ba6",
   "metadata": {},
   "source": [
    "--------------"
   ]
  }
 ],
 "metadata": {
  "kernelspec": {
   "display_name": "sec",
   "language": "python",
   "name": "sec"
  },
  "language_info": {
   "codemirror_mode": {
    "name": "ipython",
    "version": 3
   },
   "file_extension": ".py",
   "mimetype": "text/x-python",
   "name": "python",
   "nbconvert_exporter": "python",
   "pygments_lexer": "ipython3",
   "version": "3.8.8"
  },
  "widgets": {
   "application/vnd.jupyter.widget-state+json": {
    "state": {},
    "version_major": 2,
    "version_minor": 0
   }
  }
 },
 "nbformat": 4,
 "nbformat_minor": 5
}
