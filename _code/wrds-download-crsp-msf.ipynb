{
 "cells": [
  {
   "cell_type": "markdown",
   "id": "3873ee4b-5771-4610-9508-6b5f84317d91",
   "metadata": {},
   "source": [
    "## MSF from CRSP via WRDS\n",
    "- msf: Monthly Stock File\n",
    "- Link for CRSP at WRDS: https://wrds-www.wharton.upenn.edu/pages/about/data-vendors/center-for-research-in-security-prices-crsp/\n",
    "- Link for MSF at WRDS: https://wrds-www.wharton.upenn.edu/pages/get-data/center-research-security-prices-crsp/annual-update/stock-security-files/monthly-stock-file/\n",
    "- Link for variable definitions in MSF: https://wrds-www.wharton.upenn.edu/pages/get-data/center-research-security-prices-crsp/annual-update/stock-security-files/monthly-stock-file/\n",
    "- Info for identifiers (Stanford): https://libguides.stanford.edu/c.php?g=559845&p=6686228"
   ]
  },
  {
   "cell_type": "markdown",
   "id": "eed9431c-85e8-4651-a33b-2be6e56579c7",
   "metadata": {},
   "source": [
    "-------------------------"
   ]
  },
  {
   "cell_type": "markdown",
   "id": "d4bfcf5c-c883-4ac1-839b-f2c76c0284cb",
   "metadata": {},
   "source": [
    "### Import libraries"
   ]
  },
  {
   "cell_type": "code",
   "execution_count": 1,
   "id": "9cff7b80-9b0c-4cd3-a11c-cf28f63842ff",
   "metadata": {},
   "outputs": [],
   "source": [
    "import pandas as pd\n",
    "import numpy as np\n",
    "import matplotlib.pyplot as plt\n",
    "import wrds\n",
    "pd.set_option('display.max_columns', None)"
   ]
  },
  {
   "cell_type": "markdown",
   "id": "432f2b4a-02a6-4c58-9e6a-ffda0615342f",
   "metadata": {},
   "source": [
    "### Connect WRDS"
   ]
  },
  {
   "cell_type": "code",
   "execution_count": 2,
   "id": "3df4e730-ca27-4c67-8d76-fb5ae5c90084",
   "metadata": {},
   "outputs": [
    {
     "name": "stdin",
     "output_type": "stream",
     "text": [
      "Enter your WRDS username [yjaey]: yjaeyoon\n",
      "Enter your password: ···············\n"
     ]
    },
    {
     "name": "stdout",
     "output_type": "stream",
     "text": [
      "WRDS recommends setting up a .pgpass file.\n"
     ]
    },
    {
     "name": "stdin",
     "output_type": "stream",
     "text": [
      "Create .pgpass file now [y/n]?:  y\n"
     ]
    },
    {
     "name": "stdout",
     "output_type": "stream",
     "text": [
      "Created .pgpass file successfully.\n",
      "Loading library list...\n",
      "Done\n"
     ]
    }
   ],
   "source": [
    "conn=wrds.Connection()"
   ]
  },
  {
   "cell_type": "markdown",
   "id": "b7732e45-1916-4966-82f3-863c97e34225",
   "metadata": {},
   "source": [
    "### Check variables in msf"
   ]
  },
  {
   "cell_type": "code",
   "execution_count": 3,
   "id": "313f9cf1-e858-4a1a-9256-fe3d1f17648b",
   "metadata": {},
   "outputs": [
    {
     "name": "stdout",
     "output_type": "stream",
     "text": [
      "Approximately 4834507 rows in crsp.msf.\n"
     ]
    },
    {
     "data": {
      "text/html": [
       "<div>\n",
       "<style scoped>\n",
       "    .dataframe tbody tr th:only-of-type {\n",
       "        vertical-align: middle;\n",
       "    }\n",
       "\n",
       "    .dataframe tbody tr th {\n",
       "        vertical-align: top;\n",
       "    }\n",
       "\n",
       "    .dataframe thead th {\n",
       "        text-align: right;\n",
       "    }\n",
       "</style>\n",
       "<table border=\"1\" class=\"dataframe\">\n",
       "  <thead>\n",
       "    <tr style=\"text-align: right;\">\n",
       "      <th></th>\n",
       "      <th>name</th>\n",
       "      <th>nullable</th>\n",
       "      <th>type</th>\n",
       "    </tr>\n",
       "  </thead>\n",
       "  <tbody>\n",
       "    <tr>\n",
       "      <th>0</th>\n",
       "      <td>cusip</td>\n",
       "      <td>True</td>\n",
       "      <td>VARCHAR(8)</td>\n",
       "    </tr>\n",
       "    <tr>\n",
       "      <th>1</th>\n",
       "      <td>permno</td>\n",
       "      <td>True</td>\n",
       "      <td>DOUBLE_PRECISION</td>\n",
       "    </tr>\n",
       "    <tr>\n",
       "      <th>2</th>\n",
       "      <td>permco</td>\n",
       "      <td>True</td>\n",
       "      <td>DOUBLE_PRECISION</td>\n",
       "    </tr>\n",
       "    <tr>\n",
       "      <th>3</th>\n",
       "      <td>issuno</td>\n",
       "      <td>True</td>\n",
       "      <td>DOUBLE_PRECISION</td>\n",
       "    </tr>\n",
       "    <tr>\n",
       "      <th>4</th>\n",
       "      <td>hexcd</td>\n",
       "      <td>True</td>\n",
       "      <td>DOUBLE_PRECISION</td>\n",
       "    </tr>\n",
       "    <tr>\n",
       "      <th>5</th>\n",
       "      <td>hsiccd</td>\n",
       "      <td>True</td>\n",
       "      <td>DOUBLE_PRECISION</td>\n",
       "    </tr>\n",
       "    <tr>\n",
       "      <th>6</th>\n",
       "      <td>date</td>\n",
       "      <td>True</td>\n",
       "      <td>DATE</td>\n",
       "    </tr>\n",
       "    <tr>\n",
       "      <th>7</th>\n",
       "      <td>bidlo</td>\n",
       "      <td>True</td>\n",
       "      <td>DOUBLE_PRECISION</td>\n",
       "    </tr>\n",
       "    <tr>\n",
       "      <th>8</th>\n",
       "      <td>askhi</td>\n",
       "      <td>True</td>\n",
       "      <td>DOUBLE_PRECISION</td>\n",
       "    </tr>\n",
       "    <tr>\n",
       "      <th>9</th>\n",
       "      <td>prc</td>\n",
       "      <td>True</td>\n",
       "      <td>DOUBLE_PRECISION</td>\n",
       "    </tr>\n",
       "    <tr>\n",
       "      <th>10</th>\n",
       "      <td>vol</td>\n",
       "      <td>True</td>\n",
       "      <td>DOUBLE_PRECISION</td>\n",
       "    </tr>\n",
       "    <tr>\n",
       "      <th>11</th>\n",
       "      <td>ret</td>\n",
       "      <td>True</td>\n",
       "      <td>DOUBLE_PRECISION</td>\n",
       "    </tr>\n",
       "    <tr>\n",
       "      <th>12</th>\n",
       "      <td>bid</td>\n",
       "      <td>True</td>\n",
       "      <td>DOUBLE_PRECISION</td>\n",
       "    </tr>\n",
       "    <tr>\n",
       "      <th>13</th>\n",
       "      <td>ask</td>\n",
       "      <td>True</td>\n",
       "      <td>DOUBLE_PRECISION</td>\n",
       "    </tr>\n",
       "    <tr>\n",
       "      <th>14</th>\n",
       "      <td>shrout</td>\n",
       "      <td>True</td>\n",
       "      <td>DOUBLE_PRECISION</td>\n",
       "    </tr>\n",
       "    <tr>\n",
       "      <th>15</th>\n",
       "      <td>cfacpr</td>\n",
       "      <td>True</td>\n",
       "      <td>DOUBLE_PRECISION</td>\n",
       "    </tr>\n",
       "    <tr>\n",
       "      <th>16</th>\n",
       "      <td>cfacshr</td>\n",
       "      <td>True</td>\n",
       "      <td>DOUBLE_PRECISION</td>\n",
       "    </tr>\n",
       "    <tr>\n",
       "      <th>17</th>\n",
       "      <td>altprc</td>\n",
       "      <td>True</td>\n",
       "      <td>DOUBLE_PRECISION</td>\n",
       "    </tr>\n",
       "    <tr>\n",
       "      <th>18</th>\n",
       "      <td>spread</td>\n",
       "      <td>True</td>\n",
       "      <td>DOUBLE_PRECISION</td>\n",
       "    </tr>\n",
       "    <tr>\n",
       "      <th>19</th>\n",
       "      <td>altprcdt</td>\n",
       "      <td>True</td>\n",
       "      <td>DATE</td>\n",
       "    </tr>\n",
       "    <tr>\n",
       "      <th>20</th>\n",
       "      <td>retx</td>\n",
       "      <td>True</td>\n",
       "      <td>DOUBLE_PRECISION</td>\n",
       "    </tr>\n",
       "  </tbody>\n",
       "</table>\n",
       "</div>"
      ],
      "text/plain": [
       "        name  nullable              type\n",
       "0      cusip      True        VARCHAR(8)\n",
       "1     permno      True  DOUBLE_PRECISION\n",
       "2     permco      True  DOUBLE_PRECISION\n",
       "3     issuno      True  DOUBLE_PRECISION\n",
       "4      hexcd      True  DOUBLE_PRECISION\n",
       "5     hsiccd      True  DOUBLE_PRECISION\n",
       "6       date      True              DATE\n",
       "7      bidlo      True  DOUBLE_PRECISION\n",
       "8      askhi      True  DOUBLE_PRECISION\n",
       "9        prc      True  DOUBLE_PRECISION\n",
       "10       vol      True  DOUBLE_PRECISION\n",
       "11       ret      True  DOUBLE_PRECISION\n",
       "12       bid      True  DOUBLE_PRECISION\n",
       "13       ask      True  DOUBLE_PRECISION\n",
       "14    shrout      True  DOUBLE_PRECISION\n",
       "15    cfacpr      True  DOUBLE_PRECISION\n",
       "16   cfacshr      True  DOUBLE_PRECISION\n",
       "17    altprc      True  DOUBLE_PRECISION\n",
       "18    spread      True  DOUBLE_PRECISION\n",
       "19  altprcdt      True              DATE\n",
       "20      retx      True  DOUBLE_PRECISION"
      ]
     },
     "execution_count": 3,
     "metadata": {},
     "output_type": "execute_result"
    }
   ],
   "source": [
    "conn.describe_table(library='crsp', table='msf')"
   ]
  },
  {
   "cell_type": "markdown",
   "id": "2f245b67-79fe-4ce0-b3ca-f94bdc5fe03d",
   "metadata": {},
   "source": [
    "<b>Variables</b>:  \n",
    "- <b>permco</b>: CRSP Permanent Company Number \n",
    "- <b>permno</b>: CRSP Permanent Stock (Share Class) Number \n",
    "- <b>ret</b>: Holding Period Return (ret)\n",
    "- <b>vol</b>: The sum of the trading volumes during that month (in 100 shares).\n",
    "- <b>shrout</b>: The number of shares outstanding in thousands"
   ]
  },
  {
   "cell_type": "markdown",
   "id": "642919e9-cc5f-4f13-98f9-d97878721eac",
   "metadata": {},
   "source": [
    "------------"
   ]
  },
  {
   "cell_type": "markdown",
   "id": "bf740ba6-d00d-46a6-aa71-2be1df5174f2",
   "metadata": {},
   "source": [
    "### Get data"
   ]
  },
  {
   "cell_type": "code",
   "execution_count": 4,
   "id": "9f4c89b7-bf7d-466b-a949-7d8ba0885814",
   "metadata": {},
   "outputs": [
    {
     "data": {
      "text/plain": [
       "4834507"
      ]
     },
     "execution_count": 4,
     "metadata": {},
     "output_type": "execute_result"
    }
   ],
   "source": [
    "conn.get_row_count(library='crsp', table='msf')"
   ]
  },
  {
   "cell_type": "markdown",
   "id": "16333008-a9de-446a-b814-633ea7a63aca",
   "metadata": {},
   "source": [
    "### Download msf data"
   ]
  },
  {
   "cell_type": "code",
   "execution_count": 5,
   "id": "4cb51d99-50a7-4e94-a632-da2f85fd3dc4",
   "metadata": {},
   "outputs": [
    {
     "name": "stdout",
     "output_type": "stream",
     "text": [
      "(5, 21)\n"
     ]
    },
    {
     "data": {
      "text/html": [
       "<div>\n",
       "<style scoped>\n",
       "    .dataframe tbody tr th:only-of-type {\n",
       "        vertical-align: middle;\n",
       "    }\n",
       "\n",
       "    .dataframe tbody tr th {\n",
       "        vertical-align: top;\n",
       "    }\n",
       "\n",
       "    .dataframe thead th {\n",
       "        text-align: right;\n",
       "    }\n",
       "</style>\n",
       "<table border=\"1\" class=\"dataframe\">\n",
       "  <thead>\n",
       "    <tr style=\"text-align: right;\">\n",
       "      <th></th>\n",
       "      <th>cusip</th>\n",
       "      <th>permno</th>\n",
       "      <th>permco</th>\n",
       "      <th>issuno</th>\n",
       "      <th>hexcd</th>\n",
       "      <th>hsiccd</th>\n",
       "      <th>date</th>\n",
       "      <th>bidlo</th>\n",
       "      <th>askhi</th>\n",
       "      <th>prc</th>\n",
       "      <th>vol</th>\n",
       "      <th>ret</th>\n",
       "      <th>bid</th>\n",
       "      <th>ask</th>\n",
       "      <th>shrout</th>\n",
       "      <th>cfacpr</th>\n",
       "      <th>cfacshr</th>\n",
       "      <th>altprc</th>\n",
       "      <th>spread</th>\n",
       "      <th>altprcdt</th>\n",
       "      <th>retx</th>\n",
       "    </tr>\n",
       "  </thead>\n",
       "  <tbody>\n",
       "    <tr>\n",
       "      <th>0</th>\n",
       "      <td>68391610</td>\n",
       "      <td>10000.0</td>\n",
       "      <td>7952.0</td>\n",
       "      <td>10396.0</td>\n",
       "      <td>3.0</td>\n",
       "      <td>3990.0</td>\n",
       "      <td>1985-12-31</td>\n",
       "      <td>NaN</td>\n",
       "      <td>NaN</td>\n",
       "      <td>NaN</td>\n",
       "      <td>NaN</td>\n",
       "      <td>NaN</td>\n",
       "      <td>None</td>\n",
       "      <td>None</td>\n",
       "      <td>NaN</td>\n",
       "      <td>NaN</td>\n",
       "      <td>NaN</td>\n",
       "      <td>-2.5625</td>\n",
       "      <td>NaN</td>\n",
       "      <td>1986-01-07</td>\n",
       "      <td>NaN</td>\n",
       "    </tr>\n",
       "    <tr>\n",
       "      <th>1</th>\n",
       "      <td>68391610</td>\n",
       "      <td>10000.0</td>\n",
       "      <td>7952.0</td>\n",
       "      <td>10396.0</td>\n",
       "      <td>3.0</td>\n",
       "      <td>3990.0</td>\n",
       "      <td>1986-01-31</td>\n",
       "      <td>-2.50</td>\n",
       "      <td>-4.4375</td>\n",
       "      <td>-4.3750</td>\n",
       "      <td>1771.0</td>\n",
       "      <td>NaN</td>\n",
       "      <td>None</td>\n",
       "      <td>None</td>\n",
       "      <td>3680.0</td>\n",
       "      <td>1.0</td>\n",
       "      <td>1.0</td>\n",
       "      <td>-4.3750</td>\n",
       "      <td>0.250</td>\n",
       "      <td>1986-01-31</td>\n",
       "      <td>NaN</td>\n",
       "    </tr>\n",
       "    <tr>\n",
       "      <th>2</th>\n",
       "      <td>68391610</td>\n",
       "      <td>10000.0</td>\n",
       "      <td>7952.0</td>\n",
       "      <td>10396.0</td>\n",
       "      <td>3.0</td>\n",
       "      <td>3990.0</td>\n",
       "      <td>1986-02-28</td>\n",
       "      <td>-3.25</td>\n",
       "      <td>-4.3750</td>\n",
       "      <td>-3.2500</td>\n",
       "      <td>828.0</td>\n",
       "      <td>-0.257143</td>\n",
       "      <td>None</td>\n",
       "      <td>None</td>\n",
       "      <td>3680.0</td>\n",
       "      <td>1.0</td>\n",
       "      <td>1.0</td>\n",
       "      <td>-3.2500</td>\n",
       "      <td>0.250</td>\n",
       "      <td>1986-02-28</td>\n",
       "      <td>-0.257143</td>\n",
       "    </tr>\n",
       "    <tr>\n",
       "      <th>3</th>\n",
       "      <td>68391610</td>\n",
       "      <td>10000.0</td>\n",
       "      <td>7952.0</td>\n",
       "      <td>10396.0</td>\n",
       "      <td>3.0</td>\n",
       "      <td>3990.0</td>\n",
       "      <td>1986-03-31</td>\n",
       "      <td>-3.25</td>\n",
       "      <td>-4.4375</td>\n",
       "      <td>-4.4375</td>\n",
       "      <td>1078.0</td>\n",
       "      <td>0.365385</td>\n",
       "      <td>None</td>\n",
       "      <td>None</td>\n",
       "      <td>3680.0</td>\n",
       "      <td>1.0</td>\n",
       "      <td>1.0</td>\n",
       "      <td>-4.4375</td>\n",
       "      <td>0.125</td>\n",
       "      <td>1986-03-31</td>\n",
       "      <td>0.365385</td>\n",
       "    </tr>\n",
       "    <tr>\n",
       "      <th>4</th>\n",
       "      <td>68391610</td>\n",
       "      <td>10000.0</td>\n",
       "      <td>7952.0</td>\n",
       "      <td>10396.0</td>\n",
       "      <td>3.0</td>\n",
       "      <td>3990.0</td>\n",
       "      <td>1986-04-30</td>\n",
       "      <td>-4.00</td>\n",
       "      <td>-4.3125</td>\n",
       "      <td>-4.0000</td>\n",
       "      <td>957.0</td>\n",
       "      <td>-0.098592</td>\n",
       "      <td>None</td>\n",
       "      <td>None</td>\n",
       "      <td>3793.0</td>\n",
       "      <td>1.0</td>\n",
       "      <td>1.0</td>\n",
       "      <td>-4.0000</td>\n",
       "      <td>0.250</td>\n",
       "      <td>1986-04-30</td>\n",
       "      <td>-0.098592</td>\n",
       "    </tr>\n",
       "  </tbody>\n",
       "</table>\n",
       "</div>"
      ],
      "text/plain": [
       "      cusip   permno  permco   issuno  hexcd  hsiccd        date  bidlo  \\\n",
       "0  68391610  10000.0  7952.0  10396.0    3.0  3990.0  1985-12-31    NaN   \n",
       "1  68391610  10000.0  7952.0  10396.0    3.0  3990.0  1986-01-31  -2.50   \n",
       "2  68391610  10000.0  7952.0  10396.0    3.0  3990.0  1986-02-28  -3.25   \n",
       "3  68391610  10000.0  7952.0  10396.0    3.0  3990.0  1986-03-31  -3.25   \n",
       "4  68391610  10000.0  7952.0  10396.0    3.0  3990.0  1986-04-30  -4.00   \n",
       "\n",
       "    askhi     prc     vol       ret   bid   ask  shrout  cfacpr  cfacshr  \\\n",
       "0     NaN     NaN     NaN       NaN  None  None     NaN     NaN      NaN   \n",
       "1 -4.4375 -4.3750  1771.0       NaN  None  None  3680.0     1.0      1.0   \n",
       "2 -4.3750 -3.2500   828.0 -0.257143  None  None  3680.0     1.0      1.0   \n",
       "3 -4.4375 -4.4375  1078.0  0.365385  None  None  3680.0     1.0      1.0   \n",
       "4 -4.3125 -4.0000   957.0 -0.098592  None  None  3793.0     1.0      1.0   \n",
       "\n",
       "   altprc  spread    altprcdt      retx  \n",
       "0 -2.5625     NaN  1986-01-07       NaN  \n",
       "1 -4.3750   0.250  1986-01-31       NaN  \n",
       "2 -3.2500   0.250  1986-02-28 -0.257143  \n",
       "3 -4.4375   0.125  1986-03-31  0.365385  \n",
       "4 -4.0000   0.250  1986-04-30 -0.098592  "
      ]
     },
     "execution_count": 5,
     "metadata": {},
     "output_type": "execute_result"
    }
   ],
   "source": [
    "df= conn.get_table(library='crsp', table='msf', obs= 5)\n",
    "print(df.shape)\n",
    "df.head(5)"
   ]
  },
  {
   "cell_type": "code",
   "execution_count": 6,
   "id": "13eb514a-fcbc-426a-a92c-1314537e87ce",
   "metadata": {},
   "outputs": [],
   "source": [
    "df_2020= conn.raw_sql(sql= f\"\"\"select cusip, permno, permco, issuno, hexcd, hsiccd, date, prc, vol, ret, shrout\n",
    "                    from crsp.msf\n",
    "                    where date >= '2020-01-01' and date <= '2020-12-31' \"\"\")"
   ]
  },
  {
   "cell_type": "code",
   "execution_count": 7,
   "id": "e00f6234-18df-48fa-8811-46eb894dff50",
   "metadata": {},
   "outputs": [
    {
     "name": "stdout",
     "output_type": "stream",
     "text": [
      "(93741, 11)\n"
     ]
    },
    {
     "data": {
      "text/html": [
       "<div>\n",
       "<style scoped>\n",
       "    .dataframe tbody tr th:only-of-type {\n",
       "        vertical-align: middle;\n",
       "    }\n",
       "\n",
       "    .dataframe tbody tr th {\n",
       "        vertical-align: top;\n",
       "    }\n",
       "\n",
       "    .dataframe thead th {\n",
       "        text-align: right;\n",
       "    }\n",
       "</style>\n",
       "<table border=\"1\" class=\"dataframe\">\n",
       "  <thead>\n",
       "    <tr style=\"text-align: right;\">\n",
       "      <th></th>\n",
       "      <th>cusip</th>\n",
       "      <th>permno</th>\n",
       "      <th>permco</th>\n",
       "      <th>issuno</th>\n",
       "      <th>hexcd</th>\n",
       "      <th>hsiccd</th>\n",
       "      <th>date</th>\n",
       "      <th>prc</th>\n",
       "      <th>vol</th>\n",
       "      <th>ret</th>\n",
       "      <th>shrout</th>\n",
       "    </tr>\n",
       "  </thead>\n",
       "  <tbody>\n",
       "    <tr>\n",
       "      <th>0</th>\n",
       "      <td>46603210</td>\n",
       "      <td>10026.0</td>\n",
       "      <td>7976.0</td>\n",
       "      <td>10433.0</td>\n",
       "      <td>3.0</td>\n",
       "      <td>2052.0</td>\n",
       "      <td>2020-01-31</td>\n",
       "      <td>165.839996</td>\n",
       "      <td>22433.0</td>\n",
       "      <td>-0.100016</td>\n",
       "      <td>18919.0</td>\n",
       "    </tr>\n",
       "    <tr>\n",
       "      <th>1</th>\n",
       "      <td>29402E10</td>\n",
       "      <td>10028.0</td>\n",
       "      <td>7978.0</td>\n",
       "      <td>22226.0</td>\n",
       "      <td>2.0</td>\n",
       "      <td>5094.0</td>\n",
       "      <td>2020-01-31</td>\n",
       "      <td>2.170000</td>\n",
       "      <td>27373.0</td>\n",
       "      <td>0.607407</td>\n",
       "      <td>26924.0</td>\n",
       "    </tr>\n",
       "  </tbody>\n",
       "</table>\n",
       "</div>"
      ],
      "text/plain": [
       "      cusip   permno  permco   issuno  hexcd  hsiccd        date         prc  \\\n",
       "0  46603210  10026.0  7976.0  10433.0    3.0  2052.0  2020-01-31  165.839996   \n",
       "1  29402E10  10028.0  7978.0  22226.0    2.0  5094.0  2020-01-31    2.170000   \n",
       "\n",
       "       vol       ret   shrout  \n",
       "0  22433.0 -0.100016  18919.0  \n",
       "1  27373.0  0.607407  26924.0  "
      ]
     },
     "execution_count": 7,
     "metadata": {},
     "output_type": "execute_result"
    }
   ],
   "source": [
    "print(df_2020.shape)\n",
    "df_2020.head(2)"
   ]
  },
  {
   "cell_type": "markdown",
   "id": "92f8626f-bfe5-44a5-a55c-7a6cccb65d64",
   "metadata": {},
   "source": [
    "### Exlude fin and reg industries"
   ]
  },
  {
   "cell_type": "code",
   "execution_count": 8,
   "id": "5eded45c-c8de-4557-accb-0e9674b19838",
   "metadata": {},
   "outputs": [
    {
     "data": {
      "text/html": [
       "<div>\n",
       "<style scoped>\n",
       "    .dataframe tbody tr th:only-of-type {\n",
       "        vertical-align: middle;\n",
       "    }\n",
       "\n",
       "    .dataframe tbody tr th {\n",
       "        vertical-align: top;\n",
       "    }\n",
       "\n",
       "    .dataframe thead th {\n",
       "        text-align: right;\n",
       "    }\n",
       "</style>\n",
       "<table border=\"1\" class=\"dataframe\">\n",
       "  <thead>\n",
       "    <tr style=\"text-align: right;\">\n",
       "      <th></th>\n",
       "      <th>cusip</th>\n",
       "      <th>permno</th>\n",
       "      <th>permco</th>\n",
       "      <th>issuno</th>\n",
       "      <th>hexcd</th>\n",
       "      <th>hsiccd</th>\n",
       "      <th>date</th>\n",
       "      <th>prc</th>\n",
       "      <th>vol</th>\n",
       "      <th>ret</th>\n",
       "      <th>shrout</th>\n",
       "      <th>fin</th>\n",
       "      <th>reg1</th>\n",
       "      <th>reg2</th>\n",
       "      <th>mv</th>\n",
       "    </tr>\n",
       "  </thead>\n",
       "  <tbody>\n",
       "    <tr>\n",
       "      <th>0</th>\n",
       "      <td>46603210</td>\n",
       "      <td>10026.0</td>\n",
       "      <td>7976.0</td>\n",
       "      <td>10433.0</td>\n",
       "      <td>3.0</td>\n",
       "      <td>2052.0</td>\n",
       "      <td>2020-01-31</td>\n",
       "      <td>165.839996</td>\n",
       "      <td>22433.0</td>\n",
       "      <td>-0.100016</td>\n",
       "      <td>18919.0</td>\n",
       "      <td>0</td>\n",
       "      <td>0</td>\n",
       "      <td>0</td>\n",
       "      <td>3137.526891</td>\n",
       "    </tr>\n",
       "    <tr>\n",
       "      <th>1</th>\n",
       "      <td>29402E10</td>\n",
       "      <td>10028.0</td>\n",
       "      <td>7978.0</td>\n",
       "      <td>22226.0</td>\n",
       "      <td>2.0</td>\n",
       "      <td>5094.0</td>\n",
       "      <td>2020-01-31</td>\n",
       "      <td>2.170000</td>\n",
       "      <td>27373.0</td>\n",
       "      <td>0.607407</td>\n",
       "      <td>26924.0</td>\n",
       "      <td>0</td>\n",
       "      <td>0</td>\n",
       "      <td>0</td>\n",
       "      <td>58.425082</td>\n",
       "    </tr>\n",
       "  </tbody>\n",
       "</table>\n",
       "</div>"
      ],
      "text/plain": [
       "      cusip   permno  permco   issuno  hexcd  hsiccd        date         prc  \\\n",
       "0  46603210  10026.0  7976.0  10433.0    3.0  2052.0  2020-01-31  165.839996   \n",
       "1  29402E10  10028.0  7978.0  22226.0    2.0  5094.0  2020-01-31    2.170000   \n",
       "\n",
       "       vol       ret   shrout  fin  reg1  reg2           mv  \n",
       "0  22433.0 -0.100016  18919.0    0     0     0  3137.526891  \n",
       "1  27373.0  0.607407  26924.0    0     0     0    58.425082  "
      ]
     },
     "execution_count": 8,
     "metadata": {},
     "output_type": "execute_result"
    }
   ],
   "source": [
    "df_2020['fin']= ((df_2020.hsiccd>=6000) & (df_2020.hsiccd<7000)).astype(int)\n",
    "df_2020['reg1']= ((df_2020.hsiccd>=4900) & (df_2020.hsiccd<5000)).astype(int)\n",
    "df_2020['reg2']= ((df_2020.hsiccd>=4400) & (df_2020.hsiccd<5000)).astype(int)\n",
    "df_2020['mv']= df_2020['prc']*df_2020['shrout']/10**3 # market cap in millions (as shrout is already in thousands)\n",
    "df_2020.head(2)"
   ]
  },
  {
   "cell_type": "code",
   "execution_count": 9,
   "id": "b6b8a88f-a8af-4739-a6b6-8a5397596450",
   "metadata": {},
   "outputs": [
    {
     "data": {
      "text/plain": [
       "fin        0.469133\n",
       "reg1       0.015543\n",
       "reg2       0.041817\n",
       "mv      5577.794099\n",
       "dtype: float64"
      ]
     },
     "execution_count": 9,
     "metadata": {},
     "output_type": "execute_result"
    }
   ],
   "source": [
    "df_2020[['fin', 'reg1', 'reg2', 'mv']].mean()"
   ]
  },
  {
   "cell_type": "code",
   "execution_count": 10,
   "id": "b80d997d-1dc3-4f7a-977b-add86275ce84",
   "metadata": {},
   "outputs": [
    {
     "name": "stdout",
     "output_type": "stream",
     "text": [
      "(48307, 15)\n"
     ]
    },
    {
     "data": {
      "text/html": [
       "<div>\n",
       "<style scoped>\n",
       "    .dataframe tbody tr th:only-of-type {\n",
       "        vertical-align: middle;\n",
       "    }\n",
       "\n",
       "    .dataframe tbody tr th {\n",
       "        vertical-align: top;\n",
       "    }\n",
       "\n",
       "    .dataframe thead th {\n",
       "        text-align: right;\n",
       "    }\n",
       "</style>\n",
       "<table border=\"1\" class=\"dataframe\">\n",
       "  <thead>\n",
       "    <tr style=\"text-align: right;\">\n",
       "      <th></th>\n",
       "      <th>cusip</th>\n",
       "      <th>permno</th>\n",
       "      <th>permco</th>\n",
       "      <th>issuno</th>\n",
       "      <th>hexcd</th>\n",
       "      <th>hsiccd</th>\n",
       "      <th>date</th>\n",
       "      <th>prc</th>\n",
       "      <th>vol</th>\n",
       "      <th>ret</th>\n",
       "      <th>shrout</th>\n",
       "      <th>fin</th>\n",
       "      <th>reg1</th>\n",
       "      <th>reg2</th>\n",
       "      <th>mv</th>\n",
       "    </tr>\n",
       "  </thead>\n",
       "  <tbody>\n",
       "    <tr>\n",
       "      <th>0</th>\n",
       "      <td>46603210</td>\n",
       "      <td>10026.0</td>\n",
       "      <td>7976.0</td>\n",
       "      <td>10433.0</td>\n",
       "      <td>3.0</td>\n",
       "      <td>2052.0</td>\n",
       "      <td>2020-01-31</td>\n",
       "      <td>165.839996</td>\n",
       "      <td>22433.0</td>\n",
       "      <td>-0.100016</td>\n",
       "      <td>18919.0</td>\n",
       "      <td>0</td>\n",
       "      <td>0</td>\n",
       "      <td>0</td>\n",
       "      <td>3137.526891</td>\n",
       "    </tr>\n",
       "    <tr>\n",
       "      <th>1</th>\n",
       "      <td>29402E10</td>\n",
       "      <td>10028.0</td>\n",
       "      <td>7978.0</td>\n",
       "      <td>22226.0</td>\n",
       "      <td>2.0</td>\n",
       "      <td>5094.0</td>\n",
       "      <td>2020-01-31</td>\n",
       "      <td>2.170000</td>\n",
       "      <td>27373.0</td>\n",
       "      <td>0.607407</td>\n",
       "      <td>26924.0</td>\n",
       "      <td>0</td>\n",
       "      <td>0</td>\n",
       "      <td>0</td>\n",
       "      <td>58.425082</td>\n",
       "    </tr>\n",
       "  </tbody>\n",
       "</table>\n",
       "</div>"
      ],
      "text/plain": [
       "      cusip   permno  permco   issuno  hexcd  hsiccd        date         prc  \\\n",
       "0  46603210  10026.0  7976.0  10433.0    3.0  2052.0  2020-01-31  165.839996   \n",
       "1  29402E10  10028.0  7978.0  22226.0    2.0  5094.0  2020-01-31    2.170000   \n",
       "\n",
       "       vol       ret   shrout  fin  reg1  reg2           mv  \n",
       "0  22433.0 -0.100016  18919.0    0     0     0  3137.526891  \n",
       "1  27373.0  0.607407  26924.0    0     0     0    58.425082  "
      ]
     },
     "execution_count": 10,
     "metadata": {},
     "output_type": "execute_result"
    }
   ],
   "source": [
    "df_2020= df_2020[(df_2020.fin==0)]\n",
    "df_2020= df_2020[(df_2020.reg1==0)]\n",
    "print(df_2020.shape)\n",
    "df_2020.head(2)"
   ]
  },
  {
   "cell_type": "code",
   "execution_count": 11,
   "id": "1d2543b5-e0c5-44df-b6b7-f380a9f70d66",
   "metadata": {},
   "outputs": [
    {
     "data": {
      "image/png": "[encoded data removed]",
      "text/plain": [
       "<Figure size 720x288 with 1 Axes>"
      ]
     },
     "metadata": {
      "needs_background": "light"
     },
     "output_type": "display_data"
    }
   ],
   "source": [
    "df_2020[df_2020['ret'].abs()<=0.5]['ret'].plot(kind='hist', \n",
    "                                                             bins=200, \n",
    "                                                             figsize=(10,4), \n",
    "                                                             grid= True, \n",
    "                                                             title= \"Histogram of monthly stock returns: 2020 Dec\")\n",
    "plt.show()"
   ]
  },
  {
   "cell_type": "code",
   "execution_count": 12,
   "id": "978d9945-b688-4817-beb3-30b9b40479b3",
   "metadata": {},
   "outputs": [],
   "source": [
    "dist= df_2020.groupby('date').size()\n",
    "dist_min= dist.min()\n",
    "dist_max= dist.max()"
   ]
  },
  {
   "cell_type": "code",
   "execution_count": 21,
   "id": "4833d3a6-1230-48da-aac7-c5a0635d89fe",
   "metadata": {},
   "outputs": [
    {
     "data": {
      "image/png": "[encoded data removed]",
      "text/plain": [
       "<Figure size 432x288 with 1 Axes>"
      ]
     },
     "metadata": {
      "needs_background": "light"
     },
     "output_type": "display_data"
    }
   ],
   "source": [
    "dist.plot(kind='line', marker='*', grid= True)\n",
    "plt.ylim([dist_min-100,dist_max+100])\n",
    "plt.title(\"N of obs covered by CRSP.MSF for 2020 Jan-2020 Dec \\nexcl. finance and utility firms\")\n",
    "plt.show()"
   ]
  },
  {
   "cell_type": "markdown",
   "id": "4f1a0f49-8ace-405e-866b-c3b735985463",
   "metadata": {},
   "source": [
    "---------"
   ]
  },
  {
   "cell_type": "markdown",
   "id": "3b95792b-8834-4a5c-990f-61404d19d466",
   "metadata": {},
   "source": [
    "### Close connection"
   ]
  },
  {
   "cell_type": "code",
   "execution_count": 14,
   "id": "0dcdca25-d8b5-4076-9be9-91dbe8a5127a",
   "metadata": {},
   "outputs": [],
   "source": [
    "conn.close()"
   ]
  },
  {
   "cell_type": "markdown",
   "id": "867ba998-bfc9-437a-ab7c-7b31a28710c3",
   "metadata": {},
   "source": [
    "---------"
   ]
  }
 ],
 "metadata": {
  "kernelspec": {
   "display_name": "sec",
   "language": "python",
   "name": "sec"
  },
  "language_info": {
   "codemirror_mode": {
    "name": "ipython",
    "version": 3
   },
   "file_extension": ".py",
   "mimetype": "text/x-python",
   "name": "python",
   "nbconvert_exporter": "python",
   "pygments_lexer": "ipython3",
   "version": "3.8.8"
  },
  "widgets": {
   "application/vnd.jupyter.widget-state+json": {
    "state": {},
    "version_major": 2,
    "version_minor": 0
   }
  }
 },
 "nbformat": 4,
 "nbformat_minor": 5
}
