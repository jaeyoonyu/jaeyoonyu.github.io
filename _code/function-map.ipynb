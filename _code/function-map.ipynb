{
 "cells": [
  {
   "cell_type": "markdown",
   "id": "eb3925d4-2319-4bfc-b01e-6470f7958cf1",
   "metadata": {},
   "source": [
    "# Usage of map()\n",
    "- The map() function executes a specified function for each item in an iterable. The item is sent to the function as a parameter.  \n",
    "- Syntax: <code>map(function, iterables)</code>\n",
    "- Description from [w3school](https://www.w3schools.com/python/ref_func_map.asp)"
   ]
  },
  {
   "cell_type": "markdown",
   "id": "1afb96ec-ff05-4268-a214-ef4e83919a5b",
   "metadata": {},
   "source": [
    "--------"
   ]
  },
  {
   "cell_type": "markdown",
   "id": "93750bb5-1c92-408c-b14d-3da0c3496ed3",
   "metadata": {},
   "source": [
    "## 1. Convert a list of integers to a list of strings"
   ]
  },
  {
   "cell_type": "code",
   "execution_count": 4,
   "id": "9f5e76ce-b687-4e4a-94d9-5f127d540225",
   "metadata": {},
   "outputs": [
    {
     "data": {
      "text/plain": [
       "[2000, 2001, 2002, 2003, 2004]"
      ]
     },
     "execution_count": 4,
     "metadata": {},
     "output_type": "execute_result"
    }
   ],
   "source": [
    "years_list_int=list(range(2000,2005,1))\n",
    "years_list_int"
   ]
  },
  {
   "cell_type": "code",
   "execution_count": 5,
   "id": "3945f1ff-a69e-4c2f-bdcd-78b61c022809",
   "metadata": {},
   "outputs": [
    {
     "data": {
      "text/plain": [
       "['2000', '2001', '2002', '2003', '2004']"
      ]
     },
     "execution_count": 5,
     "metadata": {},
     "output_type": "execute_result"
    }
   ],
   "source": [
    "years_list_str= list(map(str, years_list_int))\n",
    "years_list_str"
   ]
  },
  {
   "cell_type": "markdown",
   "id": "36c67e02-309a-4c1b-9863-a49584d14916",
   "metadata": {},
   "source": [
    "----------------"
   ]
  },
  {
   "cell_type": "markdown",
   "id": "eb7ad428-96f4-45c9-af07-4d17e9bdea13",
   "metadata": {},
   "source": [
    "## 2. Application to Pandas column names: Integer to string"
   ]
  },
  {
   "cell_type": "code",
   "execution_count": 6,
   "id": "edfd69b5-2517-49ae-8b04-148d9c6ed8aa",
   "metadata": {},
   "outputs": [],
   "source": [
    "import pandas as pd"
   ]
  },
  {
   "cell_type": "markdown",
   "id": "edaf1962-76a3-4065-b2c9-071388908c3f",
   "metadata": {},
   "source": [
    "### Generate DataFrame with integer column names: 2005, 2006, 2007"
   ]
  },
  {
   "cell_type": "code",
   "execution_count": 17,
   "id": "9ec8599b-924f-4c12-80fc-0bb01d842325",
   "metadata": {},
   "outputs": [],
   "source": [
    "data_dict= {'id': [1,2,3], 2005:[100,120,130], 2006:[105,122,132], 2007:[150,100,150]}"
   ]
  },
  {
   "cell_type": "code",
   "execution_count": 8,
   "id": "21527d92-25cd-45d8-a1d1-39152a65b747",
   "metadata": {},
   "outputs": [
    {
     "data": {
      "text/html": [
       "<div>\n",
       "<style scoped>\n",
       "    .dataframe tbody tr th:only-of-type {\n",
       "        vertical-align: middle;\n",
       "    }\n",
       "\n",
       "    .dataframe tbody tr th {\n",
       "        vertical-align: top;\n",
       "    }\n",
       "\n",
       "    .dataframe thead th {\n",
       "        text-align: right;\n",
       "    }\n",
       "</style>\n",
       "<table border=\"1\" class=\"dataframe\">\n",
       "  <thead>\n",
       "    <tr style=\"text-align: right;\">\n",
       "      <th></th>\n",
       "      <th>id</th>\n",
       "      <th>2005</th>\n",
       "      <th>2006</th>\n",
       "      <th>2007</th>\n",
       "    </tr>\n",
       "  </thead>\n",
       "  <tbody>\n",
       "    <tr>\n",
       "      <th>0</th>\n",
       "      <td>1</td>\n",
       "      <td>100</td>\n",
       "      <td>105</td>\n",
       "      <td>150</td>\n",
       "    </tr>\n",
       "    <tr>\n",
       "      <th>1</th>\n",
       "      <td>2</td>\n",
       "      <td>120</td>\n",
       "      <td>122</td>\n",
       "      <td>100</td>\n",
       "    </tr>\n",
       "    <tr>\n",
       "      <th>2</th>\n",
       "      <td>3</td>\n",
       "      <td>130</td>\n",
       "      <td>132</td>\n",
       "      <td>150</td>\n",
       "    </tr>\n",
       "  </tbody>\n",
       "</table>\n",
       "</div>"
      ],
      "text/plain": [
       "   id  2005  2006  2007\n",
       "0   1   100   105   150\n",
       "1   2   120   122   100\n",
       "2   3   130   132   150"
      ]
     },
     "execution_count": 8,
     "metadata": {},
     "output_type": "execute_result"
    }
   ],
   "source": [
    "df= pd.DataFrame(data_dict)\n",
    "df.head()"
   ]
  },
  {
   "cell_type": "code",
   "execution_count": 9,
   "id": "47e2d525-a9e8-4f03-a0b8-d3dee5857717",
   "metadata": {},
   "outputs": [
    {
     "data": {
      "text/plain": [
       "Index(['id', 2005, 2006, 2007], dtype='object')"
      ]
     },
     "execution_count": 9,
     "metadata": {},
     "output_type": "execute_result"
    }
   ],
   "source": [
    "df.columns"
   ]
  },
  {
   "cell_type": "code",
   "execution_count": 10,
   "id": "5876d145-567f-4dac-b1d6-7f6d4a48ba68",
   "metadata": {},
   "outputs": [
    {
     "data": {
      "text/html": [
       "<div>\n",
       "<style scoped>\n",
       "    .dataframe tbody tr th:only-of-type {\n",
       "        vertical-align: middle;\n",
       "    }\n",
       "\n",
       "    .dataframe tbody tr th {\n",
       "        vertical-align: top;\n",
       "    }\n",
       "\n",
       "    .dataframe thead th {\n",
       "        text-align: right;\n",
       "    }\n",
       "</style>\n",
       "<table border=\"1\" class=\"dataframe\">\n",
       "  <thead>\n",
       "    <tr style=\"text-align: right;\">\n",
       "      <th></th>\n",
       "      <th>2005</th>\n",
       "    </tr>\n",
       "  </thead>\n",
       "  <tbody>\n",
       "    <tr>\n",
       "      <th>0</th>\n",
       "      <td>100</td>\n",
       "    </tr>\n",
       "    <tr>\n",
       "      <th>1</th>\n",
       "      <td>120</td>\n",
       "    </tr>\n",
       "    <tr>\n",
       "      <th>2</th>\n",
       "      <td>130</td>\n",
       "    </tr>\n",
       "  </tbody>\n",
       "</table>\n",
       "</div>"
      ],
      "text/plain": [
       "   2005\n",
       "0   100\n",
       "1   120\n",
       "2   130"
      ]
     },
     "execution_count": 10,
     "metadata": {},
     "output_type": "execute_result"
    }
   ],
   "source": [
    "df[[2005]]"
   ]
  },
  {
   "cell_type": "markdown",
   "id": "ac5c5d40-917a-4f33-9472-9231432d56b9",
   "metadata": {},
   "source": [
    "### Convert the columns to string using map(): '2005', '2006', '2007'"
   ]
  },
  {
   "cell_type": "code",
   "execution_count": 11,
   "id": "df08b6a4-63a1-4e35-b61f-f63f5343d890",
   "metadata": {},
   "outputs": [
    {
     "data": {
      "text/plain": [
       "['id', '2005', '2006', '2007']"
      ]
     },
     "execution_count": 11,
     "metadata": {},
     "output_type": "execute_result"
    }
   ],
   "source": [
    "list(map(str, df.columns))"
   ]
  },
  {
   "cell_type": "code",
   "execution_count": 12,
   "id": "40b24266-debd-4ca9-8046-0a1187f0bb3b",
   "metadata": {},
   "outputs": [],
   "source": [
    "df.columns= list(map(str, df.columns))"
   ]
  },
  {
   "cell_type": "code",
   "execution_count": 13,
   "id": "a1987e01-716f-4b1b-972b-b35439816f04",
   "metadata": {},
   "outputs": [
    {
     "data": {
      "text/plain": [
       "Index(['id', '2005', '2006', '2007'], dtype='object')"
      ]
     },
     "execution_count": 13,
     "metadata": {},
     "output_type": "execute_result"
    }
   ],
   "source": [
    "df.columns"
   ]
  },
  {
   "cell_type": "code",
   "execution_count": 14,
   "id": "8daca79f-9d66-4f6d-b804-bbd72f305bb8",
   "metadata": {},
   "outputs": [
    {
     "data": {
      "text/html": [
       "<div>\n",
       "<style scoped>\n",
       "    .dataframe tbody tr th:only-of-type {\n",
       "        vertical-align: middle;\n",
       "    }\n",
       "\n",
       "    .dataframe tbody tr th {\n",
       "        vertical-align: top;\n",
       "    }\n",
       "\n",
       "    .dataframe thead th {\n",
       "        text-align: right;\n",
       "    }\n",
       "</style>\n",
       "<table border=\"1\" class=\"dataframe\">\n",
       "  <thead>\n",
       "    <tr style=\"text-align: right;\">\n",
       "      <th></th>\n",
       "      <th>2005</th>\n",
       "    </tr>\n",
       "  </thead>\n",
       "  <tbody>\n",
       "    <tr>\n",
       "      <th>0</th>\n",
       "      <td>100</td>\n",
       "    </tr>\n",
       "    <tr>\n",
       "      <th>1</th>\n",
       "      <td>120</td>\n",
       "    </tr>\n",
       "    <tr>\n",
       "      <th>2</th>\n",
       "      <td>130</td>\n",
       "    </tr>\n",
       "  </tbody>\n",
       "</table>\n",
       "</div>"
      ],
      "text/plain": [
       "   2005\n",
       "0   100\n",
       "1   120\n",
       "2   130"
      ]
     },
     "execution_count": 14,
     "metadata": {},
     "output_type": "execute_result"
    }
   ],
   "source": [
    "df[['2005']]"
   ]
  },
  {
   "cell_type": "markdown",
   "id": "6347ab86-969a-43c8-8890-d985dc98b02b",
   "metadata": {},
   "source": [
    "----------"
   ]
  }
 ],
 "metadata": {
  "kernelspec": {
   "display_name": "sec",
   "language": "python",
   "name": "sec"
  },
  "language_info": {
   "codemirror_mode": {
    "name": "ipython",
    "version": 3
   },
   "file_extension": ".py",
   "mimetype": "text/x-python",
   "name": "python",
   "nbconvert_exporter": "python",
   "pygments_lexer": "ipython3",
   "version": "3.8.8"
  },
  "widgets": {
   "application/vnd.jupyter.widget-state+json": {
    "state": {},
    "version_major": 2,
    "version_minor": 0
   }
  }
 },
 "nbformat": 4,
 "nbformat_minor": 5
}
