{
 "cells": [
  {
   "cell_type": "markdown",
   "id": "a541c104-874d-470b-a991-62fac9e0608d",
   "metadata": {},
   "source": [
    "# Usage of FinanceDataReader"
   ]
  },
  {
   "cell_type": "markdown",
   "id": "7318d005-c3a9-4855-b69f-ba52bf478f94",
   "metadata": {},
   "source": [
    "-----------"
   ]
  },
  {
   "cell_type": "markdown",
   "id": "eeec5cc0-fda7-43cf-b906-3275fab974ca",
   "metadata": {},
   "source": [
    "import FinanceDataReader as fdr\n",
    "import matplotlib.pyplot as plt\n",
    "import pandas as pd\n",
    "import time"
   ]
  },
  {
   "cell_type": "markdown",
   "id": "3a595349-833a-4471-8796-dc9d41ca35b2",
   "metadata": {},
   "source": [
    "----------"
   ]
  },
  {
   "cell_type": "markdown",
   "id": "7408965f-87a2-4e50-8d3d-f6571338eb52",
   "metadata": {},
   "source": [
    "## Download stock data for the selected firms"
   ]
  },
  {
   "cell_type": "code",
   "execution_count": 2,
   "id": "eb819f5c-f9b7-41be-9bde-7ec803122dfc",
   "metadata": {},
   "outputs": [],
   "source": [
    "tickers= ['UBER', 'LYFT', 'CROX']\n",
    "start_date= \"2020-01-01\"\n",
    "end_date= \"2021-08-31\""
   ]
  },
  {
   "cell_type": "code",
   "execution_count": 3,
   "id": "0cb2c553-94dc-426a-becc-7d64163f6b6b",
   "metadata": {},
   "outputs": [
    {
     "name": "stdout",
     "output_type": "stream",
     "text": [
      "Start date:  2020-01-01\n",
      "End date:  2021-08-31\n",
      "====================\n",
      "UBER is collected.\n",
      "LYFT is collected.\n",
      "CROX is collected.\n"
     ]
    }
   ],
   "source": [
    "# Collecting stock data of selected tickers\n",
    "\n",
    "df= pd.DataFrame() # empty holder\n",
    "\n",
    "print(\"Start date: \", start_date)\n",
    "print(\"End date: \", end_date)\n",
    "print(\"=\"*20)\n",
    "for symbol in tickers:\n",
    "    try:\n",
    "        df_one=fdr.DataReader(symbol, start_date, end_date)\n",
    "        df_one.reset_index(inplace=True)\n",
    "        df_one['Ticker']=symbol\n",
    "        time.sleep(1)\n",
    "        df= pd.concat([df, df_one])\n",
    "        print(\"{} is collected.\".format(symbol))\n",
    "        \n",
    "    except:\n",
    "        print(\"{} does not exist.\".format(symbol))\n",
    "        pass"
   ]
  },
  {
   "cell_type": "code",
   "execution_count": 4,
   "id": "e09a8ec0-3225-46af-875f-12ca3f49cac9",
   "metadata": {},
   "outputs": [
    {
     "data": {
      "text/html": [
       "<div>\n",
       "<style scoped>\n",
       "    .dataframe tbody tr th:only-of-type {\n",
       "        vertical-align: middle;\n",
       "    }\n",
       "\n",
       "    .dataframe tbody tr th {\n",
       "        vertical-align: top;\n",
       "    }\n",
       "\n",
       "    .dataframe thead th {\n",
       "        text-align: right;\n",
       "    }\n",
       "</style>\n",
       "<table border=\"1\" class=\"dataframe\">\n",
       "  <thead>\n",
       "    <tr style=\"text-align: right;\">\n",
       "      <th></th>\n",
       "      <th>Date</th>\n",
       "      <th>Close</th>\n",
       "      <th>Open</th>\n",
       "      <th>High</th>\n",
       "      <th>Low</th>\n",
       "      <th>Volume</th>\n",
       "      <th>Change</th>\n",
       "      <th>Ticker</th>\n",
       "    </tr>\n",
       "  </thead>\n",
       "  <tbody>\n",
       "    <tr>\n",
       "      <th>0</th>\n",
       "      <td>2020-01-02</td>\n",
       "      <td>30.99</td>\n",
       "      <td>29.94</td>\n",
       "      <td>31.00</td>\n",
       "      <td>29.79</td>\n",
       "      <td>20580000.0</td>\n",
       "      <td>0.0420</td>\n",
       "      <td>UBER</td>\n",
       "    </tr>\n",
       "    <tr>\n",
       "      <th>1</th>\n",
       "      <td>2020-01-03</td>\n",
       "      <td>31.37</td>\n",
       "      <td>30.62</td>\n",
       "      <td>31.43</td>\n",
       "      <td>30.48</td>\n",
       "      <td>18830000.0</td>\n",
       "      <td>0.0123</td>\n",
       "      <td>UBER</td>\n",
       "    </tr>\n",
       "    <tr>\n",
       "      <th>0</th>\n",
       "      <td>2020-01-02</td>\n",
       "      <td>43.58</td>\n",
       "      <td>43.22</td>\n",
       "      <td>44.07</td>\n",
       "      <td>43.17</td>\n",
       "      <td>3910000.0</td>\n",
       "      <td>0.0130</td>\n",
       "      <td>LYFT</td>\n",
       "    </tr>\n",
       "    <tr>\n",
       "      <th>1</th>\n",
       "      <td>2020-01-03</td>\n",
       "      <td>43.19</td>\n",
       "      <td>42.85</td>\n",
       "      <td>43.36</td>\n",
       "      <td>42.23</td>\n",
       "      <td>4410000.0</td>\n",
       "      <td>-0.0089</td>\n",
       "      <td>LYFT</td>\n",
       "    </tr>\n",
       "    <tr>\n",
       "      <th>0</th>\n",
       "      <td>2020-01-02</td>\n",
       "      <td>41.75</td>\n",
       "      <td>42.23</td>\n",
       "      <td>42.23</td>\n",
       "      <td>41.26</td>\n",
       "      <td>1020000.0</td>\n",
       "      <td>-0.0033</td>\n",
       "      <td>CROX</td>\n",
       "    </tr>\n",
       "    <tr>\n",
       "      <th>1</th>\n",
       "      <td>2020-01-03</td>\n",
       "      <td>42.08</td>\n",
       "      <td>41.31</td>\n",
       "      <td>42.14</td>\n",
       "      <td>41.16</td>\n",
       "      <td>662840.0</td>\n",
       "      <td>0.0079</td>\n",
       "      <td>CROX</td>\n",
       "    </tr>\n",
       "  </tbody>\n",
       "</table>\n",
       "</div>"
      ],
      "text/plain": [
       "        Date  Close   Open   High    Low      Volume  Change Ticker\n",
       "0 2020-01-02  30.99  29.94  31.00  29.79  20580000.0  0.0420   UBER\n",
       "1 2020-01-03  31.37  30.62  31.43  30.48  18830000.0  0.0123   UBER\n",
       "0 2020-01-02  43.58  43.22  44.07  43.17   3910000.0  0.0130   LYFT\n",
       "1 2020-01-03  43.19  42.85  43.36  42.23   4410000.0 -0.0089   LYFT\n",
       "0 2020-01-02  41.75  42.23  42.23  41.26   1020000.0 -0.0033   CROX\n",
       "1 2020-01-03  42.08  41.31  42.14  41.16    662840.0  0.0079   CROX"
      ]
     },
     "execution_count": 4,
     "metadata": {},
     "output_type": "execute_result"
    }
   ],
   "source": [
    "df.groupby('Ticker').head(2)"
   ]
  },
  {
   "cell_type": "code",
   "execution_count": 5,
   "id": "fcbd337a-5ec2-484e-94d3-907cb3fc8fa2",
   "metadata": {},
   "outputs": [
    {
     "data": {
      "text/plain": [
       "UBER    420\n",
       "LYFT    420\n",
       "CROX    420\n",
       "Name: Ticker, dtype: int64"
      ]
     },
     "execution_count": 5,
     "metadata": {},
     "output_type": "execute_result"
    }
   ],
   "source": [
    "df['Ticker'].value_counts()"
   ]
  },
  {
   "cell_type": "markdown",
   "id": "276666a4-3200-44ae-90f6-a5f501bc502e",
   "metadata": {},
   "source": [
    "----------"
   ]
  },
  {
   "cell_type": "markdown",
   "id": "d6d722b8-4780-4ad1-a798-143b690c476b",
   "metadata": {},
   "source": [
    "## Get the list of stocks"
   ]
  },
  {
   "cell_type": "markdown",
   "id": "dfa075f5-870c-42e3-b18c-c292df8aeb51",
   "metadata": {},
   "source": [
    "### S&P500 list"
   ]
  },
  {
   "cell_type": "code",
   "execution_count": 6,
   "id": "efb8ddc2-c655-4c55-a137-92242d8aa563",
   "metadata": {},
   "outputs": [
    {
     "name": "stderr",
     "output_type": "stream",
     "text": [
      "C:\\Users\\yjaey\\anaconda3\\lib\\site-packages\\FinanceDataReader\\wikipedia\\listing.py:13: FutureWarning: The default value of regex will change from True to False in a future version.\n",
      "  df['Symbol'] = df['Symbol'].str.replace('\\.', '')\n"
     ]
    },
    {
     "data": {
      "text/html": [
       "<div>\n",
       "<style scoped>\n",
       "    .dataframe tbody tr th:only-of-type {\n",
       "        vertical-align: middle;\n",
       "    }\n",
       "\n",
       "    .dataframe tbody tr th {\n",
       "        vertical-align: top;\n",
       "    }\n",
       "\n",
       "    .dataframe thead th {\n",
       "        text-align: right;\n",
       "    }\n",
       "</style>\n",
       "<table border=\"1\" class=\"dataframe\">\n",
       "  <thead>\n",
       "    <tr style=\"text-align: right;\">\n",
       "      <th></th>\n",
       "      <th>Symbol</th>\n",
       "      <th>Name</th>\n",
       "      <th>Sector</th>\n",
       "      <th>Industry</th>\n",
       "    </tr>\n",
       "  </thead>\n",
       "  <tbody>\n",
       "    <tr>\n",
       "      <th>0</th>\n",
       "      <td>MMM</td>\n",
       "      <td>3M</td>\n",
       "      <td>Industrials</td>\n",
       "      <td>Industrial Conglomerates</td>\n",
       "    </tr>\n",
       "    <tr>\n",
       "      <th>1</th>\n",
       "      <td>AOS</td>\n",
       "      <td>A. O. Smith</td>\n",
       "      <td>Industrials</td>\n",
       "      <td>Building Products</td>\n",
       "    </tr>\n",
       "    <tr>\n",
       "      <th>2</th>\n",
       "      <td>ABT</td>\n",
       "      <td>Abbott</td>\n",
       "      <td>Health Care</td>\n",
       "      <td>Health Care Equipment</td>\n",
       "    </tr>\n",
       "    <tr>\n",
       "      <th>3</th>\n",
       "      <td>ABBV</td>\n",
       "      <td>AbbVie</td>\n",
       "      <td>Health Care</td>\n",
       "      <td>Pharmaceuticals</td>\n",
       "    </tr>\n",
       "    <tr>\n",
       "      <th>4</th>\n",
       "      <td>ABMD</td>\n",
       "      <td>Abiomed</td>\n",
       "      <td>Health Care</td>\n",
       "      <td>Health Care Equipment</td>\n",
       "    </tr>\n",
       "  </tbody>\n",
       "</table>\n",
       "</div>"
      ],
      "text/plain": [
       "  Symbol         Name       Sector                  Industry\n",
       "0    MMM           3M  Industrials  Industrial Conglomerates\n",
       "1    AOS  A. O. Smith  Industrials         Building Products\n",
       "2    ABT       Abbott  Health Care     Health Care Equipment\n",
       "3   ABBV       AbbVie  Health Care           Pharmaceuticals\n",
       "4   ABMD      Abiomed  Health Care     Health Care Equipment"
      ]
     },
     "execution_count": 6,
     "metadata": {},
     "output_type": "execute_result"
    }
   ],
   "source": [
    "SP500=fdr.StockListing('S&P500')\n",
    "SP500.head()"
   ]
  },
  {
   "cell_type": "code",
   "execution_count": 7,
   "id": "5dc7bdaf-e23d-4f1d-bf84-39c0abca5feb",
   "metadata": {},
   "outputs": [],
   "source": [
    "Sector=SP500['Sector'].value_counts()\n",
    "Industry=SP500['Industry'].value_counts()"
   ]
  },
  {
   "cell_type": "code",
   "execution_count": 8,
   "id": "fa6067c1-fb3f-4543-98f7-6de9e34fbfc9",
   "metadata": {},
   "outputs": [
    {
     "data": {
      "image/png": "[encoded data removed]",
      "text/plain": [
       "<Figure size 432x288 with 1 Axes>"
      ]
     },
     "metadata": {
      "needs_background": "light"
     },
     "output_type": "display_data"
    }
   ],
   "source": [
    "plt.xticks(rotation=90)\n",
    "Sector.plot(kind='bar')\n",
    "plt.show()"
   ]
  },
  {
   "cell_type": "markdown",
   "id": "652e56b4-42a4-4f65-b23e-5742f4c110b5",
   "metadata": {},
   "source": [
    "### NYSE list"
   ]
  },
  {
   "cell_type": "code",
   "execution_count": 15,
   "id": "4be3fc27-31e7-4301-8138-e043071b9bc8",
   "metadata": {},
   "outputs": [
    {
     "name": "stderr",
     "output_type": "stream",
     "text": [
      "100%|██████████████████████████████████████████████████████████████████████████████| 3401/3401 [00:37<00:00, 90.51it/s]\n"
     ]
    },
    {
     "data": {
      "text/html": [
       "<div>\n",
       "<style scoped>\n",
       "    .dataframe tbody tr th:only-of-type {\n",
       "        vertical-align: middle;\n",
       "    }\n",
       "\n",
       "    .dataframe tbody tr th {\n",
       "        vertical-align: top;\n",
       "    }\n",
       "\n",
       "    .dataframe thead th {\n",
       "        text-align: right;\n",
       "    }\n",
       "</style>\n",
       "<table border=\"1\" class=\"dataframe\">\n",
       "  <thead>\n",
       "    <tr style=\"text-align: right;\">\n",
       "      <th></th>\n",
       "      <th>Symbol</th>\n",
       "      <th>Name</th>\n",
       "      <th>Industry</th>\n",
       "      <th>IndustryCode</th>\n",
       "    </tr>\n",
       "  </thead>\n",
       "  <tbody>\n",
       "    <tr>\n",
       "      <th>0</th>\n",
       "      <td>UNH</td>\n",
       "      <td>UnitedHealth Group Inc</td>\n",
       "      <td>헬스케어 업체 및 서비스</td>\n",
       "      <td>561020</td>\n",
       "    </tr>\n",
       "    <tr>\n",
       "      <th>1</th>\n",
       "      <td>TSM</td>\n",
       "      <td>Taiwan Semiconductor Manufacturing Co Ltd ADR</td>\n",
       "      <td>반도체 및 반도체 장비</td>\n",
       "      <td>571010</td>\n",
       "    </tr>\n",
       "    <tr>\n",
       "      <th>2</th>\n",
       "      <td>V</td>\n",
       "      <td>Visa Inc Class A</td>\n",
       "      <td>소프트웨어 및 IT서비스</td>\n",
       "      <td>572010</td>\n",
       "    </tr>\n",
       "    <tr>\n",
       "      <th>3</th>\n",
       "      <td>JNJ</td>\n",
       "      <td>Johnson &amp; Johnson</td>\n",
       "      <td>제약</td>\n",
       "      <td>562010</td>\n",
       "    </tr>\n",
       "    <tr>\n",
       "      <th>4</th>\n",
       "      <td>BRK.B</td>\n",
       "      <td>Berkshire Hathaway Inc Class B</td>\n",
       "      <td>복합 기업</td>\n",
       "      <td>544010</td>\n",
       "    </tr>\n",
       "  </tbody>\n",
       "</table>\n",
       "</div>"
      ],
      "text/plain": [
       "  Symbol                                           Name       Industry  \\\n",
       "0    UNH                         UnitedHealth Group Inc  헬스케어 업체 및 서비스   \n",
       "1    TSM  Taiwan Semiconductor Manufacturing Co Ltd ADR   반도체 및 반도체 장비   \n",
       "2      V                               Visa Inc Class A  소프트웨어 및 IT서비스   \n",
       "3    JNJ                              Johnson & Johnson             제약   \n",
       "4  BRK.B                 Berkshire Hathaway Inc Class B          복합 기업   \n",
       "\n",
       "  IndustryCode  \n",
       "0       561020  \n",
       "1       571010  \n",
       "2       572010  \n",
       "3       562010  \n",
       "4       544010  "
      ]
     },
     "execution_count": 15,
     "metadata": {},
     "output_type": "execute_result"
    }
   ],
   "source": [
    "NYSE=fdr.StockListing('NYSE')\n",
    "NYSE.head()"
   ]
  },
  {
   "cell_type": "markdown",
   "id": "5d0fe8f8-6257-4eff-92e8-ec43f187068c",
   "metadata": {},
   "source": [
    "### NASDAQ list"
   ]
  },
  {
   "cell_type": "code",
   "execution_count": 18,
   "id": "64bf7a03-7e1a-4b63-9e3b-642a42d2e04f",
   "metadata": {},
   "outputs": [
    {
     "name": "stderr",
     "output_type": "stream",
     "text": [
      "100%|██████████████████████████████████████████████████████████████████████████████| 4626/4626 [00:53<00:00, 86.97it/s]\n"
     ]
    },
    {
     "data": {
      "text/html": [
       "<div>\n",
       "<style scoped>\n",
       "    .dataframe tbody tr th:only-of-type {\n",
       "        vertical-align: middle;\n",
       "    }\n",
       "\n",
       "    .dataframe tbody tr th {\n",
       "        vertical-align: top;\n",
       "    }\n",
       "\n",
       "    .dataframe thead th {\n",
       "        text-align: right;\n",
       "    }\n",
       "</style>\n",
       "<table border=\"1\" class=\"dataframe\">\n",
       "  <thead>\n",
       "    <tr style=\"text-align: right;\">\n",
       "      <th></th>\n",
       "      <th>Symbol</th>\n",
       "      <th>Name</th>\n",
       "      <th>Industry</th>\n",
       "      <th>IndustryCode</th>\n",
       "    </tr>\n",
       "  </thead>\n",
       "  <tbody>\n",
       "    <tr>\n",
       "      <th>0</th>\n",
       "      <td>AAPL</td>\n",
       "      <td>Apple Inc</td>\n",
       "      <td>컴퓨터, 전화 및 가전제품</td>\n",
       "      <td>571060</td>\n",
       "    </tr>\n",
       "    <tr>\n",
       "      <th>1</th>\n",
       "      <td>MSFT</td>\n",
       "      <td>Microsoft Corp</td>\n",
       "      <td>소프트웨어 및 IT서비스</td>\n",
       "      <td>572010</td>\n",
       "    </tr>\n",
       "    <tr>\n",
       "      <th>2</th>\n",
       "      <td>AMZN</td>\n",
       "      <td>Amazon.com Inc</td>\n",
       "      <td>다양한 소매업</td>\n",
       "      <td>534020</td>\n",
       "    </tr>\n",
       "    <tr>\n",
       "      <th>3</th>\n",
       "      <td>TSLA</td>\n",
       "      <td>Tesla Inc</td>\n",
       "      <td>자동차 및 자동차 부품</td>\n",
       "      <td>531010</td>\n",
       "    </tr>\n",
       "    <tr>\n",
       "      <th>4</th>\n",
       "      <td>GOOGL</td>\n",
       "      <td>Alphabet Inc Class A</td>\n",
       "      <td>소프트웨어 및 IT서비스</td>\n",
       "      <td>572010</td>\n",
       "    </tr>\n",
       "  </tbody>\n",
       "</table>\n",
       "</div>"
      ],
      "text/plain": [
       "  Symbol                  Name        Industry IndustryCode\n",
       "0   AAPL             Apple Inc  컴퓨터, 전화 및 가전제품       571060\n",
       "1   MSFT        Microsoft Corp   소프트웨어 및 IT서비스       572010\n",
       "2   AMZN        Amazon.com Inc         다양한 소매업       534020\n",
       "3   TSLA             Tesla Inc    자동차 및 자동차 부품       531010\n",
       "4  GOOGL  Alphabet Inc Class A   소프트웨어 및 IT서비스       572010"
      ]
     },
     "execution_count": 18,
     "metadata": {},
     "output_type": "execute_result"
    }
   ],
   "source": [
    "NASDAQ=fdr.StockListing('NASDAQ')\n",
    "NASDAQ.head()"
   ]
  },
  {
   "cell_type": "markdown",
   "id": "23adbcfe-8d5e-4714-a54b-188cc074b2e1",
   "metadata": {},
   "source": [
    "---------------"
   ]
  }
 ],
 "metadata": {
  "kernelspec": {
   "display_name": "sec",
   "language": "python",
   "name": "sec"
  },
  "language_info": {
   "codemirror_mode": {
    "name": "ipython",
    "version": 3
   },
   "file_extension": ".py",
   "mimetype": "text/x-python",
   "name": "python",
   "nbconvert_exporter": "python",
   "pygments_lexer": "ipython3",
   "version": "3.8.8"
  },
  "widgets": {
   "application/vnd.jupyter.widget-state+json": {
    "state": {},
    "version_major": 2,
    "version_minor": 0
   }
  }
 },
 "nbformat": 4,
 "nbformat_minor": 5
}
