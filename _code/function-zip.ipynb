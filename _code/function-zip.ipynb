{
 "cells": [
  {
   "cell_type": "markdown",
   "id": "c42e3ebd-910b-4caf-a735-3f83de6d6ac0",
   "metadata": {},
   "source": [
    "# Usage of zip()\n",
    "- The zip() function returns a zip object, which is an iterator of tuples where the first item in each passed iterator is paired together, and then the second item in each passed iterator are paired together etc. If the passed iterators have different lengths, the iterator with the least items decides the length of the new iterator.\n",
    "- Syntax: <code>zip(iterator1, iterator2, iterator3 ...)</code>\n",
    "- Description from [w3school](https://www.w3schools.com/python/ref_func_zip.asp)"
   ]
  },
  {
   "cell_type": "markdown",
   "id": "b5de78d6-7bb9-46d9-9989-414737ae033b",
   "metadata": {},
   "source": [
    "--------------------"
   ]
  },
  {
   "cell_type": "markdown",
   "id": "fe82cbe0-b997-4cdc-b42f-882dd7ce3f59",
   "metadata": {},
   "source": [
    "### Define two lists"
   ]
  },
  {
   "cell_type": "code",
   "execution_count": 1,
   "id": "5c96644d-f2c5-43b5-ad55-dd36dd9c1294",
   "metadata": {},
   "outputs": [],
   "source": [
    "tickers= ['AMZN', 'TSLA', 'AAPL']\n",
    "names= ['Amazon', 'Tesla', 'Apple']"
   ]
  },
  {
   "cell_type": "code",
   "execution_count": 2,
   "id": "9d59bc93-3211-401d-b434-41d06bf8235b",
   "metadata": {},
   "outputs": [
    {
     "name": "stdout",
     "output_type": "stream",
     "text": [
      "['AMZN', 'TSLA', 'AAPL']\n"
     ]
    }
   ],
   "source": [
    "print(tickers)"
   ]
  },
  {
   "cell_type": "code",
   "execution_count": 3,
   "id": "ba82f562-60bc-473f-bac5-9f54f8e03a61",
   "metadata": {},
   "outputs": [
    {
     "name": "stdout",
     "output_type": "stream",
     "text": [
      "['Amazon', 'Tesla', 'Apple']\n"
     ]
    }
   ],
   "source": [
    "print(names)"
   ]
  },
  {
   "cell_type": "markdown",
   "id": "57f344ed-0f54-45b2-9479-be88fbfd197a",
   "metadata": {},
   "source": [
    "### Generate tuple from two lists."
   ]
  },
  {
   "cell_type": "code",
   "execution_count": 4,
   "id": "f4b38fa4-14b0-4dbe-a903-d4b041a9dbec",
   "metadata": {},
   "outputs": [
    {
     "name": "stdout",
     "output_type": "stream",
     "text": [
      "(('AMZN', 'Amazon'), ('TSLA', 'Tesla'), ('AAPL', 'Apple'))\n"
     ]
    }
   ],
   "source": [
    "x=tuple(zip(tickers, names))\n",
    "print(x)"
   ]
  },
  {
   "cell_type": "markdown",
   "id": "408fe081-2c5f-42e8-90d6-c71be0686261",
   "metadata": {},
   "source": [
    "### Generate dictionary from two lists."
   ]
  },
  {
   "cell_type": "code",
   "execution_count": 5,
   "id": "7658a79f-6443-4c11-aaa0-7573a1a8164e",
   "metadata": {},
   "outputs": [
    {
     "name": "stdout",
     "output_type": "stream",
     "text": [
      "{'AMZN': 'Amazon', 'TSLA': 'Tesla', 'AAPL': 'Apple'}\n"
     ]
    }
   ],
   "source": [
    "x=dict(zip(tickers, names))\n",
    "print(x)"
   ]
  },
  {
   "cell_type": "markdown",
   "id": "34fd159e-fa80-41f8-9205-c9c7d6838873",
   "metadata": {},
   "source": [
    "### Generate DataFrame from two lists."
   ]
  },
  {
   "cell_type": "code",
   "execution_count": 6,
   "id": "548508ab-5657-4f80-aa42-00f85b731217",
   "metadata": {},
   "outputs": [],
   "source": [
    "import pandas as pd"
   ]
  },
  {
   "cell_type": "code",
   "execution_count": 7,
   "id": "4821b2f0-a50e-48fa-b9eb-a63c23b7a92a",
   "metadata": {},
   "outputs": [
    {
     "data": {
      "text/html": [
       "<div>\n",
       "<style scoped>\n",
       "    .dataframe tbody tr th:only-of-type {\n",
       "        vertical-align: middle;\n",
       "    }\n",
       "\n",
       "    .dataframe tbody tr th {\n",
       "        vertical-align: top;\n",
       "    }\n",
       "\n",
       "    .dataframe thead th {\n",
       "        text-align: right;\n",
       "    }\n",
       "</style>\n",
       "<table border=\"1\" class=\"dataframe\">\n",
       "  <thead>\n",
       "    <tr style=\"text-align: right;\">\n",
       "      <th></th>\n",
       "      <th>Ticker</th>\n",
       "      <th>Name</th>\n",
       "    </tr>\n",
       "  </thead>\n",
       "  <tbody>\n",
       "    <tr>\n",
       "      <th>0</th>\n",
       "      <td>AMZN</td>\n",
       "      <td>Amazon</td>\n",
       "    </tr>\n",
       "    <tr>\n",
       "      <th>1</th>\n",
       "      <td>TSLA</td>\n",
       "      <td>Tesla</td>\n",
       "    </tr>\n",
       "    <tr>\n",
       "      <th>2</th>\n",
       "      <td>AAPL</td>\n",
       "      <td>Apple</td>\n",
       "    </tr>\n",
       "  </tbody>\n",
       "</table>\n",
       "</div>"
      ],
      "text/plain": [
       "  Ticker    Name\n",
       "0   AMZN  Amazon\n",
       "1   TSLA   Tesla\n",
       "2   AAPL   Apple"
      ]
     },
     "execution_count": 7,
     "metadata": {},
     "output_type": "execute_result"
    }
   ],
   "source": [
    "x=pd.DataFrame(list(zip(tickers, names)),\n",
    "                         columns= ['Ticker', 'Name'])\n",
    "x"
   ]
  }
 ],
 "metadata": {
  "kernelspec": {
   "display_name": "sec",
   "language": "python",
   "name": "sec"
  },
  "language_info": {
   "codemirror_mode": {
    "name": "ipython",
    "version": 3
   },
   "file_extension": ".py",
   "mimetype": "text/x-python",
   "name": "python",
   "nbconvert_exporter": "python",
   "pygments_lexer": "ipython3",
   "version": "3.8.8"
  },
  "widgets": {
   "application/vnd.jupyter.widget-state+json": {
    "state": {},
    "version_major": 2,
    "version_minor": 0
   }
  }
 },
 "nbformat": 4,
 "nbformat_minor": 5
}
