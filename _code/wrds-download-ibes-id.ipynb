{
 "cells": [
  {
   "cell_type": "markdown",
   "id": "3873ee4b-5771-4610-9508-6b5f84317d91",
   "metadata": {},
   "source": [
    "## Download id from IBES via WRDS\n",
    "- Link for IBES at WRDS: https://wrds-www.wharton.upenn.edu/pages/get-data/ibes-thomson-reuters/"
   ]
  },
  {
   "cell_type": "markdown",
   "id": "eed9431c-85e8-4651-a33b-2be6e56579c7",
   "metadata": {},
   "source": [
    "-------------------------"
   ]
  },
  {
   "cell_type": "markdown",
   "id": "d4bfcf5c-c883-4ac1-839b-f2c76c0284cb",
   "metadata": {},
   "source": [
    "### Import libraries"
   ]
  },
  {
   "cell_type": "code",
   "execution_count": 1,
   "id": "9cff7b80-9b0c-4cd3-a11c-cf28f63842ff",
   "metadata": {},
   "outputs": [],
   "source": [
    "import pandas as pd\n",
    "import matplotlib.pyplot as plt\n",
    "import wrds"
   ]
  },
  {
   "cell_type": "markdown",
   "id": "432f2b4a-02a6-4c58-9e6a-ffda0615342f",
   "metadata": {},
   "source": [
    "### Connect WRDS"
   ]
  },
  {
   "cell_type": "code",
   "execution_count": 2,
   "id": "3df4e730-ca27-4c67-8d76-fb5ae5c90084",
   "metadata": {},
   "outputs": [
    {
     "name": "stdin",
     "output_type": "stream",
     "text": [
      "Enter your WRDS username [yjaey]: yjaeyoon\n",
      "Enter your password: ···············\n"
     ]
    },
    {
     "name": "stdout",
     "output_type": "stream",
     "text": [
      "WRDS recommends setting up a .pgpass file.\n"
     ]
    },
    {
     "name": "stdin",
     "output_type": "stream",
     "text": [
      "Create .pgpass file now [y/n]?:  y\n"
     ]
    },
    {
     "name": "stdout",
     "output_type": "stream",
     "text": [
      "Created .pgpass file successfully.\n",
      "Loading library list...\n",
      "Done\n"
     ]
    }
   ],
   "source": [
    "conn=wrds.Connection()"
   ]
  },
  {
   "cell_type": "markdown",
   "id": "bf740ba6-d00d-46a6-aa71-2be1df5174f2",
   "metadata": {},
   "source": [
    "### Download id from IBES"
   ]
  },
  {
   "cell_type": "code",
   "execution_count": 4,
   "id": "091c59a9-73e0-41b9-947c-643868953649",
   "metadata": {},
   "outputs": [
    {
     "name": "stdout",
     "output_type": "stream",
     "text": [
      "(267275, 11)\n"
     ]
    },
    {
     "data": {
      "text/html": [
       "<div>\n",
       "<style scoped>\n",
       "    .dataframe tbody tr th:only-of-type {\n",
       "        vertical-align: middle;\n",
       "    }\n",
       "\n",
       "    .dataframe tbody tr th {\n",
       "        vertical-align: top;\n",
       "    }\n",
       "\n",
       "    .dataframe thead th {\n",
       "        text-align: right;\n",
       "    }\n",
       "</style>\n",
       "<table border=\"1\" class=\"dataframe\">\n",
       "  <thead>\n",
       "    <tr style=\"text-align: right;\">\n",
       "      <th></th>\n",
       "      <th>ticker</th>\n",
       "      <th>cusip</th>\n",
       "      <th>oftic</th>\n",
       "      <th>cname</th>\n",
       "      <th>dilfac</th>\n",
       "      <th>pdi</th>\n",
       "      <th>ccopcf</th>\n",
       "      <th>mscip</th>\n",
       "      <th>uai</th>\n",
       "      <th>usfirm</th>\n",
       "      <th>sdates</th>\n",
       "    </tr>\n",
       "  </thead>\n",
       "  <tbody>\n",
       "    <tr>\n",
       "      <th>0</th>\n",
       "      <td>0000</td>\n",
       "      <td>87482X10</td>\n",
       "      <td>TLMR</td>\n",
       "      <td>TALMER BANCORP</td>\n",
       "      <td>1.0</td>\n",
       "      <td>P</td>\n",
       "      <td>None</td>\n",
       "      <td>0</td>\n",
       "      <td>1</td>\n",
       "      <td>1.0</td>\n",
       "      <td>2014-02-20</td>\n",
       "    </tr>\n",
       "    <tr>\n",
       "      <th>1</th>\n",
       "      <td>0000</td>\n",
       "      <td>87482X10</td>\n",
       "      <td>TLMR</td>\n",
       "      <td>TALMER BANCORP</td>\n",
       "      <td>1.0</td>\n",
       "      <td>D</td>\n",
       "      <td>None</td>\n",
       "      <td>0</td>\n",
       "      <td>1</td>\n",
       "      <td>1.0</td>\n",
       "      <td>2014-03-20</td>\n",
       "    </tr>\n",
       "  </tbody>\n",
       "</table>\n",
       "</div>"
      ],
      "text/plain": [
       "  ticker     cusip oftic           cname  dilfac pdi ccopcf mscip uai  usfirm  \\\n",
       "0   0000  87482X10  TLMR  TALMER BANCORP     1.0   P   None     0   1     1.0   \n",
       "1   0000  87482X10  TLMR  TALMER BANCORP     1.0   D   None     0   1     1.0   \n",
       "\n",
       "       sdates  \n",
       "0  2014-02-20  \n",
       "1  2014-03-20  "
      ]
     },
     "execution_count": 4,
     "metadata": {},
     "output_type": "execute_result"
    }
   ],
   "source": [
    "df= conn.get_table(library='ibes', table='id')\n",
    "print(df.shape)\n",
    "df.head(2)"
   ]
  },
  {
   "cell_type": "markdown",
   "id": "6c0b5ff8-2dd2-468a-8d68-303bb282597c",
   "metadata": {},
   "source": [
    "------------------"
   ]
  },
  {
   "cell_type": "markdown",
   "id": "5b017ce2-baed-4e53-9397-c581b86aaba3",
   "metadata": {},
   "source": [
    "### Inspection"
   ]
  },
  {
   "cell_type": "code",
   "execution_count": 6,
   "id": "cd1285b9-7bd3-4219-b856-00236098474f",
   "metadata": {},
   "outputs": [
    {
     "data": {
      "text/plain": [
       "ticker     82648\n",
       "cusip     114192\n",
       "oftic      79430\n",
       "cname     134471\n",
       "dilfac       523\n",
       "pdi            2\n",
       "ccopcf         2\n",
       "mscip          3\n",
       "uai            2\n",
       "usfirm         2\n",
       "sdates       573\n",
       "dtype: int64"
      ]
     },
     "execution_count": 6,
     "metadata": {},
     "output_type": "execute_result"
    }
   ],
   "source": [
    "df.nunique()"
   ]
  },
  {
   "cell_type": "code",
   "execution_count": 7,
   "id": "d4056250-18c1-4cfa-9c2d-d6f9bb9ac199",
   "metadata": {},
   "outputs": [
    {
     "data": {
      "text/plain": [
       "P    188201\n",
       "D     79074\n",
       "Name: pdi, dtype: int64"
      ]
     },
     "execution_count": 7,
     "metadata": {},
     "output_type": "execute_result"
    }
   ],
   "source": [
    "df.pdi.value_counts()"
   ]
  },
  {
   "cell_type": "code",
   "execution_count": 8,
   "id": "970b6f4b-114f-452b-8fac-bb2445f9daf8",
   "metadata": {},
   "outputs": [
    {
     "data": {
      "text/plain": [
       "0.0    175965\n",
       "1.0     91310\n",
       "Name: usfirm, dtype: int64"
      ]
     },
     "execution_count": 8,
     "metadata": {},
     "output_type": "execute_result"
    }
   ],
   "source": [
    "df.usfirm.value_counts()"
   ]
  },
  {
   "cell_type": "markdown",
   "id": "374d581b-a20f-40f9-bba5-3664485f3eef",
   "metadata": {},
   "source": [
    "---------------------"
   ]
  },
  {
   "cell_type": "markdown",
   "id": "a6186f7a-a4ae-4ab3-8572-fbe27a2f2571",
   "metadata": {},
   "source": [
    "### Keep US firms only"
   ]
  },
  {
   "cell_type": "code",
   "execution_count": 9,
   "id": "fab801d1-3a7a-4c27-9dda-ba8af4f2d844",
   "metadata": {},
   "outputs": [
    {
     "data": {
      "text/html": [
       "<div>\n",
       "<style scoped>\n",
       "    .dataframe tbody tr th:only-of-type {\n",
       "        vertical-align: middle;\n",
       "    }\n",
       "\n",
       "    .dataframe tbody tr th {\n",
       "        vertical-align: top;\n",
       "    }\n",
       "\n",
       "    .dataframe thead th {\n",
       "        text-align: right;\n",
       "    }\n",
       "</style>\n",
       "<table border=\"1\" class=\"dataframe\">\n",
       "  <thead>\n",
       "    <tr style=\"text-align: right;\">\n",
       "      <th></th>\n",
       "      <th>ticker</th>\n",
       "      <th>cusip</th>\n",
       "      <th>oftic</th>\n",
       "      <th>cname</th>\n",
       "      <th>dilfac</th>\n",
       "      <th>pdi</th>\n",
       "      <th>ccopcf</th>\n",
       "      <th>mscip</th>\n",
       "      <th>uai</th>\n",
       "      <th>sdates</th>\n",
       "    </tr>\n",
       "  </thead>\n",
       "  <tbody>\n",
       "    <tr>\n",
       "      <th>0</th>\n",
       "      <td>0000</td>\n",
       "      <td>87482X10</td>\n",
       "      <td>TLMR</td>\n",
       "      <td>TALMER BANCORP</td>\n",
       "      <td>1.0</td>\n",
       "      <td>P</td>\n",
       "      <td>None</td>\n",
       "      <td>0</td>\n",
       "      <td>1</td>\n",
       "      <td>2014-02-20</td>\n",
       "    </tr>\n",
       "    <tr>\n",
       "      <th>1</th>\n",
       "      <td>0000</td>\n",
       "      <td>87482X10</td>\n",
       "      <td>TLMR</td>\n",
       "      <td>TALMER BANCORP</td>\n",
       "      <td>1.0</td>\n",
       "      <td>D</td>\n",
       "      <td>None</td>\n",
       "      <td>0</td>\n",
       "      <td>1</td>\n",
       "      <td>2014-03-20</td>\n",
       "    </tr>\n",
       "  </tbody>\n",
       "</table>\n",
       "</div>"
      ],
      "text/plain": [
       "  ticker     cusip oftic           cname  dilfac pdi ccopcf mscip uai  \\\n",
       "0   0000  87482X10  TLMR  TALMER BANCORP     1.0   P   None     0   1   \n",
       "1   0000  87482X10  TLMR  TALMER BANCORP     1.0   D   None     0   1   \n",
       "\n",
       "       sdates  \n",
       "0  2014-02-20  \n",
       "1  2014-03-20  "
      ]
     },
     "execution_count": 9,
     "metadata": {},
     "output_type": "execute_result"
    }
   ],
   "source": [
    "df=df[df.usfirm==1].drop(columns='usfirm')\n",
    "df.shape\n",
    "df.head(2)"
   ]
  },
  {
   "cell_type": "code",
   "execution_count": 10,
   "id": "2f11aa10-f22a-4e22-a8fd-e08214ae22c4",
   "metadata": {},
   "outputs": [
    {
     "data": {
      "text/plain": [
       "ticker    24506\n",
       "cusip     37923\n",
       "oftic     34677\n",
       "cname     39276\n",
       "dilfac      479\n",
       "pdi           2\n",
       "ccopcf        1\n",
       "mscip         3\n",
       "uai           2\n",
       "sdates      566\n",
       "dtype: int64"
      ]
     },
     "execution_count": 10,
     "metadata": {},
     "output_type": "execute_result"
    }
   ],
   "source": [
    "df.nunique()"
   ]
  },
  {
   "cell_type": "code",
   "execution_count": 11,
   "id": "6b120eba-4875-4934-b2f4-03e3a752015d",
   "metadata": {},
   "outputs": [
    {
     "data": {
      "text/plain": [
       "D    56119\n",
       "P    35191\n",
       "Name: pdi, dtype: int64"
      ]
     },
     "execution_count": 11,
     "metadata": {},
     "output_type": "execute_result"
    }
   ],
   "source": [
    "df.pdi.value_counts()"
   ]
  },
  {
   "cell_type": "markdown",
   "id": "f030e0d7-0dba-4207-b1de-41f38e51db67",
   "metadata": {},
   "source": [
    "-----------"
   ]
  },
  {
   "cell_type": "markdown",
   "id": "5763c239-d8e5-405b-a75a-bae2db78330a",
   "metadata": {},
   "source": [
    "### Save to .csv"
   ]
  },
  {
   "cell_type": "code",
   "execution_count": 16,
   "id": "9d06fe4f-9705-4795-87e0-acd3a85e1dcb",
   "metadata": {},
   "outputs": [],
   "source": [
    "# df.to_csv(\"data/ibes_id.csv\", index= None)"
   ]
  },
  {
   "cell_type": "markdown",
   "id": "3b95792b-8834-4a5c-990f-61404d19d466",
   "metadata": {},
   "source": [
    "### Close connection"
   ]
  },
  {
   "cell_type": "code",
   "execution_count": 17,
   "id": "0dcdca25-d8b5-4076-9be9-91dbe8a5127a",
   "metadata": {},
   "outputs": [],
   "source": [
    "conn.close()"
   ]
  },
  {
   "cell_type": "markdown",
   "id": "867ba998-bfc9-437a-ab7c-7b31a28710c3",
   "metadata": {},
   "source": [
    "---------"
   ]
  }
 ],
 "metadata": {
  "kernelspec": {
   "display_name": "sec",
   "language": "python",
   "name": "sec"
  },
  "language_info": {
   "codemirror_mode": {
    "name": "ipython",
    "version": 3
   },
   "file_extension": ".py",
   "mimetype": "text/x-python",
   "name": "python",
   "nbconvert_exporter": "python",
   "pygments_lexer": "ipython3",
   "version": "3.8.8"
  },
  "widgets": {
   "application/vnd.jupyter.widget-state+json": {
    "state": {},
    "version_major": 2,
    "version_minor": 0
   }
  }
 },
 "nbformat": 4,
 "nbformat_minor": 5
}
