{
 "cells": [
  {
   "cell_type": "markdown",
   "id": "ec0b5b10-72e2-487e-902a-a42f26990e7a",
   "metadata": {},
   "source": [
    "# Pandas - change column values"
   ]
  },
  {
   "cell_type": "code",
   "execution_count": 1,
   "id": "204fadbd-7c05-49e4-9173-bc7069acd19b",
   "metadata": {},
   "outputs": [],
   "source": [
    "import pandas as pd"
   ]
  },
  {
   "cell_type": "markdown",
   "id": "e20b1e2d-9252-45a1-aa0b-d624cda1d266",
   "metadata": {},
   "source": [
    "--------"
   ]
  },
  {
   "cell_type": "code",
   "execution_count": null,
   "id": "1554ad52-3514-4a02-935a-85fc3cc918ce",
   "metadata": {},
   "outputs": [],
   "source": [
    "# ic_eff: y/n to 1/0\n",
    "# df['ic_eff']= df['ic_eff'].eq('y').mul(1)\n",
    "\n",
    "# ic_op_type: m/a to manager/auditor\n",
    "df['ic_op_type']= df['ic_op_type'].map(dict(m='manager', a='auditor'))"
   ]
  }
 ],
 "metadata": {
  "kernelspec": {
   "display_name": "sec",
   "language": "python",
   "name": "sec"
  },
  "language_info": {
   "codemirror_mode": {
    "name": "ipython",
    "version": 3
   },
   "file_extension": ".py",
   "mimetype": "text/x-python",
   "name": "python",
   "nbconvert_exporter": "python",
   "pygments_lexer": "ipython3",
   "version": "3.8.8"
  },
  "widgets": {
   "application/vnd.jupyter.widget-state+json": {
    "state": {},
    "version_major": 2,
    "version_minor": 0
   }
  }
 },
 "nbformat": 4,
 "nbformat_minor": 5
}
