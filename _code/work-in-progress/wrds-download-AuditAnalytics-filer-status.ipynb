{
 "cells": [
  {
   "cell_type": "markdown",
   "id": "4633cce5-ba97-4631-bce1-fbb65c5dea66",
   "metadata": {},
   "source": [
    "## Download filer status set from Audit Analytics data from WRDS"
   ]
  },
  {
   "cell_type": "markdown",
   "id": "eed9431c-85e8-4651-a33b-2be6e56579c7",
   "metadata": {},
   "source": [
    "-------------------------"
   ]
  },
  {
   "cell_type": "markdown",
   "id": "d4bfcf5c-c883-4ac1-839b-f2c76c0284cb",
   "metadata": {},
   "source": [
    "### Import libraries"
   ]
  },
  {
   "cell_type": "code",
   "execution_count": 1,
   "id": "9cff7b80-9b0c-4cd3-a11c-cf28f63842ff",
   "metadata": {},
   "outputs": [],
   "source": [
    "import numpy as np\n",
    "import pandas as pd\n",
    "import matplotlib.pyplot as plt\n",
    "import seaborn as sns\n",
    "import wrds\n",
    "pd.options.display.max_columns=200"
   ]
  },
  {
   "cell_type": "markdown",
   "id": "cef880b0-014a-49b0-9e66-fc1ce372805e",
   "metadata": {},
   "source": [
    "-------------"
   ]
  },
  {
   "cell_type": "markdown",
   "id": "432f2b4a-02a6-4c58-9e6a-ffda0615342f",
   "metadata": {},
   "source": [
    "### Connect WRDS"
   ]
  },
  {
   "cell_type": "code",
   "execution_count": 2,
   "id": "3df4e730-ca27-4c67-8d76-fb5ae5c90084",
   "metadata": {},
   "outputs": [
    {
     "name": "stdin",
     "output_type": "stream",
     "text": [
      "Enter your WRDS username [yjaey]: yjaeyoon\n",
      "Enter your password: ···············\n"
     ]
    },
    {
     "name": "stdout",
     "output_type": "stream",
     "text": [
      "WRDS recommends setting up a .pgpass file.\n"
     ]
    },
    {
     "name": "stdin",
     "output_type": "stream",
     "text": [
      "Create .pgpass file now [y/n]?:  y\n"
     ]
    },
    {
     "name": "stdout",
     "output_type": "stream",
     "text": [
      "Created .pgpass file successfully.\n",
      "Loading library list...\n",
      "Done\n"
     ]
    }
   ],
   "source": [
    "conn=wrds.Connection()"
   ]
  },
  {
   "cell_type": "markdown",
   "id": "075cd192-4365-4c4e-ac79-0a640c64ae16",
   "metadata": {},
   "source": [
    "### Get variable list"
   ]
  },
  {
   "cell_type": "code",
   "execution_count": 6,
   "id": "fbf9bd48-92b0-49c4-ae96-52f06fe02bb5",
   "metadata": {},
   "outputs": [
    {
     "name": "stdout",
     "output_type": "stream",
     "text": [
      "Approximately 697153 rows in audit.accfiler.\n",
      "209\n"
     ]
    }
   ],
   "source": [
    "sox404_vars= conn.describe_table(library='audit', table='accfiler')['name']\n",
    "print(len(sox404_vars))"
   ]
  },
  {
   "cell_type": "code",
   "execution_count": 7,
   "id": "701634cc-22dd-4319-811a-c7b99a06bac8",
   "metadata": {
    "tags": []
   },
   "outputs": [
    {
     "name": "stdout",
     "output_type": "stream",
     "text": [
      "0 accel_filer_key\n",
      "1 hst_season_issuer\n",
      "2 hst_is_shell_co\n",
      "3 hst_is_accel_filer\n",
      "4 hst_is_large_accel\n",
      "5 hst_is_voluntary_filer\n",
      "6 hst_is_small_report\n",
      "7 did_not_disc\n",
      "8 pe_date\n",
      "9 pe_date_num\n",
      "10 accnt_basis\n",
      "11 ftp_file_fkey\n",
      "12 form_fkey\n",
      "13 file_date\n",
      "14 file_accepted\n",
      "15 file_size\n",
      "16 http_name_html\n",
      "17 http_name_text\n",
      "18 company_fkey\n",
      "19 best_edgar_ticker\n"
     ]
    }
   ],
   "source": [
    "vars_to_skip= ['matchfy', 'matchqu', 'closestfy', 'closestqu', 'priorqu', 'priorfy', 'note', 'opinion_text', 'eventdate']\n",
    "for idx, var in enumerate(sox404_vars):\n",
    "    if any(var_to_skip in var for var_to_skip in vars_to_skip):\n",
    "        pass\n",
    "    else:        \n",
    "        print(idx, var)"
   ]
  },
  {
   "cell_type": "markdown",
   "id": "ff3d500f-95b3-4f73-881a-ac8e69725ffe",
   "metadata": {},
   "source": [
    "### Select variables to download"
   ]
  },
  {
   "cell_type": "code",
   "execution_count": 17,
   "id": "fa3956ed-69cc-45db-b7a2-6ffd27e7ea55",
   "metadata": {},
   "outputs": [],
   "source": [
    "vars_to_keep= ['accel_filer_key', 'hst_season_issuer', 'hst_is_shell_co', 'hst_is_accel_filer', 'hst_is_large_accel', 'hst_is_voluntary_filer', \n",
    "               'hst_is_small_report', 'did_not_disc', 'pe_date', 'company_fkey', 'form_fkey']"
   ]
  },
  {
   "cell_type": "markdown",
   "id": "51b7b493-4858-4bca-b24a-fe002148881c",
   "metadata": {},
   "source": [
    "### Pilot check"
   ]
  },
  {
   "cell_type": "code",
   "execution_count": 18,
   "id": "c58074bf-26a8-433e-a027-99b571e729fd",
   "metadata": {},
   "outputs": [
    {
     "data": {
      "text/html": [
       "<div>\n",
       "<style scoped>\n",
       "    .dataframe tbody tr th:only-of-type {\n",
       "        vertical-align: middle;\n",
       "    }\n",
       "\n",
       "    .dataframe tbody tr th {\n",
       "        vertical-align: top;\n",
       "    }\n",
       "\n",
       "    .dataframe thead th {\n",
       "        text-align: right;\n",
       "    }\n",
       "</style>\n",
       "<table border=\"1\" class=\"dataframe\">\n",
       "  <thead>\n",
       "    <tr style=\"text-align: right;\">\n",
       "      <th></th>\n",
       "      <th>accel_filer_key</th>\n",
       "      <th>hst_season_issuer</th>\n",
       "      <th>hst_is_shell_co</th>\n",
       "      <th>hst_is_accel_filer</th>\n",
       "      <th>hst_is_large_accel</th>\n",
       "      <th>hst_is_voluntary_filer</th>\n",
       "      <th>hst_is_small_report</th>\n",
       "      <th>did_not_disc</th>\n",
       "      <th>pe_date</th>\n",
       "      <th>company_fkey</th>\n",
       "      <th>form_fkey</th>\n",
       "    </tr>\n",
       "  </thead>\n",
       "  <tbody>\n",
       "    <tr>\n",
       "      <th>0</th>\n",
       "      <td>70543.0</td>\n",
       "      <td>2.0</td>\n",
       "      <td>2.0</td>\n",
       "      <td>2.0</td>\n",
       "      <td>2.0</td>\n",
       "      <td>2.0</td>\n",
       "      <td>2.0</td>\n",
       "      <td>1.0</td>\n",
       "      <td>2002-09-28</td>\n",
       "      <td>0000000020</td>\n",
       "      <td>10-Q</td>\n",
       "    </tr>\n",
       "    <tr>\n",
       "      <th>1</th>\n",
       "      <td>62225.0</td>\n",
       "      <td>2.0</td>\n",
       "      <td>2.0</td>\n",
       "      <td>0.0</td>\n",
       "      <td>0.0</td>\n",
       "      <td>2.0</td>\n",
       "      <td>0.0</td>\n",
       "      <td>0.0</td>\n",
       "      <td>2002-12-28</td>\n",
       "      <td>0000000020</td>\n",
       "      <td>10-K</td>\n",
       "    </tr>\n",
       "    <tr>\n",
       "      <th>2</th>\n",
       "      <td>70587.0</td>\n",
       "      <td>2.0</td>\n",
       "      <td>2.0</td>\n",
       "      <td>0.0</td>\n",
       "      <td>0.0</td>\n",
       "      <td>2.0</td>\n",
       "      <td>0.0</td>\n",
       "      <td>0.0</td>\n",
       "      <td>2003-03-29</td>\n",
       "      <td>0000000020</td>\n",
       "      <td>10-Q</td>\n",
       "    </tr>\n",
       "  </tbody>\n",
       "</table>\n",
       "</div>"
      ],
      "text/plain": [
       "   accel_filer_key  hst_season_issuer  hst_is_shell_co  hst_is_accel_filer  \\\n",
       "0          70543.0                2.0              2.0                 2.0   \n",
       "1          62225.0                2.0              2.0                 0.0   \n",
       "2          70587.0                2.0              2.0                 0.0   \n",
       "\n",
       "   hst_is_large_accel  hst_is_voluntary_filer  hst_is_small_report  \\\n",
       "0                 2.0                     2.0                  2.0   \n",
       "1                 0.0                     2.0                  0.0   \n",
       "2                 0.0                     2.0                  0.0   \n",
       "\n",
       "   did_not_disc     pe_date company_fkey form_fkey  \n",
       "0           1.0  2002-09-28   0000000020      10-Q  \n",
       "1           0.0  2002-12-28   0000000020      10-K  \n",
       "2           0.0  2003-03-29   0000000020      10-Q  "
      ]
     },
     "execution_count": 18,
     "metadata": {},
     "output_type": "execute_result"
    }
   ],
   "source": [
    "df_test= conn.get_table(library= 'audit', table='accfiler',\n",
    "                       columns= vars_to_keep,\n",
    "                       obs= 3)\n",
    "df_test"
   ]
  },
  {
   "cell_type": "code",
   "execution_count": 19,
   "id": "d16b4054-599b-41d7-b0d7-b764ac8b869b",
   "metadata": {},
   "outputs": [
    {
     "data": {
      "text/html": [
       "<div>\n",
       "<style scoped>\n",
       "    .dataframe tbody tr th:only-of-type {\n",
       "        vertical-align: middle;\n",
       "    }\n",
       "\n",
       "    .dataframe tbody tr th {\n",
       "        vertical-align: top;\n",
       "    }\n",
       "\n",
       "    .dataframe thead th {\n",
       "        text-align: right;\n",
       "    }\n",
       "</style>\n",
       "<table border=\"1\" class=\"dataframe\">\n",
       "  <thead>\n",
       "    <tr style=\"text-align: right;\">\n",
       "      <th></th>\n",
       "      <th>accel_filer_key</th>\n",
       "      <th>hst_season_issuer</th>\n",
       "      <th>hst_is_shell_co</th>\n",
       "      <th>hst_is_accel_filer</th>\n",
       "      <th>hst_is_large_accel</th>\n",
       "      <th>hst_is_voluntary_filer</th>\n",
       "      <th>hst_is_small_report</th>\n",
       "      <th>did_not_disc</th>\n",
       "      <th>pe_date</th>\n",
       "      <th>company_fkey</th>\n",
       "      <th>form_fkey</th>\n",
       "    </tr>\n",
       "  </thead>\n",
       "  <tbody>\n",
       "    <tr>\n",
       "      <th>0</th>\n",
       "      <td>70543.0</td>\n",
       "      <td>2.0</td>\n",
       "      <td>2.0</td>\n",
       "      <td>2.0</td>\n",
       "      <td>2.0</td>\n",
       "      <td>2.0</td>\n",
       "      <td>2.0</td>\n",
       "      <td>1.0</td>\n",
       "      <td>2002-09-28</td>\n",
       "      <td>0000000020</td>\n",
       "      <td>10-Q</td>\n",
       "    </tr>\n",
       "    <tr>\n",
       "      <th>1</th>\n",
       "      <td>62225.0</td>\n",
       "      <td>2.0</td>\n",
       "      <td>2.0</td>\n",
       "      <td>0.0</td>\n",
       "      <td>0.0</td>\n",
       "      <td>2.0</td>\n",
       "      <td>0.0</td>\n",
       "      <td>0.0</td>\n",
       "      <td>2002-12-28</td>\n",
       "      <td>0000000020</td>\n",
       "      <td>10-K</td>\n",
       "    </tr>\n",
       "    <tr>\n",
       "      <th>2</th>\n",
       "      <td>70587.0</td>\n",
       "      <td>2.0</td>\n",
       "      <td>2.0</td>\n",
       "      <td>0.0</td>\n",
       "      <td>0.0</td>\n",
       "      <td>2.0</td>\n",
       "      <td>0.0</td>\n",
       "      <td>0.0</td>\n",
       "      <td>2003-03-29</td>\n",
       "      <td>0000000020</td>\n",
       "      <td>10-Q</td>\n",
       "    </tr>\n",
       "    <tr>\n",
       "      <th>3</th>\n",
       "      <td>70544.0</td>\n",
       "      <td>2.0</td>\n",
       "      <td>2.0</td>\n",
       "      <td>0.0</td>\n",
       "      <td>0.0</td>\n",
       "      <td>2.0</td>\n",
       "      <td>0.0</td>\n",
       "      <td>0.0</td>\n",
       "      <td>2003-06-28</td>\n",
       "      <td>0000000020</td>\n",
       "      <td>10-Q</td>\n",
       "    </tr>\n",
       "    <tr>\n",
       "      <th>4</th>\n",
       "      <td>70586.0</td>\n",
       "      <td>2.0</td>\n",
       "      <td>2.0</td>\n",
       "      <td>0.0</td>\n",
       "      <td>0.0</td>\n",
       "      <td>2.0</td>\n",
       "      <td>0.0</td>\n",
       "      <td>0.0</td>\n",
       "      <td>2003-09-27</td>\n",
       "      <td>0000000020</td>\n",
       "      <td>10-Q</td>\n",
       "    </tr>\n",
       "  </tbody>\n",
       "</table>\n",
       "</div>"
      ],
      "text/plain": [
       "   accel_filer_key  hst_season_issuer  hst_is_shell_co  hst_is_accel_filer  \\\n",
       "0          70543.0                2.0              2.0                 2.0   \n",
       "1          62225.0                2.0              2.0                 0.0   \n",
       "2          70587.0                2.0              2.0                 0.0   \n",
       "3          70544.0                2.0              2.0                 0.0   \n",
       "4          70586.0                2.0              2.0                 0.0   \n",
       "\n",
       "   hst_is_large_accel  hst_is_voluntary_filer  hst_is_small_report  \\\n",
       "0                 2.0                     2.0                  2.0   \n",
       "1                 0.0                     2.0                  0.0   \n",
       "2                 0.0                     2.0                  0.0   \n",
       "3                 0.0                     2.0                  0.0   \n",
       "4                 0.0                     2.0                  0.0   \n",
       "\n",
       "   did_not_disc     pe_date company_fkey form_fkey  \n",
       "0           1.0  2002-09-28   0000000020      10-Q  \n",
       "1           0.0  2002-12-28   0000000020      10-K  \n",
       "2           0.0  2003-03-29   0000000020      10-Q  \n",
       "3           0.0  2003-06-28   0000000020      10-Q  \n",
       "4           0.0  2003-09-27   0000000020      10-Q  "
      ]
     },
     "execution_count": 19,
     "metadata": {},
     "output_type": "execute_result"
    }
   ],
   "source": [
    "df= conn.get_table(library= 'audit', table='accfiler',\n",
    "                       columns= vars_to_keep)\n",
    "df.head()"
   ]
  },
  {
   "cell_type": "code",
   "execution_count": 23,
   "id": "26eeac10-e8d2-4d37-99e5-6b7aa28ac252",
   "metadata": {},
   "outputs": [],
   "source": [
    "df= df[df.form_fkey==\"10-K\"].drop(columns= 'form_fkey')"
   ]
  },
  {
   "cell_type": "code",
   "execution_count": 24,
   "id": "d1c97961-f06c-4f38-8baa-6719bf2df8bd",
   "metadata": {},
   "outputs": [
    {
     "data": {
      "text/plain": [
       "(156828, 10)"
      ]
     },
     "execution_count": 24,
     "metadata": {},
     "output_type": "execute_result"
    }
   ],
   "source": [
    "df.shape"
   ]
  }
 ],
 "metadata": {
  "kernelspec": {
   "display_name": "sec",
   "language": "python",
   "name": "sec"
  },
  "language_info": {
   "codemirror_mode": {
    "name": "ipython",
    "version": 3
   },
   "file_extension": ".py",
   "mimetype": "text/x-python",
   "name": "python",
   "nbconvert_exporter": "python",
   "pygments_lexer": "ipython3",
   "version": "3.8.8"
  },
  "widgets": {
   "application/vnd.jupyter.widget-state+json": {
    "state": {},
    "version_major": 2,
    "version_minor": 0
   }
  }
 },
 "nbformat": 4,
 "nbformat_minor": 5
}
