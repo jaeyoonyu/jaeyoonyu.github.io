{
 "cells": [
  {
   "cell_type": "markdown",
   "id": "cc2d68ab-a637-4007-8011-7d09c0a71fcb",
   "metadata": {},
   "source": [
    "# IPO date from Compustat"
   ]
  },
  {
   "cell_type": "markdown",
   "id": "492f138d-7c28-4dd1-b3e0-365c43a43d03",
   "metadata": {},
   "source": [
    "--------"
   ]
  },
  {
   "cell_type": "code",
   "execution_count": 1,
   "id": "83e85255-c870-4a01-9b24-ce2a277f005a",
   "metadata": {},
   "outputs": [],
   "source": [
    "import wrds\n",
    "import pandas as pd\n",
    "import numpy as np\n",
    "import matplotlib.pyplot as plt\n",
    "import seaborn as sns"
   ]
  },
  {
   "cell_type": "code",
   "execution_count": 2,
   "id": "4f05799a-1f7f-43ef-8dd9-ecbdd05a9c95",
   "metadata": {},
   "outputs": [
    {
     "name": "stdin",
     "output_type": "stream",
     "text": [
      "Enter your WRDS username [yjaey]: yjaeyoon\n",
      "Enter your password: ···············\n"
     ]
    },
    {
     "name": "stdout",
     "output_type": "stream",
     "text": [
      "WRDS recommends setting up a .pgpass file.\n"
     ]
    },
    {
     "name": "stdin",
     "output_type": "stream",
     "text": [
      "Create .pgpass file now [y/n]?:  y\n"
     ]
    },
    {
     "name": "stdout",
     "output_type": "stream",
     "text": [
      "Created .pgpass file successfully.\n",
      "Loading library list...\n",
      "Done\n"
     ]
    }
   ],
   "source": [
    "conn=wrds.Connection()"
   ]
  },
  {
   "cell_type": "markdown",
   "id": "030c9d6e-d8a5-44d6-890d-16a92feacae2",
   "metadata": {},
   "source": [
    "### Get Company file from COMPUSTAT"
   ]
  },
  {
   "cell_type": "code",
   "execution_count": 3,
   "id": "1e3a4b29-3da9-4073-8751-e11a0735f519",
   "metadata": {},
   "outputs": [
    {
     "data": {
      "text/plain": [
       "(51827, 39)"
      ]
     },
     "execution_count": 3,
     "metadata": {},
     "output_type": "execute_result"
    }
   ],
   "source": [
    "df= conn.raw_sql(\"\"\"select * \n",
    "                    from comp.company\n",
    "                    \"\"\",\n",
    "                  date_cols=['datadate'])\n",
    "df.shape"
   ]
  },
  {
   "cell_type": "code",
   "execution_count": 6,
   "id": "937078a0-edfc-4b76-9a01-897641b90cef",
   "metadata": {},
   "outputs": [
    {
     "name": "stdout",
     "output_type": "stream",
     "text": [
      "(50593, 7)\n"
     ]
    },
    {
     "data": {
      "text/html": [
       "<div>\n",
       "<style scoped>\n",
       "    .dataframe tbody tr th:only-of-type {\n",
       "        vertical-align: middle;\n",
       "    }\n",
       "\n",
       "    .dataframe tbody tr th {\n",
       "        vertical-align: top;\n",
       "    }\n",
       "\n",
       "    .dataframe thead th {\n",
       "        text-align: right;\n",
       "    }\n",
       "</style>\n",
       "<table border=\"1\" class=\"dataframe\">\n",
       "  <thead>\n",
       "    <tr style=\"text-align: right;\">\n",
       "      <th></th>\n",
       "      <th>conm</th>\n",
       "      <th>gvkey</th>\n",
       "      <th>cik</th>\n",
       "      <th>fic</th>\n",
       "      <th>sic</th>\n",
       "      <th>state</th>\n",
       "      <th>ipodate</th>\n",
       "    </tr>\n",
       "  </thead>\n",
       "  <tbody>\n",
       "    <tr>\n",
       "      <th>0</th>\n",
       "      <td>A &amp; E PLASTIK PAK INC</td>\n",
       "      <td>001000</td>\n",
       "      <td>None</td>\n",
       "      <td>USA</td>\n",
       "      <td>3089</td>\n",
       "      <td>None</td>\n",
       "      <td>None</td>\n",
       "    </tr>\n",
       "    <tr>\n",
       "      <th>1</th>\n",
       "      <td>A &amp; M FOOD SERVICES INC</td>\n",
       "      <td>001001</td>\n",
       "      <td>0000723576</td>\n",
       "      <td>USA</td>\n",
       "      <td>5812</td>\n",
       "      <td>OK</td>\n",
       "      <td>None</td>\n",
       "    </tr>\n",
       "    <tr>\n",
       "      <th>2</th>\n",
       "      <td>AAI CORP</td>\n",
       "      <td>001002</td>\n",
       "      <td>0001306124</td>\n",
       "      <td>USA</td>\n",
       "      <td>3825</td>\n",
       "      <td>MD</td>\n",
       "      <td>None</td>\n",
       "    </tr>\n",
       "    <tr>\n",
       "      <th>3</th>\n",
       "      <td>A.A. IMPORTING CO INC</td>\n",
       "      <td>001003</td>\n",
       "      <td>0000730052</td>\n",
       "      <td>USA</td>\n",
       "      <td>5712</td>\n",
       "      <td>MO</td>\n",
       "      <td>None</td>\n",
       "    </tr>\n",
       "    <tr>\n",
       "      <th>4</th>\n",
       "      <td>AAR CORP</td>\n",
       "      <td>001004</td>\n",
       "      <td>0000001750</td>\n",
       "      <td>USA</td>\n",
       "      <td>5080</td>\n",
       "      <td>IL</td>\n",
       "      <td>1988-01-01</td>\n",
       "    </tr>\n",
       "  </tbody>\n",
       "</table>\n",
       "</div>"
      ],
      "text/plain": [
       "                      conm   gvkey         cik  fic   sic state     ipodate\n",
       "0    A & E PLASTIK PAK INC  001000        None  USA  3089  None        None\n",
       "1  A & M FOOD SERVICES INC  001001  0000723576  USA  5812    OK        None\n",
       "2                 AAI CORP  001002  0001306124  USA  3825    MD        None\n",
       "3    A.A. IMPORTING CO INC  001003  0000730052  USA  5712    MO        None\n",
       "4                 AAR CORP  001004  0000001750  USA  5080    IL  1988-01-01"
      ]
     },
     "execution_count": 6,
     "metadata": {},
     "output_type": "execute_result"
    }
   ],
   "source": [
    "df= df[['conm', 'gvkey', 'cik', 'fic', 'sic', 'state', 'ipodate']]\n",
    "df=df.dropna(subset=['sic'])\n",
    "print(df.shape)\n",
    "df.head()"
   ]
  },
  {
   "cell_type": "code",
   "execution_count": 7,
   "id": "2a87518d-0fb7-4eda-b23c-c4a8b924a593",
   "metadata": {},
   "outputs": [
    {
     "name": "stdout",
     "output_type": "stream",
     "text": [
      "<class 'pandas.core.frame.DataFrame'>\n",
      "Int64Index: 50593 entries, 0 to 51826\n",
      "Data columns (total 7 columns):\n",
      " #   Column   Non-Null Count  Dtype \n",
      "---  ------   --------------  ----- \n",
      " 0   conm     50593 non-null  object\n",
      " 1   gvkey    50593 non-null  object\n",
      " 2   cik      35327 non-null  object\n",
      " 3   fic      50356 non-null  object\n",
      " 4   sic      50593 non-null  object\n",
      " 5   state    44885 non-null  object\n",
      " 6   ipodate  15824 non-null  object\n",
      "dtypes: object(7)\n",
      "memory usage: 3.1+ MB\n"
     ]
    }
   ],
   "source": [
    "df.info()"
   ]
  },
  {
   "cell_type": "markdown",
   "id": "9f917050-3252-4482-9853-9cf6ec281184",
   "metadata": {},
   "source": [
    "### Classify industry"
   ]
  },
  {
   "cell_type": "code",
   "execution_count": 8,
   "id": "b42c41a3-4e0b-4810-87ed-8d97acc9972a",
   "metadata": {},
   "outputs": [
    {
     "data": {
      "text/html": [
       "<div>\n",
       "<style scoped>\n",
       "    .dataframe tbody tr th:only-of-type {\n",
       "        vertical-align: middle;\n",
       "    }\n",
       "\n",
       "    .dataframe tbody tr th {\n",
       "        vertical-align: top;\n",
       "    }\n",
       "\n",
       "    .dataframe thead th {\n",
       "        text-align: right;\n",
       "    }\n",
       "</style>\n",
       "<table border=\"1\" class=\"dataframe\">\n",
       "  <thead>\n",
       "    <tr style=\"text-align: right;\">\n",
       "      <th></th>\n",
       "      <th>conm</th>\n",
       "      <th>gvkey</th>\n",
       "      <th>cik</th>\n",
       "      <th>fic</th>\n",
       "      <th>sic</th>\n",
       "      <th>state</th>\n",
       "      <th>ipodate</th>\n",
       "      <th>industry</th>\n",
       "    </tr>\n",
       "  </thead>\n",
       "  <tbody>\n",
       "    <tr>\n",
       "      <th>0</th>\n",
       "      <td>A &amp; E PLASTIK PAK INC</td>\n",
       "      <td>001000</td>\n",
       "      <td>None</td>\n",
       "      <td>USA</td>\n",
       "      <td>3089</td>\n",
       "      <td>None</td>\n",
       "      <td>None</td>\n",
       "      <td>non-finance</td>\n",
       "    </tr>\n",
       "    <tr>\n",
       "      <th>1</th>\n",
       "      <td>A &amp; M FOOD SERVICES INC</td>\n",
       "      <td>001001</td>\n",
       "      <td>0000723576</td>\n",
       "      <td>USA</td>\n",
       "      <td>5812</td>\n",
       "      <td>OK</td>\n",
       "      <td>None</td>\n",
       "      <td>non-finance</td>\n",
       "    </tr>\n",
       "    <tr>\n",
       "      <th>2</th>\n",
       "      <td>AAI CORP</td>\n",
       "      <td>001002</td>\n",
       "      <td>0001306124</td>\n",
       "      <td>USA</td>\n",
       "      <td>3825</td>\n",
       "      <td>MD</td>\n",
       "      <td>None</td>\n",
       "      <td>non-finance</td>\n",
       "    </tr>\n",
       "    <tr>\n",
       "      <th>3</th>\n",
       "      <td>A.A. IMPORTING CO INC</td>\n",
       "      <td>001003</td>\n",
       "      <td>0000730052</td>\n",
       "      <td>USA</td>\n",
       "      <td>5712</td>\n",
       "      <td>MO</td>\n",
       "      <td>None</td>\n",
       "      <td>non-finance</td>\n",
       "    </tr>\n",
       "    <tr>\n",
       "      <th>4</th>\n",
       "      <td>AAR CORP</td>\n",
       "      <td>001004</td>\n",
       "      <td>0000001750</td>\n",
       "      <td>USA</td>\n",
       "      <td>5080</td>\n",
       "      <td>IL</td>\n",
       "      <td>1988-01-01</td>\n",
       "      <td>non-finance</td>\n",
       "    </tr>\n",
       "  </tbody>\n",
       "</table>\n",
       "</div>"
      ],
      "text/plain": [
       "                      conm   gvkey         cik  fic   sic state     ipodate  \\\n",
       "0    A & E PLASTIK PAK INC  001000        None  USA  3089  None        None   \n",
       "1  A & M FOOD SERVICES INC  001001  0000723576  USA  5812    OK        None   \n",
       "2                 AAI CORP  001002  0001306124  USA  3825    MD        None   \n",
       "3    A.A. IMPORTING CO INC  001003  0000730052  USA  5712    MO        None   \n",
       "4                 AAR CORP  001004  0000001750  USA  5080    IL  1988-01-01   \n",
       "\n",
       "      industry  \n",
       "0  non-finance  \n",
       "1  non-finance  \n",
       "2  non-finance  \n",
       "3  non-finance  \n",
       "4  non-finance  "
      ]
     },
     "execution_count": 8,
     "metadata": {},
     "output_type": "execute_result"
    }
   ],
   "source": [
    "df['sic']= df['sic'].astype(int)\n",
    "df.loc[((df['sic']<7000) & (df['sic']>=6000)), 'industry']= 'finance'\n",
    "df.loc[df['sic']>=9900, 'industry']= 'not defined'\n",
    "df.loc[(df['industry'].isna()), 'industry']= 'non-finance'\n",
    "df.head()"
   ]
  },
  {
   "cell_type": "code",
   "execution_count": 9,
   "id": "33c69afb-b81d-4c91-8836-315a3c19d77d",
   "metadata": {},
   "outputs": [
    {
     "data": {
      "text/html": [
       "<div>\n",
       "<style scoped>\n",
       "    .dataframe tbody tr th:only-of-type {\n",
       "        vertical-align: middle;\n",
       "    }\n",
       "\n",
       "    .dataframe tbody tr th {\n",
       "        vertical-align: top;\n",
       "    }\n",
       "\n",
       "    .dataframe thead th {\n",
       "        text-align: right;\n",
       "    }\n",
       "</style>\n",
       "<table border=\"1\" class=\"dataframe\">\n",
       "  <thead>\n",
       "    <tr style=\"text-align: right;\">\n",
       "      <th></th>\n",
       "      <th>conm</th>\n",
       "      <th>gvkey</th>\n",
       "      <th>cik</th>\n",
       "      <th>fic</th>\n",
       "      <th>sic</th>\n",
       "      <th>state</th>\n",
       "      <th>ipodate</th>\n",
       "    </tr>\n",
       "    <tr>\n",
       "      <th>industry</th>\n",
       "      <th></th>\n",
       "      <th></th>\n",
       "      <th></th>\n",
       "      <th></th>\n",
       "      <th></th>\n",
       "      <th></th>\n",
       "      <th></th>\n",
       "    </tr>\n",
       "  </thead>\n",
       "  <tbody>\n",
       "    <tr>\n",
       "      <th>finance</th>\n",
       "      <td>14313</td>\n",
       "      <td>14313</td>\n",
       "      <td>6918</td>\n",
       "      <td>14080</td>\n",
       "      <td>14313</td>\n",
       "      <td>13475</td>\n",
       "      <td>2837</td>\n",
       "    </tr>\n",
       "    <tr>\n",
       "      <th>non-finance</th>\n",
       "      <td>34437</td>\n",
       "      <td>34437</td>\n",
       "      <td>27033</td>\n",
       "      <td>34435</td>\n",
       "      <td>34437</td>\n",
       "      <td>29807</td>\n",
       "      <td>11743</td>\n",
       "    </tr>\n",
       "    <tr>\n",
       "      <th>not defined</th>\n",
       "      <td>1843</td>\n",
       "      <td>1843</td>\n",
       "      <td>1376</td>\n",
       "      <td>1841</td>\n",
       "      <td>1843</td>\n",
       "      <td>1603</td>\n",
       "      <td>1244</td>\n",
       "    </tr>\n",
       "  </tbody>\n",
       "</table>\n",
       "</div>"
      ],
      "text/plain": [
       "              conm  gvkey    cik    fic    sic  state  ipodate\n",
       "industry                                                      \n",
       "finance      14313  14313   6918  14080  14313  13475     2837\n",
       "non-finance  34437  34437  27033  34435  34437  29807    11743\n",
       "not defined   1843   1843   1376   1841   1843   1603     1244"
      ]
     },
     "execution_count": 9,
     "metadata": {},
     "output_type": "execute_result"
    }
   ],
   "source": [
    "df.groupby('industry').count()"
   ]
  },
  {
   "cell_type": "markdown",
   "id": "79a8c09f-19e5-48a9-8e0e-5e7e0bd5ef9f",
   "metadata": {},
   "source": [
    "### Keep US firm only"
   ]
  },
  {
   "cell_type": "code",
   "execution_count": 11,
   "id": "3aecf54f-01d9-4d2c-b684-287d7d051033",
   "metadata": {},
   "outputs": [
    {
     "name": "stdout",
     "output_type": "stream",
     "text": [
      "(38262, 7)\n"
     ]
    }
   ],
   "source": [
    "df=df[df.fic==\"USA\"].drop(columns=\"fic\")\n",
    "print(df.shape)"
   ]
  },
  {
   "cell_type": "code",
   "execution_count": 12,
   "id": "1a9cc6f9-7a80-47ad-8d26-b50a64f10e3d",
   "metadata": {},
   "outputs": [
    {
     "name": "stdout",
     "output_type": "stream",
     "text": [
      "(12111, 7)\n"
     ]
    }
   ],
   "source": [
    "df=df[df.ipodate.notna()]\n",
    "print(df.shape)"
   ]
  },
  {
   "cell_type": "code",
   "execution_count": 13,
   "id": "f48c7918-5df5-4bbd-a4f1-c11c7db57a81",
   "metadata": {},
   "outputs": [
    {
     "data": {
      "text/html": [
       "<div>\n",
       "<style scoped>\n",
       "    .dataframe tbody tr th:only-of-type {\n",
       "        vertical-align: middle;\n",
       "    }\n",
       "\n",
       "    .dataframe tbody tr th {\n",
       "        vertical-align: top;\n",
       "    }\n",
       "\n",
       "    .dataframe thead th {\n",
       "        text-align: right;\n",
       "    }\n",
       "</style>\n",
       "<table border=\"1\" class=\"dataframe\">\n",
       "  <thead>\n",
       "    <tr style=\"text-align: right;\">\n",
       "      <th></th>\n",
       "      <th>conm</th>\n",
       "      <th>gvkey</th>\n",
       "      <th>cik</th>\n",
       "      <th>sic</th>\n",
       "      <th>state</th>\n",
       "      <th>ipodate</th>\n",
       "    </tr>\n",
       "    <tr>\n",
       "      <th>industry</th>\n",
       "      <th></th>\n",
       "      <th></th>\n",
       "      <th></th>\n",
       "      <th></th>\n",
       "      <th></th>\n",
       "      <th></th>\n",
       "    </tr>\n",
       "  </thead>\n",
       "  <tbody>\n",
       "    <tr>\n",
       "      <th>finance</th>\n",
       "      <td>2306</td>\n",
       "      <td>2306</td>\n",
       "      <td>2181</td>\n",
       "      <td>2306</td>\n",
       "      <td>2294</td>\n",
       "      <td>2306</td>\n",
       "    </tr>\n",
       "    <tr>\n",
       "      <th>non-finance</th>\n",
       "      <td>9016</td>\n",
       "      <td>9016</td>\n",
       "      <td>8545</td>\n",
       "      <td>9016</td>\n",
       "      <td>8897</td>\n",
       "      <td>9016</td>\n",
       "    </tr>\n",
       "    <tr>\n",
       "      <th>not defined</th>\n",
       "      <td>789</td>\n",
       "      <td>789</td>\n",
       "      <td>596</td>\n",
       "      <td>789</td>\n",
       "      <td>767</td>\n",
       "      <td>789</td>\n",
       "    </tr>\n",
       "  </tbody>\n",
       "</table>\n",
       "</div>"
      ],
      "text/plain": [
       "             conm  gvkey   cik   sic  state  ipodate\n",
       "industry                                            \n",
       "finance      2306   2306  2181  2306   2294     2306\n",
       "non-finance  9016   9016  8545  9016   8897     9016\n",
       "not defined   789    789   596   789    767      789"
      ]
     },
     "execution_count": 13,
     "metadata": {},
     "output_type": "execute_result"
    }
   ],
   "source": [
    "df.groupby('industry').count()"
   ]
  },
  {
   "cell_type": "markdown",
   "id": "d892c019-2ff8-4ca3-b2df-5d9753f25bb6",
   "metadata": {},
   "source": [
    "### Define IPO year"
   ]
  },
  {
   "cell_type": "code",
   "execution_count": 17,
   "id": "e6b95fbf-4e71-4743-ba9b-cd1475880859",
   "metadata": {},
   "outputs": [],
   "source": [
    "df['ipoyear']= pd.DatetimeIndex(df['ipodate']).year"
   ]
  },
  {
   "cell_type": "code",
   "execution_count": 14,
   "id": "7626c98a-9409-41b5-b95e-1b85adcfbe07",
   "metadata": {},
   "outputs": [
    {
     "data": {
      "text/plain": [
       "(12111, 7)"
      ]
     },
     "execution_count": 14,
     "metadata": {},
     "output_type": "execute_result"
    }
   ],
   "source": [
    "df.shape"
   ]
  },
  {
   "cell_type": "markdown",
   "id": "4d7f3d45-1019-45df-8704-9c49b72e17a1",
   "metadata": {},
   "source": [
    "-----------"
   ]
  },
  {
   "cell_type": "markdown",
   "id": "5d4cdaf5-1151-468e-913d-848e32180646",
   "metadata": {},
   "source": [
    "### Histogram using the full sample"
   ]
  },
  {
   "cell_type": "code",
   "execution_count": 18,
   "id": "ff6738f3-13e7-43fe-9ab8-f32032443a6b",
   "metadata": {},
   "outputs": [
    {
     "data": {
      "image/png": "[encoded data removed]",
      "text/plain": [
       "<Figure size 864x432 with 1 Axes>"
      ]
     },
     "metadata": {},
     "output_type": "display_data"
    }
   ],
   "source": [
    "sns.set(rc={'figure.figsize':(12, 6)})\n",
    "ax= sns.histplot(df, x='ipoyear', binwidth= 1, color= 'blue')\n",
    "ax.set_title(\"Distribution of IPO years\", fontsize= 20)\n",
    "ax.set_xlabel(\"\\nIPO Year\", fontsize= 15)\n",
    "ax.set_ylabel(\"Count\", fontsize= 15)\n",
    "\n",
    "plt.show()"
   ]
  },
  {
   "cell_type": "markdown",
   "id": "cc4dfae8-4cf9-4822-9a51-f34a235cfa74",
   "metadata": {},
   "source": [
    "### Histogram using the sample since 1990"
   ]
  },
  {
   "cell_type": "code",
   "execution_count": 19,
   "id": "72c0c9f2-aed2-4a28-bd17-e087b0077802",
   "metadata": {},
   "outputs": [
    {
     "data": {
      "image/png": "[encoded data removed]",
      "text/plain": [
       "<Figure size 864x432 with 1 Axes>"
      ]
     },
     "metadata": {},
     "output_type": "display_data"
    }
   ],
   "source": [
    "df_to_visualize= df[df['ipoyear']>=1990]\n",
    "\n",
    "sns.set(rc={'figure.figsize':(12, 6)})\n",
    "ax= sns.histplot(df, x='ipoyear', binwidth= 1, color= 'r')\n",
    "ax.set_title(\"Distribution of IPO years after 1990\", fontsize= 20)\n",
    "ax.set_xlabel(\"\\nIPO Year\", fontsize= 15)\n",
    "ax.set_ylabel(\"Count\", fontsize= 15)\n",
    "plt.show()"
   ]
  },
  {
   "cell_type": "code",
   "execution_count": 20,
   "id": "67084344-7fce-41eb-b247-80986f4e5f12",
   "metadata": {},
   "outputs": [
    {
     "data": {
      "image/png": "[encoded data removed]",
      "text/plain": [
       "<Figure size 1296x432 with 1 Axes>"
      ]
     },
     "metadata": {},
     "output_type": "display_data"
    }
   ],
   "source": [
    "df_to_visualize= df[df['ipoyear']>=1990]\n",
    "\n",
    "sns.set(rc={'figure.figsize':(18, 6)})\n",
    "ax= sns.histplot(df_to_visualize, \n",
    "                 x='ipoyear', binwidth= 1, hue='industry', alpha= 1, multiple='dodge')\n",
    "ax.set_title(\"Distribution of IPO years after 1990:\\nFinance and Non-finance firms\", fontsize= 20)\n",
    "ax.set_xlabel(\"\\nIPO Year\", fontsize= 15)\n",
    "ax.set_ylabel(\"Count\", fontsize= 15)\n",
    "plt.show()"
   ]
  },
  {
   "cell_type": "code",
   "execution_count": 24,
   "id": "385073d2-faee-4d1e-ae1b-3325c7cc2329",
   "metadata": {},
   "outputs": [
    {
     "data": {
      "image/png": "[encoded data removed]",
      "text/plain": [
       "<Figure size 1296x432 with 1 Axes>"
      ]
     },
     "metadata": {},
     "output_type": "display_data"
    }
   ],
   "source": [
    "df_to_visualize= df[df['ipoyear']>=2000]\n",
    "\n",
    "sns.set(rc={'figure.figsize':(18, 6)})\n",
    "ax= sns.histplot(df_to_visualize, \n",
    "                 x='ipoyear', binwidth= 1, hue='industry', alpha= 1, multiple='dodge')\n",
    "ax.set_title(\"Distribution of IPO years after 2000:\\nFinance and Non-finance firms\", fontsize= 20)\n",
    "ax.set_xlabel(\"\\nIPO Year\", fontsize= 15)\n",
    "ax.set_xticks(range(2000,2023))\n",
    "ax.set_ylabel(\"Count\", fontsize= 15)\n",
    "plt.show()"
   ]
  },
  {
   "cell_type": "code",
   "execution_count": null,
   "id": "c0dfa3f7-c3ef-4067-a518-ed9d2095ba6d",
   "metadata": {},
   "outputs": [],
   "source": [
    "conn.close()"
   ]
  },
  {
   "cell_type": "markdown",
   "id": "6cf07213-b3e7-4bff-a9c0-f2cc197e91b2",
   "metadata": {},
   "source": [
    "--------"
   ]
  }
 ],
 "metadata": {
  "kernelspec": {
   "display_name": "sec",
   "language": "python",
   "name": "sec"
  },
  "language_info": {
   "codemirror_mode": {
    "name": "ipython",
    "version": 3
   },
   "file_extension": ".py",
   "mimetype": "text/x-python",
   "name": "python",
   "nbconvert_exporter": "python",
   "pygments_lexer": "ipython3",
   "version": "3.8.8"
  },
  "widgets": {
   "application/vnd.jupyter.widget-state+json": {
    "state": {},
    "version_major": 2,
    "version_minor": 0
   }
  }
 },
 "nbformat": 4,
 "nbformat_minor": 5
}
