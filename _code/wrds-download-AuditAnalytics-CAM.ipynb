{
 "cells": [
  {
   "cell_type": "markdown",
   "id": "4633cce5-ba97-4631-bce1-fbb65c5dea66",
   "metadata": {},
   "source": [
    "## Download CAM set from Audit Analytics data from WRDS\n",
    "* For Large-accelerated filers (LAFs): CAM is effective for audits of fiscal years ending on or after <b>June 30, 2019</b>.\n",
    "* For the others: CAM is effective for audits of fiscal years ending on or after <b>Dec. 15, 2020</b>.\n",
    "* Audit Analytics CAM data doesn't include date information. It can be obtained from Audit Opinion data.\n",
    "* See for the regulatory details: https://pcaobus.org/oversight/standards/auditing-standards/details/AS3101\n"
   ]
  },
  {
   "cell_type": "markdown",
   "id": "eed9431c-85e8-4651-a33b-2be6e56579c7",
   "metadata": {},
   "source": [
    "-------------------------"
   ]
  },
  {
   "cell_type": "markdown",
   "id": "d4bfcf5c-c883-4ac1-839b-f2c76c0284cb",
   "metadata": {},
   "source": [
    "### Import libraries"
   ]
  },
  {
   "cell_type": "code",
   "execution_count": 1,
   "id": "9cff7b80-9b0c-4cd3-a11c-cf28f63842ff",
   "metadata": {},
   "outputs": [],
   "source": [
    "import numpy as np\n",
    "import pandas as pd\n",
    "import wrds\n",
    "import matplotlib.pyplot as plt\n",
    "pd.options.display.max_columns=200"
   ]
  },
  {
   "cell_type": "markdown",
   "id": "cef880b0-014a-49b0-9e66-fc1ce372805e",
   "metadata": {},
   "source": [
    "-------------"
   ]
  },
  {
   "cell_type": "markdown",
   "id": "432f2b4a-02a6-4c58-9e6a-ffda0615342f",
   "metadata": {},
   "source": [
    "### Connect WRDS"
   ]
  },
  {
   "cell_type": "code",
   "execution_count": 2,
   "id": "3df4e730-ca27-4c67-8d76-fb5ae5c90084",
   "metadata": {},
   "outputs": [
    {
     "name": "stdin",
     "output_type": "stream",
     "text": [
      "Enter your WRDS username [yjaey]: yjaeyoon\n",
      "Enter your password: ···············\n"
     ]
    },
    {
     "name": "stdout",
     "output_type": "stream",
     "text": [
      "WRDS recommends setting up a .pgpass file.\n"
     ]
    },
    {
     "name": "stdin",
     "output_type": "stream",
     "text": [
      "Create .pgpass file now [y/n]?:  y\n"
     ]
    },
    {
     "name": "stdout",
     "output_type": "stream",
     "text": [
      "Created .pgpass file successfully.\n",
      "Loading library list...\n",
      "Done\n"
     ]
    }
   ],
   "source": [
    "conn=wrds.Connection()"
   ]
  },
  {
   "cell_type": "markdown",
   "id": "075cd192-4365-4c4e-ac79-0a640c64ae16",
   "metadata": {},
   "source": [
    "### Get variable list"
   ]
  },
  {
   "cell_type": "code",
   "execution_count": 3,
   "id": "ddf92b27-72d1-4eb2-8758-99c559e64171",
   "metadata": {},
   "outputs": [
    {
     "name": "stdout",
     "output_type": "stream",
     "text": [
      "(15223, 11)\n"
     ]
    },
    {
     "data": {
      "text/html": [
       "<div>\n",
       "<style scoped>\n",
       "    .dataframe tbody tr th:only-of-type {\n",
       "        vertical-align: middle;\n",
       "    }\n",
       "\n",
       "    .dataframe tbody tr th {\n",
       "        vertical-align: top;\n",
       "    }\n",
       "\n",
       "    .dataframe thead th {\n",
       "        text-align: right;\n",
       "    }\n",
       "</style>\n",
       "<table border=\"1\" class=\"dataframe\">\n",
       "  <thead>\n",
       "    <tr style=\"text-align: right;\">\n",
       "      <th></th>\n",
       "      <th>description</th>\n",
       "      <th>response</th>\n",
       "      <th>title</th>\n",
       "      <th>critical_audit_matter_key</th>\n",
       "      <th>reference</th>\n",
       "      <th>critical_audit_matter_topic_fkey</th>\n",
       "      <th>topic_name</th>\n",
       "      <th>audit_opinion_fkey</th>\n",
       "      <th>auditor_fkey</th>\n",
       "      <th>company_fkey</th>\n",
       "      <th>best_edgar_ticker</th>\n",
       "    </tr>\n",
       "  </thead>\n",
       "  <tbody>\n",
       "    <tr>\n",
       "      <th>0</th>\n",
       "      <td>As discussed in Note 1 to the consolidated fin...</td>\n",
       "      <td>The following are the primary procedures we pe...</td>\n",
       "      <td>Assessment of the write-down of inventories</td>\n",
       "      <td>12414.0</td>\n",
       "      <td>Note 1</td>\n",
       "      <td>45.0</td>\n",
       "      <td>Inventory</td>\n",
       "      <td>460559.0</td>\n",
       "      <td>4.0</td>\n",
       "      <td>0000001750</td>\n",
       "      <td>AIR</td>\n",
       "    </tr>\n",
       "    <tr>\n",
       "      <th>1</th>\n",
       "      <td>As discussed in Note 1 to the consolidated fin...</td>\n",
       "      <td>The following are the primary procedures we pe...</td>\n",
       "      <td>Evaluation of the estimate of costs at complet...</td>\n",
       "      <td>12415.0</td>\n",
       "      <td>Note 1</td>\n",
       "      <td>61.0</td>\n",
       "      <td>Revenue from customer contracts</td>\n",
       "      <td>460559.0</td>\n",
       "      <td>4.0</td>\n",
       "      <td>0000001750</td>\n",
       "      <td>AIR</td>\n",
       "    </tr>\n",
       "  </tbody>\n",
       "</table>\n",
       "</div>"
      ],
      "text/plain": [
       "                                         description  \\\n",
       "0  As discussed in Note 1 to the consolidated fin...   \n",
       "1  As discussed in Note 1 to the consolidated fin...   \n",
       "\n",
       "                                            response  \\\n",
       "0  The following are the primary procedures we pe...   \n",
       "1  The following are the primary procedures we pe...   \n",
       "\n",
       "                                               title  \\\n",
       "0        Assessment of the write-down of inventories   \n",
       "1  Evaluation of the estimate of costs at complet...   \n",
       "\n",
       "   critical_audit_matter_key reference  critical_audit_matter_topic_fkey  \\\n",
       "0                    12414.0    Note 1                              45.0   \n",
       "1                    12415.0    Note 1                              61.0   \n",
       "\n",
       "                        topic_name  audit_opinion_fkey  auditor_fkey  \\\n",
       "0                        Inventory            460559.0           4.0   \n",
       "1  Revenue from customer contracts            460559.0           4.0   \n",
       "\n",
       "  company_fkey best_edgar_ticker  \n",
       "0   0000001750               AIR  \n",
       "1   0000001750               AIR  "
      ]
     },
     "execution_count": 3,
     "metadata": {},
     "output_type": "execute_result"
    }
   ],
   "source": [
    "df= conn.get_table(library='audit', table='feed78_critical_audit_matter')\n",
    "print(df.shape)\n",
    "df.head(2)"
   ]
  },
  {
   "cell_type": "code",
   "execution_count": 4,
   "id": "e86143eb-f0c8-4ea5-8704-618e50c65a16",
   "metadata": {},
   "outputs": [
    {
     "data": {
      "text/html": [
       "<div>\n",
       "<style scoped>\n",
       "    .dataframe tbody tr th:only-of-type {\n",
       "        vertical-align: middle;\n",
       "    }\n",
       "\n",
       "    .dataframe tbody tr th {\n",
       "        vertical-align: top;\n",
       "    }\n",
       "\n",
       "    .dataframe thead th {\n",
       "        text-align: right;\n",
       "    }\n",
       "</style>\n",
       "<table border=\"1\" class=\"dataframe\">\n",
       "  <thead>\n",
       "    <tr style=\"text-align: right;\">\n",
       "      <th></th>\n",
       "      <th>desc</th>\n",
       "      <th>resp</th>\n",
       "      <th>title</th>\n",
       "      <th>cam_key</th>\n",
       "      <th>ref</th>\n",
       "      <th>cam_topic_key</th>\n",
       "      <th>topic_name</th>\n",
       "      <th>audit_op_key</th>\n",
       "      <th>afk</th>\n",
       "      <th>cik</th>\n",
       "      <th>tic</th>\n",
       "    </tr>\n",
       "  </thead>\n",
       "  <tbody>\n",
       "    <tr>\n",
       "      <th>0</th>\n",
       "      <td>As discussed in Note 1 to the consolidated fin...</td>\n",
       "      <td>The following are the primary procedures we pe...</td>\n",
       "      <td>Assessment of the write-down of inventories</td>\n",
       "      <td>12414.0</td>\n",
       "      <td>Note 1</td>\n",
       "      <td>45.0</td>\n",
       "      <td>Inventory</td>\n",
       "      <td>460559.0</td>\n",
       "      <td>4.0</td>\n",
       "      <td>0000001750</td>\n",
       "      <td>AIR</td>\n",
       "    </tr>\n",
       "    <tr>\n",
       "      <th>1</th>\n",
       "      <td>As discussed in Note 1 to the consolidated fin...</td>\n",
       "      <td>The following are the primary procedures we pe...</td>\n",
       "      <td>Evaluation of the estimate of costs at complet...</td>\n",
       "      <td>12415.0</td>\n",
       "      <td>Note 1</td>\n",
       "      <td>61.0</td>\n",
       "      <td>Revenue from customer contracts</td>\n",
       "      <td>460559.0</td>\n",
       "      <td>4.0</td>\n",
       "      <td>0000001750</td>\n",
       "      <td>AIR</td>\n",
       "    </tr>\n",
       "  </tbody>\n",
       "</table>\n",
       "</div>"
      ],
      "text/plain": [
       "                                                desc  \\\n",
       "0  As discussed in Note 1 to the consolidated fin...   \n",
       "1  As discussed in Note 1 to the consolidated fin...   \n",
       "\n",
       "                                                resp  \\\n",
       "0  The following are the primary procedures we pe...   \n",
       "1  The following are the primary procedures we pe...   \n",
       "\n",
       "                                               title  cam_key     ref  \\\n",
       "0        Assessment of the write-down of inventories  12414.0  Note 1   \n",
       "1  Evaluation of the estimate of costs at complet...  12415.0  Note 1   \n",
       "\n",
       "   cam_topic_key                       topic_name  audit_op_key  afk  \\\n",
       "0           45.0                        Inventory      460559.0  4.0   \n",
       "1           61.0  Revenue from customer contracts      460559.0  4.0   \n",
       "\n",
       "          cik  tic  \n",
       "0  0000001750  AIR  \n",
       "1  0000001750  AIR  "
      ]
     },
     "execution_count": 4,
     "metadata": {},
     "output_type": "execute_result"
    }
   ],
   "source": [
    "df.rename(columns={'description':'desc',\n",
    "                  'response':'resp',\n",
    "                  'critical_audit_matter_key':'cam_key',\n",
    "                  'reference':'ref',\n",
    "                  'critical_audit_matter_topic_fkey':'cam_topic_key',\n",
    "                  'audit_opinion_fkey':'audit_op_key',\n",
    "                  'auditor_fkey':'afk',\n",
    "                  'company_fkey':'cik',\n",
    "                  'best_edgar_ticker':'tic'}, inplace= True)\n",
    "df.head(2)"
   ]
  },
  {
   "cell_type": "code",
   "execution_count": 5,
   "id": "c4c028af-d851-4ca0-b439-90ad3278350b",
   "metadata": {},
   "outputs": [
    {
     "data": {
      "text/html": [
       "<div>\n",
       "<style scoped>\n",
       "    .dataframe tbody tr th:only-of-type {\n",
       "        vertical-align: middle;\n",
       "    }\n",
       "\n",
       "    .dataframe tbody tr th {\n",
       "        vertical-align: top;\n",
       "    }\n",
       "\n",
       "    .dataframe thead th {\n",
       "        text-align: right;\n",
       "    }\n",
       "</style>\n",
       "<table border=\"1\" class=\"dataframe\">\n",
       "  <thead>\n",
       "    <tr style=\"text-align: right;\">\n",
       "      <th></th>\n",
       "      <th>Unique N</th>\n",
       "    </tr>\n",
       "  </thead>\n",
       "  <tbody>\n",
       "    <tr>\n",
       "      <th>desc</th>\n",
       "      <td>14748</td>\n",
       "    </tr>\n",
       "    <tr>\n",
       "      <th>resp</th>\n",
       "      <td>14036</td>\n",
       "    </tr>\n",
       "    <tr>\n",
       "      <th>title</th>\n",
       "      <td>8976</td>\n",
       "    </tr>\n",
       "    <tr>\n",
       "      <th>cam_key</th>\n",
       "      <td>15223</td>\n",
       "    </tr>\n",
       "    <tr>\n",
       "      <th>ref</th>\n",
       "      <td>2105</td>\n",
       "    </tr>\n",
       "    <tr>\n",
       "      <th>cam_topic_key</th>\n",
       "      <td>56</td>\n",
       "    </tr>\n",
       "    <tr>\n",
       "      <th>topic_name</th>\n",
       "      <td>56</td>\n",
       "    </tr>\n",
       "    <tr>\n",
       "      <th>audit_op_key</th>\n",
       "      <td>10146</td>\n",
       "    </tr>\n",
       "    <tr>\n",
       "      <th>afk</th>\n",
       "      <td>230</td>\n",
       "    </tr>\n",
       "    <tr>\n",
       "      <th>cik</th>\n",
       "      <td>5351</td>\n",
       "    </tr>\n",
       "    <tr>\n",
       "      <th>tic</th>\n",
       "      <td>4679</td>\n",
       "    </tr>\n",
       "  </tbody>\n",
       "</table>\n",
       "</div>"
      ],
      "text/plain": [
       "               Unique N\n",
       "desc              14748\n",
       "resp              14036\n",
       "title              8976\n",
       "cam_key           15223\n",
       "ref                2105\n",
       "cam_topic_key        56\n",
       "topic_name           56\n",
       "audit_op_key      10146\n",
       "afk                 230\n",
       "cik                5351\n",
       "tic                4679"
      ]
     },
     "execution_count": 5,
     "metadata": {},
     "output_type": "execute_result"
    }
   ],
   "source": [
    "pd.DataFrame(df.nunique()).rename(columns={0:'Unique N'})"
   ]
  },
  {
   "cell_type": "markdown",
   "id": "55eaff70-942f-4bb5-b605-fc3d38a03bf1",
   "metadata": {},
   "source": [
    "----------------------"
   ]
  },
  {
   "cell_type": "markdown",
   "id": "7d417521-987d-4d0b-a64f-8bdd361edca3",
   "metadata": {},
   "source": [
    "### Distribution of CAM topics"
   ]
  },
  {
   "cell_type": "code",
   "execution_count": 6,
   "id": "cb7db433-b5d1-45f3-8cb0-dfd939773013",
   "metadata": {},
   "outputs": [
    {
     "data": {
      "text/html": [
       "<div>\n",
       "<style scoped>\n",
       "    .dataframe tbody tr th:only-of-type {\n",
       "        vertical-align: middle;\n",
       "    }\n",
       "\n",
       "    .dataframe tbody tr th {\n",
       "        vertical-align: top;\n",
       "    }\n",
       "\n",
       "    .dataframe thead th {\n",
       "        text-align: right;\n",
       "    }\n",
       "</style>\n",
       "<table border=\"1\" class=\"dataframe\">\n",
       "  <thead>\n",
       "    <tr style=\"text-align: right;\">\n",
       "      <th></th>\n",
       "      <th>topic_name</th>\n",
       "      <th>cam_key</th>\n",
       "    </tr>\n",
       "  </thead>\n",
       "  <tbody>\n",
       "    <tr>\n",
       "      <th>0</th>\n",
       "      <td>Revenue from customer contracts</td>\n",
       "      <td>1885</td>\n",
       "    </tr>\n",
       "    <tr>\n",
       "      <th>1</th>\n",
       "      <td>Goodwill</td>\n",
       "      <td>1496</td>\n",
       "    </tr>\n",
       "    <tr>\n",
       "      <th>2</th>\n",
       "      <td>Business combinations</td>\n",
       "      <td>1490</td>\n",
       "    </tr>\n",
       "    <tr>\n",
       "      <th>3</th>\n",
       "      <td>Allowance for credit losses</td>\n",
       "      <td>1030</td>\n",
       "    </tr>\n",
       "    <tr>\n",
       "      <th>4</th>\n",
       "      <td>Other contingent liabilities</td>\n",
       "      <td>728</td>\n",
       "    </tr>\n",
       "  </tbody>\n",
       "</table>\n",
       "</div>"
      ],
      "text/plain": [
       "                        topic_name  cam_key\n",
       "0  Revenue from customer contracts     1885\n",
       "1                         Goodwill     1496\n",
       "2            Business combinations     1490\n",
       "3      Allowance for credit losses     1030\n",
       "4     Other contingent liabilities      728"
      ]
     },
     "execution_count": 6,
     "metadata": {},
     "output_type": "execute_result"
    }
   ],
   "source": [
    "df_cam_key=pd.DataFrame(df.groupby('topic_name').count()['cam_key'].sort_values(ascending=False).reset_index().head(20))\n",
    "df_cam_key.head()"
   ]
  },
  {
   "cell_type": "code",
   "execution_count": 7,
   "id": "9182b7f1-ba46-4d49-b801-677bc54d72a1",
   "metadata": {},
   "outputs": [
    {
     "data": {
      "text/plain": [
       "<BarContainer object of 20 artists>"
      ]
     },
     "execution_count": 7,
     "metadata": {},
     "output_type": "execute_result"
    },
    {
     "data": {
      "image/png": "[encoded data removed]",
      "text/plain": [
       "<Figure size 720x720 with 1 Axes>"
      ]
     },
     "metadata": {
      "needs_background": "light"
     },
     "output_type": "display_data"
    }
   ],
   "source": [
    "df_cam_key= df_cam_key.sort_values('cam_key')\n",
    "fig=plt.figure(figsize=(10,10))\n",
    "plt.grid()\n",
    "plt.barh(df_cam_key.topic_name, df_cam_key.cam_key)"
   ]
  },
  {
   "cell_type": "code",
   "execution_count": 8,
   "id": "0e9cb8d9-2c13-4ccb-b8ed-071382000567",
   "metadata": {},
   "outputs": [
    {
     "data": {
      "text/html": [
       "<div>\n",
       "<style scoped>\n",
       "    .dataframe tbody tr th:only-of-type {\n",
       "        vertical-align: middle;\n",
       "    }\n",
       "\n",
       "    .dataframe tbody tr th {\n",
       "        vertical-align: top;\n",
       "    }\n",
       "\n",
       "    .dataframe thead th {\n",
       "        text-align: right;\n",
       "    }\n",
       "</style>\n",
       "<table border=\"1\" class=\"dataframe\">\n",
       "  <thead>\n",
       "    <tr style=\"text-align: right;\">\n",
       "      <th></th>\n",
       "      <th>desc</th>\n",
       "      <th>resp</th>\n",
       "      <th>title</th>\n",
       "      <th>cam_key</th>\n",
       "      <th>ref</th>\n",
       "      <th>cam_topic_key</th>\n",
       "      <th>topic_name</th>\n",
       "      <th>audit_op_key</th>\n",
       "      <th>afk</th>\n",
       "      <th>cik</th>\n",
       "      <th>tic</th>\n",
       "    </tr>\n",
       "  </thead>\n",
       "  <tbody>\n",
       "    <tr>\n",
       "      <th>0</th>\n",
       "      <td>As discussed in Note 1 to the consolidated fin...</td>\n",
       "      <td>The following are the primary procedures we pe...</td>\n",
       "      <td>Assessment of the write-down of inventories</td>\n",
       "      <td>12414.0</td>\n",
       "      <td>Note 1</td>\n",
       "      <td>45.0</td>\n",
       "      <td>Inventory</td>\n",
       "      <td>460559.0</td>\n",
       "      <td>4.0</td>\n",
       "      <td>0000001750</td>\n",
       "      <td>AIR</td>\n",
       "    </tr>\n",
       "    <tr>\n",
       "      <th>1</th>\n",
       "      <td>As discussed in Note 1 to the consolidated fin...</td>\n",
       "      <td>The following are the primary procedures we pe...</td>\n",
       "      <td>Evaluation of the estimate of costs at complet...</td>\n",
       "      <td>12415.0</td>\n",
       "      <td>Note 1</td>\n",
       "      <td>61.0</td>\n",
       "      <td>Revenue from customer contracts</td>\n",
       "      <td>460559.0</td>\n",
       "      <td>4.0</td>\n",
       "      <td>0000001750</td>\n",
       "      <td>AIR</td>\n",
       "    </tr>\n",
       "  </tbody>\n",
       "</table>\n",
       "</div>"
      ],
      "text/plain": [
       "                                                desc  \\\n",
       "0  As discussed in Note 1 to the consolidated fin...   \n",
       "1  As discussed in Note 1 to the consolidated fin...   \n",
       "\n",
       "                                                resp  \\\n",
       "0  The following are the primary procedures we pe...   \n",
       "1  The following are the primary procedures we pe...   \n",
       "\n",
       "                                               title  cam_key     ref  \\\n",
       "0        Assessment of the write-down of inventories  12414.0  Note 1   \n",
       "1  Evaluation of the estimate of costs at complet...  12415.0  Note 1   \n",
       "\n",
       "   cam_topic_key                       topic_name  audit_op_key  afk  \\\n",
       "0           45.0                        Inventory      460559.0  4.0   \n",
       "1           61.0  Revenue from customer contracts      460559.0  4.0   \n",
       "\n",
       "          cik  tic  \n",
       "0  0000001750  AIR  \n",
       "1  0000001750  AIR  "
      ]
     },
     "execution_count": 8,
     "metadata": {},
     "output_type": "execute_result"
    }
   ],
   "source": [
    "df.head(2)"
   ]
  },
  {
   "cell_type": "markdown",
   "id": "36e6381e-b352-4185-bd3b-cec4414edaa8",
   "metadata": {},
   "source": [
    "### How many CAMs for each audit report?"
   ]
  },
  {
   "cell_type": "code",
   "execution_count": 9,
   "id": "26fb89bd-ac6e-46d7-a98d-77a24a63c12b",
   "metadata": {},
   "outputs": [
    {
     "data": {
      "text/html": [
       "<div>\n",
       "<style scoped>\n",
       "    .dataframe tbody tr th:only-of-type {\n",
       "        vertical-align: middle;\n",
       "    }\n",
       "\n",
       "    .dataframe tbody tr th {\n",
       "        vertical-align: top;\n",
       "    }\n",
       "\n",
       "    .dataframe thead th {\n",
       "        text-align: right;\n",
       "    }\n",
       "</style>\n",
       "<table border=\"1\" class=\"dataframe\">\n",
       "  <thead>\n",
       "    <tr style=\"text-align: right;\">\n",
       "      <th></th>\n",
       "      <th>cam_N</th>\n",
       "      <th>N</th>\n",
       "    </tr>\n",
       "  </thead>\n",
       "  <tbody>\n",
       "    <tr>\n",
       "      <th>0</th>\n",
       "      <td>1</td>\n",
       "      <td>6331</td>\n",
       "    </tr>\n",
       "    <tr>\n",
       "      <th>1</th>\n",
       "      <td>2</td>\n",
       "      <td>2812</td>\n",
       "    </tr>\n",
       "    <tr>\n",
       "      <th>2</th>\n",
       "      <td>3</td>\n",
       "      <td>794</td>\n",
       "    </tr>\n",
       "    <tr>\n",
       "      <th>3</th>\n",
       "      <td>4</td>\n",
       "      <td>171</td>\n",
       "    </tr>\n",
       "    <tr>\n",
       "      <th>4</th>\n",
       "      <td>5</td>\n",
       "      <td>29</td>\n",
       "    </tr>\n",
       "    <tr>\n",
       "      <th>5</th>\n",
       "      <td>6</td>\n",
       "      <td>6</td>\n",
       "    </tr>\n",
       "    <tr>\n",
       "      <th>6</th>\n",
       "      <td>7</td>\n",
       "      <td>3</td>\n",
       "    </tr>\n",
       "  </tbody>\n",
       "</table>\n",
       "</div>"
      ],
      "text/plain": [
       "  cam_N     N\n",
       "0     1  6331\n",
       "1     2  2812\n",
       "2     3   794\n",
       "3     4   171\n",
       "4     5    29\n",
       "5     6     6\n",
       "6     7     3"
      ]
     },
     "execution_count": 9,
     "metadata": {},
     "output_type": "execute_result"
    }
   ],
   "source": [
    "df_cam_n= pd.DataFrame(df.groupby('audit_op_key').agg({'cam_topic_key':'count'}).value_counts()).reset_index().rename(columns={'cam_topic_key':'cam_N', 0:'N'})\n",
    "df_cam_n['cam_N']= df_cam_n['cam_N'].astype('str')\n",
    "df_cam_n"
   ]
  },
  {
   "cell_type": "code",
   "execution_count": 10,
   "id": "2be75e65-ed94-4d73-9034-0899732b9599",
   "metadata": {},
   "outputs": [
    {
     "data": {
      "image/png": "[encoded data removed]",
      "text/plain": [
       "<Figure size 360x360 with 1 Axes>"
      ]
     },
     "metadata": {
      "needs_background": "light"
     },
     "output_type": "display_data"
    }
   ],
   "source": [
    "fig=plt.figure(figsize=(5,5))\n",
    "plt.grid()\n",
    "plt.barh(df_cam_n.cam_N, df_cam_n.N)\n",
    "plt.show()"
   ]
  },
  {
   "cell_type": "code",
   "execution_count": 11,
   "id": "60f91f6f-2f4c-41c2-87d0-cf5fe61a39c1",
   "metadata": {},
   "outputs": [],
   "source": [
    "# df_cam_n.to_csv('data\\cam.csv')"
   ]
  },
  {
   "cell_type": "markdown",
   "id": "08b57228-4a52-48c6-982e-1696defd9358",
   "metadata": {},
   "source": [
    "-----------"
   ]
  },
  {
   "cell_type": "markdown",
   "id": "d42dacb5-7716-46a7-a50d-ebc9d3f838f9",
   "metadata": {},
   "source": [
    "### Close connection"
   ]
  },
  {
   "cell_type": "code",
   "execution_count": 12,
   "id": "d84df791-a599-45ff-8685-3cab71445551",
   "metadata": {},
   "outputs": [],
   "source": [
    "conn.close()"
   ]
  },
  {
   "cell_type": "markdown",
   "id": "dbb9616d-0ae8-4fea-b2bd-0c9d1605ab89",
   "metadata": {},
   "source": [
    "-------------"
   ]
  }
 ],
 "metadata": {
  "kernelspec": {
   "display_name": "sec",
   "language": "python",
   "name": "sec"
  },
  "language_info": {
   "codemirror_mode": {
    "name": "ipython",
    "version": 3
   },
   "file_extension": ".py",
   "mimetype": "text/x-python",
   "name": "python",
   "nbconvert_exporter": "python",
   "pygments_lexer": "ipython3",
   "version": "3.8.8"
  },
  "widgets": {
   "application/vnd.jupyter.widget-state+json": {
    "state": {},
    "version_major": 2,
    "version_minor": 0
   }
  }
 },
 "nbformat": 4,
 "nbformat_minor": 5
}
