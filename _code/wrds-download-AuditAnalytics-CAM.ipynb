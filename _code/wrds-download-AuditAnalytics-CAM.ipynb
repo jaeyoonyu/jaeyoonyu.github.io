{
 "cells": [
  {
   "cell_type": "markdown",
   "id": "4633cce5-ba97-4631-bce1-fbb65c5dea66",
   "metadata": {},
   "source": [
    "## Download CAM set from Audit Analytics data from WRDS\n",
    "* For Large-accelerated filers (LAFs): CAM is effective for audits of fiscal years ending on or after <b>June 30, 2019</b>.\n",
    "* For the others: CAM is effective for audits of fiscal years ending on or after <b>Dec. 15, 2020</b>.\n",
    "* Audit Analytics CAM data doesn't include date information. It can be obtained from Audit Opinion data.\n",
    "* See for the regulatory details: https://pcaobus.org/oversight/standards/auditing-standards/details/AS3101\n"
   ]
  },
  {
   "cell_type": "markdown",
   "id": "eed9431c-85e8-4651-a33b-2be6e56579c7",
   "metadata": {},
   "source": [
    "-------------------------"
   ]
  },
  {
   "cell_type": "markdown",
   "id": "d4bfcf5c-c883-4ac1-839b-f2c76c0284cb",
   "metadata": {},
   "source": [
    "### Import libraries"
   ]
  },
  {
   "cell_type": "code",
   "execution_count": 1,
   "id": "9cff7b80-9b0c-4cd3-a11c-cf28f63842ff",
   "metadata": {},
   "outputs": [],
   "source": [
    "import numpy as np\n",
    "import pandas as pd\n",
    "import wrds\n",
    "import matplotlib.pyplot as plt\n",
    "pd.options.display.max_columns=200"
   ]
  },
  {
   "cell_type": "markdown",
   "id": "cef880b0-014a-49b0-9e66-fc1ce372805e",
   "metadata": {},
   "source": [
    "-------------"
   ]
  },
  {
   "cell_type": "markdown",
   "id": "432f2b4a-02a6-4c58-9e6a-ffda0615342f",
   "metadata": {},
   "source": [
    "### Connect WRDS"
   ]
  },
  {
   "cell_type": "code",
   "execution_count": 2,
   "id": "3df4e730-ca27-4c67-8d76-fb5ae5c90084",
   "metadata": {},
   "outputs": [
    {
     "name": "stdin",
     "output_type": "stream",
     "text": [
      "Enter your WRDS username [yjaey]: yjaeyoon\n",
      "Enter your password: ···············\n"
     ]
    },
    {
     "name": "stdout",
     "output_type": "stream",
     "text": [
      "WRDS recommends setting up a .pgpass file.\n"
     ]
    },
    {
     "name": "stdin",
     "output_type": "stream",
     "text": [
      "Create .pgpass file now [y/n]?:  y\n"
     ]
    },
    {
     "name": "stdout",
     "output_type": "stream",
     "text": [
      "Created .pgpass file successfully.\n",
      "Loading library list...\n",
      "Done\n"
     ]
    }
   ],
   "source": [
    "conn=wrds.Connection()"
   ]
  },
  {
   "cell_type": "markdown",
   "id": "44b54660-3a21-41be-9d53-ac93b33325a6",
   "metadata": {},
   "source": [
    "-----------"
   ]
  },
  {
   "cell_type": "markdown",
   "id": "db528758-debd-4f70-85f6-c3e00a75994f",
   "metadata": {},
   "source": [
    "## Download data: CAM, Audit Opinions, Client info"
   ]
  },
  {
   "cell_type": "code",
   "execution_count": 3,
   "id": "170630ac-6249-45c6-9eed-2b6ee3a05a23",
   "metadata": {},
   "outputs": [],
   "source": [
    "# Audit Analytics dataSets to load \n",
    "\n",
    "aa_opin=    \"audit.auditopin\"\n",
    "aa_company= \"audit.auditcblock\"\n",
    "aa_cam=     \"feed78_critical_audit_matter\""
   ]
  },
  {
   "cell_type": "markdown",
   "id": "7fbdd560-7553-49af-8f2c-5e6c8d3f6d26",
   "metadata": {},
   "source": [
    "### Get CAM"
   ]
  },
  {
   "cell_type": "code",
   "execution_count": 4,
   "id": "317a2970-93d4-4663-9709-a2ea395daf8e",
   "metadata": {},
   "outputs": [
    {
     "name": "stdout",
     "output_type": "stream",
     "text": [
      "(21146, 11)\n"
     ]
    },
    {
     "data": {
      "text/html": [
       "<div>\n",
       "<style scoped>\n",
       "    .dataframe tbody tr th:only-of-type {\n",
       "        vertical-align: middle;\n",
       "    }\n",
       "\n",
       "    .dataframe tbody tr th {\n",
       "        vertical-align: top;\n",
       "    }\n",
       "\n",
       "    .dataframe thead th {\n",
       "        text-align: right;\n",
       "    }\n",
       "</style>\n",
       "<table border=\"1\" class=\"dataframe\">\n",
       "  <thead>\n",
       "    <tr style=\"text-align: right;\">\n",
       "      <th></th>\n",
       "      <th>description</th>\n",
       "      <th>response</th>\n",
       "      <th>title</th>\n",
       "      <th>critical_audit_matter_key</th>\n",
       "      <th>reference</th>\n",
       "      <th>critical_audit_matter_topic_fkey</th>\n",
       "      <th>topic_name</th>\n",
       "      <th>audit_opinion_fkey</th>\n",
       "      <th>auditor_fkey</th>\n",
       "      <th>company_fkey</th>\n",
       "      <th>best_edgar_ticker</th>\n",
       "    </tr>\n",
       "  </thead>\n",
       "  <tbody>\n",
       "    <tr>\n",
       "      <th>0</th>\n",
       "      <td>As discussed in Note 1 to the consolidated fin...</td>\n",
       "      <td>The following are the primary procedures we pe...</td>\n",
       "      <td>Assessment of the write-down of inventories</td>\n",
       "      <td>12414.0</td>\n",
       "      <td>Note 1</td>\n",
       "      <td>45.0</td>\n",
       "      <td>Inventory</td>\n",
       "      <td>460559.0</td>\n",
       "      <td>4.0</td>\n",
       "      <td>0000001750</td>\n",
       "      <td>AIR</td>\n",
       "    </tr>\n",
       "    <tr>\n",
       "      <th>1</th>\n",
       "      <td>As discussed in Note 1 to the consolidated fin...</td>\n",
       "      <td>The following are the primary procedures we pe...</td>\n",
       "      <td>Evaluation of the estimate of costs at complet...</td>\n",
       "      <td>12415.0</td>\n",
       "      <td>Note 1</td>\n",
       "      <td>61.0</td>\n",
       "      <td>Revenue from customer contracts</td>\n",
       "      <td>460559.0</td>\n",
       "      <td>4.0</td>\n",
       "      <td>0000001750</td>\n",
       "      <td>AIR</td>\n",
       "    </tr>\n",
       "  </tbody>\n",
       "</table>\n",
       "</div>"
      ],
      "text/plain": [
       "                                         description  \\\n",
       "0  As discussed in Note 1 to the consolidated fin...   \n",
       "1  As discussed in Note 1 to the consolidated fin...   \n",
       "\n",
       "                                            response  \\\n",
       "0  The following are the primary procedures we pe...   \n",
       "1  The following are the primary procedures we pe...   \n",
       "\n",
       "                                               title  \\\n",
       "0        Assessment of the write-down of inventories   \n",
       "1  Evaluation of the estimate of costs at complet...   \n",
       "\n",
       "   critical_audit_matter_key reference  critical_audit_matter_topic_fkey  \\\n",
       "0                    12414.0    Note 1                              45.0   \n",
       "1                    12415.0    Note 1                              61.0   \n",
       "\n",
       "                        topic_name  audit_opinion_fkey  auditor_fkey  \\\n",
       "0                        Inventory            460559.0           4.0   \n",
       "1  Revenue from customer contracts            460559.0           4.0   \n",
       "\n",
       "  company_fkey best_edgar_ticker  \n",
       "0   0000001750               AIR  \n",
       "1   0000001750               AIR  "
      ]
     },
     "execution_count": 4,
     "metadata": {},
     "output_type": "execute_result"
    }
   ],
   "source": [
    "cam= conn.get_table(library='audit', table=aa_cam)\n",
    "print(cam.shape)\n",
    "cam.head(2)"
   ]
  },
  {
   "cell_type": "code",
   "execution_count": 5,
   "id": "3e9dade3-a05a-414d-953a-f707269b36c1",
   "metadata": {},
   "outputs": [
    {
     "data": {
      "text/html": [
       "<div>\n",
       "<style scoped>\n",
       "    .dataframe tbody tr th:only-of-type {\n",
       "        vertical-align: middle;\n",
       "    }\n",
       "\n",
       "    .dataframe tbody tr th {\n",
       "        vertical-align: top;\n",
       "    }\n",
       "\n",
       "    .dataframe thead th {\n",
       "        text-align: right;\n",
       "    }\n",
       "</style>\n",
       "<table border=\"1\" class=\"dataframe\">\n",
       "  <thead>\n",
       "    <tr style=\"text-align: right;\">\n",
       "      <th></th>\n",
       "      <th>desc</th>\n",
       "      <th>resp</th>\n",
       "      <th>title</th>\n",
       "      <th>cam_key</th>\n",
       "      <th>ref</th>\n",
       "      <th>cam_topic_key</th>\n",
       "      <th>topic_name</th>\n",
       "      <th>audit_op_key</th>\n",
       "      <th>afk</th>\n",
       "      <th>cik</th>\n",
       "      <th>tic</th>\n",
       "    </tr>\n",
       "  </thead>\n",
       "  <tbody>\n",
       "    <tr>\n",
       "      <th>0</th>\n",
       "      <td>As discussed in Note 1 to the consolidated fin...</td>\n",
       "      <td>The following are the primary procedures we pe...</td>\n",
       "      <td>Assessment of the write-down of inventories</td>\n",
       "      <td>12414.0</td>\n",
       "      <td>Note 1</td>\n",
       "      <td>45.0</td>\n",
       "      <td>Inventory</td>\n",
       "      <td>460559.0</td>\n",
       "      <td>4.0</td>\n",
       "      <td>0000001750</td>\n",
       "      <td>AIR</td>\n",
       "    </tr>\n",
       "    <tr>\n",
       "      <th>1</th>\n",
       "      <td>As discussed in Note 1 to the consolidated fin...</td>\n",
       "      <td>The following are the primary procedures we pe...</td>\n",
       "      <td>Evaluation of the estimate of costs at complet...</td>\n",
       "      <td>12415.0</td>\n",
       "      <td>Note 1</td>\n",
       "      <td>61.0</td>\n",
       "      <td>Revenue from customer contracts</td>\n",
       "      <td>460559.0</td>\n",
       "      <td>4.0</td>\n",
       "      <td>0000001750</td>\n",
       "      <td>AIR</td>\n",
       "    </tr>\n",
       "  </tbody>\n",
       "</table>\n",
       "</div>"
      ],
      "text/plain": [
       "                                                desc  \\\n",
       "0  As discussed in Note 1 to the consolidated fin...   \n",
       "1  As discussed in Note 1 to the consolidated fin...   \n",
       "\n",
       "                                                resp  \\\n",
       "0  The following are the primary procedures we pe...   \n",
       "1  The following are the primary procedures we pe...   \n",
       "\n",
       "                                               title  cam_key     ref  \\\n",
       "0        Assessment of the write-down of inventories  12414.0  Note 1   \n",
       "1  Evaluation of the estimate of costs at complet...  12415.0  Note 1   \n",
       "\n",
       "   cam_topic_key                       topic_name  audit_op_key  afk  \\\n",
       "0           45.0                        Inventory      460559.0  4.0   \n",
       "1           61.0  Revenue from customer contracts      460559.0  4.0   \n",
       "\n",
       "          cik  tic  \n",
       "0  0000001750  AIR  \n",
       "1  0000001750  AIR  "
      ]
     },
     "execution_count": 5,
     "metadata": {},
     "output_type": "execute_result"
    }
   ],
   "source": [
    "cam.rename(columns={'description':'desc',\n",
    "                  'response':'resp',\n",
    "                  'critical_audit_matter_key':'cam_key',\n",
    "                  'reference':'ref',\n",
    "                  'critical_audit_matter_topic_fkey':'cam_topic_key',\n",
    "                  'audit_opinion_fkey':'audit_op_key',\n",
    "                  'auditor_fkey':'afk',\n",
    "                  'company_fkey':'cik',\n",
    "                  'best_edgar_ticker':'tic'}, inplace= True)\n",
    "cam.head(2)"
   ]
  },
  {
   "cell_type": "markdown",
   "id": "08bc82fb-0368-48a1-ab29-fd283a72cdfc",
   "metadata": {},
   "source": [
    "### Get auditopin + client info"
   ]
  },
  {
   "cell_type": "code",
   "execution_count": 6,
   "id": "a369ce32-a800-4698-948f-3abdf2f49973",
   "metadata": {},
   "outputs": [
    {
     "name": "stdout",
     "output_type": "stream",
     "text": [
      "(39933, 5)\n"
     ]
    },
    {
     "data": {
      "text/html": [
       "<div>\n",
       "<style scoped>\n",
       "    .dataframe tbody tr th:only-of-type {\n",
       "        vertical-align: middle;\n",
       "    }\n",
       "\n",
       "    .dataframe tbody tr th {\n",
       "        vertical-align: top;\n",
       "    }\n",
       "\n",
       "    .dataframe thead th {\n",
       "        text-align: right;\n",
       "    }\n",
       "</style>\n",
       "<table border=\"1\" class=\"dataframe\">\n",
       "  <thead>\n",
       "    <tr style=\"text-align: right;\">\n",
       "      <th></th>\n",
       "      <th>name</th>\n",
       "      <th>sic</th>\n",
       "      <th>fiscal_year_of_op</th>\n",
       "      <th>fiscal_year_end_op</th>\n",
       "      <th>audit_op_key</th>\n",
       "    </tr>\n",
       "  </thead>\n",
       "  <tbody>\n",
       "    <tr>\n",
       "      <th>0</th>\n",
       "      <td>AAR CORP</td>\n",
       "      <td>3720</td>\n",
       "      <td>2019.0</td>\n",
       "      <td>2019-05-31</td>\n",
       "      <td>407089.0</td>\n",
       "    </tr>\n",
       "    <tr>\n",
       "      <th>1</th>\n",
       "      <td>AAR CORP</td>\n",
       "      <td>3720</td>\n",
       "      <td>2020.0</td>\n",
       "      <td>2020-05-31</td>\n",
       "      <td>429723.0</td>\n",
       "    </tr>\n",
       "  </tbody>\n",
       "</table>\n",
       "</div>"
      ],
      "text/plain": [
       "       name   sic  fiscal_year_of_op fiscal_year_end_op  audit_op_key\n",
       "0  AAR CORP  3720             2019.0         2019-05-31      407089.0\n",
       "1  AAR CORP  3720             2020.0         2020-05-31      429723.0"
      ]
     },
     "execution_count": 6,
     "metadata": {},
     "output_type": "execute_result"
    }
   ],
   "source": [
    "auditop=conn.raw_sql(f\"\"\"select \n",
    "                        b.name,\n",
    "                        b.sic_code_fkey as sic,\n",
    "                        a.fiscal_year_of_op,\n",
    "                        a.fiscal_year_end_op,\n",
    "                        a.audit_op_key\n",
    "                            \n",
    "                from {aa_opin} a, {aa_company} b \n",
    "                where a.fiscal_year_of_op >= 2019 and a.company_fkey= b.company_fkey\"\"\")\n",
    "print(auditop.shape)\n",
    "auditop.head(2)"
   ]
  },
  {
   "cell_type": "markdown",
   "id": "98fe3c31-bbfc-42f4-ab49-19c7490df55a",
   "metadata": {},
   "source": [
    "--------------"
   ]
  },
  {
   "cell_type": "markdown",
   "id": "49f4a8d8-d14b-459b-b362-6f79344b256a",
   "metadata": {},
   "source": [
    "## Merge data - at the <em>firm-cam-year</em> level"
   ]
  },
  {
   "cell_type": "code",
   "execution_count": 7,
   "id": "9c698b5e-7fe4-4a8c-adaa-20b362e2f5a7",
   "metadata": {},
   "outputs": [
    {
     "name": "stdout",
     "output_type": "stream",
     "text": [
      "(17648, 15)\n"
     ]
    },
    {
     "data": {
      "text/html": [
       "<div>\n",
       "<style scoped>\n",
       "    .dataframe tbody tr th:only-of-type {\n",
       "        vertical-align: middle;\n",
       "    }\n",
       "\n",
       "    .dataframe tbody tr th {\n",
       "        vertical-align: top;\n",
       "    }\n",
       "\n",
       "    .dataframe thead th {\n",
       "        text-align: right;\n",
       "    }\n",
       "</style>\n",
       "<table border=\"1\" class=\"dataframe\">\n",
       "  <thead>\n",
       "    <tr style=\"text-align: right;\">\n",
       "      <th></th>\n",
       "      <th>desc</th>\n",
       "      <th>resp</th>\n",
       "      <th>title</th>\n",
       "      <th>cam_key</th>\n",
       "      <th>ref</th>\n",
       "      <th>cam_topic_key</th>\n",
       "      <th>topic_name</th>\n",
       "      <th>audit_op_key</th>\n",
       "      <th>afk</th>\n",
       "      <th>cik</th>\n",
       "      <th>tic</th>\n",
       "      <th>name</th>\n",
       "      <th>sic</th>\n",
       "      <th>fiscal_year_of_op</th>\n",
       "      <th>fiscal_year_end_op</th>\n",
       "    </tr>\n",
       "  </thead>\n",
       "  <tbody>\n",
       "    <tr>\n",
       "      <th>0</th>\n",
       "      <td>As discussed in Note 1 to the consolidated fin...</td>\n",
       "      <td>The following are the primary procedures we pe...</td>\n",
       "      <td>Assessment of the write-down of inventories</td>\n",
       "      <td>12414.0</td>\n",
       "      <td>Note 1</td>\n",
       "      <td>45.0</td>\n",
       "      <td>Inventory</td>\n",
       "      <td>460559.0</td>\n",
       "      <td>4.0</td>\n",
       "      <td>0000001750</td>\n",
       "      <td>AIR</td>\n",
       "      <td>AAR CORP</td>\n",
       "      <td>3720</td>\n",
       "      <td>2021.0</td>\n",
       "      <td>2021-05-31</td>\n",
       "    </tr>\n",
       "    <tr>\n",
       "      <th>1</th>\n",
       "      <td>As discussed in Note 1 to the consolidated fin...</td>\n",
       "      <td>The following are the primary procedures we pe...</td>\n",
       "      <td>Evaluation of the estimate of costs at complet...</td>\n",
       "      <td>12415.0</td>\n",
       "      <td>Note 1</td>\n",
       "      <td>61.0</td>\n",
       "      <td>Revenue from customer contracts</td>\n",
       "      <td>460559.0</td>\n",
       "      <td>4.0</td>\n",
       "      <td>0000001750</td>\n",
       "      <td>AIR</td>\n",
       "      <td>AAR CORP</td>\n",
       "      <td>3720</td>\n",
       "      <td>2021.0</td>\n",
       "      <td>2021-05-31</td>\n",
       "    </tr>\n",
       "  </tbody>\n",
       "</table>\n",
       "</div>"
      ],
      "text/plain": [
       "                                                desc  \\\n",
       "0  As discussed in Note 1 to the consolidated fin...   \n",
       "1  As discussed in Note 1 to the consolidated fin...   \n",
       "\n",
       "                                                resp  \\\n",
       "0  The following are the primary procedures we pe...   \n",
       "1  The following are the primary procedures we pe...   \n",
       "\n",
       "                                               title  cam_key     ref  \\\n",
       "0        Assessment of the write-down of inventories  12414.0  Note 1   \n",
       "1  Evaluation of the estimate of costs at complet...  12415.0  Note 1   \n",
       "\n",
       "   cam_topic_key                       topic_name  audit_op_key  afk  \\\n",
       "0           45.0                        Inventory      460559.0  4.0   \n",
       "1           61.0  Revenue from customer contracts      460559.0  4.0   \n",
       "\n",
       "          cik  tic      name   sic  fiscal_year_of_op fiscal_year_end_op  \n",
       "0  0000001750  AIR  AAR CORP  3720             2021.0         2021-05-31  \n",
       "1  0000001750  AIR  AAR CORP  3720             2021.0         2021-05-31  "
      ]
     },
     "execution_count": 7,
     "metadata": {},
     "output_type": "execute_result"
    }
   ],
   "source": [
    "df= cam.merge(right= auditop, on= 'audit_op_key')\n",
    "print(df.shape)\n",
    "df.head(2)"
   ]
  },
  {
   "cell_type": "code",
   "execution_count": 8,
   "id": "515bd5ae-0f81-452b-8d33-4ff121b80231",
   "metadata": {},
   "outputs": [
    {
     "data": {
      "text/plain": [
       "desc                  17133\n",
       "resp                  16188\n",
       "title                  9883\n",
       "cam_key               17648\n",
       "ref                    2338\n",
       "cam_topic_key            56\n",
       "topic_name               56\n",
       "audit_op_key          11975\n",
       "afk                     244\n",
       "cik                    5588\n",
       "tic                    4842\n",
       "name                   5588\n",
       "sic                     396\n",
       "fiscal_year_of_op         4\n",
       "fiscal_year_end_op      160\n",
       "dtype: int64"
      ]
     },
     "execution_count": 8,
     "metadata": {},
     "output_type": "execute_result"
    }
   ],
   "source": [
    "df.nunique()"
   ]
  },
  {
   "cell_type": "code",
   "execution_count": 9,
   "id": "2e34643e-a5c0-4ff5-ad07-0609c4187ac1",
   "metadata": {},
   "outputs": [
    {
     "data": {
      "text/html": [
       "<div>\n",
       "<style scoped>\n",
       "    .dataframe tbody tr th:only-of-type {\n",
       "        vertical-align: middle;\n",
       "    }\n",
       "\n",
       "    .dataframe tbody tr th {\n",
       "        vertical-align: top;\n",
       "    }\n",
       "\n",
       "    .dataframe thead th {\n",
       "        text-align: right;\n",
       "    }\n",
       "</style>\n",
       "<table border=\"1\" class=\"dataframe\">\n",
       "  <thead>\n",
       "    <tr style=\"text-align: right;\">\n",
       "      <th></th>\n",
       "      <th>desc</th>\n",
       "      <th>resp</th>\n",
       "      <th>title</th>\n",
       "      <th>cam_key</th>\n",
       "      <th>ref</th>\n",
       "      <th>cam_topic_key</th>\n",
       "      <th>topic_name</th>\n",
       "      <th>audit_op_key</th>\n",
       "      <th>afk</th>\n",
       "      <th>cik</th>\n",
       "      <th>tic</th>\n",
       "      <th>name</th>\n",
       "      <th>sic</th>\n",
       "      <th>fiscal_year_of_op</th>\n",
       "      <th>fiscal_year_end_op</th>\n",
       "      <th>y</th>\n",
       "      <th>m</th>\n",
       "      <th>fy</th>\n",
       "    </tr>\n",
       "  </thead>\n",
       "  <tbody>\n",
       "    <tr>\n",
       "      <th>0</th>\n",
       "      <td>As discussed in Note 1 to the consolidated fin...</td>\n",
       "      <td>The following are the primary procedures we pe...</td>\n",
       "      <td>Assessment of the write-down of inventories</td>\n",
       "      <td>12414.0</td>\n",
       "      <td>Note 1</td>\n",
       "      <td>45.0</td>\n",
       "      <td>Inventory</td>\n",
       "      <td>460559.0</td>\n",
       "      <td>4.0</td>\n",
       "      <td>0000001750</td>\n",
       "      <td>AIR</td>\n",
       "      <td>AAR CORP</td>\n",
       "      <td>3720</td>\n",
       "      <td>2021.0</td>\n",
       "      <td>2021-05-31</td>\n",
       "      <td>2021</td>\n",
       "      <td>5</td>\n",
       "      <td>2020</td>\n",
       "    </tr>\n",
       "    <tr>\n",
       "      <th>1</th>\n",
       "      <td>As discussed in Note 1 to the consolidated fin...</td>\n",
       "      <td>The following are the primary procedures we pe...</td>\n",
       "      <td>Evaluation of the estimate of costs at complet...</td>\n",
       "      <td>12415.0</td>\n",
       "      <td>Note 1</td>\n",
       "      <td>61.0</td>\n",
       "      <td>Revenue from customer contracts</td>\n",
       "      <td>460559.0</td>\n",
       "      <td>4.0</td>\n",
       "      <td>0000001750</td>\n",
       "      <td>AIR</td>\n",
       "      <td>AAR CORP</td>\n",
       "      <td>3720</td>\n",
       "      <td>2021.0</td>\n",
       "      <td>2021-05-31</td>\n",
       "      <td>2021</td>\n",
       "      <td>5</td>\n",
       "      <td>2020</td>\n",
       "    </tr>\n",
       "  </tbody>\n",
       "</table>\n",
       "</div>"
      ],
      "text/plain": [
       "                                                desc  \\\n",
       "0  As discussed in Note 1 to the consolidated fin...   \n",
       "1  As discussed in Note 1 to the consolidated fin...   \n",
       "\n",
       "                                                resp  \\\n",
       "0  The following are the primary procedures we pe...   \n",
       "1  The following are the primary procedures we pe...   \n",
       "\n",
       "                                               title  cam_key     ref  \\\n",
       "0        Assessment of the write-down of inventories  12414.0  Note 1   \n",
       "1  Evaluation of the estimate of costs at complet...  12415.0  Note 1   \n",
       "\n",
       "   cam_topic_key                       topic_name  audit_op_key  afk  \\\n",
       "0           45.0                        Inventory      460559.0  4.0   \n",
       "1           61.0  Revenue from customer contracts      460559.0  4.0   \n",
       "\n",
       "          cik  tic      name   sic  fiscal_year_of_op fiscal_year_end_op  \\\n",
       "0  0000001750  AIR  AAR CORP  3720             2021.0         2021-05-31   \n",
       "1  0000001750  AIR  AAR CORP  3720             2021.0         2021-05-31   \n",
       "\n",
       "      y  m    fy  \n",
       "0  2021  5  2020  \n",
       "1  2021  5  2020  "
      ]
     },
     "execution_count": 9,
     "metadata": {},
     "output_type": "execute_result"
    }
   ],
   "source": [
    "df['y']= pd.to_datetime(df['fiscal_year_end_op']).dt.year\n",
    "df['m']= pd.to_datetime(df['fiscal_year_end_op']).dt.month\n",
    "df['fy']=df['y']\n",
    "df.loc[df['m']<=5, 'fy']= df['y']-1\n",
    "df.head(2)"
   ]
  },
  {
   "cell_type": "markdown",
   "id": "55eaff70-942f-4bb5-b605-fc3d38a03bf1",
   "metadata": {},
   "source": [
    "----------------------"
   ]
  },
  {
   "cell_type": "markdown",
   "id": "5615ce6d-9382-4cf7-83ba-8bdc78e43f13",
   "metadata": {},
   "source": [
    "## Inspection with visualization"
   ]
  },
  {
   "cell_type": "markdown",
   "id": "7d417521-987d-4d0b-a64f-8bdd361edca3",
   "metadata": {},
   "source": [
    "### Distribution of CAM topics"
   ]
  },
  {
   "cell_type": "code",
   "execution_count": 10,
   "id": "c5f2e9df-ab91-46dc-b3ac-157ba5d6d8f8",
   "metadata": {},
   "outputs": [
    {
     "data": {
      "text/html": [
       "<div>\n",
       "<style scoped>\n",
       "    .dataframe tbody tr th:only-of-type {\n",
       "        vertical-align: middle;\n",
       "    }\n",
       "\n",
       "    .dataframe tbody tr th {\n",
       "        vertical-align: top;\n",
       "    }\n",
       "\n",
       "    .dataframe thead th {\n",
       "        text-align: right;\n",
       "    }\n",
       "</style>\n",
       "<table border=\"1\" class=\"dataframe\">\n",
       "  <thead>\n",
       "    <tr style=\"text-align: right;\">\n",
       "      <th></th>\n",
       "      <th>topic_name</th>\n",
       "      <th>cam_key</th>\n",
       "    </tr>\n",
       "  </thead>\n",
       "  <tbody>\n",
       "    <tr>\n",
       "      <th>0</th>\n",
       "      <td>Revenue from customer contracts</td>\n",
       "      <td>2215</td>\n",
       "    </tr>\n",
       "    <tr>\n",
       "      <th>1</th>\n",
       "      <td>Business combinations</td>\n",
       "      <td>1743</td>\n",
       "    </tr>\n",
       "    <tr>\n",
       "      <th>2</th>\n",
       "      <td>Goodwill</td>\n",
       "      <td>1656</td>\n",
       "    </tr>\n",
       "    <tr>\n",
       "      <th>3</th>\n",
       "      <td>Allowance for credit losses</td>\n",
       "      <td>1208</td>\n",
       "    </tr>\n",
       "    <tr>\n",
       "      <th>4</th>\n",
       "      <td>Other contingent liabilities</td>\n",
       "      <td>775</td>\n",
       "    </tr>\n",
       "    <tr>\n",
       "      <th>5</th>\n",
       "      <td>Inventory</td>\n",
       "      <td>664</td>\n",
       "    </tr>\n",
       "    <tr>\n",
       "      <th>6</th>\n",
       "      <td>Other investments</td>\n",
       "      <td>606</td>\n",
       "    </tr>\n",
       "    <tr>\n",
       "      <th>7</th>\n",
       "      <td>Deferred income taxes</td>\n",
       "      <td>524</td>\n",
       "    </tr>\n",
       "    <tr>\n",
       "      <th>8</th>\n",
       "      <td>Long-lived assets</td>\n",
       "      <td>517</td>\n",
       "    </tr>\n",
       "    <tr>\n",
       "      <th>9</th>\n",
       "      <td>Other intangible assets</td>\n",
       "      <td>503</td>\n",
       "    </tr>\n",
       "    <tr>\n",
       "      <th>10</th>\n",
       "      <td>Other debt</td>\n",
       "      <td>482</td>\n",
       "    </tr>\n",
       "    <tr>\n",
       "      <th>11</th>\n",
       "      <td>Property, plant and equipment</td>\n",
       "      <td>472</td>\n",
       "    </tr>\n",
       "    <tr>\n",
       "      <th>12</th>\n",
       "      <td>Uncertain tax positions</td>\n",
       "      <td>465</td>\n",
       "    </tr>\n",
       "    <tr>\n",
       "      <th>13</th>\n",
       "      <td>Sales return and allowances</td>\n",
       "      <td>397</td>\n",
       "    </tr>\n",
       "    <tr>\n",
       "      <th>14</th>\n",
       "      <td>Going concern</td>\n",
       "      <td>384</td>\n",
       "    </tr>\n",
       "    <tr>\n",
       "      <th>15</th>\n",
       "      <td>Regulatory assets and liabilities</td>\n",
       "      <td>357</td>\n",
       "    </tr>\n",
       "    <tr>\n",
       "      <th>16</th>\n",
       "      <td>Proven and unproven reserves</td>\n",
       "      <td>352</td>\n",
       "    </tr>\n",
       "    <tr>\n",
       "      <th>17</th>\n",
       "      <td>Real estate investments</td>\n",
       "      <td>351</td>\n",
       "    </tr>\n",
       "    <tr>\n",
       "      <th>18</th>\n",
       "      <td>Insurance contract liabilities</td>\n",
       "      <td>349</td>\n",
       "    </tr>\n",
       "    <tr>\n",
       "      <th>19</th>\n",
       "      <td>Research and development expenses</td>\n",
       "      <td>333</td>\n",
       "    </tr>\n",
       "  </tbody>\n",
       "</table>\n",
       "</div>"
      ],
      "text/plain": [
       "                           topic_name  cam_key\n",
       "0     Revenue from customer contracts     2215\n",
       "1               Business combinations     1743\n",
       "2                            Goodwill     1656\n",
       "3         Allowance for credit losses     1208\n",
       "4        Other contingent liabilities      775\n",
       "5                           Inventory      664\n",
       "6                   Other investments      606\n",
       "7               Deferred income taxes      524\n",
       "8                   Long-lived assets      517\n",
       "9             Other intangible assets      503\n",
       "10                         Other debt      482\n",
       "11      Property, plant and equipment      472\n",
       "12            Uncertain tax positions      465\n",
       "13        Sales return and allowances      397\n",
       "14                      Going concern      384\n",
       "15  Regulatory assets and liabilities      357\n",
       "16       Proven and unproven reserves      352\n",
       "17            Real estate investments      351\n",
       "18     Insurance contract liabilities      349\n",
       "19  Research and development expenses      333"
      ]
     },
     "execution_count": 10,
     "metadata": {},
     "output_type": "execute_result"
    }
   ],
   "source": [
    "df_dist= df.groupby('topic_name').count()['cam_key'].sort_values(ascending=False).reset_index()\n",
    "df_dist.head(20)"
   ]
  },
  {
   "cell_type": "code",
   "execution_count": 15,
   "id": "50fec48d-3030-44c5-9b66-df71dc0dcd91",
   "metadata": {},
   "outputs": [
    {
     "data": {
      "image/png": "[encoded data removed]",
      "text/plain": [
       "<Figure size 432x288 with 1 Axes>"
      ]
     },
     "metadata": {
      "needs_background": "light"
     },
     "output_type": "display_data"
    }
   ],
   "source": [
    "df_dist_top15= df_dist.head(15).sort_values('cam_key', ascending= True)\n",
    "df_dist_top15.plot(kind='barh', x= 'topic_name', y= 'cam_key')\n",
    "plt.show()"
   ]
  },
  {
   "cell_type": "markdown",
   "id": "6fe6f812-9ec5-4795-b974-68c5bb299c46",
   "metadata": {},
   "source": [
    "### How many CAM keys per each audit report?"
   ]
  },
  {
   "cell_type": "code",
   "execution_count": 16,
   "id": "9d665c9c-c035-4e0d-b155-f0a2a44ce0da",
   "metadata": {},
   "outputs": [
    {
     "data": {
      "text/html": [
       "<div>\n",
       "<style scoped>\n",
       "    .dataframe tbody tr th:only-of-type {\n",
       "        vertical-align: middle;\n",
       "    }\n",
       "\n",
       "    .dataframe tbody tr th {\n",
       "        vertical-align: top;\n",
       "    }\n",
       "\n",
       "    .dataframe thead th {\n",
       "        text-align: right;\n",
       "    }\n",
       "</style>\n",
       "<table border=\"1\" class=\"dataframe\">\n",
       "  <thead>\n",
       "    <tr style=\"text-align: right;\">\n",
       "      <th></th>\n",
       "      <th>cam_N</th>\n",
       "      <th>N</th>\n",
       "    </tr>\n",
       "  </thead>\n",
       "  <tbody>\n",
       "    <tr>\n",
       "      <th>0</th>\n",
       "      <td>1</td>\n",
       "      <td>7663</td>\n",
       "    </tr>\n",
       "    <tr>\n",
       "      <th>1</th>\n",
       "      <td>2</td>\n",
       "      <td>3219</td>\n",
       "    </tr>\n",
       "    <tr>\n",
       "      <th>2</th>\n",
       "      <td>3</td>\n",
       "      <td>871</td>\n",
       "    </tr>\n",
       "    <tr>\n",
       "      <th>3</th>\n",
       "      <td>4</td>\n",
       "      <td>188</td>\n",
       "    </tr>\n",
       "    <tr>\n",
       "      <th>4</th>\n",
       "      <td>5</td>\n",
       "      <td>25</td>\n",
       "    </tr>\n",
       "    <tr>\n",
       "      <th>5</th>\n",
       "      <td>6</td>\n",
       "      <td>6</td>\n",
       "    </tr>\n",
       "    <tr>\n",
       "      <th>6</th>\n",
       "      <td>7</td>\n",
       "      <td>3</td>\n",
       "    </tr>\n",
       "  </tbody>\n",
       "</table>\n",
       "</div>"
      ],
      "text/plain": [
       "  cam_N     N\n",
       "0     1  7663\n",
       "1     2  3219\n",
       "2     3   871\n",
       "3     4   188\n",
       "4     5    25\n",
       "5     6     6\n",
       "6     7     3"
      ]
     },
     "execution_count": 16,
     "metadata": {},
     "output_type": "execute_result"
    }
   ],
   "source": [
    "df_cam_n= pd.DataFrame(df.groupby('audit_op_key').agg({'cam_topic_key':'count'}).value_counts()).reset_index().rename(columns={'cam_topic_key':'cam_N', 0:'N'})\n",
    "df_cam_n['cam_N']= df_cam_n['cam_N'].astype('str')\n",
    "df_cam_n"
   ]
  },
  {
   "cell_type": "code",
   "execution_count": 19,
   "id": "3f221b26-6303-4fe1-94bc-71a7d280383b",
   "metadata": {},
   "outputs": [
    {
     "data": {
      "image/png": "[encoded data removed]",
      "text/plain": [
       "<Figure size 360x360 with 1 Axes>"
      ]
     },
     "metadata": {
      "needs_background": "light"
     },
     "output_type": "display_data"
    }
   ],
   "source": [
    "df_cam_n.cam_N= df_cam_n.cam_N.astype('str')\n",
    "df_cam_n.sort_values('cam_N', ascending= False, inplace= True)\n",
    "fig=plt.figure(figsize=(5,5))\n",
    "plt.grid()\n",
    "plt.barh(df_cam_n.cam_N, df_cam_n.N)\n",
    "plt.show()"
   ]
  },
  {
   "cell_type": "markdown",
   "id": "d86d7761-669c-425e-8c94-300b6f788a44",
   "metadata": {},
   "source": [
    "### Yearly distribution of unique firms"
   ]
  },
  {
   "cell_type": "code",
   "execution_count": 11,
   "id": "f32967ef-3abb-4b08-aa2c-24576286a923",
   "metadata": {},
   "outputs": [
    {
     "data": {
      "image/png": "[encoded data removed]",
      "text/plain": [
       "<Figure size 360x288 with 1 Axes>"
      ]
     },
     "metadata": {
      "needs_background": "light"
     },
     "output_type": "display_data"
    }
   ],
   "source": [
    "df[['cik','fy']].groupby('fy').nunique('cik').plot(kind='bar', figsize=(5,4), grid= True, color='red')\n",
    "plt.title('The number of Unique CIKs by fiscal years', fontsize= 15)\n",
    "plt.xlabel('fiscal year')\n",
    "plt.show()"
   ]
  },
  {
   "cell_type": "markdown",
   "id": "c6869029-33b9-478d-824e-f1f8b7ac4a6b",
   "metadata": {},
   "source": [
    "### Yearly distribution of CAMs"
   ]
  },
  {
   "cell_type": "code",
   "execution_count": 12,
   "id": "4a6ccd51-8b4d-4cbd-b7c6-fe12f3204a8e",
   "metadata": {},
   "outputs": [
    {
     "data": {
      "image/png": "[encoded data removed]",
      "text/plain": [
       "<Figure size 360x288 with 1 Axes>"
      ]
     },
     "metadata": {
      "needs_background": "light"
     },
     "output_type": "display_data"
    }
   ],
   "source": [
    "df.groupby(['fy']).size().plot(kind='bar', figsize=(5,4), grid= True, color= 'b')\n",
    "plt.title('The number of CAMs by fiscal years', fontsize= 15)\n",
    "plt.xlabel('fiscal year')\n",
    "plt.show()"
   ]
  },
  {
   "cell_type": "markdown",
   "id": "15044626-c5fb-4834-9ae3-b0228f69d1d3",
   "metadata": {},
   "source": [
    "<b>Note</b>: One company may have more than one CAM."
   ]
  },
  {
   "cell_type": "markdown",
   "id": "08b57228-4a52-48c6-982e-1696defd9358",
   "metadata": {},
   "source": [
    "-----------"
   ]
  },
  {
   "cell_type": "markdown",
   "id": "d42dacb5-7716-46a7-a50d-ebc9d3f838f9",
   "metadata": {},
   "source": [
    "### Close connection"
   ]
  },
  {
   "cell_type": "code",
   "execution_count": 13,
   "id": "d84df791-a599-45ff-8685-3cab71445551",
   "metadata": {},
   "outputs": [],
   "source": [
    "conn.close()"
   ]
  },
  {
   "cell_type": "markdown",
   "id": "dbb9616d-0ae8-4fea-b2bd-0c9d1605ab89",
   "metadata": {},
   "source": [
    "-------------"
   ]
  }
 ],
 "metadata": {
  "kernelspec": {
   "display_name": "sec",
   "language": "python",
   "name": "sec"
  },
  "language_info": {
   "codemirror_mode": {
    "name": "ipython",
    "version": 3
   },
   "file_extension": ".py",
   "mimetype": "text/x-python",
   "name": "python",
   "nbconvert_exporter": "python",
   "pygments_lexer": "ipython3",
   "version": "3.8.8"
  },
  "widgets": {
   "application/vnd.jupyter.widget-state+json": {
    "state": {},
    "version_major": 2,
    "version_minor": 0
   }
  }
 },
 "nbformat": 4,
 "nbformat_minor": 5
}
