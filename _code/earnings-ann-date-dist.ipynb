{
 "cells": [
  {
   "cell_type": "markdown",
   "id": "b79eb867-07be-436a-a3df-316e53346555",
   "metadata": {},
   "source": [
    "### Import libraries"
   ]
  },
  {
   "cell_type": "code",
   "execution_count": 1,
   "id": "54c87ac0-e568-4211-8fc2-4a28037b5c24",
   "metadata": {},
   "outputs": [],
   "source": [
    "import pandas as pd\n",
    "import matplotlib.pyplot as plt\n",
    "from matplotlib.dates import MO, WeekdayLocator"
   ]
  },
  {
   "cell_type": "markdown",
   "id": "d11a1458-3fb1-4bbe-9d8b-18b86128fc7c",
   "metadata": {},
   "source": [
    "-----------"
   ]
  },
  {
   "cell_type": "markdown",
   "id": "a784ee52-3cf8-433d-9121-4bda67a809a1",
   "metadata": {},
   "source": [
    "### Load data"
   ]
  },
  {
   "cell_type": "code",
   "execution_count": 2,
   "id": "7d93d546-61bb-46ac-a4b9-35ba60a773ca",
   "metadata": {},
   "outputs": [
    {
     "name": "stdout",
     "output_type": "stream",
     "text": [
      "(34484, 8)\n"
     ]
    },
    {
     "data": {
      "text/html": [
       "<div>\n",
       "<style scoped>\n",
       "    .dataframe tbody tr th:only-of-type {\n",
       "        vertical-align: middle;\n",
       "    }\n",
       "\n",
       "    .dataframe tbody tr th {\n",
       "        vertical-align: top;\n",
       "    }\n",
       "\n",
       "    .dataframe thead th {\n",
       "        text-align: right;\n",
       "    }\n",
       "</style>\n",
       "<table border=\"1\" class=\"dataframe\">\n",
       "  <thead>\n",
       "    <tr style=\"text-align: right;\">\n",
       "      <th></th>\n",
       "      <th>ticker</th>\n",
       "      <th>oftic</th>\n",
       "      <th>pyear</th>\n",
       "      <th>pmon</th>\n",
       "      <th>anndats</th>\n",
       "      <th>pqtr</th>\n",
       "      <th>pyq</th>\n",
       "      <th>pym</th>\n",
       "    </tr>\n",
       "  </thead>\n",
       "  <tbody>\n",
       "    <tr>\n",
       "      <th>0</th>\n",
       "      <td>000V</td>\n",
       "      <td>EIGR</td>\n",
       "      <td>2019</td>\n",
       "      <td>12</td>\n",
       "      <td>2020-03-13</td>\n",
       "      <td>4</td>\n",
       "      <td>2019Q4</td>\n",
       "      <td>2019_12</td>\n",
       "    </tr>\n",
       "    <tr>\n",
       "      <th>1</th>\n",
       "      <td>000V</td>\n",
       "      <td>EIGR</td>\n",
       "      <td>2020</td>\n",
       "      <td>3</td>\n",
       "      <td>2020-05-07</td>\n",
       "      <td>1</td>\n",
       "      <td>2020Q1</td>\n",
       "      <td>2020_03</td>\n",
       "    </tr>\n",
       "    <tr>\n",
       "      <th>2</th>\n",
       "      <td>000V</td>\n",
       "      <td>EIGR</td>\n",
       "      <td>2020</td>\n",
       "      <td>6</td>\n",
       "      <td>2020-08-06</td>\n",
       "      <td>2</td>\n",
       "      <td>2020Q2</td>\n",
       "      <td>2020_06</td>\n",
       "    </tr>\n",
       "    <tr>\n",
       "      <th>3</th>\n",
       "      <td>000V</td>\n",
       "      <td>EIGR</td>\n",
       "      <td>2020</td>\n",
       "      <td>9</td>\n",
       "      <td>2020-11-05</td>\n",
       "      <td>3</td>\n",
       "      <td>2020Q3</td>\n",
       "      <td>2020_09</td>\n",
       "    </tr>\n",
       "    <tr>\n",
       "      <th>4</th>\n",
       "      <td>000V</td>\n",
       "      <td>EIGR</td>\n",
       "      <td>2020</td>\n",
       "      <td>12</td>\n",
       "      <td>2021-03-09</td>\n",
       "      <td>4</td>\n",
       "      <td>2020Q4</td>\n",
       "      <td>2020_12</td>\n",
       "    </tr>\n",
       "  </tbody>\n",
       "</table>\n",
       "</div>"
      ],
      "text/plain": [
       "  ticker oftic  pyear  pmon     anndats  pqtr     pyq      pym\n",
       "0   000V  EIGR   2019    12  2020-03-13     4  2019Q4  2019_12\n",
       "1   000V  EIGR   2020     3  2020-05-07     1  2020Q1  2020_03\n",
       "2   000V  EIGR   2020     6  2020-08-06     2  2020Q2  2020_06\n",
       "3   000V  EIGR   2020     9  2020-11-05     3  2020Q3  2020_09\n",
       "4   000V  EIGR   2020    12  2021-03-09     4  2020Q4  2020_12"
      ]
     },
     "execution_count": 2,
     "metadata": {},
     "output_type": "execute_result"
    }
   ],
   "source": [
    "df= pd.read_csv(\"data/ibes_surpsumu.csv\")\n",
    "print(df.shape)\n",
    "df.head()"
   ]
  },
  {
   "cell_type": "code",
   "execution_count": 3,
   "id": "9f763a3f-3a59-4ab9-8388-b8b11b84d30b",
   "metadata": {},
   "outputs": [
    {
     "data": {
      "text/plain": [
       "ticker     object\n",
       "oftic      object\n",
       "pyear       int64\n",
       "pmon        int64\n",
       "anndats    object\n",
       "pqtr        int64\n",
       "pyq        object\n",
       "pym        object\n",
       "dtype: object"
      ]
     },
     "execution_count": 3,
     "metadata": {},
     "output_type": "execute_result"
    }
   ],
   "source": [
    "df.dtypes"
   ]
  },
  {
   "cell_type": "markdown",
   "id": "e2d247c6-757d-4be5-99a1-af38a64468d7",
   "metadata": {},
   "source": [
    "-----------"
   ]
  },
  {
   "cell_type": "markdown",
   "id": "48b51ed0-849f-4207-b3f8-2a9f71e35a32",
   "metadata": {},
   "source": [
    "### Reshape data"
   ]
  },
  {
   "cell_type": "code",
   "execution_count": 4,
   "id": "f65bbf64-9e5f-4064-b4d7-71df60e5cbcf",
   "metadata": {},
   "outputs": [
    {
     "data": {
      "text/html": [
       "<div>\n",
       "<style scoped>\n",
       "    .dataframe tbody tr th:only-of-type {\n",
       "        vertical-align: middle;\n",
       "    }\n",
       "\n",
       "    .dataframe tbody tr th {\n",
       "        vertical-align: top;\n",
       "    }\n",
       "\n",
       "    .dataframe thead th {\n",
       "        text-align: right;\n",
       "    }\n",
       "</style>\n",
       "<table border=\"1\" class=\"dataframe\">\n",
       "  <thead>\n",
       "    <tr style=\"text-align: right;\">\n",
       "      <th></th>\n",
       "      <th>anndats</th>\n",
       "      <th>count</th>\n",
       "    </tr>\n",
       "  </thead>\n",
       "  <tbody>\n",
       "    <tr>\n",
       "      <th>0</th>\n",
       "      <td>2020-01-01</td>\n",
       "      <td>2</td>\n",
       "    </tr>\n",
       "    <tr>\n",
       "      <th>1</th>\n",
       "      <td>2020-01-02</td>\n",
       "      <td>14</td>\n",
       "    </tr>\n",
       "    <tr>\n",
       "      <th>2</th>\n",
       "      <td>2020-01-03</td>\n",
       "      <td>1</td>\n",
       "    </tr>\n",
       "    <tr>\n",
       "      <th>3</th>\n",
       "      <td>2020-01-06</td>\n",
       "      <td>3</td>\n",
       "    </tr>\n",
       "    <tr>\n",
       "      <th>4</th>\n",
       "      <td>2020-01-07</td>\n",
       "      <td>4</td>\n",
       "    </tr>\n",
       "    <tr>\n",
       "      <th>5</th>\n",
       "      <td>2020-01-08</td>\n",
       "      <td>15</td>\n",
       "    </tr>\n",
       "    <tr>\n",
       "      <th>6</th>\n",
       "      <td>2020-01-09</td>\n",
       "      <td>15</td>\n",
       "    </tr>\n",
       "  </tbody>\n",
       "</table>\n",
       "</div>"
      ],
      "text/plain": [
       "      anndats  count\n",
       "0  2020-01-01      2\n",
       "1  2020-01-02     14\n",
       "2  2020-01-03      1\n",
       "3  2020-01-06      3\n",
       "4  2020-01-07      4\n",
       "5  2020-01-08     15\n",
       "6  2020-01-09     15"
      ]
     },
     "execution_count": 4,
     "metadata": {},
     "output_type": "execute_result"
    }
   ],
   "source": [
    "count= df.groupby(['anndats']).size().to_frame('count').reset_index().sort_index()\n",
    "count.head(7)"
   ]
  },
  {
   "cell_type": "markdown",
   "id": "b2da5b09-eec1-4d71-a61b-d592e25b2633",
   "metadata": {},
   "source": [
    "### Cleanse data"
   ]
  },
  {
   "cell_type": "code",
   "execution_count": 5,
   "id": "ce37039f-4e1d-4a01-8c88-b3f8b7c22e1e",
   "metadata": {},
   "outputs": [
    {
     "data": {
      "text/html": [
       "<div>\n",
       "<style scoped>\n",
       "    .dataframe tbody tr th:only-of-type {\n",
       "        vertical-align: middle;\n",
       "    }\n",
       "\n",
       "    .dataframe tbody tr th {\n",
       "        vertical-align: top;\n",
       "    }\n",
       "\n",
       "    .dataframe thead th {\n",
       "        text-align: right;\n",
       "    }\n",
       "</style>\n",
       "<table border=\"1\" class=\"dataframe\">\n",
       "  <thead>\n",
       "    <tr style=\"text-align: right;\">\n",
       "      <th></th>\n",
       "      <th>anndats</th>\n",
       "      <th>count</th>\n",
       "    </tr>\n",
       "  </thead>\n",
       "  <tbody>\n",
       "    <tr>\n",
       "      <th>2020-01-01</th>\n",
       "      <td>2020-01-01</td>\n",
       "      <td>2</td>\n",
       "    </tr>\n",
       "    <tr>\n",
       "      <th>2020-01-02</th>\n",
       "      <td>2020-01-02</td>\n",
       "      <td>14</td>\n",
       "    </tr>\n",
       "    <tr>\n",
       "      <th>2020-01-03</th>\n",
       "      <td>2020-01-03</td>\n",
       "      <td>1</td>\n",
       "    </tr>\n",
       "    <tr>\n",
       "      <th>2020-01-06</th>\n",
       "      <td>2020-01-06</td>\n",
       "      <td>3</td>\n",
       "    </tr>\n",
       "    <tr>\n",
       "      <th>2020-01-07</th>\n",
       "      <td>2020-01-07</td>\n",
       "      <td>4</td>\n",
       "    </tr>\n",
       "    <tr>\n",
       "      <th>2020-01-08</th>\n",
       "      <td>2020-01-08</td>\n",
       "      <td>15</td>\n",
       "    </tr>\n",
       "    <tr>\n",
       "      <th>2020-01-09</th>\n",
       "      <td>2020-01-09</td>\n",
       "      <td>15</td>\n",
       "    </tr>\n",
       "  </tbody>\n",
       "</table>\n",
       "</div>"
      ],
      "text/plain": [
       "               anndats  count\n",
       "2020-01-01  2020-01-01      2\n",
       "2020-01-02  2020-01-02     14\n",
       "2020-01-03  2020-01-03      1\n",
       "2020-01-06  2020-01-06      3\n",
       "2020-01-07  2020-01-07      4\n",
       "2020-01-08  2020-01-08     15\n",
       "2020-01-09  2020-01-09     15"
      ]
     },
     "execution_count": 5,
     "metadata": {},
     "output_type": "execute_result"
    }
   ],
   "source": [
    "datetime_series = pd.to_datetime(count['anndats']).dt.date\n",
    "datetime_index  = pd.DatetimeIndex(datetime_series.values)\n",
    "count.set_index(datetime_index, inplace=True)\n",
    "count.index= count.index.date\n",
    "count.head(7)"
   ]
  },
  {
   "cell_type": "code",
   "execution_count": 6,
   "id": "9315f19d-a475-43f8-b326-3fcc910972d7",
   "metadata": {},
   "outputs": [
    {
     "data": {
      "text/html": [
       "<div>\n",
       "<style scoped>\n",
       "    .dataframe tbody tr th:only-of-type {\n",
       "        vertical-align: middle;\n",
       "    }\n",
       "\n",
       "    .dataframe tbody tr th {\n",
       "        vertical-align: top;\n",
       "    }\n",
       "\n",
       "    .dataframe thead th {\n",
       "        text-align: right;\n",
       "    }\n",
       "</style>\n",
       "<table border=\"1\" class=\"dataframe\">\n",
       "  <thead>\n",
       "    <tr style=\"text-align: right;\">\n",
       "      <th></th>\n",
       "      <th>anndats</th>\n",
       "      <th>count</th>\n",
       "    </tr>\n",
       "  </thead>\n",
       "  <tbody>\n",
       "    <tr>\n",
       "      <th>2020-01-01</th>\n",
       "      <td>2020-01-01</td>\n",
       "      <td>2.0</td>\n",
       "    </tr>\n",
       "    <tr>\n",
       "      <th>2020-01-02</th>\n",
       "      <td>2020-01-02</td>\n",
       "      <td>14.0</td>\n",
       "    </tr>\n",
       "    <tr>\n",
       "      <th>2020-01-03</th>\n",
       "      <td>2020-01-03</td>\n",
       "      <td>1.0</td>\n",
       "    </tr>\n",
       "    <tr>\n",
       "      <th>2020-01-04</th>\n",
       "      <td>2020-01-04</td>\n",
       "      <td>NaN</td>\n",
       "    </tr>\n",
       "    <tr>\n",
       "      <th>2020-01-05</th>\n",
       "      <td>2020-01-05</td>\n",
       "      <td>NaN</td>\n",
       "    </tr>\n",
       "    <tr>\n",
       "      <th>2020-01-06</th>\n",
       "      <td>2020-01-06</td>\n",
       "      <td>3.0</td>\n",
       "    </tr>\n",
       "    <tr>\n",
       "      <th>2020-01-07</th>\n",
       "      <td>2020-01-07</td>\n",
       "      <td>4.0</td>\n",
       "    </tr>\n",
       "  </tbody>\n",
       "</table>\n",
       "</div>"
      ],
      "text/plain": [
       "              anndats  count\n",
       "2020-01-01 2020-01-01    2.0\n",
       "2020-01-02 2020-01-02   14.0\n",
       "2020-01-03 2020-01-03    1.0\n",
       "2020-01-04 2020-01-04    NaN\n",
       "2020-01-05 2020-01-05    NaN\n",
       "2020-01-06 2020-01-06    3.0\n",
       "2020-01-07 2020-01-07    4.0"
      ]
     },
     "execution_count": 6,
     "metadata": {},
     "output_type": "execute_result"
    }
   ],
   "source": [
    "count.sort_index(inplace=True)\n",
    "count=count.asfreq('D')\n",
    "count['anndats']= count.index\n",
    "count.head(7)"
   ]
  },
  {
   "cell_type": "code",
   "execution_count": 7,
   "id": "57d72dbc-1d0c-4294-ac51-21dd5b5a1246",
   "metadata": {},
   "outputs": [
    {
     "data": {
      "text/html": [
       "<div>\n",
       "<style scoped>\n",
       "    .dataframe tbody tr th:only-of-type {\n",
       "        vertical-align: middle;\n",
       "    }\n",
       "\n",
       "    .dataframe tbody tr th {\n",
       "        vertical-align: top;\n",
       "    }\n",
       "\n",
       "    .dataframe thead th {\n",
       "        text-align: right;\n",
       "    }\n",
       "</style>\n",
       "<table border=\"1\" class=\"dataframe\">\n",
       "  <thead>\n",
       "    <tr style=\"text-align: right;\">\n",
       "      <th></th>\n",
       "      <th>anndats</th>\n",
       "      <th>count</th>\n",
       "      <th>year</th>\n",
       "      <th>month</th>\n",
       "      <th>qtr</th>\n",
       "    </tr>\n",
       "  </thead>\n",
       "  <tbody>\n",
       "    <tr>\n",
       "      <th>2020-01-01</th>\n",
       "      <td>2020-01-01</td>\n",
       "      <td>2.0</td>\n",
       "      <td>2020</td>\n",
       "      <td>1</td>\n",
       "      <td>1</td>\n",
       "    </tr>\n",
       "    <tr>\n",
       "      <th>2020-01-02</th>\n",
       "      <td>2020-01-02</td>\n",
       "      <td>14.0</td>\n",
       "      <td>2020</td>\n",
       "      <td>1</td>\n",
       "      <td>1</td>\n",
       "    </tr>\n",
       "    <tr>\n",
       "      <th>2020-01-03</th>\n",
       "      <td>2020-01-03</td>\n",
       "      <td>1.0</td>\n",
       "      <td>2020</td>\n",
       "      <td>1</td>\n",
       "      <td>1</td>\n",
       "    </tr>\n",
       "    <tr>\n",
       "      <th>2020-01-04</th>\n",
       "      <td>2020-01-04</td>\n",
       "      <td>NaN</td>\n",
       "      <td>2020</td>\n",
       "      <td>1</td>\n",
       "      <td>1</td>\n",
       "    </tr>\n",
       "    <tr>\n",
       "      <th>2020-01-05</th>\n",
       "      <td>2020-01-05</td>\n",
       "      <td>NaN</td>\n",
       "      <td>2020</td>\n",
       "      <td>1</td>\n",
       "      <td>1</td>\n",
       "    </tr>\n",
       "    <tr>\n",
       "      <th>2020-01-06</th>\n",
       "      <td>2020-01-06</td>\n",
       "      <td>3.0</td>\n",
       "      <td>2020</td>\n",
       "      <td>1</td>\n",
       "      <td>1</td>\n",
       "    </tr>\n",
       "    <tr>\n",
       "      <th>2020-01-07</th>\n",
       "      <td>2020-01-07</td>\n",
       "      <td>4.0</td>\n",
       "      <td>2020</td>\n",
       "      <td>1</td>\n",
       "      <td>1</td>\n",
       "    </tr>\n",
       "  </tbody>\n",
       "</table>\n",
       "</div>"
      ],
      "text/plain": [
       "              anndats  count  year  month  qtr\n",
       "2020-01-01 2020-01-01    2.0  2020      1    1\n",
       "2020-01-02 2020-01-02   14.0  2020      1    1\n",
       "2020-01-03 2020-01-03    1.0  2020      1    1\n",
       "2020-01-04 2020-01-04    NaN  2020      1    1\n",
       "2020-01-05 2020-01-05    NaN  2020      1    1\n",
       "2020-01-06 2020-01-06    3.0  2020      1    1\n",
       "2020-01-07 2020-01-07    4.0  2020      1    1"
      ]
     },
     "execution_count": 7,
     "metadata": {},
     "output_type": "execute_result"
    }
   ],
   "source": [
    "count['year']= pd.to_datetime(count.anndats).dt.year\n",
    "count['month']= pd.to_datetime(count.anndats).dt.month\n",
    "count['qtr']= pd.to_datetime(count.anndats).dt.quarter\n",
    "count.head(7)"
   ]
  },
  {
   "cell_type": "code",
   "execution_count": 8,
   "id": "f77acfad-4dbe-4deb-9b12-2c09906b40bf",
   "metadata": {},
   "outputs": [],
   "source": [
    "count.index= count.index.date"
   ]
  },
  {
   "cell_type": "markdown",
   "id": "ad3c09cd-786f-4a30-bf83-a50e5305f6dd",
   "metadata": {},
   "source": [
    "--------------\n",
    "## Visualizations"
   ]
  },
  {
   "cell_type": "code",
   "execution_count": 9,
   "id": "3befc289-e47b-4a74-b554-44e868f50fb8",
   "metadata": {},
   "outputs": [],
   "source": [
    "max_count= count['count'].max()"
   ]
  },
  {
   "cell_type": "code",
   "execution_count": 18,
   "id": "4534f3a6-e2b6-4d4d-9879-77a688dffa77",
   "metadata": {},
   "outputs": [
    {
     "data": {
      "image/png": "[encoded data removed]",
      "text/plain": [
       "<Figure size 1296x576 with 4 Axes>"
      ]
     },
     "metadata": {
      "needs_background": "light"
     },
     "output_type": "display_data"
    }
   ],
   "source": [
    "fig, axes = plt.subplots(4, 1, figsize=(18, 8))\n",
    "fig.suptitle('Distribution of earnings announcement dates in 2021', fontsize=30, fontname='Times New Roman', weight='bold')\n",
    "\n",
    "for idq, q in enumerate([1,2,3,4]):\n",
    "    ax= axes[idq]\n",
    "    \n",
    "    df_for_fig= count[(count.year==2021) &(count.qtr==q)]\n",
    "    \n",
    "    if q==1:\n",
    "        df_for_fig.plot(ax= ax, kind='bar', y='count', legend=False, ylim=(0,max_count+50), color='r')\n",
    "    else:\n",
    "        \n",
    "        df_for_fig.plot(ax= ax, kind='bar', y='count', legend=False, ylim=(0,max_count+50), color='b')\n",
    "    loc = WeekdayLocator(interval=1)\n",
    "    ax.xaxis.set_major_locator(loc)\n",
    "    ax.tick_params(labelrotation=0)\n",
    "    ax.set_title(f\"Earnings announced during Q{q} (N= {df_for_fig['count'].sum().astype('int'):,})\", fontsize=18, fontname='Times New Roman', weight='bold')\n",
    "plt.subplots_adjust(hspace=1)\n",
    "plt.show()"
   ]
  },
  {
   "cell_type": "markdown",
   "id": "64c87192-aa0f-415a-8352-984b56f48f4b",
   "metadata": {},
   "source": [
    "<em> More dispersed during Q1 perhaps due to audits </em>"
   ]
  },
  {
   "cell_type": "markdown",
   "id": "04ed55ae-75a2-4aba-b88c-46a2b93f92a8",
   "metadata": {},
   "source": [
    "### Save figure"
   ]
  },
  {
   "cell_type": "code",
   "execution_count": 19,
   "id": "8780a0ac-362e-480a-88b1-d80dd60c03c3",
   "metadata": {},
   "outputs": [],
   "source": [
    "fig.savefig('../assets/images/earnings-ann-date-dist.jpg')"
   ]
  },
  {
   "cell_type": "markdown",
   "id": "5603d216-3a2d-4c59-a317-ce2461c7ec3e",
   "metadata": {},
   "source": [
    "----------"
   ]
  }
 ],
 "metadata": {
  "kernelspec": {
   "display_name": "sec",
   "language": "python",
   "name": "sec"
  },
  "language_info": {
   "codemirror_mode": {
    "name": "ipython",
    "version": 3
   },
   "file_extension": ".py",
   "mimetype": "text/x-python",
   "name": "python",
   "nbconvert_exporter": "python",
   "pygments_lexer": "ipython3",
   "version": "3.8.8"
  },
  "widgets": {
   "application/vnd.jupyter.widget-state+json": {
    "state": {},
    "version_major": 2,
    "version_minor": 0
   }
  }
 },
 "nbformat": 4,
 "nbformat_minor": 5
}
