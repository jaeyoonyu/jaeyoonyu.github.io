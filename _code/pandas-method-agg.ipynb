{
 "cells": [
  {
   "cell_type": "markdown",
   "id": "1bc925a9-422b-4089-a63c-1c3ecc9f3a0a",
   "metadata": {},
   "source": [
    "# Usage of DataFrame.agg()\n",
    "- Aggregate using one or more operations over the specified axis.\n",
    "- Syntax: <code>DataFrame.agg(func=None, axis=0, *args, **kwargs)</code>\n",
    "- Description from [pandas docs](https://pandas.pydata.org/docs/reference/api/pandas.DataFrame.agg.html)"
   ]
  },
  {
   "cell_type": "markdown",
   "id": "ea5c6fe6-f01f-41bb-b5c0-f56d3071e3d3",
   "metadata": {},
   "source": [
    "------"
   ]
  },
  {
   "cell_type": "code",
   "execution_count": 12,
   "id": "b3ea1b81-869c-440a-8970-5a61ff02e47c",
   "metadata": {},
   "outputs": [],
   "source": [
    "import pandas as pd\n",
    "import numpy as np\n",
    "import matplotlib.pyplot as plt"
   ]
  },
  {
   "cell_type": "code",
   "execution_count": 7,
   "id": "2b14faaf-5a38-4d6b-a5c1-fe80eab4c0ed",
   "metadata": {},
   "outputs": [
    {
     "name": "stdout",
     "output_type": "stream",
     "text": [
      "(211966, 5)\n"
     ]
    },
    {
     "data": {
      "text/html": [
       "<div>\n",
       "<style scoped>\n",
       "    .dataframe tbody tr th:only-of-type {\n",
       "        vertical-align: middle;\n",
       "    }\n",
       "\n",
       "    .dataframe tbody tr th {\n",
       "        vertical-align: top;\n",
       "    }\n",
       "\n",
       "    .dataframe thead th {\n",
       "        text-align: right;\n",
       "    }\n",
       "</style>\n",
       "<table border=\"1\" class=\"dataframe\">\n",
       "  <thead>\n",
       "    <tr style=\"text-align: right;\">\n",
       "      <th></th>\n",
       "      <th>gvkey</th>\n",
       "      <th>fyear</th>\n",
       "      <th>at</th>\n",
       "      <th>sale</th>\n",
       "      <th>ni</th>\n",
       "    </tr>\n",
       "  </thead>\n",
       "  <tbody>\n",
       "    <tr>\n",
       "      <th>0</th>\n",
       "      <td>1004</td>\n",
       "      <td>1990</td>\n",
       "      <td>379.958</td>\n",
       "      <td>466.542</td>\n",
       "      <td>14.801</td>\n",
       "    </tr>\n",
       "    <tr>\n",
       "      <th>1</th>\n",
       "      <td>1004</td>\n",
       "      <td>1991</td>\n",
       "      <td>395.351</td>\n",
       "      <td>422.657</td>\n",
       "      <td>10.020</td>\n",
       "    </tr>\n",
       "    <tr>\n",
       "      <th>2</th>\n",
       "      <td>1004</td>\n",
       "      <td>1992</td>\n",
       "      <td>365.151</td>\n",
       "      <td>382.780</td>\n",
       "      <td>0.283</td>\n",
       "    </tr>\n",
       "    <tr>\n",
       "      <th>3</th>\n",
       "      <td>1004</td>\n",
       "      <td>1993</td>\n",
       "      <td>417.626</td>\n",
       "      <td>407.754</td>\n",
       "      <td>9.494</td>\n",
       "    </tr>\n",
       "    <tr>\n",
       "      <th>4</th>\n",
       "      <td>1004</td>\n",
       "      <td>1994</td>\n",
       "      <td>425.814</td>\n",
       "      <td>451.395</td>\n",
       "      <td>10.463</td>\n",
       "    </tr>\n",
       "  </tbody>\n",
       "</table>\n",
       "</div>"
      ],
      "text/plain": [
       "   gvkey  fyear       at     sale      ni\n",
       "0   1004   1990  379.958  466.542  14.801\n",
       "1   1004   1991  395.351  422.657  10.020\n",
       "2   1004   1992  365.151  382.780   0.283\n",
       "3   1004   1993  417.626  407.754   9.494\n",
       "4   1004   1994  425.814  451.395  10.463"
      ]
     },
     "execution_count": 7,
     "metadata": {},
     "output_type": "execute_result"
    }
   ],
   "source": [
    "df= pd.read_csv(\"compustat_from_1990.csv\")[['gvkey', 'fyear', 'at', 'sale', 'ni']]\n",
    "print(df.shape)\n",
    "df.head()"
   ]
  },
  {
   "cell_type": "code",
   "execution_count": 8,
   "id": "e41a5d0b-b10e-43f6-9b08-7d5f4cec6fff",
   "metadata": {},
   "outputs": [
    {
     "data": {
      "text/html": [
       "<div>\n",
       "<style scoped>\n",
       "    .dataframe tbody tr th:only-of-type {\n",
       "        vertical-align: middle;\n",
       "    }\n",
       "\n",
       "    .dataframe tbody tr th {\n",
       "        vertical-align: top;\n",
       "    }\n",
       "\n",
       "    .dataframe thead th {\n",
       "        text-align: right;\n",
       "    }\n",
       "</style>\n",
       "<table border=\"1\" class=\"dataframe\">\n",
       "  <thead>\n",
       "    <tr style=\"text-align: right;\">\n",
       "      <th></th>\n",
       "      <th>gvkey</th>\n",
       "      <th>fyear</th>\n",
       "      <th>at</th>\n",
       "      <th>sale</th>\n",
       "      <th>ni</th>\n",
       "      <th>neg_ni</th>\n",
       "    </tr>\n",
       "  </thead>\n",
       "  <tbody>\n",
       "    <tr>\n",
       "      <th>0</th>\n",
       "      <td>1004</td>\n",
       "      <td>1990</td>\n",
       "      <td>379.958</td>\n",
       "      <td>466.542</td>\n",
       "      <td>14.801</td>\n",
       "      <td>0</td>\n",
       "    </tr>\n",
       "    <tr>\n",
       "      <th>1</th>\n",
       "      <td>1004</td>\n",
       "      <td>1991</td>\n",
       "      <td>395.351</td>\n",
       "      <td>422.657</td>\n",
       "      <td>10.020</td>\n",
       "      <td>0</td>\n",
       "    </tr>\n",
       "    <tr>\n",
       "      <th>2</th>\n",
       "      <td>1004</td>\n",
       "      <td>1992</td>\n",
       "      <td>365.151</td>\n",
       "      <td>382.780</td>\n",
       "      <td>0.283</td>\n",
       "      <td>0</td>\n",
       "    </tr>\n",
       "    <tr>\n",
       "      <th>3</th>\n",
       "      <td>1004</td>\n",
       "      <td>1993</td>\n",
       "      <td>417.626</td>\n",
       "      <td>407.754</td>\n",
       "      <td>9.494</td>\n",
       "      <td>0</td>\n",
       "    </tr>\n",
       "    <tr>\n",
       "      <th>4</th>\n",
       "      <td>1004</td>\n",
       "      <td>1994</td>\n",
       "      <td>425.814</td>\n",
       "      <td>451.395</td>\n",
       "      <td>10.463</td>\n",
       "      <td>0</td>\n",
       "    </tr>\n",
       "  </tbody>\n",
       "</table>\n",
       "</div>"
      ],
      "text/plain": [
       "   gvkey  fyear       at     sale      ni  neg_ni\n",
       "0   1004   1990  379.958  466.542  14.801       0\n",
       "1   1004   1991  395.351  422.657  10.020       0\n",
       "2   1004   1992  365.151  382.780   0.283       0\n",
       "3   1004   1993  417.626  407.754   9.494       0\n",
       "4   1004   1994  425.814  451.395  10.463       0"
      ]
     },
     "execution_count": 8,
     "metadata": {},
     "output_type": "execute_result"
    }
   ],
   "source": [
    "df['neg_ni']= (df.ni <= 0).astype(int)\n",
    "df.head()"
   ]
  },
  {
   "cell_type": "markdown",
   "id": "61f1d058-b6cc-48d6-8c10-a7f9d1ab2c29",
   "metadata": {},
   "source": [
    "------------"
   ]
  },
  {
   "cell_type": "markdown",
   "id": "87a53175-2733-455e-a2f8-5cdc768f43f7",
   "metadata": {},
   "source": [
    "### Aggregate data to year-level"
   ]
  },
  {
   "cell_type": "code",
   "execution_count": 9,
   "id": "efd2e125-a934-4dc2-b704-6aa0635f0dd3",
   "metadata": {
    "tags": []
   },
   "outputs": [
    {
     "data": {
      "text/html": [
       "<div>\n",
       "<style scoped>\n",
       "    .dataframe tbody tr th:only-of-type {\n",
       "        vertical-align: middle;\n",
       "    }\n",
       "\n",
       "    .dataframe tbody tr th {\n",
       "        vertical-align: top;\n",
       "    }\n",
       "\n",
       "    .dataframe thead th {\n",
       "        text-align: right;\n",
       "    }\n",
       "</style>\n",
       "<table border=\"1\" class=\"dataframe\">\n",
       "  <thead>\n",
       "    <tr style=\"text-align: right;\">\n",
       "      <th></th>\n",
       "      <th>fyear</th>\n",
       "      <th>count</th>\n",
       "      <th>neg_ni</th>\n",
       "    </tr>\n",
       "  </thead>\n",
       "  <tbody>\n",
       "    <tr>\n",
       "      <th>0</th>\n",
       "      <td>1990</td>\n",
       "      <td>6674</td>\n",
       "      <td>0.385975</td>\n",
       "    </tr>\n",
       "    <tr>\n",
       "      <th>1</th>\n",
       "      <td>1991</td>\n",
       "      <td>6783</td>\n",
       "      <td>0.401003</td>\n",
       "    </tr>\n",
       "    <tr>\n",
       "      <th>2</th>\n",
       "      <td>1992</td>\n",
       "      <td>7133</td>\n",
       "      <td>0.382308</td>\n",
       "    </tr>\n",
       "    <tr>\n",
       "      <th>3</th>\n",
       "      <td>1993</td>\n",
       "      <td>7596</td>\n",
       "      <td>0.367825</td>\n",
       "    </tr>\n",
       "    <tr>\n",
       "      <th>4</th>\n",
       "      <td>1994</td>\n",
       "      <td>8061</td>\n",
       "      <td>0.335690</td>\n",
       "    </tr>\n",
       "  </tbody>\n",
       "</table>\n",
       "</div>"
      ],
      "text/plain": [
       "   fyear  count    neg_ni\n",
       "0   1990   6674  0.385975\n",
       "1   1991   6783  0.401003\n",
       "2   1992   7133  0.382308\n",
       "3   1993   7596  0.367825\n",
       "4   1994   8061  0.335690"
      ]
     },
     "execution_count": 9,
     "metadata": {},
     "output_type": "execute_result"
    }
   ],
   "source": [
    "yearly_loss= df.groupby('fyear').agg({\n",
    "                            'gvkey':'count',\n",
    "                            'neg_ni':('mean')\n",
    "                            }).reset_index()\n",
    "yearly_loss.rename(columns={'gvkey':'count'}, inplace= True)\n",
    "yearly_loss= yearly_loss[yearly_loss.fyear>= 1990]\n",
    "yearly_loss.head()"
   ]
  },
  {
   "cell_type": "markdown",
   "id": "56dc9710-da99-48fe-9132-0fb7eb075a03",
   "metadata": {},
   "source": [
    "--------------"
   ]
  }
 ],
 "metadata": {
  "kernelspec": {
   "display_name": "sec",
   "language": "python",
   "name": "sec"
  },
  "language_info": {
   "codemirror_mode": {
    "name": "ipython",
    "version": 3
   },
   "file_extension": ".py",
   "mimetype": "text/x-python",
   "name": "python",
   "nbconvert_exporter": "python",
   "pygments_lexer": "ipython3",
   "version": "3.8.8"
  },
  "widgets": {
   "application/vnd.jupyter.widget-state+json": {
    "state": {},
    "version_major": 2,
    "version_minor": 0
   }
  }
 },
 "nbformat": 4,
 "nbformat_minor": 5
}
