{
 "cells": [
  {
   "cell_type": "markdown",
   "id": "4633cce5-ba97-4631-bce1-fbb65c5dea66",
   "metadata": {},
   "source": [
    "## Download Compustat quarterly (fundq) data from WRDS\n",
    "- Link for fundq at WRDS: https://wrds-www.wharton.upenn.edu/pages/get-data/compustat-capital-iq-standard-poors/compustat/north-america-daily/fundamentals-quarterly/"
   ]
  },
  {
   "cell_type": "markdown",
   "id": "eed9431c-85e8-4651-a33b-2be6e56579c7",
   "metadata": {},
   "source": [
    "-------------------------"
   ]
  },
  {
   "cell_type": "markdown",
   "id": "d4bfcf5c-c883-4ac1-839b-f2c76c0284cb",
   "metadata": {},
   "source": [
    "### Import libraries"
   ]
  },
  {
   "cell_type": "code",
   "execution_count": 1,
   "id": "9cff7b80-9b0c-4cd3-a11c-cf28f63842ff",
   "metadata": {},
   "outputs": [],
   "source": [
    "import pandas as pd\n",
    "import matplotlib.pyplot as plt\n",
    "import wrds"
   ]
  },
  {
   "cell_type": "markdown",
   "id": "432f2b4a-02a6-4c58-9e6a-ffda0615342f",
   "metadata": {},
   "source": [
    "### Connect WRDS"
   ]
  },
  {
   "cell_type": "code",
   "execution_count": 2,
   "id": "3df4e730-ca27-4c67-8d76-fb5ae5c90084",
   "metadata": {},
   "outputs": [
    {
     "name": "stdin",
     "output_type": "stream",
     "text": [
      "Enter your WRDS username [yjaey]: yjaeyoon\n",
      "Enter your password: ···············\n"
     ]
    },
    {
     "name": "stdout",
     "output_type": "stream",
     "text": [
      "WRDS recommends setting up a .pgpass file.\n"
     ]
    },
    {
     "name": "stdin",
     "output_type": "stream",
     "text": [
      "Create .pgpass file now [y/n]?:  y\n"
     ]
    },
    {
     "name": "stdout",
     "output_type": "stream",
     "text": [
      "Created .pgpass file successfully.\n",
      "Loading library list...\n",
      "Done\n"
     ]
    }
   ],
   "source": [
    "conn=wrds.Connection()"
   ]
  },
  {
   "cell_type": "markdown",
   "id": "1be252e8-fe4c-4a91-8bd1-51e716ac1ffb",
   "metadata": {},
   "source": [
    "### Download fundq from Compustat"
   ]
  },
  {
   "cell_type": "code",
   "execution_count": 3,
   "id": "2e3230f6-e17d-4e27-b058-ff096b3e3df7",
   "metadata": {},
   "outputs": [
    {
     "name": "stdout",
     "output_type": "stream",
     "text": [
      "Approximately 1916292 rows in comp.fundq.\n"
     ]
    },
    {
     "data": {
      "text/plain": [
       "647"
      ]
     },
     "execution_count": 3,
     "metadata": {},
     "output_type": "execute_result"
    }
   ],
   "source": [
    "fundq_vars= conn.describe_table(library='comp', table='fundq')['name']\n",
    "len(fundq_vars)"
   ]
  },
  {
   "cell_type": "code",
   "execution_count": 4,
   "id": "ced6c700-d217-4d37-91a3-467e0052f43c",
   "metadata": {},
   "outputs": [
    {
     "name": "stdout",
     "output_type": "stream",
     "text": [
      "datadate\n",
      "apdedateq\n",
      "fdateq\n",
      "pdateq\n"
     ]
    }
   ],
   "source": [
    "for idx, var in enumerate(fundq_vars):\n",
    "    if 'date' in var:\n",
    "        print(var)"
   ]
  },
  {
   "cell_type": "code",
   "execution_count": 5,
   "id": "091c59a9-73e0-41b9-947c-643868953649",
   "metadata": {},
   "outputs": [
    {
     "data": {
      "text/html": [
       "<div>\n",
       "<style scoped>\n",
       "    .dataframe tbody tr th:only-of-type {\n",
       "        vertical-align: middle;\n",
       "    }\n",
       "\n",
       "    .dataframe tbody tr th {\n",
       "        vertical-align: top;\n",
       "    }\n",
       "\n",
       "    .dataframe thead th {\n",
       "        text-align: right;\n",
       "    }\n",
       "</style>\n",
       "<table border=\"1\" class=\"dataframe\">\n",
       "  <thead>\n",
       "    <tr style=\"text-align: right;\">\n",
       "      <th></th>\n",
       "      <th>gvkey</th>\n",
       "      <th>datadate</th>\n",
       "      <th>fyearq</th>\n",
       "      <th>fqtr</th>\n",
       "      <th>fyr</th>\n",
       "      <th>indfmt</th>\n",
       "      <th>consol</th>\n",
       "      <th>popsrc</th>\n",
       "      <th>datafmt</th>\n",
       "      <th>tic</th>\n",
       "      <th>...</th>\n",
       "      <th>costat</th>\n",
       "      <th>fic</th>\n",
       "      <th>cshtrq</th>\n",
       "      <th>dvpspq</th>\n",
       "      <th>dvpsxq</th>\n",
       "      <th>mkvaltq</th>\n",
       "      <th>prccq</th>\n",
       "      <th>prchq</th>\n",
       "      <th>prclq</th>\n",
       "      <th>adjex</th>\n",
       "    </tr>\n",
       "  </thead>\n",
       "  <tbody>\n",
       "    <tr>\n",
       "      <th>0</th>\n",
       "      <td>001000</td>\n",
       "      <td>1966-03-31</td>\n",
       "      <td>1966.0</td>\n",
       "      <td>1.0</td>\n",
       "      <td>12.0</td>\n",
       "      <td>INDL</td>\n",
       "      <td>C</td>\n",
       "      <td>D</td>\n",
       "      <td>STD</td>\n",
       "      <td>AE.2</td>\n",
       "      <td>...</td>\n",
       "      <td>I</td>\n",
       "      <td>USA</td>\n",
       "      <td>None</td>\n",
       "      <td>None</td>\n",
       "      <td>0.0</td>\n",
       "      <td>None</td>\n",
       "      <td>None</td>\n",
       "      <td>None</td>\n",
       "      <td>None</td>\n",
       "      <td>3.089999</td>\n",
       "    </tr>\n",
       "    <tr>\n",
       "      <th>1</th>\n",
       "      <td>001000</td>\n",
       "      <td>1966-06-30</td>\n",
       "      <td>1966.0</td>\n",
       "      <td>2.0</td>\n",
       "      <td>12.0</td>\n",
       "      <td>INDL</td>\n",
       "      <td>C</td>\n",
       "      <td>D</td>\n",
       "      <td>STD</td>\n",
       "      <td>AE.2</td>\n",
       "      <td>...</td>\n",
       "      <td>I</td>\n",
       "      <td>USA</td>\n",
       "      <td>None</td>\n",
       "      <td>None</td>\n",
       "      <td>0.0</td>\n",
       "      <td>None</td>\n",
       "      <td>None</td>\n",
       "      <td>None</td>\n",
       "      <td>None</td>\n",
       "      <td>3.089999</td>\n",
       "    </tr>\n",
       "  </tbody>\n",
       "</table>\n",
       "<p>2 rows × 647 columns</p>\n",
       "</div>"
      ],
      "text/plain": [
       "    gvkey    datadate  fyearq  fqtr   fyr indfmt consol popsrc datafmt   tic  \\\n",
       "0  001000  1966-03-31  1966.0   1.0  12.0   INDL      C      D     STD  AE.2   \n",
       "1  001000  1966-06-30  1966.0   2.0  12.0   INDL      C      D     STD  AE.2   \n",
       "\n",
       "   ... costat  fic cshtrq dvpspq dvpsxq  mkvaltq  prccq prchq prclq     adjex  \n",
       "0  ...      I  USA   None   None    0.0     None   None  None  None  3.089999  \n",
       "1  ...      I  USA   None   None    0.0     None   None  None  None  3.089999  \n",
       "\n",
       "[2 rows x 647 columns]"
      ]
     },
     "execution_count": 5,
     "metadata": {},
     "output_type": "execute_result"
    }
   ],
   "source": [
    "sample= conn.get_table(library='comp', table='fundq', obs=5)\n",
    "sample.head(2)\n"
   ]
  },
  {
   "cell_type": "code",
   "execution_count": 6,
   "id": "7082e4eb-b65f-48e9-9e43-d4c0a90b3e76",
   "metadata": {},
   "outputs": [],
   "source": [
    "df= conn.raw_sql(f\"\"\"select conm, gvkey, cik, tic, datadate, fyearq, fqtr, fyr, fdateq, pdateq,\n",
    "                    atq, saleq, niq\n",
    "                    from comp.fundq a                    \n",
    "                    where a.fyearq >= 2018 and \n",
    "                        a.fyearq <= 2021 and\n",
    "                        a.indfmt= 'INDL' and \n",
    "                        a.datafmt = 'STD' and \n",
    "                        a.popsrc= 'D' and \n",
    "                        a.consol = 'C'\n",
    "                    \"\"\")"
   ]
  },
  {
   "cell_type": "code",
   "execution_count": 7,
   "id": "4d7329fe-5a5e-4717-9b1a-25909dd7a540",
   "metadata": {},
   "outputs": [
    {
     "data": {
      "text/plain": [
       "(182056, 13)"
      ]
     },
     "execution_count": 7,
     "metadata": {},
     "output_type": "execute_result"
    }
   ],
   "source": [
    "df.shape"
   ]
  },
  {
   "cell_type": "code",
   "execution_count": 8,
   "id": "8ab76965-a24a-4837-af28-afc1a15c2f34",
   "metadata": {},
   "outputs": [
    {
     "data": {
      "text/plain": [
       "(118486, 13)"
      ]
     },
     "execution_count": 8,
     "metadata": {},
     "output_type": "execute_result"
    }
   ],
   "source": [
    "df= df.dropna(subset= ['atq', 'saleq', 'niq'])\n",
    "df.shape"
   ]
  },
  {
   "cell_type": "code",
   "execution_count": 9,
   "id": "b8140ae2-39e7-455a-ab3c-cc5baf1344bb",
   "metadata": {},
   "outputs": [],
   "source": [
    "df= df.sort_values(['gvkey','datadate','fqtr'])"
   ]
  },
  {
   "cell_type": "code",
   "execution_count": 10,
   "id": "ef10953b-4453-416d-b702-8699d768dc35",
   "metadata": {},
   "outputs": [
    {
     "data": {
      "text/html": [
       "<div>\n",
       "<style scoped>\n",
       "    .dataframe tbody tr th:only-of-type {\n",
       "        vertical-align: middle;\n",
       "    }\n",
       "\n",
       "    .dataframe tbody tr th {\n",
       "        vertical-align: top;\n",
       "    }\n",
       "\n",
       "    .dataframe thead th {\n",
       "        text-align: right;\n",
       "    }\n",
       "</style>\n",
       "<table border=\"1\" class=\"dataframe\">\n",
       "  <thead>\n",
       "    <tr style=\"text-align: right;\">\n",
       "      <th></th>\n",
       "      <th>conm</th>\n",
       "      <th>gvkey</th>\n",
       "      <th>cik</th>\n",
       "      <th>tic</th>\n",
       "      <th>datadate</th>\n",
       "      <th>fyearq</th>\n",
       "      <th>fqtr</th>\n",
       "      <th>fyr</th>\n",
       "      <th>fdateq</th>\n",
       "      <th>pdateq</th>\n",
       "      <th>atq</th>\n",
       "      <th>saleq</th>\n",
       "      <th>niq</th>\n",
       "    </tr>\n",
       "  </thead>\n",
       "  <tbody>\n",
       "    <tr>\n",
       "      <th>0</th>\n",
       "      <td>AAR CORP</td>\n",
       "      <td>001004</td>\n",
       "      <td>0000001750</td>\n",
       "      <td>AIR</td>\n",
       "      <td>2018-08-31</td>\n",
       "      <td>2018.0</td>\n",
       "      <td>1.0</td>\n",
       "      <td>5.0</td>\n",
       "      <td>2018-09-28</td>\n",
       "      <td>2018-09-26</td>\n",
       "      <td>1537.8</td>\n",
       "      <td>466.3</td>\n",
       "      <td>15.1</td>\n",
       "    </tr>\n",
       "    <tr>\n",
       "      <th>1</th>\n",
       "      <td>AAR CORP</td>\n",
       "      <td>001004</td>\n",
       "      <td>0000001750</td>\n",
       "      <td>AIR</td>\n",
       "      <td>2018-11-30</td>\n",
       "      <td>2018.0</td>\n",
       "      <td>2.0</td>\n",
       "      <td>5.0</td>\n",
       "      <td>2019-01-02</td>\n",
       "      <td>2018-12-18</td>\n",
       "      <td>1604.2</td>\n",
       "      <td>493.3</td>\n",
       "      <td>7.0</td>\n",
       "    </tr>\n",
       "    <tr>\n",
       "      <th>2</th>\n",
       "      <td>AAR CORP</td>\n",
       "      <td>001004</td>\n",
       "      <td>0000001750</td>\n",
       "      <td>AIR</td>\n",
       "      <td>2019-02-28</td>\n",
       "      <td>2018.0</td>\n",
       "      <td>3.0</td>\n",
       "      <td>5.0</td>\n",
       "      <td>2019-03-22</td>\n",
       "      <td>2019-03-20</td>\n",
       "      <td>1546.5</td>\n",
       "      <td>529.5</td>\n",
       "      <td>-37.4</td>\n",
       "    </tr>\n",
       "    <tr>\n",
       "      <th>3</th>\n",
       "      <td>AAR CORP</td>\n",
       "      <td>001004</td>\n",
       "      <td>0000001750</td>\n",
       "      <td>AIR</td>\n",
       "      <td>2019-05-31</td>\n",
       "      <td>2018.0</td>\n",
       "      <td>4.0</td>\n",
       "      <td>5.0</td>\n",
       "      <td>2019-07-26</td>\n",
       "      <td>2019-07-10</td>\n",
       "      <td>1517.2</td>\n",
       "      <td>562.7</td>\n",
       "      <td>22.8</td>\n",
       "    </tr>\n",
       "    <tr>\n",
       "      <th>45518</th>\n",
       "      <td>AAR CORP</td>\n",
       "      <td>001004</td>\n",
       "      <td>0000001750</td>\n",
       "      <td>AIR</td>\n",
       "      <td>2019-08-31</td>\n",
       "      <td>2019.0</td>\n",
       "      <td>1.0</td>\n",
       "      <td>5.0</td>\n",
       "      <td>2019-09-27</td>\n",
       "      <td>2019-09-25</td>\n",
       "      <td>1683.1</td>\n",
       "      <td>541.5</td>\n",
       "      <td>4.4</td>\n",
       "    </tr>\n",
       "  </tbody>\n",
       "</table>\n",
       "</div>"
      ],
      "text/plain": [
       "           conm   gvkey         cik  tic    datadate  fyearq  fqtr  fyr  \\\n",
       "0      AAR CORP  001004  0000001750  AIR  2018-08-31  2018.0   1.0  5.0   \n",
       "1      AAR CORP  001004  0000001750  AIR  2018-11-30  2018.0   2.0  5.0   \n",
       "2      AAR CORP  001004  0000001750  AIR  2019-02-28  2018.0   3.0  5.0   \n",
       "3      AAR CORP  001004  0000001750  AIR  2019-05-31  2018.0   4.0  5.0   \n",
       "45518  AAR CORP  001004  0000001750  AIR  2019-08-31  2019.0   1.0  5.0   \n",
       "\n",
       "           fdateq      pdateq     atq  saleq   niq  \n",
       "0      2018-09-28  2018-09-26  1537.8  466.3  15.1  \n",
       "1      2019-01-02  2018-12-18  1604.2  493.3   7.0  \n",
       "2      2019-03-22  2019-03-20  1546.5  529.5 -37.4  \n",
       "3      2019-07-26  2019-07-10  1517.2  562.7  22.8  \n",
       "45518  2019-09-27  2019-09-25  1683.1  541.5   4.4  "
      ]
     },
     "execution_count": 10,
     "metadata": {},
     "output_type": "execute_result"
    }
   ],
   "source": [
    "df.head()"
   ]
  },
  {
   "cell_type": "code",
   "execution_count": 12,
   "id": "91079501-97f4-4dfc-843c-55261da5bb2d",
   "metadata": {},
   "outputs": [
    {
     "data": {
      "text/plain": [
       "4.0    30994\n",
       "2.0    29984\n",
       "1.0    28821\n",
       "3.0    28667\n",
       "NaN       20\n",
       "Name: fqtr, dtype: int64"
      ]
     },
     "execution_count": 12,
     "metadata": {},
     "output_type": "execute_result"
    }
   ],
   "source": [
    "df['fqtr'].value_counts(dropna= False)"
   ]
  },
  {
   "cell_type": "code",
   "execution_count": 13,
   "id": "25da4832-9280-4ea5-8d41-a44053cd37b7",
   "metadata": {},
   "outputs": [
    {
     "data": {
      "text/plain": [
       "(118486, 13)"
      ]
     },
     "execution_count": 13,
     "metadata": {},
     "output_type": "execute_result"
    }
   ],
   "source": [
    "df.shape"
   ]
  },
  {
   "cell_type": "code",
   "execution_count": 14,
   "id": "b2328628-cc82-4c92-a706-14c814789732",
   "metadata": {},
   "outputs": [],
   "source": [
    "df.dropna(subset=['fqtr'], inplace= True)"
   ]
  },
  {
   "cell_type": "code",
   "execution_count": 15,
   "id": "d8e78953-ad7c-45e9-8128-d2ce08e245e9",
   "metadata": {},
   "outputs": [
    {
     "data": {
      "text/plain": [
       "(118466, 13)"
      ]
     },
     "execution_count": 15,
     "metadata": {},
     "output_type": "execute_result"
    }
   ],
   "source": [
    "df.shape"
   ]
  },
  {
   "cell_type": "code",
   "execution_count": 16,
   "id": "34ccd783-32d6-41fd-98ac-24bb087e442a",
   "metadata": {},
   "outputs": [],
   "source": [
    "df[['fyearq', 'fqtr', 'fyr']]= df[['fyearq', 'fqtr', 'fyr']].astype(int)"
   ]
  },
  {
   "cell_type": "code",
   "execution_count": 17,
   "id": "de702c06-766f-40f3-acab-cbc7bc4cbf36",
   "metadata": {},
   "outputs": [
    {
     "data": {
      "text/plain": [
       "4    30994\n",
       "2    29984\n",
       "1    28821\n",
       "3    28667\n",
       "Name: fqtr, dtype: int64"
      ]
     },
     "execution_count": 17,
     "metadata": {},
     "output_type": "execute_result"
    }
   ],
   "source": [
    "df['fqtr'].value_counts()"
   ]
  },
  {
   "cell_type": "code",
   "execution_count": 18,
   "id": "47a4f28a-7676-4f6d-b375-c87f8851170d",
   "metadata": {},
   "outputs": [],
   "source": [
    "df['fyq']= df['fyearq'].astype('str') + 'Q' + df['fqtr'].astype('str')"
   ]
  },
  {
   "cell_type": "code",
   "execution_count": 19,
   "id": "32946d2a-57b0-481b-a4e7-35f8412bdfae",
   "metadata": {},
   "outputs": [
    {
     "data": {
      "text/html": [
       "<div>\n",
       "<style scoped>\n",
       "    .dataframe tbody tr th:only-of-type {\n",
       "        vertical-align: middle;\n",
       "    }\n",
       "\n",
       "    .dataframe tbody tr th {\n",
       "        vertical-align: top;\n",
       "    }\n",
       "\n",
       "    .dataframe thead th {\n",
       "        text-align: right;\n",
       "    }\n",
       "</style>\n",
       "<table border=\"1\" class=\"dataframe\">\n",
       "  <thead>\n",
       "    <tr style=\"text-align: right;\">\n",
       "      <th></th>\n",
       "      <th>conm</th>\n",
       "      <th>gvkey</th>\n",
       "      <th>cik</th>\n",
       "      <th>tic</th>\n",
       "      <th>datadate</th>\n",
       "      <th>fyearq</th>\n",
       "      <th>fqtr</th>\n",
       "      <th>fyr</th>\n",
       "      <th>fdateq</th>\n",
       "      <th>pdateq</th>\n",
       "      <th>atq</th>\n",
       "      <th>saleq</th>\n",
       "      <th>niq</th>\n",
       "      <th>fyq</th>\n",
       "    </tr>\n",
       "  </thead>\n",
       "  <tbody>\n",
       "    <tr>\n",
       "      <th>0</th>\n",
       "      <td>AAR CORP</td>\n",
       "      <td>001004</td>\n",
       "      <td>0000001750</td>\n",
       "      <td>AIR</td>\n",
       "      <td>2018-08-31</td>\n",
       "      <td>2018</td>\n",
       "      <td>1</td>\n",
       "      <td>5</td>\n",
       "      <td>2018-09-28</td>\n",
       "      <td>2018-09-26</td>\n",
       "      <td>1537.8</td>\n",
       "      <td>466.3</td>\n",
       "      <td>15.1</td>\n",
       "      <td>2018Q1</td>\n",
       "    </tr>\n",
       "    <tr>\n",
       "      <th>1</th>\n",
       "      <td>AAR CORP</td>\n",
       "      <td>001004</td>\n",
       "      <td>0000001750</td>\n",
       "      <td>AIR</td>\n",
       "      <td>2018-11-30</td>\n",
       "      <td>2018</td>\n",
       "      <td>2</td>\n",
       "      <td>5</td>\n",
       "      <td>2019-01-02</td>\n",
       "      <td>2018-12-18</td>\n",
       "      <td>1604.2</td>\n",
       "      <td>493.3</td>\n",
       "      <td>7.0</td>\n",
       "      <td>2018Q2</td>\n",
       "    </tr>\n",
       "    <tr>\n",
       "      <th>2</th>\n",
       "      <td>AAR CORP</td>\n",
       "      <td>001004</td>\n",
       "      <td>0000001750</td>\n",
       "      <td>AIR</td>\n",
       "      <td>2019-02-28</td>\n",
       "      <td>2018</td>\n",
       "      <td>3</td>\n",
       "      <td>5</td>\n",
       "      <td>2019-03-22</td>\n",
       "      <td>2019-03-20</td>\n",
       "      <td>1546.5</td>\n",
       "      <td>529.5</td>\n",
       "      <td>-37.4</td>\n",
       "      <td>2018Q3</td>\n",
       "    </tr>\n",
       "    <tr>\n",
       "      <th>3</th>\n",
       "      <td>AAR CORP</td>\n",
       "      <td>001004</td>\n",
       "      <td>0000001750</td>\n",
       "      <td>AIR</td>\n",
       "      <td>2019-05-31</td>\n",
       "      <td>2018</td>\n",
       "      <td>4</td>\n",
       "      <td>5</td>\n",
       "      <td>2019-07-26</td>\n",
       "      <td>2019-07-10</td>\n",
       "      <td>1517.2</td>\n",
       "      <td>562.7</td>\n",
       "      <td>22.8</td>\n",
       "      <td>2018Q4</td>\n",
       "    </tr>\n",
       "    <tr>\n",
       "      <th>45518</th>\n",
       "      <td>AAR CORP</td>\n",
       "      <td>001004</td>\n",
       "      <td>0000001750</td>\n",
       "      <td>AIR</td>\n",
       "      <td>2019-08-31</td>\n",
       "      <td>2019</td>\n",
       "      <td>1</td>\n",
       "      <td>5</td>\n",
       "      <td>2019-09-27</td>\n",
       "      <td>2019-09-25</td>\n",
       "      <td>1683.1</td>\n",
       "      <td>541.5</td>\n",
       "      <td>4.4</td>\n",
       "      <td>2019Q1</td>\n",
       "    </tr>\n",
       "  </tbody>\n",
       "</table>\n",
       "</div>"
      ],
      "text/plain": [
       "           conm   gvkey         cik  tic    datadate  fyearq  fqtr  fyr  \\\n",
       "0      AAR CORP  001004  0000001750  AIR  2018-08-31    2018     1    5   \n",
       "1      AAR CORP  001004  0000001750  AIR  2018-11-30    2018     2    5   \n",
       "2      AAR CORP  001004  0000001750  AIR  2019-02-28    2018     3    5   \n",
       "3      AAR CORP  001004  0000001750  AIR  2019-05-31    2018     4    5   \n",
       "45518  AAR CORP  001004  0000001750  AIR  2019-08-31    2019     1    5   \n",
       "\n",
       "           fdateq      pdateq     atq  saleq   niq     fyq  \n",
       "0      2018-09-28  2018-09-26  1537.8  466.3  15.1  2018Q1  \n",
       "1      2019-01-02  2018-12-18  1604.2  493.3   7.0  2018Q2  \n",
       "2      2019-03-22  2019-03-20  1546.5  529.5 -37.4  2018Q3  \n",
       "3      2019-07-26  2019-07-10  1517.2  562.7  22.8  2018Q4  \n",
       "45518  2019-09-27  2019-09-25  1683.1  541.5   4.4  2019Q1  "
      ]
     },
     "execution_count": 19,
     "metadata": {},
     "output_type": "execute_result"
    }
   ],
   "source": [
    "df.head()"
   ]
  },
  {
   "cell_type": "code",
   "execution_count": 20,
   "id": "f9930910-4757-4939-a6dd-526e915fd146",
   "metadata": {},
   "outputs": [
    {
     "data": {
      "text/plain": [
       "(7768, 14)"
      ]
     },
     "execution_count": 20,
     "metadata": {},
     "output_type": "execute_result"
    }
   ],
   "source": [
    "df_20q4= df[(df.fyearq==2020) & (df.fqtr==4)]\n",
    "df_20q4.shape"
   ]
  },
  {
   "cell_type": "markdown",
   "id": "244f772c-f943-4446-bfb3-0377439b13ca",
   "metadata": {},
   "source": [
    "------------"
   ]
  },
  {
   "cell_type": "markdown",
   "id": "0ae7dc67-18c3-4212-b917-fbcc81506357",
   "metadata": {},
   "source": [
    "## Check data with visualization"
   ]
  },
  {
   "cell_type": "code",
   "execution_count": 32,
   "id": "c159e2a7-bc93-4f68-8d2e-b3373afcee40",
   "metadata": {},
   "outputs": [
    {
     "data": {
      "image/png": "[encoded data removed]",
      "text/plain": [
       "<Figure size 720x288 with 1 Axes>"
      ]
     },
     "metadata": {
      "needs_background": "light"
     },
     "output_type": "display_data"
    }
   ],
   "source": [
    "df.groupby(['fyq']).count()['cik'].plot(kind='bar', figsize=(10,4), grid= True, color= 'b')\n",
    "plt.title('The number of observations by quarter', fontsize= 15)\n",
    "plt.show()"
   ]
  },
  {
   "cell_type": "markdown",
   "id": "001d86cb-2a23-4146-8f88-956f010174f8",
   "metadata": {},
   "source": [
    "<em> why high in Q4? Inspections needed. </em>"
   ]
  },
  {
   "cell_type": "markdown",
   "id": "ea2f7fc4-78ac-4d4e-b8fd-28a967c42d11",
   "metadata": {},
   "source": [
    "------------"
   ]
  },
  {
   "cell_type": "code",
   "execution_count": 22,
   "id": "ebcc0ed3-ff53-4f6c-9acf-ba15075b4826",
   "metadata": {},
   "outputs": [
    {
     "data": {
      "text/plain": [
       "fyr\n",
       "1      172\n",
       "2       54\n",
       "3      295\n",
       "4       75\n",
       "5       56\n",
       "6      332\n",
       "7       77\n",
       "8       94\n",
       "9      323\n",
       "10     101\n",
       "11      60\n",
       "12    6129\n",
       "dtype: int64"
      ]
     },
     "execution_count": 22,
     "metadata": {},
     "output_type": "execute_result"
    }
   ],
   "source": [
    "by_month= df_20q4.value_counts('fyr').sort_index()\n",
    "by_month"
   ]
  },
  {
   "cell_type": "code",
   "execution_count": 31,
   "id": "7d12ca68-48c4-45fd-8f1c-79d98c7a9cf1",
   "metadata": {},
   "outputs": [
    {
     "data": {
      "image/png": "[encoded data removed]",
      "text/plain": [
       "<Figure size 1440x360 with 1 Axes>"
      ]
     },
     "metadata": {
      "needs_background": "light"
     },
     "output_type": "display_data"
    }
   ],
   "source": [
    "by_month.sort_index(ascending=False).plot(kind='barh', grid= True, figsize=(20,5))\n",
    "plt.title('The number of observations by fiscal-year-end', fontsize= 15)                                          \n",
    "plt.show()"
   ]
  },
  {
   "cell_type": "markdown",
   "id": "aca0a1f9-6d12-423d-8ddd-dc4c27125ebd",
   "metadata": {},
   "source": [
    "-------------"
   ]
  },
  {
   "cell_type": "markdown",
   "id": "002c0310-e1ea-4420-af4b-38ffc811513b",
   "metadata": {},
   "source": [
    "### Save to .csv"
   ]
  },
  {
   "cell_type": "code",
   "execution_count": 34,
   "id": "0f941388-77fb-4bf5-a27c-88101d9e0492",
   "metadata": {},
   "outputs": [],
   "source": [
    "df.to_csv(\"data/comp_fundq.csv\", index= None)"
   ]
  },
  {
   "cell_type": "markdown",
   "id": "b0153116-115e-4b26-a28f-7399261b8e69",
   "metadata": {},
   "source": [
    "### Close connection"
   ]
  },
  {
   "cell_type": "code",
   "execution_count": 35,
   "id": "54748151-f0bf-454f-9cb7-abb43cd0cfbd",
   "metadata": {},
   "outputs": [],
   "source": [
    "conn.close()"
   ]
  }
 ],
 "metadata": {
  "kernelspec": {
   "display_name": "sec",
   "language": "python",
   "name": "sec"
  },
  "language_info": {
   "codemirror_mode": {
    "name": "ipython",
    "version": 3
   },
   "file_extension": ".py",
   "mimetype": "text/x-python",
   "name": "python",
   "nbconvert_exporter": "python",
   "pygments_lexer": "ipython3",
   "version": "3.8.8"
  },
  "widgets": {
   "application/vnd.jupyter.widget-state+json": {
    "state": {},
    "version_major": 2,
    "version_minor": 0
   }
  }
 },
 "nbformat": 4,
 "nbformat_minor": 5
}
