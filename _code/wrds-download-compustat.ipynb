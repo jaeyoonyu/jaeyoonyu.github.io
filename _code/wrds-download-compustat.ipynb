{
 "cells": [
  {
   "cell_type": "markdown",
   "id": "4633cce5-ba97-4631-bce1-fbb65c5dea66",
   "metadata": {},
   "source": [
    "## Download Compustat data from WRDS"
   ]
  },
  {
   "cell_type": "markdown",
   "id": "eed9431c-85e8-4651-a33b-2be6e56579c7",
   "metadata": {},
   "source": [
    "-------------------------"
   ]
  },
  {
   "cell_type": "markdown",
   "id": "d4bfcf5c-c883-4ac1-839b-f2c76c0284cb",
   "metadata": {},
   "source": [
    "### Import libraries"
   ]
  },
  {
   "cell_type": "code",
   "execution_count": 1,
   "id": "9cff7b80-9b0c-4cd3-a11c-cf28f63842ff",
   "metadata": {},
   "outputs": [],
   "source": [
    "import pandas as pd\n",
    "import matplotlib.pyplot as plt\n",
    "import wrds"
   ]
  },
  {
   "cell_type": "markdown",
   "id": "432f2b4a-02a6-4c58-9e6a-ffda0615342f",
   "metadata": {},
   "source": [
    "### Connect WRDS"
   ]
  },
  {
   "cell_type": "code",
   "execution_count": 2,
   "id": "3df4e730-ca27-4c67-8d76-fb5ae5c90084",
   "metadata": {},
   "outputs": [
    {
     "name": "stdin",
     "output_type": "stream",
     "text": [
      "Enter your WRDS username [yjaey]: yjaeyoon\n",
      "Enter your password: ···············\n"
     ]
    },
    {
     "name": "stdout",
     "output_type": "stream",
     "text": [
      "WRDS recommends setting up a .pgpass file.\n"
     ]
    },
    {
     "name": "stdin",
     "output_type": "stream",
     "text": [
      "Create .pgpass file now [y/n]?:  y\n"
     ]
    },
    {
     "name": "stdout",
     "output_type": "stream",
     "text": [
      "Created .pgpass file successfully.\n",
      "Loading library list...\n",
      "Done\n"
     ]
    }
   ],
   "source": [
    "conn=wrds.Connection()"
   ]
  },
  {
   "cell_type": "markdown",
   "id": "1be252e8-fe4c-4a91-8bd1-51e716ac1ffb",
   "metadata": {},
   "source": [
    "### Download funda from Compustat"
   ]
  },
  {
   "cell_type": "code",
   "execution_count": 3,
   "id": "0dc8b77a-3f7e-4670-9106-b44f637ea9d2",
   "metadata": {},
   "outputs": [
    {
     "name": "stdout",
     "output_type": "stream",
     "text": [
      "(238413, 16)\n"
     ]
    },
    {
     "data": {
      "text/html": [
       "<div>\n",
       "<style scoped>\n",
       "    .dataframe tbody tr th:only-of-type {\n",
       "        vertical-align: middle;\n",
       "    }\n",
       "\n",
       "    .dataframe tbody tr th {\n",
       "        vertical-align: top;\n",
       "    }\n",
       "\n",
       "    .dataframe thead th {\n",
       "        text-align: right;\n",
       "    }\n",
       "</style>\n",
       "<table border=\"1\" class=\"dataframe\">\n",
       "  <thead>\n",
       "    <tr style=\"text-align: right;\">\n",
       "      <th></th>\n",
       "      <th>conm</th>\n",
       "      <th>gvkey</th>\n",
       "      <th>cik</th>\n",
       "      <th>tic</th>\n",
       "      <th>datadate</th>\n",
       "      <th>au</th>\n",
       "      <th>fyear</th>\n",
       "      <th>at</th>\n",
       "      <th>lt</th>\n",
       "      <th>sale</th>\n",
       "      <th>ni</th>\n",
       "      <th>ib</th>\n",
       "      <th>oancf</th>\n",
       "      <th>sich</th>\n",
       "      <th>mv</th>\n",
       "      <th>lev</th>\n",
       "    </tr>\n",
       "  </thead>\n",
       "  <tbody>\n",
       "    <tr>\n",
       "      <th>0</th>\n",
       "      <td>AAR CORP</td>\n",
       "      <td>001004</td>\n",
       "      <td>0000001750</td>\n",
       "      <td>AIR</td>\n",
       "      <td>1991-05-31</td>\n",
       "      <td>6</td>\n",
       "      <td>1990</td>\n",
       "      <td>379.958</td>\n",
       "      <td>186.180</td>\n",
       "      <td>466.542</td>\n",
       "      <td>14.801</td>\n",
       "      <td>14.801</td>\n",
       "      <td>36.891</td>\n",
       "      <td>5080.0</td>\n",
       "      <td>224.460360</td>\n",
       "      <td>0.490002</td>\n",
       "    </tr>\n",
       "    <tr>\n",
       "      <th>1</th>\n",
       "      <td>AAR CORP</td>\n",
       "      <td>001004</td>\n",
       "      <td>0000001750</td>\n",
       "      <td>AIR</td>\n",
       "      <td>1992-05-31</td>\n",
       "      <td>6</td>\n",
       "      <td>1991</td>\n",
       "      <td>395.351</td>\n",
       "      <td>198.614</td>\n",
       "      <td>422.657</td>\n",
       "      <td>10.020</td>\n",
       "      <td>10.020</td>\n",
       "      <td>8.814</td>\n",
       "      <td>5080.0</td>\n",
       "      <td>204.699595</td>\n",
       "      <td>0.502374</td>\n",
       "    </tr>\n",
       "    <tr>\n",
       "      <th>2</th>\n",
       "      <td>AAR CORP</td>\n",
       "      <td>001004</td>\n",
       "      <td>0000001750</td>\n",
       "      <td>AIR</td>\n",
       "      <td>1993-05-31</td>\n",
       "      <td>6</td>\n",
       "      <td>1992</td>\n",
       "      <td>365.151</td>\n",
       "      <td>175.935</td>\n",
       "      <td>382.780</td>\n",
       "      <td>0.283</td>\n",
       "      <td>0.283</td>\n",
       "      <td>16.806</td>\n",
       "      <td>5080.0</td>\n",
       "      <td>214.663477</td>\n",
       "      <td>0.481814</td>\n",
       "    </tr>\n",
       "    <tr>\n",
       "      <th>3</th>\n",
       "      <td>AAR CORP</td>\n",
       "      <td>001004</td>\n",
       "      <td>0000001750</td>\n",
       "      <td>AIR</td>\n",
       "      <td>1994-05-31</td>\n",
       "      <td>6</td>\n",
       "      <td>1993</td>\n",
       "      <td>417.626</td>\n",
       "      <td>228.138</td>\n",
       "      <td>407.754</td>\n",
       "      <td>9.494</td>\n",
       "      <td>9.484</td>\n",
       "      <td>6.697</td>\n",
       "      <td>5080.0</td>\n",
       "      <td>228.648720</td>\n",
       "      <td>0.546273</td>\n",
       "    </tr>\n",
       "    <tr>\n",
       "      <th>4</th>\n",
       "      <td>AAR CORP</td>\n",
       "      <td>001004</td>\n",
       "      <td>0000001750</td>\n",
       "      <td>AIR</td>\n",
       "      <td>1995-05-31</td>\n",
       "      <td>6</td>\n",
       "      <td>1994</td>\n",
       "      <td>425.814</td>\n",
       "      <td>228.695</td>\n",
       "      <td>451.395</td>\n",
       "      <td>10.463</td>\n",
       "      <td>10.463</td>\n",
       "      <td>15.255</td>\n",
       "      <td>5080.0</td>\n",
       "      <td>243.405235</td>\n",
       "      <td>0.537077</td>\n",
       "    </tr>\n",
       "  </tbody>\n",
       "</table>\n",
       "</div>"
      ],
      "text/plain": [
       "       conm   gvkey         cik  tic    datadate au  fyear       at       lt  \\\n",
       "0  AAR CORP  001004  0000001750  AIR  1991-05-31  6   1990  379.958  186.180   \n",
       "1  AAR CORP  001004  0000001750  AIR  1992-05-31  6   1991  395.351  198.614   \n",
       "2  AAR CORP  001004  0000001750  AIR  1993-05-31  6   1992  365.151  175.935   \n",
       "3  AAR CORP  001004  0000001750  AIR  1994-05-31  6   1993  417.626  228.138   \n",
       "4  AAR CORP  001004  0000001750  AIR  1995-05-31  6   1994  425.814  228.695   \n",
       "\n",
       "      sale      ni      ib   oancf    sich          mv       lev  \n",
       "0  466.542  14.801  14.801  36.891  5080.0  224.460360  0.490002  \n",
       "1  422.657  10.020  10.020   8.814  5080.0  204.699595  0.502374  \n",
       "2  382.780   0.283   0.283  16.806  5080.0  214.663477  0.481814  \n",
       "3  407.754   9.494   9.484   6.697  5080.0  228.648720  0.546273  \n",
       "4  451.395  10.463  10.463  15.255  5080.0  243.405235  0.537077  "
      ]
     },
     "execution_count": 3,
     "metadata": {},
     "output_type": "execute_result"
    }
   ],
   "source": [
    "df= conn.raw_sql(f\"\"\"select conm, gvkey, cik, tic, datadate, au, fyear, at, lt, sale,  ni, ib, oancf, sich, prcc_f * csho as mv\n",
    "                    from comp.funda a\n",
    "                    \n",
    "                    where a.fyear >= 1990 and \n",
    "                        a.fyear <= 2020 and\n",
    "                        a.indfmt= 'INDL' and \n",
    "                        a.datafmt = 'STD' and \n",
    "                        a.popsrc= 'D' and \n",
    "                        a.consol = 'C'\n",
    "                    \"\"\")\n",
    "df=df.dropna(subset=['cik', 'at', 'sale', 'sich'])\n",
    "df= df.sort_values(['gvkey','datadate'])\n",
    "df['fyear']= df['fyear'].astype(int)\n",
    "df['lev']= df['lt'] / df['at']\n",
    "df= df.reset_index(drop=True)\n",
    "print(df.shape)\n",
    "df.head()"
   ]
  },
  {
   "cell_type": "code",
   "execution_count": 4,
   "id": "319c478b-5787-4a44-aead-f78dff3f98d4",
   "metadata": {},
   "outputs": [],
   "source": [
    "df['industrial']= 1\n",
    "df.loc[(df.sich >= 6000) & (df.sich < 7000), 'industrial']= 0\n",
    "\n",
    "df_all= df                     # all firms\n",
    "df_ind= df[df.industrial==1]   # indusrial firms\n",
    "df_fin= df[df.industrial==0]   # finance firms"
   ]
  },
  {
   "cell_type": "code",
   "execution_count": 5,
   "id": "00ae6857-30f7-435a-950d-f1ab8f70f064",
   "metadata": {},
   "outputs": [],
   "source": [
    "df['sic2']= (df['sich']/100).astype(int)\n",
    "\n",
    "df.loc[df.sic2 <= 9, 'industry']= 'Agriculture, Forest, Fishing'\n",
    "df.loc[(df.sic2 >= 10) & (df.sic2 <= 14), 'industry']= 'Mining'\n",
    "df.loc[(df.sic2 >= 15) & (df.sic2 <= 17), 'industry']= 'Construction'\n",
    "df.loc[(df.sic2 >= 20) & (df.sic2 <= 39), 'industry']= 'Manufacturing'\n",
    "df.loc[(df.sic2 >= 40) & (df.sic2 <= 49), 'industry']= 'Trans. & Public Utilities'\n",
    "df.loc[(df.sic2 >= 50) & (df.sic2 <= 51), 'industry']= 'Wholesale Trade'\n",
    "df.loc[(df.sic2 >= 52) & (df.sic2 <= 59), 'industry']= 'Retail Trade'\n",
    "df.loc[(df.sic2 >= 60) & (df.sic2 <= 67), 'industry']= 'Finance, Insurance, Real Estate'\n",
    "df.loc[(df.sic2 >= 70) & (df.sic2 <= 89), 'industry']= 'Services'\n",
    "df.loc[(df.sic2 >= 91) & (df.sic2 <= 99), 'industry']= 'Public Administration'"
   ]
  },
  {
   "cell_type": "markdown",
   "id": "f4440640-9ab2-4384-8bc4-65b0de533aad",
   "metadata": {},
   "source": [
    "---------------------"
   ]
  },
  {
   "cell_type": "markdown",
   "id": "924aeb32-9f09-45e1-8f28-0184d34a9929",
   "metadata": {},
   "source": [
    "## Check data with visualization"
   ]
  },
  {
   "cell_type": "markdown",
   "id": "dba3dda3-64ab-489d-a31c-340e1cb57678",
   "metadata": {},
   "source": [
    "### Distribution by years"
   ]
  },
  {
   "cell_type": "code",
   "execution_count": 6,
   "id": "90c31ba7-5e28-4e7d-b48f-84080e95df37",
   "metadata": {},
   "outputs": [
    {
     "data": {
      "text/html": [
       "<div>\n",
       "<style scoped>\n",
       "    .dataframe tbody tr th:only-of-type {\n",
       "        vertical-align: middle;\n",
       "    }\n",
       "\n",
       "    .dataframe tbody tr th {\n",
       "        vertical-align: top;\n",
       "    }\n",
       "\n",
       "    .dataframe thead th {\n",
       "        text-align: right;\n",
       "    }\n",
       "</style>\n",
       "<table border=\"1\" class=\"dataframe\">\n",
       "  <thead>\n",
       "    <tr style=\"text-align: right;\">\n",
       "      <th>industrial</th>\n",
       "      <th>0</th>\n",
       "      <th>1</th>\n",
       "    </tr>\n",
       "    <tr>\n",
       "      <th>fyear</th>\n",
       "      <th></th>\n",
       "      <th></th>\n",
       "    </tr>\n",
       "  </thead>\n",
       "  <tbody>\n",
       "    <tr>\n",
       "      <th>1990</th>\n",
       "      <td>777</td>\n",
       "      <td>6038</td>\n",
       "    </tr>\n",
       "    <tr>\n",
       "      <th>1991</th>\n",
       "      <td>825</td>\n",
       "      <td>6179</td>\n",
       "    </tr>\n",
       "    <tr>\n",
       "      <th>1992</th>\n",
       "      <td>889</td>\n",
       "      <td>6567</td>\n",
       "    </tr>\n",
       "    <tr>\n",
       "      <th>1993</th>\n",
       "      <td>1019</td>\n",
       "      <td>6923</td>\n",
       "    </tr>\n",
       "    <tr>\n",
       "      <th>1994</th>\n",
       "      <td>1045</td>\n",
       "      <td>7318</td>\n",
       "    </tr>\n",
       "  </tbody>\n",
       "</table>\n",
       "</div>"
      ],
      "text/plain": [
       "industrial     0     1\n",
       "fyear                 \n",
       "1990         777  6038\n",
       "1991         825  6179\n",
       "1992         889  6567\n",
       "1993        1019  6923\n",
       "1994        1045  7318"
      ]
     },
     "execution_count": 6,
     "metadata": {},
     "output_type": "execute_result"
    }
   ],
   "source": [
    "df_plot= df_all.groupby(['fyear', 'industrial']).size().reset_index().pivot(index= 'fyear', columns='industrial', values= 0)\n",
    "df_plot.head()"
   ]
  },
  {
   "cell_type": "code",
   "execution_count": 7,
   "id": "a48d8ba3-d86c-4add-ab55-64d7da3f3481",
   "metadata": {},
   "outputs": [
    {
     "data": {
      "image/png": "[encoded data removed]",
      "text/plain": [
       "<Figure size 720x360 with 1 Axes>"
      ]
     },
     "metadata": {
      "needs_background": "light"
     },
     "output_type": "display_data"
    }
   ],
   "source": [
    "df_plot.plot(kind='bar', grid= True, stacked= True, figsize= (10,5))\n",
    "plt.show()"
   ]
  },
  {
   "cell_type": "markdown",
   "id": "8f289f76-6161-4105-9f34-4f62bde7b997",
   "metadata": {},
   "source": [
    "<em>Increase in the number of financial firms in 2004? </em>"
   ]
  },
  {
   "cell_type": "markdown",
   "id": "c141562c-2e59-4ce4-b12c-5cfa46e83ad2",
   "metadata": {},
   "source": [
    "### Sum of total assets, Revenues, and MV by years"
   ]
  },
  {
   "cell_type": "code",
   "execution_count": 8,
   "id": "30775546-9fc2-4e46-9128-f5bb9515ef15",
   "metadata": {},
   "outputs": [
    {
     "data": {
      "image/png": "[encoded data removed]",
      "text/plain": [
       "<Figure size 720x360 with 1 Axes>"
      ]
     },
     "metadata": {
      "needs_background": "light"
     },
     "output_type": "display_data"
    }
   ],
   "source": [
    "df_ind.groupby(['fyear']).sum()['at'].plot(kind='line', color= 'g', marker='+', label= 'Sum of Asset')\n",
    "df_ind.groupby(['fyear']).sum()['sale'].plot(kind='line', color= 'r', marker='o', label= 'Sum of Revenues')\n",
    "df_ind.groupby(['fyear']).sum()['mv'].plot(kind='line', figsize=(10,5), grid= True, color= 'b', marker='*', lw= 5, label= 'Sum of Market Cap')\n",
    "plt.legend()\n",
    "\n",
    "plt.title(\"Sum of total assets, Revenues, and MV by years using industrial firms\\n\", fontsize= 15)\n",
    "plt.show()"
   ]
  },
  {
   "cell_type": "markdown",
   "id": "ab020fa7-18cd-48f6-9186-52e888898034",
   "metadata": {},
   "source": [
    "* <em>Sum of MV decreased in 2000 (DotCom bubble) and 2008 (Financial Crisis) substantially.</em>\n",
    "* As shown in the yearly distribution of number of obs earlier, some non-finance firms may be reclassified into finance firms in year 2004, resulting in the decrease of assets in 2004."
   ]
  },
  {
   "cell_type": "markdown",
   "id": "ddd16d86-a7bd-4f4c-a739-8198a8337829",
   "metadata": {},
   "source": [
    "### Sum of Net Income and Operating Cash Flows"
   ]
  },
  {
   "cell_type": "code",
   "execution_count": 9,
   "id": "29fe9dd2-6462-4610-bf7d-d200fa117f9f",
   "metadata": {},
   "outputs": [
    {
     "data": {
      "image/png": "[encoded data removed]",
      "text/plain": [
       "<Figure size 720x360 with 1 Axes>"
      ]
     },
     "metadata": {
      "needs_background": "light"
     },
     "output_type": "display_data"
    }
   ],
   "source": [
    "df_ind.groupby(['fyear']).sum()['ni'].plot(kind='line', color= 'g', marker='+', label= 'Net Income')\n",
    "df_ind.groupby(['fyear']).sum()['oancf'].plot(kind='line', figsize=(10,5), grid= True, color= 'b', marker='*', label= 'Operating Cash Flows')\n",
    "plt.legend()\n",
    "plt.title(\"Sum of Net Income and Operating Cash Flows by years using industrial firms\\n\", fontsize= 15)\n",
    "plt.show()"
   ]
  },
  {
   "cell_type": "markdown",
   "id": "aca0a1f9-6d12-423d-8ddd-dc4c27125ebd",
   "metadata": {},
   "source": [
    "-------------"
   ]
  },
  {
   "cell_type": "markdown",
   "id": "002c0310-e1ea-4420-af4b-38ffc811513b",
   "metadata": {},
   "source": [
    "### Save dataframe to .csv"
   ]
  },
  {
   "cell_type": "code",
   "execution_count": 13,
   "id": "1f4083f5-76ae-4636-90dc-56238534e6dd",
   "metadata": {},
   "outputs": [
    {
     "data": {
      "text/html": [
       "<div>\n",
       "<style scoped>\n",
       "    .dataframe tbody tr th:only-of-type {\n",
       "        vertical-align: middle;\n",
       "    }\n",
       "\n",
       "    .dataframe tbody tr th {\n",
       "        vertical-align: top;\n",
       "    }\n",
       "\n",
       "    .dataframe thead th {\n",
       "        text-align: right;\n",
       "    }\n",
       "</style>\n",
       "<table border=\"1\" class=\"dataframe\">\n",
       "  <thead>\n",
       "    <tr style=\"text-align: right;\">\n",
       "      <th></th>\n",
       "      <th>conm</th>\n",
       "      <th>gvkey</th>\n",
       "      <th>cik</th>\n",
       "      <th>tic</th>\n",
       "      <th>datadate</th>\n",
       "      <th>au</th>\n",
       "      <th>fyear</th>\n",
       "      <th>at</th>\n",
       "      <th>lt</th>\n",
       "      <th>sale</th>\n",
       "      <th>ni</th>\n",
       "      <th>ib</th>\n",
       "      <th>oancf</th>\n",
       "      <th>sich</th>\n",
       "      <th>mv</th>\n",
       "      <th>lev</th>\n",
       "      <th>industrial</th>\n",
       "      <th>sic2</th>\n",
       "      <th>industry</th>\n",
       "    </tr>\n",
       "  </thead>\n",
       "  <tbody>\n",
       "    <tr>\n",
       "      <th>0</th>\n",
       "      <td>AAR CORP</td>\n",
       "      <td>001004</td>\n",
       "      <td>0000001750</td>\n",
       "      <td>AIR</td>\n",
       "      <td>1991-05-31</td>\n",
       "      <td>6</td>\n",
       "      <td>1990</td>\n",
       "      <td>379.958</td>\n",
       "      <td>186.180</td>\n",
       "      <td>466.542</td>\n",
       "      <td>14.801</td>\n",
       "      <td>14.801</td>\n",
       "      <td>36.891</td>\n",
       "      <td>5080.0</td>\n",
       "      <td>224.460360</td>\n",
       "      <td>0.490002</td>\n",
       "      <td>1</td>\n",
       "      <td>50</td>\n",
       "      <td>Wholesale Trade</td>\n",
       "    </tr>\n",
       "    <tr>\n",
       "      <th>1</th>\n",
       "      <td>AAR CORP</td>\n",
       "      <td>001004</td>\n",
       "      <td>0000001750</td>\n",
       "      <td>AIR</td>\n",
       "      <td>1992-05-31</td>\n",
       "      <td>6</td>\n",
       "      <td>1991</td>\n",
       "      <td>395.351</td>\n",
       "      <td>198.614</td>\n",
       "      <td>422.657</td>\n",
       "      <td>10.020</td>\n",
       "      <td>10.020</td>\n",
       "      <td>8.814</td>\n",
       "      <td>5080.0</td>\n",
       "      <td>204.699595</td>\n",
       "      <td>0.502374</td>\n",
       "      <td>1</td>\n",
       "      <td>50</td>\n",
       "      <td>Wholesale Trade</td>\n",
       "    </tr>\n",
       "  </tbody>\n",
       "</table>\n",
       "</div>"
      ],
      "text/plain": [
       "       conm   gvkey         cik  tic    datadate au  fyear       at       lt  \\\n",
       "0  AAR CORP  001004  0000001750  AIR  1991-05-31  6   1990  379.958  186.180   \n",
       "1  AAR CORP  001004  0000001750  AIR  1992-05-31  6   1991  395.351  198.614   \n",
       "\n",
       "      sale      ni      ib   oancf    sich          mv       lev  industrial  \\\n",
       "0  466.542  14.801  14.801  36.891  5080.0  224.460360  0.490002           1   \n",
       "1  422.657  10.020  10.020   8.814  5080.0  204.699595  0.502374           1   \n",
       "\n",
       "   sic2         industry  \n",
       "0    50  Wholesale Trade  \n",
       "1    50  Wholesale Trade  "
      ]
     },
     "execution_count": 13,
     "metadata": {},
     "output_type": "execute_result"
    }
   ],
   "source": [
    "df.head(2)"
   ]
  },
  {
   "cell_type": "code",
   "execution_count": 10,
   "id": "0f941388-77fb-4bf5-a27c-88101d9e0492",
   "metadata": {},
   "outputs": [],
   "source": [
    "df.to_csv(\"data/compustat_from_1990.csv\", index= None)"
   ]
  },
  {
   "cell_type": "markdown",
   "id": "b0153116-115e-4b26-a28f-7399261b8e69",
   "metadata": {},
   "source": [
    "### Close connection"
   ]
  },
  {
   "cell_type": "code",
   "execution_count": 11,
   "id": "54748151-f0bf-454f-9cb7-abb43cd0cfbd",
   "metadata": {},
   "outputs": [],
   "source": [
    "conn.close()"
   ]
  }
 ],
 "metadata": {
  "kernelspec": {
   "display_name": "sec",
   "language": "python",
   "name": "sec"
  },
  "language_info": {
   "codemirror_mode": {
    "name": "ipython",
    "version": 3
   },
   "file_extension": ".py",
   "mimetype": "text/x-python",
   "name": "python",
   "nbconvert_exporter": "python",
   "pygments_lexer": "ipython3",
   "version": "3.8.8"
  },
  "widgets": {
   "application/vnd.jupyter.widget-state+json": {
    "state": {},
    "version_major": 2,
    "version_minor": 0
   }
  }
 },
 "nbformat": 4,
 "nbformat_minor": 5
}
