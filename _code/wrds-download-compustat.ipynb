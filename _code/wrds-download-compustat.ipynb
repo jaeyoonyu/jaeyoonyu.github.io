{
 "cells": [
  {
   "cell_type": "markdown",
   "id": "4633cce5-ba97-4631-bce1-fbb65c5dea66",
   "metadata": {},
   "source": [
    "## Download Compustat data from WRDS"
   ]
  },
  {
   "cell_type": "markdown",
   "id": "eed9431c-85e8-4651-a33b-2be6e56579c7",
   "metadata": {},
   "source": [
    "-------------------------"
   ]
  },
  {
   "cell_type": "markdown",
   "id": "d4bfcf5c-c883-4ac1-839b-f2c76c0284cb",
   "metadata": {},
   "source": [
    "### Import libraries"
   ]
  },
  {
   "cell_type": "code",
   "execution_count": 1,
   "id": "9cff7b80-9b0c-4cd3-a11c-cf28f63842ff",
   "metadata": {},
   "outputs": [],
   "source": [
    "import pandas as pd\n",
    "import wrds"
   ]
  },
  {
   "cell_type": "markdown",
   "id": "432f2b4a-02a6-4c58-9e6a-ffda0615342f",
   "metadata": {},
   "source": [
    "### Connect WRDS"
   ]
  },
  {
   "cell_type": "code",
   "execution_count": 2,
   "id": "3df4e730-ca27-4c67-8d76-fb5ae5c90084",
   "metadata": {},
   "outputs": [
    {
     "name": "stdin",
     "output_type": "stream",
     "text": [
      "Enter your WRDS username [yjaey]: yjaeyoon\n",
      "Enter your password: ···············\n"
     ]
    },
    {
     "name": "stdout",
     "output_type": "stream",
     "text": [
      "WRDS recommends setting up a .pgpass file.\n"
     ]
    },
    {
     "name": "stdin",
     "output_type": "stream",
     "text": [
      "Create .pgpass file now [y/n]?:  y\n"
     ]
    },
    {
     "name": "stdout",
     "output_type": "stream",
     "text": [
      "Created .pgpass file successfully.\n",
      "Loading library list...\n",
      "Done\n"
     ]
    }
   ],
   "source": [
    "conn=wrds.Connection()"
   ]
  },
  {
   "cell_type": "markdown",
   "id": "1be252e8-fe4c-4a91-8bd1-51e716ac1ffb",
   "metadata": {},
   "source": [
    "### Download funda from Compustat"
   ]
  },
  {
   "cell_type": "code",
   "execution_count": 4,
   "id": "0dc8b77a-3f7e-4670-9106-b44f637ea9d2",
   "metadata": {},
   "outputs": [
    {
     "name": "stdout",
     "output_type": "stream",
     "text": [
      "(211966, 14)\n"
     ]
    },
    {
     "data": {
      "text/html": [
       "<div>\n",
       "<style scoped>\n",
       "    .dataframe tbody tr th:only-of-type {\n",
       "        vertical-align: middle;\n",
       "    }\n",
       "\n",
       "    .dataframe tbody tr th {\n",
       "        vertical-align: top;\n",
       "    }\n",
       "\n",
       "    .dataframe thead th {\n",
       "        text-align: right;\n",
       "    }\n",
       "</style>\n",
       "<table border=\"1\" class=\"dataframe\">\n",
       "  <thead>\n",
       "    <tr style=\"text-align: right;\">\n",
       "      <th></th>\n",
       "      <th>conm</th>\n",
       "      <th>gvkey</th>\n",
       "      <th>cik</th>\n",
       "      <th>tic</th>\n",
       "      <th>datadate</th>\n",
       "      <th>au</th>\n",
       "      <th>fyear</th>\n",
       "      <th>at</th>\n",
       "      <th>sale</th>\n",
       "      <th>ni</th>\n",
       "      <th>ib</th>\n",
       "      <th>oancf</th>\n",
       "      <th>sich</th>\n",
       "      <th>mv</th>\n",
       "    </tr>\n",
       "  </thead>\n",
       "  <tbody>\n",
       "    <tr>\n",
       "      <th>0</th>\n",
       "      <td>AAR CORP</td>\n",
       "      <td>001004</td>\n",
       "      <td>0000001750</td>\n",
       "      <td>AIR</td>\n",
       "      <td>1991-05-31</td>\n",
       "      <td>6</td>\n",
       "      <td>1990</td>\n",
       "      <td>379.958</td>\n",
       "      <td>466.542</td>\n",
       "      <td>14.801</td>\n",
       "      <td>14.801</td>\n",
       "      <td>36.891</td>\n",
       "      <td>5080.0</td>\n",
       "      <td>224.460360</td>\n",
       "    </tr>\n",
       "    <tr>\n",
       "      <th>1</th>\n",
       "      <td>AAR CORP</td>\n",
       "      <td>001004</td>\n",
       "      <td>0000001750</td>\n",
       "      <td>AIR</td>\n",
       "      <td>1992-05-31</td>\n",
       "      <td>6</td>\n",
       "      <td>1991</td>\n",
       "      <td>395.351</td>\n",
       "      <td>422.657</td>\n",
       "      <td>10.020</td>\n",
       "      <td>10.020</td>\n",
       "      <td>8.814</td>\n",
       "      <td>5080.0</td>\n",
       "      <td>204.699595</td>\n",
       "    </tr>\n",
       "    <tr>\n",
       "      <th>2</th>\n",
       "      <td>AAR CORP</td>\n",
       "      <td>001004</td>\n",
       "      <td>0000001750</td>\n",
       "      <td>AIR</td>\n",
       "      <td>1993-05-31</td>\n",
       "      <td>6</td>\n",
       "      <td>1992</td>\n",
       "      <td>365.151</td>\n",
       "      <td>382.780</td>\n",
       "      <td>0.283</td>\n",
       "      <td>0.283</td>\n",
       "      <td>16.806</td>\n",
       "      <td>5080.0</td>\n",
       "      <td>214.663477</td>\n",
       "    </tr>\n",
       "    <tr>\n",
       "      <th>3</th>\n",
       "      <td>AAR CORP</td>\n",
       "      <td>001004</td>\n",
       "      <td>0000001750</td>\n",
       "      <td>AIR</td>\n",
       "      <td>1994-05-31</td>\n",
       "      <td>6</td>\n",
       "      <td>1993</td>\n",
       "      <td>417.626</td>\n",
       "      <td>407.754</td>\n",
       "      <td>9.494</td>\n",
       "      <td>9.484</td>\n",
       "      <td>6.697</td>\n",
       "      <td>5080.0</td>\n",
       "      <td>228.648720</td>\n",
       "    </tr>\n",
       "    <tr>\n",
       "      <th>4</th>\n",
       "      <td>AAR CORP</td>\n",
       "      <td>001004</td>\n",
       "      <td>0000001750</td>\n",
       "      <td>AIR</td>\n",
       "      <td>1995-05-31</td>\n",
       "      <td>6</td>\n",
       "      <td>1994</td>\n",
       "      <td>425.814</td>\n",
       "      <td>451.395</td>\n",
       "      <td>10.463</td>\n",
       "      <td>10.463</td>\n",
       "      <td>15.255</td>\n",
       "      <td>5080.0</td>\n",
       "      <td>243.405235</td>\n",
       "    </tr>\n",
       "  </tbody>\n",
       "</table>\n",
       "</div>"
      ],
      "text/plain": [
       "       conm   gvkey         cik  tic    datadate au  fyear       at     sale  \\\n",
       "0  AAR CORP  001004  0000001750  AIR  1991-05-31  6   1990  379.958  466.542   \n",
       "1  AAR CORP  001004  0000001750  AIR  1992-05-31  6   1991  395.351  422.657   \n",
       "2  AAR CORP  001004  0000001750  AIR  1993-05-31  6   1992  365.151  382.780   \n",
       "3  AAR CORP  001004  0000001750  AIR  1994-05-31  6   1993  417.626  407.754   \n",
       "4  AAR CORP  001004  0000001750  AIR  1995-05-31  6   1994  425.814  451.395   \n",
       "\n",
       "       ni      ib   oancf    sich          mv  \n",
       "0  14.801  14.801  36.891  5080.0  224.460360  \n",
       "1  10.020  10.020   8.814  5080.0  204.699595  \n",
       "2   0.283   0.283  16.806  5080.0  214.663477  \n",
       "3   9.494   9.484   6.697  5080.0  228.648720  \n",
       "4  10.463  10.463  15.255  5080.0  243.405235  "
      ]
     },
     "execution_count": 4,
     "metadata": {},
     "output_type": "execute_result"
    }
   ],
   "source": [
    "df= conn.raw_sql(f\"\"\"select conm, gvkey, cik, tic, datadate, au, fyear, at, sale,  ni, ib, oancf, sich, prcc_f * csho as mv\n",
    "                    from comp.funda a\n",
    "                    \n",
    "                    where a.fyear >= 1990 and \n",
    "                        a.fyear <= 2020 and\n",
    "                        a.indfmt= 'INDL' and \n",
    "                        a.datafmt = 'STD' and \n",
    "                        a.popsrc= 'D' and \n",
    "                        a.consol = 'C' and\n",
    "                        (a.sich < 6000 or a.sich > 6999)\n",
    "                    \"\"\")\n",
    "df= df.sort_values(['gvkey','datadate'])\n",
    "df['fyear']= df['fyear'].astype(int)\n",
    "df= df.reset_index(drop=True)\n",
    "print(df.shape)\n",
    "df.head()"
   ]
  },
  {
   "cell_type": "markdown",
   "id": "002c0310-e1ea-4420-af4b-38ffc811513b",
   "metadata": {},
   "source": [
    "### Save to .csv"
   ]
  },
  {
   "cell_type": "code",
   "execution_count": 5,
   "id": "0f941388-77fb-4bf5-a27c-88101d9e0492",
   "metadata": {},
   "outputs": [],
   "source": [
    "df.to_csv(\"compustat_from_1990.csv\", index= None)"
   ]
  },
  {
   "cell_type": "markdown",
   "id": "b0153116-115e-4b26-a28f-7399261b8e69",
   "metadata": {},
   "source": [
    "### Close connection"
   ]
  },
  {
   "cell_type": "code",
   "execution_count": 6,
   "id": "54748151-f0bf-454f-9cb7-abb43cd0cfbd",
   "metadata": {},
   "outputs": [],
   "source": [
    "conn.close()"
   ]
  }
 ],
 "metadata": {
  "kernelspec": {
   "display_name": "sec",
   "language": "python",
   "name": "sec"
  },
  "language_info": {
   "codemirror_mode": {
    "name": "ipython",
    "version": 3
   },
   "file_extension": ".py",
   "mimetype": "text/x-python",
   "name": "python",
   "nbconvert_exporter": "python",
   "pygments_lexer": "ipython3",
   "version": "3.8.8"
  },
  "widgets": {
   "application/vnd.jupyter.widget-state+json": {
    "state": {},
    "version_major": 2,
    "version_minor": 0
   }
  }
 },
 "nbformat": 4,
 "nbformat_minor": 5
}
