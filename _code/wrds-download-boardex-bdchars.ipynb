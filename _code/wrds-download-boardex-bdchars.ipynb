{
 "cells": [
  {
   "cell_type": "markdown",
   "id": "4633cce5-ba97-4631-bce1-fbb65c5dea66",
   "metadata": {},
   "source": [
    "## Download BoardEx-boardchars via WRDS"
   ]
  },
  {
   "cell_type": "markdown",
   "id": "eed9431c-85e8-4651-a33b-2be6e56579c7",
   "metadata": {},
   "source": [
    "-------------------------"
   ]
  },
  {
   "cell_type": "markdown",
   "id": "d4bfcf5c-c883-4ac1-839b-f2c76c0284cb",
   "metadata": {},
   "source": [
    "### Import libraries"
   ]
  },
  {
   "cell_type": "code",
   "execution_count": 1,
   "id": "9cff7b80-9b0c-4cd3-a11c-cf28f63842ff",
   "metadata": {},
   "outputs": [],
   "source": [
    "import numpy as np\n",
    "import pandas as pd\n",
    "import wrds\n",
    "import matplotlib.pyplot as plt\n",
    "pd.options.display.max_columns=200"
   ]
  },
  {
   "cell_type": "markdown",
   "id": "cef880b0-014a-49b0-9e66-fc1ce372805e",
   "metadata": {},
   "source": [
    "-------------"
   ]
  },
  {
   "cell_type": "markdown",
   "id": "432f2b4a-02a6-4c58-9e6a-ffda0615342f",
   "metadata": {},
   "source": [
    "### Connect WRDS"
   ]
  },
  {
   "cell_type": "code",
   "execution_count": 2,
   "id": "3df4e730-ca27-4c67-8d76-fb5ae5c90084",
   "metadata": {},
   "outputs": [
    {
     "name": "stdin",
     "output_type": "stream",
     "text": [
      "Enter your WRDS username [yjaey]: yjaeyoon\n",
      "Enter your password: ···············\n"
     ]
    },
    {
     "name": "stdout",
     "output_type": "stream",
     "text": [
      "WRDS recommends setting up a .pgpass file.\n"
     ]
    },
    {
     "name": "stdin",
     "output_type": "stream",
     "text": [
      "Create .pgpass file now [y/n]?:  y\n"
     ]
    },
    {
     "name": "stdout",
     "output_type": "stream",
     "text": [
      "Created .pgpass file successfully.\n",
      "Loading library list...\n",
      "Done\n"
     ]
    }
   ],
   "source": [
    "conn=wrds.Connection()"
   ]
  },
  {
   "cell_type": "markdown",
   "id": "075cd192-4365-4c4e-ac79-0a640c64ae16",
   "metadata": {},
   "source": [
    "### Get variable list"
   ]
  },
  {
   "cell_type": "code",
   "execution_count": 3,
   "id": "feed7695-2b2c-45f4-943c-40ed1c92b6bd",
   "metadata": {},
   "outputs": [
    {
     "name": "stdout",
     "output_type": "stream",
     "text": [
      "The number of tables in BoardEx: 174\n"
     ]
    }
   ],
   "source": [
    "bdex_tables= conn.list_tables('boardex')\n",
    "print(\"The number of tables in BoardEx:\", len(bdex_tables))"
   ]
  },
  {
   "cell_type": "code",
   "execution_count": 4,
   "id": "a2494ef4-9b06-497b-9c71-c8044970b217",
   "metadata": {
    "scrolled": true,
    "tags": []
   },
   "outputs": [
    {
     "name": "stdout",
     "output_type": "stream",
     "text": [
      "47 na_board_characteristics\n",
      "48 na_board_dir_announcements\n",
      "49 na_board_dir_committees\n",
      "50 na_board_education_assoc\n",
      "51 na_board_listed_assoc\n",
      "52 na_board_nfp_assoc\n",
      "53 na_board_other_assoc\n",
      "54 na_board_unlisted_assoc\n",
      "55 na_company_profile_advisors\n",
      "56 na_company_profile_details\n",
      "57 na_company_profile_market_cap\n",
      "58 na_company_profile_sr_mgrs\n",
      "59 na_company_profile_stocks\n",
      "60 na_dir_characteristics\n",
      "61 na_dir_education_assoc\n",
      "62 na_dir_listed_assoc\n",
      "63 na_dir_nfp_assoc\n",
      "64 na_dir_other_assoc\n",
      "65 na_dir_profile_achievements\n",
      "66 na_dir_profile_details\n",
      "67 na_dir_profile_education\n",
      "68 na_dir_profile_emp\n",
      "69 na_dir_profile_other_activ\n",
      "70 na_dir_standard_remun\n",
      "71 na_dir_unlisted_assoc\n",
      "72 na_ltip_compensation\n",
      "73 na_ltip_wealth\n",
      "74 na_options_compensation\n",
      "75 na_options_wealth\n",
      "76 na_wrds_board_char_overall\n",
      "77 na_wrds_company_dir_names\n",
      "78 na_wrds_company_director_names\n",
      "79 na_wrds_company_names\n",
      "80 na_wrds_company_networks\n",
      "81 na_wrds_company_profile\n",
      "82 na_wrds_company_region\n",
      "83 na_wrds_dir_profile_all\n",
      "84 na_wrds_dir_profile_details\n",
      "85 na_wrds_dir_profile_emp\n",
      "86 na_wrds_individual_networks\n",
      "87 na_wrds_org_composition\n",
      "88 na_wrds_org_summary\n"
     ]
    }
   ],
   "source": [
    "for idx, table in enumerate(bdex_tables):\n",
    "    if 'na_' in table:\n",
    "        print(idx, table)"
   ]
  },
  {
   "cell_type": "code",
   "execution_count": 5,
   "id": "560daf3d-b76c-4d98-969a-eb7ab5e0b800",
   "metadata": {},
   "outputs": [
    {
     "name": "stdout",
     "output_type": "stream",
     "text": [
      "47 na_board_characteristics\n",
      "48 na_board_dir_announcements\n",
      "49 na_board_dir_committees\n",
      "50 na_board_education_assoc\n",
      "51 na_board_listed_assoc\n",
      "52 na_board_nfp_assoc\n",
      "53 na_board_other_assoc\n",
      "54 na_board_unlisted_assoc\n",
      "76 na_wrds_board_char_overall\n"
     ]
    }
   ],
   "source": [
    "for idx, table in enumerate(bdex_tables):\n",
    "    if 'na_' in table and 'board' in table:\n",
    "        print(idx, table)"
   ]
  },
  {
   "cell_type": "markdown",
   "id": "6fc0c59c-1518-477b-9fd6-cadc02614f88",
   "metadata": {},
   "source": [
    "<b><font color='red'>Seems that there are two datasets for board characteristics <font></b>\n",
    "- na_board_characteristics\n",
    "- na_wrds_board_char_overall\n",
    "\n",
    "This code quickly checks which one is more usable."
   ]
  },
  {
   "cell_type": "markdown",
   "id": "f8373cb1-7a6b-4803-a3aa-a67eefce19ec",
   "metadata": {},
   "source": [
    "------------------"
   ]
  },
  {
   "cell_type": "markdown",
   "id": "3a7660e0-6bca-46bc-8368-da54136b1dd8",
   "metadata": {},
   "source": [
    "### Check the variables from the two sets"
   ]
  },
  {
   "cell_type": "code",
   "execution_count": 6,
   "id": "fbf9bd48-92b0-49c4-ae96-52f06fe02bb5",
   "metadata": {},
   "outputs": [
    {
     "name": "stdout",
     "output_type": "stream",
     "text": [
      "Approximately 462228 rows in boardex.na_board_characteristics.\n",
      "29\n"
     ]
    }
   ],
   "source": [
    "bd_chars= conn.describe_table(library='boardex', table='na_board_characteristics')\n",
    "print(len(bd_chars))"
   ]
  },
  {
   "cell_type": "code",
   "execution_count": 14,
   "id": "68beafd7-0613-4a90-aeda-87ad491be838",
   "metadata": {},
   "outputs": [
    {
     "data": {
      "text/plain": [
       "0                 boardname\n",
       "1                   rowtype\n",
       "2                 attrition\n",
       "3              attrition3yr\n",
       "4               genderratio\n",
       "5                   boardid\n",
       "6           clientcompanyid\n",
       "7            timeretirement\n",
       "8                  timerole\n",
       "9                   timebrd\n",
       "10                 timeinco\n",
       "11             avgtimeothco\n",
       "12             totnolstdbrd\n",
       "13           totnounlstdbrd\n",
       "14          totnoothlstdbrd\n",
       "15         totcurrnolstdbrd\n",
       "16       totcurrnounlstdbrd\n",
       "17      totcurrnoothlstdbrd\n",
       "18                  noquals\n",
       "19               succession\n",
       "20           nationalitymix\n",
       "21          numberdirectors\n",
       "22             stdevtimebrd\n",
       "23            stdevtimeinco\n",
       "24        stdevtotnolstdbrd\n",
       "25    stdevtotcurrnolstdbrd\n",
       "26             stdevnoquals\n",
       "27                 stdevage\n",
       "28         annualreportdate\n",
       "Name: name, dtype: object"
      ]
     },
     "execution_count": 14,
     "metadata": {},
     "output_type": "execute_result"
    }
   ],
   "source": [
    "bd_chars.name"
   ]
  },
  {
   "cell_type": "code",
   "execution_count": 11,
   "id": "0e293692-fe66-4058-938b-58d6808315e9",
   "metadata": {},
   "outputs": [
    {
     "name": "stdout",
     "output_type": "stream",
     "text": [
      "Approximately 88475 rows in boardex.na_wrds_board_char_overall.\n",
      "29\n"
     ]
    }
   ],
   "source": [
    "w_bd_chars= conn.describe_table(library='boardex', table='na_wrds_board_char_overall')\n",
    "print(len(w_bd_chars))"
   ]
  },
  {
   "cell_type": "code",
   "execution_count": 13,
   "id": "aaf20b91-ced6-4d55-b712-c83a1a45fe80",
   "metadata": {},
   "outputs": [
    {
     "data": {
      "text/plain": [
       "0                 boardname\n",
       "1                   rowtype\n",
       "2                   boardid\n",
       "3           clientcompanyid\n",
       "4            timeretirement\n",
       "5                  timerole\n",
       "6                   timebrd\n",
       "7                  timeinco\n",
       "8              avgtimeothco\n",
       "9              totnolstdbrd\n",
       "10           totnounlstdbrd\n",
       "11          totnoothlstdbrd\n",
       "12         totcurrnolstdbrd\n",
       "13       totcurrnounlstdbrd\n",
       "14      totcurrnoothlstdbrd\n",
       "15                  noquals\n",
       "16               succession\n",
       "17                attrition\n",
       "18             attrition3yr\n",
       "19              genderratio\n",
       "20           nationalitymix\n",
       "21          numberdirectors\n",
       "22             stdevtimebrd\n",
       "23            stdevtimeinco\n",
       "24         stdevtotnolstbrd\n",
       "25    stdevtotcurrnolstdbrd\n",
       "26             stdevnoquals\n",
       "27                 stdevage\n",
       "28         annualreportdate\n",
       "Name: name, dtype: object"
      ]
     },
     "execution_count": 13,
     "metadata": {},
     "output_type": "execute_result"
    }
   ],
   "source": [
    "w_bd_chars.name"
   ]
  },
  {
   "cell_type": "markdown",
   "id": "2ed97a59-1c62-4159-9f85-c9b53632b31f",
   "metadata": {},
   "source": [
    "Two datasets include the same columns, but Ns are different."
   ]
  },
  {
   "cell_type": "markdown",
   "id": "86b6ebec-4918-4c5d-99cb-4f8fd6b07510",
   "metadata": {},
   "source": [
    "--------"
   ]
  },
  {
   "cell_type": "markdown",
   "id": "4e3d6104-1391-4937-ac93-43cde221fff4",
   "metadata": {},
   "source": [
    "### Get data"
   ]
  },
  {
   "cell_type": "markdown",
   "id": "ff3d500f-95b3-4f73-881a-ac8e69725ffe",
   "metadata": {},
   "source": [
    "### Select variables to download"
   ]
  },
  {
   "cell_type": "code",
   "execution_count": 15,
   "id": "fa3956ed-69cc-45db-b7a2-6ffd27e7ea55",
   "metadata": {},
   "outputs": [],
   "source": [
    "vars_to_keep= ['boardname', 'rowtype', 'boardid', 'numberdirectors', 'genderratio', 'annualreportdate']"
   ]
  },
  {
   "cell_type": "markdown",
   "id": "51b7b493-4858-4bca-b24a-fe002148881c",
   "metadata": {},
   "source": [
    "### Pilot check"
   ]
  },
  {
   "cell_type": "code",
   "execution_count": 16,
   "id": "c58074bf-26a8-433e-a027-99b571e729fd",
   "metadata": {},
   "outputs": [
    {
     "data": {
      "text/html": [
       "<div>\n",
       "<style scoped>\n",
       "    .dataframe tbody tr th:only-of-type {\n",
       "        vertical-align: middle;\n",
       "    }\n",
       "\n",
       "    .dataframe tbody tr th {\n",
       "        vertical-align: top;\n",
       "    }\n",
       "\n",
       "    .dataframe thead th {\n",
       "        text-align: right;\n",
       "    }\n",
       "</style>\n",
       "<table border=\"1\" class=\"dataframe\">\n",
       "  <thead>\n",
       "    <tr style=\"text-align: right;\">\n",
       "      <th></th>\n",
       "      <th>boardname</th>\n",
       "      <th>rowtype</th>\n",
       "      <th>boardid</th>\n",
       "      <th>numberdirectors</th>\n",
       "      <th>genderratio</th>\n",
       "      <th>annualreportdate</th>\n",
       "    </tr>\n",
       "  </thead>\n",
       "  <tbody>\n",
       "    <tr>\n",
       "      <th>0</th>\n",
       "      <td>1 800 CONTACTS INC (De-listed 09/2007)</td>\n",
       "      <td>ED Board Characteristics</td>\n",
       "      <td>3.0</td>\n",
       "      <td>2.0</td>\n",
       "      <td>1.000</td>\n",
       "      <td>2003-12-01</td>\n",
       "    </tr>\n",
       "    <tr>\n",
       "      <th>4</th>\n",
       "      <td>1 800 CONTACTS INC (De-listed 09/2007)</td>\n",
       "      <td>SD Board Characteristics</td>\n",
       "      <td>3.0</td>\n",
       "      <td>7.0</td>\n",
       "      <td>1.000</td>\n",
       "      <td>2003-12-01</td>\n",
       "    </tr>\n",
       "    <tr>\n",
       "      <th>8</th>\n",
       "      <td>1 800 CONTACTS INC (De-listed 09/2007)</td>\n",
       "      <td>Overall Board Characteristics</td>\n",
       "      <td>3.0</td>\n",
       "      <td>9.0</td>\n",
       "      <td>1.000</td>\n",
       "      <td>2003-12-01</td>\n",
       "    </tr>\n",
       "    <tr>\n",
       "      <th>1</th>\n",
       "      <td>1 800 CONTACTS INC (De-listed 09/2007)</td>\n",
       "      <td>ED Board Characteristics</td>\n",
       "      <td>3.0</td>\n",
       "      <td>2.0</td>\n",
       "      <td>1.000</td>\n",
       "      <td>2004-12-01</td>\n",
       "    </tr>\n",
       "    <tr>\n",
       "      <th>5</th>\n",
       "      <td>1 800 CONTACTS INC (De-listed 09/2007)</td>\n",
       "      <td>SD Board Characteristics</td>\n",
       "      <td>3.0</td>\n",
       "      <td>6.0</td>\n",
       "      <td>1.000</td>\n",
       "      <td>2004-12-01</td>\n",
       "    </tr>\n",
       "    <tr>\n",
       "      <th>9</th>\n",
       "      <td>1 800 CONTACTS INC (De-listed 09/2007)</td>\n",
       "      <td>Overall Board Characteristics</td>\n",
       "      <td>3.0</td>\n",
       "      <td>8.0</td>\n",
       "      <td>1.000</td>\n",
       "      <td>2004-12-01</td>\n",
       "    </tr>\n",
       "    <tr>\n",
       "      <th>2</th>\n",
       "      <td>1 800 CONTACTS INC (De-listed 09/2007)</td>\n",
       "      <td>ED Board Characteristics</td>\n",
       "      <td>3.0</td>\n",
       "      <td>2.0</td>\n",
       "      <td>1.000</td>\n",
       "      <td>2005-12-01</td>\n",
       "    </tr>\n",
       "    <tr>\n",
       "      <th>6</th>\n",
       "      <td>1 800 CONTACTS INC (De-listed 09/2007)</td>\n",
       "      <td>SD Board Characteristics</td>\n",
       "      <td>3.0</td>\n",
       "      <td>5.0</td>\n",
       "      <td>1.000</td>\n",
       "      <td>2005-12-01</td>\n",
       "    </tr>\n",
       "    <tr>\n",
       "      <th>10</th>\n",
       "      <td>1 800 CONTACTS INC (De-listed 09/2007)</td>\n",
       "      <td>Overall Board Characteristics</td>\n",
       "      <td>3.0</td>\n",
       "      <td>7.0</td>\n",
       "      <td>1.000</td>\n",
       "      <td>2005-12-01</td>\n",
       "    </tr>\n",
       "    <tr>\n",
       "      <th>3</th>\n",
       "      <td>1 800 CONTACTS INC (De-listed 09/2007)</td>\n",
       "      <td>ED Board Characteristics</td>\n",
       "      <td>3.0</td>\n",
       "      <td>2.0</td>\n",
       "      <td>1.000</td>\n",
       "      <td>2006-12-01</td>\n",
       "    </tr>\n",
       "    <tr>\n",
       "      <th>7</th>\n",
       "      <td>1 800 CONTACTS INC (De-listed 09/2007)</td>\n",
       "      <td>SD Board Characteristics</td>\n",
       "      <td>3.0</td>\n",
       "      <td>6.0</td>\n",
       "      <td>1.000</td>\n",
       "      <td>2006-12-01</td>\n",
       "    </tr>\n",
       "    <tr>\n",
       "      <th>11</th>\n",
       "      <td>1 800 CONTACTS INC (De-listed 09/2007)</td>\n",
       "      <td>Overall Board Characteristics</td>\n",
       "      <td>3.0</td>\n",
       "      <td>8.0</td>\n",
       "      <td>1.000</td>\n",
       "      <td>2006-12-01</td>\n",
       "    </tr>\n",
       "    <tr>\n",
       "      <th>12</th>\n",
       "      <td>1-800-FLOWERS.COM INC</td>\n",
       "      <td>SD Board Characteristics</td>\n",
       "      <td>6.0</td>\n",
       "      <td>6.0</td>\n",
       "      <td>0.833</td>\n",
       "      <td>2003-06-01</td>\n",
       "    </tr>\n",
       "  </tbody>\n",
       "</table>\n",
       "</div>"
      ],
      "text/plain": [
       "                                 boardname                        rowtype  \\\n",
       "0   1 800 CONTACTS INC (De-listed 09/2007)       ED Board Characteristics   \n",
       "4   1 800 CONTACTS INC (De-listed 09/2007)       SD Board Characteristics   \n",
       "8   1 800 CONTACTS INC (De-listed 09/2007)  Overall Board Characteristics   \n",
       "1   1 800 CONTACTS INC (De-listed 09/2007)       ED Board Characteristics   \n",
       "5   1 800 CONTACTS INC (De-listed 09/2007)       SD Board Characteristics   \n",
       "9   1 800 CONTACTS INC (De-listed 09/2007)  Overall Board Characteristics   \n",
       "2   1 800 CONTACTS INC (De-listed 09/2007)       ED Board Characteristics   \n",
       "6   1 800 CONTACTS INC (De-listed 09/2007)       SD Board Characteristics   \n",
       "10  1 800 CONTACTS INC (De-listed 09/2007)  Overall Board Characteristics   \n",
       "3   1 800 CONTACTS INC (De-listed 09/2007)       ED Board Characteristics   \n",
       "7   1 800 CONTACTS INC (De-listed 09/2007)       SD Board Characteristics   \n",
       "11  1 800 CONTACTS INC (De-listed 09/2007)  Overall Board Characteristics   \n",
       "12                   1-800-FLOWERS.COM INC       SD Board Characteristics   \n",
       "\n",
       "    boardid  numberdirectors  genderratio annualreportdate  \n",
       "0       3.0              2.0        1.000       2003-12-01  \n",
       "4       3.0              7.0        1.000       2003-12-01  \n",
       "8       3.0              9.0        1.000       2003-12-01  \n",
       "1       3.0              2.0        1.000       2004-12-01  \n",
       "5       3.0              6.0        1.000       2004-12-01  \n",
       "9       3.0              8.0        1.000       2004-12-01  \n",
       "2       3.0              2.0        1.000       2005-12-01  \n",
       "6       3.0              5.0        1.000       2005-12-01  \n",
       "10      3.0              7.0        1.000       2005-12-01  \n",
       "3       3.0              2.0        1.000       2006-12-01  \n",
       "7       3.0              6.0        1.000       2006-12-01  \n",
       "11      3.0              8.0        1.000       2006-12-01  \n",
       "12      6.0              6.0        0.833       2003-06-01  "
      ]
     },
     "execution_count": 16,
     "metadata": {},
     "output_type": "execute_result"
    }
   ],
   "source": [
    "df_test= conn.get_table(library= 'boardex', table='na_board_characteristics',\n",
    "                       columns= vars_to_keep,\n",
    "                       obs= 13).sort_values(['boardid', 'annualreportdate'])\n",
    "df_test"
   ]
  },
  {
   "cell_type": "code",
   "execution_count": 17,
   "id": "08d91df5-76d7-4810-b647-6f37bad526ba",
   "metadata": {},
   "outputs": [
    {
     "data": {
      "text/html": [
       "<div>\n",
       "<style scoped>\n",
       "    .dataframe tbody tr th:only-of-type {\n",
       "        vertical-align: middle;\n",
       "    }\n",
       "\n",
       "    .dataframe tbody tr th {\n",
       "        vertical-align: top;\n",
       "    }\n",
       "\n",
       "    .dataframe thead th {\n",
       "        text-align: right;\n",
       "    }\n",
       "</style>\n",
       "<table border=\"1\" class=\"dataframe\">\n",
       "  <thead>\n",
       "    <tr style=\"text-align: right;\">\n",
       "      <th></th>\n",
       "      <th>boardname</th>\n",
       "      <th>rowtype</th>\n",
       "      <th>boardid</th>\n",
       "      <th>numberdirectors</th>\n",
       "      <th>genderratio</th>\n",
       "      <th>annualreportdate</th>\n",
       "    </tr>\n",
       "  </thead>\n",
       "  <tbody>\n",
       "    <tr>\n",
       "      <th>2</th>\n",
       "      <td>1 800 CONTACTS INC (De-listed 09/2007)</td>\n",
       "      <td>Overall Board Characteristics</td>\n",
       "      <td>3.0</td>\n",
       "      <td>9.0</td>\n",
       "      <td>None</td>\n",
       "      <td>2003-12-01</td>\n",
       "    </tr>\n",
       "    <tr>\n",
       "      <th>0</th>\n",
       "      <td>1 800 CONTACTS INC (De-listed 09/2007)</td>\n",
       "      <td>Overall Board Characteristics</td>\n",
       "      <td>3.0</td>\n",
       "      <td>8.0</td>\n",
       "      <td>None</td>\n",
       "      <td>2004-12-01</td>\n",
       "    </tr>\n",
       "    <tr>\n",
       "      <th>3</th>\n",
       "      <td>1 800 CONTACTS INC (De-listed 09/2007)</td>\n",
       "      <td>Overall Board Characteristics</td>\n",
       "      <td>3.0</td>\n",
       "      <td>7.0</td>\n",
       "      <td>None</td>\n",
       "      <td>2005-12-01</td>\n",
       "    </tr>\n",
       "    <tr>\n",
       "      <th>1</th>\n",
       "      <td>1 800 CONTACTS INC (De-listed 09/2007)</td>\n",
       "      <td>Overall Board Characteristics</td>\n",
       "      <td>3.0</td>\n",
       "      <td>8.0</td>\n",
       "      <td>None</td>\n",
       "      <td>2006-12-01</td>\n",
       "    </tr>\n",
       "    <tr>\n",
       "      <th>4</th>\n",
       "      <td>1-800-FLOWERS.COM INC</td>\n",
       "      <td>Overall Board Characteristics</td>\n",
       "      <td>6.0</td>\n",
       "      <td>8.0</td>\n",
       "      <td>None</td>\n",
       "      <td>2006-07-01</td>\n",
       "    </tr>\n",
       "  </tbody>\n",
       "</table>\n",
       "</div>"
      ],
      "text/plain": [
       "                                boardname                        rowtype  \\\n",
       "2  1 800 CONTACTS INC (De-listed 09/2007)  Overall Board Characteristics   \n",
       "0  1 800 CONTACTS INC (De-listed 09/2007)  Overall Board Characteristics   \n",
       "3  1 800 CONTACTS INC (De-listed 09/2007)  Overall Board Characteristics   \n",
       "1  1 800 CONTACTS INC (De-listed 09/2007)  Overall Board Characteristics   \n",
       "4                   1-800-FLOWERS.COM INC  Overall Board Characteristics   \n",
       "\n",
       "   boardid  numberdirectors genderratio annualreportdate  \n",
       "2      3.0              9.0        None       2003-12-01  \n",
       "0      3.0              8.0        None       2004-12-01  \n",
       "3      3.0              7.0        None       2005-12-01  \n",
       "1      3.0              8.0        None       2006-12-01  \n",
       "4      6.0              8.0        None       2006-07-01  "
      ]
     },
     "execution_count": 17,
     "metadata": {},
     "output_type": "execute_result"
    }
   ],
   "source": [
    "df_test= conn.get_table(library= 'boardex', table='na_wrds_board_char_overall',\n",
    "                       columns= vars_to_keep,\n",
    "                       obs= 5).sort_values(['boardid', 'annualreportdate'])\n",
    "df_test"
   ]
  },
  {
   "cell_type": "markdown",
   "id": "455f8bd2-9f65-4ddb-aefc-fc89db321dd8",
   "metadata": {},
   "source": [
    "Data set 1 - Three row types (ED, SD, Overall)  \n",
    "Data set 2 - One row type (Overall)"
   ]
  },
  {
   "cell_type": "markdown",
   "id": "0967e783-5701-4b26-8073-6b7c18b88994",
   "metadata": {},
   "source": [
    "------------"
   ]
  },
  {
   "cell_type": "markdown",
   "id": "935c2b00-c40e-488b-9c5a-520a43f302b6",
   "metadata": {},
   "source": [
    "### Download all observations"
   ]
  },
  {
   "cell_type": "code",
   "execution_count": 18,
   "id": "523b6d77-c7e1-46bd-96cf-95f737f43511",
   "metadata": {},
   "outputs": [
    {
     "name": "stdout",
     "output_type": "stream",
     "text": [
      "(462228, 6)\n"
     ]
    },
    {
     "data": {
      "text/html": [
       "<div>\n",
       "<style scoped>\n",
       "    .dataframe tbody tr th:only-of-type {\n",
       "        vertical-align: middle;\n",
       "    }\n",
       "\n",
       "    .dataframe tbody tr th {\n",
       "        vertical-align: top;\n",
       "    }\n",
       "\n",
       "    .dataframe thead th {\n",
       "        text-align: right;\n",
       "    }\n",
       "</style>\n",
       "<table border=\"1\" class=\"dataframe\">\n",
       "  <thead>\n",
       "    <tr style=\"text-align: right;\">\n",
       "      <th></th>\n",
       "      <th>boardname</th>\n",
       "      <th>rowtype</th>\n",
       "      <th>boardid</th>\n",
       "      <th>numberdirectors</th>\n",
       "      <th>genderratio</th>\n",
       "      <th>annualreportdate</th>\n",
       "    </tr>\n",
       "  </thead>\n",
       "  <tbody>\n",
       "    <tr>\n",
       "      <th>0</th>\n",
       "      <td>1 800 CONTACTS INC (De-listed 09/2007)</td>\n",
       "      <td>ED Board Characteristics</td>\n",
       "      <td>3.0</td>\n",
       "      <td>2.0</td>\n",
       "      <td>1.0</td>\n",
       "      <td>2003-12-01</td>\n",
       "    </tr>\n",
       "    <tr>\n",
       "      <th>4</th>\n",
       "      <td>1 800 CONTACTS INC (De-listed 09/2007)</td>\n",
       "      <td>SD Board Characteristics</td>\n",
       "      <td>3.0</td>\n",
       "      <td>7.0</td>\n",
       "      <td>1.0</td>\n",
       "      <td>2003-12-01</td>\n",
       "    </tr>\n",
       "    <tr>\n",
       "      <th>8</th>\n",
       "      <td>1 800 CONTACTS INC (De-listed 09/2007)</td>\n",
       "      <td>Overall Board Characteristics</td>\n",
       "      <td>3.0</td>\n",
       "      <td>9.0</td>\n",
       "      <td>1.0</td>\n",
       "      <td>2003-12-01</td>\n",
       "    </tr>\n",
       "    <tr>\n",
       "      <th>1</th>\n",
       "      <td>1 800 CONTACTS INC (De-listed 09/2007)</td>\n",
       "      <td>ED Board Characteristics</td>\n",
       "      <td>3.0</td>\n",
       "      <td>2.0</td>\n",
       "      <td>1.0</td>\n",
       "      <td>2004-12-01</td>\n",
       "    </tr>\n",
       "    <tr>\n",
       "      <th>5</th>\n",
       "      <td>1 800 CONTACTS INC (De-listed 09/2007)</td>\n",
       "      <td>SD Board Characteristics</td>\n",
       "      <td>3.0</td>\n",
       "      <td>6.0</td>\n",
       "      <td>1.0</td>\n",
       "      <td>2004-12-01</td>\n",
       "    </tr>\n",
       "  </tbody>\n",
       "</table>\n",
       "</div>"
      ],
      "text/plain": [
       "                                boardname                        rowtype  \\\n",
       "0  1 800 CONTACTS INC (De-listed 09/2007)       ED Board Characteristics   \n",
       "4  1 800 CONTACTS INC (De-listed 09/2007)       SD Board Characteristics   \n",
       "8  1 800 CONTACTS INC (De-listed 09/2007)  Overall Board Characteristics   \n",
       "1  1 800 CONTACTS INC (De-listed 09/2007)       ED Board Characteristics   \n",
       "5  1 800 CONTACTS INC (De-listed 09/2007)       SD Board Characteristics   \n",
       "\n",
       "   boardid  numberdirectors  genderratio annualreportdate  \n",
       "0      3.0              2.0          1.0       2003-12-01  \n",
       "4      3.0              7.0          1.0       2003-12-01  \n",
       "8      3.0              9.0          1.0       2003-12-01  \n",
       "1      3.0              2.0          1.0       2004-12-01  \n",
       "5      3.0              6.0          1.0       2004-12-01  "
      ]
     },
     "execution_count": 18,
     "metadata": {},
     "output_type": "execute_result"
    }
   ],
   "source": [
    "bd_chars= conn.get_table(library= 'boardex', table='na_board_characteristics',\n",
    "                       columns= vars_to_keep).sort_values(['boardid', 'annualreportdate'])\n",
    "print(bd_chars.shape)\n",
    "bd_chars.head()"
   ]
  },
  {
   "cell_type": "code",
   "execution_count": 19,
   "id": "349be3f3-76a5-4dba-b486-318d124cdc22",
   "metadata": {},
   "outputs": [
    {
     "name": "stdout",
     "output_type": "stream",
     "text": [
      "(88475, 6)\n"
     ]
    },
    {
     "data": {
      "text/html": [
       "<div>\n",
       "<style scoped>\n",
       "    .dataframe tbody tr th:only-of-type {\n",
       "        vertical-align: middle;\n",
       "    }\n",
       "\n",
       "    .dataframe tbody tr th {\n",
       "        vertical-align: top;\n",
       "    }\n",
       "\n",
       "    .dataframe thead th {\n",
       "        text-align: right;\n",
       "    }\n",
       "</style>\n",
       "<table border=\"1\" class=\"dataframe\">\n",
       "  <thead>\n",
       "    <tr style=\"text-align: right;\">\n",
       "      <th></th>\n",
       "      <th>boardname</th>\n",
       "      <th>rowtype</th>\n",
       "      <th>boardid</th>\n",
       "      <th>numberdirectors</th>\n",
       "      <th>genderratio</th>\n",
       "      <th>annualreportdate</th>\n",
       "    </tr>\n",
       "  </thead>\n",
       "  <tbody>\n",
       "    <tr>\n",
       "      <th>2</th>\n",
       "      <td>1 800 CONTACTS INC (De-listed 09/2007)</td>\n",
       "      <td>Overall Board Characteristics</td>\n",
       "      <td>3.0</td>\n",
       "      <td>9.0</td>\n",
       "      <td>None</td>\n",
       "      <td>2003-12-01</td>\n",
       "    </tr>\n",
       "    <tr>\n",
       "      <th>0</th>\n",
       "      <td>1 800 CONTACTS INC (De-listed 09/2007)</td>\n",
       "      <td>Overall Board Characteristics</td>\n",
       "      <td>3.0</td>\n",
       "      <td>8.0</td>\n",
       "      <td>None</td>\n",
       "      <td>2004-12-01</td>\n",
       "    </tr>\n",
       "    <tr>\n",
       "      <th>3</th>\n",
       "      <td>1 800 CONTACTS INC (De-listed 09/2007)</td>\n",
       "      <td>Overall Board Characteristics</td>\n",
       "      <td>3.0</td>\n",
       "      <td>7.0</td>\n",
       "      <td>None</td>\n",
       "      <td>2005-12-01</td>\n",
       "    </tr>\n",
       "    <tr>\n",
       "      <th>1</th>\n",
       "      <td>1 800 CONTACTS INC (De-listed 09/2007)</td>\n",
       "      <td>Overall Board Characteristics</td>\n",
       "      <td>3.0</td>\n",
       "      <td>8.0</td>\n",
       "      <td>None</td>\n",
       "      <td>2006-12-01</td>\n",
       "    </tr>\n",
       "    <tr>\n",
       "      <th>15</th>\n",
       "      <td>1-800-FLOWERS.COM INC</td>\n",
       "      <td>Overall Board Characteristics</td>\n",
       "      <td>6.0</td>\n",
       "      <td>9.0</td>\n",
       "      <td>None</td>\n",
       "      <td>2003-06-01</td>\n",
       "    </tr>\n",
       "  </tbody>\n",
       "</table>\n",
       "</div>"
      ],
      "text/plain": [
       "                                 boardname                        rowtype  \\\n",
       "2   1 800 CONTACTS INC (De-listed 09/2007)  Overall Board Characteristics   \n",
       "0   1 800 CONTACTS INC (De-listed 09/2007)  Overall Board Characteristics   \n",
       "3   1 800 CONTACTS INC (De-listed 09/2007)  Overall Board Characteristics   \n",
       "1   1 800 CONTACTS INC (De-listed 09/2007)  Overall Board Characteristics   \n",
       "15                   1-800-FLOWERS.COM INC  Overall Board Characteristics   \n",
       "\n",
       "    boardid  numberdirectors genderratio annualreportdate  \n",
       "2       3.0              9.0        None       2003-12-01  \n",
       "0       3.0              8.0        None       2004-12-01  \n",
       "3       3.0              7.0        None       2005-12-01  \n",
       "1       3.0              8.0        None       2006-12-01  \n",
       "15      6.0              9.0        None       2003-06-01  "
      ]
     },
     "execution_count": 19,
     "metadata": {},
     "output_type": "execute_result"
    }
   ],
   "source": [
    "w_bd_chars= conn.get_table(library= 'boardex', table='na_wrds_board_char_overall',\n",
    "                       columns= vars_to_keep).sort_values(['boardid', 'annualreportdate'])\n",
    "print(w_bd_chars.shape)\n",
    "w_bd_chars.head()"
   ]
  },
  {
   "cell_type": "code",
   "execution_count": 20,
   "id": "132b2aa7-90f6-4984-8706-d4380791950f",
   "metadata": {},
   "outputs": [],
   "source": [
    "bd_chars.rename(columns=\n",
    "         {'boardname':'name',\n",
    "         'rowtype':'type',\n",
    "         'boardid':'id',\n",
    "         'auditor_country':'af_ctry',\n",
    "         'numberdirectors':'n_dir',\n",
    "         'genderratio':'p_dir'}, \n",
    "          inplace= True)"
   ]
  },
  {
   "cell_type": "code",
   "execution_count": 21,
   "id": "81729c4a-d0cd-49fc-be8a-5b148a8e9bae",
   "metadata": {},
   "outputs": [],
   "source": [
    "w_bd_chars.rename(columns=\n",
    "         {'boardname':'name',\n",
    "         'rowtype':'type',\n",
    "         'boardid':'id',\n",
    "         'auditor_country':'af_ctry',\n",
    "         'numberdirectors':'n_dir',\n",
    "         'genderratio':'p_dir'}, \n",
    "          inplace= True)"
   ]
  },
  {
   "cell_type": "code",
   "execution_count": 22,
   "id": "b87f4d47-5711-4bf1-8c6f-437b8051b4f1",
   "metadata": {},
   "outputs": [
    {
     "data": {
      "text/plain": [
       "(428535, 6)"
      ]
     },
     "execution_count": 22,
     "metadata": {},
     "output_type": "execute_result"
    }
   ],
   "source": [
    "bd_chars.dropna(subset='annualreportdate', inplace= True)\n",
    "bd_chars.shape"
   ]
  },
  {
   "cell_type": "code",
   "execution_count": 23,
   "id": "92fc186b-f8eb-4440-9d13-36cc3cc33eb7",
   "metadata": {},
   "outputs": [
    {
     "data": {
      "text/plain": [
       "(79736, 6)"
      ]
     },
     "execution_count": 23,
     "metadata": {},
     "output_type": "execute_result"
    }
   ],
   "source": [
    "w_bd_chars.dropna(subset='annualreportdate', inplace= True)\n",
    "w_bd_chars.shape"
   ]
  },
  {
   "cell_type": "code",
   "execution_count": 24,
   "id": "e06897de-7934-4cd8-9a11-3f5d22fb8cb8",
   "metadata": {},
   "outputs": [],
   "source": [
    "bd_chars['year']= pd.to_datetime(bd_chars['annualreportdate']).dt.year.astype(int)\n",
    "w_bd_chars['year']= pd.to_datetime(w_bd_chars['annualreportdate']).dt.year.astype(int)"
   ]
  },
  {
   "cell_type": "code",
   "execution_count": 25,
   "id": "e272861e-7062-44ef-b269-9add979fd608",
   "metadata": {},
   "outputs": [
    {
     "data": {
      "text/html": [
       "<div>\n",
       "<style scoped>\n",
       "    .dataframe tbody tr th:only-of-type {\n",
       "        vertical-align: middle;\n",
       "    }\n",
       "\n",
       "    .dataframe tbody tr th {\n",
       "        vertical-align: top;\n",
       "    }\n",
       "\n",
       "    .dataframe thead th {\n",
       "        text-align: right;\n",
       "    }\n",
       "</style>\n",
       "<table border=\"1\" class=\"dataframe\">\n",
       "  <thead>\n",
       "    <tr style=\"text-align: right;\">\n",
       "      <th></th>\n",
       "      <th>name</th>\n",
       "      <th>type</th>\n",
       "      <th>id</th>\n",
       "      <th>n_dir</th>\n",
       "      <th>p_dir</th>\n",
       "      <th>annualreportdate</th>\n",
       "      <th>year</th>\n",
       "    </tr>\n",
       "  </thead>\n",
       "  <tbody>\n",
       "    <tr>\n",
       "      <th>0</th>\n",
       "      <td>1 800 CONTACTS INC (De-listed 09/2007)</td>\n",
       "      <td>ED Board Characteristics</td>\n",
       "      <td>3.0</td>\n",
       "      <td>2.0</td>\n",
       "      <td>1.0</td>\n",
       "      <td>2003-12-01</td>\n",
       "      <td>2003</td>\n",
       "    </tr>\n",
       "    <tr>\n",
       "      <th>4</th>\n",
       "      <td>1 800 CONTACTS INC (De-listed 09/2007)</td>\n",
       "      <td>SD Board Characteristics</td>\n",
       "      <td>3.0</td>\n",
       "      <td>7.0</td>\n",
       "      <td>1.0</td>\n",
       "      <td>2003-12-01</td>\n",
       "      <td>2003</td>\n",
       "    </tr>\n",
       "    <tr>\n",
       "      <th>8</th>\n",
       "      <td>1 800 CONTACTS INC (De-listed 09/2007)</td>\n",
       "      <td>Overall Board Characteristics</td>\n",
       "      <td>3.0</td>\n",
       "      <td>9.0</td>\n",
       "      <td>1.0</td>\n",
       "      <td>2003-12-01</td>\n",
       "      <td>2003</td>\n",
       "    </tr>\n",
       "    <tr>\n",
       "      <th>1</th>\n",
       "      <td>1 800 CONTACTS INC (De-listed 09/2007)</td>\n",
       "      <td>ED Board Characteristics</td>\n",
       "      <td>3.0</td>\n",
       "      <td>2.0</td>\n",
       "      <td>1.0</td>\n",
       "      <td>2004-12-01</td>\n",
       "      <td>2004</td>\n",
       "    </tr>\n",
       "    <tr>\n",
       "      <th>5</th>\n",
       "      <td>1 800 CONTACTS INC (De-listed 09/2007)</td>\n",
       "      <td>SD Board Characteristics</td>\n",
       "      <td>3.0</td>\n",
       "      <td>6.0</td>\n",
       "      <td>1.0</td>\n",
       "      <td>2004-12-01</td>\n",
       "      <td>2004</td>\n",
       "    </tr>\n",
       "  </tbody>\n",
       "</table>\n",
       "</div>"
      ],
      "text/plain": [
       "                                     name                           type   id  \\\n",
       "0  1 800 CONTACTS INC (De-listed 09/2007)       ED Board Characteristics  3.0   \n",
       "4  1 800 CONTACTS INC (De-listed 09/2007)       SD Board Characteristics  3.0   \n",
       "8  1 800 CONTACTS INC (De-listed 09/2007)  Overall Board Characteristics  3.0   \n",
       "1  1 800 CONTACTS INC (De-listed 09/2007)       ED Board Characteristics  3.0   \n",
       "5  1 800 CONTACTS INC (De-listed 09/2007)       SD Board Characteristics  3.0   \n",
       "\n",
       "   n_dir  p_dir annualreportdate  year  \n",
       "0    2.0    1.0       2003-12-01  2003  \n",
       "4    7.0    1.0       2003-12-01  2003  \n",
       "8    9.0    1.0       2003-12-01  2003  \n",
       "1    2.0    1.0       2004-12-01  2004  \n",
       "5    6.0    1.0       2004-12-01  2004  "
      ]
     },
     "execution_count": 25,
     "metadata": {},
     "output_type": "execute_result"
    }
   ],
   "source": [
    "bd_chars.head()"
   ]
  },
  {
   "cell_type": "code",
   "execution_count": 26,
   "id": "216e80f1-f934-446f-84d8-b12eb17ec18c",
   "metadata": {},
   "outputs": [
    {
     "name": "stdout",
     "output_type": "stream",
     "text": [
      "(139636, 7)\n"
     ]
    },
    {
     "data": {
      "text/html": [
       "<div>\n",
       "<style scoped>\n",
       "    .dataframe tbody tr th:only-of-type {\n",
       "        vertical-align: middle;\n",
       "    }\n",
       "\n",
       "    .dataframe tbody tr th {\n",
       "        vertical-align: top;\n",
       "    }\n",
       "\n",
       "    .dataframe thead th {\n",
       "        text-align: right;\n",
       "    }\n",
       "</style>\n",
       "<table border=\"1\" class=\"dataframe\">\n",
       "  <thead>\n",
       "    <tr style=\"text-align: right;\">\n",
       "      <th></th>\n",
       "      <th>name</th>\n",
       "      <th>type</th>\n",
       "      <th>id</th>\n",
       "      <th>n_dir</th>\n",
       "      <th>p_dir</th>\n",
       "      <th>annualreportdate</th>\n",
       "      <th>year</th>\n",
       "    </tr>\n",
       "  </thead>\n",
       "  <tbody>\n",
       "    <tr>\n",
       "      <th>8</th>\n",
       "      <td>1 800 CONTACTS INC (De-listed 09/2007)</td>\n",
       "      <td>Overall Board Characteristics</td>\n",
       "      <td>3.0</td>\n",
       "      <td>9.0</td>\n",
       "      <td>1.000</td>\n",
       "      <td>2003-12-01</td>\n",
       "      <td>2003</td>\n",
       "    </tr>\n",
       "    <tr>\n",
       "      <th>9</th>\n",
       "      <td>1 800 CONTACTS INC (De-listed 09/2007)</td>\n",
       "      <td>Overall Board Characteristics</td>\n",
       "      <td>3.0</td>\n",
       "      <td>8.0</td>\n",
       "      <td>1.000</td>\n",
       "      <td>2004-12-01</td>\n",
       "      <td>2004</td>\n",
       "    </tr>\n",
       "    <tr>\n",
       "      <th>10</th>\n",
       "      <td>1 800 CONTACTS INC (De-listed 09/2007)</td>\n",
       "      <td>Overall Board Characteristics</td>\n",
       "      <td>3.0</td>\n",
       "      <td>7.0</td>\n",
       "      <td>1.000</td>\n",
       "      <td>2005-12-01</td>\n",
       "      <td>2005</td>\n",
       "    </tr>\n",
       "    <tr>\n",
       "      <th>11</th>\n",
       "      <td>1 800 CONTACTS INC (De-listed 09/2007)</td>\n",
       "      <td>Overall Board Characteristics</td>\n",
       "      <td>3.0</td>\n",
       "      <td>8.0</td>\n",
       "      <td>1.000</td>\n",
       "      <td>2006-12-01</td>\n",
       "      <td>2006</td>\n",
       "    </tr>\n",
       "    <tr>\n",
       "      <th>52</th>\n",
       "      <td>1-800-FLOWERS.COM INC</td>\n",
       "      <td>Overall Board Characteristics</td>\n",
       "      <td>6.0</td>\n",
       "      <td>9.0</td>\n",
       "      <td>0.889</td>\n",
       "      <td>2003-06-01</td>\n",
       "      <td>2003</td>\n",
       "    </tr>\n",
       "    <tr>\n",
       "      <th>53</th>\n",
       "      <td>1-800-FLOWERS.COM INC</td>\n",
       "      <td>Overall Board Characteristics</td>\n",
       "      <td>6.0</td>\n",
       "      <td>8.0</td>\n",
       "      <td>0.875</td>\n",
       "      <td>2004-06-01</td>\n",
       "      <td>2004</td>\n",
       "    </tr>\n",
       "    <tr>\n",
       "      <th>54</th>\n",
       "      <td>1-800-FLOWERS.COM INC</td>\n",
       "      <td>Overall Board Characteristics</td>\n",
       "      <td>6.0</td>\n",
       "      <td>9.0</td>\n",
       "      <td>0.889</td>\n",
       "      <td>2005-07-01</td>\n",
       "      <td>2005</td>\n",
       "    </tr>\n",
       "    <tr>\n",
       "      <th>55</th>\n",
       "      <td>1-800-FLOWERS.COM INC</td>\n",
       "      <td>Overall Board Characteristics</td>\n",
       "      <td>6.0</td>\n",
       "      <td>8.0</td>\n",
       "      <td>0.875</td>\n",
       "      <td>2006-07-01</td>\n",
       "      <td>2006</td>\n",
       "    </tr>\n",
       "    <tr>\n",
       "      <th>56</th>\n",
       "      <td>1-800-FLOWERS.COM INC</td>\n",
       "      <td>Overall Board Characteristics</td>\n",
       "      <td>6.0</td>\n",
       "      <td>8.0</td>\n",
       "      <td>0.875</td>\n",
       "      <td>2007-07-01</td>\n",
       "      <td>2007</td>\n",
       "    </tr>\n",
       "    <tr>\n",
       "      <th>57</th>\n",
       "      <td>1-800-FLOWERS.COM INC</td>\n",
       "      <td>Overall Board Characteristics</td>\n",
       "      <td>6.0</td>\n",
       "      <td>8.0</td>\n",
       "      <td>0.875</td>\n",
       "      <td>2008-06-01</td>\n",
       "      <td>2008</td>\n",
       "    </tr>\n",
       "  </tbody>\n",
       "</table>\n",
       "</div>"
      ],
      "text/plain": [
       "                                      name                           type  \\\n",
       "8   1 800 CONTACTS INC (De-listed 09/2007)  Overall Board Characteristics   \n",
       "9   1 800 CONTACTS INC (De-listed 09/2007)  Overall Board Characteristics   \n",
       "10  1 800 CONTACTS INC (De-listed 09/2007)  Overall Board Characteristics   \n",
       "11  1 800 CONTACTS INC (De-listed 09/2007)  Overall Board Characteristics   \n",
       "52                   1-800-FLOWERS.COM INC  Overall Board Characteristics   \n",
       "53                   1-800-FLOWERS.COM INC  Overall Board Characteristics   \n",
       "54                   1-800-FLOWERS.COM INC  Overall Board Characteristics   \n",
       "55                   1-800-FLOWERS.COM INC  Overall Board Characteristics   \n",
       "56                   1-800-FLOWERS.COM INC  Overall Board Characteristics   \n",
       "57                   1-800-FLOWERS.COM INC  Overall Board Characteristics   \n",
       "\n",
       "     id  n_dir  p_dir annualreportdate  year  \n",
       "8   3.0    9.0  1.000       2003-12-01  2003  \n",
       "9   3.0    8.0  1.000       2004-12-01  2004  \n",
       "10  3.0    7.0  1.000       2005-12-01  2005  \n",
       "11  3.0    8.0  1.000       2006-12-01  2006  \n",
       "52  6.0    9.0  0.889       2003-06-01  2003  \n",
       "53  6.0    8.0  0.875       2004-06-01  2004  \n",
       "54  6.0    9.0  0.889       2005-07-01  2005  \n",
       "55  6.0    8.0  0.875       2006-07-01  2006  \n",
       "56  6.0    8.0  0.875       2007-07-01  2007  \n",
       "57  6.0    8.0  0.875       2008-06-01  2008  "
      ]
     },
     "execution_count": 26,
     "metadata": {},
     "output_type": "execute_result"
    }
   ],
   "source": [
    "bd_chars_overall= bd_chars[bd_chars.type.str.contains('Overall')]\n",
    "print(bd_chars_overall.shape)\n",
    "bd_chars_overall.head(10)"
   ]
  },
  {
   "cell_type": "code",
   "execution_count": 27,
   "id": "fa66ff9c-ccae-4d88-9143-0ec1a40ee659",
   "metadata": {},
   "outputs": [
    {
     "name": "stdout",
     "output_type": "stream",
     "text": [
      "(79736, 7)\n"
     ]
    },
    {
     "data": {
      "text/html": [
       "<div>\n",
       "<style scoped>\n",
       "    .dataframe tbody tr th:only-of-type {\n",
       "        vertical-align: middle;\n",
       "    }\n",
       "\n",
       "    .dataframe tbody tr th {\n",
       "        vertical-align: top;\n",
       "    }\n",
       "\n",
       "    .dataframe thead th {\n",
       "        text-align: right;\n",
       "    }\n",
       "</style>\n",
       "<table border=\"1\" class=\"dataframe\">\n",
       "  <thead>\n",
       "    <tr style=\"text-align: right;\">\n",
       "      <th></th>\n",
       "      <th>name</th>\n",
       "      <th>type</th>\n",
       "      <th>id</th>\n",
       "      <th>n_dir</th>\n",
       "      <th>p_dir</th>\n",
       "      <th>annualreportdate</th>\n",
       "      <th>year</th>\n",
       "    </tr>\n",
       "  </thead>\n",
       "  <tbody>\n",
       "    <tr>\n",
       "      <th>2</th>\n",
       "      <td>1 800 CONTACTS INC (De-listed 09/2007)</td>\n",
       "      <td>Overall Board Characteristics</td>\n",
       "      <td>3.0</td>\n",
       "      <td>9.0</td>\n",
       "      <td>None</td>\n",
       "      <td>2003-12-01</td>\n",
       "      <td>2003</td>\n",
       "    </tr>\n",
       "    <tr>\n",
       "      <th>0</th>\n",
       "      <td>1 800 CONTACTS INC (De-listed 09/2007)</td>\n",
       "      <td>Overall Board Characteristics</td>\n",
       "      <td>3.0</td>\n",
       "      <td>8.0</td>\n",
       "      <td>None</td>\n",
       "      <td>2004-12-01</td>\n",
       "      <td>2004</td>\n",
       "    </tr>\n",
       "    <tr>\n",
       "      <th>3</th>\n",
       "      <td>1 800 CONTACTS INC (De-listed 09/2007)</td>\n",
       "      <td>Overall Board Characteristics</td>\n",
       "      <td>3.0</td>\n",
       "      <td>7.0</td>\n",
       "      <td>None</td>\n",
       "      <td>2005-12-01</td>\n",
       "      <td>2005</td>\n",
       "    </tr>\n",
       "    <tr>\n",
       "      <th>1</th>\n",
       "      <td>1 800 CONTACTS INC (De-listed 09/2007)</td>\n",
       "      <td>Overall Board Characteristics</td>\n",
       "      <td>3.0</td>\n",
       "      <td>8.0</td>\n",
       "      <td>None</td>\n",
       "      <td>2006-12-01</td>\n",
       "      <td>2006</td>\n",
       "    </tr>\n",
       "    <tr>\n",
       "      <th>15</th>\n",
       "      <td>1-800-FLOWERS.COM INC</td>\n",
       "      <td>Overall Board Characteristics</td>\n",
       "      <td>6.0</td>\n",
       "      <td>9.0</td>\n",
       "      <td>None</td>\n",
       "      <td>2003-06-01</td>\n",
       "      <td>2003</td>\n",
       "    </tr>\n",
       "    <tr>\n",
       "      <th>6</th>\n",
       "      <td>1-800-FLOWERS.COM INC</td>\n",
       "      <td>Overall Board Characteristics</td>\n",
       "      <td>6.0</td>\n",
       "      <td>8.0</td>\n",
       "      <td>None</td>\n",
       "      <td>2004-06-01</td>\n",
       "      <td>2004</td>\n",
       "    </tr>\n",
       "    <tr>\n",
       "      <th>8</th>\n",
       "      <td>1-800-FLOWERS.COM INC</td>\n",
       "      <td>Overall Board Characteristics</td>\n",
       "      <td>6.0</td>\n",
       "      <td>9.0</td>\n",
       "      <td>None</td>\n",
       "      <td>2005-07-01</td>\n",
       "      <td>2005</td>\n",
       "    </tr>\n",
       "    <tr>\n",
       "      <th>4</th>\n",
       "      <td>1-800-FLOWERS.COM INC</td>\n",
       "      <td>Overall Board Characteristics</td>\n",
       "      <td>6.0</td>\n",
       "      <td>8.0</td>\n",
       "      <td>None</td>\n",
       "      <td>2006-07-01</td>\n",
       "      <td>2006</td>\n",
       "    </tr>\n",
       "    <tr>\n",
       "      <th>11</th>\n",
       "      <td>1-800-FLOWERS.COM INC</td>\n",
       "      <td>Overall Board Characteristics</td>\n",
       "      <td>6.0</td>\n",
       "      <td>8.0</td>\n",
       "      <td>None</td>\n",
       "      <td>2007-07-01</td>\n",
       "      <td>2007</td>\n",
       "    </tr>\n",
       "    <tr>\n",
       "      <th>13</th>\n",
       "      <td>1-800-FLOWERS.COM INC</td>\n",
       "      <td>Overall Board Characteristics</td>\n",
       "      <td>6.0</td>\n",
       "      <td>8.0</td>\n",
       "      <td>None</td>\n",
       "      <td>2008-06-01</td>\n",
       "      <td>2008</td>\n",
       "    </tr>\n",
       "  </tbody>\n",
       "</table>\n",
       "</div>"
      ],
      "text/plain": [
       "                                      name                           type  \\\n",
       "2   1 800 CONTACTS INC (De-listed 09/2007)  Overall Board Characteristics   \n",
       "0   1 800 CONTACTS INC (De-listed 09/2007)  Overall Board Characteristics   \n",
       "3   1 800 CONTACTS INC (De-listed 09/2007)  Overall Board Characteristics   \n",
       "1   1 800 CONTACTS INC (De-listed 09/2007)  Overall Board Characteristics   \n",
       "15                   1-800-FLOWERS.COM INC  Overall Board Characteristics   \n",
       "6                    1-800-FLOWERS.COM INC  Overall Board Characteristics   \n",
       "8                    1-800-FLOWERS.COM INC  Overall Board Characteristics   \n",
       "4                    1-800-FLOWERS.COM INC  Overall Board Characteristics   \n",
       "11                   1-800-FLOWERS.COM INC  Overall Board Characteristics   \n",
       "13                   1-800-FLOWERS.COM INC  Overall Board Characteristics   \n",
       "\n",
       "     id  n_dir p_dir annualreportdate  year  \n",
       "2   3.0    9.0  None       2003-12-01  2003  \n",
       "0   3.0    8.0  None       2004-12-01  2004  \n",
       "3   3.0    7.0  None       2005-12-01  2005  \n",
       "1   3.0    8.0  None       2006-12-01  2006  \n",
       "15  6.0    9.0  None       2003-06-01  2003  \n",
       "6   6.0    8.0  None       2004-06-01  2004  \n",
       "8   6.0    9.0  None       2005-07-01  2005  \n",
       "4   6.0    8.0  None       2006-07-01  2006  \n",
       "11  6.0    8.0  None       2007-07-01  2007  \n",
       "13  6.0    8.0  None       2008-06-01  2008  "
      ]
     },
     "execution_count": 27,
     "metadata": {},
     "output_type": "execute_result"
    }
   ],
   "source": [
    "print(w_bd_chars.shape)\n",
    "w_bd_chars.head(10)"
   ]
  },
  {
   "cell_type": "markdown",
   "id": "47887220-ab9e-41cb-ac4a-eca87359d431",
   "metadata": {},
   "source": [
    "---------------------"
   ]
  },
  {
   "cell_type": "markdown",
   "id": "0e4f94e5-9e48-47c3-b854-c187cca75b22",
   "metadata": {},
   "source": [
    "## Check data with visualization"
   ]
  },
  {
   "cell_type": "markdown",
   "id": "4e7e15ef-fca7-4811-914b-06de29c8566a",
   "metadata": {},
   "source": [
    "### Distribution by years"
   ]
  },
  {
   "cell_type": "code",
   "execution_count": 35,
   "id": "be93eb80-560f-4910-921d-485301e317c2",
   "metadata": {},
   "outputs": [
    {
     "data": {
      "image/png": "[encoded data removed]",
      "text/plain": [
       "<Figure size 504x288 with 1 Axes>"
      ]
     },
     "metadata": {
      "needs_background": "light"
     },
     "output_type": "display_data"
    }
   ],
   "source": [
    "bd_chars_overall.groupby(['year']).count()['id'].plot(kind='line', figsize=(7,4), grid= True, color= 'b', marker='*', label='Source: na_board_characteristics', alpha=0.3)\n",
    "w_bd_chars.groupby(['year']).count()['id'].plot(kind='line', figsize=(7,4), grid= True, color= 'r', marker='*', label='Source: na_wrds_board_char_overall', alpha=0.3)\n",
    "plt.title(\"Yearly distribution of two data sets for board characteristics\", fontsize=15)\n",
    "plt.legend()\n",
    "plt.show()\n"
   ]
  },
  {
   "cell_type": "markdown",
   "id": "9d962bd2-b391-4fa5-b341-d3d00eb0ef30",
   "metadata": {},
   "source": [
    "* na_board_characteristics - a good one.  \n",
    "* na_wrds_board_char_overall - not a good one."
   ]
  },
  {
   "cell_type": "markdown",
   "id": "d727bbdb-9b7a-4b67-a4e9-56642eca603d",
   "metadata": {},
   "source": [
    "--------------------"
   ]
  },
  {
   "cell_type": "code",
   "execution_count": 31,
   "id": "0eeb6785-bc5b-4349-af83-dfd85e3b6a0a",
   "metadata": {},
   "outputs": [],
   "source": [
    "bd_chars_overall.to_csv(\"data/board-chars.csv\", index= None)"
   ]
  },
  {
   "cell_type": "markdown",
   "id": "d42dacb5-7716-46a7-a50d-ebc9d3f838f9",
   "metadata": {},
   "source": [
    "### Close connection"
   ]
  },
  {
   "cell_type": "code",
   "execution_count": 32,
   "id": "d84df791-a599-45ff-8685-3cab71445551",
   "metadata": {},
   "outputs": [],
   "source": [
    "conn.close()"
   ]
  },
  {
   "cell_type": "markdown",
   "id": "dbb9616d-0ae8-4fea-b2bd-0c9d1605ab89",
   "metadata": {},
   "source": [
    "-------------"
   ]
  }
 ],
 "metadata": {
  "kernelspec": {
   "display_name": "sec",
   "language": "python",
   "name": "sec"
  },
  "language_info": {
   "codemirror_mode": {
    "name": "ipython",
    "version": 3
   },
   "file_extension": ".py",
   "mimetype": "text/x-python",
   "name": "python",
   "nbconvert_exporter": "python",
   "pygments_lexer": "ipython3",
   "version": "3.8.8"
  },
  "widgets": {
   "application/vnd.jupyter.widget-state+json": {
    "state": {},
    "version_major": 2,
    "version_minor": 0
   }
  }
 },
 "nbformat": 4,
 "nbformat_minor": 5
}
