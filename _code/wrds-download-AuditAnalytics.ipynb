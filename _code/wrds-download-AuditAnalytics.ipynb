{
 "cells": [
  {
   "cell_type": "markdown",
   "id": "4633cce5-ba97-4631-bce1-fbb65c5dea66",
   "metadata": {},
   "source": [
    "## Download Compustat data from WRDS"
   ]
  },
  {
   "cell_type": "markdown",
   "id": "eed9431c-85e8-4651-a33b-2be6e56579c7",
   "metadata": {},
   "source": [
    "-------------------------"
   ]
  },
  {
   "cell_type": "markdown",
   "id": "d4bfcf5c-c883-4ac1-839b-f2c76c0284cb",
   "metadata": {},
   "source": [
    "### Import libraries"
   ]
  },
  {
   "cell_type": "code",
   "execution_count": 1,
   "id": "9cff7b80-9b0c-4cd3-a11c-cf28f63842ff",
   "metadata": {},
   "outputs": [],
   "source": [
    "import pandas as pd\n",
    "import wrds\n",
    "pd.options.display.max_columns=200"
   ]
  },
  {
   "cell_type": "markdown",
   "id": "432f2b4a-02a6-4c58-9e6a-ffda0615342f",
   "metadata": {},
   "source": [
    "### Connect WRDS"
   ]
  },
  {
   "cell_type": "code",
   "execution_count": 2,
   "id": "3df4e730-ca27-4c67-8d76-fb5ae5c90084",
   "metadata": {},
   "outputs": [
    {
     "name": "stdin",
     "output_type": "stream",
     "text": [
      "Enter your WRDS username [yjaey]: yjaeyoon\n",
      "Enter your password: ···············\n"
     ]
    },
    {
     "name": "stdout",
     "output_type": "stream",
     "text": [
      "WRDS recommends setting up a .pgpass file.\n"
     ]
    },
    {
     "name": "stdin",
     "output_type": "stream",
     "text": [
      "Create .pgpass file now [y/n]?:  y\n"
     ]
    },
    {
     "name": "stdout",
     "output_type": "stream",
     "text": [
      "Created .pgpass file successfully.\n",
      "Loading library list...\n",
      "Done\n"
     ]
    }
   ],
   "source": [
    "conn=wrds.Connection()"
   ]
  },
  {
   "cell_type": "markdown",
   "id": "1be252e8-fe4c-4a91-8bd1-51e716ac1ffb",
   "metadata": {},
   "source": [
    "### Download funda from Compustat"
   ]
  },
  {
   "cell_type": "code",
   "execution_count": 43,
   "id": "162b4034-08b4-4649-bd24-0f0423da2245",
   "metadata": {},
   "outputs": [
    {
     "name": "stdout",
     "output_type": "stream",
     "text": [
      "(10082, 209)\n"
     ]
    }
   ],
   "source": [
    "df= conn.raw_sql(f\"\"\"select *\n",
    "                    from audit.ipo\n",
    "                    \"\"\")\n",
    "print(df.shape)"
   ]
  },
  {
   "cell_type": "code",
   "execution_count": 44,
   "id": "d30bddf6-007c-41ac-982d-7de5698ac017",
   "metadata": {},
   "outputs": [
    {
     "name": "stdout",
     "output_type": "stream",
     "text": [
      "<class 'pandas.core.frame.DataFrame'>\n",
      "RangeIndex: 10082 entries, 0 to 10081\n",
      "Columns: 209 entries, ipo_info_key to best_edgar_ticker\n",
      "dtypes: float64(160), object(49)\n",
      "memory usage: 16.1+ MB\n"
     ]
    }
   ],
   "source": [
    "df.info()"
   ]
  },
  {
   "cell_type": "code",
   "execution_count": 45,
   "id": "5ccdc9de-9b13-4311-8bdb-2009f16693dd",
   "metadata": {},
   "outputs": [
    {
     "data": {
      "text/plain": [
       "(10082, 63)"
      ]
     },
     "execution_count": 45,
     "metadata": {},
     "output_type": "execute_result"
    }
   ],
   "source": [
    "# df = df[df.columns.drop(list(df.filter(regex='matchfy')))]\n",
    "df = df[df.columns.drop(list(df.filter(regex='matchqu')))]\n",
    "df = df[df.columns.drop(list(df.filter(regex='priorfy')))]\n",
    "df = df[df.columns.drop(list(df.filter(regex='priorqu')))]\n",
    "df = df[df.columns.drop(list(df.filter(regex='closestfy')))]\n",
    "df = df[df.columns.drop(list(df.filter(regex='closestqu')))]\n",
    "df.shape"
   ]
  },
  {
   "cell_type": "code",
   "execution_count": 46,
   "id": "05d2046c-6fe0-4154-81fa-5aeb6e6d8fcc",
   "metadata": {},
   "outputs": [
    {
     "data": {
      "text/html": [
       "<div>\n",
       "<style scoped>\n",
       "    .dataframe tbody tr th:only-of-type {\n",
       "        vertical-align: middle;\n",
       "    }\n",
       "\n",
       "    .dataframe tbody tr th {\n",
       "        vertical-align: top;\n",
       "    }\n",
       "\n",
       "    .dataframe thead th {\n",
       "        text-align: right;\n",
       "    }\n",
       "</style>\n",
       "<table border=\"1\" class=\"dataframe\">\n",
       "  <thead>\n",
       "    <tr style=\"text-align: right;\">\n",
       "      <th></th>\n",
       "      <th>matchfy_incmst_rev_ttm</th>\n",
       "      <th>matchfy_incmst_netinc_ttm</th>\n",
       "      <th>matchfy_incmst_extraitm_ttm</th>\n",
       "      <th>matchfy_incmst_ebitda_ttm</th>\n",
       "    </tr>\n",
       "  </thead>\n",
       "  <tbody>\n",
       "    <tr>\n",
       "      <th>23</th>\n",
       "      <td>9.329600e+09</td>\n",
       "      <td>-1.829000e+08</td>\n",
       "      <td>0.0</td>\n",
       "      <td>626000000.0</td>\n",
       "    </tr>\n",
       "    <tr>\n",
       "      <th>46</th>\n",
       "      <td>1.824899e+09</td>\n",
       "      <td>9.410200e+07</td>\n",
       "      <td>0.0</td>\n",
       "      <td>183560000.0</td>\n",
       "    </tr>\n",
       "    <tr>\n",
       "      <th>122</th>\n",
       "      <td>7.417702e+09</td>\n",
       "      <td>1.349440e+08</td>\n",
       "      <td>0.0</td>\n",
       "      <td>837309000.0</td>\n",
       "    </tr>\n",
       "    <tr>\n",
       "      <th>187</th>\n",
       "      <td>1.812808e+09</td>\n",
       "      <td>1.559632e+09</td>\n",
       "      <td>0.0</td>\n",
       "      <td>0.0</td>\n",
       "    </tr>\n",
       "    <tr>\n",
       "      <th>259</th>\n",
       "      <td>1.789776e+09</td>\n",
       "      <td>7.630000e+07</td>\n",
       "      <td>0.0</td>\n",
       "      <td>0.0</td>\n",
       "    </tr>\n",
       "  </tbody>\n",
       "</table>\n",
       "</div>"
      ],
      "text/plain": [
       "     matchfy_incmst_rev_ttm  matchfy_incmst_netinc_ttm  \\\n",
       "23             9.329600e+09              -1.829000e+08   \n",
       "46             1.824899e+09               9.410200e+07   \n",
       "122            7.417702e+09               1.349440e+08   \n",
       "187            1.812808e+09               1.559632e+09   \n",
       "259            1.789776e+09               7.630000e+07   \n",
       "\n",
       "     matchfy_incmst_extraitm_ttm  matchfy_incmst_ebitda_ttm  \n",
       "23                           0.0                626000000.0  \n",
       "46                           0.0                183560000.0  \n",
       "122                          0.0                837309000.0  \n",
       "187                          0.0                        0.0  \n",
       "259                          0.0                        0.0  "
      ]
     },
     "execution_count": 46,
     "metadata": {},
     "output_type": "execute_result"
    }
   ],
   "source": [
    "df.filter(regex=r'matchfy_incmst.*ttm').dropna().head()"
   ]
  },
  {
   "cell_type": "code",
   "execution_count": 47,
   "id": "5096eb98-0c25-4c4b-8389-d57444685263",
   "metadata": {},
   "outputs": [],
   "source": [
    "df.rename(columns={'matchfy_incmst_rev_ttm':'rev', 'matchfy_incmst_netinc_ttm':'ni'}, inplace= True)"
   ]
  },
  {
   "cell_type": "code",
   "execution_count": 48,
   "id": "83ca03e2-1819-4ec9-8d5d-10a2d1effd92",
   "metadata": {},
   "outputs": [
    {
     "data": {
      "text/html": [
       "<div>\n",
       "<style scoped>\n",
       "    .dataframe tbody tr th:only-of-type {\n",
       "        vertical-align: middle;\n",
       "    }\n",
       "\n",
       "    .dataframe tbody tr th {\n",
       "        vertical-align: top;\n",
       "    }\n",
       "\n",
       "    .dataframe thead th {\n",
       "        text-align: right;\n",
       "    }\n",
       "</style>\n",
       "<table border=\"1\" class=\"dataframe\">\n",
       "  <thead>\n",
       "    <tr style=\"text-align: right;\">\n",
       "      <th></th>\n",
       "      <th>ipo_info_key</th>\n",
       "      <th>ipo_date</th>\n",
       "      <th>ipo_date_raw</th>\n",
       "      <th>ipo_name</th>\n",
       "      <th>ipo_tick</th>\n",
       "      <th>ipo_shares</th>\n",
       "      <th>ipo_price</th>\n",
       "      <th>prior_ipo_reg_form</th>\n",
       "      <th>prior_ipo_reg_date</th>\n",
       "      <th>auditor_fkey_at_ipo</th>\n",
       "      <th>aud_name_ipo_date</th>\n",
       "      <th>ipo_desc</th>\n",
       "      <th>accounting_fees</th>\n",
       "      <th>legal_fees</th>\n",
       "      <th>curr_code_fkey</th>\n",
       "      <th>curr_accounting_fees</th>\n",
       "      <th>curr_legal_fees</th>\n",
       "      <th>company_fkey</th>\n",
       "      <th>matchfy_price_date</th>\n",
       "      <th>matchfy_price_close</th>\n",
       "      <th>matchfy_tso_date</th>\n",
       "      <th>matchfy_tso</th>\n",
       "      <th>matchfy_tso_markcap</th>\n",
       "      <th>matchfy_date_qtr</th>\n",
       "      <th>matchfy_date_ttm</th>\n",
       "      <th>matchfy_filing_code_qtr</th>\n",
       "      <th>matchfy_filing_code_ttm</th>\n",
       "      <th>matchfy_annual_quindic</th>\n",
       "      <th>matchfy_balsh_book_val</th>\n",
       "      <th>matchfy_balsh_assets</th>\n",
       "      <th>matchfy_balsh_cash_equivs</th>\n",
       "      <th>matchfy_incmst_rev_qtr</th>\n",
       "      <th>rev</th>\n",
       "      <th>matchfy_incmst_netinc_qtr</th>\n",
       "      <th>ni</th>\n",
       "      <th>matchfy_incmst_extraitm_qtr</th>\n",
       "      <th>matchfy_incmst_extraitm_ttm</th>\n",
       "      <th>matchfy_incmst_ebitda_qtr</th>\n",
       "      <th>matchfy_incmst_ebitda_ttm</th>\n",
       "      <th>matchfy_eff_accchange_qtr</th>\n",
       "      <th>matchfy_eff_accchange_ttm</th>\n",
       "      <th>matchfy_cshflst_op_act_qtr</th>\n",
       "      <th>matchfy_cshflst_op_act_ttm</th>\n",
       "      <th>matchfy_cshflst_inv_act_qtr</th>\n",
       "      <th>matchfy_cshflst_inv_act_ttm</th>\n",
       "      <th>matchfy_cshflst_fin_act_qtr</th>\n",
       "      <th>matchfy_cshflst_fin_act_ttm</th>\n",
       "      <th>matchfy_cshflst_change_qtr</th>\n",
       "      <th>matchfy_cshflst_change_ttm</th>\n",
       "      <th>matchfy_sumfees_fy_end</th>\n",
       "      <th>matchfy_sumfees_fy</th>\n",
       "      <th>matchfy_sum_audfees</th>\n",
       "      <th>matchfy_sum_nonaud</th>\n",
       "      <th>matchfy_sum_benfees</th>\n",
       "      <th>matchfy_sum_itfees</th>\n",
       "      <th>matchfy_sum_taxfees</th>\n",
       "      <th>matchfy_sum_audrel_fees</th>\n",
       "      <th>matchfy_sum_other</th>\n",
       "      <th>matchfy_sum_total</th>\n",
       "      <th>eventdate_aud_fkey</th>\n",
       "      <th>eventdate_aud_name</th>\n",
       "      <th>ipo_type</th>\n",
       "      <th>best_edgar_ticker</th>\n",
       "    </tr>\n",
       "  </thead>\n",
       "  <tbody>\n",
       "    <tr>\n",
       "      <th>0</th>\n",
       "      <td>4161.0</td>\n",
       "      <td>1967-01-01</td>\n",
       "      <td>19670000.0</td>\n",
       "      <td>AAR Corp</td>\n",
       "      <td>AIR</td>\n",
       "      <td>0.0</td>\n",
       "      <td>0.0</td>\n",
       "      <td>None</td>\n",
       "      <td>None</td>\n",
       "      <td>216.0</td>\n",
       "      <td>unknown</td>\n",
       "      <td>None</td>\n",
       "      <td>NaN</td>\n",
       "      <td>NaN</td>\n",
       "      <td>USD</td>\n",
       "      <td>NaN</td>\n",
       "      <td>NaN</td>\n",
       "      <td>0000001750</td>\n",
       "      <td>None</td>\n",
       "      <td>NaN</td>\n",
       "      <td>None</td>\n",
       "      <td>NaN</td>\n",
       "      <td>NaN</td>\n",
       "      <td>None</td>\n",
       "      <td>None</td>\n",
       "      <td>None</td>\n",
       "      <td>None</td>\n",
       "      <td>None</td>\n",
       "      <td>NaN</td>\n",
       "      <td>NaN</td>\n",
       "      <td>NaN</td>\n",
       "      <td>NaN</td>\n",
       "      <td>NaN</td>\n",
       "      <td>NaN</td>\n",
       "      <td>NaN</td>\n",
       "      <td>NaN</td>\n",
       "      <td>NaN</td>\n",
       "      <td>NaN</td>\n",
       "      <td>NaN</td>\n",
       "      <td>NaN</td>\n",
       "      <td>NaN</td>\n",
       "      <td>NaN</td>\n",
       "      <td>NaN</td>\n",
       "      <td>NaN</td>\n",
       "      <td>NaN</td>\n",
       "      <td>NaN</td>\n",
       "      <td>NaN</td>\n",
       "      <td>NaN</td>\n",
       "      <td>NaN</td>\n",
       "      <td>NaN</td>\n",
       "      <td>NaN</td>\n",
       "      <td>NaN</td>\n",
       "      <td>NaN</td>\n",
       "      <td>NaN</td>\n",
       "      <td>NaN</td>\n",
       "      <td>NaN</td>\n",
       "      <td>NaN</td>\n",
       "      <td>NaN</td>\n",
       "      <td>NaN</td>\n",
       "      <td>216.0</td>\n",
       "      <td>None</td>\n",
       "      <td>None</td>\n",
       "      <td>AIR</td>\n",
       "    </tr>\n",
       "    <tr>\n",
       "      <th>1</th>\n",
       "      <td>2677.0</td>\n",
       "      <td>1929-01-01</td>\n",
       "      <td>19290000.0</td>\n",
       "      <td>None</td>\n",
       "      <td>None</td>\n",
       "      <td>0.0</td>\n",
       "      <td>0.0</td>\n",
       "      <td>None</td>\n",
       "      <td>None</td>\n",
       "      <td>216.0</td>\n",
       "      <td>unknown</td>\n",
       "      <td>None</td>\n",
       "      <td>NaN</td>\n",
       "      <td>NaN</td>\n",
       "      <td>USD</td>\n",
       "      <td>NaN</td>\n",
       "      <td>NaN</td>\n",
       "      <td>0000001800</td>\n",
       "      <td>None</td>\n",
       "      <td>NaN</td>\n",
       "      <td>None</td>\n",
       "      <td>NaN</td>\n",
       "      <td>NaN</td>\n",
       "      <td>None</td>\n",
       "      <td>None</td>\n",
       "      <td>None</td>\n",
       "      <td>None</td>\n",
       "      <td>None</td>\n",
       "      <td>NaN</td>\n",
       "      <td>NaN</td>\n",
       "      <td>NaN</td>\n",
       "      <td>NaN</td>\n",
       "      <td>NaN</td>\n",
       "      <td>NaN</td>\n",
       "      <td>NaN</td>\n",
       "      <td>NaN</td>\n",
       "      <td>NaN</td>\n",
       "      <td>NaN</td>\n",
       "      <td>NaN</td>\n",
       "      <td>NaN</td>\n",
       "      <td>NaN</td>\n",
       "      <td>NaN</td>\n",
       "      <td>NaN</td>\n",
       "      <td>NaN</td>\n",
       "      <td>NaN</td>\n",
       "      <td>NaN</td>\n",
       "      <td>NaN</td>\n",
       "      <td>NaN</td>\n",
       "      <td>NaN</td>\n",
       "      <td>NaN</td>\n",
       "      <td>NaN</td>\n",
       "      <td>NaN</td>\n",
       "      <td>NaN</td>\n",
       "      <td>NaN</td>\n",
       "      <td>NaN</td>\n",
       "      <td>NaN</td>\n",
       "      <td>NaN</td>\n",
       "      <td>NaN</td>\n",
       "      <td>NaN</td>\n",
       "      <td>216.0</td>\n",
       "      <td>None</td>\n",
       "      <td>None</td>\n",
       "      <td>ABT</td>\n",
       "    </tr>\n",
       "    <tr>\n",
       "      <th>2</th>\n",
       "      <td>5219.0</td>\n",
       "      <td>1962-01-01</td>\n",
       "      <td>19620000.0</td>\n",
       "      <td>Aceto Corp</td>\n",
       "      <td>ACET</td>\n",
       "      <td>0.0</td>\n",
       "      <td>0.0</td>\n",
       "      <td>None</td>\n",
       "      <td>None</td>\n",
       "      <td>216.0</td>\n",
       "      <td>unknown</td>\n",
       "      <td>None</td>\n",
       "      <td>NaN</td>\n",
       "      <td>NaN</td>\n",
       "      <td>USD</td>\n",
       "      <td>NaN</td>\n",
       "      <td>NaN</td>\n",
       "      <td>0000002034</td>\n",
       "      <td>None</td>\n",
       "      <td>NaN</td>\n",
       "      <td>None</td>\n",
       "      <td>NaN</td>\n",
       "      <td>NaN</td>\n",
       "      <td>None</td>\n",
       "      <td>None</td>\n",
       "      <td>None</td>\n",
       "      <td>None</td>\n",
       "      <td>None</td>\n",
       "      <td>NaN</td>\n",
       "      <td>NaN</td>\n",
       "      <td>NaN</td>\n",
       "      <td>NaN</td>\n",
       "      <td>NaN</td>\n",
       "      <td>NaN</td>\n",
       "      <td>NaN</td>\n",
       "      <td>NaN</td>\n",
       "      <td>NaN</td>\n",
       "      <td>NaN</td>\n",
       "      <td>NaN</td>\n",
       "      <td>NaN</td>\n",
       "      <td>NaN</td>\n",
       "      <td>NaN</td>\n",
       "      <td>NaN</td>\n",
       "      <td>NaN</td>\n",
       "      <td>NaN</td>\n",
       "      <td>NaN</td>\n",
       "      <td>NaN</td>\n",
       "      <td>NaN</td>\n",
       "      <td>NaN</td>\n",
       "      <td>NaN</td>\n",
       "      <td>NaN</td>\n",
       "      <td>NaN</td>\n",
       "      <td>NaN</td>\n",
       "      <td>NaN</td>\n",
       "      <td>NaN</td>\n",
       "      <td>NaN</td>\n",
       "      <td>NaN</td>\n",
       "      <td>NaN</td>\n",
       "      <td>NaN</td>\n",
       "      <td>216.0</td>\n",
       "      <td>None</td>\n",
       "      <td>None</td>\n",
       "      <td>None</td>\n",
       "    </tr>\n",
       "    <tr>\n",
       "      <th>3</th>\n",
       "      <td>2872.0</td>\n",
       "      <td>1994-01-01</td>\n",
       "      <td>19940000.0</td>\n",
       "      <td>None</td>\n",
       "      <td>None</td>\n",
       "      <td>0.0</td>\n",
       "      <td>0.0</td>\n",
       "      <td>None</td>\n",
       "      <td>None</td>\n",
       "      <td>1.0</td>\n",
       "      <td>PricewaterhouseCoopers LLP</td>\n",
       "      <td>None</td>\n",
       "      <td>NaN</td>\n",
       "      <td>NaN</td>\n",
       "      <td>USD</td>\n",
       "      <td>NaN</td>\n",
       "      <td>NaN</td>\n",
       "      <td>0000002135</td>\n",
       "      <td>None</td>\n",
       "      <td>NaN</td>\n",
       "      <td>None</td>\n",
       "      <td>NaN</td>\n",
       "      <td>NaN</td>\n",
       "      <td>None</td>\n",
       "      <td>None</td>\n",
       "      <td>None</td>\n",
       "      <td>None</td>\n",
       "      <td>None</td>\n",
       "      <td>NaN</td>\n",
       "      <td>NaN</td>\n",
       "      <td>NaN</td>\n",
       "      <td>NaN</td>\n",
       "      <td>NaN</td>\n",
       "      <td>NaN</td>\n",
       "      <td>NaN</td>\n",
       "      <td>NaN</td>\n",
       "      <td>NaN</td>\n",
       "      <td>NaN</td>\n",
       "      <td>NaN</td>\n",
       "      <td>NaN</td>\n",
       "      <td>NaN</td>\n",
       "      <td>NaN</td>\n",
       "      <td>NaN</td>\n",
       "      <td>NaN</td>\n",
       "      <td>NaN</td>\n",
       "      <td>NaN</td>\n",
       "      <td>NaN</td>\n",
       "      <td>NaN</td>\n",
       "      <td>NaN</td>\n",
       "      <td>NaN</td>\n",
       "      <td>NaN</td>\n",
       "      <td>NaN</td>\n",
       "      <td>NaN</td>\n",
       "      <td>NaN</td>\n",
       "      <td>NaN</td>\n",
       "      <td>NaN</td>\n",
       "      <td>NaN</td>\n",
       "      <td>NaN</td>\n",
       "      <td>NaN</td>\n",
       "      <td>1.0</td>\n",
       "      <td>PricewaterhouseCoopers LLP</td>\n",
       "      <td>None</td>\n",
       "      <td>None</td>\n",
       "    </tr>\n",
       "    <tr>\n",
       "      <th>4</th>\n",
       "      <td>5541.0</td>\n",
       "      <td>1982-12-01</td>\n",
       "      <td>19821200.0</td>\n",
       "      <td>Relm Wireless Corp</td>\n",
       "      <td>RWC</td>\n",
       "      <td>0.0</td>\n",
       "      <td>37.5</td>\n",
       "      <td>None</td>\n",
       "      <td>None</td>\n",
       "      <td>216.0</td>\n",
       "      <td>unknown</td>\n",
       "      <td>Initial Public Offering</td>\n",
       "      <td>NaN</td>\n",
       "      <td>NaN</td>\n",
       "      <td>USD</td>\n",
       "      <td>NaN</td>\n",
       "      <td>NaN</td>\n",
       "      <td>0000002186</td>\n",
       "      <td>None</td>\n",
       "      <td>NaN</td>\n",
       "      <td>None</td>\n",
       "      <td>NaN</td>\n",
       "      <td>NaN</td>\n",
       "      <td>None</td>\n",
       "      <td>None</td>\n",
       "      <td>None</td>\n",
       "      <td>None</td>\n",
       "      <td>None</td>\n",
       "      <td>NaN</td>\n",
       "      <td>NaN</td>\n",
       "      <td>NaN</td>\n",
       "      <td>NaN</td>\n",
       "      <td>NaN</td>\n",
       "      <td>NaN</td>\n",
       "      <td>NaN</td>\n",
       "      <td>NaN</td>\n",
       "      <td>NaN</td>\n",
       "      <td>NaN</td>\n",
       "      <td>NaN</td>\n",
       "      <td>NaN</td>\n",
       "      <td>NaN</td>\n",
       "      <td>NaN</td>\n",
       "      <td>NaN</td>\n",
       "      <td>NaN</td>\n",
       "      <td>NaN</td>\n",
       "      <td>NaN</td>\n",
       "      <td>NaN</td>\n",
       "      <td>NaN</td>\n",
       "      <td>NaN</td>\n",
       "      <td>NaN</td>\n",
       "      <td>NaN</td>\n",
       "      <td>NaN</td>\n",
       "      <td>NaN</td>\n",
       "      <td>NaN</td>\n",
       "      <td>NaN</td>\n",
       "      <td>NaN</td>\n",
       "      <td>NaN</td>\n",
       "      <td>NaN</td>\n",
       "      <td>NaN</td>\n",
       "      <td>216.0</td>\n",
       "      <td>None</td>\n",
       "      <td>Traditional</td>\n",
       "      <td>BKTI</td>\n",
       "    </tr>\n",
       "  </tbody>\n",
       "</table>\n",
       "</div>"
      ],
      "text/plain": [
       "   ipo_info_key    ipo_date  ipo_date_raw            ipo_name ipo_tick  \\\n",
       "0        4161.0  1967-01-01    19670000.0            AAR Corp      AIR   \n",
       "1        2677.0  1929-01-01    19290000.0                None     None   \n",
       "2        5219.0  1962-01-01    19620000.0          Aceto Corp     ACET   \n",
       "3        2872.0  1994-01-01    19940000.0                None     None   \n",
       "4        5541.0  1982-12-01    19821200.0  Relm Wireless Corp      RWC   \n",
       "\n",
       "   ipo_shares  ipo_price prior_ipo_reg_form prior_ipo_reg_date  \\\n",
       "0         0.0        0.0               None               None   \n",
       "1         0.0        0.0               None               None   \n",
       "2         0.0        0.0               None               None   \n",
       "3         0.0        0.0               None               None   \n",
       "4         0.0       37.5               None               None   \n",
       "\n",
       "   auditor_fkey_at_ipo           aud_name_ipo_date                 ipo_desc  \\\n",
       "0                216.0                     unknown                     None   \n",
       "1                216.0                     unknown                     None   \n",
       "2                216.0                     unknown                     None   \n",
       "3                  1.0  PricewaterhouseCoopers LLP                     None   \n",
       "4                216.0                     unknown  Initial Public Offering   \n",
       "\n",
       "   accounting_fees  legal_fees curr_code_fkey  curr_accounting_fees  \\\n",
       "0              NaN         NaN            USD                   NaN   \n",
       "1              NaN         NaN            USD                   NaN   \n",
       "2              NaN         NaN            USD                   NaN   \n",
       "3              NaN         NaN            USD                   NaN   \n",
       "4              NaN         NaN            USD                   NaN   \n",
       "\n",
       "   curr_legal_fees company_fkey matchfy_price_date  matchfy_price_close  \\\n",
       "0              NaN   0000001750               None                  NaN   \n",
       "1              NaN   0000001800               None                  NaN   \n",
       "2              NaN   0000002034               None                  NaN   \n",
       "3              NaN   0000002135               None                  NaN   \n",
       "4              NaN   0000002186               None                  NaN   \n",
       "\n",
       "  matchfy_tso_date  matchfy_tso  matchfy_tso_markcap matchfy_date_qtr  \\\n",
       "0             None          NaN                  NaN             None   \n",
       "1             None          NaN                  NaN             None   \n",
       "2             None          NaN                  NaN             None   \n",
       "3             None          NaN                  NaN             None   \n",
       "4             None          NaN                  NaN             None   \n",
       "\n",
       "  matchfy_date_ttm matchfy_filing_code_qtr matchfy_filing_code_ttm  \\\n",
       "0             None                    None                    None   \n",
       "1             None                    None                    None   \n",
       "2             None                    None                    None   \n",
       "3             None                    None                    None   \n",
       "4             None                    None                    None   \n",
       "\n",
       "  matchfy_annual_quindic  matchfy_balsh_book_val  matchfy_balsh_assets  \\\n",
       "0                   None                     NaN                   NaN   \n",
       "1                   None                     NaN                   NaN   \n",
       "2                   None                     NaN                   NaN   \n",
       "3                   None                     NaN                   NaN   \n",
       "4                   None                     NaN                   NaN   \n",
       "\n",
       "   matchfy_balsh_cash_equivs  matchfy_incmst_rev_qtr  rev  \\\n",
       "0                        NaN                     NaN  NaN   \n",
       "1                        NaN                     NaN  NaN   \n",
       "2                        NaN                     NaN  NaN   \n",
       "3                        NaN                     NaN  NaN   \n",
       "4                        NaN                     NaN  NaN   \n",
       "\n",
       "   matchfy_incmst_netinc_qtr  ni  matchfy_incmst_extraitm_qtr  \\\n",
       "0                        NaN NaN                          NaN   \n",
       "1                        NaN NaN                          NaN   \n",
       "2                        NaN NaN                          NaN   \n",
       "3                        NaN NaN                          NaN   \n",
       "4                        NaN NaN                          NaN   \n",
       "\n",
       "   matchfy_incmst_extraitm_ttm  matchfy_incmst_ebitda_qtr  \\\n",
       "0                          NaN                        NaN   \n",
       "1                          NaN                        NaN   \n",
       "2                          NaN                        NaN   \n",
       "3                          NaN                        NaN   \n",
       "4                          NaN                        NaN   \n",
       "\n",
       "   matchfy_incmst_ebitda_ttm  matchfy_eff_accchange_qtr  \\\n",
       "0                        NaN                        NaN   \n",
       "1                        NaN                        NaN   \n",
       "2                        NaN                        NaN   \n",
       "3                        NaN                        NaN   \n",
       "4                        NaN                        NaN   \n",
       "\n",
       "   matchfy_eff_accchange_ttm  matchfy_cshflst_op_act_qtr  \\\n",
       "0                        NaN                         NaN   \n",
       "1                        NaN                         NaN   \n",
       "2                        NaN                         NaN   \n",
       "3                        NaN                         NaN   \n",
       "4                        NaN                         NaN   \n",
       "\n",
       "   matchfy_cshflst_op_act_ttm  matchfy_cshflst_inv_act_qtr  \\\n",
       "0                         NaN                          NaN   \n",
       "1                         NaN                          NaN   \n",
       "2                         NaN                          NaN   \n",
       "3                         NaN                          NaN   \n",
       "4                         NaN                          NaN   \n",
       "\n",
       "   matchfy_cshflst_inv_act_ttm  matchfy_cshflst_fin_act_qtr  \\\n",
       "0                          NaN                          NaN   \n",
       "1                          NaN                          NaN   \n",
       "2                          NaN                          NaN   \n",
       "3                          NaN                          NaN   \n",
       "4                          NaN                          NaN   \n",
       "\n",
       "   matchfy_cshflst_fin_act_ttm  matchfy_cshflst_change_qtr  \\\n",
       "0                          NaN                         NaN   \n",
       "1                          NaN                         NaN   \n",
       "2                          NaN                         NaN   \n",
       "3                          NaN                         NaN   \n",
       "4                          NaN                         NaN   \n",
       "\n",
       "   matchfy_cshflst_change_ttm  matchfy_sumfees_fy_end  matchfy_sumfees_fy  \\\n",
       "0                         NaN                     NaN                 NaN   \n",
       "1                         NaN                     NaN                 NaN   \n",
       "2                         NaN                     NaN                 NaN   \n",
       "3                         NaN                     NaN                 NaN   \n",
       "4                         NaN                     NaN                 NaN   \n",
       "\n",
       "   matchfy_sum_audfees  matchfy_sum_nonaud  matchfy_sum_benfees  \\\n",
       "0                  NaN                 NaN                  NaN   \n",
       "1                  NaN                 NaN                  NaN   \n",
       "2                  NaN                 NaN                  NaN   \n",
       "3                  NaN                 NaN                  NaN   \n",
       "4                  NaN                 NaN                  NaN   \n",
       "\n",
       "   matchfy_sum_itfees  matchfy_sum_taxfees  matchfy_sum_audrel_fees  \\\n",
       "0                 NaN                  NaN                      NaN   \n",
       "1                 NaN                  NaN                      NaN   \n",
       "2                 NaN                  NaN                      NaN   \n",
       "3                 NaN                  NaN                      NaN   \n",
       "4                 NaN                  NaN                      NaN   \n",
       "\n",
       "   matchfy_sum_other  matchfy_sum_total  eventdate_aud_fkey  \\\n",
       "0                NaN                NaN               216.0   \n",
       "1                NaN                NaN               216.0   \n",
       "2                NaN                NaN               216.0   \n",
       "3                NaN                NaN                 1.0   \n",
       "4                NaN                NaN               216.0   \n",
       "\n",
       "           eventdate_aud_name     ipo_type best_edgar_ticker  \n",
       "0                        None         None               AIR  \n",
       "1                        None         None               ABT  \n",
       "2                        None         None              None  \n",
       "3  PricewaterhouseCoopers LLP         None              None  \n",
       "4                        None  Traditional              BKTI  "
      ]
     },
     "execution_count": 48,
     "metadata": {},
     "output_type": "execute_result"
    }
   ],
   "source": [
    "df.head()"
   ]
  },
  {
   "cell_type": "code",
   "execution_count": 49,
   "id": "2484ad3e-2aea-4194-be76-50112da38696",
   "metadata": {},
   "outputs": [
    {
     "data": {
      "text/plain": [
       "(3833, 10)"
      ]
     },
     "execution_count": 49,
     "metadata": {},
     "output_type": "execute_result"
    }
   ],
   "source": [
    "df=df[['company_fkey', 'ipo_tick', 'ipo_name', 'ipo_date', 'auditor_fkey_at_ipo', 'accounting_fees', 'legal_fees', 'ipo_type', 'rev', 'ni']]\n",
    "df.dropna(inplace= True)\n",
    "df.shape"
   ]
  },
  {
   "cell_type": "code",
   "execution_count": 50,
   "id": "c4952aa7-0dcb-4052-9fa2-54e96acf662e",
   "metadata": {},
   "outputs": [
    {
     "data": {
      "text/html": [
       "<div>\n",
       "<style scoped>\n",
       "    .dataframe tbody tr th:only-of-type {\n",
       "        vertical-align: middle;\n",
       "    }\n",
       "\n",
       "    .dataframe tbody tr th {\n",
       "        vertical-align: top;\n",
       "    }\n",
       "\n",
       "    .dataframe thead th {\n",
       "        text-align: right;\n",
       "    }\n",
       "</style>\n",
       "<table border=\"1\" class=\"dataframe\">\n",
       "  <thead>\n",
       "    <tr style=\"text-align: right;\">\n",
       "      <th></th>\n",
       "      <th>company_fkey</th>\n",
       "      <th>ipo_tick</th>\n",
       "      <th>ipo_name</th>\n",
       "      <th>ipo_date</th>\n",
       "      <th>auditor_fkey_at_ipo</th>\n",
       "      <th>accounting_fees</th>\n",
       "      <th>legal_fees</th>\n",
       "      <th>ipo_type</th>\n",
       "      <th>rev</th>\n",
       "      <th>ni</th>\n",
       "    </tr>\n",
       "  </thead>\n",
       "  <tbody>\n",
       "    <tr>\n",
       "      <th>72</th>\n",
       "      <td>0000015615</td>\n",
       "      <td>MTZ</td>\n",
       "      <td>Mastec Inc</td>\n",
       "      <td>1997-02-14</td>\n",
       "      <td>1.0</td>\n",
       "      <td>50000.0</td>\n",
       "      <td>100000.0</td>\n",
       "      <td>Traditional</td>\n",
       "      <td>6.594390e+08</td>\n",
       "      <td>34664000.0</td>\n",
       "    </tr>\n",
       "    <tr>\n",
       "      <th>87</th>\n",
       "      <td>0000018169</td>\n",
       "      <td>DOLE</td>\n",
       "      <td>DOLE FOOD CO INC</td>\n",
       "      <td>2009-10-22</td>\n",
       "      <td>3.0</td>\n",
       "      <td>1500000.0</td>\n",
       "      <td>1000000.0</td>\n",
       "      <td>Traditional</td>\n",
       "      <td>6.778500e+09</td>\n",
       "      <td>132349500.0</td>\n",
       "    </tr>\n",
       "    <tr>\n",
       "      <th>145</th>\n",
       "      <td>0000029534</td>\n",
       "      <td>DG</td>\n",
       "      <td>Dollar General Corp</td>\n",
       "      <td>2009-11-13</td>\n",
       "      <td>2.0</td>\n",
       "      <td>800000.0</td>\n",
       "      <td>1500000.0</td>\n",
       "      <td>Traditional</td>\n",
       "      <td>1.179638e+10</td>\n",
       "      <td>339442000.0</td>\n",
       "    </tr>\n",
       "    <tr>\n",
       "      <th>147</th>\n",
       "      <td>0000029806</td>\n",
       "      <td>CNST</td>\n",
       "      <td>Constar International Inc</td>\n",
       "      <td>2002-11-14</td>\n",
       "      <td>1.0</td>\n",
       "      <td>1200000.0</td>\n",
       "      <td>2250000.0</td>\n",
       "      <td>Traditional</td>\n",
       "      <td>7.043280e+08</td>\n",
       "      <td>-35388000.0</td>\n",
       "    </tr>\n",
       "    <tr>\n",
       "      <th>159</th>\n",
       "      <td>0000031347</td>\n",
       "      <td>ELON</td>\n",
       "      <td>Echelon Corp</td>\n",
       "      <td>1998-07-27</td>\n",
       "      <td>5.0</td>\n",
       "      <td>150000.0</td>\n",
       "      <td>300000.0</td>\n",
       "      <td>Traditional</td>\n",
       "      <td>3.220100e+07</td>\n",
       "      <td>-5851000.0</td>\n",
       "    </tr>\n",
       "  </tbody>\n",
       "</table>\n",
       "</div>"
      ],
      "text/plain": [
       "    company_fkey ipo_tick                   ipo_name    ipo_date  \\\n",
       "72    0000015615      MTZ                 Mastec Inc  1997-02-14   \n",
       "87    0000018169     DOLE           DOLE FOOD CO INC  2009-10-22   \n",
       "145   0000029534       DG        Dollar General Corp  2009-11-13   \n",
       "147   0000029806     CNST  Constar International Inc  2002-11-14   \n",
       "159   0000031347     ELON               Echelon Corp  1998-07-27   \n",
       "\n",
       "     auditor_fkey_at_ipo  accounting_fees  legal_fees     ipo_type  \\\n",
       "72                   1.0          50000.0    100000.0  Traditional   \n",
       "87                   3.0        1500000.0   1000000.0  Traditional   \n",
       "145                  2.0         800000.0   1500000.0  Traditional   \n",
       "147                  1.0        1200000.0   2250000.0  Traditional   \n",
       "159                  5.0         150000.0    300000.0  Traditional   \n",
       "\n",
       "              rev           ni  \n",
       "72   6.594390e+08   34664000.0  \n",
       "87   6.778500e+09  132349500.0  \n",
       "145  1.179638e+10  339442000.0  \n",
       "147  7.043280e+08  -35388000.0  \n",
       "159  3.220100e+07   -5851000.0  "
      ]
     },
     "execution_count": 50,
     "metadata": {},
     "output_type": "execute_result"
    }
   ],
   "source": [
    "df.head()"
   ]
  },
  {
   "cell_type": "code",
   "execution_count": 51,
   "id": "a0d3a777-dcd3-4192-a30c-a2c4b9c8f95b",
   "metadata": {},
   "outputs": [
    {
     "data": {
      "text/plain": [
       "Traditional                                   3598\n",
       "Special Purpose Acquisition Company (SPAC)     227\n",
       "Direct Listing                                   8\n",
       "Name: ipo_type, dtype: int64"
      ]
     },
     "execution_count": 51,
     "metadata": {},
     "output_type": "execute_result"
    }
   ],
   "source": [
    "df.ipo_type.value_counts()"
   ]
  },
  {
   "cell_type": "code",
   "execution_count": 52,
   "id": "f65a4098-79c5-4e8e-9ae8-e84dfb7ecbc2",
   "metadata": {},
   "outputs": [],
   "source": [
    "df[df.ipo_type=='Traditional']\n",
    "df.drop(columns='ipo_type', inplace= True)"
   ]
  },
  {
   "cell_type": "code",
   "execution_count": 53,
   "id": "bd5ba12e-c64b-41cc-abf5-f1500c5bb083",
   "metadata": {},
   "outputs": [
    {
     "data": {
      "text/html": [
       "<div>\n",
       "<style scoped>\n",
       "    .dataframe tbody tr th:only-of-type {\n",
       "        vertical-align: middle;\n",
       "    }\n",
       "\n",
       "    .dataframe tbody tr th {\n",
       "        vertical-align: top;\n",
       "    }\n",
       "\n",
       "    .dataframe thead th {\n",
       "        text-align: right;\n",
       "    }\n",
       "</style>\n",
       "<table border=\"1\" class=\"dataframe\">\n",
       "  <thead>\n",
       "    <tr style=\"text-align: right;\">\n",
       "      <th></th>\n",
       "      <th>company_fkey</th>\n",
       "      <th>ipo_tick</th>\n",
       "      <th>ipo_name</th>\n",
       "      <th>ipo_date</th>\n",
       "      <th>auditor_fkey_at_ipo</th>\n",
       "      <th>accounting_fees</th>\n",
       "      <th>legal_fees</th>\n",
       "      <th>rev</th>\n",
       "      <th>ni</th>\n",
       "    </tr>\n",
       "  </thead>\n",
       "  <tbody>\n",
       "    <tr>\n",
       "      <th>72</th>\n",
       "      <td>0000015615</td>\n",
       "      <td>MTZ</td>\n",
       "      <td>Mastec Inc</td>\n",
       "      <td>1997-02-14</td>\n",
       "      <td>1.0</td>\n",
       "      <td>50000.0</td>\n",
       "      <td>100000.0</td>\n",
       "      <td>6.594390e+08</td>\n",
       "      <td>34664000.0</td>\n",
       "    </tr>\n",
       "    <tr>\n",
       "      <th>87</th>\n",
       "      <td>0000018169</td>\n",
       "      <td>DOLE</td>\n",
       "      <td>DOLE FOOD CO INC</td>\n",
       "      <td>2009-10-22</td>\n",
       "      <td>3.0</td>\n",
       "      <td>1500000.0</td>\n",
       "      <td>1000000.0</td>\n",
       "      <td>6.778500e+09</td>\n",
       "      <td>132349500.0</td>\n",
       "    </tr>\n",
       "    <tr>\n",
       "      <th>145</th>\n",
       "      <td>0000029534</td>\n",
       "      <td>DG</td>\n",
       "      <td>Dollar General Corp</td>\n",
       "      <td>2009-11-13</td>\n",
       "      <td>2.0</td>\n",
       "      <td>800000.0</td>\n",
       "      <td>1500000.0</td>\n",
       "      <td>1.179638e+10</td>\n",
       "      <td>339442000.0</td>\n",
       "    </tr>\n",
       "    <tr>\n",
       "      <th>147</th>\n",
       "      <td>0000029806</td>\n",
       "      <td>CNST</td>\n",
       "      <td>Constar International Inc</td>\n",
       "      <td>2002-11-14</td>\n",
       "      <td>1.0</td>\n",
       "      <td>1200000.0</td>\n",
       "      <td>2250000.0</td>\n",
       "      <td>7.043280e+08</td>\n",
       "      <td>-35388000.0</td>\n",
       "    </tr>\n",
       "    <tr>\n",
       "      <th>159</th>\n",
       "      <td>0000031347</td>\n",
       "      <td>ELON</td>\n",
       "      <td>Echelon Corp</td>\n",
       "      <td>1998-07-27</td>\n",
       "      <td>5.0</td>\n",
       "      <td>150000.0</td>\n",
       "      <td>300000.0</td>\n",
       "      <td>3.220100e+07</td>\n",
       "      <td>-5851000.0</td>\n",
       "    </tr>\n",
       "  </tbody>\n",
       "</table>\n",
       "</div>"
      ],
      "text/plain": [
       "    company_fkey ipo_tick                   ipo_name    ipo_date  \\\n",
       "72    0000015615      MTZ                 Mastec Inc  1997-02-14   \n",
       "87    0000018169     DOLE           DOLE FOOD CO INC  2009-10-22   \n",
       "145   0000029534       DG        Dollar General Corp  2009-11-13   \n",
       "147   0000029806     CNST  Constar International Inc  2002-11-14   \n",
       "159   0000031347     ELON               Echelon Corp  1998-07-27   \n",
       "\n",
       "     auditor_fkey_at_ipo  accounting_fees  legal_fees           rev  \\\n",
       "72                   1.0          50000.0    100000.0  6.594390e+08   \n",
       "87                   3.0        1500000.0   1000000.0  6.778500e+09   \n",
       "145                  2.0         800000.0   1500000.0  1.179638e+10   \n",
       "147                  1.0        1200000.0   2250000.0  7.043280e+08   \n",
       "159                  5.0         150000.0    300000.0  3.220100e+07   \n",
       "\n",
       "              ni  \n",
       "72    34664000.0  \n",
       "87   132349500.0  \n",
       "145  339442000.0  \n",
       "147  -35388000.0  \n",
       "159   -5851000.0  "
      ]
     },
     "execution_count": 53,
     "metadata": {},
     "output_type": "execute_result"
    }
   ],
   "source": [
    "df.head()"
   ]
  },
  {
   "cell_type": "code",
   "execution_count": 57,
   "id": "caf81c0b-b210-4e5e-8060-3c62834f28ed",
   "metadata": {},
   "outputs": [],
   "source": [
    "df.rename(columns={'accounting_fees':'afees', 'legal_fees':'lfees'}, inplace= True)"
   ]
  },
  {
   "cell_type": "code",
   "execution_count": 106,
   "id": "6e359324-d135-45b8-96ac-789f204329ff",
   "metadata": {},
   "outputs": [],
   "source": [
    "df['big4']=0\n",
    "df.loc[df['auditor_fkey_at_ipo']<=4, 'big4']= 1"
   ]
  },
  {
   "cell_type": "markdown",
   "id": "d42dacb5-7716-46a7-a50d-ebc9d3f838f9",
   "metadata": {},
   "source": [
    "### Close connection"
   ]
  },
  {
   "cell_type": "code",
   "execution_count": 6,
   "id": "d84df791-a599-45ff-8685-3cab71445551",
   "metadata": {},
   "outputs": [],
   "source": [
    "conn.close()"
   ]
  },
  {
   "cell_type": "markdown",
   "id": "a700c245-5010-43f8-bb73-1d9f50d394c4",
   "metadata": {},
   "source": [
    "-------------------------"
   ]
  },
  {
   "cell_type": "code",
   "execution_count": 69,
   "id": "b5823483-c23c-4287-a7e6-0ef42f9a4e6a",
   "metadata": {},
   "outputs": [],
   "source": [
    "from sklearn.linear_model import LinearRegression\n",
    "import seaborn as sns\n",
    "import matplotlib.pyplot as plt"
   ]
  },
  {
   "cell_type": "code",
   "execution_count": 60,
   "id": "d91adef7-a8ee-4f75-87aa-4c3ae5978598",
   "metadata": {},
   "outputs": [
    {
     "data": {
      "text/plain": [
       "LinearRegression()"
      ]
     },
     "execution_count": 60,
     "metadata": {},
     "output_type": "execute_result"
    }
   ],
   "source": [
    "lm= LinearRegression()\n",
    "x=df[['afees']]\n",
    "y=df[['lfees']]\n",
    "lm.fit(x,y)"
   ]
  },
  {
   "cell_type": "code",
   "execution_count": 61,
   "id": "0de2432a-0837-45ab-899e-2ef73daa7050",
   "metadata": {},
   "outputs": [],
   "source": [
    "yhat= lm.predict(x)"
   ]
  },
  {
   "cell_type": "code",
   "execution_count": 100,
   "id": "a5dba754-cb4a-4548-b938-8aae3e14fab1",
   "metadata": {},
   "outputs": [],
   "source": [
    "df['lfees_hat']= yhat"
   ]
  },
  {
   "cell_type": "code",
   "execution_count": 64,
   "id": "5a442d86-491f-495c-9969-adbe50057c1f",
   "metadata": {},
   "outputs": [
    {
     "data": {
      "text/plain": [
       "array([788332.65119723])"
      ]
     },
     "execution_count": 64,
     "metadata": {},
     "output_type": "execute_result"
    }
   ],
   "source": [
    "lm.intercept_"
   ]
  },
  {
   "cell_type": "code",
   "execution_count": 65,
   "id": "685fa15d-082e-4f62-ab8e-f32e2e5000a4",
   "metadata": {},
   "outputs": [
    {
     "data": {
      "text/plain": [
       "array([[0.64497483]])"
      ]
     },
     "execution_count": 65,
     "metadata": {},
     "output_type": "execute_result"
    }
   ],
   "source": [
    "lm.coef_"
   ]
  },
  {
   "cell_type": "code",
   "execution_count": 70,
   "id": "cbd05bea-5034-4b9c-b95b-df7a4c33db39",
   "metadata": {},
   "outputs": [
    {
     "data": {
      "image/png": "[encoded data removed]",
      "text/plain": [
       "<Figure size 432x288 with 1 Axes>"
      ]
     },
     "metadata": {
      "needs_background": "light"
     },
     "output_type": "display_data"
    }
   ],
   "source": [
    "sns.regplot(x= 'afees', y='lfees', data= df)\n",
    "plt.show()"
   ]
  },
  {
   "cell_type": "code",
   "execution_count": 105,
   "id": "8f39e3e6-db2b-419c-980d-0d377370b69a",
   "metadata": {},
   "outputs": [
    {
     "data": {
      "image/png": "[encoded data removed]",
      "text/plain": [
       "<Figure size 432x288 with 1 Axes>"
      ]
     },
     "metadata": {
      "needs_background": "light"
     },
     "output_type": "display_data"
    }
   ],
   "source": [
    "sns.residplot(x='afees', y='lfees', data=df)\n",
    "plt.show()"
   ]
  },
  {
   "cell_type": "code",
   "execution_count": 103,
   "id": "f53cccd2-609f-457f-9c34-81e2bd2d207d",
   "metadata": {},
   "outputs": [
    {
     "data": {
      "text/plain": [
       "<AxesSubplot:xlabel='lfees', ylabel='Density'>"
      ]
     },
     "execution_count": 103,
     "metadata": {},
     "output_type": "execute_result"
    },
    {
     "data": {
      "image/png": "[encoded data removed]",
      "text/plain": [
       "<Figure size 432x288 with 1 Axes>"
      ]
     },
     "metadata": {
      "needs_background": "light"
     },
     "output_type": "display_data"
    }
   ],
   "source": [
    "ax1= sns.kdeplot(x='lfees', data=df)\n",
    "sns.kdeplot(x='lfees_hat', data=df, ax=ax1)"
   ]
  },
  {
   "cell_type": "code",
   "execution_count": 114,
   "id": "ab0d7cf9-ba5e-4d83-97ce-855c56f6ef80",
   "metadata": {},
   "outputs": [
    {
     "data": {
      "text/plain": [
       "count    3.833000e+03\n",
       "mean     7.967409e+05\n",
       "std      1.516957e+06\n",
       "min      0.000000e+00\n",
       "25%      1.650000e+05\n",
       "50%      5.000000e+05\n",
       "75%      1.000000e+06\n",
       "max      5.000000e+07\n",
       "Name: afees, dtype: float64"
      ]
     },
     "execution_count": 114,
     "metadata": {},
     "output_type": "execute_result"
    }
   ],
   "source": [
    "df.afees.describe()"
   ]
  },
  {
   "cell_type": "code",
   "execution_count": 121,
   "id": "f87c5af6-9da3-4c5b-a639-058d6587cd5d",
   "metadata": {},
   "outputs": [
    {
     "data": {
      "text/plain": [
       "(3833, 11)"
      ]
     },
     "execution_count": 121,
     "metadata": {},
     "output_type": "execute_result"
    }
   ],
   "source": [
    "df.shape"
   ]
  },
  {
   "cell_type": "code",
   "execution_count": 129,
   "id": "c5279365-9108-4dfd-bee5-1dbd1af57eed",
   "metadata": {},
   "outputs": [],
   "source": [
    "df2=df[(df.afees < 10**6) & (df.lfees < 10**6)  ]"
   ]
  },
  {
   "cell_type": "code",
   "execution_count": 130,
   "id": "f369acb8-1fe3-415e-b8ba-e359890efc9a",
   "metadata": {},
   "outputs": [
    {
     "data": {
      "text/plain": [
       "(1844, 11)"
      ]
     },
     "execution_count": 130,
     "metadata": {},
     "output_type": "execute_result"
    }
   ],
   "source": [
    "df2.shape"
   ]
  },
  {
   "cell_type": "code",
   "execution_count": 131,
   "id": "1f8c0af7-67eb-4fd7-a9e5-dcd1f2579b62",
   "metadata": {},
   "outputs": [
    {
     "data": {
      "image/png": "[encoded data removed]",
      "text/plain": [
       "<Figure size 432x288 with 1 Axes>"
      ]
     },
     "metadata": {
      "needs_background": "light"
     },
     "output_type": "display_data"
    }
   ],
   "source": [
    "sns.regplot(x='afees', y='lfees', data= df2)\n",
    "plt.show()"
   ]
  },
  {
   "cell_type": "code",
   "execution_count": 132,
   "id": "d59a0864-02a0-4bae-8c12-6c0cdd5d0328",
   "metadata": {},
   "outputs": [
    {
     "data": {
      "image/png": "[encoded data removed]",
      "text/plain": [
       "<Figure size 432x288 with 1 Axes>"
      ]
     },
     "metadata": {
      "needs_background": "light"
     },
     "output_type": "display_data"
    }
   ],
   "source": [
    "sns.residplot(x='afees', y='lfees', data= df2)\n",
    "plt.show()"
   ]
  },
  {
   "cell_type": "code",
   "execution_count": 134,
   "id": "3e989b1f-8b01-416e-8e37-1747a31493fb",
   "metadata": {},
   "outputs": [],
   "source": [
    "import numpy as np"
   ]
  },
  {
   "cell_type": "code",
   "execution_count": 137,
   "id": "49c5db8b-0bba-47f1-93f0-b5391291d78d",
   "metadata": {},
   "outputs": [],
   "source": [
    "df['log_afees']= np.log10(1+df['afees'])\n",
    "df['log_lfees']= np.log10(1+df['lfees'])"
   ]
  },
  {
   "cell_type": "code",
   "execution_count": 139,
   "id": "463c8982-db64-4473-85ac-60fdef023400",
   "metadata": {},
   "outputs": [
    {
     "data": {
      "image/png": "[encoded data removed]",
      "text/plain": [
       "<Figure size 432x288 with 1 Axes>"
      ]
     },
     "metadata": {
      "needs_background": "light"
     },
     "output_type": "display_data"
    }
   ],
   "source": [
    "sns.regplot(x='log_afees', y='log_lfees', data= df)\n",
    "plt.show()"
   ]
  },
  {
   "cell_type": "code",
   "execution_count": 138,
   "id": "b6270fb7-dddc-4016-9bde-42c4cb13150b",
   "metadata": {},
   "outputs": [
    {
     "data": {
      "image/png": "[encoded data removed]",
      "text/plain": [
       "<Figure size 432x288 with 1 Axes>"
      ]
     },
     "metadata": {
      "needs_background": "light"
     },
     "output_type": "display_data"
    }
   ],
   "source": [
    "sns.residplot(x='log_afees', y='log_lfees', data= df)\n",
    "plt.show()"
   ]
  }
 ],
 "metadata": {
  "kernelspec": {
   "display_name": "sec",
   "language": "python",
   "name": "sec"
  },
  "language_info": {
   "codemirror_mode": {
    "name": "ipython",
    "version": 3
   },
   "file_extension": ".py",
   "mimetype": "text/x-python",
   "name": "python",
   "nbconvert_exporter": "python",
   "pygments_lexer": "ipython3",
   "version": "3.8.8"
  },
  "widgets": {
   "application/vnd.jupyter.widget-state+json": {
    "state": {},
    "version_major": 2,
    "version_minor": 0
   }
  }
 },
 "nbformat": 4,
 "nbformat_minor": 5
}
