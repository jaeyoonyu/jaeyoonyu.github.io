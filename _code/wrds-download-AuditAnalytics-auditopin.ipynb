{
 "cells": [
  {
   "cell_type": "markdown",
   "id": "4633cce5-ba97-4631-bce1-fbb65c5dea66",
   "metadata": {},
   "source": [
    "## Download Audit Opinion set from Audit Analytics data from WRDS"
   ]
  },
  {
   "cell_type": "markdown",
   "id": "eed9431c-85e8-4651-a33b-2be6e56579c7",
   "metadata": {},
   "source": [
    "-------------------------"
   ]
  },
  {
   "cell_type": "markdown",
   "id": "d4bfcf5c-c883-4ac1-839b-f2c76c0284cb",
   "metadata": {},
   "source": [
    "### Import libraries"
   ]
  },
  {
   "cell_type": "code",
   "execution_count": 1,
   "id": "9cff7b80-9b0c-4cd3-a11c-cf28f63842ff",
   "metadata": {},
   "outputs": [],
   "source": [
    "import numpy as np\n",
    "import pandas as pd\n",
    "import wrds\n",
    "import matplotlib.pyplot as plt\n",
    "pd.options.display.max_columns=200"
   ]
  },
  {
   "cell_type": "markdown",
   "id": "cef880b0-014a-49b0-9e66-fc1ce372805e",
   "metadata": {},
   "source": [
    "-------------"
   ]
  },
  {
   "cell_type": "markdown",
   "id": "432f2b4a-02a6-4c58-9e6a-ffda0615342f",
   "metadata": {},
   "source": [
    "### Connect WRDS"
   ]
  },
  {
   "cell_type": "code",
   "execution_count": 2,
   "id": "3df4e730-ca27-4c67-8d76-fb5ae5c90084",
   "metadata": {},
   "outputs": [
    {
     "name": "stdin",
     "output_type": "stream",
     "text": [
      "Enter your WRDS username [yjaey]: yjaeyoon\n",
      "Enter your password: ···············\n"
     ]
    },
    {
     "name": "stdout",
     "output_type": "stream",
     "text": [
      "WRDS recommends setting up a .pgpass file.\n"
     ]
    },
    {
     "name": "stdin",
     "output_type": "stream",
     "text": [
      "Create .pgpass file now [y/n]?:  y\n"
     ]
    },
    {
     "name": "stdout",
     "output_type": "stream",
     "text": [
      "Created .pgpass file successfully.\n",
      "Loading library list...\n",
      "Done\n"
     ]
    }
   ],
   "source": [
    "conn=wrds.Connection()"
   ]
  },
  {
   "cell_type": "markdown",
   "id": "075cd192-4365-4c4e-ac79-0a640c64ae16",
   "metadata": {},
   "source": [
    "### Get variable list"
   ]
  },
  {
   "cell_type": "code",
   "execution_count": 3,
   "id": "fbf9bd48-92b0-49c4-ae96-52f06fe02bb5",
   "metadata": {},
   "outputs": [
    {
     "name": "stdout",
     "output_type": "stream",
     "text": [
      "Approximately 349662 rows in audit.auditopin.\n",
      "225\n"
     ]
    }
   ],
   "source": [
    "auditop_vars= conn.describe_table(library='audit', table='auditopin')['name']\n",
    "print(len(auditop_vars))"
   ]
  },
  {
   "cell_type": "code",
   "execution_count": 4,
   "id": "e1d57afe-7a96-4dd4-a9fb-f619d8c0a345",
   "metadata": {
    "scrolled": true,
    "tags": []
   },
   "outputs": [
    {
     "name": "stdout",
     "output_type": "stream",
     "text": [
      "audit_op_key\n",
      "auditor_affil_fkey\n",
      "auditor_affilname\n",
      "auditor_fkey\n",
      "auditor_name\n",
      "sig_date_of_op_x\n",
      "sig_date_of_op_s\n",
      "going_concern\n",
      "auditor_city\n",
      "auditor_state\n",
      "auditor_state_name\n",
      "auditor_country\n",
      "auditor_region\n",
      "auditor_con_sup_reg\n",
      "fiscal_year_of_op\n",
      "fiscal_year_end_op\n",
      "op_aud_pcaob\n",
      "pcaob_reg_num\n",
      "note_1_date\n",
      "note_2_date\n",
      "note_3_date\n",
      "note_4_date\n",
      "note_5_date\n",
      "accnt_basis\n",
      "ftp_file_fkey\n",
      "form_fkey\n",
      "file_date\n",
      "file_accepted\n",
      "file_size\n",
      "http_name_html\n",
      "http_name_text\n",
      "company_fkey\n",
      "best_edgar_ticker\n",
      "matchqu_price_date\n",
      "matchqu_price_close\n",
      "matchqu_tso_date\n",
      "matchqu_tso\n",
      "matchqu_tso_markcap\n",
      "matchqu_date_qtr\n",
      "matchqu_date_ttm\n",
      "matchqu_filing_code_qtr\n",
      "matchqu_filing_code_ttm\n",
      "matchqu_annual_quindic\n",
      "matchqu_balsh_book_val\n",
      "matchqu_balsh_assets\n",
      "matchqu_balsh_cash_equivs\n",
      "matchqu_incmst_rev_qtr\n",
      "matchqu_incmst_rev_ttm\n",
      "matchqu_incmst_netinc_qtr\n",
      "matchqu_incmst_netinc_ttm\n",
      "matchqu_incmst_extraitm_qtr\n",
      "matchqu_incmst_extraitm_ttm\n",
      "matchqu_incmst_ebitda_qtr\n",
      "matchqu_incmst_ebitda_ttm\n",
      "matchqu_eff_accchange_qtr\n",
      "matchqu_eff_accchange_ttm\n",
      "matchqu_cshflst_op_act_qtr\n",
      "matchqu_cshflst_op_act_ttm\n",
      "matchqu_cshflst_inv_act_qtr\n",
      "matchqu_cshflst_inv_act_ttm\n",
      "matchqu_cshflst_fin_act_qtr\n",
      "matchqu_cshflst_fin_act_ttm\n",
      "matchqu_cshflst_change_qtr\n",
      "matchqu_cshflst_change_ttm\n",
      "priorqu_price_date\n",
      "priorqu_price_close\n",
      "priorqu_tso_date\n",
      "priorqu_tso\n",
      "priorqu_tso_markcap\n",
      "priorqu_date_qtr\n",
      "priorqu_date_ttm\n",
      "priorqu_filing_code_qtr\n",
      "priorqu_filing_code_ttm\n",
      "priorqu_annual_quindic\n",
      "priorqu_balsh_book_val\n",
      "priorqu_balsh_assets\n",
      "priorqu_balsh_cash_equivs\n",
      "priorqu_incmst_rev_qtr\n",
      "priorqu_incmst_rev_ttm\n",
      "priorqu_incmst_netinc_qtr\n",
      "priorqu_incmst_netinc_ttm\n",
      "priorqu_incmst_extraitm_qtr\n",
      "priorqu_incmst_extraitm_ttm\n",
      "priorqu_incmst_ebitda_qtr\n",
      "priorqu_incmst_ebitda_ttm\n",
      "priorqu_eff_accchange_qtr\n",
      "priorqu_eff_accchange_ttm\n",
      "priorqu_cshflst_op_act_qtr\n",
      "priorqu_cshflst_op_act_ttm\n",
      "priorqu_cshflst_inv_act_qtr\n",
      "priorqu_cshflst_inv_act_ttm\n",
      "priorqu_cshflst_fin_act_qtr\n",
      "priorqu_cshflst_fin_act_ttm\n",
      "priorqu_cshflst_change_qtr\n",
      "priorqu_cshflst_change_ttm\n",
      "matchfy_price_date\n",
      "matchfy_price_close\n",
      "matchfy_tso_date\n",
      "matchfy_tso\n",
      "matchfy_tso_markcap\n",
      "matchfy_date_qtr\n",
      "matchfy_date_ttm\n",
      "matchfy_filing_code_qtr\n",
      "matchfy_filing_code_ttm\n",
      "matchfy_annual_quindic\n",
      "matchfy_balsh_book_val\n",
      "matchfy_balsh_assets\n",
      "matchfy_balsh_cash_equivs\n",
      "matchfy_incmst_rev_qtr\n",
      "matchfy_incmst_rev_ttm\n",
      "matchfy_incmst_netinc_qtr\n",
      "matchfy_incmst_netinc_ttm\n",
      "matchfy_incmst_extraitm_qtr\n",
      "matchfy_incmst_extraitm_ttm\n",
      "matchfy_incmst_ebitda_qtr\n",
      "matchfy_incmst_ebitda_ttm\n",
      "matchfy_eff_accchange_qtr\n",
      "matchfy_eff_accchange_ttm\n",
      "matchfy_cshflst_op_act_qtr\n",
      "matchfy_cshflst_op_act_ttm\n",
      "matchfy_cshflst_inv_act_qtr\n",
      "matchfy_cshflst_inv_act_ttm\n",
      "matchfy_cshflst_fin_act_qtr\n",
      "matchfy_cshflst_fin_act_ttm\n",
      "matchfy_cshflst_change_qtr\n",
      "matchfy_cshflst_change_ttm\n",
      "priorfy_price_date\n",
      "priorfy_price_close\n",
      "priorfy_tso_date\n",
      "priorfy_tso\n",
      "priorfy_tso_markcap\n",
      "priorfy_date_qtr\n",
      "priorfy_date_ttm\n",
      "priorfy_filing_code_qtr\n",
      "priorfy_filing_code_ttm\n",
      "priorfy_annual_quindic\n",
      "priorfy_balsh_book_val\n",
      "priorfy_balsh_assets\n",
      "priorfy_balsh_cash_equivs\n",
      "priorfy_incmst_rev_qtr\n",
      "priorfy_incmst_rev_ttm\n",
      "priorfy_incmst_netinc_qtr\n",
      "priorfy_incmst_netinc_ttm\n",
      "priorfy_incmst_extraitm_qtr\n",
      "priorfy_incmst_extraitm_ttm\n",
      "priorfy_incmst_ebitda_qtr\n",
      "priorfy_incmst_ebitda_ttm\n",
      "priorfy_eff_accchange_qtr\n",
      "priorfy_eff_accchange_ttm\n",
      "priorfy_cshflst_op_act_qtr\n",
      "priorfy_cshflst_op_act_ttm\n",
      "priorfy_cshflst_inv_act_qtr\n",
      "priorfy_cshflst_inv_act_ttm\n",
      "priorfy_cshflst_fin_act_qtr\n",
      "priorfy_cshflst_fin_act_ttm\n",
      "priorfy_cshflst_change_qtr\n",
      "priorfy_cshflst_change_ttm\n",
      "matchfy_sumfees_fy_end\n",
      "matchfy_sumfees_fy\n",
      "matchfy_sum_audfees\n",
      "matchfy_sum_nonaud\n",
      "matchfy_sum_benfees\n",
      "matchfy_sum_itfees\n",
      "matchfy_sum_taxfees\n",
      "matchfy_sum_audrel_fees\n",
      "matchfy_sum_other\n",
      "matchfy_sum_total\n",
      "priorfy_sumfees_fy_end\n",
      "priorfy_sumfees_fy\n",
      "priorfy_sum_audfees\n",
      "priorfy_sum_nonaud\n",
      "priorfy_sum_benfees\n",
      "priorfy_sum_itfees\n",
      "priorfy_sum_taxfees\n",
      "priorfy_sum_audrel_fees\n",
      "priorfy_sum_other\n",
      "priorfy_sum_total\n",
      "opinion_text1\n",
      "opinion_text2\n",
      "opinion_text3\n",
      "closestfy_feesfye\n",
      "closestfy_sumevent_key\n",
      "closestfy_sumfees_fy\n",
      "closestfy_sum_audfees\n",
      "closestfy_sum_audrel_fees\n",
      "closestfy_sum_benfees\n",
      "closestfy_sum_comp_key\n",
      "closestfy_sum_itfees\n",
      "closestfy_sum_nonaud\n",
      "closestfy_sum_other\n",
      "closestfy_sum_taxfees\n",
      "closestfy_sum_total\n",
      "closestqu_annual_quindic\n",
      "closestqu_balsh_assets\n",
      "closestqu_balsh_book_val\n",
      "closestqu_balsh_cash_equivs\n",
      "closestqu_cshflst_change_qtr\n",
      "closestqu_cshflst_change_ttm\n",
      "closestqu_cshflst_fin_act_qtr\n",
      "closestqu_cshflst_fin_act_ttm\n",
      "closestqu_cshflst_inv_act_qtr\n",
      "closestqu_cshflst_inv_act_ttm\n",
      "closestqu_cshflst_op_act_qtr\n",
      "closestqu_cshflst_op_act_ttm\n",
      "closestqu_date_qtr\n",
      "closestqu_date_ttm\n",
      "closestqu_eff_accchange_qtr\n",
      "closestqu_eff_accchange_ttm\n",
      "closestqu_filing_code_qtr\n",
      "closestqu_filing_code_ttm\n",
      "closestqu_incmst_ebitda_qtr\n",
      "closestqu_incmst_ebitda_ttm\n",
      "closestqu_incmst_extraitm_qtr\n",
      "closestqu_incmst_extraitm_ttm\n",
      "closestqu_incmst_netinc_qtr\n",
      "closestqu_incmst_netinc_ttm\n",
      "closestqu_incmst_rev_qtr\n",
      "closestqu_incmst_rev_ttm\n",
      "closestqu_price_close\n",
      "closestqu_price_date\n",
      "closestqu_tso\n",
      "closestqu_tso_date\n",
      "closestqu_tso_markcap\n",
      "eventdate_aud_fkey\n",
      "eventdate_aud_name\n"
     ]
    }
   ],
   "source": [
    "for var in auditop_vars:\n",
    "    print(var)"
   ]
  },
  {
   "cell_type": "code",
   "execution_count": 5,
   "id": "701634cc-22dd-4319-811a-c7b99a06bac8",
   "metadata": {
    "tags": []
   },
   "outputs": [
    {
     "name": "stdout",
     "output_type": "stream",
     "text": [
      "0 audit_op_key\n",
      "1 auditor_affil_fkey\n",
      "2 auditor_affilname\n",
      "3 auditor_fkey\n",
      "4 auditor_name\n",
      "5 sig_date_of_op_x\n",
      "6 sig_date_of_op_s\n",
      "7 going_concern\n",
      "8 auditor_city\n",
      "9 auditor_state\n",
      "10 auditor_state_name\n",
      "11 auditor_country\n",
      "12 auditor_region\n",
      "13 auditor_con_sup_reg\n",
      "14 fiscal_year_of_op\n",
      "15 fiscal_year_end_op\n",
      "16 op_aud_pcaob\n",
      "17 pcaob_reg_num\n",
      "23 accnt_basis\n",
      "24 ftp_file_fkey\n",
      "25 form_fkey\n",
      "26 file_date\n",
      "27 file_accepted\n",
      "28 file_size\n",
      "29 http_name_html\n",
      "30 http_name_text\n",
      "31 company_fkey\n",
      "32 best_edgar_ticker\n"
     ]
    }
   ],
   "source": [
    "vars_to_skip= ['matchfy', 'matchqu', 'closestfy', 'closestqu', 'priorqu', 'priorfy', 'note', 'opinion_text', 'eventdate']\n",
    "for idx, var in enumerate(auditop_vars):\n",
    "    if any(var_to_skip in var for var_to_skip in vars_to_skip):\n",
    "        pass\n",
    "    else:        \n",
    "        print(idx, var)"
   ]
  },
  {
   "cell_type": "markdown",
   "id": "ff3d500f-95b3-4f73-881a-ac8e69725ffe",
   "metadata": {},
   "source": [
    "### Select variables to download"
   ]
  },
  {
   "cell_type": "code",
   "execution_count": 14,
   "id": "fa3956ed-69cc-45db-b7a2-6ffd27e7ea55",
   "metadata": {},
   "outputs": [],
   "source": [
    "vars_to_keep= ['audit_op_key', 'auditor_fkey', 'auditor_name', 'going_concern', 'auditor_country', 'auditor_city', 'auditor_state', \n",
    "               'fiscal_year_of_op', 'fiscal_year_end_op', 'form_fkey', 'company_fkey', 'best_edgar_ticker',\n",
    "              'matchfy_sum_audfees', 'matchfy_sum_total']"
   ]
  },
  {
   "cell_type": "markdown",
   "id": "51b7b493-4858-4bca-b24a-fe002148881c",
   "metadata": {},
   "source": [
    "### Pilot check"
   ]
  },
  {
   "cell_type": "code",
   "execution_count": 7,
   "id": "c58074bf-26a8-433e-a027-99b571e729fd",
   "metadata": {},
   "outputs": [
    {
     "data": {
      "text/html": [
       "<div>\n",
       "<style scoped>\n",
       "    .dataframe tbody tr th:only-of-type {\n",
       "        vertical-align: middle;\n",
       "    }\n",
       "\n",
       "    .dataframe tbody tr th {\n",
       "        vertical-align: top;\n",
       "    }\n",
       "\n",
       "    .dataframe thead th {\n",
       "        text-align: right;\n",
       "    }\n",
       "</style>\n",
       "<table border=\"1\" class=\"dataframe\">\n",
       "  <thead>\n",
       "    <tr style=\"text-align: right;\">\n",
       "      <th></th>\n",
       "      <th>audit_op_key</th>\n",
       "      <th>auditor_fkey</th>\n",
       "      <th>auditor_name</th>\n",
       "      <th>going_concern</th>\n",
       "      <th>auditor_country</th>\n",
       "      <th>auditor_city</th>\n",
       "      <th>auditor_state</th>\n",
       "      <th>fiscal_year_of_op</th>\n",
       "      <th>fiscal_year_end_op</th>\n",
       "      <th>form_fkey</th>\n",
       "      <th>company_fkey</th>\n",
       "      <th>best_edgar_ticker</th>\n",
       "      <th>matchfy_sum_audfees</th>\n",
       "      <th>matchfy_sum_total</th>\n",
       "    </tr>\n",
       "  </thead>\n",
       "  <tbody>\n",
       "    <tr>\n",
       "      <th>0</th>\n",
       "      <td>66900.0</td>\n",
       "      <td>5.0</td>\n",
       "      <td>Arthur Andersen LLP</td>\n",
       "      <td>0.0</td>\n",
       "      <td>USA</td>\n",
       "      <td>Philadelphia</td>\n",
       "      <td>PA</td>\n",
       "      <td>2000.0</td>\n",
       "      <td>2000-12-30</td>\n",
       "      <td>10-K</td>\n",
       "      <td>0000000020</td>\n",
       "      <td>None</td>\n",
       "      <td>200000.0</td>\n",
       "      <td>271000.0</td>\n",
       "    </tr>\n",
       "    <tr>\n",
       "      <th>1</th>\n",
       "      <td>78252.0</td>\n",
       "      <td>5.0</td>\n",
       "      <td>Arthur Andersen LLP</td>\n",
       "      <td>0.0</td>\n",
       "      <td>USA</td>\n",
       "      <td>Philadelphia</td>\n",
       "      <td>PA</td>\n",
       "      <td>2001.0</td>\n",
       "      <td>2001-12-29</td>\n",
       "      <td>10-K405</td>\n",
       "      <td>0000000020</td>\n",
       "      <td>None</td>\n",
       "      <td>185000.0</td>\n",
       "      <td>286000.0</td>\n",
       "    </tr>\n",
       "    <tr>\n",
       "      <th>2</th>\n",
       "      <td>3538.0</td>\n",
       "      <td>4.0</td>\n",
       "      <td>KPMG LLP</td>\n",
       "      <td>0.0</td>\n",
       "      <td>USA</td>\n",
       "      <td>Philadelphia</td>\n",
       "      <td>PA</td>\n",
       "      <td>2002.0</td>\n",
       "      <td>2002-12-28</td>\n",
       "      <td>10-K</td>\n",
       "      <td>0000000020</td>\n",
       "      <td>None</td>\n",
       "      <td>123700.0</td>\n",
       "      <td>148200.0</td>\n",
       "    </tr>\n",
       "  </tbody>\n",
       "</table>\n",
       "</div>"
      ],
      "text/plain": [
       "   audit_op_key  auditor_fkey         auditor_name  going_concern  \\\n",
       "0       66900.0           5.0  Arthur Andersen LLP            0.0   \n",
       "1       78252.0           5.0  Arthur Andersen LLP            0.0   \n",
       "2        3538.0           4.0             KPMG LLP            0.0   \n",
       "\n",
       "  auditor_country  auditor_city auditor_state  fiscal_year_of_op  \\\n",
       "0             USA  Philadelphia            PA             2000.0   \n",
       "1             USA  Philadelphia            PA             2001.0   \n",
       "2             USA  Philadelphia            PA             2002.0   \n",
       "\n",
       "  fiscal_year_end_op form_fkey company_fkey best_edgar_ticker  \\\n",
       "0         2000-12-30      10-K   0000000020              None   \n",
       "1         2001-12-29   10-K405   0000000020              None   \n",
       "2         2002-12-28      10-K   0000000020              None   \n",
       "\n",
       "   matchfy_sum_audfees  matchfy_sum_total  \n",
       "0             200000.0           271000.0  \n",
       "1             185000.0           286000.0  \n",
       "2             123700.0           148200.0  "
      ]
     },
     "execution_count": 7,
     "metadata": {},
     "output_type": "execute_result"
    }
   ],
   "source": [
    "df_test= conn.get_table(library= 'audit', table='auditopin',\n",
    "                       columns= vars_to_keep,\n",
    "                       obs= 3)\n",
    "df_test"
   ]
  },
  {
   "cell_type": "markdown",
   "id": "935c2b00-c40e-488b-9c5a-520a43f302b6",
   "metadata": {},
   "source": [
    "### Download all observations"
   ]
  },
  {
   "cell_type": "code",
   "execution_count": 8,
   "id": "077432c7-eafa-4987-8131-e2870e48615f",
   "metadata": {},
   "outputs": [
    {
     "name": "stdout",
     "output_type": "stream",
     "text": [
      "(349662, 14)\n"
     ]
    },
    {
     "data": {
      "text/html": [
       "<div>\n",
       "<style scoped>\n",
       "    .dataframe tbody tr th:only-of-type {\n",
       "        vertical-align: middle;\n",
       "    }\n",
       "\n",
       "    .dataframe tbody tr th {\n",
       "        vertical-align: top;\n",
       "    }\n",
       "\n",
       "    .dataframe thead th {\n",
       "        text-align: right;\n",
       "    }\n",
       "</style>\n",
       "<table border=\"1\" class=\"dataframe\">\n",
       "  <thead>\n",
       "    <tr style=\"text-align: right;\">\n",
       "      <th></th>\n",
       "      <th>audit_op_key</th>\n",
       "      <th>auditor_fkey</th>\n",
       "      <th>auditor_name</th>\n",
       "      <th>going_concern</th>\n",
       "      <th>auditor_country</th>\n",
       "      <th>auditor_city</th>\n",
       "      <th>auditor_state</th>\n",
       "      <th>fiscal_year_of_op</th>\n",
       "      <th>fiscal_year_end_op</th>\n",
       "      <th>form_fkey</th>\n",
       "      <th>company_fkey</th>\n",
       "      <th>best_edgar_ticker</th>\n",
       "      <th>matchfy_sum_audfees</th>\n",
       "      <th>matchfy_sum_total</th>\n",
       "    </tr>\n",
       "  </thead>\n",
       "  <tbody>\n",
       "    <tr>\n",
       "      <th>0</th>\n",
       "      <td>66900.0</td>\n",
       "      <td>5.0</td>\n",
       "      <td>Arthur Andersen LLP</td>\n",
       "      <td>0.0</td>\n",
       "      <td>USA</td>\n",
       "      <td>Philadelphia</td>\n",
       "      <td>PA</td>\n",
       "      <td>2000.0</td>\n",
       "      <td>2000-12-30</td>\n",
       "      <td>10-K</td>\n",
       "      <td>0000000020</td>\n",
       "      <td>None</td>\n",
       "      <td>200000.0</td>\n",
       "      <td>271000.0</td>\n",
       "    </tr>\n",
       "    <tr>\n",
       "      <th>1</th>\n",
       "      <td>78252.0</td>\n",
       "      <td>5.0</td>\n",
       "      <td>Arthur Andersen LLP</td>\n",
       "      <td>0.0</td>\n",
       "      <td>USA</td>\n",
       "      <td>Philadelphia</td>\n",
       "      <td>PA</td>\n",
       "      <td>2001.0</td>\n",
       "      <td>2001-12-29</td>\n",
       "      <td>10-K405</td>\n",
       "      <td>0000000020</td>\n",
       "      <td>None</td>\n",
       "      <td>185000.0</td>\n",
       "      <td>286000.0</td>\n",
       "    </tr>\n",
       "    <tr>\n",
       "      <th>2</th>\n",
       "      <td>3538.0</td>\n",
       "      <td>4.0</td>\n",
       "      <td>KPMG LLP</td>\n",
       "      <td>0.0</td>\n",
       "      <td>USA</td>\n",
       "      <td>Philadelphia</td>\n",
       "      <td>PA</td>\n",
       "      <td>2002.0</td>\n",
       "      <td>2002-12-28</td>\n",
       "      <td>10-K</td>\n",
       "      <td>0000000020</td>\n",
       "      <td>None</td>\n",
       "      <td>123700.0</td>\n",
       "      <td>148200.0</td>\n",
       "    </tr>\n",
       "    <tr>\n",
       "      <th>3</th>\n",
       "      <td>39225.0</td>\n",
       "      <td>6.0</td>\n",
       "      <td>Grant Thornton LLP</td>\n",
       "      <td>0.0</td>\n",
       "      <td>USA</td>\n",
       "      <td>Philadelphia</td>\n",
       "      <td>PA</td>\n",
       "      <td>2003.0</td>\n",
       "      <td>2004-01-03</td>\n",
       "      <td>10-K</td>\n",
       "      <td>0000000020</td>\n",
       "      <td>None</td>\n",
       "      <td>137100.0</td>\n",
       "      <td>137100.0</td>\n",
       "    </tr>\n",
       "    <tr>\n",
       "      <th>4</th>\n",
       "      <td>84748.0</td>\n",
       "      <td>6.0</td>\n",
       "      <td>Grant Thornton LLP</td>\n",
       "      <td>0.0</td>\n",
       "      <td>USA</td>\n",
       "      <td>Philadelphia</td>\n",
       "      <td>PA</td>\n",
       "      <td>2004.0</td>\n",
       "      <td>2005-01-01</td>\n",
       "      <td>10-K</td>\n",
       "      <td>0000000020</td>\n",
       "      <td>None</td>\n",
       "      <td>225000.0</td>\n",
       "      <td>311000.0</td>\n",
       "    </tr>\n",
       "  </tbody>\n",
       "</table>\n",
       "</div>"
      ],
      "text/plain": [
       "   audit_op_key  auditor_fkey         auditor_name  going_concern  \\\n",
       "0       66900.0           5.0  Arthur Andersen LLP            0.0   \n",
       "1       78252.0           5.0  Arthur Andersen LLP            0.0   \n",
       "2        3538.0           4.0             KPMG LLP            0.0   \n",
       "3       39225.0           6.0   Grant Thornton LLP            0.0   \n",
       "4       84748.0           6.0   Grant Thornton LLP            0.0   \n",
       "\n",
       "  auditor_country  auditor_city auditor_state  fiscal_year_of_op  \\\n",
       "0             USA  Philadelphia            PA             2000.0   \n",
       "1             USA  Philadelphia            PA             2001.0   \n",
       "2             USA  Philadelphia            PA             2002.0   \n",
       "3             USA  Philadelphia            PA             2003.0   \n",
       "4             USA  Philadelphia            PA             2004.0   \n",
       "\n",
       "  fiscal_year_end_op form_fkey company_fkey best_edgar_ticker  \\\n",
       "0         2000-12-30      10-K   0000000020              None   \n",
       "1         2001-12-29   10-K405   0000000020              None   \n",
       "2         2002-12-28      10-K   0000000020              None   \n",
       "3         2004-01-03      10-K   0000000020              None   \n",
       "4         2005-01-01      10-K   0000000020              None   \n",
       "\n",
       "   matchfy_sum_audfees  matchfy_sum_total  \n",
       "0             200000.0           271000.0  \n",
       "1             185000.0           286000.0  \n",
       "2             123700.0           148200.0  \n",
       "3             137100.0           137100.0  \n",
       "4             225000.0           311000.0  "
      ]
     },
     "execution_count": 8,
     "metadata": {},
     "output_type": "execute_result"
    }
   ],
   "source": [
    "df= conn.get_table(library= 'audit', table='auditopin',\n",
    "                       columns= vars_to_keep)\n",
    "print(df.shape)\n",
    "df.head()"
   ]
  },
  {
   "cell_type": "markdown",
   "id": "3ec0f5f4-36c8-4ac5-abec-ffc20987f63d",
   "metadata": {},
   "source": [
    "### Check with Uber"
   ]
  },
  {
   "cell_type": "code",
   "execution_count": 9,
   "id": "4f89db79-3cdd-4812-bf1b-348f7ba09943",
   "metadata": {},
   "outputs": [
    {
     "data": {
      "text/html": [
       "<div>\n",
       "<style scoped>\n",
       "    .dataframe tbody tr th:only-of-type {\n",
       "        vertical-align: middle;\n",
       "    }\n",
       "\n",
       "    .dataframe tbody tr th {\n",
       "        vertical-align: top;\n",
       "    }\n",
       "\n",
       "    .dataframe thead th {\n",
       "        text-align: right;\n",
       "    }\n",
       "</style>\n",
       "<table border=\"1\" class=\"dataframe\">\n",
       "  <thead>\n",
       "    <tr style=\"text-align: right;\">\n",
       "      <th></th>\n",
       "      <th>audit_op_key</th>\n",
       "      <th>auditor_fkey</th>\n",
       "      <th>auditor_name</th>\n",
       "      <th>going_concern</th>\n",
       "      <th>auditor_country</th>\n",
       "      <th>auditor_city</th>\n",
       "      <th>auditor_state</th>\n",
       "      <th>fiscal_year_of_op</th>\n",
       "      <th>fiscal_year_end_op</th>\n",
       "      <th>form_fkey</th>\n",
       "      <th>company_fkey</th>\n",
       "      <th>best_edgar_ticker</th>\n",
       "      <th>matchfy_sum_audfees</th>\n",
       "      <th>matchfy_sum_total</th>\n",
       "    </tr>\n",
       "  </thead>\n",
       "  <tbody>\n",
       "    <tr>\n",
       "      <th>312004</th>\n",
       "      <td>401672.0</td>\n",
       "      <td>1.0</td>\n",
       "      <td>PricewaterhouseCoopers LLP</td>\n",
       "      <td>0.0</td>\n",
       "      <td>USA</td>\n",
       "      <td>San Francisco</td>\n",
       "      <td>CA</td>\n",
       "      <td>2017.0</td>\n",
       "      <td>2017-12-31</td>\n",
       "      <td>DRS</td>\n",
       "      <td>0001543151</td>\n",
       "      <td>UBER</td>\n",
       "      <td>NaN</td>\n",
       "      <td>NaN</td>\n",
       "    </tr>\n",
       "    <tr>\n",
       "      <th>312005</th>\n",
       "      <td>401531.0</td>\n",
       "      <td>1.0</td>\n",
       "      <td>PricewaterhouseCoopers LLP</td>\n",
       "      <td>0.0</td>\n",
       "      <td>USA</td>\n",
       "      <td>San Francisco</td>\n",
       "      <td>CA</td>\n",
       "      <td>2018.0</td>\n",
       "      <td>2018-12-31</td>\n",
       "      <td>S-1</td>\n",
       "      <td>0001543151</td>\n",
       "      <td>UBER</td>\n",
       "      <td>17389000.0</td>\n",
       "      <td>18907000.0</td>\n",
       "    </tr>\n",
       "    <tr>\n",
       "      <th>312006</th>\n",
       "      <td>419623.0</td>\n",
       "      <td>1.0</td>\n",
       "      <td>PricewaterhouseCoopers LLP</td>\n",
       "      <td>0.0</td>\n",
       "      <td>USA</td>\n",
       "      <td>San Francisco</td>\n",
       "      <td>CA</td>\n",
       "      <td>2019.0</td>\n",
       "      <td>2019-12-31</td>\n",
       "      <td>10-K</td>\n",
       "      <td>0001543151</td>\n",
       "      <td>UBER</td>\n",
       "      <td>24726000.0</td>\n",
       "      <td>26330000.0</td>\n",
       "    </tr>\n",
       "    <tr>\n",
       "      <th>312007</th>\n",
       "      <td>445044.0</td>\n",
       "      <td>1.0</td>\n",
       "      <td>PricewaterhouseCoopers LLP</td>\n",
       "      <td>0.0</td>\n",
       "      <td>USA</td>\n",
       "      <td>San Francisco</td>\n",
       "      <td>CA</td>\n",
       "      <td>2020.0</td>\n",
       "      <td>2020-12-31</td>\n",
       "      <td>10-K</td>\n",
       "      <td>0001543151</td>\n",
       "      <td>UBER</td>\n",
       "      <td>24780000.0</td>\n",
       "      <td>25555000.0</td>\n",
       "    </tr>\n",
       "    <tr>\n",
       "      <th>312008</th>\n",
       "      <td>475385.0</td>\n",
       "      <td>1.0</td>\n",
       "      <td>PricewaterhouseCoopers LLP</td>\n",
       "      <td>0.0</td>\n",
       "      <td>USA</td>\n",
       "      <td>San Francisco</td>\n",
       "      <td>CA</td>\n",
       "      <td>2021.0</td>\n",
       "      <td>2021-12-31</td>\n",
       "      <td>10-K</td>\n",
       "      <td>0001543151</td>\n",
       "      <td>UBER</td>\n",
       "      <td>26853000.0</td>\n",
       "      <td>27055000.0</td>\n",
       "    </tr>\n",
       "  </tbody>\n",
       "</table>\n",
       "</div>"
      ],
      "text/plain": [
       "        audit_op_key  auditor_fkey                auditor_name  going_concern  \\\n",
       "312004      401672.0           1.0  PricewaterhouseCoopers LLP            0.0   \n",
       "312005      401531.0           1.0  PricewaterhouseCoopers LLP            0.0   \n",
       "312006      419623.0           1.0  PricewaterhouseCoopers LLP            0.0   \n",
       "312007      445044.0           1.0  PricewaterhouseCoopers LLP            0.0   \n",
       "312008      475385.0           1.0  PricewaterhouseCoopers LLP            0.0   \n",
       "\n",
       "       auditor_country   auditor_city auditor_state  fiscal_year_of_op  \\\n",
       "312004             USA  San Francisco            CA             2017.0   \n",
       "312005             USA  San Francisco            CA             2018.0   \n",
       "312006             USA  San Francisco            CA             2019.0   \n",
       "312007             USA  San Francisco            CA             2020.0   \n",
       "312008             USA  San Francisco            CA             2021.0   \n",
       "\n",
       "       fiscal_year_end_op form_fkey company_fkey best_edgar_ticker  \\\n",
       "312004         2017-12-31       DRS   0001543151              UBER   \n",
       "312005         2018-12-31       S-1   0001543151              UBER   \n",
       "312006         2019-12-31      10-K   0001543151              UBER   \n",
       "312007         2020-12-31      10-K   0001543151              UBER   \n",
       "312008         2021-12-31      10-K   0001543151              UBER   \n",
       "\n",
       "        matchfy_sum_audfees  matchfy_sum_total  \n",
       "312004                  NaN                NaN  \n",
       "312005           17389000.0         18907000.0  \n",
       "312006           24726000.0         26330000.0  \n",
       "312007           24780000.0         25555000.0  \n",
       "312008           26853000.0         27055000.0  "
      ]
     },
     "execution_count": 9,
     "metadata": {},
     "output_type": "execute_result"
    }
   ],
   "source": [
    "uber= df[df.company_fkey=='0001543151']\n",
    "uber.head(10)"
   ]
  },
  {
   "cell_type": "markdown",
   "id": "f9159e09-b5f2-48c9-84cc-a32cafc3deb4",
   "metadata": {},
   "source": [
    "### Rename vars"
   ]
  },
  {
   "cell_type": "code",
   "execution_count": 10,
   "id": "81729c4a-d0cd-49fc-be8a-5b148a8e9bae",
   "metadata": {},
   "outputs": [],
   "source": [
    "df.rename(columns=\n",
    "         {'auditor_fkey':'afk',\n",
    "         'auditor_name':'afn',\n",
    "         'going_concern':'gco',\n",
    "         'auditor_country':'af_ctry',\n",
    "         'fiscal_year_of_op':'fy',\n",
    "         'company_fkey':'cik',\n",
    "         'best_edgar_ticker':'tic',\n",
    "         'matchfy_sum_audfees':'audfees',\n",
    "         'matchfy_sum_total':'totfees'}, \n",
    "          inplace= True)\n",
    "df['big5']= (df['afk']<= 5)"
   ]
  },
  {
   "cell_type": "code",
   "execution_count": 11,
   "id": "2f34577f-508a-4eb8-860f-4e0bc6d02896",
   "metadata": {},
   "outputs": [],
   "source": [
    "df[['audit_op_key', 'fy', 'gco','afk', 'big5']]= df[['audit_op_key', 'fy', 'gco','afk', 'big5']].astype('int')"
   ]
  },
  {
   "cell_type": "code",
   "execution_count": 12,
   "id": "7b99b0d1-729d-4218-9f13-b0858f222116",
   "metadata": {},
   "outputs": [
    {
     "data": {
      "text/html": [
       "<div>\n",
       "<style scoped>\n",
       "    .dataframe tbody tr th:only-of-type {\n",
       "        vertical-align: middle;\n",
       "    }\n",
       "\n",
       "    .dataframe tbody tr th {\n",
       "        vertical-align: top;\n",
       "    }\n",
       "\n",
       "    .dataframe thead th {\n",
       "        text-align: right;\n",
       "    }\n",
       "</style>\n",
       "<table border=\"1\" class=\"dataframe\">\n",
       "  <thead>\n",
       "    <tr style=\"text-align: right;\">\n",
       "      <th></th>\n",
       "      <th>audit_op_key</th>\n",
       "      <th>afk</th>\n",
       "      <th>afn</th>\n",
       "      <th>gco</th>\n",
       "      <th>af_ctry</th>\n",
       "      <th>auditor_city</th>\n",
       "      <th>auditor_state</th>\n",
       "      <th>fy</th>\n",
       "      <th>fiscal_year_end_op</th>\n",
       "      <th>form_fkey</th>\n",
       "      <th>cik</th>\n",
       "      <th>tic</th>\n",
       "      <th>audfees</th>\n",
       "      <th>totfees</th>\n",
       "      <th>big5</th>\n",
       "    </tr>\n",
       "  </thead>\n",
       "  <tbody>\n",
       "    <tr>\n",
       "      <th>0</th>\n",
       "      <td>66900</td>\n",
       "      <td>5</td>\n",
       "      <td>Arthur Andersen LLP</td>\n",
       "      <td>0</td>\n",
       "      <td>USA</td>\n",
       "      <td>Philadelphia</td>\n",
       "      <td>PA</td>\n",
       "      <td>2000</td>\n",
       "      <td>2000-12-30</td>\n",
       "      <td>10-K</td>\n",
       "      <td>0000000020</td>\n",
       "      <td>None</td>\n",
       "      <td>200000.0</td>\n",
       "      <td>271000.0</td>\n",
       "      <td>1</td>\n",
       "    </tr>\n",
       "    <tr>\n",
       "      <th>1</th>\n",
       "      <td>78252</td>\n",
       "      <td>5</td>\n",
       "      <td>Arthur Andersen LLP</td>\n",
       "      <td>0</td>\n",
       "      <td>USA</td>\n",
       "      <td>Philadelphia</td>\n",
       "      <td>PA</td>\n",
       "      <td>2001</td>\n",
       "      <td>2001-12-29</td>\n",
       "      <td>10-K405</td>\n",
       "      <td>0000000020</td>\n",
       "      <td>None</td>\n",
       "      <td>185000.0</td>\n",
       "      <td>286000.0</td>\n",
       "      <td>1</td>\n",
       "    </tr>\n",
       "    <tr>\n",
       "      <th>2</th>\n",
       "      <td>3538</td>\n",
       "      <td>4</td>\n",
       "      <td>KPMG LLP</td>\n",
       "      <td>0</td>\n",
       "      <td>USA</td>\n",
       "      <td>Philadelphia</td>\n",
       "      <td>PA</td>\n",
       "      <td>2002</td>\n",
       "      <td>2002-12-28</td>\n",
       "      <td>10-K</td>\n",
       "      <td>0000000020</td>\n",
       "      <td>None</td>\n",
       "      <td>123700.0</td>\n",
       "      <td>148200.0</td>\n",
       "      <td>1</td>\n",
       "    </tr>\n",
       "    <tr>\n",
       "      <th>3</th>\n",
       "      <td>39225</td>\n",
       "      <td>6</td>\n",
       "      <td>Grant Thornton LLP</td>\n",
       "      <td>0</td>\n",
       "      <td>USA</td>\n",
       "      <td>Philadelphia</td>\n",
       "      <td>PA</td>\n",
       "      <td>2003</td>\n",
       "      <td>2004-01-03</td>\n",
       "      <td>10-K</td>\n",
       "      <td>0000000020</td>\n",
       "      <td>None</td>\n",
       "      <td>137100.0</td>\n",
       "      <td>137100.0</td>\n",
       "      <td>0</td>\n",
       "    </tr>\n",
       "    <tr>\n",
       "      <th>4</th>\n",
       "      <td>84748</td>\n",
       "      <td>6</td>\n",
       "      <td>Grant Thornton LLP</td>\n",
       "      <td>0</td>\n",
       "      <td>USA</td>\n",
       "      <td>Philadelphia</td>\n",
       "      <td>PA</td>\n",
       "      <td>2004</td>\n",
       "      <td>2005-01-01</td>\n",
       "      <td>10-K</td>\n",
       "      <td>0000000020</td>\n",
       "      <td>None</td>\n",
       "      <td>225000.0</td>\n",
       "      <td>311000.0</td>\n",
       "      <td>0</td>\n",
       "    </tr>\n",
       "  </tbody>\n",
       "</table>\n",
       "</div>"
      ],
      "text/plain": [
       "   audit_op_key  afk                  afn  gco af_ctry  auditor_city  \\\n",
       "0         66900    5  Arthur Andersen LLP    0     USA  Philadelphia   \n",
       "1         78252    5  Arthur Andersen LLP    0     USA  Philadelphia   \n",
       "2          3538    4             KPMG LLP    0     USA  Philadelphia   \n",
       "3         39225    6   Grant Thornton LLP    0     USA  Philadelphia   \n",
       "4         84748    6   Grant Thornton LLP    0     USA  Philadelphia   \n",
       "\n",
       "  auditor_state    fy fiscal_year_end_op form_fkey         cik   tic  \\\n",
       "0            PA  2000         2000-12-30      10-K  0000000020  None   \n",
       "1            PA  2001         2001-12-29   10-K405  0000000020  None   \n",
       "2            PA  2002         2002-12-28      10-K  0000000020  None   \n",
       "3            PA  2003         2004-01-03      10-K  0000000020  None   \n",
       "4            PA  2004         2005-01-01      10-K  0000000020  None   \n",
       "\n",
       "    audfees   totfees  big5  \n",
       "0  200000.0  271000.0     1  \n",
       "1  185000.0  286000.0     1  \n",
       "2  123700.0  148200.0     1  \n",
       "3  137100.0  137100.0     0  \n",
       "4  225000.0  311000.0     0  "
      ]
     },
     "execution_count": 12,
     "metadata": {},
     "output_type": "execute_result"
    }
   ],
   "source": [
    "df.head()"
   ]
  },
  {
   "cell_type": "code",
   "execution_count": 13,
   "id": "72501a46-2c05-48ed-8815-43669b3da4e9",
   "metadata": {},
   "outputs": [
    {
     "data": {
      "text/plain": [
       "(317677, 14)"
      ]
     },
     "execution_count": 13,
     "metadata": {},
     "output_type": "execute_result"
    }
   ],
   "source": [
    "df=df[(df.af_ctry=='USA')].drop(columns=['af_ctry'])\n",
    "df['location']=df['auditor_state'] +',' + df['auditor_city']\n",
    "df.shape"
   ]
  },
  {
   "cell_type": "markdown",
   "id": "0dc70211-a480-4f8d-a645-97663c12909a",
   "metadata": {},
   "source": [
    "------------"
   ]
  },
  {
   "cell_type": "markdown",
   "id": "713964a4-094e-4152-95c9-e606c4f657c1",
   "metadata": {},
   "source": [
    "### Check form_fkey"
   ]
  },
  {
   "cell_type": "code",
   "execution_count": 15,
   "id": "ab04ec87-0625-4649-ac42-a6dbd4859b48",
   "metadata": {},
   "outputs": [
    {
     "data": {
      "image/png": "[encoded data removed]",
      "text/plain": [
       "<Figure size 720x360 with 1 Axes>"
      ]
     },
     "metadata": {
      "needs_background": "light"
     },
     "output_type": "display_data"
    }
   ],
   "source": [
    "df.groupby('form_fkey').size().sort_values(ascending=False).head(30).plot(kind='bar',figsize= (10,5))\n",
    "plt.show()"
   ]
  },
  {
   "cell_type": "code",
   "execution_count": 16,
   "id": "914e877b-d663-4f96-8c5d-44221819f704",
   "metadata": {},
   "outputs": [
    {
     "name": "stdout",
     "output_type": "stream",
     "text": [
      "(180647, 14)\n"
     ]
    }
   ],
   "source": [
    "forms_to_keep=['10-K','10KSB', 'S-1']\n",
    "df=df[df.form_fkey.isin(forms_to_keep)]\n",
    "print(df.shape)"
   ]
  },
  {
   "cell_type": "markdown",
   "id": "2c6cae3c-dc85-4412-be0e-8f0eaf05fc4c",
   "metadata": {},
   "source": [
    "----------"
   ]
  },
  {
   "cell_type": "markdown",
   "id": "806c1f4f-3eb3-442f-88ad-c358029e672b",
   "metadata": {},
   "source": [
    "### Define first and last years "
   ]
  },
  {
   "cell_type": "code",
   "execution_count": 17,
   "id": "9ff7a969-80e4-415e-83c0-bbb3aaabe31d",
   "metadata": {},
   "outputs": [],
   "source": [
    "first_year=2000\n",
    "last_year= df.fy.values.max() - 1"
   ]
  },
  {
   "cell_type": "code",
   "execution_count": 18,
   "id": "069233db-4fb7-40a8-baee-9b34696104a1",
   "metadata": {},
   "outputs": [
    {
     "name": "stdout",
     "output_type": "stream",
     "text": [
      "(176015, 14)\n"
     ]
    },
    {
     "data": {
      "text/html": [
       "<div>\n",
       "<style scoped>\n",
       "    .dataframe tbody tr th:only-of-type {\n",
       "        vertical-align: middle;\n",
       "    }\n",
       "\n",
       "    .dataframe tbody tr th {\n",
       "        vertical-align: top;\n",
       "    }\n",
       "\n",
       "    .dataframe thead th {\n",
       "        text-align: right;\n",
       "    }\n",
       "</style>\n",
       "<table border=\"1\" class=\"dataframe\">\n",
       "  <thead>\n",
       "    <tr style=\"text-align: right;\">\n",
       "      <th></th>\n",
       "      <th>audit_op_key</th>\n",
       "      <th>afk</th>\n",
       "      <th>afn</th>\n",
       "      <th>gco</th>\n",
       "      <th>auditor_city</th>\n",
       "      <th>auditor_state</th>\n",
       "      <th>fy</th>\n",
       "      <th>fiscal_year_end_op</th>\n",
       "      <th>form_fkey</th>\n",
       "      <th>cik</th>\n",
       "      <th>tic</th>\n",
       "      <th>audfees</th>\n",
       "      <th>totfees</th>\n",
       "      <th>big5</th>\n",
       "    </tr>\n",
       "  </thead>\n",
       "  <tbody>\n",
       "    <tr>\n",
       "      <th>0</th>\n",
       "      <td>66900</td>\n",
       "      <td>5</td>\n",
       "      <td>Arthur Andersen LLP</td>\n",
       "      <td>0</td>\n",
       "      <td>Philadelphia</td>\n",
       "      <td>PA</td>\n",
       "      <td>2000</td>\n",
       "      <td>2000-12-30</td>\n",
       "      <td>10-K</td>\n",
       "      <td>0000000020</td>\n",
       "      <td>None</td>\n",
       "      <td>200000.0</td>\n",
       "      <td>271000.0</td>\n",
       "      <td>1</td>\n",
       "    </tr>\n",
       "    <tr>\n",
       "      <th>2</th>\n",
       "      <td>3538</td>\n",
       "      <td>4</td>\n",
       "      <td>KPMG LLP</td>\n",
       "      <td>0</td>\n",
       "      <td>Philadelphia</td>\n",
       "      <td>PA</td>\n",
       "      <td>2002</td>\n",
       "      <td>2002-12-28</td>\n",
       "      <td>10-K</td>\n",
       "      <td>0000000020</td>\n",
       "      <td>None</td>\n",
       "      <td>123700.0</td>\n",
       "      <td>148200.0</td>\n",
       "      <td>1</td>\n",
       "    </tr>\n",
       "    <tr>\n",
       "      <th>3</th>\n",
       "      <td>39225</td>\n",
       "      <td>6</td>\n",
       "      <td>Grant Thornton LLP</td>\n",
       "      <td>0</td>\n",
       "      <td>Philadelphia</td>\n",
       "      <td>PA</td>\n",
       "      <td>2003</td>\n",
       "      <td>2004-01-03</td>\n",
       "      <td>10-K</td>\n",
       "      <td>0000000020</td>\n",
       "      <td>None</td>\n",
       "      <td>137100.0</td>\n",
       "      <td>137100.0</td>\n",
       "      <td>0</td>\n",
       "    </tr>\n",
       "    <tr>\n",
       "      <th>4</th>\n",
       "      <td>84748</td>\n",
       "      <td>6</td>\n",
       "      <td>Grant Thornton LLP</td>\n",
       "      <td>0</td>\n",
       "      <td>Philadelphia</td>\n",
       "      <td>PA</td>\n",
       "      <td>2004</td>\n",
       "      <td>2005-01-01</td>\n",
       "      <td>10-K</td>\n",
       "      <td>0000000020</td>\n",
       "      <td>None</td>\n",
       "      <td>225000.0</td>\n",
       "      <td>311000.0</td>\n",
       "      <td>0</td>\n",
       "    </tr>\n",
       "    <tr>\n",
       "      <th>5</th>\n",
       "      <td>102979</td>\n",
       "      <td>6</td>\n",
       "      <td>Grant Thornton LLP</td>\n",
       "      <td>0</td>\n",
       "      <td>Philadelphia</td>\n",
       "      <td>PA</td>\n",
       "      <td>2005</td>\n",
       "      <td>2005-12-31</td>\n",
       "      <td>10-K</td>\n",
       "      <td>0000000020</td>\n",
       "      <td>None</td>\n",
       "      <td>244000.0</td>\n",
       "      <td>281000.0</td>\n",
       "      <td>0</td>\n",
       "    </tr>\n",
       "  </tbody>\n",
       "</table>\n",
       "</div>"
      ],
      "text/plain": [
       "   audit_op_key  afk                  afn  gco  auditor_city auditor_state  \\\n",
       "0         66900    5  Arthur Andersen LLP    0  Philadelphia            PA   \n",
       "2          3538    4             KPMG LLP    0  Philadelphia            PA   \n",
       "3         39225    6   Grant Thornton LLP    0  Philadelphia            PA   \n",
       "4         84748    6   Grant Thornton LLP    0  Philadelphia            PA   \n",
       "5        102979    6   Grant Thornton LLP    0  Philadelphia            PA   \n",
       "\n",
       "     fy fiscal_year_end_op form_fkey         cik   tic   audfees   totfees  \\\n",
       "0  2000         2000-12-30      10-K  0000000020  None  200000.0  271000.0   \n",
       "2  2002         2002-12-28      10-K  0000000020  None  123700.0  148200.0   \n",
       "3  2003         2004-01-03      10-K  0000000020  None  137100.0  137100.0   \n",
       "4  2004         2005-01-01      10-K  0000000020  None  225000.0  311000.0   \n",
       "5  2005         2005-12-31      10-K  0000000020  None  244000.0  281000.0   \n",
       "\n",
       "   big5  \n",
       "0     1  \n",
       "2     1  \n",
       "3     0  \n",
       "4     0  \n",
       "5     0  "
      ]
     },
     "execution_count": 18,
     "metadata": {},
     "output_type": "execute_result"
    }
   ],
   "source": [
    "df=df[df.fy>=first_year]\n",
    "df=df[df.fy<=last_year]\n",
    "print(df.shape)\n",
    "df.head()"
   ]
  },
  {
   "cell_type": "markdown",
   "id": "e9c98b87-fdb9-4053-8288-f673465ec537",
   "metadata": {},
   "source": [
    "---------------------"
   ]
  },
  {
   "cell_type": "markdown",
   "id": "f1a0c366-08a3-4e3a-97f0-5cdfc544b1bc",
   "metadata": {},
   "source": [
    "## Check data with visualization"
   ]
  },
  {
   "cell_type": "markdown",
   "id": "484cb0aa-91e9-4217-a269-b38378ef0744",
   "metadata": {},
   "source": [
    "### Yearly distribution of 10-K and 10-KSB"
   ]
  },
  {
   "cell_type": "code",
   "execution_count": 19,
   "id": "4296036e-1de5-4d10-a279-3b4cc1e9fc8a",
   "metadata": {},
   "outputs": [
    {
     "data": {
      "text/html": [
       "<div>\n",
       "<style scoped>\n",
       "    .dataframe tbody tr th:only-of-type {\n",
       "        vertical-align: middle;\n",
       "    }\n",
       "\n",
       "    .dataframe tbody tr th {\n",
       "        vertical-align: top;\n",
       "    }\n",
       "\n",
       "    .dataframe thead th {\n",
       "        text-align: right;\n",
       "    }\n",
       "</style>\n",
       "<table border=\"1\" class=\"dataframe\">\n",
       "  <thead>\n",
       "    <tr style=\"text-align: right;\">\n",
       "      <th>form_fkey</th>\n",
       "      <th>10-K</th>\n",
       "      <th>10KSB</th>\n",
       "      <th>S-1</th>\n",
       "    </tr>\n",
       "    <tr>\n",
       "      <th>fy</th>\n",
       "      <th></th>\n",
       "      <th></th>\n",
       "      <th></th>\n",
       "    </tr>\n",
       "  </thead>\n",
       "  <tbody>\n",
       "    <tr>\n",
       "      <th>2000</th>\n",
       "      <td>5447.0</td>\n",
       "      <td>2685.0</td>\n",
       "      <td>89.0</td>\n",
       "    </tr>\n",
       "    <tr>\n",
       "      <th>2001</th>\n",
       "      <td>5287.0</td>\n",
       "      <td>2892.0</td>\n",
       "      <td>105.0</td>\n",
       "    </tr>\n",
       "    <tr>\n",
       "      <th>2002</th>\n",
       "      <td>7277.0</td>\n",
       "      <td>3051.0</td>\n",
       "      <td>106.0</td>\n",
       "    </tr>\n",
       "    <tr>\n",
       "      <th>2003</th>\n",
       "      <td>7289.0</td>\n",
       "      <td>2962.0</td>\n",
       "      <td>568.0</td>\n",
       "    </tr>\n",
       "    <tr>\n",
       "      <th>2004</th>\n",
       "      <td>6578.0</td>\n",
       "      <td>2831.0</td>\n",
       "      <td>250.0</td>\n",
       "    </tr>\n",
       "  </tbody>\n",
       "</table>\n",
       "</div>"
      ],
      "text/plain": [
       "form_fkey    10-K   10KSB    S-1\n",
       "fy                              \n",
       "2000       5447.0  2685.0   89.0\n",
       "2001       5287.0  2892.0  105.0\n",
       "2002       7277.0  3051.0  106.0\n",
       "2003       7289.0  2962.0  568.0\n",
       "2004       6578.0  2831.0  250.0"
      ]
     },
     "execution_count": 19,
     "metadata": {},
     "output_type": "execute_result"
    }
   ],
   "source": [
    "df_plot= df.groupby(['fy', 'form_fkey']).size().reset_index().pivot(index= 'fy', columns='form_fkey', values= 0)\n",
    "df_plot.head()"
   ]
  },
  {
   "cell_type": "markdown",
   "id": "612814a9-3ec5-4219-aa9c-8886040ab8e8",
   "metadata": {},
   "source": [
    "### Distribution by years"
   ]
  },
  {
   "cell_type": "code",
   "execution_count": 20,
   "id": "a850d866-b8c7-4bfd-a1e1-23e7d480bfd2",
   "metadata": {},
   "outputs": [
    {
     "data": {
      "image/png": "[encoded data removed]",
      "text/plain": [
       "<Figure size 720x360 with 1 Axes>"
      ]
     },
     "metadata": {
      "needs_background": "light"
     },
     "output_type": "display_data"
    }
   ],
   "source": [
    "df_plot[['10-K','10KSB']].plot(kind='bar', grid= True, stacked= True, figsize= (10,5))\n",
    "plt.title(\"The yearly distribution of 10-K\", fontsize= 20, pad=20)\n",
    "plt.show()"
   ]
  },
  {
   "cell_type": "code",
   "execution_count": 21,
   "id": "d4e4ae11-2aab-434a-9e41-2303845b879b",
   "metadata": {},
   "outputs": [
    {
     "data": {
      "image/png": "[encoded data removed]",
      "text/plain": [
       "<Figure size 720x360 with 1 Axes>"
      ]
     },
     "metadata": {
      "needs_background": "light"
     },
     "output_type": "display_data"
    }
   ],
   "source": [
    "df_plot[['S-1']].plot(kind='bar', grid= True, stacked= True, figsize= (10,5))\n",
    "plt.title(\"The yearly distribution of S-1\", fontsize= 20, pad=20)\n",
    "plt.show()"
   ]
  },
  {
   "cell_type": "code",
   "execution_count": 23,
   "id": "7e634cbd-bed6-48c0-a558-70602a167a9c",
   "metadata": {},
   "outputs": [
    {
     "data": {
      "image/png": "[encoded data removed]",
      "text/plain": [
       "<Figure size 720x360 with 1 Axes>"
      ]
     },
     "metadata": {
      "needs_background": "light"
     },
     "output_type": "display_data"
    }
   ],
   "source": [
    "df_plot.plot(kind='bar', grid= True, stacked= True, figsize= (10,5))\n",
    "plt.title(\"The yearly distribution of 10-K and S-1\", fontsize= 20, pad=20)\n",
    "plt.show()"
   ]
  },
  {
   "cell_type": "markdown",
   "id": "900a45df-312c-4785-adf5-15cb91d73dd4",
   "metadata": {},
   "source": [
    "### Proportion (%) of GC firms by years"
   ]
  },
  {
   "cell_type": "code",
   "execution_count": 24,
   "id": "91769b03-2470-4bf2-979f-aaa2eaaaef9f",
   "metadata": {},
   "outputs": [
    {
     "data": {
      "image/png": "[encoded data removed]",
      "text/plain": [
       "<Figure size 504x288 with 1 Axes>"
      ]
     },
     "metadata": {
      "needs_background": "light"
     },
     "output_type": "display_data"
    }
   ],
   "source": [
    "df.groupby(['fy']).mean()['gco'].plot(kind='line', marker='*', figsize=(7,4), grid= True, color= 'r')\n",
    "plt.title('The yearly distribution of GC firms: 10-K filings')\n",
    "plt.show()"
   ]
  },
  {
   "cell_type": "markdown",
   "id": "bf83881b-bb6b-4d5e-b9f4-87c09d72e2a9",
   "metadata": {},
   "source": [
    "----------"
   ]
  },
  {
   "cell_type": "markdown",
   "id": "2f2669eb-eaca-4b83-8bd3-3299143c840a",
   "metadata": {},
   "source": [
    "### States with most clients"
   ]
  },
  {
   "cell_type": "code",
   "execution_count": 25,
   "id": "543a6566-9bf3-4b4f-bd45-6ed6ebb0e5f6",
   "metadata": {},
   "outputs": [],
   "source": [
    "df_2020= df[df.fy==2020]"
   ]
  },
  {
   "cell_type": "code",
   "execution_count": 26,
   "id": "b02309db-6912-432a-88c2-c287f54d1ac4",
   "metadata": {},
   "outputs": [
    {
     "data": {
      "image/png": "[encoded data removed]",
      "text/plain": [
       "<Figure size 504x504 with 1 Axes>"
      ]
     },
     "metadata": {
      "needs_background": "light"
     },
     "output_type": "display_data"
    }
   ],
   "source": [
    "df_2020.groupby(['auditor_state']).size().sort_values(ascending= True).tail(20).plot(kind='barh', grid= True, figsize=(7,7))\n",
    "plt.show()"
   ]
  },
  {
   "cell_type": "markdown",
   "id": "22990328-d3e7-45d9-8269-7ca23a69cbea",
   "metadata": {},
   "source": [
    "### Cities with most clients"
   ]
  },
  {
   "cell_type": "code",
   "execution_count": 27,
   "id": "9bea82cc-04c2-43e6-a657-c66785b69ed1",
   "metadata": {},
   "outputs": [
    {
     "data": {
      "image/png": "[encoded data removed]",
      "text/plain": [
       "<Figure size 504x504 with 1 Axes>"
      ]
     },
     "metadata": {
      "needs_background": "light"
     },
     "output_type": "display_data"
    }
   ],
   "source": [
    "df_2020.groupby(['auditor_state', 'auditor_city']).size().sort_values(ascending= True).tail(20).plot(kind='barh', grid= True, figsize=(7,7))\n",
    "plt.show()"
   ]
  },
  {
   "cell_type": "markdown",
   "id": "93f939bb-4590-43d3-b899-993c8541fc58",
   "metadata": {},
   "source": [
    "### Unique states and cities"
   ]
  },
  {
   "cell_type": "code",
   "execution_count": 41,
   "id": "1f206551-c7b3-40da-b2da-f4c5ac0fdb63",
   "metadata": {},
   "outputs": [
    {
     "name": "stdout",
     "output_type": "stream",
     "text": [
      "The number of unique states: 51\n"
     ]
    }
   ],
   "source": [
    "print(\"The number of unique states:\", df.nunique().auditor_state)"
   ]
  },
  {
   "cell_type": "code",
   "execution_count": 42,
   "id": "637351d3-e170-45a8-9cfd-adbb0f9958be",
   "metadata": {},
   "outputs": [
    {
     "name": "stdout",
     "output_type": "stream",
     "text": [
      "The number of unique locations (i.e., state-city): 814\n"
     ]
    }
   ],
   "source": [
    "print(\"The number of unique locations (i.e., state-city):\", df.nunique().location)"
   ]
  },
  {
   "cell_type": "markdown",
   "id": "0621c2ea-00ee-40fa-ac8b-ed34ed128e6b",
   "metadata": {},
   "source": [
    "### Limit to B4 in 2020"
   ]
  },
  {
   "cell_type": "code",
   "execution_count": 43,
   "id": "0e5ff97d-fdef-40a0-a709-ba02c52221a4",
   "metadata": {},
   "outputs": [
    {
     "name": "stdout",
     "output_type": "stream",
     "text": [
      "The number of unique locations (i.e., state-city) using Big 4 sample: 174\n"
     ]
    }
   ],
   "source": [
    "df_big4= df[df.afk<=4]\n",
    "print(\"The number of unique locations (i.e., state-city) using Big 4 sample:\", df_big4.nunique().location)"
   ]
  },
  {
   "cell_type": "code",
   "execution_count": 61,
   "id": "8391cc9a-5bcb-4815-9311-bda498266ac9",
   "metadata": {},
   "outputs": [
    {
     "name": "stdout",
     "output_type": "stream",
     "text": [
      "The number of unique locations (i.e., state-city) using Big 4 sample in 2020: 98\n"
     ]
    }
   ],
   "source": [
    "df_big4_2020= df[(df.afk<=4) & (df.fy==2020)]\n",
    "print(\"The number of unique locations (i.e., state-city) using Big 4 sample in 2020:\", df_test.nunique().location)"
   ]
  },
  {
   "cell_type": "code",
   "execution_count": 81,
   "id": "5fba48ee-ac7c-41ea-889b-e221618521d2",
   "metadata": {},
   "outputs": [
    {
     "data": {
      "text/html": [
       "<div>\n",
       "<style scoped>\n",
       "    .dataframe tbody tr th:only-of-type {\n",
       "        vertical-align: middle;\n",
       "    }\n",
       "\n",
       "    .dataframe tbody tr th {\n",
       "        vertical-align: top;\n",
       "    }\n",
       "\n",
       "    .dataframe thead th {\n",
       "        text-align: right;\n",
       "    }\n",
       "</style>\n",
       "<table border=\"1\" class=\"dataframe\">\n",
       "  <thead>\n",
       "    <tr style=\"text-align: right;\">\n",
       "      <th>afn</th>\n",
       "      <th>Deloitte &amp; Touche LLP</th>\n",
       "      <th>Ernst &amp; Young LLP</th>\n",
       "      <th>KPMG LLP</th>\n",
       "      <th>PricewaterhouseCoopers LLP</th>\n",
       "    </tr>\n",
       "    <tr>\n",
       "      <th>auditor_state</th>\n",
       "      <th></th>\n",
       "      <th></th>\n",
       "      <th></th>\n",
       "      <th></th>\n",
       "    </tr>\n",
       "  </thead>\n",
       "  <tbody>\n",
       "    <tr>\n",
       "      <th>AL</th>\n",
       "      <td>2</td>\n",
       "      <td>4</td>\n",
       "      <td>3</td>\n",
       "      <td>4</td>\n",
       "    </tr>\n",
       "    <tr>\n",
       "      <th>AR</th>\n",
       "      <td>0</td>\n",
       "      <td>2</td>\n",
       "      <td>0</td>\n",
       "      <td>1</td>\n",
       "    </tr>\n",
       "    <tr>\n",
       "      <th>AZ</th>\n",
       "      <td>20</td>\n",
       "      <td>12</td>\n",
       "      <td>5</td>\n",
       "      <td>6</td>\n",
       "    </tr>\n",
       "    <tr>\n",
       "      <th>CA</th>\n",
       "      <td>138</td>\n",
       "      <td>207</td>\n",
       "      <td>105</td>\n",
       "      <td>112</td>\n",
       "    </tr>\n",
       "    <tr>\n",
       "      <th>CO</th>\n",
       "      <td>14</td>\n",
       "      <td>21</td>\n",
       "      <td>41</td>\n",
       "      <td>8</td>\n",
       "    </tr>\n",
       "  </tbody>\n",
       "</table>\n",
       "</div>"
      ],
      "text/plain": [
       "afn            Deloitte & Touche LLP  Ernst & Young LLP  KPMG LLP  \\\n",
       "auditor_state                                                       \n",
       "AL                                 2                  4         3   \n",
       "AR                                 0                  2         0   \n",
       "AZ                                20                 12         5   \n",
       "CA                               138                207       105   \n",
       "CO                                14                 21        41   \n",
       "\n",
       "afn            PricewaterhouseCoopers LLP  \n",
       "auditor_state                              \n",
       "AL                                      4  \n",
       "AR                                      1  \n",
       "AZ                                      6  \n",
       "CA                                    112  \n",
       "CO                                      8  "
      ]
     },
     "execution_count": 81,
     "metadata": {},
     "output_type": "execute_result"
    }
   ],
   "source": [
    "dist= df_big4_2020.groupby(['afn', 'auditor_state']).size().reset_index().pivot(index='auditor_state', columns='afn', values=0).fillna(0).astype(int)\n",
    "dist.head()"
   ]
  },
  {
   "cell_type": "code",
   "execution_count": 96,
   "id": "534e6eb9-d521-4c52-a750-e2f02ba5a62c",
   "metadata": {},
   "outputs": [
    {
     "data": {
      "image/png": "[encoded data removed]",
      "text/plain": [
       "<Figure size 1800x360 with 1 Axes>"
      ]
     },
     "metadata": {
      "needs_background": "light"
     },
     "output_type": "display_data"
    }
   ],
   "source": [
    "dist.plot(kind='bar', figsize= (25,5), grid= True)\n",
    "plt.title(\"The number of clients by big 4 audit firms in 2020\", fontsize= 20)\n",
    "plt.show()"
   ]
  },
  {
   "cell_type": "markdown",
   "id": "d727bbdb-9b7a-4b67-a4e9-56642eca603d",
   "metadata": {},
   "source": [
    "--------------------"
   ]
  },
  {
   "cell_type": "markdown",
   "id": "d71adc04-8822-4b4c-b77e-607b5ffddb92",
   "metadata": {},
   "source": [
    "### Save data"
   ]
  },
  {
   "cell_type": "code",
   "execution_count": 38,
   "id": "c9b78a54-2dd9-44c0-9d25-614be8f38663",
   "metadata": {},
   "outputs": [
    {
     "data": {
      "text/html": [
       "<div>\n",
       "<style scoped>\n",
       "    .dataframe tbody tr th:only-of-type {\n",
       "        vertical-align: middle;\n",
       "    }\n",
       "\n",
       "    .dataframe tbody tr th {\n",
       "        vertical-align: top;\n",
       "    }\n",
       "\n",
       "    .dataframe thead th {\n",
       "        text-align: right;\n",
       "    }\n",
       "</style>\n",
       "<table border=\"1\" class=\"dataframe\">\n",
       "  <thead>\n",
       "    <tr style=\"text-align: right;\">\n",
       "      <th></th>\n",
       "      <th>audit_op_key</th>\n",
       "      <th>afk</th>\n",
       "      <th>afn</th>\n",
       "      <th>gco</th>\n",
       "      <th>auditor_city</th>\n",
       "      <th>auditor_state</th>\n",
       "      <th>fy</th>\n",
       "      <th>fiscal_year_end_op</th>\n",
       "      <th>form_fkey</th>\n",
       "      <th>cik</th>\n",
       "      <th>tic</th>\n",
       "      <th>audfees</th>\n",
       "      <th>totfees</th>\n",
       "      <th>big5</th>\n",
       "      <th>location</th>\n",
       "    </tr>\n",
       "  </thead>\n",
       "  <tbody>\n",
       "    <tr>\n",
       "      <th>0</th>\n",
       "      <td>66900</td>\n",
       "      <td>5</td>\n",
       "      <td>Arthur Andersen LLP</td>\n",
       "      <td>0</td>\n",
       "      <td>Philadelphia</td>\n",
       "      <td>PA</td>\n",
       "      <td>2000</td>\n",
       "      <td>2000-12-30</td>\n",
       "      <td>10-K</td>\n",
       "      <td>0000000020</td>\n",
       "      <td>None</td>\n",
       "      <td>200000.0</td>\n",
       "      <td>271000.0</td>\n",
       "      <td>1</td>\n",
       "      <td>PA,Philadelphia</td>\n",
       "    </tr>\n",
       "    <tr>\n",
       "      <th>2</th>\n",
       "      <td>3538</td>\n",
       "      <td>4</td>\n",
       "      <td>KPMG LLP</td>\n",
       "      <td>0</td>\n",
       "      <td>Philadelphia</td>\n",
       "      <td>PA</td>\n",
       "      <td>2002</td>\n",
       "      <td>2002-12-28</td>\n",
       "      <td>10-K</td>\n",
       "      <td>0000000020</td>\n",
       "      <td>None</td>\n",
       "      <td>123700.0</td>\n",
       "      <td>148200.0</td>\n",
       "      <td>1</td>\n",
       "      <td>PA,Philadelphia</td>\n",
       "    </tr>\n",
       "    <tr>\n",
       "      <th>3</th>\n",
       "      <td>39225</td>\n",
       "      <td>6</td>\n",
       "      <td>Grant Thornton LLP</td>\n",
       "      <td>0</td>\n",
       "      <td>Philadelphia</td>\n",
       "      <td>PA</td>\n",
       "      <td>2003</td>\n",
       "      <td>2004-01-03</td>\n",
       "      <td>10-K</td>\n",
       "      <td>0000000020</td>\n",
       "      <td>None</td>\n",
       "      <td>137100.0</td>\n",
       "      <td>137100.0</td>\n",
       "      <td>0</td>\n",
       "      <td>PA,Philadelphia</td>\n",
       "    </tr>\n",
       "    <tr>\n",
       "      <th>4</th>\n",
       "      <td>84748</td>\n",
       "      <td>6</td>\n",
       "      <td>Grant Thornton LLP</td>\n",
       "      <td>0</td>\n",
       "      <td>Philadelphia</td>\n",
       "      <td>PA</td>\n",
       "      <td>2004</td>\n",
       "      <td>2005-01-01</td>\n",
       "      <td>10-K</td>\n",
       "      <td>0000000020</td>\n",
       "      <td>None</td>\n",
       "      <td>225000.0</td>\n",
       "      <td>311000.0</td>\n",
       "      <td>0</td>\n",
       "      <td>PA,Philadelphia</td>\n",
       "    </tr>\n",
       "    <tr>\n",
       "      <th>5</th>\n",
       "      <td>102979</td>\n",
       "      <td>6</td>\n",
       "      <td>Grant Thornton LLP</td>\n",
       "      <td>0</td>\n",
       "      <td>Philadelphia</td>\n",
       "      <td>PA</td>\n",
       "      <td>2005</td>\n",
       "      <td>2005-12-31</td>\n",
       "      <td>10-K</td>\n",
       "      <td>0000000020</td>\n",
       "      <td>None</td>\n",
       "      <td>244000.0</td>\n",
       "      <td>281000.0</td>\n",
       "      <td>0</td>\n",
       "      <td>PA,Philadelphia</td>\n",
       "    </tr>\n",
       "  </tbody>\n",
       "</table>\n",
       "</div>"
      ],
      "text/plain": [
       "   audit_op_key  afk                  afn  gco  auditor_city auditor_state  \\\n",
       "0         66900    5  Arthur Andersen LLP    0  Philadelphia            PA   \n",
       "2          3538    4             KPMG LLP    0  Philadelphia            PA   \n",
       "3         39225    6   Grant Thornton LLP    0  Philadelphia            PA   \n",
       "4         84748    6   Grant Thornton LLP    0  Philadelphia            PA   \n",
       "5        102979    6   Grant Thornton LLP    0  Philadelphia            PA   \n",
       "\n",
       "     fy fiscal_year_end_op form_fkey         cik   tic   audfees   totfees  \\\n",
       "0  2000         2000-12-30      10-K  0000000020  None  200000.0  271000.0   \n",
       "2  2002         2002-12-28      10-K  0000000020  None  123700.0  148200.0   \n",
       "3  2003         2004-01-03      10-K  0000000020  None  137100.0  137100.0   \n",
       "4  2004         2005-01-01      10-K  0000000020  None  225000.0  311000.0   \n",
       "5  2005         2005-12-31      10-K  0000000020  None  244000.0  281000.0   \n",
       "\n",
       "   big5         location  \n",
       "0     1  PA,Philadelphia  \n",
       "2     1  PA,Philadelphia  \n",
       "3     0  PA,Philadelphia  \n",
       "4     0  PA,Philadelphia  \n",
       "5     0  PA,Philadelphia  "
      ]
     },
     "execution_count": 38,
     "metadata": {},
     "output_type": "execute_result"
    }
   ],
   "source": [
    "df.to_csv('data/aa_auditopin.csv', index= False)\n",
    "df.head()"
   ]
  },
  {
   "cell_type": "markdown",
   "id": "d42dacb5-7716-46a7-a50d-ebc9d3f838f9",
   "metadata": {},
   "source": [
    "### Close connection"
   ]
  },
  {
   "cell_type": "code",
   "execution_count": 39,
   "id": "d84df791-a599-45ff-8685-3cab71445551",
   "metadata": {},
   "outputs": [],
   "source": [
    "conn.close()"
   ]
  },
  {
   "cell_type": "markdown",
   "id": "dbb9616d-0ae8-4fea-b2bd-0c9d1605ab89",
   "metadata": {},
   "source": [
    "-------------"
   ]
  }
 ],
 "metadata": {
  "kernelspec": {
   "display_name": "sec",
   "language": "python",
   "name": "sec"
  },
  "language_info": {
   "codemirror_mode": {
    "name": "ipython",
    "version": 3
   },
   "file_extension": ".py",
   "mimetype": "text/x-python",
   "name": "python",
   "nbconvert_exporter": "python",
   "pygments_lexer": "ipython3",
   "version": "3.8.8"
  },
  "widgets": {
   "application/vnd.jupyter.widget-state+json": {
    "state": {},
    "version_major": 2,
    "version_minor": 0
   }
  }
 },
 "nbformat": 4,
 "nbformat_minor": 5
}
