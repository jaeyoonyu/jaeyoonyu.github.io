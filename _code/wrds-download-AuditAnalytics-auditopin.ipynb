{
 "cells": [
  {
   "cell_type": "markdown",
   "id": "4633cce5-ba97-4631-bce1-fbb65c5dea66",
   "metadata": {},
   "source": [
    "## Download Audit Opinion set from Audit Analytics data from WRDS"
   ]
  },
  {
   "cell_type": "markdown",
   "id": "eed9431c-85e8-4651-a33b-2be6e56579c7",
   "metadata": {},
   "source": [
    "-------------------------"
   ]
  },
  {
   "cell_type": "markdown",
   "id": "d4bfcf5c-c883-4ac1-839b-f2c76c0284cb",
   "metadata": {},
   "source": [
    "### Import libraries"
   ]
  },
  {
   "cell_type": "code",
   "execution_count": 1,
   "id": "9cff7b80-9b0c-4cd3-a11c-cf28f63842ff",
   "metadata": {},
   "outputs": [],
   "source": [
    "import numpy as np\n",
    "import pandas as pd\n",
    "import wrds\n",
    "pd.options.display.max_columns=200"
   ]
  },
  {
   "cell_type": "markdown",
   "id": "cef880b0-014a-49b0-9e66-fc1ce372805e",
   "metadata": {},
   "source": [
    "-------------"
   ]
  },
  {
   "cell_type": "markdown",
   "id": "432f2b4a-02a6-4c58-9e6a-ffda0615342f",
   "metadata": {},
   "source": [
    "### Connect WRDS"
   ]
  },
  {
   "cell_type": "code",
   "execution_count": 2,
   "id": "3df4e730-ca27-4c67-8d76-fb5ae5c90084",
   "metadata": {},
   "outputs": [
    {
     "name": "stdin",
     "output_type": "stream",
     "text": [
      "Enter your WRDS username [yjaey]: yjaeyoon\n",
      "Enter your password: ···············\n"
     ]
    },
    {
     "name": "stdout",
     "output_type": "stream",
     "text": [
      "WRDS recommends setting up a .pgpass file.\n"
     ]
    },
    {
     "name": "stdin",
     "output_type": "stream",
     "text": [
      "Create .pgpass file now [y/n]?:  y\n"
     ]
    },
    {
     "name": "stdout",
     "output_type": "stream",
     "text": [
      "Created .pgpass file successfully.\n",
      "Loading library list...\n",
      "Done\n"
     ]
    }
   ],
   "source": [
    "conn=wrds.Connection()"
   ]
  },
  {
   "cell_type": "markdown",
   "id": "075cd192-4365-4c4e-ac79-0a640c64ae16",
   "metadata": {},
   "source": [
    "### Get variable list"
   ]
  },
  {
   "cell_type": "code",
   "execution_count": 3,
   "id": "fbf9bd48-92b0-49c4-ae96-52f06fe02bb5",
   "metadata": {},
   "outputs": [
    {
     "name": "stdout",
     "output_type": "stream",
     "text": [
      "Approximately 343544 rows in audit.auditopin.\n",
      "225\n"
     ]
    }
   ],
   "source": [
    "auditop_vars= conn.describe_table(library='audit', table='auditopin')['name']\n",
    "print(len(auditop_vars))"
   ]
  },
  {
   "cell_type": "code",
   "execution_count": 4,
   "id": "701634cc-22dd-4319-811a-c7b99a06bac8",
   "metadata": {
    "scrolled": true,
    "tags": []
   },
   "outputs": [
    {
     "name": "stdout",
     "output_type": "stream",
     "text": [
      "0 audit_op_key\n",
      "1 auditor_affil_fkey\n",
      "2 auditor_affilname\n",
      "3 auditor_fkey\n",
      "4 auditor_name\n",
      "5 sig_date_of_op_x\n",
      "6 sig_date_of_op_s\n",
      "7 going_concern\n",
      "8 auditor_city\n",
      "9 auditor_state\n",
      "10 auditor_state_name\n",
      "11 auditor_country\n",
      "12 auditor_region\n",
      "13 auditor_con_sup_reg\n",
      "14 fiscal_year_of_op\n",
      "15 fiscal_year_end_op\n",
      "16 op_aud_pcaob\n",
      "17 pcaob_reg_num\n",
      "23 accnt_basis\n",
      "24 ftp_file_fkey\n",
      "25 form_fkey\n",
      "26 file_date\n",
      "27 file_accepted\n",
      "28 file_size\n",
      "29 http_name_html\n",
      "30 http_name_text\n",
      "31 company_fkey\n",
      "32 best_edgar_ticker\n"
     ]
    }
   ],
   "source": [
    "vars_to_skip= ['matchfy', 'matchqu', 'closestfy', 'closestqu', 'priorqu', 'priorfy', 'note', 'opinion_text', 'eventdate']\n",
    "for idx, var in enumerate(auditop_vars):\n",
    "    if any(var_to_skip in var for var_to_skip in vars_to_skip):\n",
    "        pass\n",
    "    else:        \n",
    "        print(idx, var)"
   ]
  },
  {
   "cell_type": "markdown",
   "id": "ff3d500f-95b3-4f73-881a-ac8e69725ffe",
   "metadata": {},
   "source": [
    "### Select variables to download"
   ]
  },
  {
   "cell_type": "code",
   "execution_count": 5,
   "id": "fa3956ed-69cc-45db-b7a2-6ffd27e7ea55",
   "metadata": {},
   "outputs": [],
   "source": [
    "vars_to_keep= ['audit_op_key', 'auditor_fkey', 'auditor_name', 'going_concern', 'auditor_country', \n",
    "               'fiscal_year_of_op', 'form_fkey', 'company_fkey', 'best_edgar_ticker']"
   ]
  },
  {
   "cell_type": "markdown",
   "id": "51b7b493-4858-4bca-b24a-fe002148881c",
   "metadata": {},
   "source": [
    "### Pilot check"
   ]
  },
  {
   "cell_type": "code",
   "execution_count": 6,
   "id": "c58074bf-26a8-433e-a027-99b571e729fd",
   "metadata": {},
   "outputs": [
    {
     "data": {
      "text/html": [
       "<div>\n",
       "<style scoped>\n",
       "    .dataframe tbody tr th:only-of-type {\n",
       "        vertical-align: middle;\n",
       "    }\n",
       "\n",
       "    .dataframe tbody tr th {\n",
       "        vertical-align: top;\n",
       "    }\n",
       "\n",
       "    .dataframe thead th {\n",
       "        text-align: right;\n",
       "    }\n",
       "</style>\n",
       "<table border=\"1\" class=\"dataframe\">\n",
       "  <thead>\n",
       "    <tr style=\"text-align: right;\">\n",
       "      <th></th>\n",
       "      <th>audit_op_key</th>\n",
       "      <th>auditor_fkey</th>\n",
       "      <th>auditor_name</th>\n",
       "      <th>going_concern</th>\n",
       "      <th>auditor_country</th>\n",
       "      <th>fiscal_year_of_op</th>\n",
       "      <th>form_fkey</th>\n",
       "      <th>company_fkey</th>\n",
       "      <th>best_edgar_ticker</th>\n",
       "    </tr>\n",
       "  </thead>\n",
       "  <tbody>\n",
       "    <tr>\n",
       "      <th>0</th>\n",
       "      <td>66900.0</td>\n",
       "      <td>5.0</td>\n",
       "      <td>Arthur Andersen LLP</td>\n",
       "      <td>0.0</td>\n",
       "      <td>USA</td>\n",
       "      <td>2000.0</td>\n",
       "      <td>10-K</td>\n",
       "      <td>0000000020</td>\n",
       "      <td>None</td>\n",
       "    </tr>\n",
       "    <tr>\n",
       "      <th>1</th>\n",
       "      <td>78252.0</td>\n",
       "      <td>5.0</td>\n",
       "      <td>Arthur Andersen LLP</td>\n",
       "      <td>0.0</td>\n",
       "      <td>USA</td>\n",
       "      <td>2001.0</td>\n",
       "      <td>10-K405</td>\n",
       "      <td>0000000020</td>\n",
       "      <td>None</td>\n",
       "    </tr>\n",
       "    <tr>\n",
       "      <th>2</th>\n",
       "      <td>3538.0</td>\n",
       "      <td>4.0</td>\n",
       "      <td>KPMG LLP</td>\n",
       "      <td>0.0</td>\n",
       "      <td>USA</td>\n",
       "      <td>2002.0</td>\n",
       "      <td>10-K</td>\n",
       "      <td>0000000020</td>\n",
       "      <td>None</td>\n",
       "    </tr>\n",
       "  </tbody>\n",
       "</table>\n",
       "</div>"
      ],
      "text/plain": [
       "   audit_op_key  auditor_fkey         auditor_name  going_concern  \\\n",
       "0       66900.0           5.0  Arthur Andersen LLP            0.0   \n",
       "1       78252.0           5.0  Arthur Andersen LLP            0.0   \n",
       "2        3538.0           4.0             KPMG LLP            0.0   \n",
       "\n",
       "  auditor_country  fiscal_year_of_op form_fkey company_fkey best_edgar_ticker  \n",
       "0             USA             2000.0      10-K   0000000020              None  \n",
       "1             USA             2001.0   10-K405   0000000020              None  \n",
       "2             USA             2002.0      10-K   0000000020              None  "
      ]
     },
     "execution_count": 6,
     "metadata": {},
     "output_type": "execute_result"
    }
   ],
   "source": [
    "df_test= conn.get_table(library= 'audit', table='auditopin',\n",
    "                       columns= vars_to_keep,\n",
    "                       obs= 3)\n",
    "df_test"
   ]
  },
  {
   "cell_type": "markdown",
   "id": "935c2b00-c40e-488b-9c5a-520a43f302b6",
   "metadata": {},
   "source": [
    "### Download all observations"
   ]
  },
  {
   "cell_type": "code",
   "execution_count": 7,
   "id": "077432c7-eafa-4987-8131-e2870e48615f",
   "metadata": {},
   "outputs": [
    {
     "name": "stdout",
     "output_type": "stream",
     "text": [
      "(343544, 9)\n"
     ]
    },
    {
     "data": {
      "text/html": [
       "<div>\n",
       "<style scoped>\n",
       "    .dataframe tbody tr th:only-of-type {\n",
       "        vertical-align: middle;\n",
       "    }\n",
       "\n",
       "    .dataframe tbody tr th {\n",
       "        vertical-align: top;\n",
       "    }\n",
       "\n",
       "    .dataframe thead th {\n",
       "        text-align: right;\n",
       "    }\n",
       "</style>\n",
       "<table border=\"1\" class=\"dataframe\">\n",
       "  <thead>\n",
       "    <tr style=\"text-align: right;\">\n",
       "      <th></th>\n",
       "      <th>audit_op_key</th>\n",
       "      <th>auditor_fkey</th>\n",
       "      <th>auditor_name</th>\n",
       "      <th>going_concern</th>\n",
       "      <th>auditor_country</th>\n",
       "      <th>fiscal_year_of_op</th>\n",
       "      <th>form_fkey</th>\n",
       "      <th>company_fkey</th>\n",
       "      <th>best_edgar_ticker</th>\n",
       "    </tr>\n",
       "  </thead>\n",
       "  <tbody>\n",
       "    <tr>\n",
       "      <th>0</th>\n",
       "      <td>66900.0</td>\n",
       "      <td>5.0</td>\n",
       "      <td>Arthur Andersen LLP</td>\n",
       "      <td>0.0</td>\n",
       "      <td>USA</td>\n",
       "      <td>2000.0</td>\n",
       "      <td>10-K</td>\n",
       "      <td>0000000020</td>\n",
       "      <td>None</td>\n",
       "    </tr>\n",
       "    <tr>\n",
       "      <th>1</th>\n",
       "      <td>78252.0</td>\n",
       "      <td>5.0</td>\n",
       "      <td>Arthur Andersen LLP</td>\n",
       "      <td>0.0</td>\n",
       "      <td>USA</td>\n",
       "      <td>2001.0</td>\n",
       "      <td>10-K405</td>\n",
       "      <td>0000000020</td>\n",
       "      <td>None</td>\n",
       "    </tr>\n",
       "    <tr>\n",
       "      <th>2</th>\n",
       "      <td>3538.0</td>\n",
       "      <td>4.0</td>\n",
       "      <td>KPMG LLP</td>\n",
       "      <td>0.0</td>\n",
       "      <td>USA</td>\n",
       "      <td>2002.0</td>\n",
       "      <td>10-K</td>\n",
       "      <td>0000000020</td>\n",
       "      <td>None</td>\n",
       "    </tr>\n",
       "    <tr>\n",
       "      <th>3</th>\n",
       "      <td>39225.0</td>\n",
       "      <td>6.0</td>\n",
       "      <td>Grant Thornton LLP</td>\n",
       "      <td>0.0</td>\n",
       "      <td>USA</td>\n",
       "      <td>2003.0</td>\n",
       "      <td>10-K</td>\n",
       "      <td>0000000020</td>\n",
       "      <td>None</td>\n",
       "    </tr>\n",
       "    <tr>\n",
       "      <th>4</th>\n",
       "      <td>84748.0</td>\n",
       "      <td>6.0</td>\n",
       "      <td>Grant Thornton LLP</td>\n",
       "      <td>0.0</td>\n",
       "      <td>USA</td>\n",
       "      <td>2004.0</td>\n",
       "      <td>10-K</td>\n",
       "      <td>0000000020</td>\n",
       "      <td>None</td>\n",
       "    </tr>\n",
       "  </tbody>\n",
       "</table>\n",
       "</div>"
      ],
      "text/plain": [
       "   audit_op_key  auditor_fkey         auditor_name  going_concern  \\\n",
       "0       66900.0           5.0  Arthur Andersen LLP            0.0   \n",
       "1       78252.0           5.0  Arthur Andersen LLP            0.0   \n",
       "2        3538.0           4.0             KPMG LLP            0.0   \n",
       "3       39225.0           6.0   Grant Thornton LLP            0.0   \n",
       "4       84748.0           6.0   Grant Thornton LLP            0.0   \n",
       "\n",
       "  auditor_country  fiscal_year_of_op form_fkey company_fkey best_edgar_ticker  \n",
       "0             USA             2000.0      10-K   0000000020              None  \n",
       "1             USA             2001.0   10-K405   0000000020              None  \n",
       "2             USA             2002.0      10-K   0000000020              None  \n",
       "3             USA             2003.0      10-K   0000000020              None  \n",
       "4             USA             2004.0      10-K   0000000020              None  "
      ]
     },
     "execution_count": 7,
     "metadata": {},
     "output_type": "execute_result"
    }
   ],
   "source": [
    "df= conn.get_table(library= 'audit', table='auditopin',\n",
    "                       columns= vars_to_keep)\n",
    "print(df.shape)\n",
    "df.head()"
   ]
  },
  {
   "cell_type": "code",
   "execution_count": 8,
   "id": "81729c4a-d0cd-49fc-be8a-5b148a8e9bae",
   "metadata": {},
   "outputs": [],
   "source": [
    "df.rename(columns=\n",
    "         {'auditor_fkey':'afk',\n",
    "         'auditor_name':'afn',\n",
    "         'going_concern':'gco',\n",
    "         'auditor_country':'af_ctry',\n",
    "         'fiscal_year_of_op':'fy',\n",
    "         'company_fkey':'cik',\n",
    "         'best_edgar_ticker':'tic'}, \n",
    "          inplace= True)"
   ]
  },
  {
   "cell_type": "code",
   "execution_count": 9,
   "id": "2f34577f-508a-4eb8-860f-4e0bc6d02896",
   "metadata": {},
   "outputs": [],
   "source": [
    "df[['audit_op_key', 'fy', 'gco','afk']]= df[['audit_op_key', 'fy', 'gco','afk']].astype('int')"
   ]
  },
  {
   "cell_type": "code",
   "execution_count": 10,
   "id": "3851f07b-edd6-487b-9d74-8a5606e7abef",
   "metadata": {},
   "outputs": [
    {
     "data": {
      "text/html": [
       "<div>\n",
       "<style scoped>\n",
       "    .dataframe tbody tr th:only-of-type {\n",
       "        vertical-align: middle;\n",
       "    }\n",
       "\n",
       "    .dataframe tbody tr th {\n",
       "        vertical-align: top;\n",
       "    }\n",
       "\n",
       "    .dataframe thead th {\n",
       "        text-align: right;\n",
       "    }\n",
       "</style>\n",
       "<table border=\"1\" class=\"dataframe\">\n",
       "  <thead>\n",
       "    <tr style=\"text-align: right;\">\n",
       "      <th></th>\n",
       "      <th></th>\n",
       "      <th>audit_op_key</th>\n",
       "      <th>gco</th>\n",
       "      <th>af_ctry</th>\n",
       "      <th>fy</th>\n",
       "      <th>form_fkey</th>\n",
       "      <th>cik</th>\n",
       "      <th>tic</th>\n",
       "    </tr>\n",
       "    <tr>\n",
       "      <th>afn</th>\n",
       "      <th>afk</th>\n",
       "      <th></th>\n",
       "      <th></th>\n",
       "      <th></th>\n",
       "      <th></th>\n",
       "      <th></th>\n",
       "      <th></th>\n",
       "      <th></th>\n",
       "    </tr>\n",
       "  </thead>\n",
       "  <tbody>\n",
       "    <tr>\n",
       "      <th>Deloitte &amp; Touche LLP</th>\n",
       "      <th>3</th>\n",
       "      <td>56507</td>\n",
       "      <td>56507</td>\n",
       "      <td>56326</td>\n",
       "      <td>56507</td>\n",
       "      <td>56507</td>\n",
       "      <td>56507</td>\n",
       "      <td>11497</td>\n",
       "    </tr>\n",
       "    <tr>\n",
       "      <th>Ernst &amp; Young LLP</th>\n",
       "      <th>2</th>\n",
       "      <td>50808</td>\n",
       "      <td>50808</td>\n",
       "      <td>50627</td>\n",
       "      <td>50808</td>\n",
       "      <td>50808</td>\n",
       "      <td>50808</td>\n",
       "      <td>16659</td>\n",
       "    </tr>\n",
       "    <tr>\n",
       "      <th>PricewaterhouseCoopers LLP</th>\n",
       "      <th>1</th>\n",
       "      <td>50565</td>\n",
       "      <td>50565</td>\n",
       "      <td>50247</td>\n",
       "      <td>50565</td>\n",
       "      <td>50565</td>\n",
       "      <td>50565</td>\n",
       "      <td>13439</td>\n",
       "    </tr>\n",
       "    <tr>\n",
       "      <th>KPMG LLP</th>\n",
       "      <th>4</th>\n",
       "      <td>36703</td>\n",
       "      <td>36703</td>\n",
       "      <td>36570</td>\n",
       "      <td>36703</td>\n",
       "      <td>36703</td>\n",
       "      <td>36703</td>\n",
       "      <td>11808</td>\n",
       "    </tr>\n",
       "    <tr>\n",
       "      <th>Grant Thornton LLP</th>\n",
       "      <th>6</th>\n",
       "      <td>31512</td>\n",
       "      <td>31512</td>\n",
       "      <td>31506</td>\n",
       "      <td>31512</td>\n",
       "      <td>31511</td>\n",
       "      <td>31512</td>\n",
       "      <td>3188</td>\n",
       "    </tr>\n",
       "    <tr>\n",
       "      <th>Arthur Andersen LLP</th>\n",
       "      <th>5</th>\n",
       "      <td>6398</td>\n",
       "      <td>6398</td>\n",
       "      <td>6397</td>\n",
       "      <td>6398</td>\n",
       "      <td>6398</td>\n",
       "      <td>6398</td>\n",
       "      <td>901</td>\n",
       "    </tr>\n",
       "    <tr>\n",
       "      <th>BDO USA LLP</th>\n",
       "      <th>11761</th>\n",
       "      <td>3137</td>\n",
       "      <td>3137</td>\n",
       "      <td>3132</td>\n",
       "      <td>3137</td>\n",
       "      <td>3137</td>\n",
       "      <td>3137</td>\n",
       "      <td>1939</td>\n",
       "    </tr>\n",
       "    <tr>\n",
       "      <th>BDO Seidman LLP</th>\n",
       "      <th>7</th>\n",
       "      <td>2964</td>\n",
       "      <td>2964</td>\n",
       "      <td>2944</td>\n",
       "      <td>2964</td>\n",
       "      <td>2964</td>\n",
       "      <td>2964</td>\n",
       "      <td>675</td>\n",
       "    </tr>\n",
       "    <tr>\n",
       "      <th>MaloneBailey LLP</th>\n",
       "      <th>151</th>\n",
       "      <td>2552</td>\n",
       "      <td>2552</td>\n",
       "      <td>2550</td>\n",
       "      <td>2552</td>\n",
       "      <td>2552</td>\n",
       "      <td>2552</td>\n",
       "      <td>1044</td>\n",
       "    </tr>\n",
       "    <tr>\n",
       "      <th>Marcum LLP</th>\n",
       "      <th>8256</th>\n",
       "      <td>2250</td>\n",
       "      <td>2250</td>\n",
       "      <td>2248</td>\n",
       "      <td>2250</td>\n",
       "      <td>2250</td>\n",
       "      <td>2250</td>\n",
       "      <td>1628</td>\n",
       "    </tr>\n",
       "  </tbody>\n",
       "</table>\n",
       "</div>"
      ],
      "text/plain": [
       "                                  audit_op_key    gco  af_ctry     fy  \\\n",
       "afn                        afk                                          \n",
       "Deloitte & Touche LLP      3             56507  56507    56326  56507   \n",
       "Ernst & Young LLP          2             50808  50808    50627  50808   \n",
       "PricewaterhouseCoopers LLP 1             50565  50565    50247  50565   \n",
       "KPMG LLP                   4             36703  36703    36570  36703   \n",
       "Grant Thornton LLP         6             31512  31512    31506  31512   \n",
       "Arthur Andersen LLP        5              6398   6398     6397   6398   \n",
       "BDO USA LLP                11761          3137   3137     3132   3137   \n",
       "BDO Seidman LLP            7              2964   2964     2944   2964   \n",
       "MaloneBailey LLP           151            2552   2552     2550   2552   \n",
       "Marcum LLP                 8256           2250   2250     2248   2250   \n",
       "\n",
       "                                  form_fkey    cik    tic  \n",
       "afn                        afk                             \n",
       "Deloitte & Touche LLP      3          56507  56507  11497  \n",
       "Ernst & Young LLP          2          50808  50808  16659  \n",
       "PricewaterhouseCoopers LLP 1          50565  50565  13439  \n",
       "KPMG LLP                   4          36703  36703  11808  \n",
       "Grant Thornton LLP         6          31511  31512   3188  \n",
       "Arthur Andersen LLP        5           6398   6398    901  \n",
       "BDO USA LLP                11761       3137   3137   1939  \n",
       "BDO Seidman LLP            7           2964   2964    675  \n",
       "MaloneBailey LLP           151         2552   2552   1044  \n",
       "Marcum LLP                 8256        2250   2250   1628  "
      ]
     },
     "execution_count": 10,
     "metadata": {},
     "output_type": "execute_result"
    }
   ],
   "source": [
    "df.groupby(['afn','afk']).count().sort_values('cik', ascending=False).head(10)"
   ]
  },
  {
   "cell_type": "code",
   "execution_count": 11,
   "id": "069233db-4fb7-40a8-baee-9b34696104a1",
   "metadata": {},
   "outputs": [
    {
     "name": "stdout",
     "output_type": "stream",
     "text": [
      "(324416, 10)\n"
     ]
    },
    {
     "data": {
      "text/html": [
       "<div>\n",
       "<style scoped>\n",
       "    .dataframe tbody tr th:only-of-type {\n",
       "        vertical-align: middle;\n",
       "    }\n",
       "\n",
       "    .dataframe tbody tr th {\n",
       "        vertical-align: top;\n",
       "    }\n",
       "\n",
       "    .dataframe thead th {\n",
       "        text-align: right;\n",
       "    }\n",
       "</style>\n",
       "<table border=\"1\" class=\"dataframe\">\n",
       "  <thead>\n",
       "    <tr style=\"text-align: right;\">\n",
       "      <th></th>\n",
       "      <th>audit_op_key</th>\n",
       "      <th>afk</th>\n",
       "      <th>afn</th>\n",
       "      <th>gco</th>\n",
       "      <th>af_ctry</th>\n",
       "      <th>fy</th>\n",
       "      <th>form_fkey</th>\n",
       "      <th>cik</th>\n",
       "      <th>tic</th>\n",
       "      <th>big5</th>\n",
       "    </tr>\n",
       "  </thead>\n",
       "  <tbody>\n",
       "    <tr>\n",
       "      <th>0</th>\n",
       "      <td>66900</td>\n",
       "      <td>5</td>\n",
       "      <td>Arthur Andersen LLP</td>\n",
       "      <td>0</td>\n",
       "      <td>USA</td>\n",
       "      <td>2000</td>\n",
       "      <td>10-K</td>\n",
       "      <td>0000000020</td>\n",
       "      <td>None</td>\n",
       "      <td>1</td>\n",
       "    </tr>\n",
       "    <tr>\n",
       "      <th>1</th>\n",
       "      <td>78252</td>\n",
       "      <td>5</td>\n",
       "      <td>Arthur Andersen LLP</td>\n",
       "      <td>0</td>\n",
       "      <td>USA</td>\n",
       "      <td>2001</td>\n",
       "      <td>10-K405</td>\n",
       "      <td>0000000020</td>\n",
       "      <td>None</td>\n",
       "      <td>1</td>\n",
       "    </tr>\n",
       "    <tr>\n",
       "      <th>2</th>\n",
       "      <td>3538</td>\n",
       "      <td>4</td>\n",
       "      <td>KPMG LLP</td>\n",
       "      <td>0</td>\n",
       "      <td>USA</td>\n",
       "      <td>2002</td>\n",
       "      <td>10-K</td>\n",
       "      <td>0000000020</td>\n",
       "      <td>None</td>\n",
       "      <td>1</td>\n",
       "    </tr>\n",
       "    <tr>\n",
       "      <th>3</th>\n",
       "      <td>39225</td>\n",
       "      <td>6</td>\n",
       "      <td>Grant Thornton LLP</td>\n",
       "      <td>0</td>\n",
       "      <td>USA</td>\n",
       "      <td>2003</td>\n",
       "      <td>10-K</td>\n",
       "      <td>0000000020</td>\n",
       "      <td>None</td>\n",
       "      <td>0</td>\n",
       "    </tr>\n",
       "    <tr>\n",
       "      <th>4</th>\n",
       "      <td>84748</td>\n",
       "      <td>6</td>\n",
       "      <td>Grant Thornton LLP</td>\n",
       "      <td>0</td>\n",
       "      <td>USA</td>\n",
       "      <td>2004</td>\n",
       "      <td>10-K</td>\n",
       "      <td>0000000020</td>\n",
       "      <td>None</td>\n",
       "      <td>0</td>\n",
       "    </tr>\n",
       "  </tbody>\n",
       "</table>\n",
       "</div>"
      ],
      "text/plain": [
       "   audit_op_key  afk                  afn  gco af_ctry    fy form_fkey  \\\n",
       "0         66900    5  Arthur Andersen LLP    0     USA  2000      10-K   \n",
       "1         78252    5  Arthur Andersen LLP    0     USA  2001   10-K405   \n",
       "2          3538    4             KPMG LLP    0     USA  2002      10-K   \n",
       "3         39225    6   Grant Thornton LLP    0     USA  2003      10-K   \n",
       "4         84748    6   Grant Thornton LLP    0     USA  2004      10-K   \n",
       "\n",
       "          cik   tic  big5  \n",
       "0  0000000020  None     1  \n",
       "1  0000000020  None     1  \n",
       "2  0000000020  None     1  \n",
       "3  0000000020  None     0  \n",
       "4  0000000020  None     0  "
      ]
     },
     "execution_count": 11,
     "metadata": {},
     "output_type": "execute_result"
    }
   ],
   "source": [
    "df=df[df.fy>=2000]\n",
    "df=df[df.fy<=2020]\n",
    "df['big5']= (df['afk']<= 5).astype(int)\n",
    "print(df.shape)\n",
    "df.head()"
   ]
  },
  {
   "cell_type": "markdown",
   "id": "47887220-ab9e-41cb-ac4a-eca87359d431",
   "metadata": {},
   "source": [
    "---------------------"
   ]
  },
  {
   "cell_type": "markdown",
   "id": "0e4f94e5-9e48-47c3-b854-c187cca75b22",
   "metadata": {},
   "source": [
    "## Check data with visualization"
   ]
  },
  {
   "cell_type": "markdown",
   "id": "4e7e15ef-fca7-4811-914b-06de29c8566a",
   "metadata": {},
   "source": [
    "### Distribution by years"
   ]
  },
  {
   "cell_type": "code",
   "execution_count": 12,
   "id": "be93eb80-560f-4910-921d-485301e317c2",
   "metadata": {},
   "outputs": [
    {
     "data": {
      "text/plain": [
       "<AxesSubplot:xlabel='fy'>"
      ]
     },
     "execution_count": 12,
     "metadata": {},
     "output_type": "execute_result"
    },
    {
     "data": {
      "image/png": "[encoded data removed]",
      "text/plain": [
       "<Figure size 504x288 with 1 Axes>"
      ]
     },
     "metadata": {
      "needs_background": "light"
     },
     "output_type": "display_data"
    }
   ],
   "source": [
    "df.groupby(['fy']).count()['cik'].plot(kind='bar', figsize=(7,4), grid= True, color= 'b')"
   ]
  },
  {
   "cell_type": "markdown",
   "id": "900a45df-312c-4785-adf5-15cb91d73dd4",
   "metadata": {},
   "source": [
    "### Proportion (%) of GC firms by years"
   ]
  },
  {
   "cell_type": "code",
   "execution_count": 13,
   "id": "9a0e46a1-98f5-413c-aeae-69be4d3f1bcd",
   "metadata": {},
   "outputs": [
    {
     "data": {
      "text/plain": [
       "<AxesSubplot:xlabel='fy'>"
      ]
     },
     "execution_count": 13,
     "metadata": {},
     "output_type": "execute_result"
    },
    {
     "data": {
      "image/png": "[encoded data removed]",
      "text/plain": [
       "<Figure size 504x288 with 1 Axes>"
      ]
     },
     "metadata": {
      "needs_background": "light"
     },
     "output_type": "display_data"
    }
   ],
   "source": [
    "df.groupby(['fy']).mean()['gco'].plot(kind='bar', figsize=(7,4), grid= True, color= 'r')"
   ]
  },
  {
   "cell_type": "markdown",
   "id": "d727bbdb-9b7a-4b67-a4e9-56642eca603d",
   "metadata": {},
   "source": [
    "--------------------"
   ]
  },
  {
   "cell_type": "markdown",
   "id": "d71adc04-8822-4b4c-b77e-607b5ffddb92",
   "metadata": {},
   "source": [
    "### Save data"
   ]
  },
  {
   "cell_type": "code",
   "execution_count": 17,
   "id": "c9b78a54-2dd9-44c0-9d25-614be8f38663",
   "metadata": {},
   "outputs": [
    {
     "data": {
      "text/html": [
       "<div>\n",
       "<style scoped>\n",
       "    .dataframe tbody tr th:only-of-type {\n",
       "        vertical-align: middle;\n",
       "    }\n",
       "\n",
       "    .dataframe tbody tr th {\n",
       "        vertical-align: top;\n",
       "    }\n",
       "\n",
       "    .dataframe thead th {\n",
       "        text-align: right;\n",
       "    }\n",
       "</style>\n",
       "<table border=\"1\" class=\"dataframe\">\n",
       "  <thead>\n",
       "    <tr style=\"text-align: right;\">\n",
       "      <th></th>\n",
       "      <th>audit_op_key</th>\n",
       "      <th>afk</th>\n",
       "      <th>afn</th>\n",
       "      <th>gco</th>\n",
       "      <th>af_ctry</th>\n",
       "      <th>fy</th>\n",
       "      <th>form_fkey</th>\n",
       "      <th>cik</th>\n",
       "      <th>tic</th>\n",
       "      <th>big5</th>\n",
       "    </tr>\n",
       "  </thead>\n",
       "  <tbody>\n",
       "    <tr>\n",
       "      <th>0</th>\n",
       "      <td>66900</td>\n",
       "      <td>5</td>\n",
       "      <td>Arthur Andersen LLP</td>\n",
       "      <td>0</td>\n",
       "      <td>USA</td>\n",
       "      <td>2000</td>\n",
       "      <td>10-K</td>\n",
       "      <td>0000000020</td>\n",
       "      <td>None</td>\n",
       "      <td>1</td>\n",
       "    </tr>\n",
       "    <tr>\n",
       "      <th>1</th>\n",
       "      <td>78252</td>\n",
       "      <td>5</td>\n",
       "      <td>Arthur Andersen LLP</td>\n",
       "      <td>0</td>\n",
       "      <td>USA</td>\n",
       "      <td>2001</td>\n",
       "      <td>10-K405</td>\n",
       "      <td>0000000020</td>\n",
       "      <td>None</td>\n",
       "      <td>1</td>\n",
       "    </tr>\n",
       "    <tr>\n",
       "      <th>2</th>\n",
       "      <td>3538</td>\n",
       "      <td>4</td>\n",
       "      <td>KPMG LLP</td>\n",
       "      <td>0</td>\n",
       "      <td>USA</td>\n",
       "      <td>2002</td>\n",
       "      <td>10-K</td>\n",
       "      <td>0000000020</td>\n",
       "      <td>None</td>\n",
       "      <td>1</td>\n",
       "    </tr>\n",
       "    <tr>\n",
       "      <th>3</th>\n",
       "      <td>39225</td>\n",
       "      <td>6</td>\n",
       "      <td>Grant Thornton LLP</td>\n",
       "      <td>0</td>\n",
       "      <td>USA</td>\n",
       "      <td>2003</td>\n",
       "      <td>10-K</td>\n",
       "      <td>0000000020</td>\n",
       "      <td>None</td>\n",
       "      <td>0</td>\n",
       "    </tr>\n",
       "    <tr>\n",
       "      <th>4</th>\n",
       "      <td>84748</td>\n",
       "      <td>6</td>\n",
       "      <td>Grant Thornton LLP</td>\n",
       "      <td>0</td>\n",
       "      <td>USA</td>\n",
       "      <td>2004</td>\n",
       "      <td>10-K</td>\n",
       "      <td>0000000020</td>\n",
       "      <td>None</td>\n",
       "      <td>0</td>\n",
       "    </tr>\n",
       "  </tbody>\n",
       "</table>\n",
       "</div>"
      ],
      "text/plain": [
       "   audit_op_key  afk                  afn  gco af_ctry    fy form_fkey  \\\n",
       "0         66900    5  Arthur Andersen LLP    0     USA  2000      10-K   \n",
       "1         78252    5  Arthur Andersen LLP    0     USA  2001   10-K405   \n",
       "2          3538    4             KPMG LLP    0     USA  2002      10-K   \n",
       "3         39225    6   Grant Thornton LLP    0     USA  2003      10-K   \n",
       "4         84748    6   Grant Thornton LLP    0     USA  2004      10-K   \n",
       "\n",
       "          cik   tic  big5  \n",
       "0  0000000020  None     1  \n",
       "1  0000000020  None     1  \n",
       "2  0000000020  None     1  \n",
       "3  0000000020  None     0  \n",
       "4  0000000020  None     0  "
      ]
     },
     "execution_count": 17,
     "metadata": {},
     "output_type": "execute_result"
    }
   ],
   "source": [
    "df.to_csv('data/aa_auditopin.csv', index= False)\n",
    "df.head()"
   ]
  },
  {
   "cell_type": "markdown",
   "id": "d42dacb5-7716-46a7-a50d-ebc9d3f838f9",
   "metadata": {},
   "source": [
    "### Close connection"
   ]
  },
  {
   "cell_type": "code",
   "execution_count": 18,
   "id": "d84df791-a599-45ff-8685-3cab71445551",
   "metadata": {},
   "outputs": [],
   "source": [
    "conn.close()"
   ]
  },
  {
   "cell_type": "markdown",
   "id": "dbb9616d-0ae8-4fea-b2bd-0c9d1605ab89",
   "metadata": {},
   "source": [
    "-------------"
   ]
  }
 ],
 "metadata": {
  "kernelspec": {
   "display_name": "sec",
   "language": "python",
   "name": "sec"
  },
  "language_info": {
   "codemirror_mode": {
    "name": "ipython",
    "version": 3
   },
   "file_extension": ".py",
   "mimetype": "text/x-python",
   "name": "python",
   "nbconvert_exporter": "python",
   "pygments_lexer": "ipython3",
   "version": "3.8.8"
  },
  "widgets": {
   "application/vnd.jupyter.widget-state+json": {
    "state": {},
    "version_major": 2,
    "version_minor": 0
   }
  }
 },
 "nbformat": 4,
 "nbformat_minor": 5
}
