{
 "cells": [
  {
   "cell_type": "markdown",
   "id": "d3a33198-6fe9-4d46-adfd-621339782b43",
   "metadata": {},
   "source": [
    "# heatmap using seaborn\n",
    "\n",
    "* Plot rectangular data as a color-encoded matrix.\n",
    "* This is an Axes-level function and will draw the heatmap into the currently-active Axes if none is provided to the ax argument. Part of this Axes space will be taken and used to plot a colormap, unless cbar is False or a separate Axes is provided to cbar_ax.\n",
    "* <code>seaborn.heatmap(data=,...)</code>\n",
    "* [seaborn docs for heatmap](https://seaborn.pydata.org/generated/seaborn.heatmap.html)"
   ]
  },
  {
   "cell_type": "code",
   "execution_count": 1,
   "id": "9d575571-3a88-41f7-8229-2615727cb590",
   "metadata": {},
   "outputs": [],
   "source": [
    "import pandas as pd\n",
    "import numpy as np\n",
    "import matplotlib.pyplot as plt\n",
    "import seaborn as sns"
   ]
  },
  {
   "cell_type": "markdown",
   "id": "f6c844db-d7df-4be2-b991-bac773f3301b",
   "metadata": {},
   "source": [
    "-----------"
   ]
  },
  {
   "cell_type": "markdown",
   "id": "df21494e-0a52-4d90-8fcc-b520eb209792",
   "metadata": {},
   "source": [
    "## Data wrangling"
   ]
  },
  {
   "cell_type": "code",
   "execution_count": 2,
   "id": "68f42e18-53ff-43e1-b11d-9bd82202f4b2",
   "metadata": {},
   "outputs": [
    {
     "name": "stdout",
     "output_type": "stream",
     "text": [
      "(31960, 9)\n"
     ]
    },
    {
     "data": {
      "text/html": [
       "<div>\n",
       "<style scoped>\n",
       "    .dataframe tbody tr th:only-of-type {\n",
       "        vertical-align: middle;\n",
       "    }\n",
       "\n",
       "    .dataframe tbody tr th {\n",
       "        vertical-align: top;\n",
       "    }\n",
       "\n",
       "    .dataframe thead th {\n",
       "        text-align: right;\n",
       "    }\n",
       "</style>\n",
       "<table border=\"1\" class=\"dataframe\">\n",
       "  <thead>\n",
       "    <tr style=\"text-align: right;\">\n",
       "      <th></th>\n",
       "      <th>fyear</th>\n",
       "      <th>tic</th>\n",
       "      <th>at</th>\n",
       "      <th>sale</th>\n",
       "      <th>ni</th>\n",
       "      <th>ib</th>\n",
       "      <th>oancf</th>\n",
       "      <th>mv</th>\n",
       "      <th>accr</th>\n",
       "    </tr>\n",
       "  </thead>\n",
       "  <tbody>\n",
       "    <tr>\n",
       "      <th>25</th>\n",
       "      <td>2015</td>\n",
       "      <td>AIR</td>\n",
       "      <td>1442.1</td>\n",
       "      <td>1662.6</td>\n",
       "      <td>47.7</td>\n",
       "      <td>40.5</td>\n",
       "      <td>32.1</td>\n",
       "      <td>842.51115</td>\n",
       "      <td>15.6</td>\n",
       "    </tr>\n",
       "    <tr>\n",
       "      <th>26</th>\n",
       "      <td>2016</td>\n",
       "      <td>AIR</td>\n",
       "      <td>1504.1</td>\n",
       "      <td>1767.6</td>\n",
       "      <td>56.5</td>\n",
       "      <td>50.2</td>\n",
       "      <td>21.8</td>\n",
       "      <td>1200.32876</td>\n",
       "      <td>34.7</td>\n",
       "    </tr>\n",
       "    <tr>\n",
       "      <th>27</th>\n",
       "      <td>2017</td>\n",
       "      <td>AIR</td>\n",
       "      <td>1524.7</td>\n",
       "      <td>1748.3</td>\n",
       "      <td>15.6</td>\n",
       "      <td>73.7</td>\n",
       "      <td>64.3</td>\n",
       "      <td>1551.45804</td>\n",
       "      <td>-48.7</td>\n",
       "    </tr>\n",
       "    <tr>\n",
       "      <th>28</th>\n",
       "      <td>2018</td>\n",
       "      <td>AIR</td>\n",
       "      <td>1517.2</td>\n",
       "      <td>2051.8</td>\n",
       "      <td>7.5</td>\n",
       "      <td>84.1</td>\n",
       "      <td>67.4</td>\n",
       "      <td>1046.77092</td>\n",
       "      <td>-59.9</td>\n",
       "    </tr>\n",
       "    <tr>\n",
       "      <th>29</th>\n",
       "      <td>2019</td>\n",
       "      <td>AIR</td>\n",
       "      <td>2079.0</td>\n",
       "      <td>2089.3</td>\n",
       "      <td>4.4</td>\n",
       "      <td>24.8</td>\n",
       "      <td>-36.1</td>\n",
       "      <td>707.90649</td>\n",
       "      <td>40.5</td>\n",
       "    </tr>\n",
       "  </tbody>\n",
       "</table>\n",
       "</div>"
      ],
      "text/plain": [
       "    fyear  tic      at    sale    ni    ib  oancf          mv  accr\n",
       "25   2015  AIR  1442.1  1662.6  47.7  40.5   32.1   842.51115  15.6\n",
       "26   2016  AIR  1504.1  1767.6  56.5  50.2   21.8  1200.32876  34.7\n",
       "27   2017  AIR  1524.7  1748.3  15.6  73.7   64.3  1551.45804 -48.7\n",
       "28   2018  AIR  1517.2  2051.8   7.5  84.1   67.4  1046.77092 -59.9\n",
       "29   2019  AIR  2079.0  2089.3   4.4  24.8  -36.1   707.90649  40.5"
      ]
     },
     "execution_count": 2,
     "metadata": {},
     "output_type": "execute_result"
    }
   ],
   "source": [
    "df=pd.read_csv(\"data\\Compustat_from_1990.csv\")[['fyear', 'tic', 'at', 'sale', 'ni', 'ib', 'oancf', 'mv']] # mv is already in million dollars.\n",
    "df['accr']= df['ni'] - df['oancf']\n",
    "df= df[df.fyear>=2015]\n",
    "print(df.shape)\n",
    "df.head()"
   ]
  },
  {
   "cell_type": "code",
   "execution_count": 3,
   "id": "0b87399b-9f83-42c1-a084-55ea7579236e",
   "metadata": {},
   "outputs": [
    {
     "name": "stdout",
     "output_type": "stream",
     "text": [
      "Correlation matrix:\n",
      "\n",
      "             at      sale        ni        ib     oancf      accr        mv\n",
      "at     1.000000  0.830232  0.619124  0.623636  0.848945 -0.683693  0.640971\n",
      "sale   0.830232  1.000000  0.560522  0.565977  0.789041 -0.649410  0.597281\n",
      "ni     0.619124  0.560522  1.000000  0.988464  0.750321 -0.180506  0.743273\n",
      "ib     0.623636  0.565977  0.988464  1.000000  0.758124 -0.202913  0.749772\n",
      "oancf  0.848945  0.789041  0.750321  0.758124  1.000000 -0.785653  0.803720\n",
      "accr  -0.683693 -0.649410 -0.180506 -0.202913 -0.785653  1.000000 -0.504570\n",
      "mv     0.640971  0.597281  0.743273  0.749772  0.803720 -0.504570  1.000000\n"
     ]
    }
   ],
   "source": [
    "vars_list= ['at', 'sale', 'ni', 'ib', 'oancf', 'accr', 'mv']\n",
    "corr=df[vars_list].corr()\n",
    "print(f\"Correlation matrix:\\n\\n{corr}\")"
   ]
  },
  {
   "cell_type": "code",
   "execution_count": 4,
   "id": "bdbfa5e2-ae42-4fbf-b08e-ba937f04b18f",
   "metadata": {},
   "outputs": [
    {
     "data": {
      "image/png": "[encoded data removed]",
      "text/plain": [
       "<Figure size 432x288 with 2 Axes>"
      ]
     },
     "metadata": {
      "needs_background": "light"
     },
     "output_type": "display_data"
    }
   ],
   "source": [
    "f, ax = plt.subplots(figsize=(6, 4))\n",
    "sns.heatmap(corr)\n",
    "ax.set_title('Correlation table')\n",
    "plt.show()"
   ]
  },
  {
   "cell_type": "code",
   "execution_count": 5,
   "id": "5abbf872-87b5-44da-820c-5ae8b902afba",
   "metadata": {},
   "outputs": [
    {
     "data": {
      "image/png": "[encoded data removed]",
      "text/plain": [
       "<Figure size 432x288 with 2 Axes>"
      ]
     },
     "metadata": {
      "needs_background": "light"
     },
     "output_type": "display_data"
    }
   ],
   "source": [
    "mask = np.triu(np.ones_like(corr, dtype=bool)) # a mask for upper triangle\n",
    "f, ax = plt.subplots(figsize=(6, 4))\n",
    "sns.heatmap(corr, mask= mask)\n",
    "ax.set_title('Correlation table')\n",
    "plt.show()"
   ]
  },
  {
   "cell_type": "code",
   "execution_count": 6,
   "id": "0b987fd6-da9d-4ea5-9b18-66559e27a98c",
   "metadata": {},
   "outputs": [
    {
     "data": {
      "image/png": "[encoded data removed]",
      "text/plain": [
       "<Figure size 432x288 with 2 Axes>"
      ]
     },
     "metadata": {
      "needs_background": "light"
     },
     "output_type": "display_data"
    }
   ],
   "source": [
    "cmap = sns.diverging_palette(230, 20, as_cmap=True) # custom colormap\n",
    "mask = np.triu(np.ones_like(corr, dtype=bool)) # a mask for upper triangle\n",
    "f, ax = plt.subplots(figsize=(6, 4))\n",
    "sns.heatmap(corr, mask= mask, cmap= cmap)\n",
    "ax.set_title('Correlation table')\n",
    "plt.show()"
   ]
  },
  {
   "cell_type": "code",
   "execution_count": 7,
   "id": "cfb89c55-a523-40e5-8c8e-b66da5b29656",
   "metadata": {},
   "outputs": [
    {
     "data": {
      "image/png": "[encoded data removed]",
      "text/plain": [
       "<Figure size 432x288 with 2 Axes>"
      ]
     },
     "metadata": {
      "needs_background": "light"
     },
     "output_type": "display_data"
    }
   ],
   "source": [
    "cmap = sns.diverging_palette(230, 20, as_cmap=True) # custom colormap\n",
    "mask = np.triu(np.ones_like(corr, dtype=bool)) # a mask for upper triangle\n",
    "f, ax = plt.subplots(figsize=(6, 4))\n",
    "sns.heatmap(corr, mask = mask, cmap=cmap, annot=True) # add annotation\n",
    "ax.set_title('Correlation table', fontsize= 15)\n",
    "plt.show()"
   ]
  },
  {
   "cell_type": "markdown",
   "id": "f985d0f6-c1d4-4471-a860-b3fe65ece9da",
   "metadata": {},
   "source": [
    "It's now easy to tell positive correlation coefficients from negative ones!"
   ]
  },
  {
   "cell_type": "markdown",
   "id": "6ff0b712-65d2-4963-9a22-506d92c4fae8",
   "metadata": {},
   "source": [
    "-----------"
   ]
  }
 ],
 "metadata": {
  "kernelspec": {
   "display_name": "sec",
   "language": "python",
   "name": "sec"
  },
  "language_info": {
   "codemirror_mode": {
    "name": "ipython",
    "version": 3
   },
   "file_extension": ".py",
   "mimetype": "text/x-python",
   "name": "python",
   "nbconvert_exporter": "python",
   "pygments_lexer": "ipython3",
   "version": "3.8.8"
  },
  "widgets": {
   "application/vnd.jupyter.widget-state+json": {
    "state": {},
    "version_major": 2,
    "version_minor": 0
   }
  }
 },
 "nbformat": 4,
 "nbformat_minor": 5
}
