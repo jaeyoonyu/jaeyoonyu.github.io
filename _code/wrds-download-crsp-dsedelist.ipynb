{
 "cells": [
  {
   "cell_type": "markdown",
   "id": "3873ee4b-5771-4610-9508-6b5f84317d91",
   "metadata": {},
   "source": [
    "## dsedelist (delisting) from CRSP via WRDS\n",
    "- dsedelist: daily stock event - delisting\n",
    "- Link for CRSP at WRDS: https://wrds-www.wharton.upenn.edu/pages/about/data-vendors/center-for-research-in-security-prices-crsp/\n",
    "- CRSP - MSE at WRDS: https://wrds-www.wharton.upenn.edu/pages/get-data/center-research-security-prices-crsp/annual-update/stock-events/delist/\n",
    "- Info for identifiers (Stanford): https://libguides.stanford.edu/c.php?g=559845&p=6686228"
   ]
  },
  {
   "cell_type": "markdown",
   "id": "eed9431c-85e8-4651-a33b-2be6e56579c7",
   "metadata": {},
   "source": [
    "-------------------------"
   ]
  },
  {
   "cell_type": "markdown",
   "id": "d4bfcf5c-c883-4ac1-839b-f2c76c0284cb",
   "metadata": {},
   "source": [
    "### Import libraries"
   ]
  },
  {
   "cell_type": "code",
   "execution_count": 1,
   "id": "9cff7b80-9b0c-4cd3-a11c-cf28f63842ff",
   "metadata": {},
   "outputs": [],
   "source": [
    "import pandas as pd\n",
    "import seaborn as sns\n",
    "import numpy as np\n",
    "import matplotlib.pyplot as plt\n",
    "import wrds\n",
    "pd.set_option('display.max_columns', None)"
   ]
  },
  {
   "cell_type": "markdown",
   "id": "432f2b4a-02a6-4c58-9e6a-ffda0615342f",
   "metadata": {},
   "source": [
    "### Connect WRDS"
   ]
  },
  {
   "cell_type": "code",
   "execution_count": 2,
   "id": "3df4e730-ca27-4c67-8d76-fb5ae5c90084",
   "metadata": {},
   "outputs": [
    {
     "name": "stdin",
     "output_type": "stream",
     "text": [
      "Enter your WRDS username [yjaey]: yjaeyoon\n",
      "Enter your password: ···············\n"
     ]
    },
    {
     "name": "stdout",
     "output_type": "stream",
     "text": [
      "WRDS recommends setting up a .pgpass file.\n"
     ]
    },
    {
     "name": "stdin",
     "output_type": "stream",
     "text": [
      "Create .pgpass file now [y/n]?:  y\n"
     ]
    },
    {
     "name": "stdout",
     "output_type": "stream",
     "text": [
      "Created .pgpass file successfully.\n",
      "Loading library list...\n",
      "Done\n"
     ]
    }
   ],
   "source": [
    "conn=wrds.Connection()"
   ]
  },
  {
   "cell_type": "markdown",
   "id": "b7732e45-1916-4966-82f3-863c97e34225",
   "metadata": {},
   "source": [
    "### Check variables in msf"
   ]
  },
  {
   "cell_type": "code",
   "execution_count": 3,
   "id": "313f9cf1-e858-4a1a-9256-fe3d1f17648b",
   "metadata": {},
   "outputs": [
    {
     "name": "stdout",
     "output_type": "stream",
     "text": [
      "Approximately 36437 rows in crsp.dsedelist.\n"
     ]
    },
    {
     "data": {
      "text/html": [
       "<div>\n",
       "<style scoped>\n",
       "    .dataframe tbody tr th:only-of-type {\n",
       "        vertical-align: middle;\n",
       "    }\n",
       "\n",
       "    .dataframe tbody tr th {\n",
       "        vertical-align: top;\n",
       "    }\n",
       "\n",
       "    .dataframe thead th {\n",
       "        text-align: right;\n",
       "    }\n",
       "</style>\n",
       "<table border=\"1\" class=\"dataframe\">\n",
       "  <thead>\n",
       "    <tr style=\"text-align: right;\">\n",
       "      <th></th>\n",
       "      <th>name</th>\n",
       "      <th>nullable</th>\n",
       "      <th>type</th>\n",
       "    </tr>\n",
       "  </thead>\n",
       "  <tbody>\n",
       "    <tr>\n",
       "      <th>0</th>\n",
       "      <td>permno</td>\n",
       "      <td>True</td>\n",
       "      <td>DOUBLE_PRECISION</td>\n",
       "    </tr>\n",
       "    <tr>\n",
       "      <th>1</th>\n",
       "      <td>dlstdt</td>\n",
       "      <td>True</td>\n",
       "      <td>DATE</td>\n",
       "    </tr>\n",
       "    <tr>\n",
       "      <th>2</th>\n",
       "      <td>dlstcd</td>\n",
       "      <td>True</td>\n",
       "      <td>DOUBLE_PRECISION</td>\n",
       "    </tr>\n",
       "    <tr>\n",
       "      <th>3</th>\n",
       "      <td>nwperm</td>\n",
       "      <td>True</td>\n",
       "      <td>DOUBLE_PRECISION</td>\n",
       "    </tr>\n",
       "    <tr>\n",
       "      <th>4</th>\n",
       "      <td>nwcomp</td>\n",
       "      <td>True</td>\n",
       "      <td>DOUBLE_PRECISION</td>\n",
       "    </tr>\n",
       "    <tr>\n",
       "      <th>5</th>\n",
       "      <td>nextdt</td>\n",
       "      <td>True</td>\n",
       "      <td>DATE</td>\n",
       "    </tr>\n",
       "    <tr>\n",
       "      <th>6</th>\n",
       "      <td>dlamt</td>\n",
       "      <td>True</td>\n",
       "      <td>DOUBLE_PRECISION</td>\n",
       "    </tr>\n",
       "    <tr>\n",
       "      <th>7</th>\n",
       "      <td>dlretx</td>\n",
       "      <td>True</td>\n",
       "      <td>DOUBLE_PRECISION</td>\n",
       "    </tr>\n",
       "    <tr>\n",
       "      <th>8</th>\n",
       "      <td>dlprc</td>\n",
       "      <td>True</td>\n",
       "      <td>DOUBLE_PRECISION</td>\n",
       "    </tr>\n",
       "    <tr>\n",
       "      <th>9</th>\n",
       "      <td>dlpdt</td>\n",
       "      <td>True</td>\n",
       "      <td>DATE</td>\n",
       "    </tr>\n",
       "    <tr>\n",
       "      <th>10</th>\n",
       "      <td>dlret</td>\n",
       "      <td>True</td>\n",
       "      <td>DOUBLE_PRECISION</td>\n",
       "    </tr>\n",
       "    <tr>\n",
       "      <th>11</th>\n",
       "      <td>permco</td>\n",
       "      <td>True</td>\n",
       "      <td>DOUBLE_PRECISION</td>\n",
       "    </tr>\n",
       "    <tr>\n",
       "      <th>12</th>\n",
       "      <td>compno</td>\n",
       "      <td>True</td>\n",
       "      <td>DOUBLE_PRECISION</td>\n",
       "    </tr>\n",
       "    <tr>\n",
       "      <th>13</th>\n",
       "      <td>issuno</td>\n",
       "      <td>True</td>\n",
       "      <td>DOUBLE_PRECISION</td>\n",
       "    </tr>\n",
       "    <tr>\n",
       "      <th>14</th>\n",
       "      <td>hexcd</td>\n",
       "      <td>True</td>\n",
       "      <td>DOUBLE_PRECISION</td>\n",
       "    </tr>\n",
       "    <tr>\n",
       "      <th>15</th>\n",
       "      <td>hsiccd</td>\n",
       "      <td>True</td>\n",
       "      <td>DOUBLE_PRECISION</td>\n",
       "    </tr>\n",
       "    <tr>\n",
       "      <th>16</th>\n",
       "      <td>cusip</td>\n",
       "      <td>True</td>\n",
       "      <td>VARCHAR(8)</td>\n",
       "    </tr>\n",
       "    <tr>\n",
       "      <th>17</th>\n",
       "      <td>acperm</td>\n",
       "      <td>True</td>\n",
       "      <td>DOUBLE_PRECISION</td>\n",
       "    </tr>\n",
       "    <tr>\n",
       "      <th>18</th>\n",
       "      <td>accomp</td>\n",
       "      <td>True</td>\n",
       "      <td>DOUBLE_PRECISION</td>\n",
       "    </tr>\n",
       "  </tbody>\n",
       "</table>\n",
       "</div>"
      ],
      "text/plain": [
       "      name  nullable              type\n",
       "0   permno      True  DOUBLE_PRECISION\n",
       "1   dlstdt      True              DATE\n",
       "2   dlstcd      True  DOUBLE_PRECISION\n",
       "3   nwperm      True  DOUBLE_PRECISION\n",
       "4   nwcomp      True  DOUBLE_PRECISION\n",
       "5   nextdt      True              DATE\n",
       "6    dlamt      True  DOUBLE_PRECISION\n",
       "7   dlretx      True  DOUBLE_PRECISION\n",
       "8    dlprc      True  DOUBLE_PRECISION\n",
       "9    dlpdt      True              DATE\n",
       "10   dlret      True  DOUBLE_PRECISION\n",
       "11  permco      True  DOUBLE_PRECISION\n",
       "12  compno      True  DOUBLE_PRECISION\n",
       "13  issuno      True  DOUBLE_PRECISION\n",
       "14   hexcd      True  DOUBLE_PRECISION\n",
       "15  hsiccd      True  DOUBLE_PRECISION\n",
       "16   cusip      True        VARCHAR(8)\n",
       "17  acperm      True  DOUBLE_PRECISION\n",
       "18  accomp      True  DOUBLE_PRECISION"
      ]
     },
     "execution_count": 3,
     "metadata": {},
     "output_type": "execute_result"
    }
   ],
   "source": [
    "conn.describe_table(library='crsp', table='dsedelist')"
   ]
  },
  {
   "cell_type": "markdown",
   "id": "2f245b67-79fe-4ce0-b3ca-f94bdc5fe03d",
   "metadata": {},
   "source": [
    "<b>Variables</b>:  \n",
    "- <b>permco</b>: CRSP Permanent Company Number \n",
    "- <b>permno</b>: CRSP Permanent Stock (Share Class) Number \n",
    "- <b>dlstcd</b>: delisting code.\n",
    "    - 100: active\n",
    "    - 200: Mergers\n",
    "    - 300: Exchanges\n",
    "    - 400: Liquidations\n",
    "    - 500: Dropped\n",
    "    - 600: Expirations\n",
    "    - 900: Domestics that became Foreign\n"
   ]
  },
  {
   "cell_type": "markdown",
   "id": "642919e9-cc5f-4f13-98f9-d97878721eac",
   "metadata": {},
   "source": [
    "------------"
   ]
  },
  {
   "cell_type": "markdown",
   "id": "bf740ba6-d00d-46a6-aa71-2be1df5174f2",
   "metadata": {},
   "source": [
    "### Get data"
   ]
  },
  {
   "cell_type": "code",
   "execution_count": 4,
   "id": "9f4c89b7-bf7d-466b-a949-7d8ba0885814",
   "metadata": {},
   "outputs": [
    {
     "data": {
      "text/plain": [
       "36437"
      ]
     },
     "execution_count": 4,
     "metadata": {},
     "output_type": "execute_result"
    }
   ],
   "source": [
    "conn.get_row_count(library='crsp', table='dsedelist')"
   ]
  },
  {
   "cell_type": "markdown",
   "id": "16333008-a9de-446a-b814-633ea7a63aca",
   "metadata": {},
   "source": [
    "### Download msf data"
   ]
  },
  {
   "cell_type": "code",
   "execution_count": 5,
   "id": "4cb51d99-50a7-4e94-a632-da2f85fd3dc4",
   "metadata": {},
   "outputs": [
    {
     "name": "stdout",
     "output_type": "stream",
     "text": [
      "(36437, 19)\n"
     ]
    },
    {
     "data": {
      "text/html": [
       "<div>\n",
       "<style scoped>\n",
       "    .dataframe tbody tr th:only-of-type {\n",
       "        vertical-align: middle;\n",
       "    }\n",
       "\n",
       "    .dataframe tbody tr th {\n",
       "        vertical-align: top;\n",
       "    }\n",
       "\n",
       "    .dataframe thead th {\n",
       "        text-align: right;\n",
       "    }\n",
       "</style>\n",
       "<table border=\"1\" class=\"dataframe\">\n",
       "  <thead>\n",
       "    <tr style=\"text-align: right;\">\n",
       "      <th></th>\n",
       "      <th>permno</th>\n",
       "      <th>dlstdt</th>\n",
       "      <th>dlstcd</th>\n",
       "      <th>nwperm</th>\n",
       "      <th>nwcomp</th>\n",
       "      <th>nextdt</th>\n",
       "      <th>dlamt</th>\n",
       "      <th>dlretx</th>\n",
       "      <th>dlprc</th>\n",
       "      <th>dlpdt</th>\n",
       "      <th>dlret</th>\n",
       "      <th>permco</th>\n",
       "      <th>compno</th>\n",
       "      <th>issuno</th>\n",
       "      <th>hexcd</th>\n",
       "      <th>hsiccd</th>\n",
       "      <th>cusip</th>\n",
       "      <th>acperm</th>\n",
       "      <th>accomp</th>\n",
       "    </tr>\n",
       "  </thead>\n",
       "  <tbody>\n",
       "    <tr>\n",
       "      <th>0</th>\n",
       "      <td>10000.0</td>\n",
       "      <td>1987-06-11</td>\n",
       "      <td>560.0</td>\n",
       "      <td>0.0</td>\n",
       "      <td>0.0</td>\n",
       "      <td>1987-06-12</td>\n",
       "      <td>0.21875</td>\n",
       "      <td>0.0</td>\n",
       "      <td>-0.21875</td>\n",
       "      <td>1987-06-12</td>\n",
       "      <td>0.0</td>\n",
       "      <td>7952.0</td>\n",
       "      <td>60007905.0</td>\n",
       "      <td>10396.0</td>\n",
       "      <td>3.0</td>\n",
       "      <td>3990.0</td>\n",
       "      <td>68391610</td>\n",
       "      <td>None</td>\n",
       "      <td>None</td>\n",
       "    </tr>\n",
       "    <tr>\n",
       "      <th>1</th>\n",
       "      <td>10001.0</td>\n",
       "      <td>2017-08-03</td>\n",
       "      <td>233.0</td>\n",
       "      <td>0.0</td>\n",
       "      <td>0.0</td>\n",
       "      <td>None</td>\n",
       "      <td>13.10000</td>\n",
       "      <td>0.0</td>\n",
       "      <td>0.00000</td>\n",
       "      <td>2017-08-04</td>\n",
       "      <td>0.0</td>\n",
       "      <td>7953.0</td>\n",
       "      <td>60007906.0</td>\n",
       "      <td>10398.0</td>\n",
       "      <td>2.0</td>\n",
       "      <td>4925.0</td>\n",
       "      <td>36720410</td>\n",
       "      <td>None</td>\n",
       "      <td>None</td>\n",
       "    </tr>\n",
       "  </tbody>\n",
       "</table>\n",
       "</div>"
      ],
      "text/plain": [
       "    permno      dlstdt  dlstcd  nwperm  nwcomp      nextdt     dlamt  dlretx  \\\n",
       "0  10000.0  1987-06-11   560.0     0.0     0.0  1987-06-12   0.21875     0.0   \n",
       "1  10001.0  2017-08-03   233.0     0.0     0.0        None  13.10000     0.0   \n",
       "\n",
       "     dlprc       dlpdt  dlret  permco      compno   issuno  hexcd  hsiccd  \\\n",
       "0 -0.21875  1987-06-12    0.0  7952.0  60007905.0  10396.0    3.0  3990.0   \n",
       "1  0.00000  2017-08-04    0.0  7953.0  60007906.0  10398.0    2.0  4925.0   \n",
       "\n",
       "      cusip acperm accomp  \n",
       "0  68391610   None   None  \n",
       "1  36720410   None   None  "
      ]
     },
     "execution_count": 5,
     "metadata": {},
     "output_type": "execute_result"
    }
   ],
   "source": [
    "df= conn.get_table(library='crsp', table='dsedelist')\n",
    "print(df.shape)\n",
    "df.head(2)"
   ]
  },
  {
   "cell_type": "code",
   "execution_count": 6,
   "id": "ce37b2b1-8cae-4948-a872-0105f2626d63",
   "metadata": {},
   "outputs": [
    {
     "name": "stdout",
     "output_type": "stream",
     "text": [
      "(26948, 19)\n"
     ]
    },
    {
     "data": {
      "text/html": [
       "<div>\n",
       "<style scoped>\n",
       "    .dataframe tbody tr th:only-of-type {\n",
       "        vertical-align: middle;\n",
       "    }\n",
       "\n",
       "    .dataframe tbody tr th {\n",
       "        vertical-align: top;\n",
       "    }\n",
       "\n",
       "    .dataframe thead th {\n",
       "        text-align: right;\n",
       "    }\n",
       "</style>\n",
       "<table border=\"1\" class=\"dataframe\">\n",
       "  <thead>\n",
       "    <tr style=\"text-align: right;\">\n",
       "      <th></th>\n",
       "      <th>permno</th>\n",
       "      <th>dlstdt</th>\n",
       "      <th>dlstcd</th>\n",
       "      <th>nwperm</th>\n",
       "      <th>nwcomp</th>\n",
       "      <th>nextdt</th>\n",
       "      <th>dlamt</th>\n",
       "      <th>dlretx</th>\n",
       "      <th>dlprc</th>\n",
       "      <th>dlpdt</th>\n",
       "      <th>dlret</th>\n",
       "      <th>permco</th>\n",
       "      <th>compno</th>\n",
       "      <th>issuno</th>\n",
       "      <th>hexcd</th>\n",
       "      <th>hsiccd</th>\n",
       "      <th>cusip</th>\n",
       "      <th>acperm</th>\n",
       "      <th>accomp</th>\n",
       "    </tr>\n",
       "  </thead>\n",
       "  <tbody>\n",
       "    <tr>\n",
       "      <th>997</th>\n",
       "      <td>10997.0</td>\n",
       "      <td>1926-02-24</td>\n",
       "      <td>500.0</td>\n",
       "      <td>0.0</td>\n",
       "      <td>0.0</td>\n",
       "      <td>1926-02-27</td>\n",
       "      <td>0.563</td>\n",
       "      <td>0.126</td>\n",
       "      <td>-0.563</td>\n",
       "      <td>1926-02-27</td>\n",
       "      <td>0.126</td>\n",
       "      <td>28445.0</td>\n",
       "      <td>0.0</td>\n",
       "      <td>0.0</td>\n",
       "      <td>1.0</td>\n",
       "      <td>2910.0</td>\n",
       "      <td>12799090</td>\n",
       "      <td>None</td>\n",
       "      <td>None</td>\n",
       "    </tr>\n",
       "    <tr>\n",
       "      <th>3363</th>\n",
       "      <td>13514.0</td>\n",
       "      <td>1926-03-01</td>\n",
       "      <td>500.0</td>\n",
       "      <td>0.0</td>\n",
       "      <td>0.0</td>\n",
       "      <td>1926-04-30</td>\n",
       "      <td>0.000</td>\n",
       "      <td>NaN</td>\n",
       "      <td>-111.500</td>\n",
       "      <td>None</td>\n",
       "      <td>NaN</td>\n",
       "      <td>22445.0</td>\n",
       "      <td>0.0</td>\n",
       "      <td>0.0</td>\n",
       "      <td>1.0</td>\n",
       "      <td>4000.0</td>\n",
       "      <td>65299090</td>\n",
       "      <td>None</td>\n",
       "      <td>None</td>\n",
       "    </tr>\n",
       "  </tbody>\n",
       "</table>\n",
       "</div>"
      ],
      "text/plain": [
       "       permno      dlstdt  dlstcd  nwperm  nwcomp      nextdt  dlamt  dlretx  \\\n",
       "997   10997.0  1926-02-24   500.0     0.0     0.0  1926-02-27  0.563   0.126   \n",
       "3363  13514.0  1926-03-01   500.0     0.0     0.0  1926-04-30  0.000     NaN   \n",
       "\n",
       "        dlprc       dlpdt  dlret   permco  compno  issuno  hexcd  hsiccd  \\\n",
       "997    -0.563  1926-02-27  0.126  28445.0     0.0     0.0    1.0  2910.0   \n",
       "3363 -111.500        None    NaN  22445.0     0.0     0.0    1.0  4000.0   \n",
       "\n",
       "         cusip acperm accomp  \n",
       "997   12799090   None   None  \n",
       "3363  65299090   None   None  "
      ]
     },
     "execution_count": 6,
     "metadata": {},
     "output_type": "execute_result"
    }
   ],
   "source": [
    "df=df[df['dlstcd']!=100]\n",
    "print(df.shape)\n",
    "df= df.sort_values('dlstdt')\n",
    "df.head(2)"
   ]
  },
  {
   "cell_type": "code",
   "execution_count": 7,
   "id": "12294722-f388-4d2c-b977-5f3bbe2045f3",
   "metadata": {},
   "outputs": [
    {
     "data": {
      "text/html": [
       "<div>\n",
       "<style scoped>\n",
       "    .dataframe tbody tr th:only-of-type {\n",
       "        vertical-align: middle;\n",
       "    }\n",
       "\n",
       "    .dataframe tbody tr th {\n",
       "        vertical-align: top;\n",
       "    }\n",
       "\n",
       "    .dataframe thead th {\n",
       "        text-align: right;\n",
       "    }\n",
       "</style>\n",
       "<table border=\"1\" class=\"dataframe\">\n",
       "  <thead>\n",
       "    <tr style=\"text-align: right;\">\n",
       "      <th></th>\n",
       "      <th>permno</th>\n",
       "      <th>dlstdt</th>\n",
       "      <th>dlstcd</th>\n",
       "      <th>nwperm</th>\n",
       "      <th>nwcomp</th>\n",
       "      <th>nextdt</th>\n",
       "      <th>dlamt</th>\n",
       "      <th>dlretx</th>\n",
       "      <th>dlprc</th>\n",
       "      <th>dlpdt</th>\n",
       "      <th>dlret</th>\n",
       "      <th>permco</th>\n",
       "      <th>compno</th>\n",
       "      <th>issuno</th>\n",
       "      <th>hexcd</th>\n",
       "      <th>hsiccd</th>\n",
       "      <th>cusip</th>\n",
       "      <th>acperm</th>\n",
       "      <th>accomp</th>\n",
       "      <th>dlst_y</th>\n",
       "    </tr>\n",
       "  </thead>\n",
       "  <tbody>\n",
       "    <tr>\n",
       "      <th>997</th>\n",
       "      <td>10997.0</td>\n",
       "      <td>1926-02-24</td>\n",
       "      <td>500.0</td>\n",
       "      <td>0.0</td>\n",
       "      <td>0.0</td>\n",
       "      <td>1926-02-27</td>\n",
       "      <td>0.563</td>\n",
       "      <td>0.126</td>\n",
       "      <td>-0.563</td>\n",
       "      <td>1926-02-27</td>\n",
       "      <td>0.126</td>\n",
       "      <td>28445.0</td>\n",
       "      <td>0.0</td>\n",
       "      <td>0.0</td>\n",
       "      <td>1.0</td>\n",
       "      <td>2910.0</td>\n",
       "      <td>12799090</td>\n",
       "      <td>None</td>\n",
       "      <td>None</td>\n",
       "      <td>1926</td>\n",
       "    </tr>\n",
       "    <tr>\n",
       "      <th>3363</th>\n",
       "      <td>13514.0</td>\n",
       "      <td>1926-03-01</td>\n",
       "      <td>500.0</td>\n",
       "      <td>0.0</td>\n",
       "      <td>0.0</td>\n",
       "      <td>1926-04-30</td>\n",
       "      <td>0.000</td>\n",
       "      <td>NaN</td>\n",
       "      <td>-111.500</td>\n",
       "      <td>None</td>\n",
       "      <td>NaN</td>\n",
       "      <td>22445.0</td>\n",
       "      <td>0.0</td>\n",
       "      <td>0.0</td>\n",
       "      <td>1.0</td>\n",
       "      <td>4000.0</td>\n",
       "      <td>65299090</td>\n",
       "      <td>None</td>\n",
       "      <td>None</td>\n",
       "      <td>1926</td>\n",
       "    </tr>\n",
       "  </tbody>\n",
       "</table>\n",
       "</div>"
      ],
      "text/plain": [
       "       permno      dlstdt  dlstcd  nwperm  nwcomp      nextdt  dlamt  dlretx  \\\n",
       "997   10997.0  1926-02-24   500.0     0.0     0.0  1926-02-27  0.563   0.126   \n",
       "3363  13514.0  1926-03-01   500.0     0.0     0.0  1926-04-30  0.000     NaN   \n",
       "\n",
       "        dlprc       dlpdt  dlret   permco  compno  issuno  hexcd  hsiccd  \\\n",
       "997    -0.563  1926-02-27  0.126  28445.0     0.0     0.0    1.0  2910.0   \n",
       "3363 -111.500        None    NaN  22445.0     0.0     0.0    1.0  4000.0   \n",
       "\n",
       "         cusip acperm accomp  dlst_y  \n",
       "997   12799090   None   None    1926  \n",
       "3363  65299090   None   None    1926  "
      ]
     },
     "execution_count": 7,
     "metadata": {},
     "output_type": "execute_result"
    }
   ],
   "source": [
    "df['dlst_y']=pd.to_datetime(df['dlstdt']).dt.year\n",
    "df.head(2)"
   ]
  },
  {
   "cell_type": "code",
   "execution_count": 8,
   "id": "5d537dce-c429-4e02-8dcc-d56cfe0e9dfe",
   "metadata": {},
   "outputs": [],
   "source": [
    "df= df[df['dlst_y']>=1990]"
   ]
  },
  {
   "cell_type": "code",
   "execution_count": 9,
   "id": "f76f769c-3326-44c6-a66f-d8908b5480b9",
   "metadata": {},
   "outputs": [
    {
     "data": {
      "text/html": [
       "<div>\n",
       "<style scoped>\n",
       "    .dataframe tbody tr th:only-of-type {\n",
       "        vertical-align: middle;\n",
       "    }\n",
       "\n",
       "    .dataframe tbody tr th {\n",
       "        vertical-align: top;\n",
       "    }\n",
       "\n",
       "    .dataframe thead th {\n",
       "        text-align: right;\n",
       "    }\n",
       "</style>\n",
       "<table border=\"1\" class=\"dataframe\">\n",
       "  <thead>\n",
       "    <tr style=\"text-align: right;\">\n",
       "      <th>dlstcd_1</th>\n",
       "      <th>2.0</th>\n",
       "      <th>3.0</th>\n",
       "      <th>4.0</th>\n",
       "      <th>5.0</th>\n",
       "    </tr>\n",
       "    <tr>\n",
       "      <th>dlst_y</th>\n",
       "      <th></th>\n",
       "      <th></th>\n",
       "      <th></th>\n",
       "      <th></th>\n",
       "    </tr>\n",
       "  </thead>\n",
       "  <tbody>\n",
       "    <tr>\n",
       "      <th>1990</th>\n",
       "      <td>204</td>\n",
       "      <td>4</td>\n",
       "      <td>9</td>\n",
       "      <td>345</td>\n",
       "    </tr>\n",
       "    <tr>\n",
       "      <th>1991</th>\n",
       "      <td>122</td>\n",
       "      <td>4</td>\n",
       "      <td>12</td>\n",
       "      <td>370</td>\n",
       "    </tr>\n",
       "    <tr>\n",
       "      <th>1992</th>\n",
       "      <td>137</td>\n",
       "      <td>73</td>\n",
       "      <td>9</td>\n",
       "      <td>400</td>\n",
       "    </tr>\n",
       "    <tr>\n",
       "      <th>1993</th>\n",
       "      <td>180</td>\n",
       "      <td>10</td>\n",
       "      <td>3</td>\n",
       "      <td>174</td>\n",
       "    </tr>\n",
       "    <tr>\n",
       "      <th>1994</th>\n",
       "      <td>283</td>\n",
       "      <td>7</td>\n",
       "      <td>3</td>\n",
       "      <td>203</td>\n",
       "    </tr>\n",
       "  </tbody>\n",
       "</table>\n",
       "</div>"
      ],
      "text/plain": [
       "dlstcd_1  2.0  3.0  4.0  5.0\n",
       "dlst_y                      \n",
       "1990      204    4    9  345\n",
       "1991      122    4   12  370\n",
       "1992      137   73    9  400\n",
       "1993      180   10    3  174\n",
       "1994      283    7    3  203"
      ]
     },
     "execution_count": 9,
     "metadata": {},
     "output_type": "execute_result"
    }
   ],
   "source": [
    "df['dlstcd_1']= df['dlstcd']//100\n",
    "dist= df.groupby(['dlst_y', 'dlstcd_1']).size().reset_index().pivot(index= 'dlst_y', columns='dlstcd_1', values= 0)\n",
    "dist.head()"
   ]
  },
  {
   "cell_type": "code",
   "execution_count": 14,
   "id": "225c53ca-2831-4874-abe6-8d183c1d1041",
   "metadata": {},
   "outputs": [
    {
     "data": {
      "text/html": [
       "<div>\n",
       "<style scoped>\n",
       "    .dataframe tbody tr th:only-of-type {\n",
       "        vertical-align: middle;\n",
       "    }\n",
       "\n",
       "    .dataframe tbody tr th {\n",
       "        vertical-align: top;\n",
       "    }\n",
       "\n",
       "    .dataframe thead th {\n",
       "        text-align: right;\n",
       "    }\n",
       "</style>\n",
       "<table border=\"1\" class=\"dataframe\">\n",
       "  <thead>\n",
       "    <tr style=\"text-align: right;\">\n",
       "      <th>dlstcd_1</th>\n",
       "      <th>Mergers</th>\n",
       "      <th>Exchanges</th>\n",
       "      <th>Liquidiations</th>\n",
       "      <th>Dropped</th>\n",
       "    </tr>\n",
       "    <tr>\n",
       "      <th>dlst_y</th>\n",
       "      <th></th>\n",
       "      <th></th>\n",
       "      <th></th>\n",
       "      <th></th>\n",
       "    </tr>\n",
       "  </thead>\n",
       "  <tbody>\n",
       "    <tr>\n",
       "      <th>1990</th>\n",
       "      <td>204</td>\n",
       "      <td>4</td>\n",
       "      <td>9</td>\n",
       "      <td>345</td>\n",
       "    </tr>\n",
       "    <tr>\n",
       "      <th>1991</th>\n",
       "      <td>122</td>\n",
       "      <td>4</td>\n",
       "      <td>12</td>\n",
       "      <td>370</td>\n",
       "    </tr>\n",
       "  </tbody>\n",
       "</table>\n",
       "</div>"
      ],
      "text/plain": [
       "dlstcd_1  Mergers  Exchanges  Liquidiations  Dropped\n",
       "dlst_y                                              \n",
       "1990          204          4              9      345\n",
       "1991          122          4             12      370"
      ]
     },
     "execution_count": 14,
     "metadata": {},
     "output_type": "execute_result"
    }
   ],
   "source": [
    "dist= dist.rename(columns={2.0:'Mergers', 3.0:'Exchanges', 4.0:'Liquidiations', 5.0:'Dropped'})\n",
    "dist.head(2)"
   ]
  },
  {
   "cell_type": "code",
   "execution_count": 15,
   "id": "d9d61596-5d36-45ef-b5c8-dcd6f0665434",
   "metadata": {},
   "outputs": [
    {
     "data": {
      "image/png": "[encoded data removed]",
      "text/plain": [
       "<Figure size 720x360 with 1 Axes>"
      ]
     },
     "metadata": {
      "needs_background": "light"
     },
     "output_type": "display_data"
    }
   ],
   "source": [
    "dist.plot(kind='bar', grid= True, stacked= True, figsize= (10,5))\n",
    "plt.show()"
   ]
  },
  {
   "cell_type": "markdown",
   "id": "4f1a0f49-8ace-405e-866b-c3b735985463",
   "metadata": {},
   "source": [
    "---------"
   ]
  },
  {
   "cell_type": "markdown",
   "id": "3b95792b-8834-4a5c-990f-61404d19d466",
   "metadata": {},
   "source": [
    "### Close connection"
   ]
  },
  {
   "cell_type": "code",
   "execution_count": 11,
   "id": "0dcdca25-d8b5-4076-9be9-91dbe8a5127a",
   "metadata": {},
   "outputs": [],
   "source": [
    "conn.close()"
   ]
  },
  {
   "cell_type": "markdown",
   "id": "867ba998-bfc9-437a-ab7c-7b31a28710c3",
   "metadata": {},
   "source": [
    "---------"
   ]
  }
 ],
 "metadata": {
  "kernelspec": {
   "display_name": "sec",
   "language": "python",
   "name": "sec"
  },
  "language_info": {
   "codemirror_mode": {
    "name": "ipython",
    "version": 3
   },
   "file_extension": ".py",
   "mimetype": "text/x-python",
   "name": "python",
   "nbconvert_exporter": "python",
   "pygments_lexer": "ipython3",
   "version": "3.8.8"
  },
  "widgets": {
   "application/vnd.jupyter.widget-state+json": {
    "state": {},
    "version_major": 2,
    "version_minor": 0
   }
  }
 },
 "nbformat": 4,
 "nbformat_minor": 5
}
